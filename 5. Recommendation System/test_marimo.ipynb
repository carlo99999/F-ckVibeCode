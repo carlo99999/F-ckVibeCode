{
 "cells": [
  {
   "cell_type": "code",
   "execution_count": 1,
   "id": "Hbol",
   "metadata": {},
   "outputs": [],
   "source": [
    "import marimo as mo\n",
    "import pandas as pd\n",
    "import plotly\n",
    "import plotly.graph_objects as go\n",
    "import plotly.express as px\n",
    "import torch\n",
    "import torch.nn as nn\n",
    "import torch.optim as optim\n",
    "import joblib\n",
    "import os"
   ]
  },
  {
   "cell_type": "code",
   "execution_count": 2,
   "id": "MJUe",
   "metadata": {},
   "outputs": [],
   "source": [
    "from pathlib import Path\n",
    "\n",
    "data_path=Path(\"data\")\n",
    "\n",
    "genome_scores_data_path=data_path/\"genome_scores.csv\"\n",
    "genome_tags_data_path=data_path/\"genome_tags.csv\"\n",
    "link_data_path=data_path/\"link.csv\"\n",
    "movie_data_path=data_path / \"movie.csv\"\n",
    "rating_data_path= data_path / \"rating.csv\"\n",
    "tag_data_path= data_path / \"tag.csv\""
   ]
  },
  {
   "cell_type": "code",
   "execution_count": 3,
   "id": "vblA",
   "metadata": {},
   "outputs": [],
   "source": [
    "rating=pd.read_csv(rating_data_path)\n",
    "rating.timestamp=pd.to_datetime(rating.timestamp)\n",
    "rating[\"timestamp\"]=pd.to_datetime(rating[\"timestamp\"])\n",
    "rating:pd.DataFrame=rating.sort_values(by=[\"userId\",\"timestamp\"],ascending=[True,False])"
   ]
  },
  {
   "cell_type": "code",
   "execution_count": 4,
   "id": "Xref",
   "metadata": {},
   "outputs": [],
   "source": [
    "genome_df=pd.read_csv(genome_scores_data_path)"
   ]
  },
  {
   "cell_type": "code",
   "execution_count": 5,
   "id": "SFPL",
   "metadata": {},
   "outputs": [
    {
     "data": {
      "text/html": [
       "<div>\n",
       "<style scoped>\n",
       "    .dataframe tbody tr th:only-of-type {\n",
       "        vertical-align: middle;\n",
       "    }\n",
       "\n",
       "    .dataframe tbody tr th {\n",
       "        vertical-align: top;\n",
       "    }\n",
       "\n",
       "    .dataframe thead th {\n",
       "        text-align: right;\n",
       "    }\n",
       "</style>\n",
       "<table border=\"1\" class=\"dataframe\">\n",
       "  <thead>\n",
       "    <tr style=\"text-align: right;\">\n",
       "      <th></th>\n",
       "      <th>movieId</th>\n",
       "      <th>tagId</th>\n",
       "      <th>relevance</th>\n",
       "    </tr>\n",
       "  </thead>\n",
       "  <tbody>\n",
       "    <tr>\n",
       "      <th>0</th>\n",
       "      <td>1</td>\n",
       "      <td>1</td>\n",
       "      <td>0.02500</td>\n",
       "    </tr>\n",
       "    <tr>\n",
       "      <th>1</th>\n",
       "      <td>1</td>\n",
       "      <td>2</td>\n",
       "      <td>0.02500</td>\n",
       "    </tr>\n",
       "    <tr>\n",
       "      <th>2</th>\n",
       "      <td>1</td>\n",
       "      <td>3</td>\n",
       "      <td>0.05775</td>\n",
       "    </tr>\n",
       "    <tr>\n",
       "      <th>3</th>\n",
       "      <td>1</td>\n",
       "      <td>4</td>\n",
       "      <td>0.09675</td>\n",
       "    </tr>\n",
       "    <tr>\n",
       "      <th>4</th>\n",
       "      <td>1</td>\n",
       "      <td>5</td>\n",
       "      <td>0.14675</td>\n",
       "    </tr>\n",
       "    <tr>\n",
       "      <th>...</th>\n",
       "      <td>...</td>\n",
       "      <td>...</td>\n",
       "      <td>...</td>\n",
       "    </tr>\n",
       "    <tr>\n",
       "      <th>11709763</th>\n",
       "      <td>131170</td>\n",
       "      <td>1124</td>\n",
       "      <td>0.58775</td>\n",
       "    </tr>\n",
       "    <tr>\n",
       "      <th>11709764</th>\n",
       "      <td>131170</td>\n",
       "      <td>1125</td>\n",
       "      <td>0.01075</td>\n",
       "    </tr>\n",
       "    <tr>\n",
       "      <th>11709765</th>\n",
       "      <td>131170</td>\n",
       "      <td>1126</td>\n",
       "      <td>0.01575</td>\n",
       "    </tr>\n",
       "    <tr>\n",
       "      <th>11709766</th>\n",
       "      <td>131170</td>\n",
       "      <td>1127</td>\n",
       "      <td>0.11450</td>\n",
       "    </tr>\n",
       "    <tr>\n",
       "      <th>11709767</th>\n",
       "      <td>131170</td>\n",
       "      <td>1128</td>\n",
       "      <td>0.02175</td>\n",
       "    </tr>\n",
       "  </tbody>\n",
       "</table>\n",
       "<p>11709768 rows × 3 columns</p>\n",
       "</div>"
      ],
      "text/plain": [
       "          movieId  tagId  relevance\n",
       "0               1      1    0.02500\n",
       "1               1      2    0.02500\n",
       "2               1      3    0.05775\n",
       "3               1      4    0.09675\n",
       "4               1      5    0.14675\n",
       "...           ...    ...        ...\n",
       "11709763   131170   1124    0.58775\n",
       "11709764   131170   1125    0.01075\n",
       "11709765   131170   1126    0.01575\n",
       "11709766   131170   1127    0.11450\n",
       "11709767   131170   1128    0.02175\n",
       "\n",
       "[11709768 rows x 3 columns]"
      ]
     },
     "execution_count": 5,
     "metadata": {},
     "output_type": "execute_result"
    }
   ],
   "source": [
    "genome_df"
   ]
  },
  {
   "cell_type": "code",
   "execution_count": 6,
   "id": "BYtC",
   "metadata": {},
   "outputs": [
    {
     "data": {
      "text/plain": [
       "array([     1,      2,      3, ..., 131013, 131168, 131170],\n",
       "      shape=(10381,))"
      ]
     },
     "execution_count": 6,
     "metadata": {},
     "output_type": "execute_result"
    }
   ],
   "source": [
    "genome_df.movieId.unique()"
   ]
  },
  {
   "cell_type": "code",
   "execution_count": 7,
   "id": "RGSE",
   "metadata": {},
   "outputs": [],
   "source": [
    "import numpy as np\n",
    "genome_group=genome_df.groupby(\"movieId\")\n",
    "\n",
    "genome_matrix=np.array([np.array(genome_group.get_group(x)[\"relevance\"].to_list()) for x in genome_group.groups])"
   ]
  },
  {
   "cell_type": "code",
   "execution_count": 8,
   "id": "Kclp",
   "metadata": {},
   "outputs": [
    {
     "data": {
      "text/plain": [
       "array([[0.025  , 0.025  , 0.05775, ..., 0.03625, 0.07775, 0.023  ],\n",
       "       [0.03975, 0.04375, 0.03775, ..., 0.01475, 0.09025, 0.01875],\n",
       "       [0.0435 , 0.05475, 0.028  , ..., 0.0195 , 0.097  , 0.0185 ],\n",
       "       ...,\n",
       "       [0.042  , 0.03175, 0.017  , ..., 0.0095 , 0.0755 , 0.01625],\n",
       "       [0.05975, 0.10375, 0.1785 , ..., 0.51925, 0.067  , 0.01725],\n",
       "       [0.05325, 0.08625, 0.017  , ..., 0.01575, 0.1145 , 0.02175]],\n",
       "      shape=(10381, 1128))"
      ]
     },
     "execution_count": 8,
     "metadata": {},
     "output_type": "execute_result"
    }
   ],
   "source": [
    "genome_matrix"
   ]
  },
  {
   "cell_type": "code",
   "execution_count": 9,
   "id": "emfo",
   "metadata": {},
   "outputs": [],
   "source": [
    "## I wanna create en embedding model for the movies, since we have lot of infos for each movie, but i need to scale down a lot the dimensions, i think the best way is to use an autoencoder\n",
    "\n",
    "class Encoder(nn.Module):\n",
    "\n",
    "    def __init__(self, n_labels, hidden_dimensions=512, n_layers=3, output_dim=10, dropout:float=0.2):\n",
    "        super().__init__()\n",
    "        layers=[]\n",
    "        layers.append(nn.Linear(n_labels,hidden_dimensions))\n",
    "        layers.append(nn.Dropout(0.2))\n",
    "        layers.append(nn.ReLU())\n",
    "        for _ in range(n_layers):\n",
    "            layers.append(nn.Linear(hidden_dimensions,hidden_dimensions))\n",
    "            layers.append(nn.Dropout(dropout))\n",
    "            layers.append(nn.ReLU())\n",
    "        layers.append(nn.Linear(hidden_dimensions,output_dim))\n",
    "        self.model=nn.Sequential(*layers)\n",
    "\n",
    "    def forward(self,x):\n",
    "        return self.model(x)\n",
    "\n",
    "class Decoder(nn.Module):\n",
    "\n",
    "    def __init__(self, n_labels, hidden_dimensions=512, n_layers=3, output_dim=10,dropout:float=0.2):\n",
    "        super().__init__()\n",
    "        layers=[]\n",
    "        layers.append(nn.Linear(output_dim,hidden_dimensions))\n",
    "        layers.append(nn.Dropout(dropout))\n",
    "        layers.append(nn.ReLU())\n",
    "        for _ in range(n_layers):\n",
    "            layers.append(nn.Linear(hidden_dimensions,hidden_dimensions))\n",
    "            layers.append(nn.Dropout(dropout))\n",
    "            layers.append(nn.ReLU())\n",
    "        layers.append(nn.Linear(hidden_dimensions,n_labels))\n",
    "        self.model=nn.Sequential(*layers)\n",
    "\n",
    "    def forward(self,x):\n",
    "        return self.model(x)\n",
    "\n",
    "\n",
    "class AutoEncoder(nn.Module):\n",
    "\n",
    "    def __init__(self, n_labels, hidden_dimensions=512, n_layers=3, output_dim=10,dropout:float=0.2):\n",
    "        super().__init__()\n",
    "        self.encoder=Encoder(n_labels, hidden_dimensions, n_layers, output_dim, dropout)\n",
    "        self.decoder=Decoder(n_labels, hidden_dimensions, n_layers, output_dim, dropout)\n",
    "\n",
    "    def forward(self,x):\n",
    "        x=self.encode(x)\n",
    "        x=self.decode(x)\n",
    "        return x\n",
    "\n",
    "    def encode(self,x):\n",
    "        return self.encoder(x)\n",
    "\n",
    "    def decode(self,x):\n",
    "        return self.decoder(x)"
   ]
  },
  {
   "cell_type": "code",
   "execution_count": 10,
   "id": "Hstk",
   "metadata": {},
   "outputs": [],
   "source": [
    "import random\n",
    "from sklearn.model_selection import train_test_split\n",
    "\n",
    "\n",
    "train_sample,test_sample=train_test_split(genome_matrix,train_size=0.8)\n",
    "\n",
    "\n",
    "test_sample=torch.from_numpy(test_sample)"
   ]
  },
  {
   "cell_type": "code",
   "execution_count": 11,
   "id": "nWHF",
   "metadata": {},
   "outputs": [
    {
     "data": {
      "text/plain": [
       "array([[0.0185 , 0.02075, 0.026  , ..., 0.7805 , 0.058  , 0.01575],\n",
       "       [0.043  , 0.05425, 0.127  , ..., 0.041  , 0.0585 , 0.0175 ],\n",
       "       [0.0345 , 0.03625, 0.03925, ..., 0.01175, 0.09775, 0.02775],\n",
       "       ...,\n",
       "       [0.04525, 0.037  , 0.01825, ..., 0.01175, 0.10775, 0.018  ],\n",
       "       [0.054  , 0.06025, 0.042  , ..., 0.01375, 0.069  , 0.016  ],\n",
       "       [0.033  , 0.039  , 0.0975 , ..., 0.01   , 0.056  , 0.019  ]],\n",
       "      shape=(8304, 1128))"
      ]
     },
     "execution_count": 11,
     "metadata": {},
     "output_type": "execute_result"
    }
   ],
   "source": [
    "train_sample"
   ]
  },
  {
   "cell_type": "code",
   "execution_count": 12,
   "id": "iLit",
   "metadata": {},
   "outputs": [
    {
     "data": {
      "text/plain": [
       "2077"
      ]
     },
     "execution_count": 12,
     "metadata": {},
     "output_type": "execute_result"
    }
   ],
   "source": [
    "len(test_sample)"
   ]
  },
  {
   "cell_type": "code",
   "execution_count": 13,
   "id": "ZHCJ",
   "metadata": {},
   "outputs": [],
   "source": [
    "from torch.utils.data import DataLoader,Dataset\n",
    "\n",
    "\n",
    "\n",
    "device=\"cuda\" if torch.cuda.is_available() else \"mps\" if torch.backends.mps.is_available() else \"cpu\"\n",
    "model=AutoEncoder(n_labels=len(genome_matrix[0])).to(device)\n",
    "dataloader=DataLoader(dataset=torch.from_numpy(train_sample),shuffle=True,batch_size=1024)\n",
    "optimizer=optim.AdamW(params=model.parameters(),lr=0.0006)\n",
    "criterion=nn.MSELoss()"
   ]
  },
  {
   "cell_type": "code",
   "execution_count": 14,
   "id": "ROlb",
   "metadata": {},
   "outputs": [],
   "source": [
    "losses=[]\n",
    "val_losses=[]"
   ]
  },
  {
   "cell_type": "code",
   "execution_count": 15,
   "id": "qnkX",
   "metadata": {},
   "outputs": [],
   "source": [
    "def validate_model(model,criterion,X,y=None,threshold=0.0005,verbose=False):\n",
    "    model.eval()\n",
    "    with torch.no_grad():\n",
    "        output=model(X.float().to(device))\n",
    "        y=y or X\n",
    "        y=y.float().to(device)\n",
    "        loss=criterion(y,output)\n",
    "        if verbose: print(f\"Validation Loss: {loss.item()}\")\n",
    "        return loss.item()<=threshold,loss.item()"
   ]
  },
  {
   "cell_type": "code",
   "execution_count": 16,
   "id": "TqIu",
   "metadata": {},
   "outputs": [
    {
     "name": "stderr",
     "output_type": "stream",
     "text": [
      "100%|██████████| 21/21 [00:03<00:00,  6.39it/s]\n"
     ]
    }
   ],
   "source": [
    "import tqdm\n",
    "\n",
    "\n",
    "for _ in tqdm.tqdm(range(21)):\n",
    "    model.train()\n",
    "    for batch in dataloader:\n",
    "        batch=batch.float().to(device)\n",
    "        with torch.autocast(device_type=device):\n",
    "            output=model(batch)\n",
    "            loss=criterion(batch,output)\n",
    "        optimizer.zero_grad()\n",
    "        loss.backward()\n",
    "        optimizer.step()\n",
    "        losses.append(loss.item())\n",
    "    if _%10==0:\n",
    "        is_model_validated,val_loss=validate_model(model,criterion=criterion,verbose=False,X=test_sample)\n",
    "        #print(f\"Test Loss:{loss.item()}\")\n",
    "        val_losses.append(val_loss)\n",
    "        if is_model_validated:\n",
    "            break"
   ]
  },
  {
   "cell_type": "code",
   "execution_count": 17,
   "id": "Vxnm",
   "metadata": {},
   "outputs": [
    {
     "name": "stdout",
     "output_type": "stream",
     "text": [
      "Validation Loss: 0.012048648670315742\n"
     ]
    },
    {
     "data": {
      "text/plain": [
       "(False, 0.012048648670315742)"
      ]
     },
     "execution_count": 17,
     "metadata": {},
     "output_type": "execute_result"
    }
   ],
   "source": [
    "validate_model(model,criterion=criterion,verbose=True,X=test_sample)"
   ]
  },
  {
   "cell_type": "code",
   "execution_count": 18,
   "id": "DnEU",
   "metadata": {},
   "outputs": [
    {
     "data": {
      "application/vnd.plotly.v1+json": {
       "config": {
        "plotlyServerURL": "https://plot.ly"
       },
       "data": [
        {
         "hovertemplate": "variable=0<br>index=%{x}<br>value=%{y}<extra></extra>",
         "legendgroup": "0",
         "line": {
          "color": "#636efa",
          "dash": "solid"
         },
         "marker": {
          "symbol": "circle"
         },
         "mode": "lines",
         "name": "0",
         "orientation": "v",
         "showlegend": true,
         "type": "scatter",
         "x": {
          "bdata": "AAEC",
          "dtype": "i1"
         },
         "xaxis": "x",
         "y": {
          "bdata": "AAAAgGHLkT8AAAAA7R6KPwAAAED2rIg/",
          "dtype": "f8"
         },
         "yaxis": "y"
        }
       ],
       "layout": {
        "legend": {
         "title": {
          "text": "variable"
         },
         "tracegroupgap": 0
        },
        "margin": {
         "t": 60
        },
        "template": {
         "data": {
          "bar": [
           {
            "error_x": {
             "color": "#2a3f5f"
            },
            "error_y": {
             "color": "#2a3f5f"
            },
            "marker": {
             "line": {
              "color": "#E5ECF6",
              "width": 0.5
             },
             "pattern": {
              "fillmode": "overlay",
              "size": 10,
              "solidity": 0.2
             }
            },
            "type": "bar"
           }
          ],
          "barpolar": [
           {
            "marker": {
             "line": {
              "color": "#E5ECF6",
              "width": 0.5
             },
             "pattern": {
              "fillmode": "overlay",
              "size": 10,
              "solidity": 0.2
             }
            },
            "type": "barpolar"
           }
          ],
          "carpet": [
           {
            "aaxis": {
             "endlinecolor": "#2a3f5f",
             "gridcolor": "white",
             "linecolor": "white",
             "minorgridcolor": "white",
             "startlinecolor": "#2a3f5f"
            },
            "baxis": {
             "endlinecolor": "#2a3f5f",
             "gridcolor": "white",
             "linecolor": "white",
             "minorgridcolor": "white",
             "startlinecolor": "#2a3f5f"
            },
            "type": "carpet"
           }
          ],
          "choropleth": [
           {
            "colorbar": {
             "outlinewidth": 0,
             "ticks": ""
            },
            "type": "choropleth"
           }
          ],
          "contour": [
           {
            "colorbar": {
             "outlinewidth": 0,
             "ticks": ""
            },
            "colorscale": [
             [
              0,
              "#0d0887"
             ],
             [
              0.1111111111111111,
              "#46039f"
             ],
             [
              0.2222222222222222,
              "#7201a8"
             ],
             [
              0.3333333333333333,
              "#9c179e"
             ],
             [
              0.4444444444444444,
              "#bd3786"
             ],
             [
              0.5555555555555556,
              "#d8576b"
             ],
             [
              0.6666666666666666,
              "#ed7953"
             ],
             [
              0.7777777777777778,
              "#fb9f3a"
             ],
             [
              0.8888888888888888,
              "#fdca26"
             ],
             [
              1,
              "#f0f921"
             ]
            ],
            "type": "contour"
           }
          ],
          "contourcarpet": [
           {
            "colorbar": {
             "outlinewidth": 0,
             "ticks": ""
            },
            "type": "contourcarpet"
           }
          ],
          "heatmap": [
           {
            "colorbar": {
             "outlinewidth": 0,
             "ticks": ""
            },
            "colorscale": [
             [
              0,
              "#0d0887"
             ],
             [
              0.1111111111111111,
              "#46039f"
             ],
             [
              0.2222222222222222,
              "#7201a8"
             ],
             [
              0.3333333333333333,
              "#9c179e"
             ],
             [
              0.4444444444444444,
              "#bd3786"
             ],
             [
              0.5555555555555556,
              "#d8576b"
             ],
             [
              0.6666666666666666,
              "#ed7953"
             ],
             [
              0.7777777777777778,
              "#fb9f3a"
             ],
             [
              0.8888888888888888,
              "#fdca26"
             ],
             [
              1,
              "#f0f921"
             ]
            ],
            "type": "heatmap"
           }
          ],
          "histogram": [
           {
            "marker": {
             "pattern": {
              "fillmode": "overlay",
              "size": 10,
              "solidity": 0.2
             }
            },
            "type": "histogram"
           }
          ],
          "histogram2d": [
           {
            "colorbar": {
             "outlinewidth": 0,
             "ticks": ""
            },
            "colorscale": [
             [
              0,
              "#0d0887"
             ],
             [
              0.1111111111111111,
              "#46039f"
             ],
             [
              0.2222222222222222,
              "#7201a8"
             ],
             [
              0.3333333333333333,
              "#9c179e"
             ],
             [
              0.4444444444444444,
              "#bd3786"
             ],
             [
              0.5555555555555556,
              "#d8576b"
             ],
             [
              0.6666666666666666,
              "#ed7953"
             ],
             [
              0.7777777777777778,
              "#fb9f3a"
             ],
             [
              0.8888888888888888,
              "#fdca26"
             ],
             [
              1,
              "#f0f921"
             ]
            ],
            "type": "histogram2d"
           }
          ],
          "histogram2dcontour": [
           {
            "colorbar": {
             "outlinewidth": 0,
             "ticks": ""
            },
            "colorscale": [
             [
              0,
              "#0d0887"
             ],
             [
              0.1111111111111111,
              "#46039f"
             ],
             [
              0.2222222222222222,
              "#7201a8"
             ],
             [
              0.3333333333333333,
              "#9c179e"
             ],
             [
              0.4444444444444444,
              "#bd3786"
             ],
             [
              0.5555555555555556,
              "#d8576b"
             ],
             [
              0.6666666666666666,
              "#ed7953"
             ],
             [
              0.7777777777777778,
              "#fb9f3a"
             ],
             [
              0.8888888888888888,
              "#fdca26"
             ],
             [
              1,
              "#f0f921"
             ]
            ],
            "type": "histogram2dcontour"
           }
          ],
          "mesh3d": [
           {
            "colorbar": {
             "outlinewidth": 0,
             "ticks": ""
            },
            "type": "mesh3d"
           }
          ],
          "parcoords": [
           {
            "line": {
             "colorbar": {
              "outlinewidth": 0,
              "ticks": ""
             }
            },
            "type": "parcoords"
           }
          ],
          "pie": [
           {
            "automargin": true,
            "type": "pie"
           }
          ],
          "scatter": [
           {
            "fillpattern": {
             "fillmode": "overlay",
             "size": 10,
             "solidity": 0.2
            },
            "type": "scatter"
           }
          ],
          "scatter3d": [
           {
            "line": {
             "colorbar": {
              "outlinewidth": 0,
              "ticks": ""
             }
            },
            "marker": {
             "colorbar": {
              "outlinewidth": 0,
              "ticks": ""
             }
            },
            "type": "scatter3d"
           }
          ],
          "scattercarpet": [
           {
            "marker": {
             "colorbar": {
              "outlinewidth": 0,
              "ticks": ""
             }
            },
            "type": "scattercarpet"
           }
          ],
          "scattergeo": [
           {
            "marker": {
             "colorbar": {
              "outlinewidth": 0,
              "ticks": ""
             }
            },
            "type": "scattergeo"
           }
          ],
          "scattergl": [
           {
            "marker": {
             "colorbar": {
              "outlinewidth": 0,
              "ticks": ""
             }
            },
            "type": "scattergl"
           }
          ],
          "scattermap": [
           {
            "marker": {
             "colorbar": {
              "outlinewidth": 0,
              "ticks": ""
             }
            },
            "type": "scattermap"
           }
          ],
          "scattermapbox": [
           {
            "marker": {
             "colorbar": {
              "outlinewidth": 0,
              "ticks": ""
             }
            },
            "type": "scattermapbox"
           }
          ],
          "scatterpolar": [
           {
            "marker": {
             "colorbar": {
              "outlinewidth": 0,
              "ticks": ""
             }
            },
            "type": "scatterpolar"
           }
          ],
          "scatterpolargl": [
           {
            "marker": {
             "colorbar": {
              "outlinewidth": 0,
              "ticks": ""
             }
            },
            "type": "scatterpolargl"
           }
          ],
          "scatterternary": [
           {
            "marker": {
             "colorbar": {
              "outlinewidth": 0,
              "ticks": ""
             }
            },
            "type": "scatterternary"
           }
          ],
          "surface": [
           {
            "colorbar": {
             "outlinewidth": 0,
             "ticks": ""
            },
            "colorscale": [
             [
              0,
              "#0d0887"
             ],
             [
              0.1111111111111111,
              "#46039f"
             ],
             [
              0.2222222222222222,
              "#7201a8"
             ],
             [
              0.3333333333333333,
              "#9c179e"
             ],
             [
              0.4444444444444444,
              "#bd3786"
             ],
             [
              0.5555555555555556,
              "#d8576b"
             ],
             [
              0.6666666666666666,
              "#ed7953"
             ],
             [
              0.7777777777777778,
              "#fb9f3a"
             ],
             [
              0.8888888888888888,
              "#fdca26"
             ],
             [
              1,
              "#f0f921"
             ]
            ],
            "type": "surface"
           }
          ],
          "table": [
           {
            "cells": {
             "fill": {
              "color": "#EBF0F8"
             },
             "line": {
              "color": "white"
             }
            },
            "header": {
             "fill": {
              "color": "#C8D4E3"
             },
             "line": {
              "color": "white"
             }
            },
            "type": "table"
           }
          ]
         },
         "layout": {
          "annotationdefaults": {
           "arrowcolor": "#2a3f5f",
           "arrowhead": 0,
           "arrowwidth": 1
          },
          "autotypenumbers": "strict",
          "coloraxis": {
           "colorbar": {
            "outlinewidth": 0,
            "ticks": ""
           }
          },
          "colorscale": {
           "diverging": [
            [
             0,
             "#8e0152"
            ],
            [
             0.1,
             "#c51b7d"
            ],
            [
             0.2,
             "#de77ae"
            ],
            [
             0.3,
             "#f1b6da"
            ],
            [
             0.4,
             "#fde0ef"
            ],
            [
             0.5,
             "#f7f7f7"
            ],
            [
             0.6,
             "#e6f5d0"
            ],
            [
             0.7,
             "#b8e186"
            ],
            [
             0.8,
             "#7fbc41"
            ],
            [
             0.9,
             "#4d9221"
            ],
            [
             1,
             "#276419"
            ]
           ],
           "sequential": [
            [
             0,
             "#0d0887"
            ],
            [
             0.1111111111111111,
             "#46039f"
            ],
            [
             0.2222222222222222,
             "#7201a8"
            ],
            [
             0.3333333333333333,
             "#9c179e"
            ],
            [
             0.4444444444444444,
             "#bd3786"
            ],
            [
             0.5555555555555556,
             "#d8576b"
            ],
            [
             0.6666666666666666,
             "#ed7953"
            ],
            [
             0.7777777777777778,
             "#fb9f3a"
            ],
            [
             0.8888888888888888,
             "#fdca26"
            ],
            [
             1,
             "#f0f921"
            ]
           ],
           "sequentialminus": [
            [
             0,
             "#0d0887"
            ],
            [
             0.1111111111111111,
             "#46039f"
            ],
            [
             0.2222222222222222,
             "#7201a8"
            ],
            [
             0.3333333333333333,
             "#9c179e"
            ],
            [
             0.4444444444444444,
             "#bd3786"
            ],
            [
             0.5555555555555556,
             "#d8576b"
            ],
            [
             0.6666666666666666,
             "#ed7953"
            ],
            [
             0.7777777777777778,
             "#fb9f3a"
            ],
            [
             0.8888888888888888,
             "#fdca26"
            ],
            [
             1,
             "#f0f921"
            ]
           ]
          },
          "colorway": [
           "#636efa",
           "#EF553B",
           "#00cc96",
           "#ab63fa",
           "#FFA15A",
           "#19d3f3",
           "#FF6692",
           "#B6E880",
           "#FF97FF",
           "#FECB52"
          ],
          "font": {
           "color": "#2a3f5f"
          },
          "geo": {
           "bgcolor": "white",
           "lakecolor": "white",
           "landcolor": "#E5ECF6",
           "showlakes": true,
           "showland": true,
           "subunitcolor": "white"
          },
          "hoverlabel": {
           "align": "left"
          },
          "hovermode": "closest",
          "mapbox": {
           "style": "light"
          },
          "paper_bgcolor": "white",
          "plot_bgcolor": "#E5ECF6",
          "polar": {
           "angularaxis": {
            "gridcolor": "white",
            "linecolor": "white",
            "ticks": ""
           },
           "bgcolor": "#E5ECF6",
           "radialaxis": {
            "gridcolor": "white",
            "linecolor": "white",
            "ticks": ""
           }
          },
          "scene": {
           "xaxis": {
            "backgroundcolor": "#E5ECF6",
            "gridcolor": "white",
            "gridwidth": 2,
            "linecolor": "white",
            "showbackground": true,
            "ticks": "",
            "zerolinecolor": "white"
           },
           "yaxis": {
            "backgroundcolor": "#E5ECF6",
            "gridcolor": "white",
            "gridwidth": 2,
            "linecolor": "white",
            "showbackground": true,
            "ticks": "",
            "zerolinecolor": "white"
           },
           "zaxis": {
            "backgroundcolor": "#E5ECF6",
            "gridcolor": "white",
            "gridwidth": 2,
            "linecolor": "white",
            "showbackground": true,
            "ticks": "",
            "zerolinecolor": "white"
           }
          },
          "shapedefaults": {
           "line": {
            "color": "#2a3f5f"
           }
          },
          "ternary": {
           "aaxis": {
            "gridcolor": "white",
            "linecolor": "white",
            "ticks": ""
           },
           "baxis": {
            "gridcolor": "white",
            "linecolor": "white",
            "ticks": ""
           },
           "bgcolor": "#E5ECF6",
           "caxis": {
            "gridcolor": "white",
            "linecolor": "white",
            "ticks": ""
           }
          },
          "title": {
           "x": 0.05
          },
          "xaxis": {
           "automargin": true,
           "gridcolor": "white",
           "linecolor": "white",
           "ticks": "",
           "title": {
            "standoff": 15
           },
           "zerolinecolor": "white",
           "zerolinewidth": 2
          },
          "yaxis": {
           "automargin": true,
           "gridcolor": "white",
           "linecolor": "white",
           "ticks": "",
           "title": {
            "standoff": 15
           },
           "zerolinecolor": "white",
           "zerolinewidth": 2
          }
         }
        },
        "xaxis": {
         "anchor": "y",
         "domain": [
          0,
          1
         ],
         "title": {
          "text": "index"
         }
        },
        "yaxis": {
         "anchor": "x",
         "domain": [
          0,
          1
         ],
         "title": {
          "text": "value"
         }
        }
       }
      }
     },
     "metadata": {},
     "output_type": "display_data"
    }
   ],
   "source": [
    "plot_fig2=px.line(val_losses)\n",
    "plot_fig2.show()"
   ]
  },
  {
   "cell_type": "code",
   "execution_count": 19,
   "id": "ulZA",
   "metadata": {},
   "outputs": [
    {
     "data": {
      "application/vnd.plotly.v1+json": {
       "config": {
        "plotlyServerURL": "https://plot.ly"
       },
       "data": [
        {
         "hovertemplate": "variable=0<br>index=%{x}<br>value=%{y}<extra></extra>",
         "legendgroup": "0",
         "line": {
          "color": "#636efa",
          "dash": "solid"
         },
         "marker": {
          "symbol": "circle"
         },
         "mode": "lines",
         "name": "0",
         "orientation": "v",
         "showlegend": true,
         "type": "scatter",
         "x": {
          "bdata": "AAABAAIAAwAEAAUABgAHAAgACQAKAAsADAANAA4ADwAQABEAEgATABQAFQAWABcAGAAZABoAGwAcAB0AHgAfACAAIQAiACMAJAAlACYAJwAoACkAKgArACwALQAuAC8AMAAxADIAMwA0ADUANgA3ADgAOQA6ADsAPAA9AD4APwBAAEEAQgBDAEQARQBGAEcASABJAEoASwBMAE0ATgBPAFAAUQBSAFMAVABVAFYAVwBYAFkAWgBbAFwAXQBeAF8AYABhAGIAYwBkAGUAZgBnAGgAaQBqAGsAbABtAG4AbwBwAHEAcgBzAHQAdQB2AHcAeAB5AHoAewB8AH0AfgB/AIAAgQCCAIMAhACFAIYAhwCIAIkAigCLAIwAjQCOAI8AkACRAJIAkwCUAJUAlgCXAJgAmQCaAJsAnACdAJ4AnwCgAKEAogCjAKQApQCmAKcAqACpAKoAqwCsAK0ArgCvALAAsQCyALMAtAC1ALYAtwC4ALkAugC7ALwA",
          "dtype": "i2"
         },
         "xaxis": "x",
         "y": {
          "bdata": "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",
          "dtype": "f8"
         },
         "yaxis": "y"
        }
       ],
       "layout": {
        "legend": {
         "title": {
          "text": "variable"
         },
         "tracegroupgap": 0
        },
        "margin": {
         "t": 60
        },
        "template": {
         "data": {
          "bar": [
           {
            "error_x": {
             "color": "#2a3f5f"
            },
            "error_y": {
             "color": "#2a3f5f"
            },
            "marker": {
             "line": {
              "color": "#E5ECF6",
              "width": 0.5
             },
             "pattern": {
              "fillmode": "overlay",
              "size": 10,
              "solidity": 0.2
             }
            },
            "type": "bar"
           }
          ],
          "barpolar": [
           {
            "marker": {
             "line": {
              "color": "#E5ECF6",
              "width": 0.5
             },
             "pattern": {
              "fillmode": "overlay",
              "size": 10,
              "solidity": 0.2
             }
            },
            "type": "barpolar"
           }
          ],
          "carpet": [
           {
            "aaxis": {
             "endlinecolor": "#2a3f5f",
             "gridcolor": "white",
             "linecolor": "white",
             "minorgridcolor": "white",
             "startlinecolor": "#2a3f5f"
            },
            "baxis": {
             "endlinecolor": "#2a3f5f",
             "gridcolor": "white",
             "linecolor": "white",
             "minorgridcolor": "white",
             "startlinecolor": "#2a3f5f"
            },
            "type": "carpet"
           }
          ],
          "choropleth": [
           {
            "colorbar": {
             "outlinewidth": 0,
             "ticks": ""
            },
            "type": "choropleth"
           }
          ],
          "contour": [
           {
            "colorbar": {
             "outlinewidth": 0,
             "ticks": ""
            },
            "colorscale": [
             [
              0,
              "#0d0887"
             ],
             [
              0.1111111111111111,
              "#46039f"
             ],
             [
              0.2222222222222222,
              "#7201a8"
             ],
             [
              0.3333333333333333,
              "#9c179e"
             ],
             [
              0.4444444444444444,
              "#bd3786"
             ],
             [
              0.5555555555555556,
              "#d8576b"
             ],
             [
              0.6666666666666666,
              "#ed7953"
             ],
             [
              0.7777777777777778,
              "#fb9f3a"
             ],
             [
              0.8888888888888888,
              "#fdca26"
             ],
             [
              1,
              "#f0f921"
             ]
            ],
            "type": "contour"
           }
          ],
          "contourcarpet": [
           {
            "colorbar": {
             "outlinewidth": 0,
             "ticks": ""
            },
            "type": "contourcarpet"
           }
          ],
          "heatmap": [
           {
            "colorbar": {
             "outlinewidth": 0,
             "ticks": ""
            },
            "colorscale": [
             [
              0,
              "#0d0887"
             ],
             [
              0.1111111111111111,
              "#46039f"
             ],
             [
              0.2222222222222222,
              "#7201a8"
             ],
             [
              0.3333333333333333,
              "#9c179e"
             ],
             [
              0.4444444444444444,
              "#bd3786"
             ],
             [
              0.5555555555555556,
              "#d8576b"
             ],
             [
              0.6666666666666666,
              "#ed7953"
             ],
             [
              0.7777777777777778,
              "#fb9f3a"
             ],
             [
              0.8888888888888888,
              "#fdca26"
             ],
             [
              1,
              "#f0f921"
             ]
            ],
            "type": "heatmap"
           }
          ],
          "histogram": [
           {
            "marker": {
             "pattern": {
              "fillmode": "overlay",
              "size": 10,
              "solidity": 0.2
             }
            },
            "type": "histogram"
           }
          ],
          "histogram2d": [
           {
            "colorbar": {
             "outlinewidth": 0,
             "ticks": ""
            },
            "colorscale": [
             [
              0,
              "#0d0887"
             ],
             [
              0.1111111111111111,
              "#46039f"
             ],
             [
              0.2222222222222222,
              "#7201a8"
             ],
             [
              0.3333333333333333,
              "#9c179e"
             ],
             [
              0.4444444444444444,
              "#bd3786"
             ],
             [
              0.5555555555555556,
              "#d8576b"
             ],
             [
              0.6666666666666666,
              "#ed7953"
             ],
             [
              0.7777777777777778,
              "#fb9f3a"
             ],
             [
              0.8888888888888888,
              "#fdca26"
             ],
             [
              1,
              "#f0f921"
             ]
            ],
            "type": "histogram2d"
           }
          ],
          "histogram2dcontour": [
           {
            "colorbar": {
             "outlinewidth": 0,
             "ticks": ""
            },
            "colorscale": [
             [
              0,
              "#0d0887"
             ],
             [
              0.1111111111111111,
              "#46039f"
             ],
             [
              0.2222222222222222,
              "#7201a8"
             ],
             [
              0.3333333333333333,
              "#9c179e"
             ],
             [
              0.4444444444444444,
              "#bd3786"
             ],
             [
              0.5555555555555556,
              "#d8576b"
             ],
             [
              0.6666666666666666,
              "#ed7953"
             ],
             [
              0.7777777777777778,
              "#fb9f3a"
             ],
             [
              0.8888888888888888,
              "#fdca26"
             ],
             [
              1,
              "#f0f921"
             ]
            ],
            "type": "histogram2dcontour"
           }
          ],
          "mesh3d": [
           {
            "colorbar": {
             "outlinewidth": 0,
             "ticks": ""
            },
            "type": "mesh3d"
           }
          ],
          "parcoords": [
           {
            "line": {
             "colorbar": {
              "outlinewidth": 0,
              "ticks": ""
             }
            },
            "type": "parcoords"
           }
          ],
          "pie": [
           {
            "automargin": true,
            "type": "pie"
           }
          ],
          "scatter": [
           {
            "fillpattern": {
             "fillmode": "overlay",
             "size": 10,
             "solidity": 0.2
            },
            "type": "scatter"
           }
          ],
          "scatter3d": [
           {
            "line": {
             "colorbar": {
              "outlinewidth": 0,
              "ticks": ""
             }
            },
            "marker": {
             "colorbar": {
              "outlinewidth": 0,
              "ticks": ""
             }
            },
            "type": "scatter3d"
           }
          ],
          "scattercarpet": [
           {
            "marker": {
             "colorbar": {
              "outlinewidth": 0,
              "ticks": ""
             }
            },
            "type": "scattercarpet"
           }
          ],
          "scattergeo": [
           {
            "marker": {
             "colorbar": {
              "outlinewidth": 0,
              "ticks": ""
             }
            },
            "type": "scattergeo"
           }
          ],
          "scattergl": [
           {
            "marker": {
             "colorbar": {
              "outlinewidth": 0,
              "ticks": ""
             }
            },
            "type": "scattergl"
           }
          ],
          "scattermap": [
           {
            "marker": {
             "colorbar": {
              "outlinewidth": 0,
              "ticks": ""
             }
            },
            "type": "scattermap"
           }
          ],
          "scattermapbox": [
           {
            "marker": {
             "colorbar": {
              "outlinewidth": 0,
              "ticks": ""
             }
            },
            "type": "scattermapbox"
           }
          ],
          "scatterpolar": [
           {
            "marker": {
             "colorbar": {
              "outlinewidth": 0,
              "ticks": ""
             }
            },
            "type": "scatterpolar"
           }
          ],
          "scatterpolargl": [
           {
            "marker": {
             "colorbar": {
              "outlinewidth": 0,
              "ticks": ""
             }
            },
            "type": "scatterpolargl"
           }
          ],
          "scatterternary": [
           {
            "marker": {
             "colorbar": {
              "outlinewidth": 0,
              "ticks": ""
             }
            },
            "type": "scatterternary"
           }
          ],
          "surface": [
           {
            "colorbar": {
             "outlinewidth": 0,
             "ticks": ""
            },
            "colorscale": [
             [
              0,
              "#0d0887"
             ],
             [
              0.1111111111111111,
              "#46039f"
             ],
             [
              0.2222222222222222,
              "#7201a8"
             ],
             [
              0.3333333333333333,
              "#9c179e"
             ],
             [
              0.4444444444444444,
              "#bd3786"
             ],
             [
              0.5555555555555556,
              "#d8576b"
             ],
             [
              0.6666666666666666,
              "#ed7953"
             ],
             [
              0.7777777777777778,
              "#fb9f3a"
             ],
             [
              0.8888888888888888,
              "#fdca26"
             ],
             [
              1,
              "#f0f921"
             ]
            ],
            "type": "surface"
           }
          ],
          "table": [
           {
            "cells": {
             "fill": {
              "color": "#EBF0F8"
             },
             "line": {
              "color": "white"
             }
            },
            "header": {
             "fill": {
              "color": "#C8D4E3"
             },
             "line": {
              "color": "white"
             }
            },
            "type": "table"
           }
          ]
         },
         "layout": {
          "annotationdefaults": {
           "arrowcolor": "#2a3f5f",
           "arrowhead": 0,
           "arrowwidth": 1
          },
          "autotypenumbers": "strict",
          "coloraxis": {
           "colorbar": {
            "outlinewidth": 0,
            "ticks": ""
           }
          },
          "colorscale": {
           "diverging": [
            [
             0,
             "#8e0152"
            ],
            [
             0.1,
             "#c51b7d"
            ],
            [
             0.2,
             "#de77ae"
            ],
            [
             0.3,
             "#f1b6da"
            ],
            [
             0.4,
             "#fde0ef"
            ],
            [
             0.5,
             "#f7f7f7"
            ],
            [
             0.6,
             "#e6f5d0"
            ],
            [
             0.7,
             "#b8e186"
            ],
            [
             0.8,
             "#7fbc41"
            ],
            [
             0.9,
             "#4d9221"
            ],
            [
             1,
             "#276419"
            ]
           ],
           "sequential": [
            [
             0,
             "#0d0887"
            ],
            [
             0.1111111111111111,
             "#46039f"
            ],
            [
             0.2222222222222222,
             "#7201a8"
            ],
            [
             0.3333333333333333,
             "#9c179e"
            ],
            [
             0.4444444444444444,
             "#bd3786"
            ],
            [
             0.5555555555555556,
             "#d8576b"
            ],
            [
             0.6666666666666666,
             "#ed7953"
            ],
            [
             0.7777777777777778,
             "#fb9f3a"
            ],
            [
             0.8888888888888888,
             "#fdca26"
            ],
            [
             1,
             "#f0f921"
            ]
           ],
           "sequentialminus": [
            [
             0,
             "#0d0887"
            ],
            [
             0.1111111111111111,
             "#46039f"
            ],
            [
             0.2222222222222222,
             "#7201a8"
            ],
            [
             0.3333333333333333,
             "#9c179e"
            ],
            [
             0.4444444444444444,
             "#bd3786"
            ],
            [
             0.5555555555555556,
             "#d8576b"
            ],
            [
             0.6666666666666666,
             "#ed7953"
            ],
            [
             0.7777777777777778,
             "#fb9f3a"
            ],
            [
             0.8888888888888888,
             "#fdca26"
            ],
            [
             1,
             "#f0f921"
            ]
           ]
          },
          "colorway": [
           "#636efa",
           "#EF553B",
           "#00cc96",
           "#ab63fa",
           "#FFA15A",
           "#19d3f3",
           "#FF6692",
           "#B6E880",
           "#FF97FF",
           "#FECB52"
          ],
          "font": {
           "color": "#2a3f5f"
          },
          "geo": {
           "bgcolor": "white",
           "lakecolor": "white",
           "landcolor": "#E5ECF6",
           "showlakes": true,
           "showland": true,
           "subunitcolor": "white"
          },
          "hoverlabel": {
           "align": "left"
          },
          "hovermode": "closest",
          "mapbox": {
           "style": "light"
          },
          "paper_bgcolor": "white",
          "plot_bgcolor": "#E5ECF6",
          "polar": {
           "angularaxis": {
            "gridcolor": "white",
            "linecolor": "white",
            "ticks": ""
           },
           "bgcolor": "#E5ECF6",
           "radialaxis": {
            "gridcolor": "white",
            "linecolor": "white",
            "ticks": ""
           }
          },
          "scene": {
           "xaxis": {
            "backgroundcolor": "#E5ECF6",
            "gridcolor": "white",
            "gridwidth": 2,
            "linecolor": "white",
            "showbackground": true,
            "ticks": "",
            "zerolinecolor": "white"
           },
           "yaxis": {
            "backgroundcolor": "#E5ECF6",
            "gridcolor": "white",
            "gridwidth": 2,
            "linecolor": "white",
            "showbackground": true,
            "ticks": "",
            "zerolinecolor": "white"
           },
           "zaxis": {
            "backgroundcolor": "#E5ECF6",
            "gridcolor": "white",
            "gridwidth": 2,
            "linecolor": "white",
            "showbackground": true,
            "ticks": "",
            "zerolinecolor": "white"
           }
          },
          "shapedefaults": {
           "line": {
            "color": "#2a3f5f"
           }
          },
          "ternary": {
           "aaxis": {
            "gridcolor": "white",
            "linecolor": "white",
            "ticks": ""
           },
           "baxis": {
            "gridcolor": "white",
            "linecolor": "white",
            "ticks": ""
           },
           "bgcolor": "#E5ECF6",
           "caxis": {
            "gridcolor": "white",
            "linecolor": "white",
            "ticks": ""
           }
          },
          "title": {
           "x": 0.05
          },
          "xaxis": {
           "automargin": true,
           "gridcolor": "white",
           "linecolor": "white",
           "ticks": "",
           "title": {
            "standoff": 15
           },
           "zerolinecolor": "white",
           "zerolinewidth": 2
          },
          "yaxis": {
           "automargin": true,
           "gridcolor": "white",
           "linecolor": "white",
           "ticks": "",
           "title": {
            "standoff": 15
           },
           "zerolinecolor": "white",
           "zerolinewidth": 2
          }
         }
        },
        "xaxis": {
         "anchor": "y",
         "domain": [
          0,
          1
         ],
         "title": {
          "text": "index"
         }
        },
        "yaxis": {
         "anchor": "x",
         "domain": [
          0,
          1
         ],
         "title": {
          "text": "value"
         }
        }
       }
      }
     },
     "metadata": {},
     "output_type": "display_data"
    }
   ],
   "source": [
    "plot_fig=px.line(losses)\n",
    "plot_fig.show()"
   ]
  },
  {
   "cell_type": "code",
   "execution_count": 20,
   "id": "ecfG",
   "metadata": {},
   "outputs": [
    {
     "data": {
      "text/plain": [
       "array([0.025  , 0.025  , 0.05775, ..., 0.03625, 0.07775, 0.023  ],\n",
       "      shape=(1128,))"
      ]
     },
     "execution_count": 20,
     "metadata": {},
     "output_type": "execute_result"
    }
   ],
   "source": [
    "genome_matrix[0]"
   ]
  },
  {
   "cell_type": "code",
   "execution_count": 21,
   "id": "Pvdt",
   "metadata": {},
   "outputs": [],
   "source": [
    "movie_matrix=torch.from_numpy(genome_matrix).float().to(device)\n",
    "movie_matrix_encoded=model.encode(movie_matrix)"
   ]
  },
  {
   "cell_type": "code",
   "execution_count": 22,
   "id": "ZBYS",
   "metadata": {},
   "outputs": [],
   "source": [
    "movie_matrix_encoded_df=pd.DataFrame(movie_matrix_encoded.detach().cpu())\n",
    "movie_matrix_encoded_df.index=np.array(genome_group.groups.keys())"
   ]
  },
  {
   "cell_type": "code",
   "execution_count": 23,
   "id": "aLJB",
   "metadata": {},
   "outputs": [
    {
     "data": {
      "text/plain": [
       "tensor([0., 0., 0.,  ..., 0., 0., 0.])"
      ]
     },
     "execution_count": 23,
     "metadata": {},
     "output_type": "execute_result"
    }
   ],
   "source": [
    "torch.from_numpy(np.zeros(len(genome_matrix))).float()"
   ]
  },
  {
   "cell_type": "code",
   "execution_count": 24,
   "id": "nHfw",
   "metadata": {},
   "outputs": [
    {
     "data": {
      "text/plain": [
       "tensor([-0.0143, -0.0506,  0.0003,  0.0120, -0.0501, -0.0074, -0.0170, -0.0586,\n",
       "         0.0194,  0.0162], device='mps:0', grad_fn=<LinearBackward0>)"
      ]
     },
     "execution_count": 24,
     "metadata": {},
     "output_type": "execute_result"
    }
   ],
   "source": [
    "model.encode(torch.from_numpy(np.zeros(len(genome_matrix[0]))).float().to(device))"
   ]
  },
  {
   "cell_type": "code",
   "execution_count": 25,
   "id": "xXTn",
   "metadata": {},
   "outputs": [
    {
     "data": {
      "application/vnd.plotly.v1+json": {
       "config": {
        "plotlyServerURL": "https://plot.ly"
       },
       "data": [
        {
         "bingroup": "x",
         "hovertemplate": "variable=0<br>value=%{x}<br>count=%{y}<extra></extra>",
         "legendgroup": "0",
         "marker": {
          "color": "#636efa",
          "pattern": {
           "shape": ""
          }
         },
         "name": "0",
         "orientation": "v",
         "showlegend": true,
         "type": "histogram",
         "x": {
          "bdata": "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",
          "dtype": "f4"
         },
         "xaxis": "x",
         "yaxis": "y"
        },
        {
         "bingroup": "x",
         "hovertemplate": "variable=1<br>value=%{x}<br>count=%{y}<extra></extra>",
         "legendgroup": "1",
         "marker": {
          "color": "#EF553B",
          "pattern": {
           "shape": ""
          }
         },
         "name": "1",
         "orientation": "v",
         "showlegend": true,
         "type": "histogram",
         "x": {
          "bdata": "94R1vma3W77fQpG9MFEvvSHlmb03IRI+MAZrvaGniL1LtgC+046NvhYs37y415K9zrp6vf4zGD3cKza+sFIaPlAS5DpCyGk8Zrn4vVjg9b3k4z896AtEvDtxPb6XQwa+so+lPVqwJzwGYTy9qqi/u41/+T2wzBw9ZUKFvbxQQz5caN+9DLQCvaA7jTrAYbk9xtspvofRhb2g5lq9OWGLvFzZAz02RAg8RxORPINTmb79EZs8H9K9vEgggD7adne9zKJXvEPJlj7Xsco8YGnAvGDZd71kEze8c5yvvbPDTbzM8hE9tkYwPHzdfr28Ki29MCahOxknmb2BZYm9y/EFvjJ0cb5Ocwe9gfV5vABjDbr9sAm+bwvyvcC9Qrp6ywU98Blkve1Hmr3zBMa+ZocxvLCw9DumIES9qEp6u+xyNj0U8w09QMRROgJj/bzAZKY7WgdkvVhViL2wHKi9liilvWYIvryOXwS9ct65vUv3hDz75lC+YBZdu9TisT1EvBK9+0aevBBPo7t5sIA9Lx+jvZa7Gb2A7P+9agRKvP5hz7xGUI+9Le8ovYVhNz4ISWc+HE5lvocGAL33to48wHAWPGRNbD14yCu9hIsqvT3b+70O2HU8TghyvQhDXj0lLsg8S2cAvnaJODxS/um8SR61vJKCI70Ea8y9JcOavIru8LwWzeO8ipdmvWKEz7zgFtc61bhtvqJbmb0mVQk9gA3Pu5cakzw6h+69nRbQPA56XLzXF0a+ej4oPfqN5bx+aca7EmyDvSS+0b0tkMc80mAjvqHICr7etB49MsODvp+83jxbqbO++8YKvaaU37ut3Cu+N1imvTP6bb7/azC8EmblvmwQ7r4sVr+9frl/PGC5Gj16tdm9HnC+u+0SQ72DU6C8LigCvgKrHb03oh68AAa2OsbZQL7IUJ29CPnLvAfpOr6NdP68uLoTO5NASL2Ol5O8sOu2vbLXsj1sFzC9zBOuvnBeYLy897u9uc69PIjjVb08v3i9iOSMO/jnHb2rxhW+FMbxO4rC2bwkMVK9bRQCvyI1QL1azAS9QEYqu+twp71kpiw9TikkPZs+6DwzUtS9HHJ4vS5Y4rwQPYy8jtFIvd8NlrypYsw91Pu+vAxIGb1VjAi+/B1TvU1U4DxFi8k8EeQAvo097zwzQrg8EoSPvTSldD0Cy1O9tv4uveqsZ71aTYi9jSWmvcZya70srvg73lKRvURIgr20QN+88bvhPKGAkz0zMqi9vCppPRUtjL0u4D6+vSmNvazh4Dt0jGa8YN23vSYJwr2m2r28ZiyYvW4717xoZoa/uHWAvA9nVLyaZSs8pj0lPWLtBD1MDA89Nt7Iva7kHDwEGZy7yFhWvYC5A71z0/o8FOZivdUvh70A0329oqKEvaiBTr32Kem8KColPGalKj1JIL88oHdju97iz7wJaqS906zovW/VwLxECl09QulBvTK2yz2d35e9cP09vh8XKz4RHxK9o68rvcrsgD4arcG8TOONvPWdmDwg+VY9pmU8PKKUQj2PmJm95XokvaLGFb1itZY92qNqPVRZKj17lNs80YqHvcVOQr2XzzG9CS+BvbI0ejzLOPO9mZsVv4zdw70lAJU+KagGPrJ44LunVI488/TaPQBwzzhKQb69hQCVPdt4Gr5Cmhm+DF6Mvia8VL30Xoy75tCmvYki671woiS7pLuWOxrADz1Q8n2+YuBivQrFXryANm87gGSzOcjqc71gbPe9SK50u2Cb/ru6lVo8MUy7PFgA6b1Mq9W8eifuvEWRoLwjNIO+jGyAvBqWx71knyE+X6SJvP+OpryTfMe8nmaXvfxuZ71COH69wtBFPKA3Zb2Q4fS8F3O2vazVeb7xwCK+jsI5PKHmxb3rpIa8WMInvJyOtj3zNbm9kA4OPVi8qb3ry9C+ymiUvaspwr6t1Mm+LUi1vA8nlr3qkwG9lEQevUwljLzWi2i9AoXAvW6YMDzA5Ao7muPQvPSvCb1h+J+81d4+vjg7ET3vHo+9aMT7vMzoJb3QGBy+7hC6vMDICr3YAnm9JmR6vSIlhL3I6WS98gpLPAqusr3BBI69jLW6vbUfjb1YrMY7+o8DvZuZtb0N7Pu9vHjhvPx4lrwYgz6+Jp9xvaTIyrwdZsK9QDfrvCse4z38zKe91AOEvXHJ9T0ggtK9+9CBvW+ZZ77STgq+B8CovZ4lmL3rlq+9qjRevYbmA70bhNY89kbHvmz7Er36oB29m2CEvayobT2N/ZK9jz22PEQmV7wEGIa9lsoJvNAlKztUN269KVZKvMRPmr2BF5I9KLLQPUuMv7zgxKu9TBSQvSBywbzeuSq9ckdtvX1SHL7g5+c6+H8FvrqoA73Of8u8v14mvFFun734WUs9A2cuvVtB0r3iao49bTgEPusqFb2AuIg6djSBvcDKCb69gl2/pMZTPcwOBT2Sk6U96gV5vau4OL71iZG9dyKOvcCbCTqX1IO9UIAPPDIosrygkis9Vz6GPXQzar5qFmw8MFUlu4D/dblcsDq9OnIvvbKUZ70DtPM8jVK6vSzW3buW0GO+xqCwvS4zIDzHquM89MeZPYh5Oj3BD1S9URubvSxAXb6q1CC9QPSgud4XOj3JW4i9dAFDvSMwFr0ipYO+bRe2vZZCdz3HHY09oMGiOiiRsLzszI89yA4zO+1QdT7+D6C9pMxcPXeOMryqoKO8M5thvj29qTwwVUU9iqTpvEZ3irwtI8k82IhKvfGZhr2DRS8+Y4GVvYKAF73pwtS9+GABvYV2Kb4BN9e9uusYvlxsDz1MLtW8OF4mPaLiFL5cV2g98OUXvYc32D2sdwA9yDibvSvxprwSYxs9FMsPPStUszxAONm9a+OPPFEoq7yHEFG82yyEvTBJRbuYQzo7SRC8vO4oXTyS/YS9uyuBvR5cCb2bpvc8gzS5vI2bDbwyo4O9mHbcvcqN6L0j65a9E9p2v8GDsT0O0oS+ZqlpPnQeBb2iLxy9kUnrvCDOcb2yLai820wzPsAeIb0jVJ+8bN8RPLpffb1YH4G94eCsvcj3ND4DxZm9aIJAvvXLAL7O3jm9kiucvIKUQr1+NCE8IhJEvZDTOLt6oG69k7+DveyK5zscNwC9HvNgvcDMND2QRaQ9jFG7vOXWlb3ritM8pBW1vOZ3Cr68t5672SSdvdAYML1OywO9Ta+GvYp4ir1VoQS84+aAPA4uz77eua+7OxAzvAEJwr2SB628HoSzvpqqmr20hBC9aRXfPMAbvbwaKaG84olTvQfMA7wE2ke9hHtpPWjIwzstFrG9R56FPPML/DxdiQW+Dx3AvUhkE75u8hw+PB1dvO9pjjxgMnW6ANegvGAsPTr6MCK8i/aNvUqzSLwQ8Xu92cEMvgoTtb0m2PG8FPKAOyv0HL3h+9i8tq42vWthebyeokI8sI47vYZo771tkb48EG9TvSiwADyL4ka9qAxyvSrTfL3EkZe95OT5vKGZ0byqRIU9/9uLPOYaH73on7S8hCNIvbDpBL7+c1s9crksvONamr2GRlC9tS8DvaDg2LrY+uU7KLKyvNwwYb2W5u++OvSuvXh86juWpeK+4joxvpJJGT6E+4W9idLHvSxMbj1eAD098/LJvRbnqL7qGCw+xUykvE3VpLxS7Ye96O50vM55BL152f08hgJKvK6jED2heVi+IX23vWwGmr3+LTY8egN+vWf0hTw7jLq8AECavE2LOLzhOyc+6M1HvQhDSL/g+SG8YhJWvdJPO71hAhS9v688vduHgL5jVOO8ddUMvgrQy7zq5sq8ON6YvNCZnLtguWo7ABDwvLCNZ7yl5B2+qesAvrV4wj2knFu9vewWvijuUDscTLC8w3GxPFhc/TuEp+G8wlWPvTGv5701EAO+thp/vYRa07xjgYe9X+3GvMq7dbyeFCG9jgShvMDpgbsATga9phNlvehHq71c0VG9kp0/PEaPL762yae9mgiEvUIRDL09YjK+4K8lvRR8mrx/ddG92x6JvTCpET0YZt29UAIevU3WZrydb5i8EKfBOvAYcb0w/q87ZAhrvrixGTyvDfI8Ek9IvZ++sbzazbq7qIalvDtvdT5Ce428pSFqvqzs1byoXKG8LBP1u9ecrj0clZy9MLmFvJB9lLzdGbq9K2cKvaFBmTygzxe9EaKBvWtukL389+Q7T6tAvpAs2b1d2Za9gmsXvcb9U7wk22e9VejqvYk/uL1pFwO9hVnAvbaJ8rsATMQ7gl5NvQC4bDr4UCU9flcKPVfltDzOk3I8/q6RvJp3SzzR3g8+muwgPh75sz1OX4k9MPprvI4OBT63itA9fK9mPZCvqz1TWvk9NHsXPmxlkTtPFzW8eINgPSaoq7yDqpO8hfTbPKpaCD0WFzY9j/4tPiB1Bz4nX/Q91/OtvBm10T14VAK74bXjPQKIjT0t1Ow9PxqiPREgirytvoI9SlEFvVh3V7tLmqw8D9UlvPrFxLvKyBa9Sk0oPSMC5r3pfug94dWyPKgYJz2GLQg8SvxlPB5ecTwHrJI9YAXIPftgnz0UN4g9Sol1vPXamj2WCMo9VlYXPV6gTzy2U6i8uxkLvdJaZTxterK8NTgKvf6r8bzi7p68dqQ7PMddiT0UzsG83V7WvAgKJz1aTmI98A3EOpV1iz1i2Pa8jO4GPQHWRLyjT4G8WjjnvcXZjr2IyVG8xSFSvbjfSjsozru8GI59vCDcwbw2Wv+7ugS4vf3ktjxq1FW9oPykvJ6uaD1tIv29T8gHvGRpMb2DLpc8LUuEvJMsI72arzy9jay5vcTfl70RVxe9owWoveEqD74wsaC9DuKlvd5Svb26BZW8MFl4vd4vUL2/O4e9e1Sove/Mir0eeoi9ZphhvpWSjb3KUpK9PHIivfoqxbx1KUe9UF9Wva71XL1pTpO+LokBvXwh+bzCrHy9CpR1vRCec7x9vxO9xIG4O+G1jbyN6uG+eR7hvuDEQrquIM69roqVvJfY8Dx6cQO9HIwdvQgnzzsaw8+87/H6PHG7jb6wFA2+xxbIPBWjizxL97e8UMzhu6798L1263U8E81nvCpDl7z+uPi7APd7PRyFjD365ua7RsTbvA5kp70+nLW7JpwfvcY6pz2Srrc9qtVivXUOi7yQlH47wKybubp+ED2Y1gY9pT2WPJAPtz1tyag9qmdLvLCTEz0WX/+91nMFPhCqWz2JmNk95sRKvAySeL1Iy4U+Vw9PPrkYC76TGpw8A1/1PAEQ9Ty849E9rvaIPYJ0tb6+nzG9wESDu6PzLb7XV6q+3b2KvbvLlT2AfaQ9zu6Lvcqni70Lutw8ayLZvCafdL2wi8+7VaQRvNyh7zui/Xa80rlNPVLrcL2muUM8Qh4yPa7pj7wSw2q9zp0xv1/7pL1CAwa/5T1KvdBHuj3/baY9jD9qvSrQdb1+Bws+1TS1vMClIL0ad0K8LofXvH8GxT23W5w9XP+Au1GbzTxQwJq6UkpFPS/htLxoVQ881Cw2PQTjUD2cDR281T6OveXhkb3UdgA9SSfovSD1Oj1TR+A95MVTPdZgyrzDVgI+IOBIPeD5tLv42DI+qaOmPZJgVTx4oqa9Mn0FPbYqHD0fsoU9CYnRPL5ACjx80/q74sqGPZJ2HjzcAP28tPeWO3XPdz7J21S8PzBUvzAgkrwKdVO/WKsMPpNvFb8kBlA+BlwUPdw8Sj434hE+dvVEPl80wz0zcEE+QJNRPqo6b78amko9s6swPjX2iT6UbKE9hp2rvrst9zz+lzw+J3s7PqEVED72ZFI9uJ5QPi3ETj6bXbw8zpKHPXdVFD5lSoI9Vo8hPrFOVz45A489iVD9PXQMVT0Bxxs+tNdEPr4SmT10MBw9wB7LPfYwUzwZ5Xm/FuM0PB7IFT7u7jk9nJCPPYKqQT626NM9HxDdPTetMz4zpvI9OI0KPvdJmD3LGm4+koAKPcRxMj4NdoO+m8+NPS7PDj2KyB4+UZQIPkWCGz5ASiO8k14gPkfJFD4opEE9uq2PPX32Xj4nFCw+KL9hO9PohT05DTq/gROOPPXGCT5FmYw9PxAYPmfzKL8/Byg+0lJfPHoIdz3wXF89rN8KPjGtzz1AmhK7Bn8EPnhkBz7aqkM9b0ITvgns/D04jE89NIdbPe6ISL3zHza/PdXqPSVi4z2nW6o8wFgPOi64br4Mhpo9JhoNPrEp0Tweet6+sh4EPKXbGz73PQo+ZthKPfb9RL3gsa+6WLFeu0Dvqb3OIFK8NnZbvUp01Ly+WPS7EAjSvGsajryiD8C+TNgyPRh8t70TRdu9+mj/vZD60L0Egt29W/aGvekfur3/oQ69bR2evc26BL1bVhq8HTGqPUj0Nb7S0MC9l1fVvTpOED0Fye88raudPLxhFr1oWjK9vCZ9PT7Guz20ySQ9ryIKvQptD74qzTY9tg0GvRQdYT2mWig9UPWful/tQb3kmTs9+IAevQDxF7+UAM49lPEjPqjI+b0Fy1281SuNPQIKfb1Jd+E8lF8KPdB65zoyK5e9bZ6KvNcpxr6R4Kq+l2yqvnSWb77NUgq/Gs+rvqli2L72cVG+fx9ovrTqFr4eEly9uobPvdiMN76xl+m9/O/tvKqUer7zGtA9WAhEvvdDTr4D3qe91n1UvphOIDulm9w8aE+0PbisVLwPWKG+P4b1PKTCUb2SvCq8oBFzOi+ICLyfU4S9X1q1PJARMr7p25w9ztutva7uab2N6Og8pxnQPIIBPzyiV248IELGOy84vrzN/Di86mwmPYieLTua+b69T2HrPBaXTL1d7pK9M2jZvdHJS74SlD69Gg7bvWviyb1Rq4m939kSveNcS7wsF3y+UtebvbB7jr2+IJG8AKgpuKbsmryzSdW92Ao3PQyoDDwu10U9yILnOztrkr3umig8HgrcvMra4b1794O94sV8vCsf/bzeFpC9gnmlvaJqaL0k+YM90u5/PFXZEj6eKZG95xQBvSrk9Lx2EnW8lk03vbwap72vk/O82OMzO1yi27xjZFG+s5SVPDYQ47uUEAm8Hi0rPIlCC74gv1s6OakovVW8kb00e3O979EBvWUSDb79OpG8icP+vZDluTovsWG+UFa7PdUQP73BO488SHKuvdL6NTznKVS8lB7DOzYyET1EHKm7soCCvchI6TsemIu+nqw7PLJvVL5d2sS9+mpmvL7XJL2kaPi8I+ftvWm1kL09WTq/zUOMvJpwjbxjOrm9Oo/Eu5qMAbyDd4c85ACOO0rtnb0oqH671iJqvRDyhrsAUC860ELBvk/wjzyOvDY8AmtOvVYDkb10lWi9uoGQvS0OpL757cw8ZCybvJHpQ77cV1K+qGE9O6piO7zZI5+9MdKkvZzHyLtuEV+9Rt0ovQyQYLx13ao85y6+vkl1w7yOiYq82a0rv4MnmL30w3+9fr2lvbQjAb+i8aa8Ll6TvSC4K7/Uzsi93pMjPdpTkL5aXqi+8WaMvYqJdr14eYM9n6W0vUuUG7yngke+q8vjvdDFR77U7w28uI9wvRU/k72STEu+5+a0vUxrnr3oSUK+NSGuvvCIzbzFaH++cipZPBgFUL3MyVm8qmXbvMtfGr7/bWy+yc98Ptt9rTwW81i8/N6/vN3E4rwPyNC98sPMvKFO6T2ePrW9f0PGPOSgY73CgU49rVWAvdqoDj2Gp6Q9fE8lvZAPST2b8Jy9gVO0PCA0Ar3GzE89JI8MvlBAPD3VFdq9a4ywvS0rqzyAKq45VJhPvApBzbw/RBi9qcWePASvKr2Jesi9bo1XPEkwg7wS6MS9fb/VvE19uTzcDbi9MjkgvddqvTyHka+8jBuTvfdJKb0uRTW9rNsevZplaTxeCAg9S223PAp1uj146G49tMvrvJtVAb/t5ES88w61PK+Nz72YFWy7niVUvppiBj4yZXo8pVVnvFCbEr12Lh+9mD8VvrLtbb33O4m9n2XjvmRmnT0p5os8FmIzPNIwQjx0Uv68/azwPL3FqTysN/69Ie+lvf3pPT7v7969sOVZOwMsr72mMh692okPvuqQJ73ruAk+nVqMvqRTk74A8tC8JvKEvFXhZb6YfyK94L4tu40M5T34fGA9slLYvbZSCD4QjdM70nIIPfBTmjoyngG+howHve5lDr6YlJ29+TTZPOn9Ej4VKL085+HSvSHU8b10qVG9AzDFPA+lGLxTYu29DkE4Pc5GKD1a87G94duDvsRMYL0QLFa+pVqFvJ6Kur0iBZi9PDytvKLOvb0ZGXe+7Y0UvRHeJ7yU4JY9YhN+PUOjyTz8Vqa8Vo0iviYUFb1ogFU7A80+vKKhOD0iPKC9R/LHPYgIG76wqky9ZMsDPBaBer0fcKA8OfLePWFxozxABey8LFCbveiyfLxeTHy8nbELvbrcIb2oPRG9GNvJvXpiYjykeDK9mpzSvcFprzwI0ii8ZLTTvnKT4bupKNO9MXzoPYLQy704FdO78baHvUtwgb3FfMU8l6CNvDgWRD0zQ7k9D4niPCIaoL0hcaC8damiveg8Zb2u5dS9eGOFvHMDHb2z3Cu+4Fqau+njsT1rSoC8b/xwvpdvor2wskC+edRpvAXmFr4ONhi+duzUvccjkrxYBZI7vmXPu5VUoTyAuwS9cEfru4APBL/7S9G9BtakvRLeHTwWzhA9fQmgvb06t77wxgs7AhiXPeuBpzz0U5+9YajCvZ6UTr2Ktr09ENErvRJxIjwSTuq7aGc/u08G9r2wl5S9VtjFu1HY1DyTJrO8pZ+mvKgTIT1CY+O7lNtvvNSakbwTe/w8aaO/vAVXgb3foSS95pa2vmDNZrrt9Mm9YFBrPRa6HD1L/KE8O9GOPG2eGL+9dJS+txdHvZLoHb68UBs+WO6Muw7CtL0WygO+11eLvFoIvbxnwdE9sxJ1vDrhaz12nI28CD+2PZZ4aryopCs9YggLPKYmZT0Qxig9g7+PPJ4YDz6s1cs9Tlo8PVkj7TyVmvE9hNSYuzIskT2COTw+/DpbPXzq+jtg61g7eZW4Pd4lLT54Czm7Ky33PURzHT7V3Zs9MyOYPRYkzz04sTk9tp5VPY4zbzzHDe497aYIPtL4KD3O2Yo9yqZ+PTyu5juRCfM8Cf/XvTx2Lz2A7/y9SvcFvv1QD74Uvf697ov+vcWqHr5XBwW+W04ZvoH5AL4eY+29HWwIvj4FCL416hC+IaGpPDYA+72wf/e9caLcvf9F/r3WqaS9LyW3veHD/r2d3su9I93evaiqyr35zdm9GUwvvg3q/b1Uyfy9Yuq4PdRMCr4OtJK9hxX7vihvxr6yZp++t1ypvlWBAr660Ii+EoOxvozlNL1g35y7TqKlvhCcsD2nDO2+qBfEvgTgv74XhYe9IafhvVMi/L2hxYy9UyefvAESPT7IM5c950G8vvuJoT19PbA82DFqu3btPjxyOt69BxbBvUGQRj6H3Ka83g/NvTVClb3SzI29xArlvtHkr73jk6q9+VCIvZqk1r0dA6W9p6WhvRZQHb5Bs5O9MlaJvftyrL00Paa9FSyAvoklur0QVle9pN91vcNftr2Uw6O9FH2SvXbV8L145ky+IvLAvYjnh714Zm+9oG46vkbJhL2lqMS9MGMbPRCYfbv/taC8DLczPdakCz1sMwQ+0HikPXQHGT235b88lrAMPb73ET1sBz+9POyZu1Qd7Tszp/g8ZxzgPTzkJb2EVAS9FPC2vCiPLb1UYmm9HqunvXfyIb1yVXq95hNUvdTd9b04byO9XhqLvZ0Wjb1mCUK9dlypvWw9sL30MkW9jjaAvt/crL2i4SG9JvMmPPiRuL2poiG923ilvdxVa72uwO68GtONvaDOpbrdjBi/o29VvFDH6L11rJk84SaQPCDFgLrWNyS9hNotPXfr072djok87BIbvzdHDb5kpT49Bu+LPdWAcr5MJ2S9ISK9veBBAL5MSWG92ItQvaT5er1QqtO9AYzlvFkVtrw04Tw9+HBzPV933z0cyf29jJtavgUIo720YMC9UxyevCpqbD36SWc8Jti2vopmW701K5C9TUOnvkndubz6nTy9wn09vaxppL1OJOS9iHEEvkcpirwKu4+97TaavSes9r1AdWK9hB7TO2ZesLxRs6m8VPw7vZup2zzCPYM9jJB/vmfOz704m9i9nzK+vUQZBj0afxY9hi4Uv0xhYb1nSru90/mrvQD4uLtNECm9M7Q7vHtZzzxel1+8PbDsPXASg7t+8Yg9ItXHu1YUVjwawAw9nGGXPTh8TD0edj49jzSjPFVkFT6OzRk9dl01vSDtOrpKtx+9HPhmvBcGMrwG6w6/ZrtPPunAlL01dgu+Vii6vKDr/7oAcha5s7O9PIjKATyj5+Y9hIyxPfQ1Fj3AZQq6rBecPYPMHbyROLU9Z93GvGzpCj3RyJ88JlVEPQXT2r1weAc9eq3/vCAOUjuSWC+8sqMQPHhGmD2SwnA9RdIqvVcSBr3DwL88NBwOPVBSnbqMdM68KHh9vW4Vvr3cGi89pGuavSSRCL2Cqnm9A3AJvYe+/DzERVm919mrvDWol73x/JG9NKKjvWfxMb40Z1a9AlquvSJYNb4GR7e9vib5vNRdNb6S3GK900jZvRMKRL14uF+7uTHLPaDKT733Md88wvo0PH++kb4vd4q+jPEoPNmMiz0wWde9emVDPQAumrifKmq8AGY2u6abGT26DHw9eK/ZvRCsnb4ix4A9DTawPZTTrjuOENI9tI6MvfBXIr0PSdK90Grxuqfb170kzoS+/Ue4vfiVAj0PIem9Aj8kPNrxDj2HBtc9Yp9bPUeTi707Tf69tsVAvKXk974I7ys9GakKPux5OLyuFvS9AY6bvXRkdL3ILrM9yaKpPCVMgD3DCbe+UDb4u8JfED5PGda9mdPove6uLL4BR4g+6PYNPexv4rvoO0K9dza7PXbEJr4tPQi+f7fFPSpx7LucORy+EnmPvfFLFr1tErO8HvcvPc2P4jxg9Wu7yAtDu5BK3jp4Gi49SlkzPbiAeL08glQ9JwPqPEsgr75sh5K9aYhMvoJnn7y4K8M9moA6PT9i6Txl2ts92CGYvLj7Ib3PRC6++b/hvQFZKL52PR6+DiNMvjsnH74030C96r19vQTrzb14aAq+eW9FvukAGr45nca9bH82vqa2br7ySRK+wj4Kvl7J/b3O2QO+gVPtveZ1Br4y5FK93L2BvTBKpr2rbZm8lpEHvOBGfb0uqBY9WjUUPiw7o72thLi+l6YBvl7Gbj0lc4I8SHVgO8AYj7oJCNW9TP9svda3nz1tgJm+MAqNvjDJkL54gDC+auK0vg8fhb6Sedy9aLWGvprpgL4Wil2+prfbvRRxW70fV/G+IMp/vdHoDL4FTwi9MRuqvAO/jbzreqC+ZOk5vvBX+r0gJ/i9LQCOvTa8OD3KRfC8S4/sPFbeJ75mOl6+yx2avXK60L3Rs1S9AEW7ulAUhToinzs8CLqZu6eWljxzDtc97/yEPAA7xDkKL049UJSmO7cd+TyJaoa9wocrvYpuur3cwaq+aM4ovj8deb60igu+Nmm+vQDsN72VYiK9iI/tvUNQMb46dQ2+sbu2vTDtpDvYK8+9MEn9vXy+BL4oqB+9Ey3XvWhL3L24u+W8stnNPYl6rL1R40m9GZKbvks+Jb7G+JO95CDIvV6nQz2A4tc7Iz5pvgseEr4TIoy9OHEcO+bX9bthOMk8zuykveATd73BBbe9mdKNPfDRs70wNta9GUA0vdasODxmmT88ABDSt6U5rb00VlW9IlT+vchVLjvmrmS9RhGTPe2e0D1cWaq7fFD1vMi2uTvgDx+9orLmvDDgfb1ScqO9CL57PbBm6jolNJO9MVjwvTy+/b0BlRG+Sr21vZZQgby+8fa8vlQ/vilrBb4wyCC+qsjwvXbe177h7Ne9jkCfvmDOIb/E7xK/F8aEvvN4l773pp2+Xh5hvtJAYr6+YOu9kXpxvqTNML4Vj2W+NbqtvA5nxb3AIT69f+9QPiAnHruripG8ih/jvCywP718HOG9WLmEvtwB3DuSeBQ9zQKNvUMJizxNtdy9S6kHvmVdvzzWDJS9LgCevRSL8DuuQJO82zsLvVhlJzt0xcg763SkvdMxtb1AO/C9LszqvP50ibxrP4+/6kF3vbMutb2VwLk8TyAuvOqO1rz9+Fo+2PK8PY4Xlr1IGse9qCzmOzJTHT0TAwO9cMWDvbiMMb3JDHe8hD5rvO82DT6CuVg9oUbKvUPx47yyEUo9lDROvvSeqb3BpmG+2dvJveFC8TyFnII8m7+tPMIhUT0iM1A8ZcyXPdv+M771vj++X0uOvse7L77SehC/vqsoPNzODT3lr7k87FzHvDR/Uz22GCu+U4WNvDJKfrzVpj+/AfM/vfaT2buQ/Oe7Z04RvovOSb4fuCa+yyzqvYmxxr1rPwa+xRPFvE8vHb8Uysa+WrJivhjdjL6tFtc8anDEvbchwb3tIZU9ri5qvdvD770KnVa9iMTauwAVhb31fsY8nHgIvhrBJr7Yvaa8JpMkvR73G7524GG+zL4Av/lEdr4UfhE9kXxFvrNfEL78fwy+sEdWvgxxmbv5NYQ9QoRIvasRwb7wPvC7IP0qvLxY3LwFIY29YWe/PPeBwrxIjTu9y20xvQQWMD0glFa+HYyovEu1CD6+dbq9fU+IvID7LL3gZD07RLYoPeZ3Uj7gT+e7DM+9vWYzCzza93g8T6GPPCjcIb4ZZJk812dpvkQdqju8TCg8RvOuu9j5F77gJ6A9VBieuwR9Br5a7Pq82jgNPbUoC742LE29TRiRvNQ3Db/EyTa+tJkJvfBRRb7m9Qa+XL/OvBdgk74BUFC+zgmqvWZVbD3B01g+GDUSu2IeMz6Anbo94RHaPZw1vz3OjlI9r+euvSDUDz3feo6+AEJZOxNAyb1SxJS8/9qOPacLvb3GA5u9O95ivFZqGLzcmKY9UkiivLC7Gr0v0k6+ULjjOv8Rkjy+Fce9yMd9vZqtjr1xEq+9/4mmvZWm0r1S+B49y+zcvM9jDb2+7UI8qN9fPTtUUT6/8v+9zFYBPBLSZzysXfs78HXNvND1Lb3ZgoQ8pjpKvVCyOb3k3nu9W1sIvJwDI7yYq/87WhnovKeP2r3iF4O9m6NxvGOqubxYgni9+RSnPPpzDj3WliY9ml8cPMk5hr1avPS9uVKjPePBrL2JZ/W9qA3UvEHwAb4cQBS+TT67vRRWeL2YLJi9JzyTvYIrpb3BKsm9dBplvT4OfzyhCMa9sJeRvYrViz3X24u93i/NvUlXYr4V952+AuCzvYUj6z0u3Y298KrtOkbnjL3lX1y+3aovvq03Cb4/AQC+yB4RPiBhOryXwiq+ORKJPCpUabxDk7i+UAglvreD3725biC9kFmaOikPh71wTlG8d1iEvWw+Nb4sPo47ZNWqvDcsiTyzAy++9nkxPQB0nbe1uYA9/XbdPCakUr2Msu07SB/YO2jo9Ly+t008hbuvvkPZzj2uR/a76eDBvUTyBb7F84C96EkDu7Hddz42O0k9jIMTvleosb1+bLu8xfi2PBInhb3mLF+82MAKPXm/fL50AP69Dlj/u570yrvVEPg9WSj1vexIgLsuWRS9Sub0vJbsfr2V/Wy8hT8Svmq2ML6KD969wDKnvSc4lb1KAg09GHELuywLlr0xYQW+nimOvR0Sk73vK9Y9qkiKvArRSb2CSEG9NmuXvDBWkLsp11+8yvqYvUSdHb2kYJu9cf3Gvajes73rwMC9MGF4O5oICz5U0H+9Eh+6vc6/nT0UfL28NFneO52y8D0tn+m9cMsQvpDCyzqoR1+/RtqiPXcrjD2hxP08tnMOPRrOJj5b5fE9lNs7vT6XFz0ocH89YV8PvRDAZD0yJNS8+1fBPI8vhDwwmVw9C1vbPS00BrzgHQ09pKOQPTk2/DzSZxA9Rk4OPZU60T3fHd68oniPvRXEwjxtqOs9OLgavYB3YrlQIB2+hl1HvlUlO75QbeC9cu0cPskr7j3CqfC9LF7svBKanz4G9KW8dfWDvdd+3rwEtwE8Th7YvEfEhL6+lQk+IHwePfa7MjxwBwY8KFE6PUHxwzwLLuA88bzHPbUUgb6exAC9svsePXjfF73So629/K6WvcLJ7bwK3o29uS+XPTVK7Lx2WDe/gSCVvtjiAzx7ML081tWKvtLtNr72FGS+eEQ0vhTfe76kj4u7YqQivsDm2rz1+h8+GPvOvOS+qryfrgY+v6GVvZrHIjwR/Jw8xICsvf4Tab2Y2CE+J3b6PL48MD3k7D68epKzPViIg7xAcr69dI9yvabEfzzky9O9HLYCvn0yTrwgWZw9Y3CpPRFuJr2cDpg99xHPvcQ8Pb369va9NGiIvH0XE77HOzw+Hj7JvfU00r6UT5q+FA4hvSOZlj38F0O9g5L4PYDpCD6gAns9OfvsvUN54L2tOuO9pNTAvdr6WD29UBK8ggHSvMEGoDyPLdG9ndtJvEGOQb18Nf28CKURPcU2ub0eycO9PB2hPSkGOr29AJM8Yoy7vYMgoTwI13W8Ai6mPeyqLr20A7K9W2jQPJZ1Oj1sVQI+4ETsuiVnT74aRwY9EvpivICzlTmzgpk9FJecPXlvQrz6zAs9yV6/PGiA07ubx749MMyEvrY0nj0gdRC9pz8QvqvXiz3DifU9mjK+PQVf3z1u2QA8xLtTPbrTSjy2g689JAabvN5NJTzZncs9rPp/vFSIjj1j0rg89/yzPGX7tLyEg4Q9TGKUPVjIEjvva+u+fFHMPeRmir2YUP+8MFITPWFTn7xVVpq+xQZsvkCrkzlAoAi63KcMPFEYuDzBMp29hohQPXwAAb0Gbc28fVDLPO0ezbw4B328RlFbPdK3Eb2ExIY7zzaavPVAhj0KmlI9wC8KPIJRGr1iuzW9yw+/vAU9/LwYVYQ7sJlbO2lUor0qUmY8pdMDvjLHNz6RiZ49VMhYvhozkz2+J7I9vEn1vtQcqbx6/rK+uD2uvfWs0z01EfK8fiQTPmzKjbtma3S9sNCUuizUa71b78K9KNsmPe/QhT1fbLg9T8KpPDoE1bytbR29ODETPU3rkb6OJX093geevQtkgT2urk08wpmlvUlqrD12QAE9tg1pvFFw6Ty798M85BrxvCo4lL7soGs9Cq5VvPc/Fz6KvB++TwgaPjFIt7xHs+o9DI+RPRjxrLtC3Do9CwSfPWCY9Dtt/Ie9qfinPHw44r2/9/s8YDQkOtZsEj0Sk5y9ZdrtPPSRNL1wiWW7kDJOOwA3fLzmuEA88NlYvCqXHTxuHmQ9DP+fvWqzvT3ShSs8LP9JvP6mGL3453q9gn0vvfzG5jvoY9m8LnXpvRiaELu3V5s8AVPNPcVngL1yRJ+9YQsKvYL4Cr05Rq88paWhPaoXEb7oKtu9amnKvEDOkb4/Tqy9nwKqvfVaHr5lHfA8MWgXvDf01zzPaq+8nU/VvZ4ACD4g+D89ivs+PUh6473cjaC9QINvvVTVlj0OGCE8rrMSvqWTo7yDINQ98MhdvZa7QDz6XMK7XF6/vABRJrkiNMC8slLKvWiAfL2slZI7lksrPdAB9TsKAHA8UngMPQohdL3YvwG/RVkIvtCSB7tDpbs8JV6APco9Sz3BOvE98O3bvD6Zv7zIlY497+HnPH17q73yMC2+B+DjPXLjib7sPXW8QICtunzJlL2iNFQ88BoSvSe4lb15McG97lR3PDwYgz0FXKY8KhkSPS5PfL1Xy0681B0HPjE/ur1JNIw84HUAPpRXo702Hkw8PQMEPjCzlL10kpu9aVKIvWq8Kj1g93y87DNKPYSxS722nOy+QHGTOgBKcTu9Hfw8+NJePRpYfD2ysgw8C4NfPvjscT2bMfY9W0f+PRko6bwfYZw8h/wSvd3fwD1BVzy8k4C8vCnDb74nZpk9UJIePHfpBz5VspW9vUfwPcC5h71+iKa9CHICvmHzy73kRqi9zD5yvZd3ob2+p569NrlOvb9WQLzsGBa9tJoZvZpcWb2b7pK95ef7vbcYjrwI7x6+DEMKvaBSLD2ICnI7pjFbPPOONb72kRk8hMJIvHuLmbzKCmQ8aMB+vZpxTDxrsAK9clBSPXUnqT2Q+3y8wHwdvcxvjD0QkYa7J1YmvCQU5DsJ3o69pGVfPZTkjrwysMy9uqzavbnI/r3Esdu9mI9KPjUDRL1s4fi9GCN5vosdFr5sziC+WMusvt8ktL3fmNm9dS+Svowbp7tynny8pgYDPcAycD0SG/a8Qj8pvcyFTj3k8Ge+/2SbvdZwqL0rZY88MOZuu9ZxhLxR6fs8mZvhPbdL9L2T7qO+aDg6vYoxlb2xAv09fhFIPotJ5D0on1s9aitWPCnwIbzMCoS839jRvunk2D2Nk+s9vlxpveSjWbxDJoi+NvshvQtPmz20ZpS9mUMkvo4Ytr2Bx788Vp+5vbS8KL5hIaC91sW3vZneAL0oeE89S5/CvMDLjbxMbTq9lZcHPlMd2z2sTwy9K1YHvTEno7xpcsQ88l87PlIppT34ugG74gKBPauQGD6YAJa7x+2vvlsGyb3Ir0e9kFnTvYu91zx9bs+8wDYlvFIx8rsK2Hm+z3jHvd7kpT0MCdC9T7CTvHqgIL5AsJe74RY4v0iSlbx+40g8WQjkPJ2ZojyvDx+9UveHPeJZC70KSWS9JKcZPL7USDxw60S+/ptIPezK/rw+mR897luQPX+rij1cy6c7OG1MvKKhQTy9ZC4+v2ewPAvIm71vmyS9UeSIvpbewj3YEee7OOdOPebJTb1VFxu+BA32vXgpTL1Diq48aw/LvKxSITyjHC+8MxjIPGS+VL7nboe+NrxZvkpxmb5UXa69LiahvXAegbyaVhU8vjJSvZw7WL28N429r7FyvOJbIjxuI1e98YjTvcsCJL0Vl7a+aBllvbOc173HRYu94Y2gvVPbPLwNpca8JSXavd044L1ImRy8bgkKvaDoYjoUx8W8yipxPJulE77cLWS9YyKNvexfcz2mJnK9wdBDvqaCjb1Eh+a9XuWBvOo1zL0K+CE9GntFvJm9DL070bm+pB+BvlqdOrzeTqm8SDWCOwDx07zk26I9mbXpPKtmv72/bg4+uhauvkpASTzvrAG8z6qKvjAQaL4vWIY80mQ5PEqOjL1ggSi7aQihPIfDwL0uI829XOktvChZtb1OND48iaiwPRBMPD1Z7JS98kWyvd2Vwr0X+c69WHutvVklsr2RpsG95+7evSL2pr0tuOO96GTBO0zHpL0S2hC8rAx5PeL8kL0wY5K9zxiivcTrA70Arw49Fd6KPZzMNz3Clks96K5rO5X0Nj74pQq9J2U+PuhaILvehm49r0nIvd40vb3o1gi+DkD3vZpV2L1cqLu9irQCvhu3zb2lE8K9l2WVvSuF6L0V1Z6+84u/vntsbL6+2pu866K6vtKk176XWwm/j7PYvp1a0r3peOc9J7C6vJLm372bq9u9+Mwlvmq8Xbyiwwq9CAwAO2yXX71ZJ429/zakvdkBYb5OfAi8LxS0PCRLFL3eoWy9oCwIPUYlXz2OdM27nqugPbz7Fz3HXOw9PkhtPBFsOD64wXo7gEJruuKLZz3Dkp49dw88PmxfGz6AnK46APc6PRgkvLzgrvu+an4GPsRSTj0hbKi9igEZvjrrsb5OzkE8rMpvPcRywzu3/j290mfmvXoPn74cdsK9kWtavlyl7LxohXG8r19Pvd7ug73iz0e9SOawuzVZfr5m6B2+abBbvDcuJr5yEgC+/n76vciUJj3f58K+77fpvsSfhb0QLpa9aMVrvf3Vhb1bFaW8y1FZvlMfG70AxXq91zQBPtqror0I5Q2+5PTZvOnigDx+gXQ9dOLNPUxgmrxC85C98T6QvJbwPr8bNYI8wCC9O2n+yLyR38m9OBKevQvHtb2bNxA+OpWqvnP6h72Q+lm9VgOKvZG4hr5NI808LBhfvHRNJL2oq88980OFPLq1Vz2CDcY9Iz3yPC3CobwqvKQ9n1KWvYDSGr7uuX49DNnKO8gIgb2cNrm9enmvvh96nb5HgFG9oPirOg5neDxwA6K9bm4mvYEggr3eSZ89AT0FvtK6DL4s4NS9VrvOvQnx4L0g63S9vr7KvI8l4zyAwT290lQOvXUAUr3aOQY90dqJPMuo0zwSrKm8yIzGu4HPzTwU1gC+jzLKvLgQa7zwpL26epfDvYrIa7xmxW68iKyFvsztAr1EEQe9pofHvc9y5L0z4028FUS0PRJ7YD0Ahgi7cZ79vGClzDpoXge9gzJivkIbNL2j8ki+OC8qPYLDBTz09Y+9nll6vACJ372nvA29MFaKOnw497vpOVC+5HUQvd6gSzzoBEi7vccLvnjMhT1b6+Q94QK1vdzbpTsmfIm8cJVCvUD1RTtxh6s8ipCyvVp8XD0vZ+69JINMvTmCvz1Vk+c8/fqYvbT5h7w0d7m84NlCO/cwVLzi+yG93hntvSdnCL4EkxM89w+IvdZSkb0O0fO9AMl9vS7iXzze2ae+W/UqvwB8cr1cVTk9mkc6vmXI6r2pZL088OYTvviMN77xOlK8B9OVvvUJtL1Wdf+9UIfXvWb/3b3rSsy99n9sPKTTWL1ojaa9SC3CvRSOKj0OTPe91otePm8j5z3qzD498rQrPT7DFr3mmR69MiuqvV9qPL6Fzfy9iTWjvdJntr6CVWs8d74NvkKHG76ISBO9PY7RvEOT1jwC6yo9NJxnPePc9b1pN4i9Sk8HvHGMw72iIR++KRkDvhUsoL0ddo29WCNHvb3ySL43h6y93nv5vc9EQr22tvS+daukvPAqoD1uIES++Ao/Pb9fqb5SpEu9RM37vV3psz290JG92+G7vQDuLz3XTAE+cUMivfCEHz46N4K+gnqqvfvweL4HEac8OsQpvtjMLj0sMFy9AbUpviVNgb7OgbY9H1ykPXodfT1JS9u9q6dfPtJcGb0nu548nE0bvqyjgr2AKIo93a2yvdPGzjws+AE9BSKSPULPjT1TcYi9qBPCO6lssr2Eheq7MmXRPZcsKbwSuS492LP8vfEFuLws98G7iuhlPYCALD6CaFM8k132PFOOyz14ick7FOhcvUSLkr0PMS68gHjrOqyfrj1+uOm9m/MQvMokKTz2YVI9AFyUO0po0ryoN9y9H6Vjvm47vb12P229QXOPPYtChz0OJ2S8qTSqPP/+Or3IkSu9Wy2sPI25UrwiWn29woJSvVoThb0araS9gNzaO/inlb1ND5686kQ+PZ27hb0n+rG9pJZPvbvhk70ERTc9gHyPOfK/Xb5hUni+wH53OxxgXL1wx329byYPvf5Jnb05m5S+Ez6uPQB4n72+IwQ9BiMuPLORnjxb/K694eKcvZ6gKzzzMPE9RSn5vYo2Lz1gh+i9CBYsvOZaYb0f89484GxWOtqYP7zn/5W9RN+rO62Mkj2vy5e9kPb0Ow6zlL7glEC78XygvXfDIL750g++Fm/EvM0Aob197n++on1xvbWMhL3kP329n1jTvdsWUb4UWfS9APEzOgHNlL3QOdW9Qu/kvWLUZb37I7y9vm9IvvEm9L21pK49z/MkvKxvkbuNgIS9nmvWvcTKlruhD/I8xw2kvdhyhL1GsW+9q7OAvRDvxDvgWrC9nRcVvikmhDxW9nm92wTAvWdjrDwIF327TTvJPBw9gL0Zn429118SvUC0XT0fc+M8+FUju+gCZDu1WJC9VpREPTsu9Dx2UVq9qJmeu7W6l70gd5i7iO1Ru0l/BL0BJ7Y8FsrKPS+M6LyseW++9YWRPSxvdj1m+nu+qjgJvUDhWbpwdS47vT/HvWrzbLyd/mm+G3C9vXYWHL6qU+m8jIY8vi/IqL0Ce/y87n3hvOyISr6ars680u9RPFZnpD2tDvk9tHq8O83Ac75mB/e9MGrhvYrvIz0eI1U9+FBqPay1gr3AGN05sPSjvSyDyb1kwWM9GIEYvkwBYD0RhJ4+VsJPvXYSdb36Jcy9LLV5vUEBCr7NTvm9mqRIPJhmMz4Eh2u8fqiLvPgW6b0aaqY9XzAGvjL3vL0VPN+8MmtgPDIL2bzRYLm8WHEgvWE5zb2iJqG9hkN6vbQXDr5fx5M97bK3PCM8pbxzBgS+y0SjvYDLjDogWCa61sZGPpu8hj1cgTa+yAUDvpIx/bzk6Y290iPgvgw2+Dvd68Q8yINzu+vOA7z2/vG+6AhDO+84+72h6bY8mv0wPbBIhz3xW7Q8ANpaOOo0ZjzWFnK9a+oNvSwtHTyuNGq91mrovPDAHrv+k1O9AHlFvWDQZz1qEa2907eYvKwczLxr3uw8eGwkPs55IL4NEpg8XJeVvJQz97xKNvW71bbEPFCkg71OACG+AjkSvZ1Iwjx9TE2+YIPaO2aVTrzQbAA8+jtvvSsIlb2AbI06wLodvVd/jrx1DrS9/LDKPbycubvgihA84aGFPFfSAj43m/U9IuSAvcrpoz0algs9io0nvYBot7yhEKu8ie7lPFH8ub2S3aA9Om+VPYCHdj2aA2E9cYP4vTwar70lFbm8t02evufKp75Nibk8oJHAOskfgz15ycU8luppvqTweb3+ujq+jLhBveBaqL3Qfj68VPrKvNQPUT0wneq8vJG2O5mQPb3/G/y9uMCnvuKOAb7eknq+Bi37vskm1Lwyxgy9XFaIvQpfZ7yKsOC8MgGpPT313j3IiFo7SNxwPShXEDuFdBG+r5dcvtMwDr566B08/5f/vDrjQTxPfru8OTCiPfCZm71q5wg9DoAtvgMpDb4yfPe96v1LPBOEWb4FG/O9qsDavabpbzzBE+Q9km8WPeU/Lj4G9Ac+y9PDvLz3ijvOW++7Cn+svYER2b1UpY47PipLvceGEb5qcBE8rNdkvTmRFrxY7h09ZciePUZ5Ej0PDpU8xucqvkZ2jj2dodY99qsOPXgL3jv6TKO9PWDuPbJDfDz2KpO8fTqtPGJtRzxbOJc84USLPGG1Br5QDAG+z5gCvot2xL47H5+9BaqmvgVo+r7a46u9UDg+PcHJ5zyOTVy8FmtHPFIIIL37oOo9YN57uo02zDyKSYq9JnkAvkErlzxk1Lg9PIMrvpZiJT1ElQ49yKAiPBrsBT3Tnq+9fm2uvfyV8LwMrR291y7pPAQkgr38EWC9aCVHOw/2pT1vkR6+4gLGvUeKrLx4nt29qfWjPbIxXL3S1kE8JfTKvfDEJz0oWpK9VHeWvU/2gjyJ0RW+xDvKvU3x6r3gL2O8DZcgvvfAD767Se+95rhiPGNtijzKnKO9MJLHvaSUS71uW5a9Xu2AvcpTXTweLyA8PU6nvdwGj71scLe9/TXFvRjMjL2/FwO+TGAoPZogy7146N07bPd2vYYClr12TKG900KsvWUsU714ziI9Kd+tvbO1ur2FehO+cotevfFy5LxQk4Q6ILMiPHDnS76t/Lu9SqVSvQD8d70CARq9dvocvek1yDwZ0Ke9eLHmvAQ6K75DDgq+rkuSvkZaDz5mtVo9io9kvZ8o2r34qSc7THljvqH6lTwUgQA9/fcLvugxl72DAMu9CLjUvU8U1jyt0Lu9UXAUvjxjNr47qky+URAJvtCnMr7DPAm+YJcQOzj3rL4fj2i+mKQnvCDIA75G2sq8ZcjwvdLoID38kme9wm5hvfIImb5pyRS97NGYvZGNwr2bx4y91sI+vXAMtjqe+9O9XCqdvWgRhb3YXDW8LyYVvhwlCr5TOZK8LmMDvSb6LTyru5S9sT3IvXxzxrxO83S9IGlgvfAoYb2Bh4y99tx5PL5tFb0oXf27eN1dvUD1BrruILi9+itrPIPtvTx5tr+9MGoGvqCVcjqDBac8B6q8PJ/HY75E/Zq9FHjcve8im73dLoe9CO0PvgAIYrvZVzO+A7wdvk4gibz4MoM71wXivQFG371HUE6+HXgQvlwva7zff7u8MguUvW8qPb4+XxC+Jc70vszck70KW2Q9Fy+WPUL9bD1dFvW+WTgtvHUn5DySGGs8qFZpvR0nmb5hcc+92Qc+vm4Dfb3ypCG+7+y4PBJOnL3nbJ49WrRCPHYCDL0w6QU92maGvQRjj73PguK87S/ZvQZPIb3Ybei7lFuJvfRODr3BdQ+9pbjuvMM2Nb4T7kG9W6CKvfyhkL29LZG9GdTNvS5ke71+19i8BqwpPJhzFL6/LqC98IF3vUXz970+Aui9W1SMPTw6Hjx9Svg8uIAwu0RnT76tKIW8HAkDPAWppzwicHO9Lnp1vTAUZruqPEa9lNSavTgobL6h+sG8A4qZPGjZOb2TOiq8RrUqvT5mwbwj7YA9Iw9IvUmomD1k3Iy75mzZu+5TPD1gVxi+adPMvcD7Fry5IVq+3wsYvqlLyb3H9uA9Fyn4vcT1Jb2AZII99Aw1Pd57B70dBcq9WDYEPVUcnzwV7sG9KFkGvOvxEb4tBmq+1MG5vbCiELus2Cs9NACMvTY/YjxjbJ281DX2vbzyXbwceDq9xNXOvWHx1b2EO8+9DW6gvaroMb0atuu9qLY8PdiCfb3Lfju+Tv+avXTnub1Ckma9qpUMPCI/2rxUiZi97FQ6PUCLDTr9uNC9chtJPI70fjyJy8i9ZUuUveKqTDxliL28iSOTvbVP8r3qVg0+6I3QvM7Dlj1YY/S71gFmvqAhHju3ssI84v4wPXndhT2aw2Y8IIJKPX4ZmrysJAO9zh1wvSV4NLxsgr+9MCYmu0yA1DvkRKC7dooZPag1Br0mwz88jfMVvTr4BL0YunE9NfIUvTzgfz3eRaC8GRfDPCKIOT0/k9m9IBpnvfqpYT0cwok7VkRLPB2FHr7mMLO+SUX6vUBemDmX/b29FEKVvPIHk7xha8+9D8qNvc79hL2Y+mU9URbhPEDztL1Wtu28cB1cO7l2/jz8Tpe9qXO8vO7Aaz1a33e9ndSUPLRXWrxsc4K7fLLQvB07571GJws8X7C+vKzs+Lyg7fW8yF4MvskERb5+J3k8Rxn2PQYNMr7wDO29uN94vEFXo73sVgI++cqbPEbK4LyIh5W90Cqivdo9Fr3ixC28UprwvCD3ez0Mlgi+RQuLvL1Bv7zZIkO80edMvBXigzygIjs7buGWPUv1xb384My9ZIM0vmUsrLxX53E+0YKVvYUMoTwlzQ0+ONjHOw881r0ZiRe+KN/Zvvy7cD26tF09NjCpvcUMuLzKD4O+S23NvVVdfL68xxS97lluPPBR1b2vLJ69O1zUPHEiFj5UBgo+/Z0aPvM8irzo4We9eYbLvDB8lryT+YY9zXCHvot5Sb2i9q290H8XPdrSg7zhR+A8aPcUvKxuDL3Qfqa6pNEJvYDMSb2SlwE9Hg5uPT+twr09zMg9WEAuPaluxb1waw+9k7aEvCZFkr7LWqa+NX+WvnA+Sr6Bq12+CCQpvqIH073Q/TO+E5VIvm3JBr78Md67g0W5vcE1eb6KeLm9CueXvTDMLT2YwKu9WjOGvmCUZr1U+Jy8AAgHO9eQnr1BeSi+YOC1OtAorzp+8n89APw4PqdFMLwqf7k9gGYyPVQ1hLyAndi8Q7wXPgB86r2gLXM9yyXDPMQD07vwFZ09aze9Pb7PJr7YKBC7recQvoyGXr5C0yk9u10Ivhn5Wr7E5LK+Y4ERvkA2jr2sdsq9w8OOvQFUvb2EjlG+xO8Tvn6AHT5m0zg9TvDwvSNA+D22Xzk9yDSDu9zABD04HJ87cOztvOaDDTwXFaw9EtZ4vNrjaT1N4QM+gKYWOp0wxD2EgQ29gD0hvUKkGj0g/eE6zx2MPSx5hTuNMBs+/MI2PQmT2z0M1hk9MDfNumcKgr1OqNS+jf4UvimGB7y1jJA8YidEvLoECjxYxwa9iKeAu2gTi7wiHk+9TUf2vqp0o74UYi++RmeevPLKAL1h37i+j1PrvjJO3b1GZ6K93bw7vvBK0rrAuhO+ANztvvknmL4QETc9/yy3vZJbNTzaG7U9UpRyPWK63rxHa9w9osARvC1GlL4fo7q8hrV2vTS/grt/Z9k8fiVlPTYdTD2qNV48bCAePXk1gDzFWRO9wnQjvZYlQb221zG9fXexveoLr7xgUk69nz15vDmIsryNGpa8PSqpvPp1g7yj7a29+HtGvuFOMb5ojRG78oGovTY+Mb3GnzG9xMEnvWR+Xr2qdT0856iOvW3JHL10VE09u4fBvVJ/YL29H4a9EJmZvftUGr1uMlm9FsErPI57Rb2M28o9YgAIvS3sLb3b4Q28NBZFPcW+AT7Wtls9hnd6PMhCi7woa4+93ackvhNX8b3wq8S9OAqwu888gb0Y2uk7KGA8uwwgujssx2a8h5i3vdS7wr329Fk8MayMvWdlhT250Ka9oQcGPjFprr3usjC+BSUtvAWi4bz2mzi8lGFVPaT3lr2TAae9cJBzvVLqPD0pQ6C9omAlvZY0ZrzdzN68i7riPeP4C76s0NG+bkbVu2/W2DzvCpM9FhR2vOdisbzD7lq+KgfyvYFeT7zcwZq9qOdAvVhpv7vZWPK97WSUvPWvib6elZa9pitivSFyjj1sZCg94E1XuwkEib2P+My8nCPTuzakh70Y0N29FTwFvqXgDr62rti91L6uvZbBkL2bhu69vxYHvjgYmr5Z8NW91wPuPHhX5bumHvC8kI9ZO75Hsz3q1Bq9IqB0PSiDR71E1Fi9dzg3vQiPo73yLA487sPSvcyFbr7IEKO7xL3bvFT+CT1VLeq9/uohvbigxDtGmlk9dYyOvR9fJ76k9X++0MndvQAGSDiCHBO9lkVwvWhiBb89cd+9VOVsvW6sED1fs928ugM2vlL1E7wrNso88dnhvWtuTbwTQdc8CMo7O9cKpjyUDcK8YFmevdr1B7wPDYq9qJTJvdjRZb0RIJo9CXO2PIYWoD12kzM84ZtWvh/rRT6uoBg9ngJ5PJ0oAT4elGW9hj+jvUyOWD1JDds8zPpVvZAnTT0EyDm8nMYXvQh/OL1GarI9Tz7LvcKowr1iy4y95supvaHqp70Cc7W95Il1vUwkNb0+q4u+FmhDvB/vwrzPf5w83AcIPh3jw7yNQkq+sHaovZiuAD12CuK8UHcmPFByFz7gq2e99j4avbmm7D1GAHi9X1QTvfBUiL3TM6w8JDTFPRspHD7li4y9ODc2vRKOYL1mBsK9GQWdvKi0ML8U4PK80VU/vMggELtPVYK8JCP3vC5MCL5H0ye+j9aNvatOrDx0bU68fyWHvYQUfb2osYS9OJ7DvaDeA7vybmm8jnMYvZKVejz53v88YFyHveZ/Sb3tN6E965MzvSZMN72ryac8Ci9Cv3WysD0qzZe8IAw9PanrL76eYTg9ZgREPXcpnj2ERbO9BWfzPdQ8bb21t8O8ZxWQPcdc/DxyLg49/v4YvcsWNL08BHI90jWhvc8Lb7743Ky96vGtuz5hA740K0y+CCjqvuAAtr22o6a9twAYvtSLM72+kVA8qIEJuyF3wL7OL/m9s+H9vXG/nT2i1Pm8gIxcucR/Er2KVDw93r5IPCNDxb31Bo29rpljvaRPCr3u7Ni9kuHGvSIWXT2rwZI9jvkvPBQdTb6CwNO97i4DvQSyHDwIS5q9akPNvTYkmL2CKBu/HBpjPYLFYzyv+6C9y1ravfEnhjxgT0G7fTq8vUjsBbvChXO9FaStvDBzf72jRqA8PIqPvng5Ur0akFs89qbZvUuZDL+RhWE+8xEHvPsT0ryN6lG+8TEFvhxirTtpdKS9iu8SvXzymzv7I4S9nfahPe5++700ODI9Vl0svsfYC775waq9Rw4jvh3qsr1Racs9MMf2vGs2mTwL+8W9Gv8PPD55bjyJ7om98abtvXKvbb1SdJc9N6/OvXdL+T1SVgS9UXABvrLAEr4Lcge/GN7Ku6D2D74QTFg9JJ4uvY02jL73aOM8pbluvPVKTby+jHy9QHgvPZQPeD1Y6XW8efExvnS3Tb6gF5q+O1yFvSLaH7xA2p45+g+nvPBupD1fVgC+wl5LvobZ6b13Jh69e4aTvYmdlL2eIPy+gBjIvXnsKr6qxdK9uXLLvYD1M734j8a90mbfvLoz5b2iUoi9ZmcZvtjGDr7Tw768/stTPIiG2Dut4Nu8xrLAveUAlb19nJe8NSD2PdCpHb16wZK9a0tzvkAgGbyJTuI9rXWNvW5MSr3zDbq9aAOAvc/5p735VPC9xNLjveQEyrxAapC93YSCvUC/Wbv0qV++3H0svlvJxr2gXAE8xcn1PKJ1Nj3ClXI9mPsmPYea6zwYc4m7I+SCPJvA5T1xVlC+Zs1ovVUW0b2iCYS94Iopu8Cz6ztPJou8kE1FPU2Y/z0A+0g9obyWvdKcIr7xP6g9kq8IvgaxUz1XK6k95D1ZPYszGLw70ym9WsMwPQYI7r30tby9W+/XvXhobrutIcA9POSQvKGfkz3qmuS8+6OePCG+770/dsS9EQegPDSgW75iXQm+KobSu0atJb3no7i9Yt/NPQCDPr2vzDe+S1U8vSC+fL1aR0I87E1vvY2G6jwwc7c9mOYbPZjGA76aUKA9JKGrvX+yTr0wMaK9RkAevAr8sj3v1rY9lPSUOwaDc7xQTPw7TtmIvCk+trykQKa8Hg4HPs4vDb7DNNq8ZJyhvD40sr1FMBS93HajvdjwdrsgdzK+p0/Vve1qOb4cnrW9HS2KPUU+UL5S77E9doiAvY+pmL3HPv48RMoXvWhqZr3vOuQ8ft+YvRYr3b3YJfO8V3+nPA6D77uQ/r69EtyVvQxS2r2efte9a+7UvYWgAb4hUNq9gg8OPNa4Sr1o3QA7gMgLud9i6T17DBS9hYSDvG1VgL3GuJ+9OCQgvdpX+r2uK7W8UGEyPS5CX74a44+9aBMnPYFACr6yPVE8iOHwO2N8q72ixBo9PIgBvaj9kjt5URO+CIwnu3BaaL0fZzk+HRDIPH2XGb6IhKm9alf3vZbQQjxUS1k97vKMPfhjTrtMlKG9ABZ8OtYVQTySr0m9eIOou/NZyrxzqRa+LMb6vdCSRbsg7YC68rZBvBSOqT1bR+O9jUOBvvoKLDwAbkC4GqGrPX7LXrwejom9yEl7PWk1hzxwPnm8Yegxvsx+O75HPIa+rlN0vaw1irteC3c89H26O8/P1L2X/I48TmxQviaYA73AH5K5lPM1PeRmYbweAr+9FnuzvdX1/7zEhVu9hyyevaidCbueJq29BZzAvR0wDb6WbQo+hvAXvaQHyz0tWXu+6G0Sveumor0hrJA8jVOFPXo+yz28fbm9DBEJvtVDjDz2/Qy+1xq7veEzG75MC4m7pvkaPTBnFT1SRyK94E2tPZs/zDw0QYK+yQqmPSeHqr2IVXS9dkMPPrOBOL9Dtec8ANxtuKmupTzWJQ69rCB3vCk9lb6E/yC958PNvNJNf73eYYO94OWTuz7GKzx6nhE960PVvOjzb73Pdqi8nWrCPWGTqTwYeQ08aH1svQ1Eub1x2KO9DtHFvsCSeT1EFoG8lLA6PUDC47msspC+SjslPqPwjDxvVPU9KZ2Kvb7Ugr0SSEs+4LzUvAfDMb0JwI69wDhvPf6BuD3K3F084Je8O+sYkL2Idhy9zDt5PfBLCT2Ive28gAesOeS/iLtaYKa9yljevX012rwAvLe8ElZmPSYfzbxusLy9zw/vPeC3dr2KTSs84RuHPaNC8Ty8AvS79QxKPkzDj73tQSC+wFvCPbBQPj1FiNw9cHTqvVyqor2L1Kw8ZkY/PUxSAr7VjKK9Nl8RvlGQzb1OC5k+wZ/YvNglSDtRk988F/WAPej2Ij1d1Mm9KrdivaAXJD25pZm9StonPeKPybzga0y9Kl+KPWlEgL3Y8R69VOg0vV69V72cK/m9JvVtPPLLUj2IGOi96K+zO83RKz7Ymf288GNNvqDb+Lq2TQ+9ZFIYvObb772K2Ry+ln93viyBb73/yqM9leTxPF5I1D1EUu+7yECpPZYoIb3cvak7PfiSPODCiL3+2ha829WkvtmsnDxQQ1C7BwtqvgOmi7x0xFq9lhVbvORcGr30IYq+N7JXvAQUVj3GGzC9ljHEPapSWD2QkBC7cPgpvBAYZ7wWVge9bTuZvTguBzxgyWg660sJvmVRrjz09wQ9QM6qu9cQMb0rPqE8wChKPTmbsTxePJi9bNNAvZplpLyDl6c89GEyvZQdYT2Qg7i98FZqvS3pi7xaty28QOuFvNBsU77clwq+0mGNvXUjmb2Fvle+vD+1vqOMqL1ts/s8SE+avLiIZbtvsZ88sxqvvccES72jM5i9iYUWvADwkTZKlka+yJbavI7XJD0a6zK8iNTkO5z9Hb26WtW8tI6Su/wiRz3Egl29VKsjPYRGmb0gVke77PONO1JNoL2ENg49LoZXvpmV6T1hF6c8WiRjPTBDirsfgM089DF8vRa5372Qb6070Tc4vm3mF75ItnC8rAWYvQTYYL4JXKA9iEV2O8CvPz2onL89pLAAvZCfJ74ONqi8eiSTvPqYdbwPqYo80t9Evh8euDyDl848wI3NOTpHMz3gbVA6cDoWvYGHkb3w6Am8u4K3Pf6hXD1ECCo96IIyvTYswr4W8za+MyrQvM6tQD2Y2T29/mEJPS0fBb2AC0G5DU+svFiB6b2AcCy+EuN5vcoir70B+eU8bSfBvRo+ZzygG5K6TygpvSLA/L2INtK99IonvpCn2b6EeqS9+f6KvQA9LDpsPl49n8OBPYmelT0Gnn89eDcIPiyTej1t5ie+RUq8POqKqj09OeA8gtFoPdgCt72TGYk9jyQrvspDYr26WJg9Vx9PvILmlr4gt8i9N+LLPEi7M70VPaq9dMAJPeI1xT3PYfg9jV6DvsL5xb2cFwI9HOG0PXLjo73zIFG+8Ek5u9GJq728h6y9ZP2WvYD7Nr0nxD29Gmh2vechDL3wPFG9LgcfPXhEhj0WYXC9ECXFvfUfqjw3C8w9xjEjPcdO2rzgsz89U4WNvTdeN79rNrw8ReqqPfLnZT0Xkau9XeCLPQhfzLsRdJM9MOPnvGY3Bb3AsR29QE6evat4ir2kkrM98GiLvLXvrb2UEiU9EXyavCqpxryeQGS/GBeQvKLcPr3Riqc9q1XOPIZeF77P6YG+Nw65vVEY/Dww4Ck79iw0vcE7nL5pC+u9bca6PfDL/rqWgV6+Zip5PVENgbxsgfU7Z0AVvb1uijx6bA+9lXakPLhImLxVuYu9EnxTPdx2IL1WbGQ9Ns8qPT4bYr2/PIa9m9aAvL5hNj3uxFK9cUqaPF51+7ymFGu98uopPZ6cvbtgYrI6nlWTvdVxhL2unHy9yM6du4mGjbwfvfM82JhRPbBsCD1JYRK99IkiPY1Mrz0VGp08cN8WPtbfMr2y8is9e0vNPGBDEz2gwJG8zNeXO3KocjwjB7Q8lERlPT59b73AiIE6kKOFu8+aoTw+7nI9p8rrPSDg77yu86+9RGRQvOFr/zx7A4e91To4vQgPbL23bxm8pVazvfnghrxxmok9WXq2PNnrE73OoF+9gLcVvtzU/70mctS9k8OdvYwK3bxiK/q8auTAvczHlDsZ2ts9eTGbvUR2vj1pTim+0D4vOyrndjxtDo88IFUFPbsDkbwSYCU9IRKuPHOvj70YZxK+KSYqvtR6G70IeA69cAzBuy9sRLxAsY06IMYcu3J8ODzDkJs94mEkPaQP/7v8K86+8hPXvd9AIb52VTi/3BUTPR4pEb+ba72+r7z9PKWirrwgUNm6GKU7PbnNRr73VYO9c4vOvWRDDj4K2Bm9+r+yvVL1kb0jHYu9A0Tfvb6pGj0ZcvO8QGUbvX3mor6h58k8Zf4+vuAydj0Yrxm9MrphPWQojb2gKi66vkkrvk4EA76GWu+8/hI9vloq8LwqdxA9dVO5PP17Wb7fx8++jYmCvVau273KDQW+uXOIPA3gpT2Loeg8WySMvWoxRb68mSa9VAZrvpcW+jzocmY9RvpMvaCB5TvfBZQ9sqYhPa1zoj3E5Yc9EX+EvaQz77z0CUK+DgWzvRg2Tz2FpmG+DlpvvdiT0D0p6uK9IkykveF5xr343A69+COku9B80722Lcy9E36KvLhnZr1LOPI9ugRmPAAdmb6aQoA9IHLdOiXI2L0Q+kS9gJNpuYJUmrysscM9qNzFvQCEqzt6zhK+slBuvpMTFr2c64q+vvQxPdo7NzxVN7q8gGw9vryT77wy4FM9bTvkPORiYj3DK+I9GhOavaOj0zzJy5Q90PgcOxkhqbw4/Eg78JZNO2JU5rz8wb+81sdbPGqFOb7lLNO9FN1hvUAvDjsATe87vzFHvlg0Wr0uFsO8hBebu3TgabxJXZS9I7jVvUZF9bzd6Ou9I23sPUfJfb50Zxs97SXpPdhhPj2suA6+2vnqvVgc770EZ1I9UeI3vcQF372J8AY+EfWrvYkSHT6GBza+oowiPM5lOb367TG+7pDYvB5CcTxbG6i9kV4pvVBk+byGsLu9qKCFvZNK2b3YI2y7QOc5OlrVAr04iYy8gmC8vdZPfL3aThe+RbbDvgt+gj3s0d07Vo4BvfzGljtgAHk6+HItu7tEqr1VDYe+DnEgvZvaCrzOERa9imhWPcOQvL0zlY08cdSEPYAKBD1iFgg8OaqePOnNBz5X2Sq82n0bPnAO17pMLFi8uYOFPQAj1jvACRe9w1WUPWfuQz7ELGS9vz6bPRTlMr601kc9D1OrPL7gnb1pxcq9a60IvsZTGT6+AHc9S0QwvRL5Ir4g+tC7/XUlvZEFJb17DLa+gYGWvW59lbwAdZg9pUPkPHq5ED3ykUi9Vam5vZIGGL5AKKO9EGp9vQZDvLzQpqC98Pgwu4wzgT2YkAa7GF11vT5Tg764Lw2+QvccPIbMXb1Q5Hm90KqEvHvRAb3o+FY9KDgbveBuhbzqGLW91ccKvS8t47zQECC8Lb8pPoG6hjy3IvM806faPb+Ylj3IEOA7i2G6vXq6fb24HRS9dKu9O0eE5D0dC509Te7XPdUwez6F37y9IGlFvs+7zbwtjFE+UUOwPS3RxjzqwQy+d6G5PIhJpb7j7pA8BfyePIKjobxcTni9eKw/vd3jAr7K44S9nab+PLww6zvQ2ya9vXQHvPM0wjw6GLY9+UJuvuNQDT4PMew82oHruyBR7bzNBYI88wIJPiC4bTo6clS9uhBZvISaKr1T0Mg9ne9Rv8TdKD21dqS9GDKRu7N4hrzshIa9CtE+PMWq2b0v9IY924PwPMTyaLwtbHG8fvrovVH7tL1ydzI+qf/IPVu5szwn0QG+uP5Kvh79Lz3QAp49F1yMPekfT7wWbXy+cK9NPQ8oqjyw6Yu8Up+fPUVK07w7OB68kDMsPXeaILxyccm81UmTPJ3tsb5B6wS9+ZmkPIhkSj0AYhO50LSNPdX5kT2W8R89a5DvPW4rZDwlusU9DDOnPVGzyb1H31S9sx+wPWXotb2IHTK+m+iWvjhMdj1Ir2C76xeAvTh0Fr5OAA49hVHVPU//3z17se29q4aTvQWg0bwYeX6+0+3aPEALhTnw4H47Xl8uPaKoZb1bGuM9N9oivoN4Sr1AetG9gQcgvnAYlj36WrO9QnI6POxzx72F0g8+XrNxPbtUTrx8Fw0+wiK5vbSBUz2argQ9rzsmvBJ+Yb3vIIq9oPaBvGTSsr1QghM9hsAYvmC+4r06Qxu86I5bPZJ81rzcL3I9k28PvpJXOz1ir2M9YgZKPR48xby72pi86vFVPD/Rjr2XuS28GvC4vACcPbw9DRa9bi1QPIhnKT7UPWO8dxuzPAhlGjtMkYG8pssnPctj7j1ZVKg9Bx2FPTrTCrxmqHw95tVAPergNz1l1Mg8G4QBPgiwcD1p0O89xm2SPTUa7jxGjFI8CdgHPiislT02KUc9IO0MOmpefjzYPOe8G/8HvHbHMT2cVTG95AvyO0K1OT16LzA8fGogPZvHMj7aUwY9OosVPSyBdLxGjTK8rM8dPTYvLTzrWPM9EWOhveiCwr2w3Fe91osCvraAXr1enk09soAPPTQm5TtCdWA9uGEqPZC+Az4Bafu9vOgNPabTW73W5Ic9W5SVPJbnGj0C1Hs85r7ku41/yjwrsc++g16GvTL8LTw4bxS9lHtLPdX8ZL5l9+I8HoTIPaiWODvY3J49LVnzPeUDrTzrqqm94G/RvdUHHz6rV5y9pvEPvQpRmr3+sT896p59PQPnJ75eIiu97zLIvLGT9D2A/169kVEUPgbvuT2Q6pW9toc5PUhDz75A7YG9kyjbvFjqcLtgTSC7wj2JvUC89Tv1aYG87P2TvdD6j73ZGj++pNUjPJ0+ArzL5I68FGoKPaGog7349ZO9rM+SvaRlF71Wn4y98zCbvWgvZru9Bok9CCJtvUaZjT1Gv2W9zvqRvZA0rjpEQQE9Nmo9vS94Jrxskh49gj8UPTzhmry0EZK83vihPSYCnj0Ok6Y9L38QPh3B3T2HVoS9Pom7vIxJYb2BPKw9v8vqvNAdj7ucKq686GPVvPfL2b14HNO85mmxPciwPD1+CTK94P8uvAeFvz0uaRW+xnNXPRsGozyc84m9QKkcuo6oeLyeAcS+VjIcPVww+zvXg5i9OYnDPeySo70CPM69p8bTvbDUSrw5vLS93caivUDe6bs/4fQ8853PvepSIT2w2um9ULCNvXnCp71FIM+8GJndvb5jVDwGjoK8Uqz4vWGqqL0gwa69Bs0RPV7oYj3fnew8CWKAPGFfgD04Pic80psxPK/ozTzaEbU9dZTKPNb5Db6Zsye+8jZtPZc1mb4vz+C9CPuAvTFflb2OKtS9RI/wvWD6yL2ujHO98QSivfYysz3I17C+FQG0vYp50ryOb6M9KOxLO9rfaD2hyt08t/vIPfQRST3o8Ja9/O2MvLJZ973cvZ69R6SDPITMlz1vnNw88cXLPAxehr2zzos8mOBDvaaczbyBXqq9GSVmvuL6Xj7IPla9k/z/PGjhdD3GBWC9rBCWvIv3C77LzLs9WStpvA9TC7+q9Yu90IWYvZPOF75NqcY8S/mkvf0sy70AHry9slnbvXhHsD0UxzG+chYpvE71NjxUy9W+RtOnPd/rCr5JdK2+zLZwvQS7ab0+cWy9G1/fPRX7Ib4NXoq9AQqxPBLdJr1Kirs9FRfxPVqOjT0cTWO9RaDBPU/3Cb48B3O9Ans+PoJbr753hji8cUWoPAe+kr12M9A9bJnLve9PEb4RjpK9JKdJvZ1Lr7022ba+SJ+AvATdY720nrq+bupBPXda4jwKDTw9cpZMPdpPpz0Pph+/tlhQPS/G/j0Wqkc9uhknPQCmOzv8n2o9TiyhvCY0HT1iHJ89rF0wvTn+kr0B6tw9OPWSOwg5fjtIC1s9fjALPeELXb7UESG+xFkGPobG370gOYM6ayOwPMKKqLzVjI+8fJV2PQzb0jtW1EU9+KA4O1YfxD2jZA8+zpa4vBET6bx91KS8UFqWvJbXY71GlSk9HGstPWexmT3tNjC8nOqBvbT07Lw3O6S8v4mYvaOqL7ybJiy+r2aMPcY+7bu1E6m8NNNjPVwY0z3PVOU9dlWfvSBEEr02/VS+QEozOxUogD3aY1i9znvpvBhXUD3Z+ZM8PD+/vOFpJb7NT1O+zyZOvqTO270Vk7o9sDVdveqGYzwT0Y2+gON8PcZxKD0Gtz49zCG7vCz28DsZ/sa+UpFTPRb2fD0A3rY4KnMEPvnx7T0YTf284PkMPVzlUD2WS9O9RGElvuldar58s4q7il9jPHpdTTzgamK6TbbQvE0i4DysnzI+kNS0PQlBNLxaefO9HIOPvnrXqL50qCc8cfPovBubUL0K5Qo+1DvRO+C7gDvHIYC9jOK+u9hnrrx/4YS8ho0RPHm9sbx5FdY9ivlNPYACnr6p9FC+viVSPXogTL3li+q9cHYGvqeOnTzsT1i8zSTvvBs5ijzNUlW84Gr6O7288z3985a8qIcJPHZVjT0Z3rQ9E/aCPfY2MD0q6ie9e7eNPKjmAL0xa7s8GJJ8vegulD2Q5o49uDx5O+gsmz2r1789GCYTPl85FD4eGmu9iR7OPVC5Kr0TMZI9OkOKPQDSKT06FZA9diw9PQ8psjyKSDM9oFsNPNwlRz6r+fk8CpkPPa8O1j2ya9+96rJlPQZ4Ibw230w9SkOQPTRGaj4vs5w9STWhPSpII71zAay+pLzkvMdJhr4mw3W9ZUUwvjofNjxwz3K9PuSFveIFPTyKP6I97yvHPfq7ab0F3BU+tseAvOsFsz0fovI8np8BPOZDNr2w7jG7XuMRPeCqbTrMyMi9bIxPvdC7AD5NJJy8FfUUPjHHJ7xlOw8+Rs4APfiIDb1QHxi9mYrqvZmsXr5sfA0+c92qPL+yTb69NRC96isYvBn8vD0J1q097wOJPMJosr6Ik7M9KtiovMlXnDxOK0O83Jo6PZCbvLoZ+sW+iVSOvMQZED3UGSk9aAZBPQJmmz2KAhI+vy7yPdDVfT28Snu+czzhPDVMwz2AYdW8iBh2PQo0fj14Q6M7HvQJPeHKAb0vF5w9HBWyPRP6tTxRvoo8C68IPusvxT33VZ488WPbPKAJpL3wNpu62pOOPatptz0yMk68SwatPbnRBb5o31Q9qfeQPMgt0jvG4I495ltrvX7WQb50AQ880hmCPZqagr2IFAM8yJ35vcygwrxj5gq+OBsuPeD9O7v4QYy8AG0COwy0Fb7iI8G8Z/CEPTOxiLww0H89kRzPPd4/q7y1nok8uSaiPGzEuLxlsbg9tzWaPbNTKT4clJ89bs0svlgRCr/CF4a9uRbYvUMJuz1NbpA94ChYO6K9Gry9G3a+dXMRvlfWvj0rexy/GOLjvcIMt70zI+08K0xLvGjnX73h8508l52EPd/qkb3jio295xGGvTzaHL3xLAu+pEamu4rsPD2m14C8zvtLPLEXsDwFxPU8qZ+ePIViqL3S4Ao9ftBJPHv3g76PctI9QFQiPQqFND1CcLS9kpFWPegeCj3c9qw92h1mvKL8kj0q/1g9rk0RvTobYT7nW/w8+S/jPGBoxj0nmOI8LoDBPaL8iLyszTk9ZtInve4kFr2PbRu8syZOvPHcrD3IJwM7SBtRvUgkST03Dsc8RMSRPXNi67ym0rC9GLAzvmIWXj1BxAm+3FvfvR4IvT3L5r+9CFNbPcqtwLw/YSa904XkvPrrKL4CJ3Q9Sj6ZvCjGHjwgc4M9ckRJPPINbDwWzka83BRtvhwWOj3yDIk9oeSQPYJoUj3sI0m9GZ2lPWpuUb1+2Fk9wnSzvlFzAL2U+Ry9MneXvLG6ozw0QhQ+LoYSvJdBxDx1QBi+ZG8tvmA6fT3Hc5c8TvwkPbHlErwCuUK88JFnveCNj730pTi9CoxzvIhdKDzExYk9LefoPCDMAb2eE3w8yDzEPV1NCL9e8Ya9/6Iiv9ojdD1g0FA6rDuKvqb4wr2HLby91JOPvYwwQb/Lrt89WgJ1PTw2oruyk1s9/HMIPUgtMj1kaRe8WZy5vin+iL5wYno7+FS7PSIeDrzHhzO+WqY5PcawUbyk1zM9seXLvPMVhTy8v6W7VwnVvTqcf722NC49eEVTO17vCD1WyIG9mXTnPeMvpb1zG+e9hoIIPRMtJ7zO1lk8IhQEPaqRhz2ORs684IyMOiw7TD2zTbo8hJQUPZ15rj2IzDo9FrkOPm0+mD0E+xc9XZq9PYHQh71GsES991Y+PklMCj5g/bk93L2lPc1OBb2F/pS8+I7/OwPhkLytVgW+AHaUveB1Aj7QTRU9n7znPOb4ob1uniQ98LWlui4Kfzy0XSc+SIyQvYNV9jwwXqC95AilvXxWpb2EPi69+3TfvgNL8r2uj3Y8wbUFvn30K74b5Yq9OuSPvAz6FjxpaXW+osA1vUCJLDpLxuq8tGbZvTa9JL00T7o9m5wovt4hXj0I7jS7M46mPF2a0b2/nZk9cFoqvUPiir34GMc9B3nFPXbwjr13vbq9CkNzvhB2Lr6My5K+UOgRPYg9hr3yD/S+FuptvUJGab32raS9+xt5vsCOXr0JYA+9xVMjPttzrT1mWFY81HmEPcCkxLmihmk8kPeGvHPYxr25qYm9zijkvcynQz1KjbO88KSYvUZHnbxuoLe81NvFvUa0j70S+DU9zkF8vc98wr08bAK9qI3HPfP0Ar0cAmK9mJYkvfKmqLymECg9Z4ORPRNe+DznGvE8VL/GvOa/yr1hc9+8ZFEyvS2JtzzBp7g8C4GBvXObgzxJvZG9w/XnPGGwvDwzl3++fqo6vZjVqzsOe6C9omu5vQRlIb2iEs893YxnPnBNcD3EfVM90++SPJQ9OT0dL7I9+Cqfu6ppxL5QmGS8F3OnvdbIuT0tuMi9p++7vQl4h71PUZE9FzCfvi66sT2K0ny9AJn2vbfVxr3yfFM9bgvnvLziWD2MQ8q7X+f2PbjdQr6iCrK+SVDavJTgXLwXmAG+sSWcvA2TDr1uW2Y8ZacKvF4xCr0exOC9aTzrPaTXv74CECo8McKVPDuB1j18qm495NQCvSau07sQMw89VGzMPQjygT3JM8Q87Vr4vIvO5jzV/Yw8atcgPEivTj341D89LDk3Pe6MMDzD34M8WuAVPgRcXz1KVyg8rA4+Pd/MxT2XRcQ8amNRPAg+Oj0WF1M9dHlzPfeDKLwyeOy7eA81PcjMxTsfV+E9/nSPPWtcgT0ylXA8SzftPK6TID3uLSI8i93TPOg24bxo6xk9ZjoyPNpWMz0OmYy8d4lsPkp7Ljw9/ss9d8PfPYTEmz2xjJI9yMlsvH6ZPD3HYvI9FVMfPiQvxD1O3r28MsQAPVKCNT3k9A09Pk4xPZz/ojvKyVg8IKvlO7SFuTtJF/k8e/vRPJ5yQz1Qucq7raKWPcXhvDyi1lo9kpJ/PLgs6ryFpJU9av4cPdakqz01oI49x0DhPUxJCrxWEyM9EJJkPaBx7zohgMg9JuoaPSfgnD3+fS09nb+IPd8TBL+FP/c9hpL6u5BmnDun/P09vDIpPTWhhD06zD49n8PmPPFD/r0MX4u84MEmPWbHBz14v2A9706JPA8QFz6MTSE9/vcnPCBcEjrkalG9LmFnvNV/Lr+ISo070usDPLLK1rywCI27++QHPsDUyro7xvU9YOkMPWIgIr0T4dE89EVvPb4BdT3+Rrs9MOrIO/d+2z1UlNK9akxrPEopOjyEAVY9+olxPQK6kz3UAhI9UjA8vpVf4D0mGLI9p9n1PL2o1z3+s0E9uc2rPMiqIz12j2o8tmwcPcxKTL3k5yQ8bfQovFItuLt3hm++usYNPdVDpr2snCC9GdCwPPaNHLw8qJC7fqgdPT5XFz3WbXc8RUk1vrWksr25YJW+lb3SPbWV0Dxh8cc9RH7rvAS4Fz2oxDy7ccCzvDKCIL06qwy+IrqkvQTPc7xxdDW+zr0MvndA6r4hpSG8py6XPR1PjDxZt3G8NJSrvRxWUL6ebDu+uvWPvYwtRj3mvuW8U1+Ovf6wNTwaQVG+HIkPPTClmz19na49ClMoPfRICzzMihC+rNwtPR4DcjxYg0c74GvavXyUWr3Ozyw8UxHJPV7OJz1c1hg9Zx8JPv5iVL2ZXdo9LIW8vW2vDb4ML6u9HEcSPjAwHDzgdQC+uJM0vtYoTz1CFCA+ec2HPWnOtjweVou9uR35PcqCRzyI5yO7lqZtvSvoLr3++2u+cu15vt/ExTzEZ1Y9oiZ3PXpUgL1efyk8XGA8PbCSWr3UxQm+OkLouwI4gz3C+F89goOcvk5Kzb2/Zr48sE59PTw0r72FGTq96yYYvlPEy71TOP084Dt5vh+QwDzQBX6+bGxZvRSxFb0Jscc8LnErPaZOiz0AIQc9rgdTvRz15rzoYp29e53kPScE4T1X8ws+QTIdvAGzM7wLe6m8MCBcvptP8T3HuFu+ODIhPqRjrL6GGjM9tPedvZUf2z1U6su8BI+YvVm8pL4gfWE9vMTevbBgqDutfh6+CD9+PUwX0bxNbIS9bX3XPH+d/jyyWYs9NsHavDzIF75RSok8+puHPSir0D2w8x67PvWevUDzWbyn4S2+K19evAJLvD0S8CM9BcICPiLnIb4D74Q8BA7BPRKkeTwcxLy8dEwBvn5Jyb3UvoK8AIB2NQo+k73AVjm+PubIuxvsjTxgM5g7UIKqukv97LyzBr087v4aPqBkIDwIjYi+WqSCvqvG5b6+i6K9ttMLPauXQr4UjZG8gGkbvUTgBb2zX9s92hk2PRv5v71Mvv+9Llm/PQJ+Hb6W/ee8mipCvDYLJj2SYgE+HSKpPfKPsD0IOoE9eMpoO41q5D2hT/o9A4KqvIA2YDtGZwm98KSDPszrE714qzm9dCZsPc4AgT24k1+89kx7vp4QQTx8PEA9aRWZvl4BFz39vB0+nm7YvILgMjw4fxs9voIZPbhphbz3bZE8NjBkvTLzMb0Wn6496JZwveYOED5E7Qm9yS2JPX/hJb5b9es9B8cDvi1N7TxShHU9WCktO7gpCz28ZNc78d+kPObVeb5puN49WFgIvZIFsD3IFic9EN/0O5CeQ7scwPS7sAnzOyUd5j2AZEu7GBsGPX7ahb2IbMO8Z8MevguRyT18n+2+MrGEPR7OYzyVQ1E+HeHpPUodTDwj9xY+R0xPvTIOxT0OfVs9obTxPfk78LzaSBG9zWXpPcTMDTyk+re9srW0PSC/hzoVXYM8/GqhvPAG6r00A5k9wYbHvSD1DD30b3W8SyU8vKQV/bx+eEa9+7qVvR7/LjyIemC8I4nnPQhp871oyZq7WMHEOzsm9zypMPq8kJgHvRkNkjwpRxK/MacCvcfUiL43NZm9volKvXpXPb7pyqG+yD0SPOPPxjyQhRi8j8MFPlCeUjueQQg9gs06PiOG872DkoA85MgwPgR1Y77XkcS9EvtqvuK9Y72sdM++6KkCvpSsf72JMdM9GdDiPINDULzrdeg8ohZuPZ1iszxQnYg9WlSFPbdEYb4kKxq+hQP+PBORzD1voaQ9xO1ivoL6nb3OyX693koTPSIgS73ittm+JoA0vswQc72w6sG75YmPPBI3sb1msCi8lBPKPS7ctz0w7+i+CI50OzUxyL1eyZq+V6DBPFHh6L2y/kC+cJuvO/xvDz2CSaQ98ItDu5SLYz3gf1e9wv7kvb8Gxr2bsMG987mmPIQOkz3w6IG+zx9YvlOljr14Mfe9Q5mJvkajbr12faO9cg8MPUShqD1Q8ki8gWExviZ3kD36aT491WmFvg/TlDzE2JU9ri2MPexedL00vxk8gOjMvf4smL0rIZO9ANZGvjhhFL1Po508V56oPE1QFj6yvk09ELr7Ov+A0LwsSj89tpNmPFEvJ7xiJDc9ABfUOoKGZD3IEqY9MF//OghcYDuL43g+EOSPvZDECTsIemK+uitevVagPTzUZrW99aHpPCHtujyB0Ou9Kf+ZvdJHbrzZ4Mk88o8ZPOkegDyTFYG9f2GZPW1djT0Sikw8qAXiOylCIr4f+5A8fLVkPYe6373kZLM71OE5vcSlzrzDl8o8WwNGvTFWrz0jZXi+2nNWvq2i9b2OKQ0+SSTpPfTRyLxeP0c8+i4LPMZsobxovCU88aWIPUjZl75SClY9Uy+WPDQvV7/GZ5W98ZSZvQD41TuzYYg995/CPdsp9byyuD08yazpPPQXsb1KsmA85OooPB9n373dv8m9qcSxPOcW8D18qly9qLg9vDkMhrxxyIo9L5qNvqdAEL4Uh487KpbavffrsLwTwa88DnIGPYD+eDrA8B2+cGd4vTo+dDxfR7E8L1fAPJM6yr2Q3mg9/aljvhElsL0ikqq83uktPcXA3z0gJaA9ncT7PXf9oL0M6e28ySrSvK61Gb+P48Y8xFm9vTBeNr2CPX09cwjcvpqkQD3g5gY97o6ZvRhPWLw6PKC+gNx6uZYLZT2ukkm+Bg8Qv7f3P73A2pS7vAggvP8EO77pPtC+xoh6vaD4pLt3PPc8UjLLvggPtT1JXvI8SD0AvukO6zxlNow8BJHuvfzQYbz6iDC+mWTFPMVoiLwcZyg9rkrOPZ0zqD1iFoS90q8gPBLPAD3Q6ic7qCRbvkuH9Tzy4IK+s7axPG7BjL07A5u+KAwGvc4kf778w5G9CeshPrNdX76aNhe98TOmvaG9iDzXKQw+eo5nvh0Npb3g6G89ozjTPPimTLzNToC9P6ifvhK3wryI9pk9ShaovotzIb7spnO9fcfqvjAkxToQG669gIpBuygxFLwJLJ69SgUZPecgtzycCQU+IGU9u8Vq5byMksk93cKivgdJLr3/6tm9qhxGPETZLz1gpim7sfxjvPMFJT4XQlg+zUm4PRAsKT3yVSe8PPt0vAYRvr5pvNY96TWKvc77ST0A+Ts9NEKPPW8yBb0Q+Zy6IdSRPYIoir3Kq2g9dzvWvma1Mz1n1S69rS/kPD/zFj5EzF29WrUiPsrGRjzNgB++oPfMO20QkD2i6de90P9MPQ20Nr6aQ4G85lhVPRVoFL7GDjy9K2HRvW76QT2eQ0k9YH20O6DZOrs4C6w9ZAXevYXdyTzz+Zo9irIIPWUair1zO6C99v4FPjmywzyD7cy8uY6RvXgdbLzeNLW9AjtkPiwdLb1HobM8/5V9vgiPg7seQ8A9jLjFvNfeiL7iTWg90IqeO4BasrlIE9i7PG4hPTsmkD3PF5m9GgyIvCrVHr7MDwM9kD0DPdXUz7wAZry5pCDMPS/+Y74L1sm8csKdPRZInL7iLAu/AAbvOrX5Nb0PaJK+scWNPZSvG73/yYE9nLyVPR66Az30ZFe8d72YvIg0Cj4fAj4+tP09vUIQbz353Ia9yS+xvQtFp70n46u9esdavRxZ9juocU89R6H1vW1psDzDIMQ9mZgPvrgfsLzG/289O4ntPWMAlzxhHJk9BC8OPiXpoL4FCzm+X2DvvfJjt73Uo129roHqvOJxn726K9C9PKiiviVMgL0uRJw92I4KPHSOCT0V+709A6MavhnErj3rWru9Kzi0PGbUrr1ENeC9TTeXvcgFKT1Q1XE9FJAQvrc5GL0rfpy8YGYPveEstDwUjre9WhGevX9iJr4iHPy9svIdvcDP27lskIu9dH7NO2/9sr2TRxW+lcTZPAaUfL2JofO+Fi+2vd1QEL5AwT29XA1AvnBtsb0tK6i9qsjEvh1Bzr0oU6G7y+idPFT1Hj0AeZy8hpEPPgI2jr2H6Qc+cKzdOqXjHD5uxZo9OieLvdfC771XU4Q8tvogvrVC7b2vu7e98kVQPjU+rTwx9om9ESOvPZDDmbrMqRw+G07GPeov1bupVf29VcwJvuYIkb2tju09LhZ2PUM5vb0eMQu+1NnavalKsr3fUrw8+D4qu1ylcrwBdMg8wglSPFeinzztybO9mo//vSzSij2eFL++aJqAO7CtP7uc+g2+ztTjvXPEFL5u0XO9UM0fvKYFi75RMq++kYesve3pjD0WJZO9WP2du8EAAL78CkG8uqWvvbIyLTwy/Fy+nd9GvjtsCb9mQ2W9+vn8vMWIpT0y22a+V5aRvGbgTLyYdpo7MS65vURhkL3b5r29M073vSKGR738Edy+QrWtvcaxoLw7oIi+azUfvswu/b0U2tW7lauJPLdvhTx44WS+Bl2Wva0y+T1fZiO+L+slvuKCzL0ytlc9ulesvTTosL52rwY8RJ/avGDqcb1DZeU9wegcvM8K1j3D1eE9lqN7vJDahD16sgU9/WvAPR68Br67RRG90LypveEn37xi0DO+IJPBOmcFo719xEi+faZDvtXfrz2o3pi9uvBdPSutib2Rup29UBiVO9K4V74zQNQ9fiOlvWYCBjyShrC9cQidPHLU/7s62I69lKgivm2MrzwC8A48Q1anPaqjdT3A5s45O0ADPn1sz73TCLi9ldvUPdLqaz0GkLs9gK/mveK0i71muQ28YipyPaj8i7swkJu7+262PPn407wLt/69TbMGvPoK0D3s0VW9+kZPPCuwEr40prS8fB1AvVCbc7w3pjS+C+uOPRCJYTu/V+89ks2evHT1iD2IrRQ78vAyvWvOuL3CyS089NpuPVwYED0JZMw8xJEGvhynd7061Pu8DGMfPXMQmb0CWww8/ltoPgCSpb0CnrG97wGNvalYhD40bii+MNi1vb1G072mC6e8ICvcvcqwl72X1fq9fNuTOzpmmr35UAW+APDlujYsAD71b5s9pZKpvUTmMz42SjU8XMyWO4jyTT4CnGU+DfOiPRTOgL0KsCM9Jy0xPo3k+L2APnu7tTCBvPH0Lb4+g7a95oubPUvC1z16QOG9dddqvhUIEL2aJjs9WCKKPeI3ib26TYa8optePQKQeDwALAa78ik+vrjol722VJO9bfDSvrnEpDwa6t+9s2OPPM4TY70WvzI8XtgivIAA2bzKTEU9Nuoxva0DB7xYICS+cqLOvXrlrL0DiiM+eQGWvZA9SL1w9WW+JuwwvoDaOzpLsZs805yMveA1Ej3OeUu9SdT2PMC3jbwGfNy8JWbWPXPFijwRG6+8S2TNPbf0Cb74wFY9ikIUPeC/aLuctw89wv0YPk6n9L0EBMe9+7XSvYZ9ir2WYMi8DxPQvcMYqL1V0dw86g9UPOfklj0hTg2+6IWXu1l5/r3CuHk8hVKwPWiTHj0v34u85iILPLaKxLyjjd88krhCPIAIIj25TQy8avF6vXVsS76iRtO9WVk1vthIA75Xnom98PGQvURv0b3caIG7aqetPYQuZryZb948MQyPvEy+Vj1uwQm+/jaOvSx7qL06bks940WOvboyRD3GNxi9YIq8voqLoT3x6oS9j5wpvPYIgL2DZd48lMSCvQBRCjlxvK49x1ylPWi8PD0+tPe8klKgvtxeBDyGZHe8YiZKvstVDj53f+O9ly/uvTXAgr2eolc8aOervdBWLr/Sa3y97nFCPWhDYbxVOYa+ApecvGdw2TxF+sC8WKslPcIDQ733jbO98GPHvfJ2Gj2QH229M3+VvslKI74uCYK+NBqPPVQVp7s0rbk91kvzvD6dHj4poqC9vv4TvsQgdT2q4S++3RrhvVC3AD4GWwg9RsLpvZZRkj3+GmE8uppiPMxShL01jRK+eiwYvqZoZL0rTMc8wYdgvqJ1BT0uiBo8PFFLvRT4nLz+/4W91wXbvV6X072fzPq9RYbfvnj6fb20o7C9hU+0POSNUbygjoS9lN+dPeVeuL5NNvY9jDpPPaD8zjqYXDi9TheVvv68UL2kHBO+j1/2PUngB76gbrs9KV3JvgBUj7dk+Uw9R3wUviGzzDwATE07U93CvRgNTT31MVS+aFVrvFvTrbyd+Py9aBFmPYegw7xSC4u970zWvtK/aL1avSo8IxHhPBdCnj1u9cO86fPyvEK/zD1Fbo48KHsyu6glM7sb494830elPDLz8by6Vzc9gHWkvImBnjzqWd++TFaQvbISHb2YRAm+WrYtv3/1yr3Ible+eKKbvYu+o70COjO8KXTsPUDCtDpDDuS8ZPFkvduAlL4MLoy+ATSHvbKQlb0YzIa9B4kDvn9ZR7zUlIS+LtPQvfC5szvb3NA89gcJPj8G0DxQkYO7l5iCPLn8Gr4fnfW9SwbTvQvbmb3vPFG+nF4dPRZG+73m6CO+o6ktvir2X72zJb+90B5lvgCyYLjahDU9cA7vvA7Dlb3z1Iw9w4/gPMZPfL20qw8+/5N3vgpJ6rzgc7k9CIbMPY5EXTzua2g9PrNZPXQxEj2oNEK9z63kPdZ7Tb2B6rE8qJFsO4Q7MT4QRUE97YycPJw0IT1QuAO8VfGUvm/Xq73W9Im9OqkMPpF4nL1pquw9AR8xvdOClb2Ubmm+QIiUvSy6Er0OKT89uw+evEBoHbs6Iw0+eMqovKLcXD1ld02+irooPJlZ2TwhJ409LRBgPuRh7b0H9QI+mQjqPRrsDT4gedu8+R/EvM8d5r1yY1c9ZLlyvfLfxb0yH2A9Nrg3PRbgHT5oRvo7tGrxvPGNET6BB6y9zRjvPbH5Dz73GXA+5koEvc6DSb0Q6MU9ankuPN3M8j2gL+y8+YDDvWP3ub7+Zn+9ECdpvHdAz71ANak9Bh5uPENYDr24jWu9tMmUvWvpLr4wG4i9OiZnvYZQZL5kpQW/X1SuvTBtzru2bjo8lXjIPG8L3z24lBu+U0brPfgATz0Wr0Q89HeZu096yDxvjrA8DxFQvFSrZz2HFh+92KuAPRDmhD1goic9U9OAviY+Oj4ahEQ9YbrHvqTpAL2OB1y9ZGsFPMYdFLwkjsG9SQ3bvQBiGr1c5YW9fDqCvT3ftjzeNJ6+cIQ2PevFyTyHjHu+rhzDvB9ajL5Es6K9BxzvvIQECj2ibh49inR4PVvXD77B8pO90m3FvnxiHb5ZYbW98j+svbY+tb33ZTK85nwLv40XRz5BuOY8MPJ6PawgOb0l+gC+UeztvTSiUj3jXqq+XlFFvSDNcDs8VJm+2g87vpdwpL2ZXDS+UKS6vJuIg73E+W69DignPWaHLT0P2uK9cY+rvi4IHz00d66+rlKnvXayfLw/FQU+FCTRPTxg2b0Cxbe9RL5PPR9sR73HU+U9OrUOvQxoIL8jZv+8DEmkPTUb17yfPLi8xeHCPOCnvjt+glY+ovh2vL073L2iQ3u9UyGavfamNjxw2rI6VXKWvY0XXLwgGCS9moBFvKCPPrp2Y4S8RNVzPfwkm71corm95klZvH0BI75wQhK+RvCGPZdcnL1FMZY8UVcJvo090r5ELjO9XAEQPQw02TtyAnI8Ae3EPDSejbwUP4q9rh+IvaDia71rZFi+/1L6ve5TSb+FDo69+FSRO6OCrb6a0Pm8OCoHPkZDEb5iHve8wyHpPEl3ob1vALq9Zv0hvQYtfb4eIw08kObrOvS0Kz1H84S9TvKovD7OAjy7ogO/qYLaPPbtNLyAk3m9FC1uvDLlXr1heo29nL7vO4D1Xz0R1JK9DTyNvpfYjT2rj/O9jqk3vaISOj374ME85IGHvGUfFz47bUi+PGwDv0KtML7mvAO/eL/NvvARDr44HcO8CPJxvfG5Br4r8Ue9jUbcPU1Vwjxsl3W8iUSBPGNwnT0rr7i9rKe4vcNgjD02sna9AvO8vPHruz12Pm69LodJPO4T7rutH489lsWWvu0oYL5XNbm9irQsPdYk87vG+449v8rOvZJFf74CeYw9usxfPfNwkj1CkWq9jRykPJ8B670dDRi9JtCYPeRSpb3OSEK+gE0TPJ2YnL1HLp48kM9qPasHeb5oKjG9C439vS4TGj0a9Jm9Gwv2PPiK7b1G4zO9/nImPaLNab3Dv/O9Gp0cPG0nor2/VPu8t22gvjOg+rzhFcC+Nze+PRtRIj4qVQC9ChRlvkZZlb01sq+9S1L2PHr4uL1iXa29c+GMPR2JWb7kAbG+8G6fPc274b2WKG+9yBYYvQYLW76RIcC8k1QMvg1woj2sopW89hDCvUuOrbx2dgS9VtJgPJxu8jt8lJg7c+eWPTIHx77gNzS9IO12vZVvqLz/jN08XtpdPNPYvDxHPo691WwovBzXBD1irpk9SL0JPMT4AT0KJby+765QvkdBGb0pI/48lih9vYz9PT0e0Me86MLcvNHkq727OgI+2r1SvSQSoL06rf292OrdO+Fot7xuFFI9KpcxPfgrXr7Rkw++OPU6PeEjmL1XNvC9QGbivUXErb3UHHK8jxvIPS1Q1z2qOjQ+FoumvrUbhr2Nr488QUGJPVx+a7w252G9biCavXRs/73/bdW9yTKVvKAvm70lUJE8/JHTvX1qpDy3zZK9QtrmvTDjCr7/H8o9uCfhvQdYKr48CX29boWPPQfHrLw1nu295aeqvR9xkT1IHlq7HB91vuT6n70pP8I80f16vLlXub7a7g09fwPLPPYdgb5cXgQ+OH8rPlMp5z30frc9AO7zOgBcEz25iDY+g0HbPRaXqL3a2xs8/QCcPd2vw75vKIA9rJOhvsZ8tb3qOxs8Dm00Pb0EDrwrAPk87jMAPob+cb15kdw8FFiuvAqCRL2NW8k8AK2EO2iftL3jauO850jqPc6jjb32K4q9MiaRvdRo37xqfQY+FigTvnxnED0woWq7aoUUPtl3kb6ADQ++JwXxvZbT97xHGM+9WsaZvSrCqL2GXjG9ZmRuvR6Gs73RHBC/rwIPvkadXjy2HIU9OnplvVPvzTx4sqK+RY6KveY6Mz3ylUi9VekkvfKX3r0Hg4q9vFN0PZtvI70nZPY9UWS0PM6AnL1VOSi8useRvY4/DL7U1AI9kRydvuDaVj2XFOy9Trk1PTp7pr3mi+K9gy6PPTDRBr5EDei8f0eRvvJ3Eb6yXW29RLrtu2D/9L5U/As8O579vR+rDD4goio9DEILvn8wlb4B/Gy+SlR4vLBUUj0DG8G9KB7tu+Dghz1z2+c9dsatvCg0Brvv/oO99nKmvZm2oTze1Hy+0bRHvmSqXz1Aymo7YveTvV8xSz5Qm8k9mbKpPZegIL6P8GE+xDqrO9BBZLtUFBm99Nvovsr/Frw7Rdo9e45Mv+rUHz287Xq8ki9xPTLCIr5gdhY8y6sAPlotAL1nJlW+wTBFvYRvRT3pveu9guNXvUGcKr9ZcSq+aujwu6i8ob0cPTQ9xwOGPDIFd71DBcw8+0LHvQNYhT36Jww9oDU/vBB0crxIOJG97Cpdvv9FM7y1h988+jtlvQFW0zxAkxu77MKPvc5wjL0oaBy+JK/rvckosjwQjXM9THt/vY/66L1480u7kQcRPvIXdryTR7a+7NgAv2DANj2Vu5Y8IwqxPNnio72pC7g8tsPqvaka6bxqKQI8pVtAvBDAcb2CWIA9lKXhvN27AL5VBOs8QbAwvqXK6D0bl5E89ISnvKS2wDvZZ4M8vD/lu4iIC7wSrGK8xpWGvdcgh73WRdW8szTZvVuDz71Y+CG8yparvbjOmb6df469MBfGvub6zruDI+S9ZqsGvbgOg7w2cOq8kL8PPW7A37wP+Zm9iPaFOy5E0LzVWYC9zE3CvaSGab1ztYa9kDfyvC2yDr5JroO9hz2CvBmC8TyA9Uu7nYSgPXpCwL0sSQ49VzSbvXJ2ur06H6m8AdvUvcFDTz5imuS+JH+PvkZyjT3IS7++z0/9vrSp1Dt4w+q+PW+MvbuSqDwW8gC9r9cBvo0Clb5XisS9otN9PHzsEz37Mxm+FH14ve4087uWEbS9Xq05PMqKSTxwuXO7tY7RvTEF9z0LgM48JCt1PSeKu71Nr0S8vEGzO1HDl7wJaKm9ltcLvzJZAb2mOoC9DBqmvGH45Lyevcq9I971vfI+ET1LWMy8CJO3velWuL2amEs8+KCCvBuJuDz1oNo8JOwCvqAH1btJE4C9eEUdvUuVsr0LbfI9XgMgvXfSO77okfe82HQ8vIOxzT0NKqK+EQycPP+7qr0Gbd+8Vj6zPaRrrb2y2g6+Wq3RvNafwLwfd5g87dtKvviFbL2Shjg9uCNHPR7rYj2b6CK+g4kVvmRaobz8h667QBU1PXhFAb9pkXO+Dv0lPeoa8L2g1lQ9cNl+vAkt2L0e1M69hHCZPeZkfbwHjNm+tbwFPtWItL0bJz++fNPdvW1s7zxgzI868nddPJu+7b0CI12+KkQFPcELvDwmJnc9LOyJu7OF7Tzo6T690K0TPCW0ub2P16i9LKmyO1EE7r1BnlK/e6EYvb2DM73Nxsa+LOHCPYeCszxGzta983xJvOGAoL1BIFC+5qtePFbPUrzR+AC/lGYvvFfnir3OX9m+wOqGPcyzDT7Ajg069HdLvWDjIL4CKsW9LUi+vE49VT1nhL48DR0APtLpMj6gD1u+GPoNvfQhm7zy5eK+RJwTPAI7m74oHuK9ZXC+vAhz1b2E0Vk95eOnvfaepbzInnA9ELOxu4ftEr1GCcA9FP+DvK9wgDy/dYi9r9k0vgqyNj58hZ69Aijhu3B+nro0sh09xtNTvNFipjzzUE6+vETNvX7aGb1T0MQ9YlgEPFcJxb1cnhc9Lzwmvnow8rtq6f+9YmBDvXcL5r3lrhC+Pi+dvWpMdzzvS2y+mAkIPJGj9TzaBUq+BSekvS3aKL0Avmm4/J0yPe5gg73+sig9qXG+vLeIhb2VyqS9F/GCvb34F7xbGKS9YqksPIZkob4OG5q93VRAvGrqUb2sORK+ITiMvENPJz72Fpu+eA+8vrsigz0OStO+e9GovK1QpbyyD6G8Tr+cvUZUkr0f8yK8FlEEPjqDuLzUDR28zusFPYZnXb385Ay8WHR+vWM0j7yGlXQ8TvZhPZ5/Kz1okZU9qWNfviaJcb3JK3K8ytvsvQnB1T1Geai+xY4Kv7uEqTxYj7C9VYnrvqXl2b2O7mY81roKvI+T3j0oxg09/jdNPasa2j2xG4e+kCdRO3LDlz2NLLK9dUfGPHUh0r6wsfS6Jn2qPZ4XBj0PUYK9Bj1lvb4gMz343Yi9JEOBvsgicb3dpve9i5HHvVqJJj3inGi+YlqHvt59ED3fMqM8YcfJPTeJhj379+e9MMsivcPq5zz0PQ29SUbUvZoiCj0MiVc9nv3NvXLEbLylrfE82tJPvgwYLj2Y7Nu+4nnPPWaw3L2p+m4+gmO6vaacar4g9zm+PBsbvvkbwDzw7JK6aN+APa0EpL40nKc7VST3Pbkds73R15C9nWKVPPN6fr6Cv2K9MkJNveBXsL1UNF09YOxeu/WQqb7MXsA7ueLsPcny5jwZgGW+YMQku5CZ3rxzc928AK9hvoVtvTyGbh69bbDIPP7eUL6kf5a7Hy7wPMljhr0U/Xi9KYuoPJwn7LwSVJ698AcrvU9O8b3eeJW+MTjqPFtX9T28N8C+SxUJPtJ9Hr3yaFW93h6xu4JrxbwAR524knzHvQAXNr5KNDO+AAzlO5cdbrxdFkG93Vi2vCOq/TwUffa85A8evsWskL2G03y9wWrLvNJLvbzgZb684Y27PWg4ib4w8Ic9Fdk9vDutyj13+608ydkAvQTVA7632p69tHIPPfXUBr6eSgI9IxesvnXNuD1MeC29FbvbPLRLwL1YIqU7jTfkvFCxVL2PTMW9ouqDvRThEz5O1n6++Bg6Pi9/Lrz4S7A7LOQnvgSVzDsPkm++Ju6evff3nrx1RNQ8uHUlPKHVoL2RSJc9OIQnPRtOXb7P4vw9M8yhvdo2gT1CDw4+KVDCPTet8TwYLWG86tdQPFFVur6anKS9UBMZvY/dWr7B+Bu8PB7lvQFhwTxeB1C9gnoKPMI0a71M5Aw+Uj0pv5yeKrxaNGa9XDOFPe4GdLxAKY07BX8ePtzgGb6YajA99gCfvZdQF76QGYO9bGNpPSmnwjzDbr+9pcbgPIbkXDxa1Vq8bFB7viqkBjyyW0K+vGt5vh/N4j2A3+W+KtqCvPglWz3KNQg9iFSZvWrfZzyuWxs9ZwORvoUekjwoITk9vV6dvRDNKT2rvgS8e8kIvfbkc73kMZE9tHqBvanAP70q1me9Cdldvj+2Cr6kvb+8sRKhvdWPR735KYU9mNySvfEBjL523NA9ZbumvOP9EL6OuCC9PNN/vblIOz5Q8e++XkIZviCQh7x3ICe+2HGhvcIzdb5Y33W++xzpvn1ZtTyiFdK7EjtoPUehzL0iLCM+TDFyPaYolL3a6Eo8KrU+PDwF+r00K7U7wiaDvSRoVr5gxfg6iLu7vq6Hlr7dMM89cLEzvoM2wL13hcG8rjZLvaYUIT0IPUY7yi3PvUlaBz6Ga1Y9xDOjO4Pnq73L3c+95ISivTWlHL+KXZY90RWbPeTeQb0z04w9eMLmvDivjrzJ+4c9UV5LvljaAj56K3e9csptvToSEr3vvvG+NLMkPA7kkr7MlDk98Cbmu0e32j1qoBo9fsjAvWCZ5by/Gru9gC8APZfRs70EkwQ9hYp3vsoqJb82YSo9Yg43PHj4PT1YU/G+i0lKvL+yCr3MkPS+NI6ivdpXjr14fvq+TGJavU65BL4yanI9MublveYfv73+4Hy9Gv0jvlSP8r2Azzo77fiFvvY2d72KUoO85G9XPZrTLz5OmQO/pWu2vE4Uu7zPEb08oMgXvW5o7L0cSui9PjZ7vUDucL1kS5u8COnPvegVOb/233487uNvvVQQJj2ncZO9gb9BvlhhCj1pvvG9gUgrvvOShr2VP+i9fFlzPccXAL5xJsM8lTIDvmbgLTwEBQE+bMBJvo9IgT0LHBm9piPGPS1bqb6ZUuU9hvk+vXSpWbznaJk93vWVvOwcYD0I9YG9pmASPUvVP7x85BK9aQndPdp+Qr2EcoK7n729PfrJQ796QjI93FoCPm6CGT3yYhk+Pcj4vUZGvz0wuAq773YxvrHkvrzB5pw9T2ruPHNMwj0riAY+Y1fbvtAlnTtYOXq9xhCIvkK0KD17ubE9cTLdPQfnvryXOnq+AHHXvtzc2Ltuy1o9NrSTPd7ppr1ghGK8Ux/EvUI45b3n3Is8JPAyPauXhb1V7Aa9Tnw2Pg5TdD2gy4O8jvF0vGERLb4ehcO98FR3u60XLL6EvqK+CgZLPbAcez385Oq95drYvgopzL3F0Ok8XZrYPaxYobydR+w9DZL8PTC1bD3eKqs9rOiMu3ZWQb2L1Me9Z82AvfAMIrwgIAI9I4OIPHz3BT2wWoy9SdoEvOT3Cz3chHm91VP9vVKJUzx0AmO+DqiUvqqElL4orBU956aMvkYbw75Siyg9wIMpOul7wTyutsG9+b4Hv0jccb33uAU+i1qNvsQxA7482Ym8r7/QvJR0ub0LPcU9fMDYu8ZYqL70rAw9sqEevszTlr0mF5q8O7wOvkSeUL4W8rq9VTvIveZBVb6ZwjS+jwfYPC+h87xwDxE+zUOEvUAJuLl8/pC968+QvoOLpbxVpZU8M1ypPAIGjT2OkG6+xrRCvdxplD2bhJM8f71KvQUHR762mFu8KBvFParxqL7c1G68IAbVO0xjbL2kbLC91hyQvcIfpr3Ag0S95Nc+voX+xr03Uui+VudkPL7Qyrxv7oY9qsrevE5mhz3165W97HOSOwYQv778FGS9mCILPgoncLy+5wa9aHK2vnGPhz3cKUq+aKKtvUG8pT2YxgC9klBCPCimV7yQHX+9/tWLvQqC2L4OeRG8nXKEPSodHT3HIIW8WjErvdYIH725f4S9/QMUvqaBVT70O6S9ZxeWvcNwsr6NsIa+pZHqPJJRz70kqWW9GAstvwCjFDwWZTQ84gJtvdkNvj3FdZu+QxXivfM4I75Sj228vyybvZSBPj2Y1su9cEDLOkqpmb6CGPm9nlRfvcveo72qlnW9LkVYvB6gSL4KrHi9vB61OzBU271g1w870LOdvZNxlb4NPva8KMidvGD25r7rY7q9lzj8PDTcITz85Yq8p/n8vQ7JEb3k7k09dQjePFw0BL+RQoE91KJrvR20rb6io1S99hy5uzffrzzCeXm8MRMLvITsUb272IG9CDw9vmQ3Ej1Q6Oy9jqM1vBGg1z3GNaS98t1evTRkc70irFy9/8qcPevLhr6O6Y+8R02dvSkTsT15A4w8n/FvvlkA9r3uRAE9q8MGvzTcDz2tbdc9phc8vbA+WD29sz8+96aqPEmK1Dx3ggO+YtF9vH5AFj2dpYi9FkB9vd1LgbwDooo9l7l8voahZj0pEZE8hcaQvD5Fq72W9R48dLghPmw/tD0++6S88wcHvmLxLLyWNoU96MgMPCCp3r1Ht4E9vy6kPRafxb1cpf29vOr/O6yKYT2GC/+9gZ/TvR/Tvz3ynUA9fuIoPUSFED2Iekq+zCuLPc+Wkj0pBku8c5IOPjNO2L1HfJW83AaMPZ3JzL3GDDM9qcGjvWhmIz32rFi9CuCfPYbDXDxB2ey9LakNvIxfFr7xvgG+4tYwvYDi57m2peO91Lx0vQaKYj2S/Cc9bW+XPQH7qTzGHQy/d/APvZCfJD01nPo9Ni7hvAxUv70qLte9b5iRvcYAW7307Fm+vVxQPsbIWr3y5DU8DwomvGi7jjvIlZu9hlB1veRzHrz2JB4+KoMEvjykj7wVgja+MSlzvjpyuryAWTM914G/PbqClr3XW/Y8yiZMvsWFkb0kRTs9PP2zO74KIr1qKFi9JN+1vdrzND3GzbS9gPhmu3hxY764iAk9QJS+vvZ/Hb15mcQ9WnulvODwvr4JFck9RaWsveEnUb0nBEa+H1SRPUnYjz1/Mba+HiuPvdAsPb7H7JW9twpRvZ9HNj4gLUs9mRfKvdgLg7y3CRy+kuo1PddfKr6/aoa9E4bEPNgPIL7ecpQ92Ksxvm2nh77QCDm7qf+mvjZwTT2/SaY90TpZvlwyqLxCz6y97PBTvQKagLxafmK9hGyWvdGxmbzqDyS9vmByvatcTL5XXhC9x8ucPf+R4z1UNCm9HlgWvgKUaL16uJ29cLMjPfgxFj2mH06/GmgivOgygLs5A508e6LUPVyWqL1Q0xq9oLi2vgbXiL6QmmW9WEHcvVUUHL5hyIc8M+MIv2HtqL7WGci9bYoIPky6YT0ASdI5ttzCvW5OHz1lE9U8PgmpvdAbaL6lzBe+NIczPRjqfz1POak8Ujz+vM6xNTxgm8C+fqw9vj6cFb34inq9E5H9PP5rebzYzyi/+p0tPcNkhL31eUe+ZgAtPLKio72Auro5wruMvExNF76qJgU8n+Qiv+My1j0Yi92+lT85vyyyoDuVb8Y8VgMVvVdVrb5AqiS+fcG3vZKCQ77BLoq+7vNAvRfgg70nXCK+KmgCvuY8NzwYA6+8ABijvKE45zx2/za+ia6svPc8kD1RLb09HfFEvm81y765DiO9oO7UOoREn75T3r+9cy/wvj7XiLwNBGe+JX4ePrBcBDwyZjO+WGarPdZ0Jz2IoLo9s0kSviys0r1UfYE7LJsPPcg5L75paMG8QCAMvhgwgb3UjtG9TtOdvjFbyb5xsZy98iWGPZhsN75+t0c9bBh9vVnDm71UxkO8qO15vPF87j04fSI8CAj0vmQ7wrzM7fS8am+9vOO7OLyCDgy+3oFBPGzeML2D92o+YGsZPULpgb1cgFS9Y4UXPmavbr2r8uw9oDJNvRSYcL3/E8w9xuq2u3ZcCzwOe5S8NPfhvM97rb0kP4g9/IpGvbQCOrxqIIg9eTypvX3l3z31kpS91EswvjBRMrtj5VW+FW2+vfRCCr1A2Ie8eZDhPPMyJr0P1+U8RFAxPtiPTTus+4A7EC+7vhpztr3Suei+8VPcvoOzn71aEBq/I/4wPkufUL5NqPM8ezjFPEU6h7zFflm+5IpEPeQmmr0bfai9/QrlPcCz0z2ozqq7wwHxPEUIrb78Rge/KIDLvtrOn73+ao29fLnfvLQmBj3wVVy9XJFTPXXs2j1sGRY+ptKuvaKLW7wA4Lw2NrKjvAJdBT7z3ss9XGYTPWsaBD5jf4e8N92lvVUhlz1SFRu+GdSFPZgv7rutEQm+s0cDvvl4xr2aJTw8yGGzvZ+T1b0VSLo9OoSVvVnCAj5a/pG9Bhd5PA4Kgz2o7fS+7v9ZPZCMWz22myg9p5qrPMt8wL23qnG+Gt0ivlZRoD3chFe+gd7tPNhhjr5Fh1U+Ss8RvT76ajzZyI49RGaxOy3J2LzZ0Nk9/q4Nvomk7TwgkMO9CrRBviQ01r4qTGa8CFEaPLaA272xtBC+nS1QvDVI4jxe2xq9x1ryvQRZcb30DpC9OgQyPZ12Ij75rni+Gs8svtzSYL1fji2+m1/HvWbnYr59lr088wilvs630D2WYU69CED3vCLQUzwQ7HO9syODPCJLGL4H6gu99bCGvSXs0rxh7wO+65gmvytI9D3Susu+bdy/vaaxBr7Q9yu+JapIvkoX67xOQgo8qaQfv9bOCT3olXu99mcsvhsCmDxpZgQ+XSK6vpymAr8BwNY9jBvpO3Zapr2Z3c880JaZvWxGtz3oxk+9ZoBGPKODvb6i9H+9lNiTvcSxmL38SKK9QynavSiHRD2Ve6A9M12ZvuIrmb1hENs9uWd6vBYRPj0nkpu9sRPZvn//V79ySgG/3PeOvQP79z0o+5u8KwKoPO5dgj2UO4O9iFWOvQKebjz+gz6+TkXJvNO/xb0AEpu9SvpWvx6JYL4iyTc89pfVvHr3nbwzRxm85CeYvQCNcrtpgZk82DLWO8ChuL1XYJa+fPJuvvTQBD6aUI89hIxlvNXk1D1x9+a+n0PXPFBSxTsyk5S9wcyTvbfChb1+6jE94ph/PfwRVz7SVTo+zOUsvcqEVz5IDCm/s7SxvTtepjy7xje/T2SmvnKmUb7TbtK+KPIKPdzm5by7JZQ8o0gwvgz0dL0Amyy9OEpyPdngxz0okmW8SowmPdpHMT3k+kE9tpW3vMC7OL6ioQm/ez+pvqUROb4QAba9tMxYvmf0iL2b5PM8V186vczWCj6Cgyc9eCDGvCh+Az1Hb6E9q7QUvjy2a7ydOdC9viNPPW3gmT26wZy8AplsPQz8Yb6SMLS8T4IgPhnloD1i6Co9UpVEvSY+lr7IDxc7CInavf4eUr3XUao8eK0qvTD/ury4Ht07l6//PfobhL51/L48mxnQPLp2FbzSTgM9sEw1OyygYz1kvhg9xEMbveIDFL2YkWo9fAWIu/sXxL0f0OG9FNpFvWHW7b7wAPa9zykLvy+PDL0fu8w9kttUPcA2bb3XSa2+IpUqPeqR6rxeLwE9ehqYvaK8Rr75tA++E0MKvtasm70nHWE+JdTEvjQ4Wz7CSHS9OP04vTZNAL14gR27ul4rPFwFh7x4Ety831KePOa1vT2msCE9gHuiPQD70bw+VKa82sUzPlD/Br2dc1S+KZUVPkBABD2bT6M9Prgyvvjmbj1LwPo8F5KrvkX1LD7eYWQ8IEpLPfqoBb6YqXK78jgEvd4yhz1E8Sq+1z3iPNyTjz2z6vs884q2PA6aIb1DzF2+JcGHvAs6hj1LhBO99x8SvYYp273qUK+992ecPDDAuDpoe4s9diRwvYCatTm1NCW8mX35PHsykzygvsm85AkCv9GUgz0aKA08lU7xvb/Yvzz8mUC9C7fAPEKcCj7f7uk9h2fKPXXy9TxM/zY9A6HuPYwbCL18K2U9dO8XvZBYPbsCrGM+OVz0vfUE3L7XckS+INqgvhh9cr3cL7C9ctpwPfUKCL+3jS+++1eEPVY3/70Xte697OwEvaXfSr2JDQQ+caeMPVHulzyK2CG8ylhsvovbiL2ORpe96ph9vbwMhj0Ic1G+tAgvPeBeJjp4m5k99gsEPfsJ0DzwPRU8+BsOvIKeczwkL0a9XrtPPeJGCT6mY7g9cjtpPJgSKjucgXA9jYezPB6BjbyAVmY9UzYdvXiAILsiXDU8BzSUvdC/Er4Y1Ze9aqN9vVW3sL02Uwa9vK/wOy36LLybxEa+lIJjvQJ1273eyB69yqs9vnf3u7wVhoK9MoM5vTaPpD31k9i8wMctvpu+ub2m0qi9lfOavVcr9L3sDCC+5pQqvk9Rjr3C4Je9MLuNuiYupr0KJRs94dKgvg==",
          "dtype": "f4"
         },
         "xaxis": "x",
         "yaxis": "y"
        },
        {
         "bingroup": "x",
         "hovertemplate": "variable=2<br>value=%{x}<br>count=%{y}<extra></extra>",
         "legendgroup": "2",
         "marker": {
          "color": "#00cc96",
          "pattern": {
           "shape": ""
          }
         },
         "name": "2",
         "orientation": "v",
         "showlegend": true,
         "type": "histogram",
         "x": {
          "bdata": "kKXuvECwLL3Ax+O74KhFO3wfDbw78jI+IL0Xu0jpvbvULLi8INdbvQ6XKTzAyvS7SImDu42Kez2+SA69lr03Plzx+jzmMic9PtKrvJQxqby4ppI9oU6YPGoZEL1C9pK8VEHTPYWzHT0AQxY7do69PFtoIz5gfns9iDecu14bfD5amZO8doMJPKMi5zz9yeU9wLqJvPCjq7sAn1+6Qxx5PCNlbT3q6xc9tLo5PV4jdr03ezI94n9APO4Ikj4wzF27u/COPMzyqz4ESEg9/KcwPPBnY7t+WZg8HAxKvKYGkDyo8nM9gwUWPUB6a7vYwGg7Y1YAPYAcCbxgLre7op2+vFDfO71gh9k7An6BPNTM+jygMmU7CPyovAZ80jwKY289oG74uqRKELwCV5+9Ot2WPKQrDD0AZI86chvEPEYbjT28Am89RPHaPLjq8DtMPgE9yHY8OzB6vbs0qTG8wIOyu5yFNTywFOA7wI9dvGw5ND1ewR+9n9XLPBpG4z20OrA7eHxOPLREvTwS1bM9wJ0hvDCzuzt6oq281XuZPPSWNzwQx9q7MDRmO1dhez7/dIE+gIEpvdxe9jsQkzY9DbESPcbppD2IqlQ7mFNfO+BZsryMkSs9cIc4u5oGoz29z0o9UPW0vPIVGj2OGg08TtM5PDQokTuoE4a8to9YPEJACTx63Rg8cF8Mu56BJzyo+eU86Bo5vZwiEbw4E289NHe0PAMWMz2BU1Y9BrhiPRiLjTzGnhe9dsyEPc5yDjxgqLA8UCNLu1CzjbyeXUk9hhb6vPIoJzyoXYA9Ks0fvQRkVT0xco69OFHdO55zqzy8NgO93PAqvPZVN72s+pg840+6vS6yxb0YwHC8T0swPRZrgj0Ma1+8sM2tPPBrsTpVaLg8bFy8vKhvoTts1ak8dMPhPB5IE73ImB+8zpcnPLUTAb0gae47B9LqPMAxLDrnrmg8zChRvGvz5z2Q0k87jvaKvUBwhzxdsXs9GtVHPQDjYLlAu0u7j2//PHCFmDvcRuK8xpcKPTDWHTzA2445RhvXvaAb2Do8FfY7p3HLPHSxMbyitog9wIuCPUA7Xz2qq468UFxAu+JaHDxYH308IPpxOsDOZTxrMAQ+8oBDPMRspjuSUce8AB7uOIhrVD36TUg9igOuvJhaXz3SdEI96BDcuwqQpz0A5RS5yBlNO+CRA7tQirK7OKwgvGCqKLvuAA09QJTtu/igkrsIEBU8i7lXPTtCxD1Q+ji8oBmlPei+0LusTgm9EArnuxXxGz3U5os8mE1avBRaebwS4zg84N8GvMTGLjwa6k++A0eHPN+PkDyVOxo9MG6GPbRAbD2dSX09+JWCvKKVET1n/7s8gH6VuUw65TuN8189YLQMOrCzubsAVoO7mHepuwAcUTnucgY8zywWPZhkij2Ts0o9iEbEPNIsLjx8HSW8UuugvJokNTxTyKA9YF6eOmb5/D24/Pa7qpULvW4FUj7ETsc7qP9VO5ZEkj5uO1g8PFFmPGFqOT22V5s9V1MfPVQrlT2g86673P6CO7AYpTu2zck9tKOlPXQwhz0ORVM9WPyxu+Bz8zogJyA78Liau9mWJz2eR6e8HiH5vajZe7xgAq8+ijIdPnCTsDynzzU9itQHPgFm2DxMr2O8+jfDPYp16LyCy9u8FKVdvQCttDifb8A8VJ4uvBJ5mrxjusw8WOX7PEQocj2SVUa9gG3tuuIWlzxI++88YlvZPKCRRrtmMqq8W2/CPFRVsTx6qyU9AalCPQAkCrz+fCw8+kwWPBb9VDyYZHK8dE2CPAwzg7yjVFI+QNqAPJi6Yzyyhic8SBkNvGArAbvQFH27zr8fPQi5zjtsTik8FEZTvECTQr1SveC8AXQaPeDufLxkmoY8F/+ePHVA6T3gkmK8HGZ0PQSuF7zl66e9QNUBvLcVn71AWKK9ojVFPJB+6LvAp0U8qDOeO//mbDyAHPy5/LZxvPYNGz1ceO08kGMtPBRp4Ds4A2M8zocTvbbQgD2AtdC77ALuO6gChTvOLeq8YpYyPHTkJDxQEle7MCtRuwi3mbvAb+m6mT0hPdSJTbywls+7RJ9kvPh0x7szVwQ9zIjkO6ycWLyMwrG8uMYfPNjLYjwuWxC9gE4nu/gdKDzAAly83hUePPGdET5MXSe8uAKRu9rbFz6C4428OM6Tu146M70qZMi8dKoavGh1CrxMi0K8AD/YuShbRTwiElM9l0Whvfirxjvo1KM72KGju+JdpT3YNPG7vD5EPYsulTzQm0i7wnurPEUo7TxQTj27SwmfPFhWCrwjRsI9bu0QPtTAQzzwHTS8qDHnu+YWMDwQRIY7wJUKuzJm7by0qPI8dBu/vHy36TuKAi087AKgPBxxGLx1dp09CIxTO0gKjbyEAtQ9CqEePlgFuTvuLuU8kPtpuyDKrrwGOTm+Jo+bPRbXcD1zPNY9gHFcuw5tEL2IefK7QLHKu7Nu3jwQo567LvYRPfrYSTyY84c9nIy/PRzZMr3UVyg9/aXEPOZO5Dw4uAg7iLFCO4BJ47qZQ2M9FLZivEpPsjxUdTG9rKNIvOLMFT1sxFo9g3fKPVKbjT1A29e5yAQDvLCKKb3MX5Q72HriPIx4kD1oGba7aHaqO8wxuzugJVG98DBavIusrD1fEME9PRHgPEVSiTzhzcQ94UjvPKR0iz7E5he8I1KjPVAonjyuJFg80hctvUubQD1YZJM98hsTPC8KcTwOq009wHxvOsgjlrtKgIo+wMz/uyijuDtceY28NL/zOyHGAr1Kpo68ek7qvJGabj1C9B08UOGIPS5b37xsQbs9sNalO1ZcDD4dTmY9yPMYvILbSjwSyoI9UbBxPWAdSz2o2pK8a3w5PQLBQjz0WJM84Kmau7mDwjytI+08XvFAPCRQIj1Yjqi7SL6Du4CJxjvcSV497Ns/PACrpDyAEqC7DjCWvGILj7zwDsq72c5Evsz78D0C2/m8HB2FPoAxCjzcTt87IIUqPNDZO7tk5k88GSJRPvj/ojvIZ1g8ZAYVPXD4WrsghqS7DF45vIN8TD6gpQy8Bvz8vCAIsrwghhY7ei5gPPDLxDpu2xI9IBkyOgs9wzzAxBC76OyPu9Z/Bz1gECM8oIahugh3iz1zvtU9nI8wPEBwBbzEIkw9qvI6PLzeyrwfCbs8rOEXvBCDRztU3us7eIiUu3jax7tiY608trAsPXneo73kGrg8RkGePMg+bbyCXUw8p/uPvbivEbzwSMU7m4dSPeLgMzyuJWk8AAE4ObDdsTwAS3M66+OjPR8KBD2UNUi8dg8yPcjfYT1S8oK8MOtyvBbpwLx3Djc+zhSIPEzHNj17I9I8xmBZPMmY4DyiF548eCbku1yCjzwYfIO7oDfQvLwpUry0lAg8OZ75PNii0zu4GB88CJU9O4AVhzzWbR49IDYPO0RKqLzcd0g9ALqIONYzET0AvAs64B8+u2A8a7vIZgW8cLP8O8JGJzyqYbI9XCY5PQAVojvOmUg8wDiqOrJLvbzE/6E9e8eZPNDuBryA2AM5TN7zOyhv0DzHpQs9DilVPGDzpboLWsG9XDJEvN0vET3L2bq9NkYHvRd1RT4QOZi7msaBvIDKrz1Fh449HGeDvL33g71+pkg+8stYPNRcWzzQv7m7pDWKPAiK7Tt4Fmg9PIWRPADQdD0GJim9uPJYvEiYxrs8Khw94P2BuzYhLD28njo8XKViPBRIpDwJ6j8+4CY7OtDoKb4++J48AJS3N7hDEDs8D9E7TPyYOxDOSL2qPxM8tEfNvOKjNDwICS08MBRdPNkQtjwIrfY8uhwVPFaTiDzcle28yKJTvOi27T2A41q6Zgy+vKjG8jxkjkA8TlNLPQ2uDD068x88UL3mu0iun7w8X7q8UBF+uwojIjy4Pbu7nLAoPDZwgTw8n4g7bK5UPNuivzxUPNw7II/+utTwPbwAHOi3qNwgPUxwt7xI8TS8oNWLuySq1juwKwm9+N1lO/eScDxUiYi8YO67u16Rcz3+ypC8oEqLO1rLhTxe/VU80dbhPKDwJLse9gQ9ysg0vfewFD3q2ls9MESMOrZnUjyLfLI8/mtZPMZViz7y/WY8vhQyvTgHJDzkr1E80cOqPFJs3T1kyhe8iPt7PI7YXDwU9Vy8gP7iO/2DNT1YtK07IOqRu8BMyrt5DAg9gjQUvZ6skryowQW8kFmpO+aijDyguQu7tG+jvJwJX7zcfe87eIlqvLKHsDwzP/88gC3yOSnr4Tz/84Y9AwZzPSQ0RD06/So9aZ52POD1JT2/sCc+zvw4Pgxo6T3Svbk9OPyHPPOaID7qhv891C6kPfuk5T2JvRg+8MAuPlbFAD02iaM8AEGqPbruUTwas2w8hKpmPS4Fcz1aEpA9dPNDPs39IT5bWiQ+2HZQPOPd+z0IP9I8dBAIPoB0xD0h1A8+ef/QPVIxgjzAsrU9JArtO96DxDyRq0M9iFCiPLTqvDwcqas7LuOaPYCTe7zAcQk+MTxEPdyMjD3wmRA9ZP4nPY4JKD2syME9dW31PTD/yz1q67s9S9KzPAf+3T10LgM+64F+PbIFIT1OXFg8OHjfO0QIKT2Y60A84FrnO6yMCTyaamA8xPEiPbSQuz0UVTQ8/GQqPMAGkD2cNqc9cY3hPOjquD386QQ8ZoxwPUA6mjzYtYM84PibvGBJ1LuUOJM8APNIORVy7zxgE048k1F7PG6vODwHSq48eOdYvAYjQj0A//W4/DlTPHILpz1Ei4y8VletPNgrRDsCozo9ub9xPOz1hTuw6jk7sG1dvLQ6CbzIqqg7oH40vAbavLyUWSC8IAgpvKA9abxCFXg8MKJ0u4CpLLngFay7HJQ3vMANubv48r+7PqMcvWBiz7tAo+W7lAKaO25eRjxgIkk6AKggOOBVhroY1WW9ODMQPKCvFzwQLHK74FVHu9Sihzy40M079zsEPS6hgTxObf+8aDG3vUnm1TzAfra7zL9gPOAWXz1KWwU8BOCbO4aFBz26ZCs8eOJmPTRRV71+FpO8WFtLPfT1MD1S1jg8Vj+zPF4uprzboy49O6SKPApvZjwSebk853m2Pd5jwD2hma48OvgNPOToMry/ILo87JOOO/T51z1x5eM9ELu7upORdTznH/08C2/cPHf9dD3kAHs9xv82PYdi8D0sne89YlmVPBALfT1U0Iq8jRUePnq6oz1kogM+eq+QPEDlfLv2aJY+ycBvPrj0yrx+RT49uc5dPSQZXD3HYAA+XNi1PaTtP70IgSQ7mxDKPIJVBr2iEYi9AIqou8DWxz3nDM898NTAu1gpyrs9zVQ9vDAOPKCxO7t+FbI8DKaiPBGoCj19t4Y8MLCaPeBaErsMdhg9ClyMPQmygjwgNAe7fisBvujZg7uEsNC9aDIfPPyg9j2f8dk9kEwTu+CiWLvUjTU+aLBKPERAgjtC/pE8AOcbPGHK9z2n2NU9BvzAPKziTj2S4dI8clmUPUKbODw6rhE9qO2LPUM2mD2sIKE88Gbcu9BY47tKIWE99lmhvJlYjj0LRww+97WYPUzSLTxs9iM+KNCTPa3gvTwlWks+9evRPRBDIj3YQiO8bWtxPeBXgj0yxrI9VHBQPTlJEz0+Ja88Kk6zPcEpFT3obgk8BTb8PBAoiT5siMI8KkYAvovIxj0ErxK+c/4yPqQ6SL3nh3Q+FqN4Pdj3ZD7P6DE+ZJ9fPnpC8j3RoVw+mpxvPlDOO74II5k9stNHPiA/mz7l+lw+KPBwvcakaD11oFk+VrNhPl0cJj4Kjqo9syJwPmyNaz6TClE94Xe8PXj/LT60Z7Y9Pg09PjsJcT76SMA9N2EqPhRjnj2yMjk+cuRoPgi7yD3TU389Hg38PdjlIj1qQEC+TTwzPemHOD6CPJA9i/bBPeIfXD5HUAg+CroDPgSMSj5kIh0+grYnPnoayT15o4M+LhwFPs4iTD6aRza9Joi/PUY1iD2FfTg+AsErPhDlMT7yiF49jStFPlIiLD7sPZU9efffPa42gD7hNEc+E/P7PPZzuD3eaxS+Mjo5PegZKD60aLs9yi9FPnhECr7FrkU+ipUuPRz3tz3Yg6E9HQQjPrZaAT5GMMw8dh0hPvouHj7L9ZI9RBKevH7CMD5ga5s9NYmhPYBk8jocahC+gukQPnICDT7AfUE9hxzqPKAZI73tRck9sBolPtBgTD0cQoW9QrRQPRHRQj5iIi0+fGeXPZej7TyG++I8wA/DPHDHPLwk6pI8AD9IuhxzJzxwLas8XEIhPGjzZDwk75W9DIWePcB8Vrw++pK8fCyyvCjQiLzwqZG8MGQIu3SMX7zQ5t47mHYQvNICBTwlndM8tuzdPUzCCL0Mcm28BMV+vLqQdj28BYQ9fso5PaxVtjt0khE8lgSzPXum7T22MYk9/Cf/O7hlALzwa4o95JP/O1Aysz2ScYc9NnrTPFDztDo8ho89wNOvO0br+b3Pkf49oeQ8PlTzs7xa2Io8mUS5PUCVeLuIOlI9kMJ0PdwI5zz8ngq8xhxwPCF4oL0qSYi9XTmGvYSfOb3su9y9/vKHvZ2Lrr3MgxS9xAgUvVJF2bzgbhu6sMeKvMjqDL1sUaK81CX/O75+Qb2MaSY+aA4UvQYFHL0okxy8Soggvbbj6jzlf2o9GuPrPUQBjzxKDDG9aSpjPQBxlbhCY5k8qbXkPFxbqTxQ2MO6h+lDPcTb97yuvOY9WBBAvCCe8ro8lWI9vK5GPQmDIj2Ofyo9TQIGPRqcNjwcvJc88LmDPWrq7DzM71W8PnpZPeAQbjqYsfu7wmuTvLTrGr3QcsY6GG2TvOJlg7xojai7TITEO84nkTxoZ0S9hHMPvICk07tzk2o83pjiPAbqaTyER5G8pn6OPeWWED0OKJU95PgJPWAG97uvjRg9TGQmPCQkmrzgpau7LYN7PGr2gjzQCu27PPQtvCB2Ars5q7I94oYzPYjnMD4AN+27aFL5OzwyCjy2YYc8YDsKO3SGM7zAFg480MP9PJ5UEzxiyiC9vpM0Pb7NrzxsOaQ8QegYPS5mwrzrsuE8SM9iOxjxtbsQHkS7qIz1O6IKz7xP12s8ZqK0vPo55zxmgy29QBsBPvDn7TrcIjI9/Lo4vJXJGj0qJY48Z/0FPZAEdT1udbw8OH2du53ZCD2sNFu9WLoVPap9HL0QLsO7giKLPHjShTuQ/gE8sACkvKBL7rtzXBm+zE9mPNLoaDzAAlO8pp+xPE82qDwdOTI9fnb3PJx/Ibx9G8Q88MwquxAZxjxvxt08Mr6dvUCyMj22nRo9QJOXObA4vrtQPQi7wLXlu23mgr1uA0o9TjpgPNCrFL0OjyG9bO/vPHQ7njxQyt67aBkwvHgSujxQmcO6fKq/OyTahjxc8zw9X52VvQK+PTzyNXQ8Gp8PvjxvCLxAFoK7+GAuvDtKur2YjEc8aNvUu0XaDb48FIW8SsGKPTj3Vr2Adoe9yKTRu5C/cLsSb7I9qPlOvAArozyPtQK9uIGbvGCHGL0Awqc8wCTOutg0ALwWexq9bMJTvPy+GbwoQBW9VuyKvQp9MjxFZrg82J4jPQB0fTjqcYU86uAYPBiZpLx+uDO91a2OPrrrSD1ulow8wKs5POplITxOboi8kJYrPDebHT5YoFi8xhBJPeDWErvxVMk9QPB4uymAcz11ANQ9XDjRO+DymT3ksQ+8BAdIPXSB6TvsFJo9pp7KvHKOmz0cz5O83EMovNfJOz3h99g8jD+TPGCwMDwwXrM7LWIhPnA9Tzs4S328THgvPYG2fTyc6068OwiCPDJMRD14tka8rHGQO4jhjD2YJ0U8JNYAvHAEajuAvUg7+CePOwgCKj0FF249WBVQPfN45j3iu6s9WswlPBYE0L38vJA8oi5GPeqKibydG9I8kpgjvRQ1Lz5kfC49Fk+HPIj2xDsUsLQ7LCDavBADM7s4r6q7+bO4vaS53j0lSDY9pj4aPQExHz3sngE8S41cPbPtOz0c/rS8QEAwvLoDYz5w8Zm807XwPLzhSbxITK07ysPOvDClgDsxcCA+UElJvXhiaL3i+Jk8XQR6PLQ6Mb2AV4w7r1LBPOY9DT7mk6A9fO6SvE7cIj6hTwI9HrpqPWoE6DxoF7i8OKncO6oy0ry4hBS8ArtVPQ8SbD7gjlc9GEWQvGDPpbxwTQE7SzdmPfVMrzwWE6G8ComPPX6+hT1EqE+8qENOvWAry7pstRa9TRl4PHgtPryIoAq8PgRMPMCPZrx2mjq9XPy2OxKlpzy898o9Xh61PW6CTT24lVk8GLb3vIQloTvzMPE8M3iSPIxHlj1Aah28ugsEPqhD57xgp6I6tVQVPdDxb7tm5kY9FjoHPg2CPj3GAAg8kFXyuw2FfTwAZYA88L7NO0A/jjtY0c07JqaDvFSjKz1ohjs7uKaNvNL5QD1Gc5s83rmuvQZB5zySlom8uHIPPjhdcbxMua88+Lmvu2DPh7vE4kg9Is2APGjMkT1A2e09UF1bPegeILyA61U8WEEfvKAo4LpAb468JCNvPJTenDt1KwW9Oqa3PCsT5D12OHY8DDY6veARI7xk6Q69KBKCPNwl3bw2Rea8juGOvKZFczzW1QI9jlO5PCCPQj2gWOY7HR+tPOpb2b0GKo28XD0qvDolEj1q5Hs94CEjvPlNlb2WC+48clbJPTmBOz28Uh287J52vIAyvjnHv+098DB0O4XcIz0Q1cE8iYjGPAqwrrwgQvq79Si7PDapUj1WUk08kB1aPMkHgD2mp6c8cMiDPCHXbTxMjmM9sIQxPNCZe7vMk4Y7mAaOvbZjzzxsrYW8DOKqPUYrgD2cqz09Ap4yPVjy/71KyG294G8xOoLY87xTUTs+mvy8PKBfxLoyWLq836V1PFpAPTzdVP498CaLPGsLpj2l2nY8OX3qPdT0ijyu04c9FfUOPQSyoT2usYc9IEA2PRKBJz7Jkfs9Y+eOPZeRWz2UJhI+peHFPEBBwT2Xp1Q+Vo+ePegyCz13Dv48HM3qPbjoRD7ySc08FkwRPvX4Oz53vBA+1CjLPfqM/D22I5Q9Ur+aPWZCLj1p+RE+wyclPnjPhj2UKsA9mqCvPZSVET0A2WQ9QHMovBqKjD3Y4q28eMC6vDb1zLwW16+8yNOwvAZi4rykh7m8cnbkvMzHr7y0S6G8woy/vHJzwLyOBNO8NIpZPT6Fp7xAA6i8DIiSvFJRr7wwYSS89P1SvHhVsLxYCXq8nk6NvK5dgLxSopG8AKPaO74LrbzsDK68Nx71PdDpwbygX5q7oCfAvZjGoL26zn+91o2CvYJKuLzEFVO9FF+OvUDPPjvQjdo8Ckwdvaiy8D22CMG9Mf2dvYnGlr0AMbe7yK6XvISssbzoH9i7CriDPB+PYT53FMg9xDSMvfiQ2D1KgUI98yvQPNR2HT1gA5a8fERxvFIacz7qR1E8ioyHvGCLCLwA9qW7Kqe6vYCkTbyoSzy8mBu4u9bDk7wIiSy8nBwjvHqx77yoM/+7mKvAu5C4P7z0NyW8xvBEvZSrabxw64C60GxJuxi0W7yo3yu8mCD1u5CCqLz46B+9LGxkvAAasLsQkkC7+HYCvOgEsbtghHm82LuEPZxXvzy+9lM8Dv+KPc2Idj0M6hs+RmrZPbgieD0Nqkc9RA5uPddHdD24GTc7aj7KPNE+CD1FkGA9IBAEPkzkjjvctxA8LGpPPNANazuA8bW60G82vKRh0zsAXWu7gK8muvD2obworJg7KFjOu8B53bswO6M6THs4vEQTS7wwrdk6MnxKvdjLQrxAa747svwbPSTuXryAPKk7vLMcvMAB5rqa1RY8AE/Uu0Sj0Ty+Qvq99D6WPLiUnbzwIEQ9CHc+PTVh3DzU6Jo7aGOPPTaqiLwRxDc9rvcAvghev7zQiZU9+MXFPbqHO70A5dW5QB9FvIz9q7xQ1MC6QIggOgCjNLs8sTu8qiAgPOY9QDxciI49Pr6oPSZ5BD6o9bG8UO0lvTxCJrzM8nG8f/R3PGYvrD0HCCo9aDd2vcDnZbowPvC7SPp5vU7oTzyIbRA7iEEzO7x7DrysHpG8DOG8vGqamzzYwdi7lDUPvM7Cq7zgMLi6T+QBPZ7zUzw64Fk8mEoDOyz2WD2N8rM9CFc5vXRvi7xOJZO8jD5hvMCxZz1tnH49vpn0vUBL1rpEcWS8bA0/vAo8uTwwsoA7ssufPDkhXj2luow8w54MPtQ9vjyWRbY9DPC5PHl7Jj1YZWw9DDfFPSzymD0iEY0909A4PW32Kz5pen89ePctO8Oi1jxcSpI7DOGKPPBDnTxEtem9va17PvgH2Lssisi8clhTPOiaxzwWOt48Y9hFPZUeCz0u3gw+ZSHdPex2gD3W8dk87cXJPcZTpDz0cOY9eoUvPE03cD2ocj49TlqVPSjLlzv26Ww98PboO3t28Tw6bpQ82sgPPRn90D1b4cc9cCBxOz6OGjyIuU89UJBqPWJw0zyICjQ8UAt+u8imabyU94k98F4JvBw39TvwQEy7oODLO7bDaj2gWTE67P5FPDD7v7sAE+u7eI4mvCxfB73AXQW6WEZCvAYRCb04DlK85GIFPGyrAb1Ar8q6TOSPvCATmjqEmsc8PCMEPvDVijpYuFY9t5ocPeifaL0UEU29fd0YPWaI9T3oIpC8cnqRPV7m2DyDtoM8q4nHPI1CfT1w1LA9iIiOvNSRZ70yLAQ+6tTgPQBkAD0A2gU+kArTu3wVnDvUkmK8hHrSPEKqkLwsqzG93FZHvKRXaD1wP0G717kcPSSYcz2S8wI+6zifPVjsybsCQKe8v3CzPDYexL1g6oo9sNoiPlmYlTz0yKK8bOoYvCCkLbsrKd49dqxBPQB1uD34EpS9JeGmPKEsMD7Op4e8VHF9vLhHAL1Sepg+dXNyPSnIrzwwbp46kMroPRAP6Lzox8a87xf3PfTrrTw0g+m8OD3duwhV7zuQBkM8OgmIPf+LZj0z2748/e/JPPfi6DynlIc9fjiKPaAAR7uwKZw9Hq1bPat7gb0MqAG8Mn0OvbapUTzbGvg9TLWTPb6PWD3ezgM+2PlbPMiUnDukJs+8bBibvHbf/rxg+wG8+GQcvWBn8LxQlqQ60MTAugAaZTk8Fse8sqgXvdpp27y8w3u8oOsLvRSuNb2Msdq8lDzIvK4Us7x4E7y8umSkvAzkwLwAXHS5KF+Au6wVKrxWIXE8fjGpPFDPYbtAa349JOMrPizWJryWUZW9NtmfvBI5pz3S3Tc9CPb7PGQz1jyu3ZG84HYcu2iX4z1ARXO9JPEfvfiEZr0+dQe94/iQvRJrQb24WJS8IsNOvb7DSL3UDSu9ukKUvJBk2zqZqsG9IP56u8aLvrykXt87dmdjPFYIezyW7Hq9AI4Pveabr7y0Lp+8IPXtu9woiz181ws8ZEhaPdTuAb1CCyy9gDEKvBQ5grwAjQw6dnvdPMCd4TyXLRs9JNy/PMGENT3EtAI+HLoyPSLc4DxMdZY9tQkGPYtTej1g4qa7yP6sO0zHWLzboYm9SiIBvdbGQr2uY8q8vGFqvChrNTtCrz48MMAePDwzBr1UULm8ePVVvFgcDT2w4G+8gNeovGSTurykI907ei+MvA7tkrx6Ow08Ap0DPqxYQ7wwCaU6blJ4vfKr/Lzgjtu7fAuBvIr6lj1+EA09zDMfvZBA0bxoC8S75trtPNOhyTz6/E89nIY5vGDuIbuQeVG8jvW8PUcNfzzOXZG8WPYkO/NcGj2q/Bo9HMvjPNhhRLzAa8m5VNK0vAJO6jxg2nW6DiTsPQsRCD63mLM8CBL2O+JwCj3we7E7BK0QPLB2f7vUaBi8UpmqPXx34zyA7ZK7vg6kvNxGsLwK7NK8QLEbvJoqiTyu2R488N8QvUZ0vrzyT/G8xNWYvM+hrL18vI+8xIx9va8nAr7wYO+9yr3APFYEbb2MYXe9uP4ovWYpK73WzaC8nmE7vdQqB71ITjC93UB9PIwALbzwJPY61E12PmZSxzzIeGY8il0XPFBS9jo4WZi8VI1QvSNgDj1WnHU9aNTHu7Y+Oj2w7FS8SvDCvAP5ST3ApfO7UPMbvMRaEz3TU208zJHrO1989zwQQAg9EFgvvGwNQLyyg6W87AoLPEwHcTy2Yku+gNFzuzTWU7zgFkc99x+bPDYqRjyJQnk+DaT2PSSAErxwOn28cQUIPZSMgD0U0fQ7aFiWu6CrMDuRbIQ83sKGPHGELT5r+6M9/GCEvLjEEDwDVJQ9IB8JvYjw+7vWqyu9PF19vNo6YT0jeTA9KrQ9PdzWmz2jiyE9gfDCPUJ3Cr2qXhO9ot1ivUIMB73GfvS9TOwYPQCybj1+9kI9iPQsPCh3nT0WRwO9sKVzPPtffDySiyK+wDHBOiD2rjz+Za08nFyxvMB4D72MbPe8FuuZvGQXc7wmbbu8Xgs0POa5Ar7+TKG9ipQvve7BX73umlI9eCVbvHAzOLw5c8s9AOBaN+jnmLyAwQU6ZSDGPEBDxbkYDVM9hEbDvKL1+rx6JV88dDihOwAx5Tq6KiC9HATGvbK1O71sbJ09VGcXvdIY1rz+ksK8vmYkvVCOyDy9McQ9gOGeOjL/l73Uy688UNWYPGwIGDzwDqS7+qhEPdyTLTzkOvk7fOXaOwfyiT1WqiO95FxdPN78Jz7kDGC8DeKGPADPRztybP48rsKIPUWpfT4OCqs8pOdrvFBWEj3SDTQ9vhMzPaZz2LzkTD89ihE1vY5fAD276hk9AkCzPDgC1by7muU9ip2/PGpBvbyMhx88Z8dvPUBFyrzAbwk7Cp59PFzN4b0gew29iAT0O87PFr2oa8W8susoPNwNab1Owx29PMtCvLF1qz2PwXE+43zWPO/iWD7Mz+M9s/oGPrF47j0kppo9XMhFvFsvej3SAGO9IAD1PIKfgbyEa2Q8fr/GPdSJVrzYrwC8zG6MPBDXqDwyud895qlYPEBsrjt8AR+9aVDsPJcuMj3MJWu82HqJu4CA2TnAnkC8ZOwovBjJhrxMPoA92HgYPJRLwzvmWh49wWqpPXZzfT4mTY28+RERPTwPKT1XDgk97OAsPPAeeDsgKC89ELbbOuACBjtQTU67hhKpPDH2nDyAiQw9YHwaPA5ojbzQ8Yq7qoaRPLdRezyAaEO7iqU/PR6Afj0SRIg9+bUXPTiborsyl5W8BOLcPYycI7xqe6C8JyUJPUrktbwC1d282AFlvHfQkDzIgQu8AGSJOMzoKrzaPoK84FbtuvywLz24bSa8kFdsu2tMzz2AU8u7qGiEvCLHL71uYX697ABQvFe4DT6oGby70nXrPEAm07uEKSm9nNAGvX4mxryO7LS8Ky84Pvi0lzxJWAC9/fkvPcUKijwVwZG9ut3vvGgqm7zEk7c7vXLiPJCAqbtCCZM8sKKwuwoRC733yAQ9TKJOPIGLLD3oTfa8Rd2YPZwWHz33Va09cvFTPeCrEbo/3Qs9DwENPWwk+Ts8tiI96+eMvdTaAD6DALY8JFtnvIh+trxQDYe7m7rRPGi2iT4kPZU9OJncvKgMSLzq8U88IPlGPYBIP7tQbog8AiVyPUYlNr0SLrC8D1WoPChQuTwyRhU+clBoPcEdvjygeLI7aogGPAAdhrtLSo08CNnXvMqUB73uK5S8ZPUmvGi9zLubvXU9H4bMPPyRCrzg2sC82Pjzu6hYz7tcfAs+vUZsPMDoIjqw3RM8+J5jPGYTzjx/Ho08YCe3uwgFwDuYBe+7/LoNvHDoPbz4R2m81cf4PE+oJT4wgXy7SHVhvF0HyT2yRTQ8otwGPZYXEz6IP5y81hHUvJvYAz2XYDm+83fPPYZb4z0x5WM9qp51PSUvRj5sSRg+kGABOwXwnz2SmK49MFHIO5F2pT1CvCk8HqpGPSsWMD2yF509WKsFPrI7qjwcYXM92/bCPbzNZT2QkXg9JKt6PSXu/j2ChBc8sPfdu3TsTD2iMBw+2P2pO5AL4zzugGo85NGVvGjoDbxarJW8jLM9PkSxDj6oa6e8mqkUPHLvtz7M6EY80Gucu2ocEjw0uA89MA8fPG6IUL1wMSU+cxh/PZSkhD3AjhU9Qv2PPWW/Rz1XDFU9zHb1PSIxSb30seY7QxmAPajypDtgbEe82NXxu3ZqBTwAlba7YwDPPThfDDxehxS+nl5tvfjjST0woUg9lBpZveaICr0ssyy95OQFvSpZMb2W8Lo8DLT0vP42Ljz8Mjk++oEePCYYRTwf9Cc+0LoEvDmMFT1K9Tk9fEpEvDAQlDqsID4+wudiPQC8jD2WXZY80cbePQLoeTxEIDS88BpUu84Gaz08KhS8cme3vDevwDxGnMs9tsvjPbwDojstEMc9oqiDvCAg0jom2qm8tWR6PICP37viV10+LhiAvClspL1kK2297LatO2DAyj26al08CNwZPiDrID48Osg9kAagvJpWmrzM3Zy89IZuvEbWoj249Kk8MHEsPDBgQD2IEYq8yaWVPADv7zpE/wk85HimPcCPFroQe3y8ugbQPaD2bTtzpjk9iDZfvGKCPD0YQYg8NN/jPTiDeTsMyT+8StNvPb+1jj0cdhw+9jDKPEAFGb0UWX09PJGOPIa23Txasdg9LBHKPZpAlzzKZ2w96N5GPeQsuDx2QAw+wEJPvQ5IyD0gGvc72p6gvHDHwT0GdBI+1GDsPdyyCD7k5BQ9ZAGaPV0iJD12Y9w91BVnPGhcHT14QA0+G22APD7Mwz30eUY9GpVDPe4sQjynK8o96ULKPUKu5TxJ3Lu9ZwoDPqAh+bqAFvQ72VR3Pa6yWjxGQnW9sFImvWHZ3Dy+2OM8EusSPWK0Sj2QZgW8JticPcx59zuy9iQ8zgtPPe4dJDw21nM8po2cPYx2wDtaV/k8LpRlPDACtj0KAZs97LJxPZwK1TuALBc7+BRBPNhCHzwFPvs80WH1PGR4LLxmkSQ91vi5vOktXj6watI99p4mvVzBwj0pi9s9Z9vAvXoUhDwQV4+9eF9FvEBmCz4sfy08AI4rPq8mwTygH9S6ERDVPIC557qYjXe81k6EPcRHtj2teO497KhAPSCiMTxKvQc8sSt4PTpsXb1En609oCgVvFqCuD3KHh89FCsovA454D1HWmI9IN+HPJjTVz3q3UU9cIsQPAL2ab29SKQ9TBaTPFjHMz5+euK8QTE7PlQHQjwsYg0+0bjAPQOnuzxV2JM922DfPS84ED0Q32m7FBZBPfoxnbwmjm09a+jhPPaJqD0oQAi8+GxZPVAXQzv8C8Y8OLDyPBIbrTyt6hw98umRPDwrGD02TKM9BIgqvLjY+j2Qqhc9vYKTPFixwTuQnlW7uIgwO/aKBj3ogx88nsajvKjn0zxYmjU9VUcBPjCtjLtccR68cDwPPPfVvTxhtD09KHzYPUTPl7zI5pS86r8+PE63SL1wPD28WOYGvKjS6rw6OmE9jnurPIgkTT32hV48gNCOvB5QMT6C4Y89pySsPbaxm7wMzCO8oBVKu2Y1yD1fSBY9pkXXvM+SZzwpLR8+IOdYuoS9Gz1eB7I8QAMwPGtL2Dym/Uc8AnWGvBBnebtRDvs8GFCHPdBICj1xui496fl6PcAGNbv8o8698MKqvExayTxKRUk9Kk2wPeohlT2h3hE+CqImPIhzNzxiu749i0xaPdRaNLwdYgO90lQLPnpQMb2piXw87wDQPOCR/LvIhiI9vNutO6BL+7t0mHG8gEkqPWZbtT0U5EE9GA15PSBYcLt504w8XQogPqyfXbzk9jA9dxAdPuRmKbzwgR89WmkdPkgR67uAjPS7uJ+3u4DFhz3Wc4U8fgeVPcD0nzoLIcG9msXaPJXg+DwZD3895myoPehqtz0K1hY9VV56Pp58rz146RE+kQ4aPl5dQDzGhDk9PGOyO39b8j1qvqI8ugw5PMrrNr3TI8g9FBYZPSFSLT6o+uK7ZJYTPlCMrrvYXyy8VhO7vOjJhLzY+zS8sFAfuzTrHrx8fhC8AIpBOZXktDxMXRg8QJevO8Dzl7o4mP67On+1vCZLcTywMuy85EwBPBGLiz1USgo9l6wqPeThCb1d0xI9TC6YPMqRbTxZQSY9MIiCOtzoJD0Ynuc7t1mcPWoY7T3n5XU8PI+UO0zmvD3Z/8Y8+BafPKknED3oqZ+77CWgPdwz1TyQy3i8XpqMvJQyrrwi0ZG8cTxhPmD+sTock6u86sJDvaDs4Lww9/S8KDCDvcBhU7wyCI+8mtZlvUnYtjxk4IA86ExpPa5Aqz30pwQ8NLKYOwfvlz2YiDO9DIYYvCg6QryuwzQ9XPXAPBgKgjwzmGU9iE4JPhZPp7y9wIO9EDMBO1Q3ALwMYBU+Bl5hPjn7DD42UZ097j4ePgaNpzyP8XU8L2SfvaLiAj4ZPxE+QGjEuhjzkzyUS0K9gCGXO6/IzD3ICfq7IjX3vFjKV7x0hlA9pFxkvK5TAr2QXPW7QGZYvBi8AjyG3qM9xI80PBwucTxgDPg66UQkPvawBz5kT8o7tPHqO+eNdDyADUw91uxUPvJ55D2Ae8481AS3PTM/PT738rk8YJN+vQCbgrygy0k6fGEVvG5NUD3yKTE83sOfPLaBsTyowDi9HHuCvAFy1D0stgK8Zvl7PCT297y2e8Q82UAXvqRxbDwiyiI9LBpZPa8AOj3MDYw7NBu4PVwN4DuADkM6/WMWPdmGHD3cGxK9X4aVPQoSADzwx3o9+9W8PchtuD2PMQM9himUPNr4HT3sUUs+Q+BuPXB7Bbykb4Y7KjNMvY0a7T27eLE82ECWPQB6szmSzem8/kuvvAA+wzk6ykY93rM2PENsFD3UaJ088RJJPQ5lIr2KSlS9Qn8nvdD7Qr1M2jm83gc0Pv97hzzMjxU9gK0qOaCXbbqQd4Q6Kn6QPE1yFT1A6T067NZ2vNToiDtJXZO94NTlupB1k7wIy7C7MN0cvJcdlzxg7zk8yBmWvMIRnLwoqqY8Jo8JPHBM5jxskVE8JWQtPSh52bxgPtm6YHXBuz/BsT3AnDC7SLcYvXhO1buqd5y8A9N+PEh+hLxa9YM9XFSVPHB7zTtHppa9ssRKvU7TljyGlE48f30DPTo6JjwnTNE9YplWPfx/Vbxvtyw+HFSHvZV6IT0K+ag8aCpZvaIYL722+jE9f3EePdiCEzud+sk8jYM+PSRjcbz0uG+8jI2YPOgzJ7yE3SM9oPwOPjq6jT3AAqi6wA/DOZhQZLxiNYO80FI7vHwIRrwUY2u8Kl2SvByFLbwKJ5y8OpwIPWRjKLz2Kqc8Cu+9Pdhe87uwcOu7mIMkvHTRATxQ4XI9KIC8Pf7yjD3VmJQ9xK73PPZJWD7hF309snpVPrllyjyrwqQ9sq2RPIgMaLySkb+8GHKrvGoLj7wo/2O8mC26vJbBgbwMK2y8SPbru3Snk7wGrH29LsOXveIhJL2M7V88wpaTvcOMm73sI9O90UivvU5UjbxqmA4+ZiA+PExYhrxEc5K8OHAAvQ6wjjxAnN87+j3rPGCcQLqAWsu7aPsmvCT/LL2k2qc8WQw+PawOqjvAJvG6KMhyPfasnj2RNbU8rDDePdTWlj1bRw4+f00yPRAiUT4CTvY8ix32PF4IpD0L5s49I+ZXPtrYMT7sJeo8AUSVPaAyPTzYksy9ZxQcPud0lj2YMD28dJ7bvO6Qjb1DOBw91oqoPTZzCD3Us4A70LKYvA4yab1EQX68fnMkvcQvCTzTlIo8+GAjO6Bap7u4tUU7GHDBPFrHPb3yhPC8HvqWPBsYAb1kPrS87JiwvN6hiT0cbJm9Oj6zvQAKnrvw0Pe74PUhu3Bmt7tGjl88TC4mvaAFujtQAVe7CtwaPmhVI7wi9M28FvAePJAoLD3z6ag9Dc34PZaEXzxooeO7yldzPO4aIb4oLC49My0DPbqVOjyGqIK8AGgGueiXWrwJxCY+xB2JvTjPtLswctI6+Nusu6iYTb3PiEo9XGeNPGz6iDvgpQA+7IAvPdBwmj1OJgE+BYRbPd5cWjzQMtU9wBQNvPC557ybVrI9tNIHPaCuhLsUj2K8Ch2MvUgKeb0Awx451ijsPDxyLD3kJBq8mFlwO5C0dbuJeuo9Bpq2vNwYxLxiyYO8VMJTvGgOmLzwsUK74PpBPNbZWD2Y+hI7bA3TO4DVxjnTDWw9hQQ0PRZaXj3Mk1Q8zNa6PEBTTj0g5bW8SL4pPFw+gjz2BM08hIB6vGVgfTwxhk49toRTvdTN+DsCYBc8XJcivOAsm7wK5Y88Fy7oPUNFnD0QCt48TNr6O1H/AD3U7uM7EOAtvaCUWzu4sxi9QG6FPf1DED1oG/e73veAPC6rl7x48Mk7pjTlPCrjpzzudSC9LLXdO6TyHz2QpcQ8+FrIvBnVyT3uzQs+1KRWvOUKCD3GumY8wP3UOpsz6Dzcoj89jG9TvEzmnz1QVKW8QAHHOTl26z0ZPFg94N0EvMNfdDz2tj889erwPGxNtTy6BkY87P+QvEpRwLw+0RE9kJS3u6jx7bt8kKS88Jtyuza4Jz0XHIO9rcIKvvD2hbrJy409il79vAznprwKDE89NCvavCmkBL321488PO5uvYxuR7yke7G88NKQvFqikryqS4G8mAMnPSCmL7rYvje8AFNsvBy6hz3KMqW866R2PpEVDz7Gs5I98nWNPbCfvTva6AY8aCk0vPyRB738a5C85EMmvMTid709iCo9vpDOvJjj6Lzw0s07yF87PAwuUj2BhYc9DYGqPdjuq7zgMq06xAazPEDmb7zQvw28WN6zvIglI7yANru7ACJqOkRCHL0EqQG8ZsWsvIAv6jskQMm9ZipaPHEUzz3+6BG9uzGhPfIwib3AxYE5kiyxvFC85T0Q+/W7NFtovL7tiT2Exho+HK7WPdukVj7unE29+AMRvIiFQr1mcUc9APf9vE9GlD0A5Be6BqH/vOQPSb3DfvA944PTPeBtrT0cX4a8lo2DPtwSpTsQvEI9uF/qvIgOjrsGtrk9MB5SvLarWz0Ay2o9Ey2/PWnO8j3oD567eFgGPUBjV7zp9748mmkCPg7Rojz+WYs9TNqxvHxYRzwmM6481AKvPVpSSD4DzCM96ptgPdoI/j0ayQw90KeOuiAk9rvS1a08Q74JPV6h5j1yN6C8nKC8PORiGz38JaU91FgCPerrKTzAVJW83OkrvVzKbLzw+ji7XCnFPUhVtj0HDow8oHZCPXB7EDuQ/2E7OJNPPdCvnzzAHZi6APwWuUA0m7uEqzi8vz8GPXA80rveHV483viPPcDshbucfA28AHodOag6/bt5pYs9zxZWPdhGLL2AhRu9OIwAPQDobrqgCF+7CMfoOzxxHLxMpWm9Ti/yPcxTE7z1HGo93gIhPafGNj3YqUW8MOYVvDmaGj0wSBY+JOyuvGnxpz1e24e8DPiYPOB1U7qVWYE96Q/kPKJ3mDyIPAG8VnL/PJM5xz20Swi8nZ8NPdDLar0ao8Q8jEYgvN5X77wIddC8rAc7PIiZIbxYxDe9MDwru3g/mrtQKGO79qOOvAqHJL2YQ6y8+m/fPBg8ArwmhY68xhOTvIDDvboQTm68XpoavQbzprwB2d495hyePGuivTxg05Y6+sKRvOmbujzuYl89zIIsvNi8rLtAYkC7MMF9uy54Bj1Ql0S8HtLbvKvoND3gZ+K6pIdvvIK8Qz2gWMA8Qs5NPRCWuTrgpeq7pGW8O41Boz3R7Vg9RHXDPB6k5jyQqOS7EoGUPcuFYj0AtLa5GpvIPPwJAry8lbg8+dzIPMB18DveHUQ9r9EDPiB6fTzw7Sy9/I3FPe69rT3MLT+90J7XO1KX0TxLif88yMt9vJothTyOozS90NxfvM427LwKMQ48CGERvcCMMry6mgc83NoWPKqiHL1yhSY87AMjPfZx1z1/ohQ+E2QHPYqdPb0uCau8bjaavKyShT3TBpg9GMyjPUDborurwAc9iP4mvDYUhLxt9L49tsfovKAesT1ypLQ+wBeSOYC1ULt8WYa8MB+Eux5PybxE7q68ha0jPXByTj79GoE86pV0PGSBiLxm89k9nAPBvCxobryy7Bg8IBs6PaJ7IDz8nDk80FKbO4jchry4BCG8QMVtu4IXqrysU8M9SZtEPQLvWTxm0728CEsivAZy4TzN7Ng8D5BpPpTJtj0QRQu9CFWvvNAl8TvwftW73K67vbmsCT0cy0g9vOG8PJtn6zweg8a9KwzwPACRrbwnjT89UNGKPWv4tT0Qc0M9qwvbPKPzJj2QTzC7HGXLOy5MEj2wJRi7yuETPKaXyDwAGLG4IJGyOtRBpD18fj28CIRfPLhbRjzfJVo9gdA6PmTm9Lw88zo99mRbPKBvADxuDag8Ts9JPeAfl7vgxDw6oKG+O66STT3u3Ri9GGYKPUpdjjwK2gw9oEUlu4QDBrwCEuQ8fEObOyBddjxMSRi8WNUAPu9ktzz4Yxs9uOovPTBVGz4PjR8+IK5gu9uM2z0auG89qE5qO5IyQDzSt0w8EOBYPWzmZbzDE9Q9Ke3OPQEqqz16kLE9QAexvNDSRrzkzT48agF+vfrrg716UUY9o+fgPGDesj2RJE09VkosvTD8dbu/8wS9oFs2OzASM7zbe5082OArPAYKmz0YYBs8KdEAPXJLTDwoEbO8MrWIvUbBuryAL0O9cqC6vSBnIjxQk9Q72ETDu/YKhjym2R88JLXWPeeqCD7jQ/g8sDm7PRam5zyYUNm8TgYqveJW0LwXIhY9OiIIPNn5Gj0qvzY8/57SPSB+Fry6eW09tvYEvQzEzrySKKy8UXkePQKCDb2MpS28FPGUvOg/LT20cQo+NAx2PZwOSj6bByI+MEUvPBia+TxSw7E8QEH3uyR8kbxIYA09wF4rOqhHoLsLABg9IPy4ujjRpjx4c349UCnKPfjmdD3yfTA9VKgBvVSVvD3n6wM+brRzPaS7DD1QKCy82+MMPverLD22kII8KIM/PU8bJj1ef0A91HExPSCx0zpaZ6+8vg67vOSGl70oahk8kkaFvSKrzL2kEUi8g1yfPYP+Wj3NJo48XfQgPWA0hjuNYws+dh/UPNhsUT1Q9767hkaAvDWVND2fpec9FhMDvZTZqj2QvnM9wN0UPXk3aT04hEi8IFAzvEsedTzYF6070JZrPUCGhbtQVYG6NiX1PHB10T3q+/G8YBKku6IjUzxiiJW8wejSPaCoJropJB49HhSEvOCoiz1wq4e7gNkDvHpcRT0aGeC8WPSCvDbno7xdPJA8gPvCvCqY1LyCC5e8ZUAuPTsXMD3w5Cq8fhqDvGDJXjvUrAC8uDaOu0byKT3eIBg9qGowvDi337tAXmC8JJV4vOiKpbsos7q8QP2BPfBZhbw6/gc90AMDu/gRBbyICia8uOYFPAA+kLlJkoQ9WPU4vNSRYLzgYty8gGpAuUz3GjwoBN88aBkYPSQWHr0cAV28MB+BO6AZQ7uYJ9Y7LJCTO957TT3Ijza8SGBNPMA37rwcDsm8YpppvcMMKT65bqA9ACCsuoDFkrwfJPY8ciobvRFUOD1InYs93H3PvKhcBLziW4G8ikuLvD47az34qFi8lkPUvIojDb3ElB69tDvIvEqACr2UVMm8wcXpPBTphr28TBa98JSgPJDEs7ykHDc8NF+ovEVjgj3Q3ha7YMElulaFc70Ih7477C4EvHSzb7xIS8+7MHvXOikG6zwYiI+8FAwZvNBvfLsNvZQ8Aq+gvEJky7w41188hDzpOyK/Jj1IC/u7ZoiBvLDtOTxAxzy7wBhiuoAkcbpw6867ZyEqPQB20TviBLI8ANYOunv63DwccQy8WlwtPUNQTT3UlG+84sLCvPLu5Dy7Kkg9CCdWPbSpL70QAhC8rMOTvISbDrxA1bK7Rj6kvHMcyjw65Qi9uMjvuwBhdTwn5/A8jN2XvMBXmrzQcfS81E6RvKA7iTw42VA8EG3uuwSoEr2aDNW8Jt/Lvag8/bvd/aU9vVDDPXXZoz1Azci9WWiaPAo9Vz3fVzQ9cI0fuxAoY726q4W8Hp0RvZBcYrseCfe8YqlHPewGE7zHg809rAcfPfwcxTtkz209WEysuzCH4LsolBg8ALOOvJiIpjucDqk8QBayu0zr2jvcjsw71tYLPOoEC72gHqw6SOHNu6DN6ruwe+m7YPtlvHAEVrta+SE86PoXPbpX27xsNSK88D8Yu5QZrbyONqG8/iu8Pcv4FT38K2g9gzfOPCwoHr1Co3E8yCcFPYT4Pj0wzS67QC8mu/pHxTzwDa46gDgjvDDDOL0Y0zk8mK88PWi8pTsHfZw8aFprO9oxODx1JbE9gNZkOhUV1D0Ukbs85+KwPNGisj2QQ+W8GMZ9vOS7ozze5yC9wjDjvDoXhLx3rA0+3s+uvHixgTsSS7M9yw+QPfgx4zuKZYS8DD5qPWisOz0wqHS8g5yoPMJ5w7yCMTa9KCFjvGKlzjzopI09QLXWuxSGJz0IXmU8WmSmvKCHizxgHOo62n+JvPCbj7yUyYq8SNnOu6DKnDt4A5a8ILiQPTAXiLsu3w+9MJcGvNDPVrzAZc+6SAwRPYh5IjwINLy7NnuOPZ6M3Twc54W8BfYfPY+OKj2UkXy8SMjyu8WHHz1Kuys8wAvouwx0pLySZS4+gBErPFFrxD1e9qY8RFcyvbQQ5jzFaUo91mGKPcM3sj1eay89Tk+ZPdJ1YTy2NAE8oFoRu+e3njwkQGi8d4TMPIamDD1G78A8/kR5PZTsPzwW3x49nwF6PBbnJjxoFqU96AbsO7i6sT3kz1s81rRHPa7liD0ubZW8QIqPuuKaoT0i9f0813oiPVK587xrsom9ClKhvApX3zy4WFW82LBgPOYFZjyMyke8aHviu4BwuLtq8aU9BPlePbDtRLya/Rg8oXv+PBjKaD00XQW8yPg+PNYqpz3QvB67gCU4PdYukzxCbb08RJItPBabmLxUdRI9itQ/PA5FiTyOGhE8PjjLvHjeybwK+io93JwSPh4+yrwQJKG8lmRqPXDoJryMKSc+sDs1PTjWGjyIXP67zGMXvEjTqjuUIZg8fJILPGYqtD0wBLi8UmJ1PBoQWzyIX5E88hSPPH2YKz2YLfY8uELGPYLYljw2aIm8EGwJvRqIRjwFb44+8LH3uzZbRT15hCQ++/UAPR5KjLyoD5C7VAG0vQYiqj38vqw9TG44vPoYSzzCT0u9jK2CvIzOSL18lLE7YPomPeo+kLx40Bm8TGK3PSQZMz6VoiI+Vpw3PrFEeTzAUO+61tREPBw6Zzz0jbc98k5VvUo0CTzATX27hlR8PafTfzxtyFQ9BjeqPMge9TtkVOQ8FPDmO+BRfTqaI2s9yLGkPcxidLx3jgM+ZnGHPah5a7xA6dc71O95POipYr2XYoa9rvxtvWyHHL2eYCq9on+jvKY8jLz8L+K8NtAbvWxuwLx6q8M8RLlcvFIQPr281gW8WMHou+uBiT0Q2Jy7eCpRvXA2MDt85Vs8qk3pPFTdELyUURg8jBrnPA0V5Dy4Mv09f5RTPsJKlzwx9eY99nKKPTi6gjy4dB08miM6PmZcpLy9g8I9b7FLPfQ/sTwBysw9/mPuPeBgAL3vAOE8PPPWvCCTnTyb/Yo9vsrFvHxJKb3+WZG9gsrXvKiszbsqEoa8YLPgu0hYcLwyAvA91qrEvOhmOj5QlIs90OWkvP9OGT5mDI89INe5PHnPcD2cIQI94pAUPCGAET3BI9493luGPPPppT3Mlho+h4zfPPTyDz6MIe47zI+WO8qefD282Ow8jcq7PVws+DwnHDM+F8SSPWCiBD7dT389qnLPPHBuTruH6ZS9vk7dvGo+ozzsx1A9iomSPD44Dz30c+U7IKnCPKkfeTyS6B88ouLEveRTg70bvQK98qthPIL2ADxxkJW9tNC+vTyRlryUtii8/oDfvKBkzjyQ8tq8x962vSyGMr2oYYw9QHpHvFQvGj3theU94P2rPeaREzzbuAg+NtunPEB+V71IXmc8kL6Cu+wUvzzgxXU9vEajPTemoz0TRiM9TfZ+PYAXLj0gpbM7oJSdO+CT1DoYgT07QKREvICoQDxAtrM6mi2BPLJuSDxQTW08gulPPNo1hzzQe0a8tFAZvV5SB71z2Ms8LIo4vBD4OjsQkzA7+IRzOyC/eborTx89IHrau+xQDjw9yZY9WHF2vNhtqDsg/RS7CHsQvPju6DsAmrs4VXkcPQBaRjpN1/E9AE/jO+CATjsZVKY8E+KUPepQGz6xBZ49SIosPaMBazwwZ3O7Xmj5vCjmn7wYSXa8l1i8PJDwUrtOKAo9Y4fQPNjbAD3cOqc86H1cvCxadrzFPiM9MKjbu/KitD3L8zU9+BMdPsAcSry4ALC8JveaPF6LFTxc4p08vM2dPYhaBrzQ+yK8YOzpuqOrlD3IHiS8VHetO35VlTxmHBU8PDUHPmi2zLwQY6u9LIewPFIgTz2XJsE9vY2JPOBGUDz87ie9zACpvPTCkzwM6RS8kDzMOhlW2Tx2R6O8Fqd7PIAYOr3YrAS8MOezuqGovT3234k9CoHDPGgvjrumSkA8IxK4PIAEZLuCWIu8BEPAvIbs07xsepK8jFE9vCC15rsUZKm8IEGwvOThdb0W+pO8uUxmPTw9qjxm3wo85SjsPCQr4z2sScM7O4/APSCWjTqAN1y61JalO4xcI7x69zQ9lE1+vPS1N70lF7c8iJVFPZf+cj3seGm8NEODO1E/WD28UbQ9gC/AuoC3/bxCgUe9RmGVvCcT1zxAL+M7AGeaOQyP3b2sgZq8gKAuusIrdD0aAyQ89iAMvYYKqzyN8oo9bEFjvAL0kjxSOVI9j3nuPIgiPT2CfTw8WAgWvNg/qDxAQ2K71oWGvADC/bpu+NY9AnRDPW/Q0D0ChRg9zjYWvdyfXz4XlYc91uQxPXs3KD4Ap226ILQvvPS5nT1z5VE9ADBcuYaHmT2ATpw8JBehO8jqLzuyAOE9FvaEvOgharygKs+70F8+vGydN7zg5FS8EGQ2u/g0UDu0lWC97qOPPMhBKzzkME09B+QhPkpANjyoLBy92NouvICcZD289RE87iMUPdG/Nj4AwTm6nG+tO9D8Cz4QNli7RCisO6hRrLti80E9NigEPhnXMz6QHrm7gDcxOyDvTrpkYW28WOJbPAz4FL7ACAU8Ut6NPLAt1DwfHYU8LHcDPArAvbzMVf68YLDWuxYGSz1ZZJA8oN6xu6DMWrvwc5+7fvyAvICy0Dx4nIU8dPa+O1/3LD06mmQ9WF2huwAKIDo1gc89oAwvOzgIZztgNUQ99x8lvl4d4j3pNmw8PTuTPUygBr0kupA9icCQPZhLyT0kdUy80BcUPoCnDruoEiw8AOrBPZqBZT0we3U95C2gO9iHMjtDfac9GJoYvIYMNb1AE0W8VBS8PAR6N7zgyx29Mb+0vWAXWbxoJya8ooTmvOBWQTtBmCA9Ao3NPMg0P70OSrK8qturvO/b1D0CfD08jr7bPITVxjsUHo89Xn4fPbCYfLwwWb27AOK1uiDm2TviVpO8PHF5vMY4oj2PAMU95gkYPZQcE71Gmo28bI3wO9JCEz3Y0wy8WsKGvFSDBry2O5a9NBejPQOYJj3o+Cu8VhuXvNTWMj1jksI8BMFnvHfCyjwggC+7III/PLD1druMhEQ92H5mvUDvx7lGcyc90AqVvJhF6r1mR4Q+HM+iPNhLKTxIqxy9yGfAvDCHBT2YDyu8QIrDO5+o+jxYX5G7LRLSPbp0r7zAP4k9MCcEvS74rLz4k0G8GHv0vPBXU7y42gE+9DsGPKDgOT04fHa8YR4SPVKVJz0ofbS7gkCfvICuSLs9zMM9QlaCvPR1FD5gHwE8HBaSvAoM2Lxkgda9nmayPHY/2LwR7Z09PMmFO3iWXr32hVg9JiGCPAPsjTxQm2q7P5GIPdkMqz0imoM8QlYIvQBuB71WWHi9QIWuu07Cpzz6Zt08VgFaPL8L2D341La8fgcYvfCqmbzMFp47lJMGvAB6Arxsqs29ZDOCvB39AL0Krpw8CJ98vMAhGjvIZG68rnIkPI58mrwAuUs5QBTivHSB1Ly+WTg8OsAkPdh2CD1+fx08KGVqvBBsnLvB4W48GM4UPgQ8kTswGua7Go8+vdwgojyhsgg+ACHPu+ADMDpIA2O8UNJzu1CbM7yMcKW81EubvPTuUDzYZOe7gOaPu3YlwTwSRiy909oFvXoMgbzwyRQ92rxbPWB0iz1VVao914eGPXKpXT1as8o8YuIzPQf7DD7q5R69YDjVuvTLS7yA4ZC7kq7NPFqJDT3srWY8+hSSPXJYHz5EAZQ9hHUVvLwh+byOHNc9cDi/vKbtpD1JMtk9vICdPVSlpzyA+Y47BleMPTRWnLzkf2m8stWIvC0Bwzxvnu49QZxtPBd90D1w+go8yXE+PYZlpryUi3u8BolEPewwB73else8iNu0PIh2bjvUr028giD4PVDn0DpQcfa8EJLbOgAMRrq0zx49QK8nuzzeXD0RYOc9dC2CPd45vLy8HdE9bFY5vGAZFDowEh68W3opPcWh4D1RGeU94uoAPbKmgzzXcw09O01wPPQtQzyw/008K/MdPrLey7w2Q0A93FNhPKCvTrw0irg7/GEOvLowzDxaWwm94neRvDg6Dr2cAV68xmW9PRiVIr1XbeY94K9vu6zNA7yYWmY93E+uO2Bv6rpo/2k9UPUKvABolrwIvTw8CKxGPd4XqjzQakG8qNXfu9CZfLyWaoO83D6HvMwOr7zoJYm8o0wSPaBPajohtfM8pvXZPIzwED7QmOM70CR4PDB9aLtYK/q7xC2VO7I2rryYgEE8LaSIPWpUK72Yhry7wHWGPSS3ybz4/SI9NUMSPbwUL7yUv4E9aIj8O5CCAD0YHde8/uTIPDDxA7tAoGc+IsdLPbhC4bzQ4y28cpSfvJYzIz3Cipk9mmG8PRZDyjyMFSe8CSDjPKBhHj1AqkU6g0LOPFoNMjwAauS8IKOzvMJvxzxOLdY81FeZPEq91z08K5y88qtOvU/UFT2by+M8D4jZPdNaizwwXFS7MPuuPeQuMD2uwJA8Jib0vIyxEL3KwkW9QAYiu/1VwDxnoC49V3AFPaZ4jbxyFTM9UqAhvRh+/TuUTtg8KIOQPYpkijyE6228aPbiuwDyfjwA5sS52NIRvECH1zwoPCe8KNluvPiYz7xjkSM+qJG5O4fR/T1QSES9XL7wO/zQJrzSbzQ9d3C2PaCw9j08ImC8/O/IvDKKST0cNM68TLhcvA4H67yOw7k8bkeDPddPfD0MIaQ7/4bcPbVfTj1UIU29kJnhPYiXNbzALoy6xvkmPkGlCL6K/lU9+BzhPPeyOz34tNw7rDiKPGiBZb2c+ow7/v8zPPAQf7u4Wpu7cXu/PFCQGD3GM3g9uAoePEDl7LrmlVA8d37vPRBtPz1aUQ89wBEau1jqY7yoTzW8jCWivQwErT3+E4A8PlCQPQ9X1jzIrZs9/a4/Pk+9Nj1S9x0+AF/gu5jqmrveOWw+/rsnPCyxvDvQ6sO7kHunPb4s9T2zdiU9ohkCPTBO47vYIbw7VLuyPby1hz0++Q08lzfYPH+c0DwocMO7rhOGvNp6HTxkZEw8OgukPXINMDwc/ly8c5oZPgArO7v2eRc91CS2PWvwWT2uMLU8jEFkPuivy7tsjfS8luLtPX0ijz1UEAc+hKCivFg9L7zDVz09zSaPPQgysbyE2y28vqLYvLZpibzgJqw+etErPFgw9Ty9w1c9N9m4PUYogz0Qc4S8wDrnumi8gj2Yfge8qB2GPcrTOTyAfQU6J5W6PZCCcbtgOak7wPk3POASZLpgda280sgqPWDFmT3ko5a82OgBPQIDRj7Ekf47/soevWA3zjxkENI72vuqPDQYp7xAUum89mQ0vUBcXbsKwd097LxiPfhXAz56GrE8ugTYPYwtjjuKrgI9Jsk3PejjnrsMdKQ8hBSCva3DPD0kXcQ86M8qvUCiZjwA2Zk4iuyQPLBUuDsqS1u9wIGKPAIsmj3IQlM7tMD8Pdionj180Mg88bqdPIRphTy8zeQ7kOEQvHI+FD17b+U8gAKqvPzNPj3qyXE96JK5PCCjXjs1nUY9/O6SPSo/QT3cFgq80Ay0O34AUjx6RT49MH89O/izoD2wd128YEUMuyzLeDyinp48kOtxPOB+Ir0ILMy8uGTVu7RuHrwIsye996+TvXQbOrxczmM9UN1gPN2uwDxcTDw9iBNLvMCa6Dk8Ugq8pRWsPI800jzk4/+8WAEmPFrXhj3M1Zo8NwAQPYSMmzs6ySQ8L1O/PPvqmz1AyiG6/K2FPVAJwbuR+b884pn/PChewrvqO3M9wJ0nvag7DT7nbT49CWalPZG+xDwJl009gHFou16mm7xLHAQ93soMvRKNy7x2yIE8HI0LvMAeKL1XitA9ib30POnJjj2EjPI9llMRPFK/67wjpXc8InhbPOJqgDyeRjQ9OrEDvVEJRj1Yt089YHriPEtXjD1/cOQ89Cu5O/AZ7buqIak8vCflPe18pD2+kYc9WIxWO9Lxl73MZwi9BtUjPEkalj0QZAI7EE1uPbiy5TtLEt08UmxGPMhDoLyArAK9IBxzu4g5TLxizlo92Ft5vHzgJz0eKNQ8YJ91O5ivgrwI4mO8hGjwvMFEs71Ueyi82LfXu38Q3zzef6E9IBewPYidxj2SYrA9JIobPmDXsj369e+89JZiPWAA5z3TTlw9oaWnPWiSVbxbT7s98HOqvCAAJLol/sg9N0qOPASXc71+v4S8F4tLPVAQaDuYRze8zMhtPTP/+j06nhQ+wOkDvDy8cbxyTGs9pkHgPXyoH7y4bR+92r/MPMwBMbww90G87EAEvADgJjvYcwU7sBY8u1iCwTsAqo644p6SPaS0wT1AdRi7MPJ3vCIXPT0nSP09ZgyDPTqVGTxW/pA94OHnuw7+Gb7vS0M9nqLYPXfIoj0gVUK8jV/CPZLEszyr/sE9AIENPKgh8Du0YZg7kCkZvCh3w7uh//c9JnZwPKi7RbxaeYc9ulFkPDrMNzz0IkO+tjZ3PBBjpzqFNNk9IrtRPRxN5bzsWUy9kCdhvB/GZD1YYOU8aIAlPe57dL1WsZ+8cl7mPSBbxjwScCq9yBOwPTrlhTzCch89yFGvOxIiOD3kigw87FtNPXQDdjzoIqq72vibPfxDjjve7aQ9DQmIPZA0qLqmTzs84YqDPOsFlD3gqQi67Bk3PYw79juAABi7mr6HPa2Ltjzqg908KCv6u7hmm7uwpmm79Ay/PCRIgTwk0YI90JyaPbRYaD0INbo7xNWBPXEO4j1ELEc9SJgtPsA1Fzz9HoU9r9hzPQyKgD0/oHc8bksHPSF+Jz0JlEM9KGajPeArIrt2h/w8PljXPJQqPj1mA6Y9WbgRPuqkATxEn0e8LFqYPLq0aD34IKW7cGAXO2A5IbryN7c8IJVPvFXZ4Dw3a8E9LI1JPQSlrTvAWpy6DHPcvA5PtLzSE5C8ZJ0dvBqrEzyCTwg8dFpyvN4LBT0kIAw+yP3Ju0RAED4GJQO9fpf4PKgaOj2p3z894RdsPWCDZTw0cYM9OeREPUio1rvMbtm8FBv/vERGnTvsmNs7WMK3PHtVljwJp9k8xb3fPPqJIT1Af8k9EhiGPW1dsDzsd6m9+OGRvE67+ryLqhy+SAV0Pard7b04AZu9DAJePcLyRjwIjc88qFaPPQbwGb1g8qi7fkyJvM1IKT5Q1Ng7VNNPvAjn8rvAANC7uq2ZvHvwhz268AM8/NWlO/7shL3A8149/AkUvdIjrz3EcZs7XOahPcgP0LsM2dk8of0CvXRuurwaCyc81PUQvSp1ATzXyXg9ck9FPZ5NKb1OWIq9oPovupZvmrzqaLS8FVQzPej30z369lw9qALVu8LMGL0E1Y07Rngrvf5XZT04dKE9AJ9oOfB4ED1YaMc9k/WBPR4Y0D2GP7Q9AEl1uwJXBjw+DRS9ZGpTvEOPrz3sxya9kDUku0fBAT7wiJ+8CIgsvLSFgLwMYTw8lgfDPIKli7zMTHy8wEGDPMAR7bp3FRM+hB0nPVJMcr3uuq49PZjqPNjcdDywv7A6AM3fPORPZDxwbe49eC1SvDI1Az2s0rO8YpMrvXyouzte4lK9BGGKPfQpGz0a3W08TPUSvQauIjyjY5k9VtZXPaQcpD2STwg++DsRvFQcUT3ABsQ97DDtPAJ0WDzuYO88gaTwPI6CFzzAAjY8NPcgPQLJD73kRo68oLHgOl464zynwws9DkgYvYArIbpOxFQ8IEu6PF51jDwQAP672DOFvAKpBjyUypW8+gQTPlwxNr2WMIA9FDkNPsg0kD2Eor68BuOkvLx/nby2F8U9hOTNO35vibxoSiE+UPc5vOb/Nz4Y9gu993otPah/EDv+9we9tgchPCy1Kj2koDW8sA2cO3gTGDws9Wi8KO2bu1iDkbzfPOU89hDnPLo5HDyOb2s89EJjvGAZbbs4EJ+8E2OfvRojwj2nKQo9HL3uO4ax/Tz0JuI8CYvHPCgROLwM21W9QN2UO648vzzsQK47slCdPZjIabwQmDU9eJGxPYzRbD1ntxE94NI+PYaEID418aQ8i6w+PtxXyTySXJI8sAe1PaO6Bz2gdbQ73hHEPYJUYD5ATai6h4fPPfCUiruaNJc9tMdGPay3FrwsioS83HzGvJhvNj4D1rI9yAF8O84o+bw8ta08GHSCOyjd3Tu/w4u92PSDuzCNdjxo/dQ9U+LzPSsEdT0g+SM6zIFSvCbp5LxIbym8wLFGu6p3STwQfZo6Al/FPJbZrT2HIdM84O4qu1CFUL2+x868n78TPQAIN7rgCQ87+F+CPAxR8DvWepw9YMSyO4ANajww9DS8GNHQOwgQETz+KJ88SUM+PhkTOD0+eFk9rP4XPq77xT3+ogo9dJA0vDCkpzos8Pw7LN4FPdLpCj7YI849Nv0CPlikij74AGu89M0VveSYNDwkRn4+o+z4PYAMYD0gnMC8WrREPTQ/fL0CcTY91h8+Pbq6TjzA6VG7EBnzOnZzubwwXqG7BCBlPUi9DD0cx4k8PD2tPI3eQj1I6uU9Tlo6vcbPMz5mhmo9Zjq7PIfB0jxmQyw9eH0hPnqP5DwACtG4oQKPPHgmYTtTh/49m+YyvjLPgz20xiC8IP6+PCfOjDzweam7pyAePcxsl7x54so96sVfPT2WjjxqVJI8OEagvIAhK7w260w+kmT6PSglTj225Li8RNAcvVTSiT2pnM09LBe/PZrnhzyCoj29F16VPcxjUj36SnY8OAzRPV6wIjypCqY8nByIPblOyzz8BHI8/hc4PdTThL1smNw7Nm5APR7bkz1Eh988otTBPQLXvj0IZJA9KK4NPssEKT22eAE+h3viPfRkdrwAMZy5vC7fPYx0ULym1gq9lkRxvTx9rz1C/sc8qPGJu4Rj47xIgps99twLPiKXCz42Zai8KH33u3whHzzIQUS9ppJUPQ9v7zxMOQE9Y/CEPdAtvroOUwg+bPT7vAAu2jnI/Yq8CGn1vBI0yD28t0q8Cb0cPb7dgbz8uzM+P+SpPXmwijxj5Ck+zPFgvPGCvT08hXQ9BIarPMDXizmILsC7P7GbPPw5SrwCM3k9FKDZvOxHn7yuPaM8iGKbPaQNHjws7a49vGPJvGoqjz1/jqM9rI+VPS67Sjx9e3A8dvMpPejCz7ut/Jk8Ip87PIl5mjxcCbQ79iIjPa1tQz7V5os8HsNKPY588Dy2wX08cAuEPQINET7kK9g9IIS5PfhGrDx6Pa0936CPPSgVjT3N7Es9AW8bPlAQpz0zdRE+hMHDPRxWWz136Co9WlIpPo1Hwj3prpU9Xy/jPEygLj126ho8L56pPLqBjj1IvCs7X9MPPY41jT1oCB095o+BPSekZD547Gs956Z7PSYWhjyViJg8xSOAPQIfGj3XLyE+WIUpvHwoeLzA1cm56Em1vEClYrqm1MU9n4htPTZWBT1QGaA9huWGPWhkGj7MQbG8gUqBPQDWOrqJhrc9aS43PTLyeD1Y5S49NFGrPGKFTD0D0aq9f2chPSACGj04Pss7jMSWPeLsMb1ErFw9Sm71PbZ8+DwrrNM9CMUSPml9QD3kZTy8tg25PZgaRj78wxS8nM3iO1AkDLwblo89u3ayPSCpBj4YFnY7HLg7PMOgET4A/qC4vCgtPj2p5T1QlQW8eDyUPehkqb0wLJW7NhgSPCWowDwmsc48qM3Du9kiDj0ebnk8wEwCvFiN8Lv8BRK9YcsXPZ5IrDyQlHI8jKJrPYiJnruwavW7AHXvu4zlrzswpcy7UJYMvDwSxTzk6rc98CUFuwfcvT1Q3ri6kCjWu46X7TxPMGg9AOfsOi4fpDw66IE9gqV2PWaRXjxx1XI8NeHUPexIzz1lVdY9QS4nPij4BT6AEYi7LDRAPEDgp7l9eNs9LkcaPLDUwjzaGVs8jDsjPEbykLwkCz08rxPgPe6ylD284PU7RNiePFoA7j100ta8jlGdPVAGQj1QWMi7/h3XPKJIhTyylJ+9QHR9PWS1wD1wpxm8aa/2PTDtJbwUroa8/kaPvN4qljwY+VG8eHQnvEy94Dx4kWE9yCh2vAPHhT3sMl28mIbDu0zmKrwAnDA8LKV6vAaLJD1Ogng8OMmtvGS7PrxwOkS86GR1PVIrpj1UwHI9S7czPRst0T3OYhU9Q30XPc68TD2wWeg9jPRmPXR20bw0igG9xKiwPW6cdr28oB+8IExku3AUAbyu5Y28AETVu4CBgbwgezW78DANvIWH5T3gd4q9GBBTvORdHDyjm8496f31PHpwoj0KKFI9Ynn1PTbmlj0gLwq8OrprPB4Zrrywrhu8YpwwPcbm3D17llI9WD5LPdjAqLvZrDM9YHVBOkxuKTxkWTq8iGkYvZIhgT5AGAM6EatlPSinqD2glVm6CEFlPM5H0bxdIew9wM6XPMgI6L0oz8+7GBIbvPr+5bwgu0o9FH4svMRIJbxEJnK8akmTvPTu3T20c+K8dLGbPGahGT20Apy9otTxPdSanbxCfoq9oHE1uwBuJLqQzCK7gpMEPswq+bwYU8i76H9KPZi+0ztJN/U95iARPrNcwT1gHrS6QnzvPbBMy7yQrDO7QsZpPk46jb1LYJk8tvo9PYgGA7zAOA8+vLiEvN4w0LzAIAi8QEkaOnSKSLw0KJW9bKJ9PBBFwLrWs5G90AWTPcz3VD2CnJA9uuGWPc1J2j1pNAG+eu36PQRaFD6EppI9VuyGPRks9zxsqqA9D6J1PPTkfT1PPso9ADB/O3CU2bs2SAw+xsUFPbuxDD0nfpw97HptPYDZJL3MtfK8sqUePogZlbx/2d08TmZBPR6UVDxe+no8cm6uPc63BT1Jr5U9kLj4PGmb9D2FNiY+tjFAPKzeFTycnFs8kN9mPABMTToo94U96CmHPWx9zD3GBKU8WMCGu0KOETzy2Fg8YB8BvCxppDzwj9689o/EPTLiujzW/0o8SH2oPQI2CD50DAo+bMcgvCRS7jsAxiO9w9r2PDLZsT3gZkq6BMoTPAAAmj1nQzs9bihKPLZznrzsSCK9QiEdvQZ5l7wieuU9wHZ+ujdlKD1YglO9Ug2xPTCLhT3MrpI9IFJDPDrQCT15zpW9RKCZPQExrT3PN9881JEbPp8MDT78TPo7jqRxPUZJnz2wAJC8cJ78vDbDNL0XJMQ8fTAnPXBHLT3gu9A8ZAcxPL6FWz3VvE8++zsGPstdqzxIfZW8GutivQfdhr0mDBc97mIePADLorgsDyQ+4nkOPVm1Cj0PQ6A9qGG0PLo0Qzy7iHY81ewNPaqVQjy37AA+rmSgPYbWWL3yhwa95jeaPezTBTwUKaK8BrTCvH7UYT0eBIg8rM0UPA8zNT3OyY88adgNPdQ+ET7GU4w8M04aPY8Wvz2iOOM9FJSyPURuiD3waF87el9bPR78BjxMS0s9wNGCuxytxT2s27k9if77PPL5yj2+K/A95oEwPvQ7Kj6Af/G6jdv5PVwRjzuf2ME9bly2PVy1hD2J/sI9Q1aPPQpSPz3cKYo9y4ERPf3vYT5MQWM9g5NxPagcCD5wSYq8DoqgPZOhnDxitZU9yfLKPQ3piD5QT8w9Lc7SPfA5XjwZwIq9OhYtPFpFVL2gnkO7Z+ADvWjtHz0QBFa7YB/zutgjIz0UQ849c4j2PRDcFbsh8S8+Q+eCPGT07T3k0149zbMPPVBjIDuqps08ZoF+PSS74Ty8cIk7oEIrO8TXFz5AOlk8DEEtPq8PwDyAnCc+GIBhPZB1zDvkK607khiSvDASAr0pQik+2pU9PZJHIL3GOAs8zUugPNQ19j1OTdo9eNYtPeG+kb33d+I97g1LPDJjPz2I9pg82snBPeWJ0zyGsZm9eORvPAzwdD3OIIg9jESUPX6wzT1YgS8+2s8UPlKz1D22DD69rr5ZPVDt8z0agSM8DoauPdyRsj17QQQ9w0FrPTC88zv1eMk9ObbgPaAqRT29+Tk9GMcqPh0X9z1eYkA9dPpfPcis77tkP9E8M9+8PbGm6D1wdo88LZLZPXrjw7woBqE9I8o2PYE9Bz3VgcI9UIklu8o9E73lbA89AFmxPeBDnruPGQ09dNOpvDaYNjx6z8a8YDOHPcek/TxYBW88elfqPNTk2LwqUDM8/LjQPc9tdTxJEK49tmUBPlybSTyunjM9dktEPYrRRDwZ7+k9+cjFPUqmTz4nqNI9L4oCvUAJ5r1IYKu7SveSvLys8D3KcL89gkj0POVamjzm9Ty9jI3QvD4w+j3ArgO+iPWevEgBWbxODVk9eFWTPICoLrpJuE49sPOzPQg76LtYA9q70CC/u4AYkju+zMu8EHbHPLezjz28V4A8hGYdPdwPPz3Wc2I9sKQ7PYzVL7xDKGw9awgjPWJ7Tr0/LQE+DRWBPSTCjD3gdVG8s0yaPYdmcD2aTug964COPJlBwT1cTZw9XEDBO8cyfT4WjXc9fk9+PS/p/T15olY9okbtPUwtejxOY5o91PvcO7ix5DvKq6U8fTSLPLzF3j3cBOk8ALQEuWy7lj16Ik897NC+PTTrDzxoyUy8vGsKvezIoj3W38e8uKCYu4pO9T0gonG8OkebPZQOTjyUqq47fk8NPO6q9byW5609Pph0POnwFj3SKrc9Vg4lPVlxKz10S6E8nJMvvawujj0lvs09vvi/Pb4klz0gRhc6bwfVPUDMmTn6lqE9uCeQvaxsAjxcbpc7AEJvPNcQQz11kyw+Ro6pPMRDSz0Cet+8ffIEvRbfrT2AbDk9uHaEPYhQpDwOBKM8YGIFu2jh7LtA7RQ7VLSCPFdnGz3OMrc9qIVaPShtEjyx6S496F33PeJQ4L2IDa27sSsIvmhPsD2TMOA85HdZvUiAD7y8LnG82GUDvKYPI76eaAY+Hi6mPcc2uDwUWZ09Y5hnPUI2lD0MKag8ett3vbZkV72hs/o82VnqPfPYrTxOEAu9emmOPYjakDzFMI49aqQvPJuNMT3R/748RpWPvPCqbLvyRo49Ren1PKzSbj1w6JK78KYJPoxIKrwgcJ281ulpPQt8njyrmCs9joJmPVJuuT36Zi88mAnhPOq0lj2xe0U9aGZ4Pe681z1BiI89YEMnPhHLyD36zHw9cKjpPdisqbsgvT06LxFbPht+JT5Ktus9n/HWPUCu/TsEz2c822ERPefYGz2QxMG8GuyLPNTOHz6K0HQ9KeNaPZCPH7xqK5w9SkfXPBDELT1ANU0+QP7su4q6ez0AYI+7PBkFvNBhObzICT87n165vUYFrLyt9ys9TGfEvPkdAr3Avr27hhFnPHQ9GD2sbD698G9rO8xLPD30hQ88bgeRvFTpjTsYdOU9iUYAvdTwnz1yOcI8Wng8PSQZOLziQck9cIZ2OyDNwrtTvfM9oIn5PQiakruAtVK8qgU7vV4BBr1ACmu9c118PdgIqbuQ8ce98GJHu/Azs7rEvTG8dqs+vQByBbi0Vsg7R8VAPpQi/j1LNyM9PuqyPRIf5jyFMiM9WeiKPDy1VLwYHbK7rK+QvKyDlj0GbUc84EFXuzKoozwc1k48kGl7vMAOvLsyiI09oNBsu4z3d7y4IAs8MWYGPnib8jvwxsK6XMWCPKhzSTw2vYc98E+7PQTcYD1DM149VkM1PAjrcbxepjg8yIg+OxMyQz0+Yks9wBfMui4TLD1o5PW7TM5aPX6TRD0EHi69SFoKO+ReBz14OSC8CGJSvOwcmjsEFQA+aE2CPqDRpz2nIZw95MQ0PdNFtz02ft497sq3PDpPkL0MrpI8GMIvvDLH5j0Qyny8RDVfvGgyx7soKcs97yaBvedJ3D1QZoa7FjOcvNLcgbz0vpg9FjsRPGxInz1A8bs8/t42Pmx3EL3FU5G9DkUtPB5thDxES7a8rHZjPNBh2ztaySg9JpuqPLwi1zvGbpW854YbPvPDk72Q2xk9ujY3PZJ1BD6Y/aQ9rkQJPMwltjyN03U9KPT9PQZJsD0k3Us9fJf+Oyp7Vz354TI9ngkYPRjcmT2Eko09EDmNPXm+Gj2eRiw99KYxPtjynj3q7Bk9KyGPPR9W8D3qDE09LloePX8sjD3C3Jg9qOCuPbY+pTwMy648okmLPUcaBz3YHAo+DUK8PXUMrz0ZkDI9OIxcPSztgz0Qdhg9xddQPYxiJjw61ns9HGMfPdyUij0pb3M8+L+CPkooHj34B/w9CDUJPnR/zD0qibw9O3eNPNrgkD3F1Q8+K0Y3PhXh9T3yeEU8P2FiPaDIiD2fp249WYWJPTOuCz0lPCc9VlgNPcJsCD18iWI9QLxOPciEmz2Uhbk8Yk/CPaG/Sj2qfaI9N6YuPR4tETwh68M9GOV9PSR12T2oUb09XE0GPoRyrzwb6ok9nNykPSy86zz8d/k9eVJ+PeUo2T2qXIg9/H62Pb471r0KJRM+4ASzPDi4CT32qRo+7HirPWmouz0wfI89WkJZPcRlsbz1IJk89kuEPR0saT3fOaA9ztQ2PXLVLz6QlIE9C7YqPX+B4TyA9825EriIPLq8Bb5FZAE9emAMPVj0HDyT3L48iKofPgIU1TzSCCI+nNltPTySiTvnGlM9MYmyPb6Irz2ZWOk9cwkGPaCEBz4IoUu8QIcsPe7tHD0uIpo9b4K6PXeZwj1aCHY9MggPvYpECj4s2tw9caZfPfPvAD59sZI9jNQ8PVRXhD25HiM9MlKXPZB5szrQxxc9TrenPIywuTxi8RK90fdwPdSAE7zEFt87rDo/PfIppTxQ8s88MjGnPTI9ez0rzF89aD4KvdCDTbxS4lO9kpoIPqDXUT06JfM9KsEOPMR5gD1H08k8CNNXPK4DeDyQc4a8PKUuvI4shTyCAQW9jj2/vOAHwL3ASqI8XpPCPf+vMT3rg408ABm7OjyT57zEBA69YO/Vu5sFlD3uICM8kNmGu2hZGj2gPSK9FotyPdtJ2D1sF9o9NkqFPQy3ED1kEae8tmOlPfgTlT3q3PU8TqaSvGA5eLpc6xw9D2j4PRS9iD1KF3w9JZEcPgDoArcdowQ+VH5pvLAf0bywkA28DisqPtGsFD0WYLq8HAgMvfFwnj0TsD0+sq2zPbqtQj3wjMS73poVPlcOGT2xV8c8QLXfOVAzTTsQ2Nq8yNwzvR+dRj0Mpro9vJyvPSh+gbv0iho9arKNPVBQjrpcSsm8uFWxPALytD2GEqk9LkV6vZQ5iLyi70U9RruvPcBfS7wYZyU7gkMuPfYahrznzmE9ShFEvUSaSj3sdDy9ADOxuChEpTsyu1Q9uCmGPercuj10N2c9ANwpuPSCDzxwvxq8BQoSPnz2CD6rFiM+zCWmPP7+mzzKrlY8CN4ovT4NDz5iTii9kR9JPjYxiL34Wok9TFwbvJ+cDz4kyzU8cJH2u7jEQ72qap89LMlnvKjhAz1KxvC89qisPea1pzyIWJ+7HqVPPUwEaD15+749PDMePE+Ihzz/RC096qq4Pf3/+D0VcNo8QBsbvORilTz4cwa9PjOOPPVn7j1Cd4U9gj0aPqqIxLwMjy89ignzPf24LT2EWzk8HO+rvOAWgzsiXRg95c/bPFD86LugRQu9tty2PE7xNj2O4AE9sLzTPK4ECzzczl894Qg2PtO9FT2q4E29OE3OPOLnvb2AoCi8BB1xPc6hFr32kWM8WY2kPRyE5ztlaC4+f+CMPUQMb7wYVqC8/y3zPVTA3rwq8yE8cRWePFBwhT14Kh0+qWTWPcsn4D18fr89aUj0PNQjDT4+shU+xApRPJb+9jyAwfw7nKyUPigOwjtYCPI7qh67PSqcwD0qFIg89l1Evb+rIz0mto49rtdSvd8IsD0EwDY+mrgdPAZTGT2HG4A9YOiFPbVRezzs5Uw9gEddOuhDTzsUees9QAYVuwciLj6g59Q7xJ+2PcS6+ryerBA+KGO3vFqtWT1Guqw9aJ71PDyqcD37rwg9opZJPTolEb0AKgY+dLfeOzvA6j0MbYY9zYQLPcXA2zzI1Kg83p0SPfzNCD7FP9I8S0tqPWAznrvc7S489NfcvFoO/T1u+La9FOizPRn/JT3Fp3E+YiEPPn86Hj2GhTM+yJqjO60o9j2oYKA9L0UUPuQPFjx0EtQ7mk0MPkY7Ez3EvVy8dl7kPYQl5TzEuzE9uHthPLzipLyTU8g9hHV3vFhrcz3uioQ8bfSPPFRZ+jtAoTs6oFL2u2h1GT1WB5c8vNMSPibmqrwW/8k8PK0CPbS0cD1+qiQ8iCXjO3hXMz34O+69zC0NPJafWr2Agwy88J//OpZACb1Apnm9A3wTPYocRT3i9qs8TFkbPp0H+jwK7Wo9qkhRPsw1qrzGSC893UlKPlaXKr1E3H+8xJozvQCw9jYHwpy9UsK1vFidm7ubDwU+uDtWPe6eojz8rVg9aVmqPcFRUD3CkrY9yTnEPZR9Lr3Cwem8JkFkPd42Dz5dW+A9YLmuvNyVJryQdo27NHN4PQAgjznVBrG9pvcIvaBOTrvyKLA8HG8vPfAvR7yx4JU8XAr4PRf+4j29CbW9ertHPQ6vg7y4vjC92NxIPSJom7zIZ068ZiYFPYvngT1L3dA9PTjKPCmIoT0AWoa53CCgvNxOgLywVW68GKpAPfSOxj2u5kO9wKAmvZBzo7sivqy8SuBTvYAXH7uU1yS8VKCQPR9C1T1+e4o8pm0HvVP3vT0G6ZA9QLBQvXHJMz2msdQ9c3nIPbBCSruW2BI9vu6HvKDbDLzI8fW7WrkWvWDOuDvk3zw9lHpAPWMYLj7CJJc9JcjsPDwrLjw64pE9tGQoPUwKnzzALJE9x3PwPJL9oj0P4t891ODlPI3r7zxel5M+0JXnuyKY6Dw0qDK9wD65uvpvHj04J1S8jipiPWSgRT3WNKK8MKaxu05ohDxuh0o9onwXPSWrKj0Is5O7jiHHPXzYyD00yB09m74JPdYvx7yUSE09RpqgPV5Uk7zzjAg9mK4SO64zKTwEuk49QMyPOl+J3z3UwkG9ShmXvIpiqbwfhyk+U8YLPoy0NDzzIyI93hAOPeaWTjxTCBQ9ojq6PZZUVr0esaA9SA42Pe3/M76MLAK8JFEYvBJUCz2Hsss91kzyPdrxCTxqbhk9uoNaPYiGT7wgXCg9ahUcPXazkbyMbIS8tK5APWwiGz7gCWm6IJ6dPAh0gzzIrL49TDhevQpv1rwDuBs9gDSVvCg6RDx85j89QKdoPVqH9DxE+NI9kPReu4AiLT0M10A9JO5fPV4YhLwPHqw9BjAgvZRTT7z0eE48rl2IPTiICD77VNM9ELgYPrikJ7zWVhE85EsqPBg3/b2e41E9mFVnvHgoSztR7a09es+3vQFxkT0/i2c9WGnxu9rLijwunXq9DI3WPN5Eoj39VgK91izuvZDb8TqBldE8KO+bPMhPE73NPKu98BiGu7FIwDyTfWM9DkFTvZ0E5T1Um2M9rhu4vJW0Vz2grDE9wu2lvNAOkzyo7/K8wuRlPRTrYjzaBIQ9sokDPgfS3j3Icp27JH0aPdXWaT1Chfo8xhIfvadhYD1kJFC9wBVePYge37uOnXG9XI/VOyTbR72g5ee7e4A9Pj69LL0UD647qOE9vMQaMD1cwS0+vAgxvYjwIbzFL6U9dCtPPeKWtDycCac7wqV5vQrXPDz/Ncg9by6IvcqFwbzgLDu7sUHBveJ86Txwmka8guzIPA0rvjxEIwe8JDaAPchtVD11HyU+VjbRPLpBGzyn5/Q9wLB/vSDnWDu62pO8mCAePQoWqj1+a8g814eRPC93Qz71+Hw+UHfpPVzchj0a0KA8fuSHPMuwk71lEAA+2BSxu1YtlD3uMI89/QG/PWjN+zsmHtA8Pva9PUi5hLuuNak9zjarvUb4iT3wLz87CFhaPRwNMT5gSI+6TXc+PtlEJD1sSu+8vEIGPaiuvT0w2ZS8mEmYPQBbDb3VnGk8xpKdPch4wryw8QI7sg6OvEB/lD18WZY93vYEPXEVzDxKud899hOevBTVTj2CjdE9XjpqPRCbrLuQEi685tohPuXQST1+60g8QAZvu1T2kzzYOFS8/m6NPnyVnTsLAFU9+r5HvalqvDyRj+09GhQvPKjIV71MgqM9R8n9PJUY0jz6uLE8u5d/PRUTxT3oWAu8KVV3PMasvbxWbXo94JVpPfYFMTwp6tA8lQT7PRQ3Jr3GHRI8q7zPPf61e7323eG9YFbqPHi4PDtmdGC9482/PTB9rjuqaa49ZUHOPQPkZz0gSpE8LqpePILuIj5xsWA+gFLIOozBpT3oWLW7eGpNvMSVNLwg5T68wEhFugIrET29fJ09QDurvCK3PD1I3fM9Ut6qvNaTRjwcrag9KJAVPtLPNj2IENI9ZKsoPv7Cbr1wnQy9pA+OvNClUrzw8426NBwZPHBMJbyI/4e8m6+CvVATe7s/Ksg9tFQYPWr/cD1I0u49GLzovLyN8j3cYmC8zIlGPcgBPLzQLJu8IPQMvERIij3xNKw9QADUvAhlpDvGZlo82KDdO/90SD0URly8JDEcvCxJ+rzyMLC8qPKZOzsN3TxI/6270+ABPdiDTLz6d9289TOTPWCLZrt2AMq9MCJjvOCEz7xYr0Y7n5MBvYDPPLxASEC8baajvUDSirzNc7487OQ8PfGGfj281Vo8EaN2Pgj88buxDSQ+51nqPP/lQD5J2c09eNvZu4KXprx3mC09YiLkvJQGp7ycD1e8zadrPsUEPT3g19G7ad3aPSlC1TwPBkM+kf7wPYJ8wDze/LK8ZrPKvNjD2btiIw8+8PqoPcxBYrwuCaq87PKWvFyOT7zAGlI92anDPAjngTw62089f0olPSvtQT3YS1O82KG1vMMLwD2UKpO9qYQBPeRsyjy6Qcm83i2hvAYj0ryQWDm7VgOkPFYURr20iIy9nNI8vGVNxz3QYf67Xpi4PKB+rbzFDJU8XJU+vLdEFj1EHCq9NhYYvWRc570ge+e6whIOPEPQ0z2OrjK9sYNuPIr0kTxioPg8QDJYvMhh5rv8gW28DOWsvMCyeTqqh7W9BGFDvCSZlDxajk29oD/0vLi1r7xqj7o8plU5PQXhNz0gOTK9WDENvN11GD5o70g9Cg/+vGhPiLyGPJo9LD00vLndjr3lnhI9jKAXPEDmNLueSgo+eb7kPKd3Bj4q7Qs+dY98PFLzsz06D289z03tPRC4wLxUDMs7VCsjvASeBjzcJQi9ts3gPAiuFryoBx69wlURvZEu5z2QSnW7zBSoPcDv1bs4jyK8JOcAPfbeIL0bagI+xKsEvHQtET00vk68cDs2PTarqzzYku+7cO36vOUqVj3Oog89qODVPa7FqT1eB9Y8hykgPqAsi7w0v168JKAQPsBcpD06o/A96sOfvMC/67o2uKw8DjasPTazvzwnVMY8LFlFPYYeFjxIQq+8IRitPJhtAD7wLZo65A8ePbhg3by4mEA8IA/nOjuugzxmGf+88QPCPVSv7zwkjRs+199wPKnTuz3Xuu48oG2TO0SLTrxrPRQ9xMGnPXxldz2FX8Y9noi8vEBi/7pC0wA8m9yCPQiUDLwNnxM9sBmIPmxFJLwwzVC8cAzNu7Rxlz662PS8/DFVvGY6kLwUUUg8mgKTvNSRALwQerG8hAL+PBRTFLwyQJ68i57QPDYSFj6eQMo9eD04vHSMTT7ZUhc9AgL7POgGgD4Xnok+bqndPZAygLuIOog9lHdJPmR8kbzCH9A89HRzPHoQBL1ogVS8O+jNPcsiCD4MOZ68xvYzvVjW5TumI409cPW6PfA/mLsLtXo8EY+dPfsPKD2CqNE8kMWaPOBoCbwgOPG7/eSnvf4DQD28v5u8zq43PaAn0rpuwBo9BJSkPIi6HDxti5I90NRFOwyDujyGvO+8AFiLvFRUKryUB0s+JOkGvGDlIDpiUTO9tGevvJHS3jw69Ds9kEJcu8H4fT3wgJI6/29hPZRscDza5iM8svkBPqfGMD38gD88EMj6PRa8y7xOfbI9QlN+PdnJxTyslnI9Oqk0PvjWpbwy4YG8HNmNvLClxLv+ujU8dHeQvLwlNbwF41E979ciPWrlxz0AI828qvnCPNJ0r7wrISk9HMTjPXYnhD1vtIQ8vmsTPawNQjyK+1M9SeEePb41fj3HmaU8YBtru9ro4LyoMY+8gj8JveJqtbw4i867GNjTu6K6irxJIb889JTePU6Hlzz4t4E9FatuPDdJoD1g6ba8uIzRu5Q0R7x/k5k9QF+ZutxbyD0k0ag7STabvbgC3z0on7W7DPSxPGBCgbsDQlc9WIeQuzbD2jw4MwE+lyzrPfIBkT1Mav47pG+AvZYSDj0TQ4w8ClQcvbOjJj4q34O8vkOlvJDLmLts9yQ9PIQZvDXDCL5gYZ66rK+SPZq7lDxg8U+9A1JzPM0tZj3cxkE88FKFPaDd2jqENUC8+NFTvM64fT3Q3xO73KJmvfIT9Lyc4069+Y6+PQW6tjyP9+w90hIEPNT8PT6Yhx+8LhzfvL9MwT0kCwW99jKZvJ+tIT55KYw9/OfOPfMzxD257iQ9eZ8lPYBhZbuiqtO8jqLcvOAQzbqadks9mIcrvaqqaz3xgxQ9gE23OujmZTzAGbO7LveQvLBHj7wc0668IAG6vTD3OrsEs028aopCPRS6hzzAn5O7dT3OPb7Eib2KyBQ+hO6YPSVO7jz4SRs7aFxYvYApjzlmddu8VEcUPqxtxrzWXuw9rS+lvUN93TyIrZg9FI3jvANsTD20mew8aNpWvNbWmz0c+hy9PliYPJjoQTwySqO8+u6hPUQzPTxgpNi7iviyvWC0DLumxiM9OIthPfab1T0yzTM8TlEUPCR9/T3QtjU9ylDKPDPhyTwEJVs9HVZBPcwnMDyzvY49BXy2PBpsOz1fqra9kE71u+DjnjtUUsq8UHwUvgClfrwO4ie9sBsTvDAtErwdXpg80pMWPuEx5Tw0+g88IIvuuuQqXb0QYl69oMl4Oki+9rvQZbS7Gty/vK72lTy7a208djGNvC2UBT0OzUw9KgwlPswYWz1rLsE8iHQvPdR367wGLK28hOKLvBQZILw4+lm8fAF/PfKHsrw+Tfi8yS0FvfCokbpobmK8aCr0vEKN3jwWM449RrwSPKCA8LsbLcU9dA9aPWxXuTwgpjc+mK47vURgEDzbd/M954kAPvAAKD1iXaM9hrKcPbGEcD1u2Qc8BnEIPqCfMDpaVUQ9I9wDPQnzTT4k95I9Pqo1PYILhD3lY6o8YmZtvfgtPbwQ/se7pTgoPtwDFLz+dgw+UAM8O9DHAry04ja9IAj2u1Q52jtqfo89d8BnPLkG3jx8Iik+atFTPL7rnj1+uBi9NIQdPTpfUT2ajr09QqZ7PuyZorzmsxo+EjEMPh1gIj6srBI8LFExPEYCk7xkipo9UIY5u7h7V7y296M9XM+MPcgIPj4J6gQ9oMYGPEeBMT6wKkG8nq8OPhRsKD7GoYY+bE7LO+B1yDouJPg9BLMYPd2oJj5YLRI8DHB/vM/vkr2QBYq7SrmJPPh0J7wXyOM9VtEpPWQawDub/hU9KEX7u+K2Br0QOEK7gOLLulizL72gn9i9iGtLvG9kDj19cxw9Aq1IPefGBj7Km+m8ggESPmV5mT01+iI9xPe5PB7TSz10/jw9Ci6mPFKYpT2gg7w7uiSxPZa9tj0eyoY9rHlMvcpbUz5mypU9TIajvUgI9zvgIXO6FAURPbbQnzwQD268ZNUrPLAalTv4Pam72PKmu7AsPz2ycn+9QpiMPZIgYj3uIUS9IH4+PApzSr3AZxu8KgN/PJfDbT39uH89Oja1PXDw0bxAy9y7V+6ZvY6+67w0clC8nOc8vPzsXbxRcbY8In7mvYcyYj4eVlk9HM+tPfCTNjtUN7i80gWnvJL+mz0S7Iq94A+qOkG7CT1cX2y9StARvei+M7ymEQm9rus5PKBXkrvANjC7JKqBPZZHiD3c9p28dqGJvTE8jD3FuIy9yAMsvBRAgDwiLBw+PAIVPurVk7xIHlG8W7iWPYCWUjrifAs+mB0FPLaC/L3gBwE8cxvMPRAiIjw8xEY8muNKPV42Bj2MbZU+rFqFPHZMmLwQ+2q70KIdvJQqHD1U8uI8qFLeuzXDhjwEk5U7kImTPBS13DxMLHY85ha0PWQkErzQXUK8LnmOPJAR+rww/iq8snS3PfgOD7wLaTs9fBTGvOADq70AIE47q914PfdFBz2BLy49egtPPVk6bTz4MZi7wJWNu9BQE7tCXiS9ZN2uvHxlKL6oyPK72Vd6PRTvbb2W2wI8Q4spPhzJ07xYUfA77r9ZPUgwLrw4p2W8ADOCO3bMSL2L5RI9a/TqPDSShj2gE926sOhGPLXVHD0aXNy9YR5TPUiMsDywgzq7ZkaTPGAtj7rY0pC7FmAKPXBrnj2As6C7cP9cvS3Vwj2e2qm8gJkYO3cljz0xX009FUV5PLQ/Lz5AmBa9pOravRXrfD06ANq9bCSpvQ7D0LyWwS88YFZCu0higrzgaG46krEHPsJkRT2iTYc8gsAtPW/Rxj0caU+8kM9gvD7cuD2gcUG7EF1VPApQ7z3gbs86L6ggPb9duDwkOcA9xqt0vYjbLb3kAye8EkmHPVA2rjx1/sE90PSKvALqRb0iSDo+UkGgPfgP0j0AGvW6hpg/PT7OnbzMoL07gfLKPQwJLrwkRcu8nk0TPRiMCbzsrDs9EOqlPRiSRr2YAok77FWOvO67fD3Yltu7XlZiPRDIQrvMlk48tsmLPeBd+Lpw46O8u7YZPbzGK7xYba88V66AvfxAFTynW5y9lHroPfJeQD46NQM8QgQwvUi1CLxQXUW85sRhPcSDT7xweTO7N4G9PeY3Jb12To29s2L4PfwNmLzgaxW7TOC/O9iNKr0YIDA8wFTIvPwdzj0amGg8QPlEvGY1Uzys/BY86CMuPfnYFD2efv48TmzLPV0wob1wujE78FZxu6y6RjyPgl89SCskPT7IRj3IEO+7OPGkPF8sZj33Icg950APPWSdjT0J5JW9+GEhvfAsvjtxiWQ9MDWCuxf5kT0yIjc8tilHPPgSPbxQ/Ro+gOVbuSAjFbzeBLK8+3UNPcgFSjw4Q549tg2NPYS8K72sNc28+keUPbSMELxINXK8CJ+WvPCESbyCLIo8oab5PRjYDj77iFY+HtiBvUBAjbtwhjI90e/DPUeciDxwo7e63HkVvJw7GTyU1Xy8YuJgPBS7D7z2aj499kGOvBgZPz1gCR+7vHCZvGhIybyLvPY9Nk+bvFFtAr0gVXG7ES/APRYIRjyaoKS8nGAYvMCvuz3oWMo8uNA5vcBqI7xAnEY9xh6OPEHulr1lW3I9tvVMPRRtS718bRk+CBJOPgrYCj4CTOQ9SynxPDELgz2vKlM+bJsTPiR7M7yfWVE9/tnSPRqnnL1EZL49Ri6AvdC6W7zi+w496eKMPc4CyDwmvXE9SCMYPvDsQbs8UWo9GsxiPEBaeTqxN1E9OXr3PKAjV7z0vxY8Klg6PhAulrs4Kb27aKsBvHo/HTza9R0+lAXavGiveT0VvtU8rxpBPmL7Zr2E3dK8EF+qvCY2CTzKfYa8yLD2u8y7L7zAGFU7QMXnupDQNbvG5e69wkrQvB55ND2O6b493Oy9O88mUz1pw4K9kPs1PJIujT0g6i06QI+AO1CXKLuAysi70mu+PcywiTuxIRE+BZtFPRCwEbxuIp08AIfJu+gaz7wk/mc9qMt3vSmnmz1yhp+8oR2cPfx9M7xGkaC83QTMPbCXv7z41RY8PI1bvRgTm7yAa1y6NQDOPKgJx73twA09MtaavDQqKT5uMYQ9auPAvEyAar1Uhjm98siGPEQemj3YQnC8BfWvPMAyvD351go+Xqc9PGoFxjxAFay70N4lvGVCOT08O0a9mLUavQIMoz2Qs/g8EOEHvAGlbD4QNwM+vRXfPSze9LwM64w+FdgGPW0UzzyIoas7mSXCvTX5nzwkBwc+VlgnvnAXgj0+D4Y8fayvPazV8rwnaxU9Q/oaPsy35jug0SO9cGrQOqwnmD1AuaG8IEYRurimEL7ACwS99pWxPDC+H7xydIw998ssPRD/JbvfA0w9PCE7vBpV2j1hJXc9LCaYPD5PgjyAXvi7Ji8qveGImDycnpA9YA3IulDtSz2qcMw80G/6uyArnruqCu+80KKWvFDuSj2MIKs9IFufu2S1oLwzIsg894wxPviGfDzTr4W9lK/YvZTckT1P3jQ9dAJDPUgDN7yswk89PL6nvGokBzw9xww9FpSXPCjnkjvy67Y9TA4bPJY7u7zcNGg9cwQGvWW3DT48VDU9aNM8PKtiDz3+3Sc9uvyuPI03sDzqT5Y8OHTDu5C2Y7tYepw81CeVvGYTAj7qlac8kIQ0vPSUeL3YxuO75xWkvaRZrTy6k5u8XNDiO/Y4iDwovQY8lwF1PTKDHDzQ8Qq8YSX5PHYBHzzAzdk5RFxyvOCO97pQTKy71BUGPHwS17wwxYi7pQV+POgQWj3X0sk8yKLMPTxhc7x+QHM9IN4XvHjDZ7xuE0k88mmIvDTJZz7xfKa9AmCkvLrOtj0dQZi9xtDFvYcEBj17aL29MFDDuzy5Oz3kv+U72L64vILIbL0EjGy8ih4xPRn5dj10WOW8YN1cuyocsTx4ITK8ImwfPZ95HT1dX888AIB+vK3fFT6U2Uo95CutPWB8V7pgx5U8lOoQPV49ZDzMSw+8JvbnvRornj0wrYO7CGBMPIJiFzwEaIC8oo2kvBDXeD3k8TQ8cJxfvPyFWrwsvBw9MdFxPMTgRD3UQ1M9Zhu8vILHrzzavF08fE6UO6RqS7yxTA8+gMenO8aBEL0ACO87gHSVPIY/Aj7X9IC9FPI3PShiGrysoRU8J9bgPYTwO7xWQcm8boMiPBrSkjyrjjY9YDAfvdANCrvdcY49TsKhPXiunj2k1OS8wEOmvMI5Sjx6ac48h6GLPWhG171MbS+9fLiCPVLHmbxQCJw9bOp8PJzDk7xOVIe8imfGPdrnhjz/jK+9+d8gPmRKU7yakQy9SDSRvGSlXz3Pduo8qSQgPR4up7zMRiy9ruttPdYaRj0mCqs9I9vGPO48Yz1AmP06GmoQPfgQUryYezm8YWUEPVCL57vC9iy+7CGsO8h+OzuegZq9w070PRQQRD1yRpO85GGLPBRCJLxQixC9IAEvPcwwiTyAIdG9g3a+PIBT4buBgqq9Mne5PWGjJT7gfeA8ABbhOMiy47yMbmW8EDQ9PEznmz0YMEQ9DiYiPkOMTj6C6Ca9rAgRPNU6azzXDra9jNoTPWoseL1uQJy8MHM5PGI+ibxAcqA9OIlBvED6Hj34LLc94PWzPFyawjteDfE9LjGFPHjPLz0IOcq7dO8KvRhfUj64bha8Lk2qPE6nyjz+v4A9grCQPLJWQT20MyG97LCIvDQJojuL+/k9s4wLPcDjf7zQCIY94uL0vKQprDzQVoO8EMyROjQ2obwsh1e8tHAVvNaRPz0MUzS9YjkUPcSVkj20BRu97HQjvOivbztUOtg8TguRPbCIpbsfqY89sJc6PJAKiLsw6Sa80Jlvu31bpTwwMyq8lP0VPXARer3APPy7PPOePNBIjzq4z9G82C5lPA2pOz70e1W9I2GYvWrUvD1LF6+9vAhLPDBesD3iOkQ8KGgUvPC6/bsIrpw8GLgXPlwsOTx+8KQ818JtPYADUrrIsas8AAuBuw8+bDyvrCY9Mq+iPeLThz3D/sU97BQsvbC+U7sU4n88hMOWvNAmAz6P9Ye9MpzovbKUOz14f0a8LU2mvV7IkrxxNCk96giqPJINBT6AXHk95AqYPfBwAj5M6E29Oor0PLRTxj3QnE68pjpXPfXvrb1kKM88S8HgPW4SaD3Y7JS7QKB8unjEqT14AtS73MBBvfBvXLsGcqi8QIR/vIa5mz2CTjS9ppVWvaCVsj2Gjj49ZqYCPqBFsz06P6W8yKejOyLAXD3aU0U8QPa6usrUbD1Mzpc9hLaJvCMQhTw8I1w9YMQgvdJmiz2MUrW9E0b/PRwajLxiJJ8+aKtlvPYvOL001Q+9okbqvPZEST3Ajdo8E1rhPa47gb3MfAE9M14jPtTdT7wgud+7PN89PYAiDb2gvfG6gDk6OeDMQbzAApw9tJ29PPwSiL0Kf049CkAOPqK2Wj2shii9LA/BPNi7HTzixCE84owrvRFeRz0IAJI7CrNEPQ5qIr04SuA8KXliPYDFsLswJmG7cFpCPWTp4DxMtSG8YN9TO4Y9pbzC/XC9yr6IPeSiFj56qJm9EuwpPkgnojuA6Sa5Opy5PKJ5Mjy+++Q8yNNZvOz0CL0Urgm9jgcLPSashDxQt/I6dqs9PCiwcD3auwQ8RmXhvPAs+LtQIYq7FgsmPApiLzw6ejE8f3PsPXQROb3Wo7w9CPWbPMrbAz7FHjw9wGnvO0CqfLxwHxe8uytwPYgkv7yw7Gk9xEeIvfZk6T1QCG47R51UPeAQbbwNAQI9/pzXPOB1uDqMaXK8SA+Yu4y1Mj7KkEW9my5RPkRLnTw6AQE9zKrPvCHjBj0msDi96PwXvMLxVzwLE2A9QdIXPUDdo7uuScQ9Q3SFPU5dJL1CkRo+sH8PvL4wtD3Q+Sk++1L3Pfp0aD1mFoo8TdIjPVTTlr2AzTq84B2hO+57K72/cJs8SkqbvFQPlT2AjWY77kcPPaA/Bru9vyo+EqQNvgo8mzxAxgC7Gmy2PcpfjDyeYgE9JJ4/Pqpr27wLyYc9XE8gvNLZ5LyYeZS7MFirPQoAeT28gnW8awZdPResJj0YEY08CNhFvQiULj0MthG9Bh1DvYbGIj4pWr29Hnd7PHNIpj1ZsGk9II4MvCP3Kj3oNXw9ugi5vOqZND2hdY89KG/ouxS8hj20V648jsATPECiX7uQ1MU9sHksu0j/Mjugcty6EBQTvZgixrxQIzw8UK4mvMAX3zkGTro9yDm4u545V73Gxfc9yFNYPPaM1rzcTOA7QO9+u6GfUz5GM729BljUvOCNbzyqAvi8HH8gvNB2O72o7EO9PYHAvYYgSz3VFrQ8mMSnPVwribwl9EU+BiqqPWiADrwwxx89YQAbPYR7r7yt0QU9wFcKOztWbD2rn/I8bQmVvaLZAr1GYAA+3J3evLSXKLxkFzs84N12OuTbgj0p/uQ8SFSNvEoOMj4rP749pgcAPRQ3Pbzo94S8CK0kvBHXBL6wtso9uv/NPbCWyzrWd7s92tAaPEuGezzkfcQ9skkdvU4LGT7Q81K7QN88u1j9vzvsEci9cg0YPaTDa71wUZM96v2tPFZiDz5j34A9LNNuvFSnCjx8gVu89DRmPZCieruM+3w90DdDvUsQCb6up4U9FTsYPfHqjT2MsL29ZnOXPCzD2DuSeM29OA0pvHBX17u0rtK9QH84uvJevbwKEbo9HLWRvPRWdLzQhQa7NqP9vPqnorxv//w8BhFIvWAwaLu4Pnk8rPicPVpPTj6kIty9pBFSPCROPTykeUI91MzKOyw5dbwWY6S8iP6Ou2DcP7teoVI8HH2KvBl6GL4//is9gD0pu5zvhT1ge9y7KBYUvSpecj3iIKe8cAsEvciog7vWVZu8wiWyPcwar7ztdUg9rLF8vM6YGT1neSE+6LYZvUhUsj0k1Lk7TN/wPTGiib0eGws+cB3rOqTLhTx3c8g9BA12PHZ1pj0wa5e790+IPbArkDz4aL47uC4MPoDVnjqslsg8w4L8PYzXJL7T4oo90l8ZPoBleT15rEc+OLWnvDxI8z0kuck8r/QDvT5BMzzYJdI97QhVPUOv8z0q3R4++SW1vVmnAD0Qi2y7YA9XvbtghT04c9499nIEPtYHLzxCkUW9TfWrvcDQrDz8r509dk7HPeSNHrzRSos80O59vDg4oLwHCis9XnCJPcjKvbv0x9c72EhXPt27yD0aQYY8G6SLPM/jBL001nS8ndbBPPwq4Lymz3m92eeWPRzivT3sAKC8JtKyveiohrxiZlo9vK0WPiyLXjxUKQw+0NonPrAUpj0iS9s9lIy9PEj/IjsMqYS8/tqUPOYrnzyyQWg9uosxPQHCmD0Ihsy7otmpPNT4cj1Qo3e7IlCQvGvqJz0khi69kqttvbq9ZL0OokI+Hg1bvdtbnL1OuYc97ZjcPN1+RT1cGHi8yo/bvbDsFbt53CI+pPxgvb7fv7xG8HI8JjAmPCiERbxKLvk9LGuxPEjWiL1cnqg9/h/TvEhzw7te2148Rq3EvGKKHr1shky8aGtTvEb0Ib16KAm9ESNXPXanIDw5UTI+6LSfu6NG2jwobNC76rJEvSosZzyKEDg9pm9APYM1wT1wUCa94FWjOgauwT0WPzc9gIpmOvxLGr0YP5M80nYDPnmDir2IBYU8en8MPUAFyrpUYw68AO3cu4DdJ7wggF86atkSvXpCg7z9qb+9yK89PWWvGD0+OsE9hCwlPMeEtj2o/N+7yjr9PANAm73AuJ66tCclPt6Rgjx0CdA7hSCWvaoiuz1iSRq9CJxAvLLDED7MckQ9OkkcPV4RgzwQm2C7YEDXu+6Is73qBas8rnq3PdAsgD0SFnU8YM5cO7CqhztgC7S7LLbUvBUCcz7wthy8cIX5u/vJkb0OzlG9nvdkPchFhbxgBgS7ez4NvkziED1dsB09gA0au82M8D1m8na9hDluvEQo/Lz3RIU8uPgSvD6anj2284m8TXPlPLKxbr3eCJe8sEyIunhPLrzAil27xriOPGBqGr0A+VS7VC4DPdZug7x3ZPI8dMoFvHiTZr207/47kslfPB4kv73gbGq8XlJkPYAOGj0cF5A8aCKwvKSIyzsMMZY9YuFbPaId3b04H7U98EQMu9hWTL2A8XK5eH23PIpjQz2sJI88KcGoPAC75rmojpK7Tr8PvWiyfz0+6qG8Aj2YPJznAj7g3Si8oEcUuoA6KDqgGo+6Qp/KPTMFmz1ekmc89LgXvDQuHj5NjzU9JFA8vTgepLzA9GY9Ev/OvdJ1eT0MoQo+AAKeO2pVnD3+oFU+BOE7PaL2bD3Ubrm8FA6APIQhfD24BKi7UGkbuxBshTwGR7o9njxTPZtInT1iYTU99DF4PES+RbxdIhg9zHtIPtVi6D2kmlM8fne4vMi8njweW609FNkQPbqJjbx+v649z0fOPShOeby68LO8wXURPWS/AD6Ce7W84B+PvM7N8D0/2I89e86GPQyTdj3klhS9Kdi9PbnZxj3XDJY882w2PmzEkLzhUng8esa3PRyyg7xazok96MojvLRDjD372a89GMnUPYd/Iz1a9Ka81NOuPHwW4rykXrO8cEpoOxOA4jzu05u88NNRuy64qj29c4U9sgDfPZ7yRj1CDeC9RJ23OzxohD2srBw++g5BPNSqaLzcFo68sA/vuzCcmLp0eiK93C90PoCZALp0AiQ9GDaiPB6R9TwE/QW8kBlFu7+zwzxmajI+Cg63vOnyczxi5gm9nMkxvbrmOzwOwZU9vYHtPQhPA7z/ees9HBoevXCeVLu6+4s9n9QKPTCqejuA0Y45iKFZvP4wij08Rku87QG/PP5SML2qsns93laUvTRtkDuq3vU94nRdPCPdmb2YLP09dCBAvMCmuDmgHRm9fGjDPek2xT2mA4+9WKXau8AXEr0gjAO8ALvEuaGqTj6srpI9IGNrvEaHYDyqBPK8k1+NPZAHA71wx0K7mLJNPUjM47x9vcA9+tnRvFZmWb0rU8M81TiIvW6Alj1lKOw9COMnvfQOlTzI6Tq8gJkQucP+ijwg+Nq6HIsFvOLJWzxACXQ70DoruyA7Hb3sSMo7RVPPPcRSDD4IXlk7Pk/mvADV5bqAzd27CvGHPb1MnT3l+ym+gvSjPMNSzDxDaDg9k0cEPqTGOLxkW647SBqRvUK5V71gCtC6btqNvD7t17xxjzI9rjzlvVaWhL24WFi8EU4lPun8oT3D5OA80Ih+vEN3gD3Qp1M9VBU0vD5QNL1g8dm8f16JPUvRrT3o2z89AMH8O34gHD0IMZ29jHkGvZBatzsQ4Fe7YDloPcCthTyq/g2+52GJPfAgn7vcQBa9VO4ZPeDEKbx5ouA8RulkPBy43LzkzBo9rmYIvjPYBD6Lf7K9BmMavuimAT07vks93HLCOydag72CCeG82INevLDFFr0u7NW8MAbCOiCwnbtIdvi8wDhsvOm8Gj2KlEA80LxEPCbzWz0CvAm9+plMPBRCvz2FZwA+NgsZvX7Fnr04o9o7Q/f6PBzUe72UG3i8dmnIvXYJaTyijjK9o1Y7PivnGj3svwG93IXZPSsohT3yXO49NsHevBLkkLy5mPk8/gtuPba4A70OZDY8NjHLvNBMfLuc5o28ot15vdWopL1s1hq8zoy5PdShC70gbpM9QH7hutBYE7wnspU84sp0PNOjDj7yAiI9TDPHvUhQLzz6JyA8/iszPCKJpDyWNrq8CU4rPrB1RjuWJoU+LJmBPQDPm7uAVQM50+Q/PmCbLbuF8g8+YBoyOmAQHrus3vo99tC4PNIODz1utWU8qOwRPGQ3LLxEBrc9MOGROn7NlDxJHrs9YEs8vCBdED4gw9y7qqsEvb55yzwYpya9oJNlvGS4uDtAGXU8cIxYPeT1hTs2RFg9ZG9MPpYz9zw8+QE9q0WUvRhxrbukpby90KCxvRj6FbyxaQK+BUNJPh665LwWVGI9Br1LPcBuezzi3h29oSeaPdTIFbz4njO8e50NPtREAz5Qurs8H69cPZ/khr1Endq9LWGjvTR+FrwwKNi74CcYPNb02z2g1Au6TP2dPSbLAj5bMTE+MMU6vJqNmDx139k8J6VzPEONHz6B9f0935igPTBMJj56R3w8INhdu5e60j2wYzC8+kWyPZT3tDwEOLq8TrW2vDMg3z2+4xo96FxPvCgMBLx8T+c96I/wu7zHGj4wQeu7A+UqPchJtT20F8a9iimcPShAnz1Y5Yc9cPZGPZRbdrxE0zq9MLv5vPnKzz2SXia9r45dPQ73Yr2cZW4++IWyO3peKT3xKL09yyMCPWyBITwqJwU+2AXNvJMzZT0YSg28HJ4ovNEgsL0k/o48BicVPSizk7yKZcy8YpuKPLT7Vz28Spk7KBfBuzAGR7vAPsW7WpWKPZOnPz4gSj69eOGgPEAZ37rV2xM+zGxtvKLDLL28gEQ9ereCvfsY/z3glho6RHz9OyB5ID3AJUy7ZDQwPc7b57x8Ud47gAY/u04VITxW1pK8/C8LvjgwGD7RnKG9PDVxvF7BnbyTVQS9zk8Zve6/Bzx6xQs9mFoBvjomeD0Q1Tm7xCbivDjgNz2ktzA+gcGYvUpB2L0C3AE+8G0XPUBzL7w6rVk9vEIQvHTa7T3I4Ro7FtocPVn7lr3w4oe7+NcEvFhPCbxASiW8PgiXvEz1lj05m9M9YIV2vTRSC7yWZQk+ekeDPAvKkz2cmRK8LhOvvXAaNb6Oo9S9oPXcuwDdFj7QYFs8wAdMPUDksD3cd/876F7ruyCRKj3aNxC9qnAtPJTLcbyQ2xC8zz0rvlA1HL0p1x49TKMnPMDOYzx8Oag8nAMQvIg/wzybKjo9eO8GPSRBXbwQa1S9JA40vRmuHD5Yk8A94LSIPNB+Bj6tEcG9ZT9QPcjKAT0gZf27/HQDvJBbnrueDYw9M1/SPQFCcz4C+FM+BOijOwKPfz6wFQi+JFNUvIgBYz0oZBa+kL1kvdouI70F1K29ORlxPcSRGDxJOjg9nBEKvbDTUbvoE087gdHAPXME+z2RgIs87T+EPViRhz2EHZQ95NZWPFpqy7wq9ea9zYGKvWoyC70EdFy8+pUdvcBnvbvpfG49sKMOO1aWIj6JX4c9OMA8PBDIaz00Bd09/AjevC6miDzUBEq85JOcPc482D1/R2g8msulPRQ3Lr36oDc8e748PgsQ0D2F0oQ90DqBPRiQa73LHPI8Cp+PvADogDeT/049kPNqO2SfXDzZewk9KjwZPmCbP71cv0U9qVT+PZGZtzzMqGc9k3XyPBJYnj1Ec5M9RNGsO8Bs/juPh6Y9KuDEPAiQK7xA9pG8wEhxOixmw70QeWK8QBzevUiovzvEfy4+iKmjPSDFPrtwTVC9DsqJPYR4OjxN9Ws9FMwJvJRmGr1otc68HPHBvFRHDLyNjHw+J2GbvfORdT6At805iKUOO4oSRz0LD8o8ceAXPbLqcTzQvxc8sK03PTQY6T1RsoI9u8rPPR7+KzwWPFg8NOJYPuim3zt+ByK9ipw3PuK1aD06ldk9UOsIvVINqj3GjmY9/9iGvXIAST4Uuyc9SveTPcxfvbxUx8k8RAnWO6LsvT08PJ87CNBZPZesvz0eT2U9XBZFPbgDfzsSQyC998BtPKIkuj1UGMc7iFzTO9julLzYLkW8WAk8PUXW/zynGcA9cMk4uxix3TxaeqE8ir5iPW9QQz3MjDQ8aL3VvfRJtT0aKBg9IBCvOlBHSz3AK8866I5JPSu7Ij4rQgs+AEz8PZ5iYj1D9449YAQaPmw84TuuUKM9oOOkO2EjvzwD8ok+8j+YvKv0rr0Eqxm9Z4KBvQCbOrvQF6i73OiuPebP3L00Ovq84VezPUoKs7z4h5S8kNDyOyCejDoQRx8++c/EPdBANz36Y6M87ms6vcARv7tUQwC8WPGGu/Aitz1ALCG9creKPTNI4zznecc99IJlPXNYVT2rLBI90xqpPMH6KT3gNUY6OzOWPZ8ZIj5KcuI994MsPVUw6TyoY6493iJDPWZ+ZzyGy6k9/JWPO98u6TwROBk9uLrRu5qh27wMzAC8SOOAu4yNM7zAQ907HwINPbJ3ozwi+Bi9sFq2OsKVkbxYdqQ7gh4NvYa0TzyAM4S7mNsXO0SY0z38cC48dgn3vEypR7xk/jW8dA8VvJqtpbw6tvW8sRYDvVCw4ruoEP67r0fSPPT8Kbzg1IA9BJBXvQ==",
          "dtype": "f4"
         },
         "xaxis": "x",
         "yaxis": "y"
        },
        {
         "bingroup": "x",
         "hovertemplate": "variable=3<br>value=%{x}<br>count=%{y}<extra></extra>",
         "legendgroup": "3",
         "marker": {
          "color": "#ab63fa",
          "pattern": {
           "shape": ""
          }
         },
         "name": "3",
         "orientation": "v",
         "showlegend": true,
         "type": "histogram",
         "x": {
          "bdata": "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",
          "dtype": "f4"
         },
         "xaxis": "x",
         "yaxis": "y"
        },
        {
         "bingroup": "x",
         "hovertemplate": "variable=4<br>value=%{x}<br>count=%{y}<extra></extra>",
         "legendgroup": "4",
         "marker": {
          "color": "#FFA15A",
          "pattern": {
           "shape": ""
          }
         },
         "name": "4",
         "orientation": "v",
         "showlegend": true,
         "type": "histogram",
         "x": {
          "bdata": "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",
          "dtype": "f4"
         },
         "xaxis": "x",
         "yaxis": "y"
        },
        {
         "bingroup": "x",
         "hovertemplate": "variable=5<br>value=%{x}<br>count=%{y}<extra></extra>",
         "legendgroup": "5",
         "marker": {
          "color": "#19d3f3",
          "pattern": {
           "shape": ""
          }
         },
         "name": "5",
         "orientation": "v",
         "showlegend": true,
         "type": "histogram",
         "x": {
          "bdata": "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",
          "dtype": "f4"
         },
         "xaxis": "x",
         "yaxis": "y"
        },
        {
         "bingroup": "x",
         "hovertemplate": "variable=6<br>value=%{x}<br>count=%{y}<extra></extra>",
         "legendgroup": "6",
         "marker": {
          "color": "#FF6692",
          "pattern": {
           "shape": ""
          }
         },
         "name": "6",
         "orientation": "v",
         "showlegend": true,
         "type": "histogram",
         "x": {
          "bdata": "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",
          "dtype": "f4"
         },
         "xaxis": "x",
         "yaxis": "y"
        },
        {
         "bingroup": "x",
         "hovertemplate": "variable=7<br>value=%{x}<br>count=%{y}<extra></extra>",
         "legendgroup": "7",
         "marker": {
          "color": "#B6E880",
          "pattern": {
           "shape": ""
          }
         },
         "name": "7",
         "orientation": "v",
         "showlegend": true,
         "type": "histogram",
         "x": {
          "bdata": "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",
          "dtype": "f4"
         },
         "xaxis": "x",
         "yaxis": "y"
        },
        {
         "bingroup": "x",
         "hovertemplate": "variable=8<br>value=%{x}<br>count=%{y}<extra></extra>",
         "legendgroup": "8",
         "marker": {
          "color": "#FF97FF",
          "pattern": {
           "shape": ""
          }
         },
         "name": "8",
         "orientation": "v",
         "showlegend": true,
         "type": "histogram",
         "x": {
          "bdata": "IIEevQqidr1Ak/s5edPZPLRmSrv83cI+WKpUPE9dkTvyogG9VK6avcKJQD0AqYQ4XrQVPDRUFj5kNUu9CuvGPmwzoT0k6tA93xD5vGc17bwaGCo+LN6IPeBXTL0TVMi8GrFsPmD0vj3Uu7k8YZaKPfRhsj7pRBQ+marZO5IMBT/t8sG8z0YePTmTnT3GBH0+NzOVvBg+mTvuqH48Si1ZPQMkDD4vJL09pPDhPa9+rb0/jdY9kklFPdqkGj/kBTk8yoVuPbPdND8z9+09QrZBPd3xHDwGh3w9qpcvvNordj0aSg8+4xi5PRHsHTxHFuU8kq2zPYDVA7ue8Ic71KgKvcxeh73u3Bo9coZkPeLntz0J8eM8Hz/uvDNtmD27pw0+BkJjPPjyJrs5J9y9vDp6Pbn3tj1QPLg8dm+QPbyfJT5z3Qs+N+icPVYeIT15J6s9PEPYPDx9iDsorPu7LRjQOzxbQT0KkRw9enVpvNur2j0oMGa9Uu2SPUIdfT7tiw09EmpTPa8skT3Qkkk+qG7Du+ipDz2HOvK8nrd1PZSlNz3IJSw7IaboPAD+Az9U1Qk/oEp1vaOfIj2CSNw92hS4PYmxPT5zb+I8G6HsPCP4/7zLdMw9gqAxPGSrOj7sHPg9rIwAvQH5vT2WUCw9vjpIPWhFCD3EIaK8rDtTPX+tJz2Azyw9hIllPGy4Oj116aE9tTSDvSCwJ7ustgs+HemKPf972z1KiBA+ZLcLPvoWcj3Crl294/YYPrrtLz0IAYo9YZo0PF+rt7yFcO49ikA0vUpJZT2UcxE+fi9mvQfl/j3Uk8K9k5YUPeJMhz1ATTu9FIb9uzkXhb3Ejnc9V3j+vXrHBr7TP4a8lCDSPSYfGT4W93m8qp+JPYlWuDwff5I93tYGvYFfAT0yZY4963yfPRwOVb1I0Je79jM7PUp/O70aqB89RoaiPRZIpzyY/lk9qihKvMWQgD5h5dk8UZLDvbhRbz0QAyA+nB7wPVaDkDy7Fis8abGnPRe++TxiMCK9KpuxPTQuMz0ToqI8UgsRvm4svDy2Lhw99SqVPdbVCLzDQR4+wM0bPuqAAj5dULW8H4AqPOpDLT3is2E9EvSyPKwmUj0GgZA+AHBFPTaLCj1e6A69p/iaPIkN/z18aPE9vZP6vIuKAj7fD+s9TKMIO1KZQT7jPpU8dp/dPAdNVzxvHIw74HTdu+7pSzzCIrI94CX1OWKT5jtyyzM93s38PUnyWT5oPwy8gwQ+PiS+BjvUF0W9cMC9Ooqh0z20gXI9WrpkvAG4jLy+M0892JXruoztOz3SW4O+8hJiPWhMcj2HWLo9KG8bPhGhBj5Bjxk+Uj2evHx6uj0cXI89oBuTPLCgHT0TrwY+7kucPPzykjtGcgQ8tWSzO6DCoDxC9Ss9WYO5PSBvIT6zx/M9I/SQPahPPD2kHtm7e1PfvErRQT2+SzY+PZG3PKeHij6gkEW6VOJJvQbV3z6SIws9N6voPPCcGj9i7FM9REJcPaqV1j3zcTI+jWLIPWEnLT4i2IE7TuP2PMR9Bz0z8mM+CHc9PnHrHD5ybPk9T7CMO0t8tzzw+Ns83H0BPOCfzz1Z4uq84xUmvgqIlrwfFDc/JUisPmUphz3kddQ9SkCVPuy7mD0+BXy86KpaPuo4KL3SHh69kVOcvUNOnDwPxI49NNDpuz1Oy7yOHpI9WsyrPegeDT60RY29sPNkPFSaeT3XA6M9xwaZPVxFKTynL+28XbeNPWm0hz1em8g93aznPTF9pDuEvTo9S6MlPTDFUD2PY787+NZoPQHAmry2r+E+sHpePewyVz3kuTw9dGkHuz1iWjxb3xo8qArGPZ+XBT0UjEE9boFSvDDSi72cHCO9gzq9PYAbmLzCo3w9KL+APXk7gz6evnG8C3wPPlxSq7t0N+O9MJ1Eujdx2r0dKt29PLlKPbAsGzoiaFQ9hlQFPdi6Wz2D7oY8bjWEvHxuuT1q4KE9pLQ6PWCiFT1YDFU9PPlWvT94GD7Ekgk7nvskPa/47jyIEyu93jNIPYplPj1TTBg8pgkePLuO6TvlUXo8gbnFPZ6bNLzgDLI6Lip3vPzJEDvboaw9q8IgPSZYXLzCKQC9JoA2PX6iYT3QMk29xKJGPI4KPT1kf2y8yq4wPTWBnj6oFPC7sOe/O6OGpT6l17W89NYHPIaPfr14+hC9yFSvu0jvFLvMKDW8UUiBPIIQYj050gA++TfdvU4QED3i4f48U6HSO+AKPD4ArKe5kqPuPezPez360io8JraGPcrIpD1jIUM8aBqLPdy5VrshAFo+8BShPhRfSD3OFgW8IB2TOj77QT0oUO88IlhRPNRQJ72zsaU9qlAKvaTkHj1moz09HJSDPdQdn7tC7zY+gyXbPM34sbyfEXM+qOutPpr8Bj0pQZw9q0EOPN1v+rxoY26+0P4yPlq1DD63P28+fH8WPLqVT71gjcs5MK3sOrFgmj1dw8w7MkfDPSh4ST1H6h4+whlYPjzFf71etMk9b1aSPS+/mj02zMk8HM7YPNLpbzx7bQQ+lJVyvMuAjD1klH29/gg0vEgCuD0oLwI+5rxhPuD/Ij4gvZQ8yABbuxYddL3PKgM9y0mqPQV4Jz6hip07dl0JPbiRCT1wmJW91D1TvJgSRT4W91g+TPudPbSjfD0UmFw+/K2ePYgiFD/oBpy7Aaw8PqzOej0k4U499M18vQ3U5T2bLCc+8NEsPR4uYT2EMfE9Z8uyPNwF8zvAmww/gDLqurjEFT2LkLK8Fs8ePYDYO72NgLe8ULMnvdMuDD5S2TY9jrkgPupvHr34o1c+RAkJPTDZmD5zqAc+GGcwu/baTj0Moho+N7MLPrZ87T1fbb+8E4TlPeYpTD1QwHE9FlzKO3W+jz0Z2qI9jLdBPbq0xz14Ma87RoTjOwOnFz172AA+yBxEPfFrgj36aOg782vKvEl1uLzPoYA74T95vumYhz66mwi9HLkNP72fGT2M+QY9CPcsPUh9OTzYeFI9xmzjPvfyCT1sRFA9XI+3PebwFjw7qNc7xH4QvE/X3T70qzy76LY2vVo7AL0GGsc8GA9SPbJTtjy3WbY9TNWtPFpokT2PbD08IZPKO9+5rD36Njc9tEd4PAz2Ij6Kxm8+JFhEPRD7b7rxnPc9lIpFPYR4Eb2VmY89DFt8u02Y2jyAEhw966/kO3jLWDt+9YQ9CN/iPUt33r0nb4499+yAPdo5g7yIKEk9UnXHvbA9U7uSqAg9dHD7PZb6Rz38FlM961SWPJVoiz0sH6o8K2U/PjbOqz1woja8SQHTPYC/BT5Nj6q8JxCMvERRDb3jG8U+IsFxPQdo6D2GG5U9rjRRPcxomD2MN4E9vO8EOxT2dT1q8wk8WlYUvbi5SrxMbis9Zw6lPeSwCT0q2Tc9oIHUPIyIZT2I1sI9vMK+POFX5rytbPE9jkKTPNJNuT38Tqw8+Zw4PIr1CTxQ2yW7o0YjPdr/NT2F4ks+cbThPY60AT3Uskc9FqOvPLzcB73kTzo+iu1+PWwjNruOcZ48HpgdPV2Alj0hu689IppKPY2NeTzzxgC+DvIvvAsNvD15M/+9DsxFvR+s1T50jd07mpmbvDvCST4sUCY+69ievO+uuL36H9w+gsBPPfI+Uj3W3447XhFtPbTsGD2LkAs+OGd0PXfUFT6CR3W9RHJSvMxMMTvVkME9fCr+O8Dvzj20RkI9RNhZPSW/gj2rOc4+9tWrPBmRXb5jmYM9w8SVPAZGzDzwrxY9sqkDPSDvjb0wdzA9PmEVvZYKOz0iVT49hBJUPWFpiz3A36I9GoQnPYaMaT1oei293EY8vIk6hT7te4Y8ilsJvTFkpD1a4Ew9j4LyPfBasj0ciy89+KCWOrvm2bwk0Aa99SoBPJBlOD2sRqc7ftc8PSpkZj1Z+e88CtJQPbE3kD0KKRs9SwdkPHbGGrxhkpM8nni9PXlB5byspwq8DjPDO9UFEz2EWkW9PmHoPHA/Uz1rY6y8/nV6OyWcET6r/8K8n1v5PPIoZT3am1Y9C0WiPYbtOTwBSq09nbyDvUl+tj1MPgE+aiWxPKCYVT2Ty4s9YPxPPfm1Ez/YvFk9Irh+vdrdMD2kklE9Wb+GPQuSeD52lIW7kP9kPS5bVj32bHW8zLoQPe203T1Ycw09LDH8OzBf7ToOpKo9vDFWvdX4t7zYIui6+VYIPXBPej1P2lw8GwHhvIYqY7xnFxw9A9SFvNcFiT3n+a89MAypPGNNnD3OlyI+gnwPPp816T2poNA9rG5bPSpjyT3hP7c+h/HJPqf6gj7d0FE+imhqPeYPsT77d40+Gho+PrhMgT45mag+upW9Pn0apz2JeYE90PdDPgIETT12y1g908wKPvaaED47uSg+9UHTPrACsT7RR7U+hNhOPTjciz7LGpc9xMmWPq/BZD7ZjJ8+G2lrPjavZT0iKE8+dA8cPSQ+kD2w4O89v+uAPWSYiz3AVAk9ZFY0PkvImbzoQJc+TovuPTHQJT6r7bg9ewrZPUCM0D0yPl0+fvOHPnmDZz4I/FQ+IL6aPelveD4S+5E+iQUYPtVLxT3isUw9xAgVPQGZyz1MSEY9nNYWPUqhJz30tVs93QzQPeQTVj6y9EM9MjM4PX5dKT5iI0Q+RrugPcmQUT7vTyQ9jCYPPnD3dT0Oe2Q9efXMvOjSxDocYXA9MFKVPG8Voj128Es9KgRjPZjvQT3GFYQ9SjlfvDkP8j1vn5E8NoBRPXgYOj4R/7+8LQmIPUxA1TxxHN89MkVhPR+u7zzl9Ng8MmZjvBSDJrt0Ngg9oGAMvKp9Bb0IX7W7FLzyu8l3gLy+SF09BYwYPK85kzxoJo47igoKvPP0kzv8rXI7lsVhvainPzsQnRa6vJzwPEAqPT2HgrE8ZE2dPB63gzxH96C9+hcbPU4SIz2ayhg8c7YzPDyPZz3kdQo9D4etPcaKXz2Ef5W858f5vT1AmD2+zto7ctxZPTVUAz6GRR49EogCPW65qz0YzDo9LPQCPlCjl71Poai8Sb/vPTm21T0axUY9k/+HPcMU6bwvMdE9OOZoPW4mVz1C44g9ITxPPhdJVz4xn4g9fpczPcLIBrzxWIs9/XH7PIGhdT5mMoA+9th9PDQcXj1p6K89hx+aPeh1Ej4u3hg+1FrfPcDihT4TDoQ+aMZtPWNcFD5d5qy8cCqtPrWYPT6LMJE+tjp0PYPzCDxT8h4/Ky8BP+YyE73Lw+I9CwoBPrI1Aj6B+Y0+Ko9PPq6rdL1sFtY8wZ2UPeLbQL0kHry9DS2GO5+vYj7kYGg+fIk3O2R3MTvYhfw9YoEyPfNGIzxQ3Yk9/PaBPVjjsD3WH2c9//ctPv5GSjx/Vb89MxkhPnySdz2TUFE8KfYqvpdL2ztROwq+UOU4PdGBiD6ATXE+xH5UPIl4NDyCYcU+cnVGPQPS+zzYwnM9gKcyPThuiT7h3nA+ezaPPV4f+D1dIpY90Z0sPgoFST2wB7k9m+MjPtEXLj48TIE9aM3FOriGhDo2HQU+IRXdvLCjJT5X8Jg+Sa8uPiRPOj17+LI+BkcrPhNEiz3bid0+P2ptPnWCyD2Ul9u7GUYPPqRvGj5CdUo+bh/yPXd/uD1kJYY9kJRNPojotT3Ssh89v9WiPYs0ET9LA6A9Xrobvn94Zz7EDjy+rqPCPhCiLr1iSQM/rO0RPo3i9D6v+8M+zijwPg32hT40we4+yFYAP3h+b77QmTI+kuLYPmMZJD8BXuQ+pBiqvRzyCT4eC+s++H3zPll7tj6RrkY+7hwAPxbo/T4Yw/s9XPRVPiP/uz6FpFM+3cfMPuZUAT+2xlc+XCm7PqYAOT4gLso+nx/6PlHXYD4achQ+1fiLPoziyT1asHO+55rmPb0Oyj71TCU+U6RZPvY17T74K5U+zV6RPoaq2z5bCq0+0Vi4PuRyYD7odQw/CDiWPt7H3D7ZU4a9c6JcPltkIT5LMck+abq6Ppu9wD7wuRU+8tvWPsbovD72hC0+ECF9PkMCCT/Tutk+cGaxPcNpUT4kOkC+sdDWPVvMuD6/a1Q+DkTVPg7ENL5WqNY+OSXRPbH/VD4cQzc+ZWCxPhO3kD6CMJc9xE+yPutxrT7eVSo+K5DZvJf9vj6ZcDQ+tIY7Psrnrzzjjjq+U/mePvwGnD5DzuM9vz2cPXqVar2oX2Q+Rba3Ptin8j3YzbW9f1YKPmtI0z4Jur0+7zoxPp/UxD3kzZs9B4SQPawnFLyiynU9KsmKPNYVNz25sYQ9JEk5PbLbWj3n/8+9dbo3PkbqUrzXCsO8bRH/vNHaqbzz88G8+CYZPOyRabzQBBU9nKc0u9piJD0XkaM9qvt6Prz+Rr0bj4K8paOkvNU3Ez7Asxw+TXTmPZppCj0awjE9ou5NPmzHhD7CByE+FFQgPbDHSzvXryM+8H8ePTnmTj5K+B4+p8CcPWAhtTzO7CQ+HisRPS0ZJr4WSYw+U2rLPm5QAL3gi3Q9eDRRPvSqETwqfPQ9vM0PPqFhoT1c4h27SOZcPRIR2r28ZL29Cae6vejfhb2VOhK+rBO+vbt0773Yk1m9LG1VvRqxHL1xjno8g1asvDygSb29C928gzMmPWTFib1Zy7A+mppbvUJsZ72oOKW7gv1qvTrxoT2dhAs+FFSDPtbPdD3EPX+92EoDPhM/lzws6H896QikPTcOiD0qcmA8N9/sPdJDM70REII+uBAqvGaCTjzQpQQ+5rHxPYizxj06DdQ9P7WrPXI7Qz3cgnk9wV8ZPpU5oD0u50i8eqIDPoHAtjzgCcm53wHEvNCeXr3burg8IWHGvBLIoLwMXIU7OssMPc6aeD2v6oy91GNmu0h58DrOw1o9zm+oPT6iVD0vq7m8sAQkPgkftz3vuSw+ZTK0PSA+sjke77w96Dg0PccP0bwRJ7s7QH9mPeRDhj3IGYg6LL35u1j9VzwUMkw+r7ndPQPsvj7gkEU62NwePbRXIz3cRHE9GKfNPAgMAry8BCk9Rz6vPdQaNT18oWi9eRDkPTbHiT05yIU9XIu+Pc5HCb3yqJg9WGjmPP3p2DsLmDg8YjQbPfQ4Fb1qN1s9R3z/vLM5oD36E369R3iPPoKbwTwQbdE9yIYjvNIXvT0ArXY9zVu1PR7ZDT7+uIw9qvDLO7lssT24vJy9hKq+PQbHYr2HG+k7UChtPUSS6TxaFCk9B+fhvIBLIzpUq0e+FAFcPahLWj0kf0680omJPW67hj2I8M892cSpPfBhibuT8pA9VHFZPDhvjz3GQZg9QK7avfcY1T25ssA9xReWPJTlXjt6KmM8gHXBOSMftb3a8e49oLJTPci5W73MbG69d+ykPbo1fj3QkY46nA3uuxMCij1qLnE8bioSPXQQaz0bR+U9vTzKvdTxQj2yel09yTk9vpDgLLuUNPs7KO3zuxeL+r3CW0s9CNjJOlSROr4qq6C8rDkiPoYrmr3DEL69uK/6OkfaGDzf3Ug+tIRXvD/LgT1eBjm9N1rSvP7/Yb0Hu4Q9zOFxPIAggzgipGC9cKVVvOihorsIE1u9ZeK/vdLDPj31Dp89/sjEPYhynjzsyW498CMzPVuj17ww3H+9a1IXP5UC9z2lQoE9NDBEPTRfND1Tjqu8dAk5PTGKrD40gk+8+GDyPZbufzwReGE+imr0O7TCED4pJ2w+amcKPb7xLj4gQ4O7LfTtPYDDHj3bBzE+Kk8TvUzSNT7X1MS8jNP6u/F34j3UA5s9tnBzPaRYOz2A7QQ9kU6uPssk5jya3pO845HXPaSYXT1YsU+8Zk9pPR6C8D2M9Cm8eicFPY4iKj4st0o9gOLBuB+p5jw2Ndc8dLL7PChW0D16ow4+tZ3+PUuwfz5US0U+SFg3PS2dDL7SVnU93X/nPQFRrryfFJk90lNvvd13vT78aNI91C1lPdhOFj2w5Qk9VmcbvR2ITDxxdss7cSj8vSLIfz6SEN89pva9PQtswD061iA9mEoBPr7c5D3GXwK9dMkAvBQA8j75Gc680mmhPcSaM7xmCgM95vQWvXOq6Tz2A68+6dGRvdkVor3OmY49bLhlPTp8fr2KL/w8NqSSPdf1mT4w2js+TTLBvL6vsT6/u649OlsGPoK7pD3wJgS92DgYPWrlFr0QAo27nNcDPqDk8z41NgA+95q1vK+Y67yCkMA8dncLPtYCjj2hw+O80KQnPo8OHT7UDUu8YgmUvYGugDzqOlm9OhpfPaibP7x4Z+y6miRRPXTydbxxBIa96ZkLPQZbij3b7GI+A0lNPggo9j16ylc9iOIyvYBtAj1tmaQ9/lt2PbiuMj5Eoa+7OJiRPvYmJb0KFqg8FRfDPeyhHjxwdvU9+5aVPtKx5j3gMio9AGyfuUrdZj3Qnmc9YjISPeVL+jxpSQk90R2hvD+c2z1rxt88e/2wvIWC5D1ByoE9zeTvvRrlsj2niam88NyePlWYjLy3xIg94r6hO5ZO6juCR/I9jJt2PSQLKD4gzYU+S7oBPlwPobsm+k89FJSuuwRFcDzjf7a8SKljPdoUAD3mJT69xOyNPdTgfT6qemE9FdSHvXzXzbvAdFK9YGFqPVyUHb3ccCW9iVi6vAZfWz3Ea6Y9R3OMPYRe6D1IQB49n7+GPXCpEr4FQrO86MHuu3tmtj27cA4+zvqau3gz0b2o36I9NHRjPhml3z30TKK76uKOvHPRoDzib4Q+VOjoPCcRyz1Tspc9bAWSPd1K+LyQB3C6XpuKPc1e9z2aFkY9JPNYPezaEz7l/YQ96H5qPRYPYT1RCAY+AqRCPXqFEjymRAI9FDPDvQlIlz19qaO8TnVDPmS4Fj43Zuc9jsvXPVSvKr55WKa9NECnPNxsLr3wrMw+fMCNPfNylDyG5gS9JNlePRCIQD25r48+9kVvPYqOPD7Yz149xiKEPj6aZT3xVR4+I363PYwhOj6ZlyA+UbfgPciXtj4f1Yw+2SUnPhaFAj6VGqA+PKeXPVrAXD66OOU+TFY0PpxusT1Fdag9tXuCPs3c1D4235I9kcmePkyKzD7RpZs+k8dkPuSkjD6ZGy0+RzYzPgp50z1Cg6A+NL+yPpbvGz5BzVg+lK9HPuXTwz2PuwU+hMC4u54pJT6Z5Pq8eGEHvSbeFb3xBP68ec7+vIRUJb2c6ga97DcnvSDrAL1NgOG8wv4LvTiBC73ubhm9HaUGPgma87zHZPK8Gw/DvLfu/LwMhbW7ACRNvMuW/7w83Ju8FUy+vELPnbwrqr+8unUxPd96+7ydfPq8772JPsSLDb2ApYA7L5X9vdLd2r24GbG9EoC5vYxKBb0WEpa957bFvdoW0TzBH6M9hE9GvS4piD5+EAO+XrTZvQDNz706WpU7XcjJvAjmAL18Yio7TnhRPbfu8z5XgGA+tf7Avb0+cD78kO89M1GaPfl8wT0RQcG8en+KvJJWAj/q00o9aSWpvFAvQrq7sN872V/+vYDaMbzi1Ri88ol+Owf2vLwIke+7mEXJu5JkLb2AulC6adeZOzx+I7yIlNi7yQSNvVZzc7xyjI88lMErPNg9ZLxUdOm7ALu2uYFe8LwEvma9TzmDvK4UuTtIP0A8VyWsO2qGnjvkLpC8tQcWPlzpkD3kJFM9/44ePlitET5m86o+BHZ1PlIqEz65Du498akMPilMDz6eQdQ8yCqcPXGLsD2FPQY+6oWTPkyj5zyxxhs90vpEPfQK4zy44F88YtkPvGEeDT0PNxg8/L6SPI118bzPGew8YDZGO3y8LzsE8bg8BPQRvBj4NbzsFb48HkyQvSzbJrzs6QE9baLTPS4abrzPtwA9aDmmuwDPZDwYXSg98AzIOuCImD00Kya+ssJ3PY2d3bxrbu09m5vtPS7+pT1m7AI9t5UjPgvDq7yCrt89ksQqvtZKAb3HRy8+y8hjPn3eh71akX885NtJvFH787wOoXE8RkqvPGx+Nzz+4Qa8mkc1PZzzQz1NPSU+W1U/PhDlkT7NGv689LxuvcT3rbvW9H+8pCRQPXwvRD5Uwtk9y3KwvV0sizwoOps6nluwvZSSVz0b8r88G2jKPMpCmLsVOsi80j4IvRJ5hj3gZpA6YFBiu3vD9Lyu8HY8ZRqsPTgUSD30JlY9NtnKPMY8Aj7eoE8+Oy+EvaUwqLyTA7y8Fg9pvJSIBz6rOhU+CHsiviA0cTyw8XS8QB4hvCSQjj2gvOM8HqiFPTusBj7EZnM9uSubPlLikT30PVA+TDiXPdgm0z0h7gs+M/VgPpeUMz7stCY+hAjjPdPguj4fJxQ+mZ3NPDr4mT1VBvU8cpprPUR2fT2YXRy+wvsGP/Q9BTvwxg+98OJLPbMrlD2AGJ09Y6/qPdjDtj37SJw+jDV6PgnhGD56Q589qz5kPn2tgD03EYI+VERDPet/Dj5Daeg9oVssPg5kLD0Ddws+iocmPYtboj3dNII9qAi2Pa0Qaz7d/WU+/+7iPPgiMz2DpQA+yqcMPiIzlz0w8jw9mBIJPEljgLweLSA+6DdEu0ooGT2Sqx08A2cXPfDLCj505rY84HpMPUtkhjswqBM75HDCuyDKRb2sIYc8IoklvCz/Rb0U2E+81ognPbzKOb0AsG48jVC8vCDrtTxZhZQ9GBKUPmLZrjz7KP09vyDCPcrPob3+LZO91AC9PZZyhj7dq7u83qYoPrbsmj2ETGk99JeSPQMRDz4H40g+RYC5vHjIo71Sk44+lUZ5Pv94qT30apI+2KnVOoCB+jxIu2q80rGdPZnIvLwdYYG9UNlWvMTCCz4qFIE8frDLPQvJDj7n7o8+kF40PnisOTt1hu+8AAmQPZ3jA778Zh8+wtSxPgrfeT0b/e28So+Au/jdLjyVw3I+LALxPV/nTj5tcM29ADuFPVCgwD4LlaC804iovPzNOb3ZlyA/eAMPPhuwhz0k9bM8ToqAPsbUJb0g4w69EPWJPkwhhj1sfSu9sM1vOqSMHD10gEc9QhofPhM9Cj69CZE9FDaZPUasnj0wKRw+Kd8fPtVgHzwUtDE+O/T/PXFwsb3AS9w5KrZTvXw5Uj227Ic+fTcuPvI+Aj7TWpA+QvhTPSRV7zx8kRS9A7vPvB79OL2yRmM7OiplvQhgL72867s85D5aPI9M0jzEOxC9JpdevbBvGr2pzZC8jH1JvT7FhL1cJR69GCASvdZIAb1Gxge9U3XnvAJXDL02BZ48WGr1O9SmzbvGdF49pXGDPZltFjwW5xE+GUu7PrzG5LveV869cdrDvNvOPj5xLds9aOmjPamZpD1jgbu80d1JPKfRgD4xpqq9Im9QvWO9ob0iuES9eLDHva8Cjr3PAMi8tpOSvdxJjr0sKHi9tTnJvOzKuDzomQK+U4wGPJR7A73ViBY9ggFYPZAUZT1QHK+96ulQvXXc/LzRAdu8gPEhOoCoID4YIiw9RKgGPmavO724DHm9SBEfuxh+obxrcpg8+2KiPXLOoD0PjL899kePPb1t1z2XrpA+EnzXPYc/nD1S6So+5yOuPeI6Ez5rQKQ71NEHPd60YLwSXcG91HA8vSvejL385A+9Sjt9vHh70TyuLk89wt89PdSlRb1AZgS9yGlYvL9EvT0s0Jy8HWT5vIKiBr0Gohg9gW+zvAkxxbzegy89xQ2SPt45G7wGfqs8w6OsvWgIOL0gXeE6rhqbvATtMD4x1rg9bO5nveaSFb2kXT47uCmhPbtnnz0cs/o90HELvHvbJzwW2FW8TUlXPkweej2VGMO8Q1TRPM4lwD0tQsM9VLSjPZwvOLyCV5Q8+HoDvZ5wpT1uVW48FIWDPg6rlj4sJIs9ut8jPVeGsz2szwA9FD0uPe6nBDxkKq67VoBEPknFnT3Em9o7SyLkvJVu/rzqgRi9xKnqu2gMdj1OcDA9dH5UvSLuCb36izG9N8rWvHsM670pibS8UMCyvXJiK779gh++aVSlPfpep72bYa69Un13vW6ceb2fBeO8y/WHvZpERr0D74G9Fmh1PQDh1ruUZMM8jdUCP0JFkD2qiVc9IsosPUUjvzwF2cu8A32VvSnWuD13MRE+bCs7Oy5V8j1QUmi8DnINvSnX7T1AtH26xOGWuzFUxj24sm09TDMPPSz3pT3iC7E9JOfnu1TKJ7zXaei8kDAuPcIiYT1RAH6+E5ACPJ4bU7wMOek9Vsh+PaL2Rj2lUgU/MoSJPujWVbt075O8NdexPcVeFT6N/yE9nkLqO5J+0zwQwGY97JhxPQQ8vD4Qbzo+2/SlvNY2MT2d4Sk+LrlQvfja17rC+nW9YxGXvAPMAD6xidU9NX3dPeEjND7UvMk9275bPmY0SL2Syle9yXyfvY5fRL1lMyO+iaDAPRpxDT5ho+I9ego+PWqfMT5UPzu9eIFYPfS8Zz0udVS+SIi7PIhNiT1jrIg9soACvRJRUb3OizS9YbPRvBsMjbweGQa92Nw9PUGvLb6Yg9+9LsyAvZiaoL0jR/89Th56vLpoN7x5kWc+WZyVPFHV0rzKtpo8fGuaPbLjfzxTWQM+4OMLvfYzNL3YcEw9vckAPZz59DwA1m29rU0Evi0Bib1BWzk+IBVavdCgGb2gDgy9Wp5zvaj9mT1NG2M+sSGpPB0z0b1Z4Ig9XfaAPdZnMT0/aJQ77bboPfJQQT2fAyA9D5gOPQb/ID52MXC9Yr1MPUz6tj5amGS8Z96APZwa3jwNiKY9GvwdPungBj/3rIc9kweKvAvjuT0Hm909LyrZPbBwIL1Zsuc9UPCDvYuWqD2Fl7w994uLPTaeHL0LbII+blGNPbj8Cr3cMDY99+oMPkrWEb0HHcg86jlkPcYLFr4eaUy9bLIZPWSyXL2EVw69JKIzPUcrpr26f2m93uMpvO3hRD77OwE/m5GfPRYL7D5Bi3w+5wqXPs75gz50lTI+CuwuvNZLFj71Ip+9KbSjPZrRmbz4KVk9IaJcPjrsZbyYvxW7pNRsPcXDgz03YoA+xrBOPfBiBD0E/Ge9L7WnPXl52j1QJ3O8zOgOPEXmkzww5xy8PK/Lu/S9pLwK2RY+vN8zPeJ2Dz2uA8I9iwpGPuXWBj8jOr+8ueW/PQXnzj1RkrM9rpQ6PWPv5TzixtU9AHjDPNJ9xDwTvyE8ws2FPfbNfz0N8a49lFEpPVOwv7yg6fM7UEB5PdSbbz1XbzQ8UDfrPZbKGj4wQyM+I07CPbPEsDuh8NO8wJd3PnL1BbxPwOi8aDfVPTL9BL1yzB+9wqZ3vGEwkT2c+Ba7eyCGPFjU77uVvJ68HrttPEI70T3SxAW8TbosPCmJbD4EbVM7zxalvNSqf72lqbG9sElTvNeymz4A3zw7uqadPdCjSTtOV3a9yodEvepuEL1SGgK9/7TJPtIxdz1elju90bHTPcbCcD2jQMi9gKsuvfNmzry6NAg997efPaKLjzueWXQ95TaqO67/Sb0KjLk91g5LPe6Y0j2EJjG9Vyw0Pohj3T1JS0Q+HNX8PTwOkzyBHrY9ZAa0PUS+JD2ThMY9pM3EvacGkD4tAo09KVyEvLL3Bb0TqwI8enaVPX5uET/I9So+ANIfvSDCMbxIxkk9vP7qPYFzKTzSX289X2IQPnQ4hb1Bf/y8zqOEPR+0iz0gy6Q+8RQVPpyjkT20yQc9SmYsPSxjCDwMGG097ucavRbvQb11aL+8zIPHuyEarDswwBI++qKUPRCYOLoaOQq9EPKQOjCdrzvou5w++nZhPbD8pTxymiM9arVZPawFoj2Eu2w9ni1WOypHBj34OoO64NLtuvRsNLwKo4O860mmPchmtz4TFhM87BVwvAwXXj7CEUQ9oxCsPUb6oD7fmdu8NtkavRhguD2sdm6+NpVpPitQgD6dtQc+E9YQPvnu1z4eDag+eIvOPPlbOT673kg+QoQMPXRnPD5gSDw9yFv0PXTe1z0E3DA+ZW+VPltHhT2JsxA+br1aPhFSCj5L6xE+0fgSPkmbjT5+yS494GmFOgDm9D0cQq0+3PkCPdK8oT2aJX09gEV5vGaoATzfxcW87sHOPj95nD5dDe68LC41Pa5UQD+GoVA982vkO+wZLz0gmLQ9AuU0Pe0YlL1+8bM+PcETPjuDJz4+Hbo9sPAnPnaq6j20BP099H2HPpBvkb056h09GewWPsoOCT0AGzu8YI4YumJDJj2gYDg7tSttPiBtKD0TM0G+KISnvTs/BD7SMvQ9gcuXvVoFRr0+PHW9Ro5Cvcj6fL2y8409kEwyvci6Mz1cC8c+wMg9PUJMSz3QXLU+OKSPuqImuj0G0+g9tP0yvEOBtjzKGM4+lbkFPpaQIz6kuHc9cRt6PppfZD3IOS28SQU2PBZcFD5Iehe7qN0BvVLRmD06a2Y+psx5Psiu/DxIXmY+rSCmvBKluDzLA+28JlVhPV5zbztTOu8+72KcvIbf370euqa9QL4BPeSlZz5yfXE9G7+pPpRhrz530mM+Mc/ZvO3fz7yna9a8dGeKvGsAPz52PYQ9CHg1PaOL5j3uqqW8UhpxPWpHxDymEiE9Fg86PtNdtDzmH4+8DZBoPsit4jweW949/N5lvNYo4z1YpG09EyCDPk2R4jxwSCu8fYAVPhzpJT7TEqs+B3+UPdi2X72lvhY+KEVwPcKTnz1/5HU++r1lPkCqeD3Mowk+XNvsPYAxhz246ps+TLyRvVHyXj4rxhc91e/avHC1WD4L0p8+BrWEPoArmD4Jsb89cAgzPqkBwz12p3U+AspVPTSuxT2I0pw+/uNjPedOXT6Np+49teHuPfJ8Rz3UemQ+HHxiPncyoz2NE/q9fyaQPsyGbTxAWR89zGMRPthtUT3FTay9LCB4vX+Glz3pIKY95fa2PTCg9z1o+hC7cME2Pld6HT2wcDs9AQ32PQawQj2iuWY9+TMyPqwjDz1pVqo9rKZUPdTAUj5gFDU+3aIbPgAbCT1oMss8DlBDPQTTOj2GOa09YlWrPdyrsbsR9Mc96B4IvdK27T52bWo+7iVyvQZHWj5usHg+0FICvq79ej0A0cW9+mY0vPcNmz4iQjA9Bsa4PrnwkD0OaGU8FfqXPUCGaDzR9I+8QGkXPtFcTj4cWIc+DK7lPcadPz0CuyM9T9YPPvLtnb2A/EQ+UsmHuzQ9Uj4ZOcQ9ED/duzZWej5GmQc+EnxtPbW+Aj4Jo+s9t3MlPUB4pb23/zs+NGxvPWj6xT4Y/SG9XR3LPmw3RD1hCpw+T6lZPu+8jT28mzA+odeAPqpYvT1hHwk8wkLrPROZz7zHHg4+wnCgPfL+RD6AZSC76BgHPhDq0TwlqpA9gqClPT6rkj0anMM9aktuPQ4Kuz1xnDo+BGXFu1l5jT7CaMA9hiJ5PboyDj1MPho8fMLbPDpFsT1sGTU9g7HivAqkmD3kzN49UCKPPvox/juE9LC7Wg0tPd3ypz3FceQ9cepwPvGO0LyhkMC8kIk8PQCwjL0E8B68QKd0u1QGJr0pggQ+0GaEPYhK9z2gJGA9yxu2vMwUwT6E6iQ+FYtEPh+t1bys9ci7jDY4PDm0Xz5/Ir09zEsevWLLXD38xas+DrWPPFeEvj1NuYc9eNtBPWykmz1OEkk9WtSjvN0uEzzuNqc9Gm8dPsdisz0PJNI9mhYWPmV7KjyfjQu+2fnnvHQnlT2lm+49BiZJPotkLD6TfZ8+rnUyPc7GQz0mWFg+DjoCPhwLGbzYbj29LQWXPgAUd72oMmY9bJKWPZA9sbpD98Y90vMPPQBefbodtoi86abNPS2mTj5HkuM9aVgQPvZqFzyKnHE9OjevPlxWZryDftk9DTevPvRmrrs/gsg9R1GsPtApI7qAugm6jF9+Ozl9ID4QF2U9OXErPgRjvTyYaQO+3MWkPaCXqT33yRg+Aa8+PtlDVD7V0b89DVkFPwRgSj6aKaE+Dd+pPt6YTj0AyOI9/QQNPSHQhj7yuoQ9plNBPW1gg71zLmM+7ZzGPcl6vT6Ahl85cPmjPjbDkjvsivq7jtcFvY1PorxSCAq8jtM4PNReyLtSAoa7rfmiPEExkT3OOxo9EwYBPfbEhjyARjI5LBAAvewXXT32Wyu9/7AgPSRhJT66aL49qCvUPRKbSL2pbbc97B59PdYsWT1ukss9gsqcPJqixz1Q5Bs9+V40Ptaxhj4SRGQ90Uv9PMD8Uz6n5449cLp+Pc5YuD0Opoo7Y045PimKsT2GpZy8K9i5vP2w/bzrfsO8RkfyPkqitDzBXfS8DySMvbhoJL2iDTO9lmC3vfLiSryH1rS8d2OivVDakT38/Gc9aeEJPkkrSD5N2yQ9bhgFPSReLj4XLYG9bnODuxzxE7xMXtg9ynKRPULFZT2KUQg+3C6XPscH7LzpZbm9F1O+PJBWHDoKWKQ+wwvxPpfAmz6Glzc+8tWrPgpjiT2ux2I94djYvUufkD4um6E+E9dfPOQFej3uUoq9qoHvPKRxZD4gztC5jqo1vaJSS7yTCP89BCJavPqaOb1ADxW5ciZtvPLbJD3iwD0+Ys5CPUoeXj07g8k8YtizPn93lj4ulhY9KtgXPW41YD3AnP89FnXjPhfGgT4SsZk9XS5PPmtQzz4UIYw9pg+uvbgioLzunak8mPuyurDS+z2mwUc9alWBPV4Miz3QP4W9uaaYvPjMbz7ww6s6wENoPa6EL70DLJg9r3tEvoxjVj1b/cM9J2T/PeGY3j1dav8858FOPljpGD05Z6g8IMC6PQyDwD0GtVW92gArPpTqIj2LbRM+KPdWPiB6TD4VAao9Ok1yPSPAyT3QyN0+KsYSPnA1ErtWWuo8S/qRvUpNgj7jxo89X2EsPpIYojz+2ii95fT3vKBqmjzn9eg9ylY+PWwFuj22QXo9OLP1PSpjbr0/XZi9/J50va9cj72k/A2817K8Pvb2aT1Dpbk9tz+VPLSekjzSybs8bFt0Pf/ovT3x4aE83qGMvFqz7Dya9c29aF9VPK+Qv7xEEGQ73Mygu9hfej1ulTw9X+PDvKdW0LybuYA9svkdPRWvmz1sY1Q9lSjTPTqRG70D0XA8YppdOy3mTj4Ahk88RP5bvfiKuTqlANa8lKFnPSsGn7x2RBg+sHN9PepNEj0EHc+9J3GPvZR2fj2i6089f36vPY7nOD32PWw+Z6L9PRZjW7wVdsA+TRy7vYptxD22pIU9WNOYvXzTeb0a39I9sKfAPSBC/Tyi9pY9WETmPZvwjLyKD4e8nvl9PSTryLtN7cY9kjKcPkNoIz7kDXo8NF3QPIIzf7xsv6S8pgEMvOBpMbyI6YG8Df7EvKCH57sV59O88CKvPXgxz7sQIIc9MIBbPrA1ADqAZPM4eOvWuxn1Gz1U5A8+zPdVPkgNJD6TkSo+ut+kPUbW6D48PSY+Tg3nPrtMkz3kTz4+AO+IPSTDdLzCOAi9sVT0vKuPvbxkO3W8CsABvY+0nbzB7YK8wPwCuSU2wbyafLG9BhjQvUyhc70s8VM9QwHMva9K1L0LOQy+acTvvUdDtLwCWp0+oIFJPR3JrbyphMG8FoI5vcQQbz16sxU9Q0OhPdoiejzohxI7AKfUu6Iqe723LIM930ntPWy1Cz3eB088D8YNPtPNNT7aJo09x5B7PgAzMT4vA50+4M/aPRYb4j6eZac9Ula0PZQdPD4al2k+MvLmPqfQwD61KKM9rWsuPtJtQz0rCQm+V7qrPizyLz4Qlhy8mhwevfuaw722hcA9HC0/Pigtqz1AZ/A8pTLMvJ0npL0SJo28ClhtvUmjKj3wdGw9rErCPIDO6jshweA8wFWYPevOhr3U/y69hj54PcbBOL3KLAG9L+n7vHr/IT4rQtS9NX/zvQQsrTtwicm6jx1YPFdPzzserlM9mvlwvQi0Bz3UERo87BqoPsQ0zru4/xW9BpEvPfwH0T0phUE+gHCJPqIIVT3AH2c6UItbPcD9Ub70adA9AvGqPcASPz3/WaC8oS+2PMTkVbybt7U+Q8C+vZ7njDvsg7w8JACEOweYlL3EuvM98OV7PUyK9DwhPpA+SCfTPXd4Mj5byZA+6agCPvTWTD1nR24+sKeEukSxKb1ye0c+VXmtPbzJ/DvYmn28OajFvfE4rr2oop08Ao6jPaPR2D3QTYi7C9rmPF+48TuvwIQ+pskEvd6FEL1XUqS8sMiAvIPDxbzPmEQ8ykw6PSrJ/z1ki8c8gmUgPWRpnzxW+Qs+btvTPX3sAz6aNE89W7CKPfco8T3o1wG9XPk5PXizaD1jGJY9A+yVvMD+aj3RlRA+zBaXvatCJT0+QTM9ThOSu4EK1rxq83I9uXKDPlhEND53dKM94OogPQ9/tz07uxc9rFV/vYro2zzwq1q9LuccPuMNtD0AwFW5wsBkPYcZzrw0Bg49jveZPZxyhj38m2m9lHkWPQnXxD1vq5E9FlARvWgcZD4IuJg+LlZMvJV6sz2Ytl49Fn26POFlnj0lN+Q9ICwqvJAxOD5tLue84JKfPK2dgT4wgQI+0Es4ux7QXT3EWUM9tlGlPffLlD2OjWQ9z/7JvOLVCr0ub7k9FN5cOwCYdjl5bem8bTMCPOSwzj3OEre9Vew1vtaDbzx+iyY+hvA9ve0q37wrC/89ELsbvZqiQr2UZnI9OvqnvUQiMLzPtP68yxu9vBcHxbxH/p68y4fMPd+7iTyA5vC7IJ2HvB6vHz4XCeW8vzcDP/Zvnj6GVCk+i/kmPkRaCT0gcB49pvgOvApWRb1RCr+8HCu7uzICrr1/V9E9/lQTvXrKKL0SgAg9Nsk9PcRc/D2/pR4+oks9PhXQ97xw1L48Xl6QPT69gbwY8Os6co8BvcgrrLvUFjQ7um+qPMA6Yr004h27V034vIMcGT0UnQi+5AxSPU2RZz5EzVC96KtAPmHjvr1ad6s841r9vFIvgT5AA8E5OLF+vLUbHz5Qpac+Rmh0Po295D5FeJO9qqGVuw+Jir0ln/Q9DGE2vXSaLj6Ck4s87ic2vc4Ij70KboU+ZRByPok4RD7xZqu80MMLP58VCD1IY+k9EOIqvWLLCDzLSE8+crRcvE4FBz4rGg0+qkVVPrtdhT7f9JM7+8WuPW5yXbwL4Jo9ZVKQPsC+fz0IRiE+wf/9vILOSj0wlos9CF5SPi0O2T5Wa8c9G+EEPkgEjT7Wybc9HaR7PKBo/bnMcIU9MFXEPez8gD7Xzty82R6YPX1BxT3WeUM+hUSoPQiKOT1jSr+8Drl5vWUwgbyUJD88ucRbPupDTj7un3E9UanhPTTLuTxDdOc899/9PUDegT0Oons8CiyXPCf30jsU+wi8ebyvPUDLYznSYU89lyomPo7kAjzQt0a7pJSbPOg9grrtLiE+8AQQPup7d72oMVu9ORSsPUxcizxcLwE8thwRPVSSnrsjpqW9laqHPoS4o7txxwo+R0TOPX5X3j26Zyy86pqHuwkyyD0+FaQ+x4X7vPqjQT5PPLS8/LB+PVqldDx3PB0+FcKhPdACdT2sBRy7fHGxPYitYD5gNRu71a+yPZeSpL3WEpI9eDSeu8J7ML34Uhe9/kM/PaQnvLvCuIS9JtM7PAintTvKxRY8wy68vDC8bb1jNuu8/l+cPQDCMroht7S8HcXCvF1NUTxqSYi83CVfvWt27bxkN3k+MUyAPcKKjT3lt8M8lY69vFpYjD3kFAU+mArau9fWxzsDRDw8SqD+O5yOrT2cNSy8LhUevYhI1j00kHw88MyKvCcc9D15wY89boT0PdSHtTzoHoc61jgOPY55Oz55MQA+XsiSPXzbpj0Qk586KvwpPveBBD78DI48XsSbPUiB1bqN74s90e2VPdKZFj13Y/I9ShCRPlpsdD3ApXa9TNxdPlmIQT7dRoq9eWgRPVM4mD24Iq89XmuOvGDwcD04OoO9SpNtvCI0Kr2gmCw96LdQvSQq+7vIhR09JO0yPap+Yb3m/Do9jh/GPQdkdD4QCKM+oPmyPbnciL2Laeu8cUvPvAmWFz5aHyw+vso7PmZ0vjseWsI9pAvsu8WJl7yCqF4+fPglvdqhTz61Tj0/WTGcPGtOJzwb5ae8uMMCPNYfEr2ze/y8XcbUPQNZ3j7aimc9GnBbPQnwsLwwKnQ+EmYLvaC8c7zAHC899474PZrTMz2wGUg9PWj4PPl3qLzofN673dITPIW76Ly8b1s+QKrmPSCCSz2cFgq9QP7Au9BdnT2iEpk9az76ProPTj6I9Eu9Ro0CvUGNJT00mgY77lMAvqPVsz1yfu895TuPPYphtj1AUAe++XynPcH38rzT8O894XEhPg3CSz75l+Q9Qe6YPRG1yT24JjY8tHMQPW9DvD0GyU08HmssPcHhkj0aR5U8jKKwPAyTPT40bh68mpFVPQ6ePj1bnAI+33/KPsj9ML04mtg9RrpXPZTiJD0oFIY9XwbvPVH02TskScE86HEOPYwq9z2QmWW95IO2PSyTcj2Vhq49iHs9PFAo7rr0bJs9DDT7PK7UXT3EABi7R5yQPg5zjz1hsss9mCTVPUxEqz7uKrA+hon8O+Zvdz69dA8+lKrlPAgKWT3WAk49e+AAPugnd7yibW8+fzBrPifDRz74kE4+uRj8vLZ4M7zu40I9hZmzvQLst72pwOo9I76gPZbhSz5mvvc9nsV5vW+6BzzetD693KXTPFqtC7wmc3Y9UHI5PTVzMT4TbCw95VatPf4ocT09+vy8mFK/vThbBr06EYy964D8vXK3OT3IzRM9X2CgO8jWaz0Gdy89kTluPhK1lT6MuKM9mUpZPgFJnz2Aixy9NJ5yvVIbF70NPLY9+uwgPS+0wT3Gt0M9ydtpPg4wg7vdIA0+mp9BvSJ3Fr3BEPe8BdrCPWwwWL3YPq26B3jEvKG81j04SZo+FrQRPr7X2z6BFLM+5rVDPWz0pj3miog9AN2LuM9yt7wJvcM9kG6oPOEKdTwNYsI9/jduPES2gj1xjRQ+HhVkPre+ET4bcN09zKY9vXHlWT7nI5I+KgYPPo0Cuz1AEca778eaPrzL0j2S/mk9iPzoPdg6zT1JbfA9KAjUPQRT6zwbove8GA0EvZxWz71oJFM9Smy7vSVCCr7QuDu8Xcc3Pm1sAD60FnM9h13GPYlG+DxQspg+4JmXPWCg+D3It147myifvNCy2j3zroA+oOM5vSKYQz5zZg8+jxO9PWJiDD7Oky28sIkWvI4RfT32PP48Aj0UPo2e4DsQSHs8miOoPWNiaj5onS69FFciPGLbTz3NLMe8NGBsPmK2ejzGJMM9S3+nvLryIT5mbvI7iLr5up3Q+T0q2iC989eevA+f37zuf249zMkJvaJYGL1R1c28h9TdPfJQ0T0AX8u7GjOdvGv+0Txgvaa6DHbRO7YF1j1bxL09vNwEvNDKeTpUOlS8ureQvIOGvDtgrgK9i/IWPtI2obx/Qrk93EVUPKAK9LmMIrq7DsZEPRy9lzzY+xs+qlUXvBChcbxyIyG9QEqAPLIxND1tIJ49ptG+PRZBZL1SwVm8VyXxPH3YFjzSaQg9ANcGPdeD/D2Ozgy8SJxVPTJXJ72urBG9FICkvf7OuD7YTTw+FYtkPDcOwLzPX6s9QBJovbwk1j0oxyc+msQUvRglvLr9Xp28ff6vvEQbED4aEHi8irYYvYbdS71WGma9fkEQvRTuRr1+RxC92P2lPZdFu70WGlq9XxGFPVbeAL2KTEk9HyHmvMw9Gj7DTls8Q/drPCMcrL31Zg49APapulghjLw0xg87mnXGPFyHoD3JXbu8LJN7u5M34DsYEHg9yZDYvIrREr2QP189nqcgPSjJ5z2gz525SvaZvCY1Pj1OKCg8pKt0PBlahDx8RFM7wbfNPYz+DD2ky4c9V+SCPD65mj10hEm7oNHTPeay8j2XR4m8MNUKva5Xmz206/I9xLADPobmf70QQVC73fvGvEzkdbt2X3w7n4LivDpEkj3owUe9XcSsO/h1Xz2S9qM9aazPvNPxzryKgSq9xPKdvAgKaz1cI1Q9cFQbug5qVb1uSxm9Qz4LviDRj7pc7D0+DDxaPlnSNj5imwi+stp8PX5wAj5VR+Q9JB9iPHmBnr3AQaO8zJZXvUC/CDwIRTK9XiT0PWhDR7tv5mk+UBjDPXQDET30qA0+IDWuO/C2JjpP8Co9jZa5vNruAj2ZtYY90rOIO8wUFD1AbQ89hfMoPRqJSb3yHrQ8YDRDOwD5xzkAHCQ3aA5rvLCCJDzy/TM9OajAPSr5Hr3wIbC7kKU6PA1r9rwX9t28VMpTPh9Nvz1wIwo+t6qSPVZZZ7024Fw9uwqtPZYu7z2r1jU8WQtCPK6/kj2aD7E8OGGZu+fLhL3gHUc92S7dPRERAT2BGIA96ojkPBA3QT2FN0k+T8ujPGCAbz7tKY49EHSHPd3fSz50WCa9nFaavFr+gz0sXW29RrAmvQvVmryZsp0+ZYr6vHoQ8DyxSkw+wQ8sPvsRHT15B6G8UDYIPvrc4D3rFpC8NjWHPRJ7Db3aD4O9Kmt/vE6llz3A1Sc+cE4wO76VyD2Uf1M9hXXpvKAJcD3bINE8+cCsvBNxu7zFgqy8eJafOl7DAj1hW868y2MoPggj9TtyB1G9jNQ8u6qEYLwkOFY8atS2PYj3MD12B2g7YNkgPqlknj2Edqa8RizEPYmF0j2btZe8EOI1uknYwj18b0E98JRpOj1l7LwMl70+2FE3PTYZXD5Q6YU9sZmAvTS/nj2lF/Y9p2UgPh19Sz4w3t89hWsvPkLdVT0qVR89EP0yPGW7gj2iH3i8Mk2RPSAztz0y3pU9+3sSPh6TRT3WvcU9LxCAPVJRND33Njw+/qEfPXiMSz7Yw1E92xntPQykJD6hYcK805BpPDZgOT7jAKs9mAvEPY6NML1dYb29aXLovBospz28zlK8dBFVPe7VWT2Ya1+82M3dOiTHoDvOakA+T3MJPvTkN7wtmyk9tAitPXyMCj4oOKC6QKdDPTv7Qz4TmDo8jTXbPULtfD3LUo49lIU2PWXAzbxclbo9TgE/PVqshD1yKzM9aGYUvU7TEb1tQ889/UWhPlQLEL2hlOS89EcZPlDr1ru4Qbc+ZtncPdLYMT1w76y6RJ4Ru9pjBj3Wr309+qUmPcIgUD5CjgO9uO9ePfhCYT1sR3U9ZBJ0PYKl1D2FEKI9PipePh90kj3FlKu83INIvaauSj1sChY/4NT1OXB49D1txrM+D/WlPdVutLzDZRU8u1D2vdQMPz5GjkY+9K4avFCfUT03QJC9bgecvNkRjL2Ohg09eFHOPZEUvLyKTpK7PuNZPjOpxD6EzrE+EfrFPswEYD1F02E8jrJPPeymVD37Bk8+W3aXvZTBOz3IimE88UgZPkh8ZD3Mi/49f32BPaLfHj1N+a09fEohPbZ3ojzHRAs+Rhc7PhTNh7zVHJQ+PNgdPt+ojryonQo9KMJjPa3Wn72cXLy9PZyovbqbYr002Xi9//3RvHFKsLwAziO9nGJhvewrCb01sZg9gpddvJFUib1osc26oLV/ulWuID7MPLs7JoOTvfbd1Dzk1Fc9/VeePeLrkLvmZzM9QlaePf44nD1+GIs+WZbjPqQzeT09l4E+hdshPtqVZj2sPTQ9rRPHPsPC4Lyr110+MAjtPe/Uhz1SnWI+7qmDPiTsOr2mpag9GEwXvQTYjz0njyQ+ym8OvXLhdb0ulcq9iJYbvcgEFTt33qK8iE6cOi7ph7y33IE+wpsPvd2fyT5IbSI+3efivMelpz5FjiU+kx6QPZIOEj7b56k9FjgwPeldvT3ZOXc+MjBvPVT2Pj40LKk+xWejPR2HoD4lhyA9S0zzPBqQEz7Q6KI9WlZSPlMqpD0wW8I+Cd8tPkZ0kT677hI+j2+UPeBnGDzay8q9hEghvU7Bgz0VHgE+BgV5PSAJsz2OsRo9QseSPZhcdT0aeUU9KgMGvucmub3S+Du9dIpQPcHUID1CCNG9gFABvsfLw7wIztW7QEAevUcflj0I4CG9IzL5vRRqfb091CQ+kFJFvI3hvz0y8IA+7aNGPp5+MT0aS5g+VyqGPUuBl730MmM9OiQYPMcYkj3qVRY+11Y8PllXPz4Vwcg9IsQRPskz0j3mxwg98Sv7PM0OujzsZNI8lPU7vOIHTj3khas8DqFmPa5iRz0qyVY9DCJMPYokYD3sMzO8BKJcvfJ0RL2pT5Y97FEPvIrO0TyaR9Q8LdPkPIj1fTw9Yco9QMxbOomnHT3RLzA+z4SOvKCVDT0pf0Y8mKBAu6qhIT1VtIw8/1i+PfiGsDzEQYc+JKcaPVEp3TwJ5YM9y/cqPl34qD6sSTQ+2F/TPbLLXT2tbRM8EIgzvRG73LzIB5C8vRWPPWrmEzyU5LA9vv6ePQympz1A14s9bm9avOqxkLwayMo91PJBO+3FSz5smQA+2mWqPsiMOrwRIM682DiBPbBDND07Q4U9cu0yPlD6qrqIbOq7sFpBPBgbLD5MWKi7gLkNPRQliD0oDzI9bIqVPqTeFL0xYeq9zrqJPZBd+j2HnVw+9BVqPTYjRj1WKXW9YQDqvNyUdj2wfz27tiy4PGwNrz31NuS8KrxYPUuWg70g9JK68c5jPFoqVz4LjCQ+AxGTPbn55TvgpEk9wliPPTB7ADwjcbG8VEIKvVybF70lMru8UAoKvECTizrLouy8vaj7vHcYrr2Dx728PDAPPoo/hz0YfSc9iWOfPYaFeD4gTQY9RhJbPgR6uDzg1ok8RGcBPQQ+sbuNSe493PCZvBNdhb2Tcow9WeQLPtDgDj5Q+WW8t2z4PADsDz7/mVA+XytQPHSzOL38l429x6fHvPG0mj3OsyI9VKCRPP8lFb7Pw8+80sWMPL+9ET6OvjM9qL5LvZXDiD2lzyU+pEJhvJJ6dT22Zvc9Fj6jPXlu5j0EAT89NPKhu3XXhD01oyY8ipujvHS1Wzzj+XE+tZ7sPYVlbT67NL09rmRbveeq8D73CSI+b1bgPaPFtz4TP4E8RH34uwbzND52aPY9O++KPPbBMj4Shnw9Q3AMPYB3zDyocn0+BGOjvD1uhrxgPBw7QGMavKIQC7xYgE28K9wpPJu25jy/Kp+9LgB4PerjPz2aPAM+hyixPiC6Pz3g5GO9nFUXvBs7Bj5E6jI9RXy6PTATxj5cZ248afMDPXxLnD6YkB88YBUIPeU+mzswBeQ9OkSTPrIZwj6QNTc7AgDRPPL5gDx2W4W84JVaPXWSQ77kVyc9NMh1PYZflT2KS2U9NOUnPX5zBr263jm9cKHUOu2N+z2463I9dDCYO6BmHDyLPL87qC2VvDCElj02+2s9MzcGPacKzD0N6wo+KBGcO9hwozx/Vms+xITMPO/O5TwPReY9BJhXvgqbfT6+vVU9SeYuPrCSQr2eXSk+8NgnPvGdYT4EB068eG6jPk8SSTxYTUI9WQdWPn2PBT4ZyhA+ftYCPQBr2DySdT8+rqeau8srgL1AYhi817WKPfzP+rsiMWO9dYn1vcgtWLxcs6q7dJImvas10zz0FcU9xo+XPVzsa71lify8KxTtvJSAbT5mqks9vB2aPRiFDz1CYSs+/o/HPYmOk7yAu0I76UZyPEzeFz1tqsC8RfqKvBxcOz46R14+ywS7PfxbVb0lHbS84+QZPRsXvj2U3SW7yZSpvGgC77qAPrG9XMg4PoXPzD0AC6S7tX7KvHepzz2JcpM9asd9vFujkz0pqjA8lr1KPfngBzxbmOk9qHSjvWllmzzXXMY9e0PBvDxLHb5I0Aw/lS2EPU5UND3A8mW9TrUJvbZerD0MPc27pHYLPXGTpz1TROA7zextPhM9/Lx8Jx0+PHFBvbfn37yePxi8YgMzvWA/TbzYt40+5AEhPW4M3z1Ajpa8VT+6PRr9zT3mSWU7EYTYvPJjWjz89Fs+gUuWvMjvoT60SCc9WVm4vIAqHb1Mjw++wMSIPWIgHL1GjzE+SOsBPW2Qnr3t1fs9krhpPUjkdT0p3ws8GyYfPl7fQj6eXGk9hFVBveqbS72nYq+9bvN9O3HggD3OTJ09sC5OPazPbz6ARAS94rxdvZ+M1Lw+WP88AKmoOcA59rlugwu+MlmZvBAbPb13XZc9IY2ZvJfn0jxTIIW82gQ7Pb8F07y6waY8PqElvaKbGr2IGT899Y/HPW3MsD2y8jY9BFKFvECW4TtEs149OOKjPvbJAD2A0je5SuSGvZIvgT2I1ZQ+WJ0TO0RIszwszHC8OXAIPDQ+C7yFTuq89STSvNRuYz3Aa2E652PVO/vqkT3O43y9pndBvZLimbwJFM09B0oEPslEIz41TkM+owUePtmbAj5+Rpk9nizVPacSnD6uu2i9qq9LPFyqRbxny807ULORPSfArT2Ij2M94R0mPscVrD4/li0+8ChEu4hBNL1BVnE+fnwKvf29Pz4D1Hg++Pw3Pn0+hj0mwgA90IwfPr2117yUA268cainvGGplD1scoU+RhtfPURGbj5WLy09IiHiPVlr6LwvC5C8oKrzPRiIQr1Q4g69MlKPPQ7H8TyoiTi8MeGKPmVrwTwSWjW9SoPAPONSajwzb8E9td80PJ5vAT7cnYA+CBwVPr6IB70Ir2k+YuoYvMxjozzQEJi7jy3uPer8dz6ndoE+B3izPVqLaD0S0bY9kqtaPWD/RD0ozE49tJetPthUFL1tGgk+GOxPPb5PQ7wRPAk9NFdbu3X5lz2Yake9Uzq6vKz3Tb0E6Ve8fFJXPrhQab0LdII+ydQ3PFQVHbt3MQk+YPIFPYN4XzxVKQ0+1Pobu/UFw7wSwz09iOv3PfR9iD1iJlS88BZMOog9orxtO628r+CsvMWU/7x7cLO8aem4PaDuqzyrrao9E+KbPXG7oD5kTRM9aPFePXsOEzzYX7i6oWP5PMGG+7zeGEc97DAgPkwkeL3qdKA7pCsbPoClEb0oq8Y9oMe7PWBj7rtcAxY+liwgPYglqD3aFRy975CUPfzeXDyCyfc+JCnxPaB4Jb1AC9u7b2fivCnZxD0Ogy0+FN9TPlYzkz3cj6e7N06mPX0hyT32/MI8oo2oPTTLOj1QsyW9Pk8BvQm/mD2SeZo9NiJ/PfFTbj55Bta8TBeQva+Ovz0heZs9mo5zPrIdbT2AEhQ8ofVJPt+R2j1AvHo9+PYyveAEUb1AYI+9sYFfPMUdkD1c59M9LHOuPXGbtry6ANg9ctVnvSLDHj3fv5s9t8wjPqTtaj1rOIK8tDEXOyTQbz3/DIs85BZvu/McoT2AHum7gbWFvHxuFr2Cd7I+7MEBPcr6jD4WB4y9huAcPeDTyLvMiNc9gLFRPh/whj6KtXS84KAQvQ13AD7EhBC9nBBkvMD7Jr0zi409eikcPhQ/ET6H+wM9PnF2PidV8D3qPpK9++yAPoosF7xtAl88q3G0PuVZMb6ZLgA+SDucPftd4D1tChk9uNJpPe3Uo71suv88eMk4PSa8AjwBRNE7jwGPPeEVuz1ojQ8+MgM1PZlKajwAO009+sSGPnGd6D3s5LQ95+1BPLaMerz8rf67PnLeve2DQT54T289bEwqPgEtmT34PTo+Q/LNPvlA2T2cZa4+4BMCO62M2zshjfw+vrg9PcRiCz2YRms7G1A5PvxPiz5oMs09yf6pPaCtkjpU/f08GdFFPvI3Ij5aVC09i6ecPa7Qmj2U8TY7dVOovDwvNz1SU009/X89PlLvOj3M5Wm8fW+oPmOFJzyR7749RJZJPmijBj74HIo9uAP1PqiiADtWvTC97++DPoDcJj6Bz5Q+LUHdvCRL5bvqpuY9Ip4nPszyAL3UPOy7QPscvbGZq7xwFzU/ipoyPYgroj36XwE+KLFSPivVGD62zp68xoJ9PA3yFz7Y8/S6pjQaPjq8Oz3rw6I84RdVPt5B+ztDWgE91KxTPbufizy7APe8ZpDYPbs7MD5Nrs+8QIqtPVlF1z4M1h09gtdlvXfXlT2KGww9wbiDPXX86LzS6yq9uO+AvfOPODxGPnQ+cAMFPiDBkD7WmIc9M/xzPsyEAz07hqs95VzhPXBb7DvPzoI9y6+0vYa75z3sGJM9bBB7vXbcWj2y5I886sd9PZgcBD3bf5y9WkRxPfvBND5RrNs8T9iLPhkCOD5mJ5Y9oHV+PaIKaD06rhY9OGM0u9C2uD0y5J89xXL+vCcW4T2YOBE+GCeLPbJQ1jze9vk9evwrPkjc5D0YziK7gkYYPQwKTD0kVeg94mnVPNBBOz6q9GO8vWlRPMpKXz2i5YE9ujplPUQTbL0w7BG94NzoOp5LgrtGGnO9JPXOvUKQCLzvDAc+miVRPcoXkz2x3+I9dB81vFROpTxcVQa7Nd+FPXHImz36MDu9vmY2PQvHGj48Un49A+y+PQlB/jzsbDk92M+XPWe3Mz5AzJQ8OtYcPnbSVjurC5E9eK+rPZQCSDsfsQs+GMFyvYRTnD7FM+Q93xk/PrkElj3orvM9wzYQPClV0ryXVqc9MFNOvSxhE73MWmk9YMMhu9Sucr2ZdGk+iUGlPS9ZKT7wVYQ+Ns0dPU5KKb3W92I9tjBXPUxmaD2uD9g93BE9vW0k8j3Fnvw9HNmkPYD/JD5zCqI9LLIHPQCukzldpYQ9OQuBPqPCQT7Agx4+RxjRPDOs0b2k/ES9yB06PayXMT7M+sE80EQIPn6bGD29e5o9QidMPUtS4bxs1j29w9QYPEJmSbxLfwM+StyHvDaXxz1cvpc9diDjPDIkmrylLoO8ohosvXVj973QduK7EKb7OrIDnz33dDc+k6VEPkBpYT48u0c+hOGpPifqSj7uTC+9j9YHPg0Xgz6oUgU+BBM8Pr5tW7y5WVQ+c270vD/Xlzwrqlw+tnRxPefBrL3gAqK8l472PRf99jy8wRK8rYkNPvCDij7IOKM+YByNPNlAirwapw4+mNl5Ptjcr7s6SWW9LQCXPawhEbxoFBu81L4Zu7DzyzwjwLs8QXsjPPigFD1C95k8A5EpPiTaXT7e/Tk8FdGPvMid6T2DCos+rZwXPsrNMT3XcSI+UBahOvCiSb556uc9YyR1PosEOz5++yW85MZZPrw8ij0VcFU+1WIrPTyGGT1Zq/089CmOu4A+aDtac4g+BBdcPSq5KrwDASM+wj1UPRbyPj2j1nu+gphhPQqbvjw1BG8+/rT3PS58JL1RxpC9gtZuvBI5Az7efKE9B4fqPWHwqr1Zd9y8dd19PqNMlD2UwXm9ZPpGPh5ucj2P4tk9ei8KPYju4z06GTM981X9PQo+bT37xY07vbIvPncu+DxA8T0+TEAfPuq7hTyChlQ9vn1qPSZgLD4Y+pc8uM3fPdCPIz3cHlE8GS0fPqsKiz1dzaQ9sEotukW6xjsYDQw84dSSPSqVWT2nJBs+chY0Pn5ABz4s6Aw9n3cYPhOEej4dSvw9RlK8PhKMNT0hsxs+lU4UPhUwGz68DmQ9dZ22PX6y0T1Neeg9hsY/PpCjVTxnxLg99WmlPRgX8T1ekT8+wvifPhbRKz3yHj68qBZ5PRlnCT72U787XIHFPNbQgzwf3ZA9MNhOvKajrz3mF1s+kSn2PUQKAz0CDX08vOcgvc5FAb33bri87Dx6u640Mj0AniQ9/QuNvAAutz2ez5w+IAOsOVS4nD56Cz69fJioPdTB7z3Sx+49rmoLPnAYWz3GvRs+sEzvPXAT3TrmQRq9iM06vfJG/TyUvxI9qniJPe4zez2LYaA9Ts+hPYBLzz1i5WU+uFodPpCjjj0sVum9FfS+vCIDML2wkk2+QGAOPrhcHb6dDdi9rikHPuhrSz0LTpM9N3ImPhYSX73ta747Z3WsvMk9tj6WyQo9ekJNvAA2Mbgknj0750zOvLCcIz4YrCg9mX8APahQur0tdAc+2vpXvQr1Sj6C8gE9KNk0PgQUGjv83pk94HY9vV67Br0WnT09LvRTvcq1LD2DWRQ+YDTxPbCpc70+dsK9C52OPEuLy7yUYwa96qjVPYcaaz7lZAE+WNCqOo4aXb1Hv/E8fOZ5vV8kBz6PGTU+GhufPEbjvD1G/F4+scQaPp4aaT4OKks+b4kXPCQuLD20DFq99B1XvEzuTD7Ot3C9hJ0yPI7PjT4pT9e8WJ74u5t9lLzKpkE93gGRPWtwsrwlwJa8pjJ1PXafWTw7baM+qaHNPZOKqr1MN0g+JS6gPYj1cj0RQq08BXuaPZJyWT3xFIU+wCFlvCfzsT1FJPq8mD5+vY6NCj1qoJe9HRQgPp5kyD2c+mM9tjFSvdpNMD2UVy8+E70APkWuOz64n5U+pKMsuwye9z2R1V0+GUejPYC4UD1TWKA9ioChPei1Kz3yu0E9RhPGPdCDUL1vUre8XhLBPA5fnD0AQbE9oIpfvUIwiTw62lU9bKGNPewdcz0g2XW64x2svEO5Iz1d+cy8N/afPoE0gr1QKBM+wNmZPqxFKT5Yagi982vlvEmC3rxPRV0+S90KPQtnqLxgzK8+cpMcvHVsyD5gC0q9RgHjPcOwvzx2lEK90OcwPYec0z3sxwq8vA/8PIQrKD3ksnO87OGeO/3WurzTkKw9WXGjPYWVLD3mAl49uA1xvOIXDjylM9G8G7/avSx/Xj4W1qs9TIEfPQZepj2I4Z49/2OQPcSPFrwY+pW9+Wr5PKQ9nD2qVwg9wMAwPhQRgLx3Ltc9xx5JPvmODj7JbrQ9s77rPdevsD5ZDoI9bsfNPgv7lj36HHU9VP1NPoYtrT0MeAI9sQNfPsg78j6qNWs8+FdqPtipWzxYNiw+kaDwPSjHrrvjEKO8uBcOvecjxT7ysU0+SwzaPGBDNL2SmIo90tv2PFqFGz3Xw8O940EGPDqbcD0a+ms+k1mLPobuDj7XJLM8qKROvLBuJb0wGtC7qTcwPJ6lUj382vU84O6TPTkcSz6nKqA9k6kpPM2Rk734aRS9VbK8PSxwhzy6E8Q8ajhiPWo3Hz01DTI+PPkIPa4zXj22OiK80+ATPWyfND1md4E9px/OPljF5T2EhAI+tBenPsiDYD6vXrM9SFMZvNivvzxTiCQ9uz6rPQpdlz6TAmk+kYePPpevEj9cKYG85J9cvRRcQT3Dxgc/puaLPqyTCD4etgu9e+zqPfhBsL3xHdc9l9/pPbxDUD3tDx088vC/POjKBb3Ros87zmgKPnEYsT3zFIE9lZ+EPWLs8z0x5nw+TYSGvcq5xT7r1Ao+P8aSPZY3rj3pVNA9hiuxPlDwnD3Y56Y8TOBvPZwW5DxprI0+3FFoviuiGj4o6dy7tHeRPcr4aT0HhY07JrXAPf0axLxlOGo+XDwFPpCMfD1LJYA9Wy7dvFYfFLwP0ds+4PCJPkBG9z0CfwS9zqdhvQnAHT7ZqWQ+y7FYPkb9cz0bgoq9xGIuPpNMAz7Q72I9IMhtPmBmPz1xOIo9nOoePvEOmj1mOmc9WD3cPReft73QzRo9rC3oPcxiLT6E6Zk9RbtaPgAsWT73Iig+LQedPkyPyT3NopA+c6p8PpeUjrwWQKk8i4R2PpiiRbxa7Ee9l0irvd7gSD7CH5E9Voz6O7haJL2SkDY+r5+aPspVmj7bGOy8YICLupD4Pj3VIoq99cr6PbodrT2eqaM9TFUYPqkDWjy5cZc+SqQ1vVpSqDzV/7C8qBowvRBeYj7CFky8ouq/Pdwpm7wZIsQ+K04+Pvapdz3PKbo+dNFvvN3YVT5BohI++WSLPfhkjjwA/2A7OBCAPXx0P7wbYg8+JMEZvW8m1bxl3YA9amkvPjAHPT1PRks+vq8SvXF9JD52FDs+JRAuPiJrSz289WE9mZfOPcAl+zrkwn890lVEPdgDeD2k5wQ9iTHJPTq80j4cT249wkf8PUFipD3ei2Y92psYPiDrnj7fI3U+dOdSPubGiT1cM0c+aywmPpN6JD7n7fc9Pw6rPgCYPz4UA6E+LBpfPlcnBD6ittk9lSS5PqksXT7ney0+AVeaPW2F0D1wtTY9OiGHPboCIz4T8948V9WyPWIKJD5wgL89RwQVPtMr9T7OYAw++a0RPmS4bj1gOX895rgTPuLtuz1NVq8+JJHXu5pqi7yn04o8nucAvfxumjyoXlw+cbQNPmIRtD2uFjg+2qgePh/kqT4fvfq8y+caPm9Pgzz5oU8+O1PhPSThEj6ODtc9m5aHPa/H+D0RCem9vcn3PcSmvD0m9wc9AqsuPowmgb1UMAQ+isyHPm3Wpj2TqGs+sgugPqfd4z1kMRi8WuhZPib10z5og3S79gIQPYhRP7sj/yU+cwdQPoV/jz72K948pAM/PUi1oT6PXZQ8I2C7PqwZfT5g+/e61o8tPlUB6L1JhQA8JLw1Per4kT2+RJU9OKZLO8OWsD2yUGM9qM+YunDZrDqK8VS9ype8PcnLgz3unFo9p1IQPqS0xDughna6gM86ObqaAz1wXCs7lIRPu/1zkj1V0VA+Tmc/PMyxUD7JCoI83EAKO0RUrD1kAwo+MNW4PDHMgD3ipBk++D4SPtiUVz0OOWQ9mbpvPolFaD5RYXI+J5q2Pp34kj4RfBM8mi4+PdoEmDzlD3c+Gk03PclgkD2GUVg98AQ2PaHEu7xOBkc9oZp3PvgrLD7LgSk9+u16PQYshz5gxBq942o4PiRt7D0Bs4c7j3qYPRDidD0T59y9Ug4YPlVsYj7CyIC7Sx+JPiip0ru1Vqq8W0u3vCIDcT0WclO8wMTgu4xprj0yqAI+m1KPvESOGz4YWnK8+lVaOwh59btyojw9VHiWvL+ixj1C7GE90W/6vPjkJbzIpTO8+iARPjF9OD5AyBE+tNPWPf3xbD6+A789+EC8PTbN9D3+wIE+A8UMPuBsFb36tzm90ERLPmrZrr0oZ727Hi3qO0iFmrq/qba8NMTxO7WGmLyd1io8xBB6uydtfT6UyL+9OoxNvCKFPj0Lxmg+7y6kPahMPz7cH/w9noyJPtTALj7wRAu75gVhPQ9D97xUAqK7QrnYPWtqfT4WiPU96NvzPQFEqDuBHNg9DMCxPKLnOD0KdRq8xspfvVw6CD8mgrQ8gmwFPn+sPz5oy3E8fldZPZRLFb1XpIM+/BWFPanoG74gHzk7UPBbu+7yJb0Ac+89XDXtu3D3mbtC4oC8K43FvGL1dj5qcyW9/Gd7PV8nwD3p2dO9YKOGPlNI3rzB1MG9RNdgPO27iDzu1EY8myGTPqjdMr3vzoQ71Db4Pf9zGD1Nq4c+ZX6fPoqRWj72jmc8GQCGPu6REb2g0SY8Geb6PhZBxL14eIU9crzkPVAy07qE4Z0+MZejvNrUGL1gyfu5CCikPOjxN7yI7NC9PpZhPa05bDxZYsm9MOcrPgka/D0zvCU+gPIvPudHeT5nmiq+y2+KPlE0pD4JSCo+aUYbPsf1oj3yPzk+psJrPWCNFD62VmY++L3yPAAAtrVi+J0+kkq2PY6evj2yrzY+lvUJPhR9a71MIi69vvCrPgNqyrw2AZw9NcXoPYK8TT04qVs9q69FPk5krT3f1y0+YECiPcx3iT7ogrY+3JBGPS9NKj3UPkw9oPNbPZZAoTx3jxs+nCwdPodNZT5ONoM9dCbrO4iNKj3GJVE90CaQuofrhT1e9x29V4tiPn7Bhz040009bYZDPhmTlz6duZg+FGmnu+VeGT1QVmu9SnKlPWNnSj5yIIs870grPcZwND6cSeE9Ls1RPQ39u7yClmy9bPVlvR0AyLx4S4A+aUCGPPrFzD3+N5e9oc5JPgHaHD7lPSk+chNCPeY+tj0T2M29GDgxPrIISj6jt509r7GrPvaNmT5AxCU9ycwMPtCAOj4/b7a8xHg0veJ7gr2Q3449Ho/GPVE+4z3sh5o9Dtw6PezJBD6aR+I+bx+VPolXjD3hEcu8+1qfvQizu73We7o9gJ4xPXxUnTwhi7I+O/C1PcDZxj1x1EM+XcOPPVxTTj08cmQ9MTK4PbprSj3fNI4+Xvc8PpWgmr08zUC9N8UwPgglMD0N4eC8FEgLva3wCT5c3nI9Zi8vPXF53j3kbXI93q23PcOaoD7GkHk9pOLMPZ95Wj7PNn8+7lFMPotpIT4jLuU85uEKPi4xHT1Kfvo95lP1O+jAXT4oP1M+i1CoPZjIZz4ZhYU+SvPBPtB5uD49vGU8ZVGJPktU9DzS7Vs+ppBTPub6Gz6um1o+wEQnPtQ46T2+gCE+Dqa5PQ4Z8z6Y3gM+RXcNPvsYmD41n6u8f583PgNOgT3Fjis+QVBpPhGqED+wVmc+j+ZqPsjeYj0LZsK9hPY9PUP7lr2rviU8agI+veqPxj0rvjA8anZNPIppyj3QDmk+rZmHPibPRzwPXr4+bPtgPQFjhT5r1wU+gJi5PeO00DxLdZQ9Ja0UPk2jnj1W2x895jHKPPwkpj5wuFc9YbG7PlEFnT1MkrY+TBYFPqQzED2Uhgg9X6PFvG6jNr1E57k+nyflPQRLZ73c9Bg9hy+EPZBxiD7q1nU+ArnaPSjFyr101X4+eEVNPXHL4z06Ink9GHVYPnCTlz0iC9O9sqxgPZT8ET6ydh8+cdItPmEBZT4NeL8+GJ2iPmG/bj7cO4q9VPL6PTuMhz6crTQ9ZURKPnkGSz4UY6k9UDYLPpjxGz3MlWU+eWt/Pi+U7D3jNOY9R0i9Pq9OiD4Hrec9n3kIPjCZhzrBJp09gKZVPtmjgT7+13I9u2lwPjxtC71qpDo+LeHXPXZOrz14CWI+CthQPOa9U738ILU96UBIPnaX7jvMbLE9UYTzvEZSQD00jQ+9w/kdPnZBuD1acFw9rx6gPZZ3G70Q7UI9KN5uPhaTXD1t0kY+5DCRPqz6TT0LP9U9G0vsPULxRz2oBoM+TaFgPsxl3z4SNmw+tCQ8vT3pGr5xlZM7DwTAvNS8hD6K6lI+7LGoPaKugD0WuoS9dh8Uvf1BjD6MAy++eYHWvAxoXrx7vAM+dBmCPUt9gzxmtgI+ntBMPqBngjkETiI749yWO8ApAz3q5hO9AYKUPRwdJz4YyGE9gZDJPWM46j2sUAY+FQPmPX60ALyOfws+xInPPS35k73vSZA+BGYUPkxhID5KGFe8h+ovPvprDD4UBYM+lvRwPbM+Wz5GLjI+ZhgOPUPMBj+4sRQ+F+waPuRCjD6tmf894c+CPtDoXz0U4jU+k9IHPT2RDz0eCIM9DsBvPYF3eT7tnKE9vEKePHVJMT5epPk98xhaPp8iKT0IdTa8kvRHvVrqOj50cQ29sKJTPJckhz7Xuom8JCoxPjjvRD0ukgI9PKYrPawsLb3j6kY+0tdjPSxzuT0+rE0+blXMPU5EzT2rXow9hmKAvTL5Jj4Yj2w+iD9XPugWMT76S6g8C21rPsTjmzzF1z0+HG3IvbanHj141gA9CHlkPQnQ5z1Ylbo+XsyEPa8X8z22DyC9qnZCvbMhRj4NZeY96R4cPsGuhT2Sk4U9MHtmPEDyTrnGmsc8Mk1nPTzfvj0jXE4+tfgDPojyLz39SdQ9epeJPobHFr7JWJw7SNgzvoOARj4125w9d4WZvcDCVrqXuIW8gCGnOOrzVL56RZI+5Es/Pu9djj2GZzM+tVsLPhPfLT7imoQ955Wrvf11m71+4KA9+F2DPmKhjD1Enkm91R8nPigbej3hLSQ+Dks9PS861z14WpM911y4vExv6jvStSQ+N7KrPcFIDz7Klec7O5KXPlg56btZ49y84fYKPur2gD34c9o9NQkIPgqKVz50mTk96GOcPQ2FLz4Q/u49gqwPPgXbbz6nEyg+AKu2PvnlYT6tRhA+zwaAPhlKmjuCqqo8mX3sPhIOtT6bTYQ+FB10PvqAJz3ig1k9DLm8PRSJ5z0aAwu9o3GKPbePrT5K0xA+vlsCPuh4obv88DY+6IOgPbdVzz070Nw+wEyAOkM8Gj7WaOA7kMAhu/zLCbyypt48V8L+vVOs77zvaNA9evELvdABPb0ESms7VLBWPdoAyz1HwIm9fyb1PAh//z3DPCs9y5O+vATO/DxHbXw+joU4vecMND5EgZI9dOTfPVzrJ7yHiGA+f1PhPKRwYTvGMYg+1q+IPi9d4TsyjF68syiIvbysP73irKa9+T8VPgR7ljsGDAi+xMM0PLAMajz0kQS8CvaIvTSJnDyCPQ89kZHOPvAUjD4HWck9/nJOPpbvpD0eTM89WjNwPQ64cbyLyoo7/zXJvCabKz4YLkc91vf2O4exkD0c4E09952ZvOwAPjsdpyM+/zUJPC3fj7za2S09cBOXPmrKHD3Sfms8mht3PUhwTj2m/xw+9DJVPnkZAT5XCwM+ZL86PSiGjbzO7zw9tBHTPNsV6j0G8+09+6RWPKPIzD3AxZk5iecEPusP6T24rX29dJTHPDWhqj1EZcK7Gm1JvLfp+Dxuu4s+6cIKP9bHPD4cBjQ+TQ/bPfAdTz6bQng+tguOPZwWyL1QMXk9RHDnuwf2ez61QJi8WFxsvIgegDvys2E+wdmzvc9icT4Z6SA89S3MvJLHmrw0vS4+4iIuPRx+Mj45Jpk9fzXCPogKVL0nPMu9DnFAPZCDbD1stgK9uoVTPTfdGz0itss9jkGCPVzBFD0rT8i8Z7qpPgxty73Q/749OnbdPWL+kj41lj0+ANAgPUVciD2a3RA+Hw+NPtDxSj7wNPM9Gt8hPRW3AT6vodw9T3q9PT09ND4xAyQ+BM4jPmhevD1+8M89G/XAPimZNz7f8L09nTgnPn/hhz5mC/k9VMfFPd2BIT6lhDA+JRZGPgbQfz34RYk90ZsjPpfSrT36QJg+7NpVPvvgSD6EOd89PjMFPre3GT464sI9dR/2Pd6nOD1NWBY+Z8bFPbEPJj5o0F49fj0KP4690D0f7Ys+aRSaPiCaZz4HsVk+XiN3PWYELT4/354+b5bGPiGCiT6eJEI9WjIJPstKID4wCxA+XBsjPnNpxD0li8s9reuxPRBWsD0/FQk+kFL1PXFUMT4saI49tgpfPtLa+j1fiz8+ocDfPaWsKD22VF4+9YsVPiD2dD5II1g+vHyVPi3RhD0mkiM+EXo8Ps+arj1vCIs+VmsVPrGQdz4ejh4+92JSPkfgEL6/EqQ+08CPPQL3uD0Aa6s+X6ZHPolFWj6V3Sc+vd8APtirAb3bf4g9AKgaPgv2BT4MmDU+5/TdPYevvj7QBBc+qM/ePRxInD0a6pc86lBqPZSaL76uIqk95T21Pc48Mj24jI49tDqvPhe5mj3Xw7I+o0YPPh3c8jzui/o9zOhRPiNLTj6t938+mpG1PU1Ilj74lmC8FGLbPakZxD1BejE+9HlVPkX1XT5LGQ4+6stPvUYilz7xLnk+KtsFPhkrjz4huCk+F/HfPdjpGD64tck9cYYzPkxqwzwUzLw9rnqBPQBLkT38i0y9yGUNPtQRIbv0bRc94TXrPT17gj0XgKM9e1ZAPr8mEz4YfA0+BKBDvfDQR7zfFJe9uTWWPhIV/D0L7Yc+raYnPYvKFj4mCpU9jv1gPQLKaj3r8ae8GLbhu9r1bD30BD+9arMJvQrGAr7YmII9KddYPoia0j2gbmk9z4vIPBA3Kb2OoUq9rFEdO3UDLD7k8zQ9yWUPPPHMvj30Q2691Z4RPlKddj5MYXM+smEcPs9Ssz2nWu68zWI9PgVfOT6lg6U9zwu8vM5qiDz8b709C8SKPi/RGz4eyBM+hm+rPk+WkTyWlZQ+9td/vHxAFL2YmmS7CyO4PgzBuT2i5AO97FtJvQ19Oz4iEc4+A7hLPvyW6j1gPB47AumiPqAwxT3V4JI9PkuhPElF3Dw6qA69Pjl9vfpI7j1171U+psNHPjYZ8jszb7893KQiPvIhkTxe2RC9/7KHPXdmSz5/iUY+7CivvZEap7wdM/Q9oCBLPhCJMLwkZNY8mZTxPa4Oprx7BQM+QtaLvYM48T3F2Ia97oaPPFVVCj0m5P49ee8ZPu8AVD7Wsgw+MwOWPC5FKz2c7n+7xFSkPlXUlj6OArE+h4uEPdAdfD1qOEw9JqJxvZlOnj4iEnG97LzZPic7vb2QMB0+CFuLuxylnz5WADw9wHtBuu8rhL1MNDg+iCZ2vFxUsT08my69bqFEPlNokT1EZ787Sdj5PbGzCj6ftVg+nlU4PQ58kT1pwtM91ONTPrY3iT77xKE9XDeRu+ixez1OU0G9CGdzPSSChT636Bc+OR6pPq48D71JN9Q9BiqIPhiu1D3Wskg9eWj3vBYFFD2x2Ns9O4iZPYgM7jqy2Ey9P0SQPflQ2z128689hk+WPdiqKz3ClAg+BYLEPq10vD3E6pO9W02oPRtJAr6IGMe7/W0NPpguWb06J1k9pQNFPrq9GT2cz7k+gcsjPsxDirxXWOC8kHCHPqYcI72CFjc9HWmFPd0hGj4QV60+CJluPlWAdz5uOV4+xhSpPe1Dmz5IN6E+7ANTPUaEoz24tCE9cJwdP+BMDT3UKBg9qCNYPh/rUz4+KGw9jguNvd2Mxj0h/iY+NxqWvWp3Sz4oAsQ+ZKg5PR8IvD3lOBM+FxchPqTIYD0nyAA+vGKjPDJT0TxvroM+i2Y9PKtTvD7YoBc9cZpPPiKaNr27EqA+PucEvbNeAT5a30M+jiaiPT9nCz4BEK49FtzyPZTDPb2qF5M+PBMXPQl1hD5eYx4+OkOvPVCipz2WZ4g9c6a0PaDhlT5kSJU9ohAHPiejujuWxEM9ui8hvex3jT6zBve9DrZMPjTSyj1zYP8+/X+dPndHxT0g/8M+LwcFPSmjhz6hVjg+gHeiPixjKj3atQw9GISXPgOIvT02G2i8aKN9Poq/nD2ja9c9IP1QPd/n4rwcrl8+loORvLBdDj5OR2g9Wut6PeKwHj2wh608ED1ouqjGvT0Go389DA2iPmdC7rz/+pY9DCuvPZKSEz5swzc97kQjPS9i1D16ix6+F44dPe+Um70Y5VG79IWuPKo4R71Yz6y9xofCPTg46z3eLIU91hOpPo2UpT223Qo+EBrhPq1G9Lw8Xcw91PDaPtpndb0bJpW8lSqDvRZZkDyT/de9DpQCvdQK5Tuh25A+oZf+Pcnjiz3hUAE+I9lEPnHCAj7E208+KiZhPqASfb3AJym94W8GPn90nz6eCHg+kcauvBTgxLvA0wk8HKQNPuy9nzytJfG9pvNIvdU2LTxrTIs9N2nSPR5QLbxLfoA9vPaJPsfVej6blfS99AwDPqIsorzYq3u9Vtv4PUfu1rxMrK67+hyrPWB1HD7AlGs+J6mTPaOeOD7u75A8KwfXvFhknbwKUIy8hY7tPeaaYj6wjoq9/lZwvefGsDvPVvG8FGyYvbRIRjwIfdK7NdsqPkzgcj5aonY9aLtFvSrpWD6CGyU+cHiTvb/s2z1bOHE+T8poPic3Ijx8fro9b1urvJzaGbug/6u5zCJbvUxQDD27Gt491DffPQ98vT4JbDA+qD6bPWBONj039Sw+H/LRPXpdfT1ZlSg+6lOxPfTNPD630X4+gZifPXDboj1Tuhw/MMtCOusZoD2W6ny9ned+PLkOwD2aBly8TfsGPpt17T3rBuK8EQXQO1Spaj23CPQ9tXTAPUKa2D0D8es7/kBkPsxHZz6sWcU9ifSyPaBsDr3iygI+SuI2Pum1xby+WrA9iNXGPI7yNz3MI/I9QUKuPLJweT6xrIu9+t98vMmC77wyxbY+n+iXPu7xQD09LMU9kS61PfxEUT30/7w9qXpTPt6ul70dKzg+gSvYPWQ2aL4Ioqy6cEpbuzQYsj3olGc+EHyGPj4uKT3znLw9qAH/PQjwPrzyMsw9cum6Pe8CxLzY/aW8DW3gPSuGqj58FIA8fBF/Pcy5Yz1dhFY+j8aavb6DG71gE8s91UrFvIDARz1X/uM9Ua4NPtWjrT3clm4+CNERPFHgzD1gOOM9QwcHPo75pbwO1UU+LlVtvZ6JNbySO089nHMbPiyPlD4gK3A+iYOlPgBZubtPTys9EHg4PbRJKL46zPY95v+EvPpF1zwqm0Q+cYj+vX16Jj4UgQo+AOvqOTK7bD0AArC9YtScPe1cOD7Iu0e9KxkfvpcTvjwk8p49S3eAPdgJVL1nEO29AYIPPJenkj2dXgM+SgODvYk4fT7IzwQ+DjYEvfO7AT4Zsdk9ae7pvF55gj3MIS+9ONQOPsb/Wj3GDhk+aZaPPsMdeD5JPAA8NH+9PYnSCj6Mwq89WCVivfriBT5sUJS9obgKPtDlYDtr+qi9aPQYPVExj71AH5k5m+bMPkADer2aRQc9MA4TvIUm1z25L7w+ENyBvbhT2LvdST8+dof0PfPelj3xk/k8+O+rvRCPQT0e9mM+/tW/vdjyDb00tzU8dKoDvluapz3mSSy8yQaTPXHylT1UeAO7BLUXPkRjAD4z9LI+oxWePdo2LD2IHYc+vRCxvWqU2Tz/7MG8a+nHPfviQz5nO5Q9tsZ8PfZt1D4TKwY/yr2BPhVQHD7a2oA9ZKZkPWqyy73NQI0+yCdKOwtdJz4h2SI+RVFVPkzeGT3c+5k97SNVPuHP3ztIl0E+HZnqvdgUHj6Br9888lgBPnb3wD7gcYQ8T7zOPtVJzD3ksS69WIitPSF8VD6pCsO881YyPopiTb1OVmc9xfcyPuwsC71eDsU8B6qxvD8RKT6THS0+w3CvPTnJmD3w030+O1DMvCog+D1krm4+wkkJPmoAYzsM+NO7mqGyPiFA7j3qJVA97nsmPKKVbT1OXku80/kVP7XoBz3EBwM+AxmLvdXhjz39wYM+7uc9PfY6mL1uczc+v52pPcPRmT2JgYk9DqwTPji1Xz4gJEq7ZuFdPaDoAr35eRQ+FWQLPn5aOD31JJk978qJPvozcr1Qfz49TbBmPkRwrb0O3Be+TXCjPaxi0jyeBJ69BV5ZPm1EBz0w40o+cutnPtflBj5C+3g9FO9WPefdsT5QZ/I+Yr7APMDgOT5c5IU7OhhFvOSmBrzEoyO8JdqLPOmitT0+TjU+M7TzvOY45j30tIY+QXv1vI7YTD2HGj8+BV6lPtKM4T2p9W8+3RC4PrC7pr1sd0699SvIvEYiQLy+pYM8CoYtPdSHyrsMwaG8Snu3vRrZDTyFeWI+o5a5PR8BDD5LpIU+lJEnvbGihz5WS3+8Az/sPZjvPLyJ2NG8ACoSu6neID6lw0c+xDkZvWM7BT2msFQ9L54LPdQ28T0iAWe8gJaeu2Y7Nr1vc/28uo0APaLYmD1QKXU7WJCuPXLSSbxuISK98mkrPo3ODjwpoAm+FMhovFhdFr120r08jDg7vX7dHbwuChm8M+bhveuUqryfBZE91R3iPSMuFj5ug1Q932f8PsBTVzl/Z7E+sjSlPZmtzz4mV2U+eFYmOx2T6byDVc89ulElvZFB7rxMHWW83mv7PhS05D38uEU7Q5RwPoe7mT00u9I+d8OEPh0AkD02QgG9XOUPvXB9sjrvy54+wHE8PloiX7y7vPa8S2jHvJCfTLzVBQU+bx6TPRbgaT00APU9TJ/IPRDW7j2gF1i8yAECvR+rWD65rcm94huyPamckT2sBg69Bx/avLhLFr3yb0I8aDt+PfsTjb0+EcG97pspvKjnZT7wooS6/ziNPYs/9ryYDHo91OgvvMZUvT189ne9lBhXvcp9G75iNWQ8YHMmPQHRaT4Fe4C9iBljPajScz1P6aY9NOVRvFDfCzr0NX68G635vMDRpzwdt/a94A82vEGBgT3IHpK9dIUxvXnZ/LyHwYo96RbgPXQJ3z0xMYG9uNjjugkMpT6o3gY+FiE4vXK9pbyCnjE+qscavFJLx73wwrY90B0yPQ1PMDwALZc+oEe3PVmclj6KZ5g+ZspjPfaqTz5APQs+OjKHPl77C70miBo9TKi/u+ZFMT0GXUm9PV+cPTiChrvceWO9pnVRvSmdgD6ZwxE86HI+Ppx3IjuY9427r1SrPfCYZ718540+sLctu2hZtD1Y6D68hjTaPctniT1gbM85hO41vShuAz5mM7U9hzVtPtmOQD4M/Jk9ZS6tPi+wrryCXHK82kSfPtJJPD7ZHYU+6f7VvFnuRTyWuIM9uLxDPmHlkj2UZpY9s1DoPUB+OD0b9vu8ptaKPYa+kD7I18E8+lfIPTINHr02J0k9sxW9PDTzZj3eXzu9QGNZPkkIpD33Qqs+NO9TPTpVUj6u9Kk9uVEOPWQvarxMgLs9CbhAPqYGET4IgWc+ZgoJvQTmdjxO2yY97TwWPrBkL7uXBrs9X+oQPyzu9ru0pUS8wNYhOyTRHz9aZTS91AdXvL1ktLxikUs9ZXTBvLAzgboN0f28XVSnPcCF1rqJJeS80x+VPYWgoT5yUWA+LNbyu40E3T63xME9Y9KkPQuiBz/SkRE/QN98Piq+6Tsi4hw+PIzZPvv3xLwQN5o9HoptPVj2Qr3gV1W8d5JmPkfFlz5D/9S80YeCvWJEDz3+iCI+bbVRPqxOozt6SmE9rrMzPiqbyD1pA5o9Z8mRPYA1ELsAviK5Hl3kvV307z2bQdK8Dp/cPdKsVDwVXcE9UxCGPSQqND3DiSk+FFnfPIv4mD1Maim9v6atvDbMB7zo19o+OHblur4Rqjw11oC9peXovKkWnD2I1+w9dyIVPHbLEz58W7g8ZBoLPrA5XT34+jU9nUmQPpYQ1j3kvUc9g9qJPhLjEb0Bgk4+RJoUPjE6lT1JHw8+Pw7FPtFQ7rxzPZq8RfCzvABROju2QDs91y6tvDgWB7z48vo9XvjJPRDWXT6YpBO9vBORPckb/byCW8w9npJ7Ppc0GT7M/nU90nW1PQonSD17pvg9fG/CPY3BFD6F1oI9AG4QPOzgHb2hLLW8HvNJvTJUAr3WIlE7qC/pOq9msLxpU449Zfl2PtRpej0O8Rg+gGpcPa3DNT4ODQa92Mn0OhQ2H7y2BzM+VXKTPCVrYD4fyQI90x3ZvRO7fj6A8Yo7IYWXPXyTHzzPifs9JnT2Owu8mj0KLo8+vDOFPr3IKD40wSE9UfCzvX2OsT3Yv3Y9PE5kvcA1tj7S7p287b7pvE8m4zuGFso9gIKWuy5ZMr5aN3E8OhgpPqCqdT3zZZO9yBpbPXYpDD7y/UE9JAUYPn6oszxMLCy85GNnvAJkFT7ry0Q80YWgvcBTMr0tPJK98/1RPlxGjj0GBoY+Ru0mPWj3zD7UcKG7ivogvZLoWT6WCEC9B1rPvNCNsT7icSc+17doPmuOXz6jB9Q9pm7IPd13EzwCqBa9oKUdvX49czw8c+w9xOh1vWi9DT4PuLg9PJS0PIiJWD2oLqQ7GdfBvHeetrzbk/i833r/vTT8JzyIhza82yXnPWyIbz27crs7dBFqPnrxvb3m0KE+Z+ouPh8Kpz0xisI84/uZvTR/lzw+aB+94TWjPuCJDb0mCII+XsLhvZ5znz2JvDE+jOwhvQXI9T2dqaI9gq9fvEGIMj5I9WS9XN+BPZTsTD3thvS86gY8PuZrQj2UTyI7o3v4vXogWDxNh9A9DTYFPq7sdD4KGEM96K0qPagUjz50YNk9iAySPUX9kz05AwE+lF7mPY7uNj1+rSU+ScOUPUzb5D0TWfe9MFY2OhL+BD1OUBG9NLpEvtOen7wWFWu9fBtVuxgBCrt65nk9bSGmPqKPnT0yKi095DVsPHmKm72qcJ69LMnFPBgjkbrWoZI7gMkJvVJkfz3XfYI9ZTCuvMBftT1Scfg9yOi0PhrEBD4m05I9urvYPWTbKr0lO/C8/W6xvIhNgLuGWY+7of0SPj1z/LxYPzS9fAY+vdTccjyM02+8UrMgvYEEmT1gqCU+vFotPcBZArr3kl4+XC79PSxOnD1ow8c+IzqFvbuEKT0IeIU+Yb+OPjBwxz14xzo+mA4zPk23ED6cci49AumXPmLsmzwbfuM9lfyvPSmx3D6hPyg+JYTePZDPHj5qZ4Y9M5OovXhWILwc1kc7TFu1Pmw4krsrd5o+KPPYPID/i7pPG4K9cINZuvrPED3c3iU+7klfPYGtpD1UDLg+7PlQPTW1Mz5gxVy9GoDJPS5t+D2Tv1Q+LwoGP9dj47xUPKo+bB6aPsCmrz7SeDI9KO1CPQFZwLzPdzA+e8s0PCY9S7xRHDk+E1kgPryPzj66JrM95E8pPau6wD4enR+8zsucPnC5tT44Sw8/1CIXPbRLqzz9s4o+RXu9PWamtj6APjY9TdWWvG1Oy701Mws8xmdpPVwpG7zsEHk+RsjPPawLEj0p19g9SBHsuijDQr2yvyc8bA1+PEAzeL2+fhG+IgQwvD6C0D163MA9WqbtPftikz7CDCm9GnugPtkeLz5absM97g2PPQwN8D24BeQ90/SLPdY+PT6WIBI9JEBFPp2tTD5t0Bw+MN+QvcnG5D5epDI+LuTivYMvIj3D/ng8/3m5PbwlhT3oaH28hPVbPQ79BD0Z/6U73GS2O7M75z1PBbW9ALUhPpkfCT4HLo297vNPPf8nkb3gneC71z2DPV1DCj6fKhU+BSVQPoZCF72w5Ic6t7LQvTxELL00g0S8QBAUvBQXXbwHaZE9rA8bvkZe8z6OHv89wd9BPvJb1jzuuAW943rsvIGOND5j2MK9u46xPHxivT0YBaO9vC9NvdQf8bvk+0m9UIRHPdIc0DtIk1o8G0MZPt0eHz7fhdi87ZPAvTvYIz7KOMW9PFnDu+wdaz201as+1rajPiWzwLyKzEK8M90pPoYRqDwS25k+9vksPf/SJb5srh89GVdjPnQ7MD3AU0U9XyTxPYUzrD2/6Rk/DBB0PeU1y7x3dRA8kPhku4RxwD0nyp892J+COpCKcD3Fc/A8wPl/PcGOlz0u5GA9jsxNPlApP7uiBi28+i9+PaglNr2w8te6k1hKPmxbLbv+Ldw9qKEOvcP36L1T+to8Kf0TPrOvrz0VFdc9p6X4PVjOZT0I5eM7RtPjO39SQzwUcG+9w4D7vDPbWr6QUos6VqIhPl8npb1GLyM9XU63PjpPF73+kyI90/kAPrg067uo5XC81rT4PJiGjL1OF7c9/QOePVaoGj5A32o85NhRPXCOzj2qlBS+SUr5Peublz2eLiY8GJd9PZKidDzwb/M7knOzPfhPND6sTkU7mAmbvaCeXj59SvG8stTLPJU5Ij4bUfM92PNsPU8PvD7uGV69cb4Tvsg8GD6wkhK+0RHpveK4GL34R0Q9mdMvPAHVprx9n6E8LxqTPiRj6j2Y82o9nZ/QPfaMYT5so0a8mMNnvC/6TT4kFhw8WhRQPS/YhT4szrA8brLAPWhRiz2XB1w+fVysvVy2fb3oof67AH4dPlRbjz1e/Fw+O5+svOrYjL2bScU+A3w5PsaNaz52p2Q8RjXgPfnD0LykVgU95vRiPpQ84LvyWQ29oFXCPZRuP7tDmeA9jQY/PsCWjb3kvQE9Rz3FvFnREj4QHcM61UQEPk+Ruzz0bmE9id4mPiDrRTxTx+u8DUq9PRikzbs5n5c9DUqzvR7xMD2o/te9dKuDPisO0T6MkCU9cKJ+vUjx67o+HTa8nDAEPppOU7xoWjk8l+9WPq6Cc700FMW9sHCMPlu5z7zIYjg8VGsLPQ4Web3Q50U90FYPvZmdZj5KUlw9sgYkvKrfUz1aSyo9r/zdPV4zyD28KrI9/utlPpU83b32SNg8ELMaPMw1TD21WwM+47/PPReC7D3wh6Q6WUeDPeR1Bz7vXWM+6y+2PeKkKj7hyMy9BIRpveaGCj2cCQs+D/j2O5J9Jj6Wwzs9sgBjPdrFDrzEV6o+82mSPBjCQrvl3v+87CvAPRiHSD0foDk+OAsrPp6Ad716WBO9W6gqPrBnNbv6lpC8R0XDvALDLrz8/nI9Hv6KPrpEnD64ROU+hlqzvdVsGzzj4dM9FFdhPvAccD0hhnU8rJFQu1rAVD3X3JW8fpFZPRQQbLvG5us9u+q1vIQW5T031Fk87xXPvOBwEL0v+oc+/xLQvJTtPL1UAA88lbxbPlZXUD3Xytm8KEFiu7kDVz6p5pA9BruFvdTFs7vTMOo97kN5PXtD0r2/PBI+3nn8PRKjkb3NQqY+KpXePkLqmT4Eq30+M1SiPRpRGT6wIeI+9YehPto7A7zw+Qc+1DpsPkCX2L1KLlc+vHi0vQoxZLxDnrM9QxwgPiofnD3aGhQ+q86kPh0lJTxo0hM+kvViPW4KsTyOtPc9faOmPQawUrz2CjQ9xwHFPsw3uztSCpQ7IKrCuTKbOD2wnaw+0mkdvSYIFT5+v509sevQPpl9or3+HxS9Y2rvvFL9JT0+rKW8yEuKunC/5bvxx+U8uFROPB8cljyRwx++AtsWvfat3D1pEVg+CI8YPTTSAT65Gba9dIttPe3UID4Iv6U89/TtPDQhrzz2z1Q7zddaPtvK8TyHlp4+rCL3PfzJP7vW9oE9CLjNOnx8FL2OYAg+SB2tvZjKMT7hqd+8fMUzPqjn+rsJVde8nSVmPsLqCL02vTE9EX6avS/W3bxpLn483AKrPQkeB77pB7U9LbPWvLBbuD7qHRg+/CwJvVMrpb1C94W9Sm1lPdPJNT4WV4q8A7GPPd6OWj75Xpc+shdMPYZelj19LrE7EDHSuz6N4T0H+o69FpNgvfrOPT7WTaY9mIuxukY3/j6KYJM+jqt3PgZnMb0WLxQ/DzupPZNElj10eAQ9u/YEvnTugT2vLpM+delXvvwzFj44n2Y9xbpKPrIAMr311L09CN2oPmHAID0uiWe9kB2xPFiSLT4dTeW8JBKOPBeRPr4oKj+9dQCFPYzNvbt6zCY+Z13QPaLdUjwHofY9gEIqvJJYcj5e+hQ+Iut1PXYXbj3ABJW5xsx4ve6IfT024Co+z+psPFUM9T1HdZY9wDYKua+/ATxoCS29g3HPvLXI/T0XNUQ+tvLlO48Z37z/LpQ9XKzDPm4GZz0hvri9A7ITvkHXKT4MuNY9NgXmPZRq9btbcvs9WzrovJCvLj3PMbE9QA58PX8GFj0xBEw+WvQxPSKoBL3EZQs+Jj45vauNnD7yTeQ9dp9PPVDawz1GFs89WLKJPSXpij1EooQ97uuEO3U8HTxGgo495TLFvC76ij7ur349TmITvDFFr704TrA6nDrkvasTiD135dS8XnUdPdw4cT0Iai092UMRPpx8NT3AexO7wWenPbYpOD3uPrU8nV+MvEtJUjzB/507EoIoPRgVG72y8M47kppkPcTUAj6fx5M9fZJkPudXjbwk9A4+xt6Yu+auZrzOt0o9swOxvNaR+D655+G9QjeHvHR+Uj5hbtK93qAFvqj3vT2PkP+9utZVO8r84j1KmSE9eKcEvXzkpb3lrYG8M8nRPcSOET5sbiS98l8bPCTvhz0IRhW8p5vDPZ1Twj1PEZc9fSOcvIO/oj42ofQ9SrpEPviRzTyR84M9QsfDPbyGWT3IjWa7TW4bvt47QD5qsf07PI5PPdDAMj1IY5+88bbhvH3kDj6ytDc9kh1kvFiUcLxjx8Q9FEpnPd9I8j2Wo/09MsAEvSitiT2Avnw9SkwCPcZzQrzNJ5s+GDr1PKIXTb0EeiY9MHh4PSj2jT4TcrW989HePZzlgbt40zE9cJ95PgylILxOfBC95Fs3PS6uhT35wd09ggxjvZBuUjyxCCU+6zA7PlpVNT7CRSK9p+rtvCzvTD2kap49h6IePtFrEr6otX29EnsYPg+A17yxrS4+AvhjPVHevrztQqe8KSVhPoAwbD2nYO691UevPkJIRryk3Eq9J1XBvHaxBz4Tx6g9lgbHPWva67wwjnq9LMYJPjEX7z1fYEE+kKCgPZOKDj5MKrs8Kk26PSwgUrwGuBG8Q42vPXB/pDt0AmC+EKIGPegG1jwWJ9G9nfCGPgZj6j2FP768aGRxPWylr7tqmVe9VnfbPYZmdz1dXQ2+nTWZPXTURTsYnea91+VTPm5ctD6AvZ89IZOtPO7nJ710QXS8/oREPbHBMj6C8e096lGzPmJu3j4iAna99RYjPcLZVD0xjPW9yVfEPRg7r72zadO8hpo9PaO3rbywVTg+WEEVvMuR7z2Jq1Q+3IeJPV5iCz3COIQ+znx1PRls0j2gQG07kDhIvc0I5D6AJoC7oB2GPW7tlz1xhhc+viBwPZHL6j3MpGi9MWOqvNqDAz3vwYw+bpm1PcHmlLypByM+XI8xvfz1hT03iKO8HNG0PJsI3rxy9VK8FL1zu4Bd7z1KToC96uO4PcEWMz6yEV29/Afbu4YM4zwzBZk9BIgnPvzJsjvJnyU+aoNFPTb+8DvIjbe7Bij/O1ImhD0QKPK76YG/PTEfr70YdtW6Hmp6PdcatDwSmxa9hI1fPY8Syz773Ze9F63SvclxVT6fhPG9HHNbPS13VD4k2FE9IpiEu4AboTm0OIE9USujPkyYRT0PrIE9eRQLPqnMgzyU5Iw9bPcDPIbaXT1Cjsk9UmU8Pu/eHj5z4GA+iL54vZZ6Nzwicmg98dbZvFpMjj5mqLy9jVUcvvl33j1AxDG8dXXgvRX8vry+F9E9s42JPT+6kj6MlxE+4dQtPhRXjj4G8ZK9Iz6lPUgRXj4gQku8tl4EPnPL7b1U0ZU9+bB8PorPCT4Aoe07VWx9PBrERj6gEVM7pEKNvZQ0LDyrzey8ggmavChrNz6wMoO9k4GWvTS3Uj6Nsd09cCaQPkD7Sz5Ni+C8droBPVDWAz60oF890+LPPKQXCD7/JjA+7TiovAK3aj2nnAI+MAxqvQqEJD7Hnvi9sIuNPq8/tbx7xSM/XUeBvMVWhL0CjE693jUovYXf6j2s/Jo9e898Pqj+sr0yd6g9si2yPt4OS7wAKeA4ptriPUgiQL10SGs8eCOhPEogKrzZGTU+he6OPbHGvL1M4Ag+J66dPtjy/j2g2Xe9pW2RPZzXLj2c3TU9ZjF9vRem9T0/bf88O2LtPe4gbL2Hpqo9fIsHPpOQyTueshI8XjPjPWP9sj0sX6C7CbXpPAW+6rypvaq9M8cfPou3oz6x/NO9R7q5PmZeAj10mI88aTKKPew9Pj1KBqQ9jpl/vHouQb0oi0i9r6W2Pb73cD3G3MA8xuNJPVNKDz5YDSg9VmQfvWBaAjqAefQ7FtU/PUDGQj34gUE9zCiDPmpqh713h1Y+Mkh+PRt8kD6jeOQ9J5gdPaEyl7zYEaC7ehgPPrw5Cr2qTwk+pIe6vQq3gT6oHd88hZEDPumRgLz7V6k9rHGwPVX7wjxmVYi8plDnO5HWwT7NEo29G/ffPhR8gD05BbY9TpEOvWGnrT0PUYO93Namu2QaVD2daQg+HNe+PSmi2TsZCmE+4WcZPj6Rar3/6ag+7L59uwBfTD6pw7k+Bo6LPqKlDD7udnE95F3GPYYJ0714cPy7pukEPZyccr14+YA9IbHTvCqeMj7em9g8ik22PW1hRTwjTro+15U6vuD/fz0J1Wg8Xr5LPnajcD1zt6Y91xfPPhDcHb3p8hw+koiau8KrJb0Vz8o7aGVBPjWwFT6wzIe8K5IAPmyAyD2opHQ9SbmNvZd56z2Ej1C9CfSKvRQ5sT4EoQG+Jo9ePZBJQD50Dwk+6KssuzAn0D2qqQ8+G42EvGos1j00kig+AEVFuGQKGz7qmYg92l8xPYTAGTy2hWA+kG0vPLxh7DyhzlM8yvtOvS6kEL2yiEs93BS/u9wErzzAklA+BOQRO64pmr2qmYg+tppNPWgeG709rxY9aBEOPBMA4z6tSQC+KrgYvUagXz1iEDK9YMa4u75Nhr0OsIu9ecQDvtFcAj6Eyog9X+48PsHlpryHGNc+83JCPnB8w7pt+8g9tXy/PfEx9byG0Lc9zLfJPFP9ET6sK6A99rTNvRLYJ722n4w+sgchvZjf77sIJkA97h27POaiGD4bOaI9RUSrvJyDwz4OE1k+NECrPRK1Hrz1ZKy8jBzOu2QLMb4k/GI+zs1lPrQjuDwoMFI+YgIuPSLVVj2JyGA+AKZiveFwqD5v7TE85ws5PBEaDT1F5Ae+2BTAPXy3pb3QFCk++72HPaTbnD5Schk+CWyJvJS2Lj3ULHS8iKQGPhTJBjzlrxc+JI2KvbdBNb4Yuxs+b6++PXWbIz5Dwf699KtyPUwOFD325Ay+ZJjZu4izCDvnqw++cmiLPGCzBr0rJlk+x3nDvGLNh7xaeFw8mLk1vWk/5Ly4E6I9Q4WPvfL+ETymO109xJEyPiER3z7L/xS+RupNPTi4Qz3EH/E9G00HPcKTmLy7CuC8yFkEPOpGRTyiulY95++uvF5UR76UhM49kiw8PDmnGT6A0Qo6kqRYvfDIEj7VPui8vio/vQb8BTxHAdO8iShRPt/I/7xao/I9gFGdvBOPuT18u7E+xoddvWtrRT5AqAk9zXCGPpA1wL0Y5Jg+Y0nAPPAcbj1X1WA+Vm5kPRn/PD7ftNg7m7wjPgqmdz0FdA49jLCbPrjdrjxNKpI9UliMPrvuVr7ndCU+EZymPt3hED7G1tc++xvvvNsGhz4Vspk9hv87vdYEQz2qdWs+mZACPrmyhz6/oK0+WYj2va8wqT0ephg8yaWYvd5zGD4WqHg+EJqSPogMQj37VIy9+4zrvfG9iT1HXDI+tQtgPrDQxLs2k3Y9kueQvAUj2ryUvNY9UYUdPvLxjzuV+x09C0XnPie8ZT7a6HI9jkV4PaCGP73erY28WFyUPUQ6G71bn629dhktPmpMWT4vLeO8A53zvd5zpbxfyfs9glanPiqlTj3/2po+Ts24Pq1uOz7trHM+tpCPPb4QwjxKwJq87auUPSqxfT2kFwc+PujQPRhkNT5+5U47N0GHPYo7Dj6/zBY8WfiuvBcSzj1033i9l0umve2anr0QTtA+N1eZvaiy1L3rFRs+UbSbPZWZ7D0syY+8+gQSvggNWjwkq7E+v5yfvbSNCL2AcF09xFs3PU54JrxO34c+PLqKPY2/v739eUM+Wt0WvcRXCDv+/1c9WC4TvRRGZ738oki8ACByvO4pb70gkUi9EP0BPkggPT23I8A+BHy9O1V6nz2oRy47Td2MvUgZXD0xyNg9zNvjPeaDVz6c9Wu9Doa3PBx4WT5+stc9ENufPC6LX71om3c9VLuSPrwKw70s9mg91PuxPeqGaDxQr2m6gDvKOtDX07uJz6087oFRvZDIobyUDQK+XUHxPaJj4T2tPF4+GBI8Pa7/Tj6SK2A7/cKrPd3S1b0hPHE8QzaxPgCfZj2kGhg9l07RvT1kUD7ifF69ACEyvF08mz7kjgM+elnBPb6sbT0j1iA8LAdBO9mO+L2u/YE9zYFRPluZEj44nF89zlfmPPy3AD2KY6w7lmQavV2zAT98w7O7QJLnucV2yr1oGZS9uOIPPg9KoryPCWw8lGQ6vjK8uT0LNcE9Z4VRPLdVhT72t6u9Y/OHvIaNNb0EnGg92DRkuxaHOj4nFqi8p1SfPX97pr097te8CJh2PCwS1Ls6Jxw8WpxyPaBLX73TfR88qcSxPd2Nn7zDUKs9IO/PuQDjpL3MEyQ91v9SPRRHAr52o3i83EEEPmrazD3PfoE9FfL/vLh/DT1EDSs+3qICPhjeFL4DD0w+egZQPKZGjL0I2Zk8QROQPTJQ5z2mxXE9VU6EPQmzmjz+uO87vgJNvT87FT57HuO8Xkl6PQJUjz407r+7xm5wPKiwujx4LnY882pjPg0xMz5G1Vw90huRuwU2pz45DtU915+HvbmI67wdAAk+H2IJvg0HEj6Sp5g+wOwFPVkaMT7HDeU+VrLjPdogDz7QdQe95k1lPU2+FD4ymI87E4E1PGhLZD2+Jk8+e+8GPrQbMT7X8t49sAVrPdpEILyOy7w9/1XaPifQgD78ZU49IKQFvTIvfz3p9kQ+vXy1PV3huLwq/UQ+cQVkPsCvj7y3+/68eJazPaVujj7TGP68Uxi3vMeNhT6r/iU+ahkYPsWuEj5KpFa9T5VWPvCNYD7EVnc9WZjEPrVyubz0+2U9sYxPPnkmprzdmCA+pBa2u64RJD53Flk+pylzPvMUxz0hXOi85OCOPXrDJL0PwPm8PjbjPHyiqD3jcMO8eL4hPD5PQz42zho+zGt4Poeq7D35vRW+kOQQPXhoGD6e8q4+4mpWPTMbgbw3Zrm8AGiWNxdvizzalGS9M4oCP2tCiTwP5dI9qY2APcTKoz1QvSu7emknPBFMmz106L8+9MsDvQAKZD2Gbkq9gGV/vX7uTT0ewy0+bYuDPlAagbq64Ic+SjRjvYkyGzyc4SY+LTq7Pc70+Tz6MJs8kmNVvNW1HD5q00u8BZ2RPaIdfb26bBc+7bnMvSnt/jz2pIc+pGxMPXId1b0Qw4w+EnIjvM5DnjzSt129ycFdPmmFYT5ricW9qKfbOg6VU70oJOW6Nr6YPK+N3T5soSg+6CiEvKy6YT3Ury29r7MiPkgRPr06nDQ8tNHsPdaNJL2p+1g+nAoVvcM6mb1EZpI9Diu/vb/ILz6hWoQ+ti1yvbXniz0sgSS8GJKSPDwmcD14aXI8cO67ukr4VD02AOs8uBUpPKTSYr2iygw9xY5nPuwdmj49xek8to8jvf+mUjyA0h46nYYhPtkkNT5JP1y+0VSDPZEQlT1cuN09rqqRPkrlBLwlUQk9fyDKvQqrmL2qaII80RC7vATAGb1DhN093UYavnmgur0s/mG88H+zPss5Oj7SgZ09WUuTvDmwFT6wWwA+MKYTvCVOgb0o/By9gEIePgJRRD7yUuI9FJQjPdd+vD1Ll9m94BxBvUblCT3j/RA8L40JPiY1az2w9ju+Uf4gPmkMvjuOs1i91OO+PQQds7uVFZc9hPNcPf5xIL0khcM9e5c0vitikj7bd/K902lKvlKyqj3TU+s9WMoOPRbhtr0QPx+9oDpvvNpqWb3pCva8anjFPNYL5TuUTjK9Xb2VvLxJwj3kNU09NK1QPaPKBz5aVEy9kipOPUNPWD6+FY8+zJ5dveX5172aThE9kF2zPWJzsL2E54i87KsHvmaHYD2WJX+9VHDMPuOOzj2u8Du9wu1sPqTXGT5lBYQ+3kccvWuvs7ytGKc9FO4PPn5CPL3UwT49gAwVvTSdFDypfbO8LWauvUTR4r3yJ4a7wFVQPoyuSb0j9Cs+ImovPKjDSLsnCoA92q5kPbydnT7uJ9g9cecGvs4EQj3yHkI9gCBEPaaBfD1KvwS9qBK4PrJ30TxNbg0/nsYaPjEUzzsC9KA8xQfPPrFiXzwUops+PnihPN1RLzzHkIs+YvKMPaxftD3CEVs9ChgwPXIiD7w080o+nM+xPK4ygj18sk8+dFYLvAXqoD4AJ2o62MVBvYChkj3kSm+91Ct2vK5nGj3obGE93TkCPoyg8Tw7YgI+LtjcPh9/oj3jkLA9cVvLvUhAoDuhwAC+YcH0vRBBl7ve6C2+Ty/YPkZXI727IAQ+/YnyPT5UZz3Ag2W9RlkxPtgJNbsCvQK82cyaPhiqjz6Y1409+jkFPkQMub1NhRK+p87evRjwVrvgHTY7klEyPbmufT4Spos8yG8yPi2LkD7+Wb8+wDsgvF5AhD2SaZo9HIFlPQOjrT7bU40+cnw3Po6NtD4yc149/oovPCG3aT6AdbO5unFMPkfLiT30BAi9rBYDvYfidj6d0cI9jgJMvODBQro8loA+YGkzulT1qj4Abns6bIDVPW/2Sj6kowW+HdwwPs3/OT5KuR8+xmzqPZkoirzO/IO9qpUwvXddZz7Yx3K9ZT8BPphkob08eAA/LhsNPaaoyT2YRVY+FFypPWikOT20UpM+nCwVvVaECz4kAxi7gO+tuXt+8b1gLnk95bm3Pd9EvLz89RK95GhyPU0p/j2ilv882aqjO05jKTyOdpc7EP4hPkt1zz591oe9NiqOPWSObDzdy5g+6y+QvNY7dL07Ce89YK23vTRvjT7WTZ48C4IjPTW7xz3QDTY8sefXPagJJr1A6xQ9hzAuPCi1PD3lZMa8QNo2vmaAqT65ity9l82JvIPy5LxGR0C9oCJhvc3EKD1vm7M9IDYrvg/vFD4WczA8IuAlvSXO2j1tTMA+s5jVvSUoEb5p8I4+ouTGPXh72bv0ewI+kG1KuwjNhD64WtM8DD6/PUmgz72uNg88MMqfusyhH7vcMMW7e0fCvBXQLT63nWs+N2GuvThkGrsA6ZY+nmxpPSxtKT4Mi1C7yQXwvUGpar57iA++qDSyOrzhpj4gMlU9VLT7PRAnRT7WPzM9oNtOOvwqzj0WMFC9WAlCPZGZkrzguUS7EOZcvrhlZ71UgcQ9xk40PeT2Vj2owI096FYxu7j0jT09DfI9lVivPUj5XbwTrZS9gdWBvdVMqj7zjlg+dJBrPWMUkz5LmwS+1lP0PaRiqj2A8nu5YLQFug0rtTuFJyQ+m75pPh5YAT97VeQ+yNcIPYAoBz+CEjK+jlQ+vFPdDT42CkS+wDGhveSnar0NUu69TJ4TPlI8LD1TG9w9enRFveUAIzyKAOM8WJdcPpEkij6M+W89m2saPtlUHT7yzC0+5D5IPTA7Ab12kxu+vwzCveISRb1+AGK8xMZnvcp0fjt1Ag4+grjHPF32sj7xZh8+zolGPYpRCD6ct3s+kssevW6HaD3uZUi8OcwyPkSldj5CU2I9xjM6Ptb7fr00Gkw9PrTLPivOZj6gORs+EgIlPrY7pb3X46M9r4y9vKGwmDweVgM+UQDfPKI7ST2u8rM9wNumPorKhb33RO497EGNPqNplT0eFgk+1werPRVyNT4LSTE+3N0GPb7THz2uEjo+XxCTPRSzyrt18MC8Cm6pPK7aBL6oioe8M2gUvlDrFj3XWrc+icA8PlpkPjy+jI69sXwePp42QT2m2Qs+AHFAu7AvX70uqhS9esoPvSTIRLvAMAY/EzjYvbU0BD8AM5w8TNy+PIRnCD5AX5Q9ala+PZqSYj0u4zA9sFHcPV5QgD5dDRY+kyprPgyjNj3GNFY9Y4/qPiKoFD2QLG29vKbIPjJ1Cj7EDHc+IJVBvdSTRD7z2gU+/ri6vYWt2D6SedA9+qssPiICCr2yc5g9gLwXPUvGWD7gOhk9rOABPtNjWj5hOgc+Bb7rPbE++DysPWe9ktljPcE0VD5ixxI9r18WPVnoxbyAvjm8P9zpPaD3tz3BdlY+NwBUPCYHmz3uR349atEFPmqS8z1kbzs9djEPvo4iUT4Ljss9m0vdPFEJ8T0subg89Xv3PaClsj7lqpg+swyLPoU+BT5tAiI+5weoPqPgGT27ejk+rb4EPb9ilD3TqxI/K5/NvLGm673AdF699v60vQRQMjxb79U77flFPtF7FL6g1jm9dBZOPiTsAL13vM68NDMePfhlrjyziq4+GL9gPsSQ1T3aW4E9RyqFvStXhTuAp226nCb9O8SkTT4qCGq9cZAePiG5nD2lll8+q40IPogJ+z3mtrc9BoqHPXwG0j0Yf6o80VsqPpQEsT5OkXc+Ow7TPaJ5nj3toEk+j6frPfIHWj1Grj0+qoMBPRlvqz2LuLw99Gs/O3C/G704V5W6/KUKPNJSDbzx/xk9hFO5PSYZgD3qWF+9EB62PJ91ybzNjf08WphLvQB2Sz0XMgM8XLnHPA84bz78SjE9VksvvTyaObyCpQ68hIJzu2Fe5byKiC69Lt46vQCo0DpAzZq6bOGbPRhr8buNcBk+2MGWvQ==",
          "dtype": "f4"
         },
         "xaxis": "x",
         "yaxis": "y"
        },
        {
         "bingroup": "x",
         "hovertemplate": "variable=9<br>value=%{x}<br>count=%{y}<extra></extra>",
         "legendgroup": "9",
         "marker": {
          "color": "#FECB52",
          "pattern": {
           "shape": ""
          }
         },
         "name": "9",
         "orientation": "v",
         "showlegend": true,
         "type": "histogram",
         "x": {
          "bdata": "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",
          "dtype": "f4"
         },
         "xaxis": "x",
         "yaxis": "y"
        }
       ],
       "layout": {
        "barmode": "relative",
        "legend": {
         "title": {
          "text": "variable"
         },
         "tracegroupgap": 0
        },
        "margin": {
         "t": 60
        },
        "template": {
         "data": {
          "bar": [
           {
            "error_x": {
             "color": "#2a3f5f"
            },
            "error_y": {
             "color": "#2a3f5f"
            },
            "marker": {
             "line": {
              "color": "#E5ECF6",
              "width": 0.5
             },
             "pattern": {
              "fillmode": "overlay",
              "size": 10,
              "solidity": 0.2
             }
            },
            "type": "bar"
           }
          ],
          "barpolar": [
           {
            "marker": {
             "line": {
              "color": "#E5ECF6",
              "width": 0.5
             },
             "pattern": {
              "fillmode": "overlay",
              "size": 10,
              "solidity": 0.2
             }
            },
            "type": "barpolar"
           }
          ],
          "carpet": [
           {
            "aaxis": {
             "endlinecolor": "#2a3f5f",
             "gridcolor": "white",
             "linecolor": "white",
             "minorgridcolor": "white",
             "startlinecolor": "#2a3f5f"
            },
            "baxis": {
             "endlinecolor": "#2a3f5f",
             "gridcolor": "white",
             "linecolor": "white",
             "minorgridcolor": "white",
             "startlinecolor": "#2a3f5f"
            },
            "type": "carpet"
           }
          ],
          "choropleth": [
           {
            "colorbar": {
             "outlinewidth": 0,
             "ticks": ""
            },
            "type": "choropleth"
           }
          ],
          "contour": [
           {
            "colorbar": {
             "outlinewidth": 0,
             "ticks": ""
            },
            "colorscale": [
             [
              0,
              "#0d0887"
             ],
             [
              0.1111111111111111,
              "#46039f"
             ],
             [
              0.2222222222222222,
              "#7201a8"
             ],
             [
              0.3333333333333333,
              "#9c179e"
             ],
             [
              0.4444444444444444,
              "#bd3786"
             ],
             [
              0.5555555555555556,
              "#d8576b"
             ],
             [
              0.6666666666666666,
              "#ed7953"
             ],
             [
              0.7777777777777778,
              "#fb9f3a"
             ],
             [
              0.8888888888888888,
              "#fdca26"
             ],
             [
              1,
              "#f0f921"
             ]
            ],
            "type": "contour"
           }
          ],
          "contourcarpet": [
           {
            "colorbar": {
             "outlinewidth": 0,
             "ticks": ""
            },
            "type": "contourcarpet"
           }
          ],
          "heatmap": [
           {
            "colorbar": {
             "outlinewidth": 0,
             "ticks": ""
            },
            "colorscale": [
             [
              0,
              "#0d0887"
             ],
             [
              0.1111111111111111,
              "#46039f"
             ],
             [
              0.2222222222222222,
              "#7201a8"
             ],
             [
              0.3333333333333333,
              "#9c179e"
             ],
             [
              0.4444444444444444,
              "#bd3786"
             ],
             [
              0.5555555555555556,
              "#d8576b"
             ],
             [
              0.6666666666666666,
              "#ed7953"
             ],
             [
              0.7777777777777778,
              "#fb9f3a"
             ],
             [
              0.8888888888888888,
              "#fdca26"
             ],
             [
              1,
              "#f0f921"
             ]
            ],
            "type": "heatmap"
           }
          ],
          "histogram": [
           {
            "marker": {
             "pattern": {
              "fillmode": "overlay",
              "size": 10,
              "solidity": 0.2
             }
            },
            "type": "histogram"
           }
          ],
          "histogram2d": [
           {
            "colorbar": {
             "outlinewidth": 0,
             "ticks": ""
            },
            "colorscale": [
             [
              0,
              "#0d0887"
             ],
             [
              0.1111111111111111,
              "#46039f"
             ],
             [
              0.2222222222222222,
              "#7201a8"
             ],
             [
              0.3333333333333333,
              "#9c179e"
             ],
             [
              0.4444444444444444,
              "#bd3786"
             ],
             [
              0.5555555555555556,
              "#d8576b"
             ],
             [
              0.6666666666666666,
              "#ed7953"
             ],
             [
              0.7777777777777778,
              "#fb9f3a"
             ],
             [
              0.8888888888888888,
              "#fdca26"
             ],
             [
              1,
              "#f0f921"
             ]
            ],
            "type": "histogram2d"
           }
          ],
          "histogram2dcontour": [
           {
            "colorbar": {
             "outlinewidth": 0,
             "ticks": ""
            },
            "colorscale": [
             [
              0,
              "#0d0887"
             ],
             [
              0.1111111111111111,
              "#46039f"
             ],
             [
              0.2222222222222222,
              "#7201a8"
             ],
             [
              0.3333333333333333,
              "#9c179e"
             ],
             [
              0.4444444444444444,
              "#bd3786"
             ],
             [
              0.5555555555555556,
              "#d8576b"
             ],
             [
              0.6666666666666666,
              "#ed7953"
             ],
             [
              0.7777777777777778,
              "#fb9f3a"
             ],
             [
              0.8888888888888888,
              "#fdca26"
             ],
             [
              1,
              "#f0f921"
             ]
            ],
            "type": "histogram2dcontour"
           }
          ],
          "mesh3d": [
           {
            "colorbar": {
             "outlinewidth": 0,
             "ticks": ""
            },
            "type": "mesh3d"
           }
          ],
          "parcoords": [
           {
            "line": {
             "colorbar": {
              "outlinewidth": 0,
              "ticks": ""
             }
            },
            "type": "parcoords"
           }
          ],
          "pie": [
           {
            "automargin": true,
            "type": "pie"
           }
          ],
          "scatter": [
           {
            "fillpattern": {
             "fillmode": "overlay",
             "size": 10,
             "solidity": 0.2
            },
            "type": "scatter"
           }
          ],
          "scatter3d": [
           {
            "line": {
             "colorbar": {
              "outlinewidth": 0,
              "ticks": ""
             }
            },
            "marker": {
             "colorbar": {
              "outlinewidth": 0,
              "ticks": ""
             }
            },
            "type": "scatter3d"
           }
          ],
          "scattercarpet": [
           {
            "marker": {
             "colorbar": {
              "outlinewidth": 0,
              "ticks": ""
             }
            },
            "type": "scattercarpet"
           }
          ],
          "scattergeo": [
           {
            "marker": {
             "colorbar": {
              "outlinewidth": 0,
              "ticks": ""
             }
            },
            "type": "scattergeo"
           }
          ],
          "scattergl": [
           {
            "marker": {
             "colorbar": {
              "outlinewidth": 0,
              "ticks": ""
             }
            },
            "type": "scattergl"
           }
          ],
          "scattermap": [
           {
            "marker": {
             "colorbar": {
              "outlinewidth": 0,
              "ticks": ""
             }
            },
            "type": "scattermap"
           }
          ],
          "scattermapbox": [
           {
            "marker": {
             "colorbar": {
              "outlinewidth": 0,
              "ticks": ""
             }
            },
            "type": "scattermapbox"
           }
          ],
          "scatterpolar": [
           {
            "marker": {
             "colorbar": {
              "outlinewidth": 0,
              "ticks": ""
             }
            },
            "type": "scatterpolar"
           }
          ],
          "scatterpolargl": [
           {
            "marker": {
             "colorbar": {
              "outlinewidth": 0,
              "ticks": ""
             }
            },
            "type": "scatterpolargl"
           }
          ],
          "scatterternary": [
           {
            "marker": {
             "colorbar": {
              "outlinewidth": 0,
              "ticks": ""
             }
            },
            "type": "scatterternary"
           }
          ],
          "surface": [
           {
            "colorbar": {
             "outlinewidth": 0,
             "ticks": ""
            },
            "colorscale": [
             [
              0,
              "#0d0887"
             ],
             [
              0.1111111111111111,
              "#46039f"
             ],
             [
              0.2222222222222222,
              "#7201a8"
             ],
             [
              0.3333333333333333,
              "#9c179e"
             ],
             [
              0.4444444444444444,
              "#bd3786"
             ],
             [
              0.5555555555555556,
              "#d8576b"
             ],
             [
              0.6666666666666666,
              "#ed7953"
             ],
             [
              0.7777777777777778,
              "#fb9f3a"
             ],
             [
              0.8888888888888888,
              "#fdca26"
             ],
             [
              1,
              "#f0f921"
             ]
            ],
            "type": "surface"
           }
          ],
          "table": [
           {
            "cells": {
             "fill": {
              "color": "#EBF0F8"
             },
             "line": {
              "color": "white"
             }
            },
            "header": {
             "fill": {
              "color": "#C8D4E3"
             },
             "line": {
              "color": "white"
             }
            },
            "type": "table"
           }
          ]
         },
         "layout": {
          "annotationdefaults": {
           "arrowcolor": "#2a3f5f",
           "arrowhead": 0,
           "arrowwidth": 1
          },
          "autotypenumbers": "strict",
          "coloraxis": {
           "colorbar": {
            "outlinewidth": 0,
            "ticks": ""
           }
          },
          "colorscale": {
           "diverging": [
            [
             0,
             "#8e0152"
            ],
            [
             0.1,
             "#c51b7d"
            ],
            [
             0.2,
             "#de77ae"
            ],
            [
             0.3,
             "#f1b6da"
            ],
            [
             0.4,
             "#fde0ef"
            ],
            [
             0.5,
             "#f7f7f7"
            ],
            [
             0.6,
             "#e6f5d0"
            ],
            [
             0.7,
             "#b8e186"
            ],
            [
             0.8,
             "#7fbc41"
            ],
            [
             0.9,
             "#4d9221"
            ],
            [
             1,
             "#276419"
            ]
           ],
           "sequential": [
            [
             0,
             "#0d0887"
            ],
            [
             0.1111111111111111,
             "#46039f"
            ],
            [
             0.2222222222222222,
             "#7201a8"
            ],
            [
             0.3333333333333333,
             "#9c179e"
            ],
            [
             0.4444444444444444,
             "#bd3786"
            ],
            [
             0.5555555555555556,
             "#d8576b"
            ],
            [
             0.6666666666666666,
             "#ed7953"
            ],
            [
             0.7777777777777778,
             "#fb9f3a"
            ],
            [
             0.8888888888888888,
             "#fdca26"
            ],
            [
             1,
             "#f0f921"
            ]
           ],
           "sequentialminus": [
            [
             0,
             "#0d0887"
            ],
            [
             0.1111111111111111,
             "#46039f"
            ],
            [
             0.2222222222222222,
             "#7201a8"
            ],
            [
             0.3333333333333333,
             "#9c179e"
            ],
            [
             0.4444444444444444,
             "#bd3786"
            ],
            [
             0.5555555555555556,
             "#d8576b"
            ],
            [
             0.6666666666666666,
             "#ed7953"
            ],
            [
             0.7777777777777778,
             "#fb9f3a"
            ],
            [
             0.8888888888888888,
             "#fdca26"
            ],
            [
             1,
             "#f0f921"
            ]
           ]
          },
          "colorway": [
           "#636efa",
           "#EF553B",
           "#00cc96",
           "#ab63fa",
           "#FFA15A",
           "#19d3f3",
           "#FF6692",
           "#B6E880",
           "#FF97FF",
           "#FECB52"
          ],
          "font": {
           "color": "#2a3f5f"
          },
          "geo": {
           "bgcolor": "white",
           "lakecolor": "white",
           "landcolor": "#E5ECF6",
           "showlakes": true,
           "showland": true,
           "subunitcolor": "white"
          },
          "hoverlabel": {
           "align": "left"
          },
          "hovermode": "closest",
          "mapbox": {
           "style": "light"
          },
          "paper_bgcolor": "white",
          "plot_bgcolor": "#E5ECF6",
          "polar": {
           "angularaxis": {
            "gridcolor": "white",
            "linecolor": "white",
            "ticks": ""
           },
           "bgcolor": "#E5ECF6",
           "radialaxis": {
            "gridcolor": "white",
            "linecolor": "white",
            "ticks": ""
           }
          },
          "scene": {
           "xaxis": {
            "backgroundcolor": "#E5ECF6",
            "gridcolor": "white",
            "gridwidth": 2,
            "linecolor": "white",
            "showbackground": true,
            "ticks": "",
            "zerolinecolor": "white"
           },
           "yaxis": {
            "backgroundcolor": "#E5ECF6",
            "gridcolor": "white",
            "gridwidth": 2,
            "linecolor": "white",
            "showbackground": true,
            "ticks": "",
            "zerolinecolor": "white"
           },
           "zaxis": {
            "backgroundcolor": "#E5ECF6",
            "gridcolor": "white",
            "gridwidth": 2,
            "linecolor": "white",
            "showbackground": true,
            "ticks": "",
            "zerolinecolor": "white"
           }
          },
          "shapedefaults": {
           "line": {
            "color": "#2a3f5f"
           }
          },
          "ternary": {
           "aaxis": {
            "gridcolor": "white",
            "linecolor": "white",
            "ticks": ""
           },
           "baxis": {
            "gridcolor": "white",
            "linecolor": "white",
            "ticks": ""
           },
           "bgcolor": "#E5ECF6",
           "caxis": {
            "gridcolor": "white",
            "linecolor": "white",
            "ticks": ""
           }
          },
          "title": {
           "x": 0.05
          },
          "xaxis": {
           "automargin": true,
           "gridcolor": "white",
           "linecolor": "white",
           "ticks": "",
           "title": {
            "standoff": 15
           },
           "zerolinecolor": "white",
           "zerolinewidth": 2
          },
          "yaxis": {
           "automargin": true,
           "gridcolor": "white",
           "linecolor": "white",
           "ticks": "",
           "title": {
            "standoff": 15
           },
           "zerolinecolor": "white",
           "zerolinewidth": 2
          }
         }
        },
        "xaxis": {
         "anchor": "y",
         "domain": [
          0,
          1
         ],
         "title": {
          "text": "value"
         }
        },
        "yaxis": {
         "anchor": "x",
         "domain": [
          0,
          1
         ],
         "title": {
          "text": "count"
         }
        }
       }
      }
     },
     "metadata": {},
     "output_type": "display_data"
    }
   ],
   "source": [
    "movie_matrix_encoded_df.hist(backend=\"plotly\")"
   ]
  },
  {
   "cell_type": "code",
   "execution_count": 26,
   "id": "AjVT",
   "metadata": {},
   "outputs": [
    {
     "data": {
      "text/plain": [
       "array([-0.41536108, -0.23976503, -0.02913168, -0.1255222 , -0.35692334,\n",
       "       -0.1726136 ,  0.01191295, -0.3329451 , -0.03869736,  0.11631032],\n",
       "      dtype=float32)"
      ]
     },
     "execution_count": 26,
     "metadata": {},
     "output_type": "execute_result"
    }
   ],
   "source": [
    "movie_matrix_encoded_df.loc[1,:].values"
   ]
  },
  {
   "cell_type": "code",
   "execution_count": 27,
   "id": "pHFh",
   "metadata": {},
   "outputs": [
    {
     "data": {
      "text/html": [
       "<div>\n",
       "<style scoped>\n",
       "    .dataframe tbody tr th:only-of-type {\n",
       "        vertical-align: middle;\n",
       "    }\n",
       "\n",
       "    .dataframe tbody tr th {\n",
       "        vertical-align: top;\n",
       "    }\n",
       "\n",
       "    .dataframe thead th {\n",
       "        text-align: right;\n",
       "    }\n",
       "</style>\n",
       "<table border=\"1\" class=\"dataframe\">\n",
       "  <thead>\n",
       "    <tr style=\"text-align: right;\">\n",
       "      <th></th>\n",
       "      <th>0</th>\n",
       "      <th>1</th>\n",
       "      <th>2</th>\n",
       "      <th>3</th>\n",
       "      <th>4</th>\n",
       "      <th>5</th>\n",
       "      <th>6</th>\n",
       "      <th>7</th>\n",
       "      <th>8</th>\n",
       "      <th>9</th>\n",
       "    </tr>\n",
       "  </thead>\n",
       "  <tbody>\n",
       "    <tr>\n",
       "      <th>1</th>\n",
       "      <td>-0.415361</td>\n",
       "      <td>-0.239765</td>\n",
       "      <td>-0.029132</td>\n",
       "      <td>-0.125522</td>\n",
       "      <td>-0.356923</td>\n",
       "      <td>-0.172614</td>\n",
       "      <td>0.011913</td>\n",
       "      <td>-0.332945</td>\n",
       "      <td>-0.038697</td>\n",
       "      <td>0.116310</td>\n",
       "    </tr>\n",
       "    <tr>\n",
       "      <th>2</th>\n",
       "      <td>-0.342941</td>\n",
       "      <td>-0.214567</td>\n",
       "      <td>-0.042160</td>\n",
       "      <td>-0.120707</td>\n",
       "      <td>-0.326535</td>\n",
       "      <td>-0.147327</td>\n",
       "      <td>0.024373</td>\n",
       "      <td>-0.306981</td>\n",
       "      <td>-0.060213</td>\n",
       "      <td>0.131139</td>\n",
       "    </tr>\n",
       "    <tr>\n",
       "      <th>3</th>\n",
       "      <td>-0.055752</td>\n",
       "      <td>-0.070928</td>\n",
       "      <td>-0.006951</td>\n",
       "      <td>-0.008342</td>\n",
       "      <td>-0.089737</td>\n",
       "      <td>-0.025962</td>\n",
       "      <td>-0.008758</td>\n",
       "      <td>-0.094501</td>\n",
       "      <td>0.000480</td>\n",
       "      <td>0.038988</td>\n",
       "    </tr>\n",
       "    <tr>\n",
       "      <th>4</th>\n",
       "      <td>0.002037</td>\n",
       "      <td>-0.042802</td>\n",
       "      <td>0.003016</td>\n",
       "      <td>0.020013</td>\n",
       "      <td>-0.034208</td>\n",
       "      <td>-0.001054</td>\n",
       "      <td>-0.020325</td>\n",
       "      <td>-0.043630</td>\n",
       "      <td>0.026590</td>\n",
       "      <td>0.007546</td>\n",
       "    </tr>\n",
       "    <tr>\n",
       "      <th>5</th>\n",
       "      <td>-0.064242</td>\n",
       "      <td>-0.075144</td>\n",
       "      <td>-0.008613</td>\n",
       "      <td>-0.012858</td>\n",
       "      <td>-0.098521</td>\n",
       "      <td>-0.029499</td>\n",
       "      <td>-0.007473</td>\n",
       "      <td>-0.102096</td>\n",
       "      <td>-0.003088</td>\n",
       "      <td>0.043254</td>\n",
       "    </tr>\n",
       "    <tr>\n",
       "      <th>...</th>\n",
       "      <td>...</td>\n",
       "      <td>...</td>\n",
       "      <td>...</td>\n",
       "      <td>...</td>\n",
       "      <td>...</td>\n",
       "      <td>...</td>\n",
       "      <td>...</td>\n",
       "      <td>...</td>\n",
       "      <td>...</td>\n",
       "      <td>...</td>\n",
       "    </tr>\n",
       "    <tr>\n",
       "      <th>130578</th>\n",
       "      <td>-0.062949</td>\n",
       "      <td>-0.074159</td>\n",
       "      <td>-0.007753</td>\n",
       "      <td>-0.011596</td>\n",
       "      <td>-0.095920</td>\n",
       "      <td>-0.029081</td>\n",
       "      <td>-0.008036</td>\n",
       "      <td>-0.100424</td>\n",
       "      <td>-0.001181</td>\n",
       "      <td>0.041776</td>\n",
       "    </tr>\n",
       "    <tr>\n",
       "      <th>130840</th>\n",
       "      <td>0.089688</td>\n",
       "      <td>-0.001081</td>\n",
       "      <td>0.025669</td>\n",
       "      <td>0.067221</td>\n",
       "      <td>0.053633</td>\n",
       "      <td>0.037532</td>\n",
       "      <td>-0.049738</td>\n",
       "      <td>0.036769</td>\n",
       "      <td>0.076114</td>\n",
       "      <td>-0.067463</td>\n",
       "    </tr>\n",
       "    <tr>\n",
       "      <th>131013</th>\n",
       "      <td>-0.079028</td>\n",
       "      <td>-0.081143</td>\n",
       "      <td>-0.010375</td>\n",
       "      <td>-0.018837</td>\n",
       "      <td>-0.110186</td>\n",
       "      <td>-0.035091</td>\n",
       "      <td>-0.005511</td>\n",
       "      <td>-0.112772</td>\n",
       "      <td>-0.007368</td>\n",
       "      <td>0.047933</td>\n",
       "    </tr>\n",
       "    <tr>\n",
       "      <th>131168</th>\n",
       "      <td>0.191277</td>\n",
       "      <td>0.037877</td>\n",
       "      <td>0.062906</td>\n",
       "      <td>0.129918</td>\n",
       "      <td>0.163150</td>\n",
       "      <td>0.074456</td>\n",
       "      <td>-0.081182</td>\n",
       "      <td>0.124010</td>\n",
       "      <td>0.149843</td>\n",
       "      <td>-0.175648</td>\n",
       "    </tr>\n",
       "    <tr>\n",
       "      <th>131170</th>\n",
       "      <td>-0.550549</td>\n",
       "      <td>-0.314109</td>\n",
       "      <td>-0.052628</td>\n",
       "      <td>-0.180251</td>\n",
       "      <td>-0.479000</td>\n",
       "      <td>-0.239618</td>\n",
       "      <td>0.041592</td>\n",
       "      <td>-0.440611</td>\n",
       "      <td>-0.073612</td>\n",
       "      <td>0.169752</td>\n",
       "    </tr>\n",
       "  </tbody>\n",
       "</table>\n",
       "<p>10381 rows × 10 columns</p>\n",
       "</div>"
      ],
      "text/plain": [
       "               0         1         2         3         4         5         6  \\\n",
       "1      -0.415361 -0.239765 -0.029132 -0.125522 -0.356923 -0.172614  0.011913   \n",
       "2      -0.342941 -0.214567 -0.042160 -0.120707 -0.326535 -0.147327  0.024373   \n",
       "3      -0.055752 -0.070928 -0.006951 -0.008342 -0.089737 -0.025962 -0.008758   \n",
       "4       0.002037 -0.042802  0.003016  0.020013 -0.034208 -0.001054 -0.020325   \n",
       "5      -0.064242 -0.075144 -0.008613 -0.012858 -0.098521 -0.029499 -0.007473   \n",
       "...          ...       ...       ...       ...       ...       ...       ...   \n",
       "130578 -0.062949 -0.074159 -0.007753 -0.011596 -0.095920 -0.029081 -0.008036   \n",
       "130840  0.089688 -0.001081  0.025669  0.067221  0.053633  0.037532 -0.049738   \n",
       "131013 -0.079028 -0.081143 -0.010375 -0.018837 -0.110186 -0.035091 -0.005511   \n",
       "131168  0.191277  0.037877  0.062906  0.129918  0.163150  0.074456 -0.081182   \n",
       "131170 -0.550549 -0.314109 -0.052628 -0.180251 -0.479000 -0.239618  0.041592   \n",
       "\n",
       "               7         8         9  \n",
       "1      -0.332945 -0.038697  0.116310  \n",
       "2      -0.306981 -0.060213  0.131139  \n",
       "3      -0.094501  0.000480  0.038988  \n",
       "4      -0.043630  0.026590  0.007546  \n",
       "5      -0.102096 -0.003088  0.043254  \n",
       "...          ...       ...       ...  \n",
       "130578 -0.100424 -0.001181  0.041776  \n",
       "130840  0.036769  0.076114 -0.067463  \n",
       "131013 -0.112772 -0.007368  0.047933  \n",
       "131168  0.124010  0.149843 -0.175648  \n",
       "131170 -0.440611 -0.073612  0.169752  \n",
       "\n",
       "[10381 rows x 10 columns]"
      ]
     },
     "execution_count": 27,
     "metadata": {},
     "output_type": "execute_result"
    }
   ],
   "source": [
    "movie_matrix_encoded_df"
   ]
  },
  {
   "cell_type": "code",
   "execution_count": 28,
   "id": "NCOB",
   "metadata": {},
   "outputs": [],
   "source": [
    "rating.drop_duplicates(subset=[\"userId\",\"timestamp\"],inplace=True)"
   ]
  },
  {
   "cell_type": "code",
   "execution_count": 29,
   "id": "aqbW",
   "metadata": {},
   "outputs": [
    {
     "data": {
      "text/html": [
       "<div>\n",
       "<style scoped>\n",
       "    .dataframe tbody tr th:only-of-type {\n",
       "        vertical-align: middle;\n",
       "    }\n",
       "\n",
       "    .dataframe tbody tr th {\n",
       "        vertical-align: top;\n",
       "    }\n",
       "\n",
       "    .dataframe thead th {\n",
       "        text-align: right;\n",
       "    }\n",
       "</style>\n",
       "<table border=\"1\" class=\"dataframe\">\n",
       "  <thead>\n",
       "    <tr style=\"text-align: right;\">\n",
       "      <th></th>\n",
       "      <th>userId</th>\n",
       "      <th>movieId</th>\n",
       "      <th>rating</th>\n",
       "      <th>timestamp</th>\n",
       "    </tr>\n",
       "  </thead>\n",
       "  <tbody>\n",
       "    <tr>\n",
       "      <th>62</th>\n",
       "      <td>1</td>\n",
       "      <td>1750</td>\n",
       "      <td>3.5</td>\n",
       "      <td>2005-04-02 23:56:41</td>\n",
       "    </tr>\n",
       "    <tr>\n",
       "      <th>112</th>\n",
       "      <td>1</td>\n",
       "      <td>3997</td>\n",
       "      <td>3.5</td>\n",
       "      <td>2005-04-02 23:56:32</td>\n",
       "    </tr>\n",
       "    <tr>\n",
       "      <th>117</th>\n",
       "      <td>1</td>\n",
       "      <td>4133</td>\n",
       "      <td>3.0</td>\n",
       "      <td>2005-04-02 23:56:09</td>\n",
       "    </tr>\n",
       "    <tr>\n",
       "      <th>164</th>\n",
       "      <td>1</td>\n",
       "      <td>7449</td>\n",
       "      <td>3.5</td>\n",
       "      <td>2005-04-02 23:56:03</td>\n",
       "    </tr>\n",
       "    <tr>\n",
       "      <th>60</th>\n",
       "      <td>1</td>\n",
       "      <td>1525</td>\n",
       "      <td>3.0</td>\n",
       "      <td>2005-04-02 23:55:50</td>\n",
       "    </tr>\n",
       "    <tr>\n",
       "      <th>...</th>\n",
       "      <td>...</td>\n",
       "      <td>...</td>\n",
       "      <td>...</td>\n",
       "      <td>...</td>\n",
       "    </tr>\n",
       "    <tr>\n",
       "      <th>20000001</th>\n",
       "      <td>138493</td>\n",
       "      <td>1894</td>\n",
       "      <td>3.0</td>\n",
       "      <td>2009-10-17 18:40:27</td>\n",
       "    </tr>\n",
       "    <tr>\n",
       "      <th>19999984</th>\n",
       "      <td>138493</td>\n",
       "      <td>1591</td>\n",
       "      <td>3.0</td>\n",
       "      <td>2009-10-17 18:40:21</td>\n",
       "    </tr>\n",
       "    <tr>\n",
       "      <th>20000230</th>\n",
       "      <td>138493</td>\n",
       "      <td>48780</td>\n",
       "      <td>5.0</td>\n",
       "      <td>2009-10-17 18:39:59</td>\n",
       "    </tr>\n",
       "    <tr>\n",
       "      <th>20000056</th>\n",
       "      <td>138493</td>\n",
       "      <td>2872</td>\n",
       "      <td>4.0</td>\n",
       "      <td>2009-10-17 18:39:44</td>\n",
       "    </tr>\n",
       "    <tr>\n",
       "      <th>20000071</th>\n",
       "      <td>138493</td>\n",
       "      <td>3174</td>\n",
       "      <td>5.0</td>\n",
       "      <td>2009-10-17 18:39:05</td>\n",
       "    </tr>\n",
       "  </tbody>\n",
       "</table>\n",
       "<p>15807868 rows × 4 columns</p>\n",
       "</div>"
      ],
      "text/plain": [
       "          userId  movieId  rating           timestamp\n",
       "62             1     1750     3.5 2005-04-02 23:56:41\n",
       "112            1     3997     3.5 2005-04-02 23:56:32\n",
       "117            1     4133     3.0 2005-04-02 23:56:09\n",
       "164            1     7449     3.5 2005-04-02 23:56:03\n",
       "60             1     1525     3.0 2005-04-02 23:55:50\n",
       "...          ...      ...     ...                 ...\n",
       "20000001  138493     1894     3.0 2009-10-17 18:40:27\n",
       "19999984  138493     1591     3.0 2009-10-17 18:40:21\n",
       "20000230  138493    48780     5.0 2009-10-17 18:39:59\n",
       "20000056  138493     2872     4.0 2009-10-17 18:39:44\n",
       "20000071  138493     3174     5.0 2009-10-17 18:39:05\n",
       "\n",
       "[15807868 rows x 4 columns]"
      ]
     },
     "execution_count": 29,
     "metadata": {},
     "output_type": "execute_result"
    }
   ],
   "source": [
    "rating"
   ]
  },
  {
   "cell_type": "code",
   "execution_count": 30,
   "id": "TRpd",
   "metadata": {},
   "outputs": [
    {
     "data": {
      "text/plain": [
       "(10381, 10)"
      ]
     },
     "execution_count": 30,
     "metadata": {},
     "output_type": "execute_result"
    }
   ],
   "source": [
    "movie_matrix_encoded_df.shape"
   ]
  },
  {
   "cell_type": "markdown",
   "id": "TXez",
   "metadata": {},
   "source": [
    "### Now we have to create a useful dataset to train a Neural Collaborative Filtering.\n",
    "To do that we should first understand what we need to teach to the model.\n",
    "\n",
    "1. We need a list of movies that a person has seen, is very important to order them by the time, since otherwise we would create a look ahead bias\n",
    "2. We need to insert some movies that the person has not seen, otherwise the model will learn only the movies that somebody likes"
   ]
  },
  {
   "cell_type": "code",
   "execution_count": 31,
   "id": "dNNg",
   "metadata": {},
   "outputs": [],
   "source": [
    "class MovieDataset(Dataset):\n",
    "\n",
    "    def __init__(self, movie_ids,rating,movie_info,n_negatives=1,force_new_dataset=False,path=\"dataset_2\"):\n",
    "        self.path=path\n",
    "        if os.path.exists(data_path/path) and not force_new_dataset:\n",
    "            tmp_dataset=joblib.load(data_path/path)\n",
    "            self.movie,self.movie_infos,self.users,self.ratings,self.labels=tmp_dataset.movie,tmp_dataset.movie_infos,tmp_dataset.users,tmp_dataset.ratings,tmp_dataset.labels\n",
    "        else:\n",
    "            self.movie,self.movie_infos,self.users,self.ratings,self.labels=self.build_dataset(movie_ids,rating,movie_info,n_negatives)\n",
    "        self.save_dataset()\n",
    "\n",
    "    def save_dataset(self):\n",
    "        with open(data_path/self.path,\"wb\") as f:\n",
    "            joblib.dump(self,f,compress=9)\n",
    "\n",
    "\n",
    "    def __getitem__(self,idx):\n",
    "        return self.movie[idx],self.movie_infos[idx],self.users[idx],self.ratings[idx],self.labels[idx]\n",
    "\n",
    "    def __len__(self):\n",
    "        return len(self.labels)\n",
    "\n",
    "    def build_dataset(self, movie_ids,rating,movie_info,n_negatives=1):\n",
    "\n",
    "        movies,movie_ids,users,ratings,labels=self.get_dataset(movie_ids,rating,movie_info,n_negatives)\n",
    "        movies=self.convert_datas(movies,convert_to_float=True)\n",
    "        movie_ids=self.convert_datas(movie_ids)\n",
    "        users=self.convert_datas(users)\n",
    "        ratings=self.convert_datas(ratings,convert_to_float=True)\n",
    "        labels=self.convert_datas(labels)\n",
    "        return movies,movie_ids,users,ratings,labels\n",
    "\n",
    "\n",
    "    def get_constant(self):\n",
    "        input=torch.from_numpy(np.zeros(len(genome_matrix[0]))).float().to(device)\n",
    "        output=model.encode(input).detach().cpu().numpy()\n",
    "        return output\n",
    "\n",
    "\n",
    "    def get_dataset(self,all_movie_ids,rating,movie_info,n_negatives):\n",
    "\n",
    "        movies,movie_ids,ratings,users,labels=[],[],[],[],[]\n",
    "\n",
    "        constant=self.get_constant()\n",
    "        movie_users=set(zip(rating[\"movieId\"],rating[\"userId\"]))\n",
    "        movie_users_rating=set(zip(movie_users,rating[\"rating\"]))\n",
    "\n",
    "        for (movie_id,user_id),rating in tqdm.tqdm(movie_users_rating):\n",
    "            movie_ids.append(movie_id)\n",
    "            try:\n",
    "                movies.append(movie_info.loc[movie_id,:].values)\n",
    "            except KeyError as e:\n",
    "                movies.append(constant)\n",
    "            users.append(user_id)\n",
    "            ratings.append(rating)\n",
    "            labels.append(1)\n",
    "\n",
    "            for _ in range(n_negatives):\n",
    "\n",
    "                negative_movie=np.random.choice(all_movie_ids)\n",
    "\n",
    "                while (negative_movie,user_id) in movie_users:\n",
    "                    negative_movie=np.random.choice(all_movie_ids)\n",
    "\n",
    "                movie_ids.append(negative_movie)\n",
    "                try:\n",
    "                    movies.append(movie_info.loc[movie_id,:].values)\n",
    "                except KeyError as e:\n",
    "                    movies.append(constant)\n",
    "                ratings.append(rating)\n",
    "                users.append(user_id)\n",
    "                labels.append(0)\n",
    "        return np.array(movies),np.array(movie_ids),np.array(users),np.array(ratings),np.array(labels)\n",
    "\n",
    "    @staticmethod\n",
    "    def convert_datas(array,convert_to_float=False):\n",
    "        array=torch.from_numpy(array)\n",
    "        if convert_to_float:\n",
    "            array=array.float()\n",
    "        return array"
   ]
  },
  {
   "cell_type": "code",
   "execution_count": null,
   "id": "yCnT",
   "metadata": {},
   "outputs": [],
   "source": []
  },
  {
   "cell_type": "code",
   "execution_count": 32,
   "id": "wlCL",
   "metadata": {},
   "outputs": [
    {
     "data": {
      "text/html": [
       "<div>\n",
       "<style scoped>\n",
       "    .dataframe tbody tr th:only-of-type {\n",
       "        vertical-align: middle;\n",
       "    }\n",
       "\n",
       "    .dataframe tbody tr th {\n",
       "        vertical-align: top;\n",
       "    }\n",
       "\n",
       "    .dataframe thead th {\n",
       "        text-align: right;\n",
       "    }\n",
       "</style>\n",
       "<table border=\"1\" class=\"dataframe\">\n",
       "  <thead>\n",
       "    <tr style=\"text-align: right;\">\n",
       "      <th></th>\n",
       "      <th>userId</th>\n",
       "      <th>movieId</th>\n",
       "      <th>rating</th>\n",
       "      <th>timestamp</th>\n",
       "    </tr>\n",
       "  </thead>\n",
       "  <tbody>\n",
       "    <tr>\n",
       "      <th>62</th>\n",
       "      <td>1</td>\n",
       "      <td>1750</td>\n",
       "      <td>3.5</td>\n",
       "      <td>2005-04-02 23:56:41</td>\n",
       "    </tr>\n",
       "    <tr>\n",
       "      <th>112</th>\n",
       "      <td>1</td>\n",
       "      <td>3997</td>\n",
       "      <td>3.5</td>\n",
       "      <td>2005-04-02 23:56:32</td>\n",
       "    </tr>\n",
       "    <tr>\n",
       "      <th>117</th>\n",
       "      <td>1</td>\n",
       "      <td>4133</td>\n",
       "      <td>3.0</td>\n",
       "      <td>2005-04-02 23:56:09</td>\n",
       "    </tr>\n",
       "    <tr>\n",
       "      <th>164</th>\n",
       "      <td>1</td>\n",
       "      <td>7449</td>\n",
       "      <td>3.5</td>\n",
       "      <td>2005-04-02 23:56:03</td>\n",
       "    </tr>\n",
       "    <tr>\n",
       "      <th>60</th>\n",
       "      <td>1</td>\n",
       "      <td>1525</td>\n",
       "      <td>3.0</td>\n",
       "      <td>2005-04-02 23:55:50</td>\n",
       "    </tr>\n",
       "    <tr>\n",
       "      <th>...</th>\n",
       "      <td>...</td>\n",
       "      <td>...</td>\n",
       "      <td>...</td>\n",
       "      <td>...</td>\n",
       "    </tr>\n",
       "    <tr>\n",
       "      <th>20000001</th>\n",
       "      <td>138493</td>\n",
       "      <td>1894</td>\n",
       "      <td>3.0</td>\n",
       "      <td>2009-10-17 18:40:27</td>\n",
       "    </tr>\n",
       "    <tr>\n",
       "      <th>19999984</th>\n",
       "      <td>138493</td>\n",
       "      <td>1591</td>\n",
       "      <td>3.0</td>\n",
       "      <td>2009-10-17 18:40:21</td>\n",
       "    </tr>\n",
       "    <tr>\n",
       "      <th>20000230</th>\n",
       "      <td>138493</td>\n",
       "      <td>48780</td>\n",
       "      <td>5.0</td>\n",
       "      <td>2009-10-17 18:39:59</td>\n",
       "    </tr>\n",
       "    <tr>\n",
       "      <th>20000056</th>\n",
       "      <td>138493</td>\n",
       "      <td>2872</td>\n",
       "      <td>4.0</td>\n",
       "      <td>2009-10-17 18:39:44</td>\n",
       "    </tr>\n",
       "    <tr>\n",
       "      <th>20000071</th>\n",
       "      <td>138493</td>\n",
       "      <td>3174</td>\n",
       "      <td>5.0</td>\n",
       "      <td>2009-10-17 18:39:05</td>\n",
       "    </tr>\n",
       "  </tbody>\n",
       "</table>\n",
       "<p>15807868 rows × 4 columns</p>\n",
       "</div>"
      ],
      "text/plain": [
       "          userId  movieId  rating           timestamp\n",
       "62             1     1750     3.5 2005-04-02 23:56:41\n",
       "112            1     3997     3.5 2005-04-02 23:56:32\n",
       "117            1     4133     3.0 2005-04-02 23:56:09\n",
       "164            1     7449     3.5 2005-04-02 23:56:03\n",
       "60             1     1525     3.0 2005-04-02 23:55:50\n",
       "...          ...      ...     ...                 ...\n",
       "20000001  138493     1894     3.0 2009-10-17 18:40:27\n",
       "19999984  138493     1591     3.0 2009-10-17 18:40:21\n",
       "20000230  138493    48780     5.0 2009-10-17 18:39:59\n",
       "20000056  138493     2872     4.0 2009-10-17 18:39:44\n",
       "20000071  138493     3174     5.0 2009-10-17 18:39:05\n",
       "\n",
       "[15807868 rows x 4 columns]"
      ]
     },
     "execution_count": 32,
     "metadata": {},
     "output_type": "execute_result"
    }
   ],
   "source": [
    "rating"
   ]
  },
  {
   "cell_type": "code",
   "execution_count": 33,
   "id": "kqZH",
   "metadata": {},
   "outputs": [],
   "source": [
    "if os.path.exists(data_path/\"dataset_2\") :\n",
    "    tmp_dataset=joblib.load(data_path/\"dataset\")"
   ]
  },
  {
   "cell_type": "code",
   "execution_count": 34,
   "id": "wAgl",
   "metadata": {},
   "outputs": [
    {
     "data": {
      "text/plain": [
       "tensor([4., 4., 4.,  ..., 4., 4., 4.])"
      ]
     },
     "execution_count": 34,
     "metadata": {},
     "output_type": "execute_result"
    }
   ],
   "source": [
    "tmp_dataset.ratings"
   ]
  },
  {
   "cell_type": "code",
   "execution_count": 35,
   "id": "rEll",
   "metadata": {},
   "outputs": [],
   "source": [
    "movie_ids=rating.movieId.unique()"
   ]
  },
  {
   "cell_type": "code",
   "execution_count": 36,
   "id": "dGlV",
   "metadata": {},
   "outputs": [
    {
     "data": {
      "text/html": [
       "<div>\n",
       "<style scoped>\n",
       "    .dataframe tbody tr th:only-of-type {\n",
       "        vertical-align: middle;\n",
       "    }\n",
       "\n",
       "    .dataframe tbody tr th {\n",
       "        vertical-align: top;\n",
       "    }\n",
       "\n",
       "    .dataframe thead th {\n",
       "        text-align: right;\n",
       "    }\n",
       "</style>\n",
       "<table border=\"1\" class=\"dataframe\">\n",
       "  <thead>\n",
       "    <tr style=\"text-align: right;\">\n",
       "      <th></th>\n",
       "      <th>userId</th>\n",
       "      <th>movieId</th>\n",
       "      <th>rating</th>\n",
       "      <th>timestamp</th>\n",
       "    </tr>\n",
       "  </thead>\n",
       "  <tbody>\n",
       "    <tr>\n",
       "      <th>62</th>\n",
       "      <td>1</td>\n",
       "      <td>1750</td>\n",
       "      <td>3.5</td>\n",
       "      <td>2005-04-02 23:56:41</td>\n",
       "    </tr>\n",
       "    <tr>\n",
       "      <th>112</th>\n",
       "      <td>1</td>\n",
       "      <td>3997</td>\n",
       "      <td>3.5</td>\n",
       "      <td>2005-04-02 23:56:32</td>\n",
       "    </tr>\n",
       "    <tr>\n",
       "      <th>117</th>\n",
       "      <td>1</td>\n",
       "      <td>4133</td>\n",
       "      <td>3.0</td>\n",
       "      <td>2005-04-02 23:56:09</td>\n",
       "    </tr>\n",
       "    <tr>\n",
       "      <th>164</th>\n",
       "      <td>1</td>\n",
       "      <td>7449</td>\n",
       "      <td>3.5</td>\n",
       "      <td>2005-04-02 23:56:03</td>\n",
       "    </tr>\n",
       "    <tr>\n",
       "      <th>60</th>\n",
       "      <td>1</td>\n",
       "      <td>1525</td>\n",
       "      <td>3.0</td>\n",
       "      <td>2005-04-02 23:55:50</td>\n",
       "    </tr>\n",
       "    <tr>\n",
       "      <th>...</th>\n",
       "      <td>...</td>\n",
       "      <td>...</td>\n",
       "      <td>...</td>\n",
       "      <td>...</td>\n",
       "    </tr>\n",
       "    <tr>\n",
       "      <th>20000001</th>\n",
       "      <td>138493</td>\n",
       "      <td>1894</td>\n",
       "      <td>3.0</td>\n",
       "      <td>2009-10-17 18:40:27</td>\n",
       "    </tr>\n",
       "    <tr>\n",
       "      <th>19999984</th>\n",
       "      <td>138493</td>\n",
       "      <td>1591</td>\n",
       "      <td>3.0</td>\n",
       "      <td>2009-10-17 18:40:21</td>\n",
       "    </tr>\n",
       "    <tr>\n",
       "      <th>20000230</th>\n",
       "      <td>138493</td>\n",
       "      <td>48780</td>\n",
       "      <td>5.0</td>\n",
       "      <td>2009-10-17 18:39:59</td>\n",
       "    </tr>\n",
       "    <tr>\n",
       "      <th>20000056</th>\n",
       "      <td>138493</td>\n",
       "      <td>2872</td>\n",
       "      <td>4.0</td>\n",
       "      <td>2009-10-17 18:39:44</td>\n",
       "    </tr>\n",
       "    <tr>\n",
       "      <th>20000071</th>\n",
       "      <td>138493</td>\n",
       "      <td>3174</td>\n",
       "      <td>5.0</td>\n",
       "      <td>2009-10-17 18:39:05</td>\n",
       "    </tr>\n",
       "  </tbody>\n",
       "</table>\n",
       "<p>15807868 rows × 4 columns</p>\n",
       "</div>"
      ],
      "text/plain": [
       "          userId  movieId  rating           timestamp\n",
       "62             1     1750     3.5 2005-04-02 23:56:41\n",
       "112            1     3997     3.5 2005-04-02 23:56:32\n",
       "117            1     4133     3.0 2005-04-02 23:56:09\n",
       "164            1     7449     3.5 2005-04-02 23:56:03\n",
       "60             1     1525     3.0 2005-04-02 23:55:50\n",
       "...          ...      ...     ...                 ...\n",
       "20000001  138493     1894     3.0 2009-10-17 18:40:27\n",
       "19999984  138493     1591     3.0 2009-10-17 18:40:21\n",
       "20000230  138493    48780     5.0 2009-10-17 18:39:59\n",
       "20000056  138493     2872     4.0 2009-10-17 18:39:44\n",
       "20000071  138493     3174     5.0 2009-10-17 18:39:05\n",
       "\n",
       "[15807868 rows x 4 columns]"
      ]
     },
     "execution_count": 36,
     "metadata": {},
     "output_type": "execute_result"
    }
   ],
   "source": [
    "rating.sort_values(by=[\"userId\",\"timestamp\"],ascending=[True,False],inplace=True)\n",
    "rating"
   ]
  },
  {
   "cell_type": "code",
   "execution_count": 37,
   "id": "SdmI",
   "metadata": {},
   "outputs": [
    {
     "ename": "KeyboardInterrupt",
     "evalue": "",
     "output_type": "error",
     "traceback": [
      "\u001b[31m---------------------------------------------------------------------------\u001b[39m",
      "\u001b[31mKeyboardInterrupt\u001b[39m                         Traceback (most recent call last)",
      "\u001b[36mCell\u001b[39m\u001b[36m \u001b[39m\u001b[32mIn[37]\u001b[39m\u001b[32m, line 2\u001b[39m\n\u001b[32m      1\u001b[39m rating[\u001b[33m'\u001b[39m\u001b[33mrank_latest\u001b[39m\u001b[33m'\u001b[39m] = \u001b[43mrating\u001b[49m\u001b[43m.\u001b[49m\u001b[43mgroupby\u001b[49m\u001b[43m(\u001b[49m\u001b[43m[\u001b[49m\u001b[33;43m'\u001b[39;49m\u001b[33;43muserId\u001b[39;49m\u001b[33;43m'\u001b[39;49m\u001b[43m]\u001b[49m\u001b[43m)\u001b[49m\u001b[43m[\u001b[49m\u001b[33;43m'\u001b[39;49m\u001b[33;43mtimestamp\u001b[39;49m\u001b[33;43m'\u001b[39;49m\u001b[43m]\u001b[49m\u001b[43m \u001b[49m\u001b[43m\\\u001b[49m\n\u001b[32m----> \u001b[39m\u001b[32m2\u001b[39m \u001b[43m                                \u001b[49m\u001b[43m.\u001b[49m\u001b[43mrank\u001b[49m\u001b[43m(\u001b[49m\u001b[43mmethod\u001b[49m\u001b[43m=\u001b[49m\u001b[33;43m'\u001b[39;49m\u001b[33;43mfirst\u001b[39;49m\u001b[33;43m'\u001b[39;49m\u001b[43m,\u001b[49m\u001b[43m \u001b[49m\u001b[43mascending\u001b[49m\u001b[43m=\u001b[49m\u001b[38;5;28;43;01mFalse\u001b[39;49;00m\u001b[43m)\u001b[49m\n",
      "\u001b[36mFile \u001b[39m\u001b[32m~/Desktop/SideQuests/F-ckVibeCode/5. Recommendation System/.venv/lib/python3.13/site-packages/pandas/core/groupby/groupby.py:4809\u001b[39m, in \u001b[36mGroupBy.rank\u001b[39m\u001b[34m(self, method, ascending, na_option, pct, axis)\u001b[39m\n\u001b[32m   4804\u001b[39m     result = \u001b[38;5;28mself\u001b[39m._python_apply_general(\n\u001b[32m   4805\u001b[39m         f, \u001b[38;5;28mself\u001b[39m._selected_obj, is_transform=\u001b[38;5;28;01mTrue\u001b[39;00m\n\u001b[32m   4806\u001b[39m     )\n\u001b[32m   4807\u001b[39m     \u001b[38;5;28;01mreturn\u001b[39;00m result\n\u001b[32m-> \u001b[39m\u001b[32m4809\u001b[39m \u001b[38;5;28;01mreturn\u001b[39;00m \u001b[38;5;28;43mself\u001b[39;49m\u001b[43m.\u001b[49m\u001b[43m_cython_transform\u001b[49m\u001b[43m(\u001b[49m\n\u001b[32m   4810\u001b[39m \u001b[43m    \u001b[49m\u001b[33;43m\"\u001b[39;49m\u001b[33;43mrank\u001b[39;49m\u001b[33;43m\"\u001b[39;49m\u001b[43m,\u001b[49m\n\u001b[32m   4811\u001b[39m \u001b[43m    \u001b[49m\u001b[43mnumeric_only\u001b[49m\u001b[43m=\u001b[49m\u001b[38;5;28;43;01mFalse\u001b[39;49;00m\u001b[43m,\u001b[49m\n\u001b[32m   4812\u001b[39m \u001b[43m    \u001b[49m\u001b[43maxis\u001b[49m\u001b[43m=\u001b[49m\u001b[43maxis\u001b[49m\u001b[43m,\u001b[49m\n\u001b[32m   4813\u001b[39m \u001b[43m    \u001b[49m\u001b[43m*\u001b[49m\u001b[43m*\u001b[49m\u001b[43mkwargs\u001b[49m\u001b[43m,\u001b[49m\n\u001b[32m   4814\u001b[39m \u001b[43m\u001b[49m\u001b[43m)\u001b[49m\n",
      "\u001b[36mFile \u001b[39m\u001b[32m~/Desktop/SideQuests/F-ckVibeCode/5. Recommendation System/.venv/lib/python3.13/site-packages/pandas/core/groupby/generic.py:529\u001b[39m, in \u001b[36mSeriesGroupBy._cython_transform\u001b[39m\u001b[34m(self, how, numeric_only, axis, **kwargs)\u001b[39m\n\u001b[32m    526\u001b[39m obj = \u001b[38;5;28mself\u001b[39m._obj_with_exclusions\n\u001b[32m    528\u001b[39m \u001b[38;5;28;01mtry\u001b[39;00m:\n\u001b[32m--> \u001b[39m\u001b[32m529\u001b[39m     result = \u001b[38;5;28;43mself\u001b[39;49m\u001b[43m.\u001b[49m\u001b[43m_grouper\u001b[49m\u001b[43m.\u001b[49m\u001b[43m_cython_operation\u001b[49m\u001b[43m(\u001b[49m\n\u001b[32m    530\u001b[39m \u001b[43m        \u001b[49m\u001b[33;43m\"\u001b[39;49m\u001b[33;43mtransform\u001b[39;49m\u001b[33;43m\"\u001b[39;49m\u001b[43m,\u001b[49m\u001b[43m \u001b[49m\u001b[43mobj\u001b[49m\u001b[43m.\u001b[49m\u001b[43m_values\u001b[49m\u001b[43m,\u001b[49m\u001b[43m \u001b[49m\u001b[43mhow\u001b[49m\u001b[43m,\u001b[49m\u001b[43m \u001b[49m\u001b[43maxis\u001b[49m\u001b[43m,\u001b[49m\u001b[43m \u001b[49m\u001b[43m*\u001b[49m\u001b[43m*\u001b[49m\u001b[43mkwargs\u001b[49m\n\u001b[32m    531\u001b[39m \u001b[43m    \u001b[49m\u001b[43m)\u001b[49m\n\u001b[32m    532\u001b[39m \u001b[38;5;28;01mexcept\u001b[39;00m \u001b[38;5;167;01mNotImplementedError\u001b[39;00m \u001b[38;5;28;01mas\u001b[39;00m err:\n\u001b[32m    533\u001b[39m     \u001b[38;5;66;03m# e.g. test_groupby_raises_string\u001b[39;00m\n\u001b[32m    534\u001b[39m     \u001b[38;5;28;01mraise\u001b[39;00m \u001b[38;5;167;01mTypeError\u001b[39;00m(\u001b[33mf\u001b[39m\u001b[33m\"\u001b[39m\u001b[38;5;132;01m{\u001b[39;00mhow\u001b[38;5;132;01m}\u001b[39;00m\u001b[33m is not supported for \u001b[39m\u001b[38;5;132;01m{\u001b[39;00mobj.dtype\u001b[38;5;132;01m}\u001b[39;00m\u001b[33m dtype\u001b[39m\u001b[33m\"\u001b[39m) \u001b[38;5;28;01mfrom\u001b[39;00m\u001b[38;5;250m \u001b[39m\u001b[34;01merr\u001b[39;00m\n",
      "\u001b[36mFile \u001b[39m\u001b[32m~/Desktop/SideQuests/F-ckVibeCode/5. Recommendation System/.venv/lib/python3.13/site-packages/pandas/core/groupby/ops.py:831\u001b[39m, in \u001b[36mBaseGrouper._cython_operation\u001b[39m\u001b[34m(self, kind, values, how, axis, min_count, **kwargs)\u001b[39m\n\u001b[32m    829\u001b[39m ids, _, _ = \u001b[38;5;28mself\u001b[39m.group_info\n\u001b[32m    830\u001b[39m ngroups = \u001b[38;5;28mself\u001b[39m.ngroups\n\u001b[32m--> \u001b[39m\u001b[32m831\u001b[39m \u001b[38;5;28;01mreturn\u001b[39;00m \u001b[43mcy_op\u001b[49m\u001b[43m.\u001b[49m\u001b[43mcython_operation\u001b[49m\u001b[43m(\u001b[49m\n\u001b[32m    832\u001b[39m \u001b[43m    \u001b[49m\u001b[43mvalues\u001b[49m\u001b[43m=\u001b[49m\u001b[43mvalues\u001b[49m\u001b[43m,\u001b[49m\n\u001b[32m    833\u001b[39m \u001b[43m    \u001b[49m\u001b[43maxis\u001b[49m\u001b[43m=\u001b[49m\u001b[43maxis\u001b[49m\u001b[43m,\u001b[49m\n\u001b[32m    834\u001b[39m \u001b[43m    \u001b[49m\u001b[43mmin_count\u001b[49m\u001b[43m=\u001b[49m\u001b[43mmin_count\u001b[49m\u001b[43m,\u001b[49m\n\u001b[32m    835\u001b[39m \u001b[43m    \u001b[49m\u001b[43mcomp_ids\u001b[49m\u001b[43m=\u001b[49m\u001b[43mids\u001b[49m\u001b[43m,\u001b[49m\n\u001b[32m    836\u001b[39m \u001b[43m    \u001b[49m\u001b[43mngroups\u001b[49m\u001b[43m=\u001b[49m\u001b[43mngroups\u001b[49m\u001b[43m,\u001b[49m\n\u001b[32m    837\u001b[39m \u001b[43m    \u001b[49m\u001b[43m*\u001b[49m\u001b[43m*\u001b[49m\u001b[43mkwargs\u001b[49m\u001b[43m,\u001b[49m\n\u001b[32m    838\u001b[39m \u001b[43m\u001b[49m\u001b[43m)\u001b[49m\n",
      "\u001b[36mFile \u001b[39m\u001b[32m~/Desktop/SideQuests/F-ckVibeCode/5. Recommendation System/.venv/lib/python3.13/site-packages/pandas/core/groupby/ops.py:541\u001b[39m, in \u001b[36mWrappedCythonOp.cython_operation\u001b[39m\u001b[34m(self, values, axis, min_count, comp_ids, ngroups, **kwargs)\u001b[39m\n\u001b[32m    537\u001b[39m \u001b[38;5;28mself\u001b[39m._validate_axis(axis, values)\n\u001b[32m    539\u001b[39m \u001b[38;5;28;01mif\u001b[39;00m \u001b[38;5;129;01mnot\u001b[39;00m \u001b[38;5;28misinstance\u001b[39m(values, np.ndarray):\n\u001b[32m    540\u001b[39m     \u001b[38;5;66;03m# i.e. ExtensionArray\u001b[39;00m\n\u001b[32m--> \u001b[39m\u001b[32m541\u001b[39m     \u001b[38;5;28;01mreturn\u001b[39;00m \u001b[43mvalues\u001b[49m\u001b[43m.\u001b[49m\u001b[43m_groupby_op\u001b[49m\u001b[43m(\u001b[49m\n\u001b[32m    542\u001b[39m \u001b[43m        \u001b[49m\u001b[43mhow\u001b[49m\u001b[43m=\u001b[49m\u001b[38;5;28;43mself\u001b[39;49m\u001b[43m.\u001b[49m\u001b[43mhow\u001b[49m\u001b[43m,\u001b[49m\n\u001b[32m    543\u001b[39m \u001b[43m        \u001b[49m\u001b[43mhas_dropped_na\u001b[49m\u001b[43m=\u001b[49m\u001b[38;5;28;43mself\u001b[39;49m\u001b[43m.\u001b[49m\u001b[43mhas_dropped_na\u001b[49m\u001b[43m,\u001b[49m\n\u001b[32m    544\u001b[39m \u001b[43m        \u001b[49m\u001b[43mmin_count\u001b[49m\u001b[43m=\u001b[49m\u001b[43mmin_count\u001b[49m\u001b[43m,\u001b[49m\n\u001b[32m    545\u001b[39m \u001b[43m        \u001b[49m\u001b[43mngroups\u001b[49m\u001b[43m=\u001b[49m\u001b[43mngroups\u001b[49m\u001b[43m,\u001b[49m\n\u001b[32m    546\u001b[39m \u001b[43m        \u001b[49m\u001b[43mids\u001b[49m\u001b[43m=\u001b[49m\u001b[43mcomp_ids\u001b[49m\u001b[43m,\u001b[49m\n\u001b[32m    547\u001b[39m \u001b[43m        \u001b[49m\u001b[43m*\u001b[49m\u001b[43m*\u001b[49m\u001b[43mkwargs\u001b[49m\u001b[43m,\u001b[49m\n\u001b[32m    548\u001b[39m \u001b[43m    \u001b[49m\u001b[43m)\u001b[49m\n\u001b[32m    550\u001b[39m \u001b[38;5;28;01mreturn\u001b[39;00m \u001b[38;5;28mself\u001b[39m._cython_op_ndim_compat(\n\u001b[32m    551\u001b[39m     values,\n\u001b[32m    552\u001b[39m     min_count=min_count,\n\u001b[32m   (...)\u001b[39m\u001b[32m    556\u001b[39m     **kwargs,\n\u001b[32m    557\u001b[39m )\n",
      "\u001b[36mFile \u001b[39m\u001b[32m~/Desktop/SideQuests/F-ckVibeCode/5. Recommendation System/.venv/lib/python3.13/site-packages/pandas/core/arrays/datetimelike.py:1707\u001b[39m, in \u001b[36mDatetimeLikeArrayMixin._groupby_op\u001b[39m\u001b[34m(self, how, has_dropped_na, min_count, ngroups, ids, **kwargs)\u001b[39m\n\u001b[32m   1704\u001b[39m kind = WrappedCythonOp.get_kind_from_how(how)\n\u001b[32m   1705\u001b[39m op = WrappedCythonOp(how=how, kind=kind, has_dropped_na=has_dropped_na)\n\u001b[32m-> \u001b[39m\u001b[32m1707\u001b[39m res_values = \u001b[43mop\u001b[49m\u001b[43m.\u001b[49m\u001b[43m_cython_op_ndim_compat\u001b[49m\u001b[43m(\u001b[49m\n\u001b[32m   1708\u001b[39m \u001b[43m    \u001b[49m\u001b[43mnpvalues\u001b[49m\u001b[43m,\u001b[49m\n\u001b[32m   1709\u001b[39m \u001b[43m    \u001b[49m\u001b[43mmin_count\u001b[49m\u001b[43m=\u001b[49m\u001b[43mmin_count\u001b[49m\u001b[43m,\u001b[49m\n\u001b[32m   1710\u001b[39m \u001b[43m    \u001b[49m\u001b[43mngroups\u001b[49m\u001b[43m=\u001b[49m\u001b[43mngroups\u001b[49m\u001b[43m,\u001b[49m\n\u001b[32m   1711\u001b[39m \u001b[43m    \u001b[49m\u001b[43mcomp_ids\u001b[49m\u001b[43m=\u001b[49m\u001b[43mids\u001b[49m\u001b[43m,\u001b[49m\n\u001b[32m   1712\u001b[39m \u001b[43m    \u001b[49m\u001b[43mmask\u001b[49m\u001b[43m=\u001b[49m\u001b[38;5;28;43;01mNone\u001b[39;49;00m\u001b[43m,\u001b[49m\n\u001b[32m   1713\u001b[39m \u001b[43m    \u001b[49m\u001b[43m*\u001b[49m\u001b[43m*\u001b[49m\u001b[43mkwargs\u001b[49m\u001b[43m,\u001b[49m\n\u001b[32m   1714\u001b[39m \u001b[43m\u001b[49m\u001b[43m)\u001b[49m\n\u001b[32m   1716\u001b[39m \u001b[38;5;28;01mif\u001b[39;00m op.how \u001b[38;5;129;01min\u001b[39;00m op.cast_blocklist:\n\u001b[32m   1717\u001b[39m     \u001b[38;5;66;03m# i.e. how in [\"rank\"], since other cast_blocklist methods don't go\u001b[39;00m\n\u001b[32m   1718\u001b[39m     \u001b[38;5;66;03m#  through cython_operation\u001b[39;00m\n\u001b[32m   1719\u001b[39m     \u001b[38;5;28;01mreturn\u001b[39;00m res_values\n",
      "\u001b[36mFile \u001b[39m\u001b[32m~/Desktop/SideQuests/F-ckVibeCode/5. Recommendation System/.venv/lib/python3.13/site-packages/pandas/core/groupby/ops.py:329\u001b[39m, in \u001b[36mWrappedCythonOp._cython_op_ndim_compat\u001b[39m\u001b[34m(self, values, min_count, ngroups, comp_ids, mask, result_mask, **kwargs)\u001b[39m\n\u001b[32m    327\u001b[39m \u001b[38;5;28;01mif\u001b[39;00m result_mask \u001b[38;5;129;01mis\u001b[39;00m \u001b[38;5;129;01mnot\u001b[39;00m \u001b[38;5;28;01mNone\u001b[39;00m:\n\u001b[32m    328\u001b[39m     result_mask = result_mask[\u001b[38;5;28;01mNone\u001b[39;00m, :]\n\u001b[32m--> \u001b[39m\u001b[32m329\u001b[39m res = \u001b[38;5;28;43mself\u001b[39;49m\u001b[43m.\u001b[49m\u001b[43m_call_cython_op\u001b[49m\u001b[43m(\u001b[49m\n\u001b[32m    330\u001b[39m \u001b[43m    \u001b[49m\u001b[43mvalues2d\u001b[49m\u001b[43m,\u001b[49m\n\u001b[32m    331\u001b[39m \u001b[43m    \u001b[49m\u001b[43mmin_count\u001b[49m\u001b[43m=\u001b[49m\u001b[43mmin_count\u001b[49m\u001b[43m,\u001b[49m\n\u001b[32m    332\u001b[39m \u001b[43m    \u001b[49m\u001b[43mngroups\u001b[49m\u001b[43m=\u001b[49m\u001b[43mngroups\u001b[49m\u001b[43m,\u001b[49m\n\u001b[32m    333\u001b[39m \u001b[43m    \u001b[49m\u001b[43mcomp_ids\u001b[49m\u001b[43m=\u001b[49m\u001b[43mcomp_ids\u001b[49m\u001b[43m,\u001b[49m\n\u001b[32m    334\u001b[39m \u001b[43m    \u001b[49m\u001b[43mmask\u001b[49m\u001b[43m=\u001b[49m\u001b[43mmask\u001b[49m\u001b[43m,\u001b[49m\n\u001b[32m    335\u001b[39m \u001b[43m    \u001b[49m\u001b[43mresult_mask\u001b[49m\u001b[43m=\u001b[49m\u001b[43mresult_mask\u001b[49m\u001b[43m,\u001b[49m\n\u001b[32m    336\u001b[39m \u001b[43m    \u001b[49m\u001b[43m*\u001b[49m\u001b[43m*\u001b[49m\u001b[43mkwargs\u001b[49m\u001b[43m,\u001b[49m\n\u001b[32m    337\u001b[39m \u001b[43m\u001b[49m\u001b[43m)\u001b[49m\n\u001b[32m    338\u001b[39m \u001b[38;5;28;01mif\u001b[39;00m res.shape[\u001b[32m0\u001b[39m] == \u001b[32m1\u001b[39m:\n\u001b[32m    339\u001b[39m     \u001b[38;5;28;01mreturn\u001b[39;00m res[\u001b[32m0\u001b[39m]\n",
      "\u001b[36mFile \u001b[39m\u001b[32m~/Desktop/SideQuests/F-ckVibeCode/5. Recommendation System/.venv/lib/python3.13/site-packages/pandas/core/groupby/ops.py:472\u001b[39m, in \u001b[36mWrappedCythonOp._call_cython_op\u001b[39m\u001b[34m(self, values, min_count, ngroups, comp_ids, mask, result_mask, **kwargs)\u001b[39m\n\u001b[32m    469\u001b[39m     \u001b[38;5;28;01mif\u001b[39;00m \u001b[38;5;28mself\u001b[39m.how != \u001b[33m\"\u001b[39m\u001b[33mrank\u001b[39m\u001b[33m\"\u001b[39m:\n\u001b[32m    470\u001b[39m         \u001b[38;5;66;03m# TODO: should rank take result_mask?\u001b[39;00m\n\u001b[32m    471\u001b[39m         kwargs[\u001b[33m\"\u001b[39m\u001b[33mresult_mask\u001b[39m\u001b[33m\"\u001b[39m] = result_mask\n\u001b[32m--> \u001b[39m\u001b[32m472\u001b[39m     \u001b[43mfunc\u001b[49m\u001b[43m(\u001b[49m\n\u001b[32m    473\u001b[39m \u001b[43m        \u001b[49m\u001b[43mout\u001b[49m\u001b[43m=\u001b[49m\u001b[43mresult\u001b[49m\u001b[43m,\u001b[49m\n\u001b[32m    474\u001b[39m \u001b[43m        \u001b[49m\u001b[43mvalues\u001b[49m\u001b[43m=\u001b[49m\u001b[43mvalues\u001b[49m\u001b[43m,\u001b[49m\n\u001b[32m    475\u001b[39m \u001b[43m        \u001b[49m\u001b[43mlabels\u001b[49m\u001b[43m=\u001b[49m\u001b[43mcomp_ids\u001b[49m\u001b[43m,\u001b[49m\n\u001b[32m    476\u001b[39m \u001b[43m        \u001b[49m\u001b[43mngroups\u001b[49m\u001b[43m=\u001b[49m\u001b[43mngroups\u001b[49m\u001b[43m,\u001b[49m\n\u001b[32m    477\u001b[39m \u001b[43m        \u001b[49m\u001b[43mis_datetimelike\u001b[49m\u001b[43m=\u001b[49m\u001b[43mis_datetimelike\u001b[49m\u001b[43m,\u001b[49m\n\u001b[32m    478\u001b[39m \u001b[43m        \u001b[49m\u001b[43mmask\u001b[49m\u001b[43m=\u001b[49m\u001b[43mmask\u001b[49m\u001b[43m,\u001b[49m\n\u001b[32m    479\u001b[39m \u001b[43m        \u001b[49m\u001b[43m*\u001b[49m\u001b[43m*\u001b[49m\u001b[43mkwargs\u001b[49m\u001b[43m,\u001b[49m\n\u001b[32m    480\u001b[39m \u001b[43m    \u001b[49m\u001b[43m)\u001b[49m\n\u001b[32m    482\u001b[39m \u001b[38;5;28;01mif\u001b[39;00m \u001b[38;5;28mself\u001b[39m.kind == \u001b[33m\"\u001b[39m\u001b[33maggregate\u001b[39m\u001b[33m\"\u001b[39m \u001b[38;5;129;01mand\u001b[39;00m \u001b[38;5;28mself\u001b[39m.how \u001b[38;5;129;01mnot\u001b[39;00m \u001b[38;5;129;01min\u001b[39;00m [\u001b[33m\"\u001b[39m\u001b[33midxmin\u001b[39m\u001b[33m\"\u001b[39m, \u001b[33m\"\u001b[39m\u001b[33midxmax\u001b[39m\u001b[33m\"\u001b[39m]:\n\u001b[32m    483\u001b[39m     \u001b[38;5;66;03m# i.e. counts is defined.  Locations where count<min_count\u001b[39;00m\n\u001b[32m    484\u001b[39m     \u001b[38;5;66;03m# need to have the result set to np.nan, which may require casting,\u001b[39;00m\n\u001b[32m    485\u001b[39m     \u001b[38;5;66;03m# see GH#40767. For idxmin/idxmax is handled specially via post-processing\u001b[39;00m\n\u001b[32m    486\u001b[39m     \u001b[38;5;28;01mif\u001b[39;00m result.dtype.kind \u001b[38;5;129;01min\u001b[39;00m \u001b[33m\"\u001b[39m\u001b[33miu\u001b[39m\u001b[33m\"\u001b[39m \u001b[38;5;129;01mand\u001b[39;00m \u001b[38;5;129;01mnot\u001b[39;00m is_datetimelike:\n\u001b[32m    487\u001b[39m         \u001b[38;5;66;03m# if the op keeps the int dtypes, we have to use 0\u001b[39;00m\n",
      "\u001b[31mKeyboardInterrupt\u001b[39m: "
     ]
    }
   ],
   "source": [
    "rating['rank_latest'] = rating.groupby(['userId'])['timestamp'] \\\n",
    "                                .rank(method='first', ascending=False)"
   ]
  },
  {
   "cell_type": "code",
   "execution_count": 39,
   "id": "lgWD",
   "metadata": {},
   "outputs": [],
   "source": [
    "test_ratings=rating.loc[rating.rank_latest<=3]\n",
    "train_ratings=rating.loc[rating.rank_latest>3]"
   ]
  },
  {
   "cell_type": "code",
   "execution_count": 40,
   "id": "yOPj",
   "metadata": {},
   "outputs": [
    {
     "data": {
      "text/html": [
       "<div>\n",
       "<style scoped>\n",
       "    .dataframe tbody tr th:only-of-type {\n",
       "        vertical-align: middle;\n",
       "    }\n",
       "\n",
       "    .dataframe tbody tr th {\n",
       "        vertical-align: top;\n",
       "    }\n",
       "\n",
       "    .dataframe thead th {\n",
       "        text-align: right;\n",
       "    }\n",
       "</style>\n",
       "<table border=\"1\" class=\"dataframe\">\n",
       "  <thead>\n",
       "    <tr style=\"text-align: right;\">\n",
       "      <th></th>\n",
       "      <th>userId</th>\n",
       "      <th>movieId</th>\n",
       "      <th>rating</th>\n",
       "      <th>timestamp</th>\n",
       "      <th>rank_latest</th>\n",
       "    </tr>\n",
       "  </thead>\n",
       "  <tbody>\n",
       "    <tr>\n",
       "      <th>164</th>\n",
       "      <td>1</td>\n",
       "      <td>7449</td>\n",
       "      <td>3.5</td>\n",
       "      <td>2005-04-02 23:56:03</td>\n",
       "      <td>4.0</td>\n",
       "    </tr>\n",
       "    <tr>\n",
       "      <th>60</th>\n",
       "      <td>1</td>\n",
       "      <td>1525</td>\n",
       "      <td>3.0</td>\n",
       "      <td>2005-04-02 23:55:50</td>\n",
       "      <td>5.0</td>\n",
       "    </tr>\n",
       "    <tr>\n",
       "      <th>109</th>\n",
       "      <td>1</td>\n",
       "      <td>3889</td>\n",
       "      <td>4.0</td>\n",
       "      <td>2005-04-02 23:55:38</td>\n",
       "      <td>6.0</td>\n",
       "    </tr>\n",
       "    <tr>\n",
       "      <th>154</th>\n",
       "      <td>1</td>\n",
       "      <td>6888</td>\n",
       "      <td>3.0</td>\n",
       "      <td>2005-04-02 23:55:27</td>\n",
       "      <td>7.0</td>\n",
       "    </tr>\n",
       "    <tr>\n",
       "      <th>78</th>\n",
       "      <td>1</td>\n",
       "      <td>2253</td>\n",
       "      <td>3.5</td>\n",
       "      <td>2005-04-02 23:55:22</td>\n",
       "      <td>8.0</td>\n",
       "    </tr>\n",
       "    <tr>\n",
       "      <th>...</th>\n",
       "      <td>...</td>\n",
       "      <td>...</td>\n",
       "      <td>...</td>\n",
       "      <td>...</td>\n",
       "      <td>...</td>\n",
       "    </tr>\n",
       "    <tr>\n",
       "      <th>20000001</th>\n",
       "      <td>138493</td>\n",
       "      <td>1894</td>\n",
       "      <td>3.0</td>\n",
       "      <td>2009-10-17 18:40:27</td>\n",
       "      <td>367.0</td>\n",
       "    </tr>\n",
       "    <tr>\n",
       "      <th>19999984</th>\n",
       "      <td>138493</td>\n",
       "      <td>1591</td>\n",
       "      <td>3.0</td>\n",
       "      <td>2009-10-17 18:40:21</td>\n",
       "      <td>368.0</td>\n",
       "    </tr>\n",
       "    <tr>\n",
       "      <th>20000230</th>\n",
       "      <td>138493</td>\n",
       "      <td>48780</td>\n",
       "      <td>5.0</td>\n",
       "      <td>2009-10-17 18:39:59</td>\n",
       "      <td>369.0</td>\n",
       "    </tr>\n",
       "    <tr>\n",
       "      <th>20000056</th>\n",
       "      <td>138493</td>\n",
       "      <td>2872</td>\n",
       "      <td>4.0</td>\n",
       "      <td>2009-10-17 18:39:44</td>\n",
       "      <td>370.0</td>\n",
       "    </tr>\n",
       "    <tr>\n",
       "      <th>20000071</th>\n",
       "      <td>138493</td>\n",
       "      <td>3174</td>\n",
       "      <td>5.0</td>\n",
       "      <td>2009-10-17 18:39:05</td>\n",
       "      <td>371.0</td>\n",
       "    </tr>\n",
       "  </tbody>\n",
       "</table>\n",
       "<p>15392683 rows × 5 columns</p>\n",
       "</div>"
      ],
      "text/plain": [
       "          userId  movieId  rating           timestamp  rank_latest\n",
       "164            1     7449     3.5 2005-04-02 23:56:03          4.0\n",
       "60             1     1525     3.0 2005-04-02 23:55:50          5.0\n",
       "109            1     3889     4.0 2005-04-02 23:55:38          6.0\n",
       "154            1     6888     3.0 2005-04-02 23:55:27          7.0\n",
       "78             1     2253     3.5 2005-04-02 23:55:22          8.0\n",
       "...          ...      ...     ...                 ...          ...\n",
       "20000001  138493     1894     3.0 2009-10-17 18:40:27        367.0\n",
       "19999984  138493     1591     3.0 2009-10-17 18:40:21        368.0\n",
       "20000230  138493    48780     5.0 2009-10-17 18:39:59        369.0\n",
       "20000056  138493     2872     4.0 2009-10-17 18:39:44        370.0\n",
       "20000071  138493     3174     5.0 2009-10-17 18:39:05        371.0\n",
       "\n",
       "[15392683 rows x 5 columns]"
      ]
     },
     "execution_count": 40,
     "metadata": {},
     "output_type": "execute_result"
    }
   ],
   "source": [
    "train_ratings"
   ]
  },
  {
   "cell_type": "code",
   "execution_count": null,
   "id": "fwwy",
   "metadata": {},
   "outputs": [
    {
     "name": "stderr",
     "output_type": "stream",
     "text": [
      "100%|██████████| 1000/1000 [00:00<00:00, 7333.31it/s]\n"
     ]
    }
   ],
   "source": [
    "train_dataset=MovieDataset(movie_ids,train_ratings.iloc[0:1000],movie_matrix_encoded_df,force_new_dataset=True)"
   ]
  },
  {
   "cell_type": "code",
   "execution_count": null,
   "id": "LJZf",
   "metadata": {},
   "outputs": [],
   "source": []
  },
  {
   "cell_type": "code",
   "execution_count": null,
   "id": "urSm",
   "metadata": {},
   "outputs": [],
   "source": []
  },
  {
   "cell_type": "code",
   "execution_count": null,
   "id": "jxvo",
   "metadata": {},
   "outputs": [],
   "source": []
  },
  {
   "cell_type": "code",
   "execution_count": 42,
   "id": "mWxS",
   "metadata": {},
   "outputs": [
    {
     "ename": "",
     "evalue": "",
     "output_type": "error",
     "traceback": [
      "\u001b[1;31mSi è verificato un arresto anomalo del Kernel durante l'esecuzione del codice nella cella attiva o in una cella precedente. \n",
      "\u001b[1;31mEsaminare il codice nelle celle per identificare una possibile causa dell'errore. \n",
      "\u001b[1;31mPer altre informazioni, fare clic<a href='https://aka.ms/vscodeJupyterKernelCrash'>qui</a>. \n",
      "\u001b[1;31mPer ulteriori dettagli, visualizzare Jupyter <a href='command:jupyter.viewOutput'>log</a>."
     ]
    }
   ],
   "source": [
    "class MovieEmbedder(nn.Module):\n",
    "\n",
    "    def __init__(self,n_movies,input_features_dim,dim_embedding=10):\n",
    "        super().__init__()\n",
    "        self.embedding=nn.Embedding(n_movies,embedding_dim=10)\n",
    "        self.linear_layers=nn.Sequential(\n",
    "            nn.Linear(10+input_features_dim,128),\n",
    "            nn.ReLU(),\n",
    "            nn.Linear(128,128),\n",
    "            nn.ReLU(),\n",
    "            nn.Linear(128,128),\n",
    "            nn.ReLU(),\n",
    "            nn.Linear(128,dim_embedding),\n",
    "            nn.ReLU()\n",
    "        )\n",
    "\n",
    "    def forward(self,x,features):\n",
    "        x=self.embedding(x)\n",
    "        x=torch.cat([x,features],dim=1)\n",
    "        x=self.linear_layers(x)\n",
    "        return x\n",
    "\n",
    "    def embed(self,x):\n",
    "        x=self.embedding(x)\n",
    "        return x\n",
    "\n",
    "class MRS(nn.Module):\n",
    "    def __init__(self,n_users,n_movies,input_features_dim,dim_movie_embedding=10,dim_users_embedding=10):\n",
    "        super().__init__()\n",
    "        self.movie_embedder=MovieEmbedder(n_movies,input_features_dim,dim_movie_embedding)\n",
    "        self.user_embedding=nn.Embedding(n_users,dim_users_embedding)\n",
    "        self.common_linear_layers=nn.Sequential(\n",
    "            nn.Linear(dim_movie_embedding+dim_users_embedding,1024),\n",
    "            nn.ReLU(),\n",
    "            nn.Linear(1024,512),\n",
    "            nn.ReLU(),\n",
    "            nn.Linear(512,256),\n",
    "            nn.ReLU(),\n",
    "            nn.Linear(256,128),\n",
    "            nn.ReLU(),\n",
    "            nn.Linear(128,64),\n",
    "            nn.ReLU(),\n",
    "        )\n",
    "        self.watched_ll=nn.Sequential(\n",
    "            nn.Linear(64,32),\n",
    "            nn.ReLU(),\n",
    "            nn.Linear(32,1),\n",
    "            nn.ReLU(),\n",
    "            nn.Sigmoid()\n",
    "        )\n",
    "        self.rating_ll=nn.Sequential(\n",
    "            nn.Linear(64,32),\n",
    "            nn.ReLU(),\n",
    "            nn.Linear(32,1),\n",
    "            nn.ReLU(),\n",
    "        )\n",
    "\n",
    "    def forward(self,movie,user,movie_feature):\n",
    "        movie=self.movie_embedder(movie,movie_feature)\n",
    "        users=self.user_embedding(user)\n",
    "        x=torch.concat([movie,users],dim=1)\n",
    "        x=self.common_linear_layers(x)\n",
    "        watched=self.watched_ll(x)\n",
    "        rating=self.rating_ll(x)\n",
    "        return watched,rating"
   ]
  },
  {
   "cell_type": "code",
   "execution_count": null,
   "id": "YWSi",
   "metadata": {},
   "outputs": [
    {
     "name": "stderr",
     "output_type": "stream",
     "text": [
      "  0%|          | 0/1000 [00:00<?, ?it/s]"
     ]
    }
   ],
   "source": [
    "train_data_loader=DataLoader(train_dataset,batch_size=2,shuffle=True)\n",
    "n_users=rating.userId.max()+1\n",
    "n_movies=rating.movieId.max()+1\n",
    "mrs=MRS(n_users=n_users,n_movies=n_movies,input_features_dim=10,dim_movie_embedding=10,dim_users_embedding=10)\n",
    "optimizer_=optim.AdamW(mrs.parameters(),lr=0.0006)\n",
    "loss1=nn.BCELoss()\n",
    "loss2=nn.MSELoss()\n",
    "for movie_info,movie,user,rat,label in tqdm.tqdm(train_data_loader):\n",
    "    watched,rating__=mrs(movie.int(),user.int(),movie_info)\n",
    "    tmp_loss=loss1(watched.view(-1),label)\n",
    "    _loss=loss2(rating__,rat)\n",
    "    loss_=_loss+tmp_loss\n",
    "    optimizer_.zero_grad()\n",
    "    loss_.backward()\n",
    "    optimizer_.step()"
   ]
  },
  {
   "cell_type": "code",
   "execution_count": null,
   "id": "zlud",
   "metadata": {},
   "outputs": [],
   "source": []
  },
  {
   "cell_type": "code",
   "execution_count": null,
   "id": "tZnO",
   "metadata": {},
   "outputs": [],
   "source": []
  }
 ],
 "metadata": {
  "kernelspec": {
   "display_name": ".venv",
   "language": "python",
   "name": "python3"
  },
  "language_info": {
   "codemirror_mode": {
    "name": "ipython",
    "version": 3
   },
   "file_extension": ".py",
   "mimetype": "text/x-python",
   "name": "python",
   "nbconvert_exporter": "python",
   "pygments_lexer": "ipython3",
   "version": "3.13.2"
  }
 },
 "nbformat": 4,
 "nbformat_minor": 5
}
