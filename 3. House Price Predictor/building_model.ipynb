{
 "cells": [
  {
   "cell_type": "code",
   "execution_count": 145,
   "metadata": {},
   "outputs": [],
   "source": [
    "import pandas as pd\n",
    "import plotly.express as px\n",
    "import plotly.graph_objects as go\n",
    "import plotly.io as pio\n",
    "import plotly.subplots as sp\n",
    "import plotly.figure_factory as ff\n",
    "import plotly.express as px\n"
   ]
  },
  {
   "cell_type": "code",
   "execution_count": 146,
   "metadata": {},
   "outputs": [],
   "source": [
    "df_train = pd.read_csv('train.csv')\n",
    "df_test = pd.read_csv('test.csv')\n",
    "\n",
    "df_test[\"SalePrice\"]=-1\n",
    "\n",
    "df=pd.concat([df_train,df_test])\n",
    "\n",
    "\n"
   ]
  },
  {
   "cell_type": "code",
   "execution_count": 147,
   "metadata": {},
   "outputs": [],
   "source": [
    "from plotly.subplots import make_subplots\n",
    "\n",
    "train_columns=[col for col in list(df.columns) if col not in ['Id','SalePrice']]\n",
    "target_column='SalePrice'\n",
    "\n",
    "df_test[train_columns].describe()\n",
    "\n",
    "df[train_columns]\n",
    "\n",
    "cat_columns=[col for col in train_columns if df[col].dtype=='object']\n",
    "\n",
    "for col in cat_columns:\n",
    "    df[col]=df[col].astype('category')  \n",
    "\n",
    "\n",
    "def plot_hist_for_all_features(df:pd.DataFrame,col_name:list[str],target_column:str):\n",
    "\n",
    "    for col in col_name:\n",
    "        fig=px.scatter(df,x=df[col],y=df[target_column],title=col)\n",
    "        fig.show()\n",
    "        \n",
    "\n",
    "\n"
   ]
  },
  {
   "cell_type": "code",
   "execution_count": 149,
   "metadata": {},
   "outputs": [],
   "source": [
    "from sklearn.preprocessing import LabelEncoder,StandardScaler\n",
    "\n",
    "numerical_columns=[col for col in train_columns if col not in cat_columns]\n",
    "\n",
    "#convert categorical variables to numerical\n",
    "encoders={}\n",
    "scalers={}\n",
    "\n",
    "for col in cat_columns:\n",
    "\n",
    "    encoder=LabelEncoder()\n",
    "    scaler=StandardScaler()\n",
    "    df[col]=encoder.fit_transform(df[col])\n",
    "    df[col]=scaler.fit_transform(df[[col]])\n",
    "    encoders[col]=encoder\n",
    "    scalers[col]=scaler\n",
    "\n",
    "for col in numerical_columns:\n",
    "    scaler=StandardScaler()\n",
    "    df[col]=scaler.fit_transform(df[[col]])\n",
    "    scalers[col]=scaler\n",
    "\n",
    "X_train=df.loc[df[target_column]!=-1,train_columns]\n",
    "y_train=df.loc[df[target_column]!=-1,target_column]\n",
    "\n",
    "target_scaler=StandardScaler()\n",
    "y_train=target_scaler.fit_transform(pd.DataFrame(y_train))\n"
   ]
  },
  {
   "cell_type": "code",
   "execution_count": 150,
   "metadata": {},
   "outputs": [
    {
     "data": {
      "text/plain": [
       "''"
      ]
     },
     "execution_count": 150,
     "metadata": {},
     "output_type": "execute_result"
    }
   ],
   "source": [
    "\"\"## Let's remove from the dataset the 3% of outliers\n",
    "from sklearn.ensemble import IsolationForest\n",
    "\n",
    "fraction_outliers=0.005\n",
    "isolation_model=IsolationForest(contamination=fraction_outliers)\n",
    "\n",
    "isolation_model.fit(X_train)\n",
    "\n",
    "outliers_mask=isolation_model.predict(X_train)\n",
    "\n",
    "X_train=X_train[outliers_mask==1]\n",
    "y_train=y_train[outliers_mask==1]\n",
    "\n",
    "\n",
    "\"\""
   ]
  },
  {
   "cell_type": "code",
   "execution_count": 151,
   "metadata": {},
   "outputs": [
    {
     "data": {
      "application/vnd.plotly.v1+json": {
       "config": {
        "plotlyServerURL": "https://plot.ly"
       },
       "data": [
        {
         "hovertemplate": "MSSubClass=%{x}<br>SalePrice=%{y}<extra></extra>",
         "legendgroup": "",
         "marker": {
          "color": "#636efa",
          "symbol": "circle"
         },
         "mode": "markers",
         "name": "",
         "showlegend": false,
         "type": "scattergl",
         "x": {
          "bdata": "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",
          "dtype": "i2"
         },
         "xaxis": "x",
         "y": {
          "bdata": "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",
          "dtype": "i4"
         },
         "yaxis": "y"
        }
       ],
       "layout": {
        "legend": {
         "tracegroupgap": 0
        },
        "template": {
         "data": {
          "bar": [
           {
            "error_x": {
             "color": "#2a3f5f"
            },
            "error_y": {
             "color": "#2a3f5f"
            },
            "marker": {
             "line": {
              "color": "#E5ECF6",
              "width": 0.5
             },
             "pattern": {
              "fillmode": "overlay",
              "size": 10,
              "solidity": 0.2
             }
            },
            "type": "bar"
           }
          ],
          "barpolar": [
           {
            "marker": {
             "line": {
              "color": "#E5ECF6",
              "width": 0.5
             },
             "pattern": {
              "fillmode": "overlay",
              "size": 10,
              "solidity": 0.2
             }
            },
            "type": "barpolar"
           }
          ],
          "carpet": [
           {
            "aaxis": {
             "endlinecolor": "#2a3f5f",
             "gridcolor": "white",
             "linecolor": "white",
             "minorgridcolor": "white",
             "startlinecolor": "#2a3f5f"
            },
            "baxis": {
             "endlinecolor": "#2a3f5f",
             "gridcolor": "white",
             "linecolor": "white",
             "minorgridcolor": "white",
             "startlinecolor": "#2a3f5f"
            },
            "type": "carpet"
           }
          ],
          "choropleth": [
           {
            "colorbar": {
             "outlinewidth": 0,
             "ticks": ""
            },
            "type": "choropleth"
           }
          ],
          "contour": [
           {
            "colorbar": {
             "outlinewidth": 0,
             "ticks": ""
            },
            "colorscale": [
             [
              0,
              "#0d0887"
             ],
             [
              0.1111111111111111,
              "#46039f"
             ],
             [
              0.2222222222222222,
              "#7201a8"
             ],
             [
              0.3333333333333333,
              "#9c179e"
             ],
             [
              0.4444444444444444,
              "#bd3786"
             ],
             [
              0.5555555555555556,
              "#d8576b"
             ],
             [
              0.6666666666666666,
              "#ed7953"
             ],
             [
              0.7777777777777778,
              "#fb9f3a"
             ],
             [
              0.8888888888888888,
              "#fdca26"
             ],
             [
              1,
              "#f0f921"
             ]
            ],
            "type": "contour"
           }
          ],
          "contourcarpet": [
           {
            "colorbar": {
             "outlinewidth": 0,
             "ticks": ""
            },
            "type": "contourcarpet"
           }
          ],
          "heatmap": [
           {
            "colorbar": {
             "outlinewidth": 0,
             "ticks": ""
            },
            "colorscale": [
             [
              0,
              "#0d0887"
             ],
             [
              0.1111111111111111,
              "#46039f"
             ],
             [
              0.2222222222222222,
              "#7201a8"
             ],
             [
              0.3333333333333333,
              "#9c179e"
             ],
             [
              0.4444444444444444,
              "#bd3786"
             ],
             [
              0.5555555555555556,
              "#d8576b"
             ],
             [
              0.6666666666666666,
              "#ed7953"
             ],
             [
              0.7777777777777778,
              "#fb9f3a"
             ],
             [
              0.8888888888888888,
              "#fdca26"
             ],
             [
              1,
              "#f0f921"
             ]
            ],
            "type": "heatmap"
           }
          ],
          "histogram": [
           {
            "marker": {
             "pattern": {
              "fillmode": "overlay",
              "size": 10,
              "solidity": 0.2
             }
            },
            "type": "histogram"
           }
          ],
          "histogram2d": [
           {
            "colorbar": {
             "outlinewidth": 0,
             "ticks": ""
            },
            "colorscale": [
             [
              0,
              "#0d0887"
             ],
             [
              0.1111111111111111,
              "#46039f"
             ],
             [
              0.2222222222222222,
              "#7201a8"
             ],
             [
              0.3333333333333333,
              "#9c179e"
             ],
             [
              0.4444444444444444,
              "#bd3786"
             ],
             [
              0.5555555555555556,
              "#d8576b"
             ],
             [
              0.6666666666666666,
              "#ed7953"
             ],
             [
              0.7777777777777778,
              "#fb9f3a"
             ],
             [
              0.8888888888888888,
              "#fdca26"
             ],
             [
              1,
              "#f0f921"
             ]
            ],
            "type": "histogram2d"
           }
          ],
          "histogram2dcontour": [
           {
            "colorbar": {
             "outlinewidth": 0,
             "ticks": ""
            },
            "colorscale": [
             [
              0,
              "#0d0887"
             ],
             [
              0.1111111111111111,
              "#46039f"
             ],
             [
              0.2222222222222222,
              "#7201a8"
             ],
             [
              0.3333333333333333,
              "#9c179e"
             ],
             [
              0.4444444444444444,
              "#bd3786"
             ],
             [
              0.5555555555555556,
              "#d8576b"
             ],
             [
              0.6666666666666666,
              "#ed7953"
             ],
             [
              0.7777777777777778,
              "#fb9f3a"
             ],
             [
              0.8888888888888888,
              "#fdca26"
             ],
             [
              1,
              "#f0f921"
             ]
            ],
            "type": "histogram2dcontour"
           }
          ],
          "mesh3d": [
           {
            "colorbar": {
             "outlinewidth": 0,
             "ticks": ""
            },
            "type": "mesh3d"
           }
          ],
          "parcoords": [
           {
            "line": {
             "colorbar": {
              "outlinewidth": 0,
              "ticks": ""
             }
            },
            "type": "parcoords"
           }
          ],
          "pie": [
           {
            "automargin": true,
            "type": "pie"
           }
          ],
          "scatter": [
           {
            "fillpattern": {
             "fillmode": "overlay",
             "size": 10,
             "solidity": 0.2
            },
            "type": "scatter"
           }
          ],
          "scatter3d": [
           {
            "line": {
             "colorbar": {
              "outlinewidth": 0,
              "ticks": ""
             }
            },
            "marker": {
             "colorbar": {
              "outlinewidth": 0,
              "ticks": ""
             }
            },
            "type": "scatter3d"
           }
          ],
          "scattercarpet": [
           {
            "marker": {
             "colorbar": {
              "outlinewidth": 0,
              "ticks": ""
             }
            },
            "type": "scattercarpet"
           }
          ],
          "scattergeo": [
           {
            "marker": {
             "colorbar": {
              "outlinewidth": 0,
              "ticks": ""
             }
            },
            "type": "scattergeo"
           }
          ],
          "scattergl": [
           {
            "marker": {
             "colorbar": {
              "outlinewidth": 0,
              "ticks": ""
             }
            },
            "type": "scattergl"
           }
          ],
          "scattermap": [
           {
            "marker": {
             "colorbar": {
              "outlinewidth": 0,
              "ticks": ""
             }
            },
            "type": "scattermap"
           }
          ],
          "scattermapbox": [
           {
            "marker": {
             "colorbar": {
              "outlinewidth": 0,
              "ticks": ""
             }
            },
            "type": "scattermapbox"
           }
          ],
          "scatterpolar": [
           {
            "marker": {
             "colorbar": {
              "outlinewidth": 0,
              "ticks": ""
             }
            },
            "type": "scatterpolar"
           }
          ],
          "scatterpolargl": [
           {
            "marker": {
             "colorbar": {
              "outlinewidth": 0,
              "ticks": ""
             }
            },
            "type": "scatterpolargl"
           }
          ],
          "scatterternary": [
           {
            "marker": {
             "colorbar": {
              "outlinewidth": 0,
              "ticks": ""
             }
            },
            "type": "scatterternary"
           }
          ],
          "surface": [
           {
            "colorbar": {
             "outlinewidth": 0,
             "ticks": ""
            },
            "colorscale": [
             [
              0,
              "#0d0887"
             ],
             [
              0.1111111111111111,
              "#46039f"
             ],
             [
              0.2222222222222222,
              "#7201a8"
             ],
             [
              0.3333333333333333,
              "#9c179e"
             ],
             [
              0.4444444444444444,
              "#bd3786"
             ],
             [
              0.5555555555555556,
              "#d8576b"
             ],
             [
              0.6666666666666666,
              "#ed7953"
             ],
             [
              0.7777777777777778,
              "#fb9f3a"
             ],
             [
              0.8888888888888888,
              "#fdca26"
             ],
             [
              1,
              "#f0f921"
             ]
            ],
            "type": "surface"
           }
          ],
          "table": [
           {
            "cells": {
             "fill": {
              "color": "#EBF0F8"
             },
             "line": {
              "color": "white"
             }
            },
            "header": {
             "fill": {
              "color": "#C8D4E3"
             },
             "line": {
              "color": "white"
             }
            },
            "type": "table"
           }
          ]
         },
         "layout": {
          "annotationdefaults": {
           "arrowcolor": "#2a3f5f",
           "arrowhead": 0,
           "arrowwidth": 1
          },
          "autotypenumbers": "strict",
          "coloraxis": {
           "colorbar": {
            "outlinewidth": 0,
            "ticks": ""
           }
          },
          "colorscale": {
           "diverging": [
            [
             0,
             "#8e0152"
            ],
            [
             0.1,
             "#c51b7d"
            ],
            [
             0.2,
             "#de77ae"
            ],
            [
             0.3,
             "#f1b6da"
            ],
            [
             0.4,
             "#fde0ef"
            ],
            [
             0.5,
             "#f7f7f7"
            ],
            [
             0.6,
             "#e6f5d0"
            ],
            [
             0.7,
             "#b8e186"
            ],
            [
             0.8,
             "#7fbc41"
            ],
            [
             0.9,
             "#4d9221"
            ],
            [
             1,
             "#276419"
            ]
           ],
           "sequential": [
            [
             0,
             "#0d0887"
            ],
            [
             0.1111111111111111,
             "#46039f"
            ],
            [
             0.2222222222222222,
             "#7201a8"
            ],
            [
             0.3333333333333333,
             "#9c179e"
            ],
            [
             0.4444444444444444,
             "#bd3786"
            ],
            [
             0.5555555555555556,
             "#d8576b"
            ],
            [
             0.6666666666666666,
             "#ed7953"
            ],
            [
             0.7777777777777778,
             "#fb9f3a"
            ],
            [
             0.8888888888888888,
             "#fdca26"
            ],
            [
             1,
             "#f0f921"
            ]
           ],
           "sequentialminus": [
            [
             0,
             "#0d0887"
            ],
            [
             0.1111111111111111,
             "#46039f"
            ],
            [
             0.2222222222222222,
             "#7201a8"
            ],
            [
             0.3333333333333333,
             "#9c179e"
            ],
            [
             0.4444444444444444,
             "#bd3786"
            ],
            [
             0.5555555555555556,
             "#d8576b"
            ],
            [
             0.6666666666666666,
             "#ed7953"
            ],
            [
             0.7777777777777778,
             "#fb9f3a"
            ],
            [
             0.8888888888888888,
             "#fdca26"
            ],
            [
             1,
             "#f0f921"
            ]
           ]
          },
          "colorway": [
           "#636efa",
           "#EF553B",
           "#00cc96",
           "#ab63fa",
           "#FFA15A",
           "#19d3f3",
           "#FF6692",
           "#B6E880",
           "#FF97FF",
           "#FECB52"
          ],
          "font": {
           "color": "#2a3f5f"
          },
          "geo": {
           "bgcolor": "white",
           "lakecolor": "white",
           "landcolor": "#E5ECF6",
           "showlakes": true,
           "showland": true,
           "subunitcolor": "white"
          },
          "hoverlabel": {
           "align": "left"
          },
          "hovermode": "closest",
          "mapbox": {
           "style": "light"
          },
          "paper_bgcolor": "white",
          "plot_bgcolor": "#E5ECF6",
          "polar": {
           "angularaxis": {
            "gridcolor": "white",
            "linecolor": "white",
            "ticks": ""
           },
           "bgcolor": "#E5ECF6",
           "radialaxis": {
            "gridcolor": "white",
            "linecolor": "white",
            "ticks": ""
           }
          },
          "scene": {
           "xaxis": {
            "backgroundcolor": "#E5ECF6",
            "gridcolor": "white",
            "gridwidth": 2,
            "linecolor": "white",
            "showbackground": true,
            "ticks": "",
            "zerolinecolor": "white"
           },
           "yaxis": {
            "backgroundcolor": "#E5ECF6",
            "gridcolor": "white",
            "gridwidth": 2,
            "linecolor": "white",
            "showbackground": true,
            "ticks": "",
            "zerolinecolor": "white"
           },
           "zaxis": {
            "backgroundcolor": "#E5ECF6",
            "gridcolor": "white",
            "gridwidth": 2,
            "linecolor": "white",
            "showbackground": true,
            "ticks": "",
            "zerolinecolor": "white"
           }
          },
          "shapedefaults": {
           "line": {
            "color": "#2a3f5f"
           }
          },
          "ternary": {
           "aaxis": {
            "gridcolor": "white",
            "linecolor": "white",
            "ticks": ""
           },
           "baxis": {
            "gridcolor": "white",
            "linecolor": "white",
            "ticks": ""
           },
           "bgcolor": "#E5ECF6",
           "caxis": {
            "gridcolor": "white",
            "linecolor": "white",
            "ticks": ""
           }
          },
          "title": {
           "x": 0.05
          },
          "xaxis": {
           "automargin": true,
           "gridcolor": "white",
           "linecolor": "white",
           "ticks": "",
           "title": {
            "standoff": 15
           },
           "zerolinecolor": "white",
           "zerolinewidth": 2
          },
          "yaxis": {
           "automargin": true,
           "gridcolor": "white",
           "linecolor": "white",
           "ticks": "",
           "title": {
            "standoff": 15
           },
           "zerolinecolor": "white",
           "zerolinewidth": 2
          }
         }
        },
        "title": {
         "text": "MSSubClass"
        },
        "xaxis": {
         "anchor": "y",
         "domain": [
          0,
          1
         ],
         "title": {
          "text": "MSSubClass"
         }
        },
        "yaxis": {
         "anchor": "x",
         "domain": [
          0,
          1
         ],
         "title": {
          "text": "SalePrice"
         }
        }
       }
      }
     },
     "metadata": {},
     "output_type": "display_data"
    },
    {
     "data": {
      "application/vnd.plotly.v1+json": {
       "config": {
        "plotlyServerURL": "https://plot.ly"
       },
       "data": [
        {
         "hovertemplate": "MSZoning=%{x}<br>SalePrice=%{y}<extra></extra>",
         "legendgroup": "",
         "marker": {
          "color": "#636efa",
          "symbol": "circle"
         },
         "mode": "markers",
         "name": "",
         "showlegend": false,
         "type": "scattergl",
         "x": [
          "RL",
          "RL",
          "RL",
          "RL",
          "RL",
          "RL",
          "RL",
          "RL",
          "RM",
          "RL",
          "RL",
          "RL",
          "RL",
          "RL",
          "RL",
          "RM",
          "RL",
          "RL",
          "RL",
          "RL",
          "RL",
          "RM",
          "RL",
          "RM",
          "RL",
          "RL",
          "RL",
          "RL",
          "RL",
          "RM",
          "C (all)",
          "RL",
          "RL",
          "RL",
          "RL",
          "RL",
          "RL",
          "RL",
          "RL",
          "RL",
          "RL",
          "RL",
          "RL",
          "RL",
          "RL",
          "RL",
          "RL",
          "FV",
          "RM",
          "RL",
          "RL",
          "RM",
          "RM",
          "RL",
          "RL",
          "RL",
          "FV",
          "RL",
          "RL",
          "RL",
          "RL",
          "RM",
          "RL",
          "RM",
          "RL",
          "RL",
          "RL",
          "RL",
          "RM",
          "RL",
          "RL",
          "RL",
          "RL",
          "RL",
          "RM",
          "RM",
          "RL",
          "RM",
          "RL",
          "RM",
          "RL",
          "RM",
          "RL",
          "RL",
          "RL",
          "RL",
          "RL",
          "FV",
          "C (all)",
          "RL",
          "RL",
          "RL",
          "RL",
          "C (all)",
          "RL",
          "RL",
          "RL",
          "RL",
          "RL",
          "RL",
          "RL",
          "RL",
          "RL",
          "RL",
          "RM",
          "FV",
          "RM",
          "RM",
          "RM",
          "RL",
          "RL",
          "RL",
          "RL",
          "RL",
          "RL",
          "FV",
          "RL",
          "RL",
          "RL",
          "RL",
          "RL",
          "RM",
          "RL",
          "RL",
          "RL",
          "RM",
          "RL",
          "RM",
          "RL",
          "RL",
          "RL",
          "RL",
          "RL",
          "RL",
          "RL",
          "RL",
          "RL",
          "RL",
          "RL",
          "RL",
          "RL",
          "RL",
          "RL",
          "RL",
          "RM",
          "RM",
          "RM",
          "RL",
          "RL",
          "RM",
          "RL",
          "RL",
          "RL",
          "RL",
          "RM",
          "RL",
          "RL",
          "RL",
          "FV",
          "RL",
          "RL",
          "RL",
          "RL",
          "RL",
          "RM",
          "RL",
          "RL",
          "RL",
          "RL",
          "RL",
          "RM",
          "RL",
          "RL",
          "RL",
          "RL",
          "RL",
          "RL",
          "RL",
          "RL",
          "RM",
          "FV",
          "RL",
          "RL",
          "RM",
          "RL",
          "RM",
          "RL",
          "RL",
          "RL",
          "RL",
          "RL",
          "RL",
          "RL",
          "RM",
          "RL",
          "RL",
          "RL",
          "RL",
          "RM",
          "RL",
          "RM",
          "RL",
          "RL",
          "RM",
          "RM",
          "RL",
          "RL",
          "RL",
          "RL",
          "RL",
          "RL",
          "RL",
          "FV",
          "RL",
          "RL",
          "RL",
          "RL",
          "RM",
          "RL",
          "RL",
          "RL",
          "RL",
          "RL",
          "RL",
          "RL",
          "RM",
          "RL",
          "RM",
          "RL",
          "RL",
          "RL",
          "RL",
          "RM",
          "RL",
          "RL",
          "RM",
          "RL",
          "RL",
          "RL",
          "RL",
          "FV",
          "RM",
          "RM",
          "RL",
          "RL",
          "RL",
          "RM",
          "RL",
          "RL",
          "RL",
          "RL",
          "RM",
          "RL",
          "RL",
          "RL",
          "RL",
          "FV",
          "RL",
          "RL",
          "RM",
          "RL",
          "RL",
          "RL",
          "RM",
          "RM",
          "RL",
          "RL",
          "RL",
          "RM",
          "RL",
          "FV",
          "RL",
          "RL",
          "RL",
          "RL",
          "RL",
          "RL",
          "RL",
          "RL",
          "RL",
          "RL",
          "FV",
          "RL",
          "RL",
          "RL",
          "FV",
          "RL",
          "RL",
          "RL",
          "RL",
          "RL",
          "RL",
          "RL",
          "RL",
          "RL",
          "RL",
          "RM",
          "FV",
          "RL",
          "RL",
          "RL",
          "RL",
          "RL",
          "RL",
          "RM",
          "RL",
          "RL",
          "RM",
          "RL",
          "RL",
          "RL",
          "RL",
          "RM",
          "RL",
          "RM",
          "RL",
          "RL",
          "FV",
          "RL",
          "RL",
          "RL",
          "RL",
          "RL",
          "RM",
          "RL",
          "RM",
          "RL",
          "RL",
          "RL",
          "RM",
          "RL",
          "RL",
          "RL",
          "RM",
          "RL",
          "RL",
          "RL",
          "RL",
          "RL",
          "RL",
          "RL",
          "RH",
          "RL",
          "RL",
          "RM",
          "RL",
          "RL",
          "RL",
          "RL",
          "RL",
          "RL",
          "RL",
          "RL",
          "RM",
          "RL",
          "RL",
          "RL",
          "RM",
          "RL",
          "RL",
          "RL",
          "RL",
          "RL",
          "RM",
          "RL",
          "RM",
          "RL",
          "RL",
          "RL",
          "RL",
          "RL",
          "RL",
          "RL",
          "RL",
          "RL",
          "RL",
          "RL",
          "FV",
          "RL",
          "RL",
          "RL",
          "FV",
          "RL",
          "RH",
          "RL",
          "RL",
          "RL",
          "RL",
          "RL",
          "RL",
          "RL",
          "RL",
          "RL",
          "RL",
          "RL",
          "RL",
          "RL",
          "RL",
          "RM",
          "FV",
          "RL",
          "RL",
          "RL",
          "RL",
          "RL",
          "RL",
          "RL",
          "RL",
          "RL",
          "FV",
          "RL",
          "RL",
          "FV",
          "RM",
          "RL",
          "RL",
          "RL",
          "RL",
          "RL",
          "RL",
          "RM",
          "RL",
          "RL",
          "RL",
          "RL",
          "RM",
          "RL",
          "RL",
          "RL",
          "RL",
          "RM",
          "RM",
          "RM",
          "RL",
          "RM",
          "RL",
          "RM",
          "RM",
          "RL",
          "RL",
          "RL",
          "RL",
          "RM",
          "RL",
          "RL",
          "RL",
          "RL",
          "RL",
          "RM",
          "RM",
          "RM",
          "RL",
          "RL",
          "FV",
          "RL",
          "RL",
          "RM",
          "RL",
          "RM",
          "RL",
          "FV",
          "RL",
          "RL",
          "RL",
          "RL",
          "RM",
          "RL",
          "RL",
          "RL",
          "RL",
          "RL",
          "RL",
          "RM",
          "RL",
          "RL",
          "RL",
          "RL",
          "RL",
          "RL",
          "RM",
          "RL",
          "RL",
          "RM",
          "RM",
          "RL",
          "RL",
          "RL",
          "RL",
          "RL",
          "RM",
          "RM",
          "RL",
          "RL",
          "RL",
          "RM",
          "C (all)",
          "RL",
          "RL",
          "RL",
          "RL",
          "RM",
          "FV",
          "RL",
          "RL",
          "RL",
          "RM",
          "RL",
          "FV",
          "RM",
          "RL",
          "RL",
          "RL",
          "RL",
          "RL",
          "RL",
          "RL",
          "RL",
          "RL",
          "RL",
          "RL",
          "RL",
          "RL",
          "RM",
          "RL",
          "RL",
          "FV",
          "RL",
          "RL",
          "RL",
          "RL",
          "RL",
          "RM",
          "RL",
          "RL",
          "RL",
          "RL",
          "RL",
          "RL",
          "RL",
          "RL",
          "RL",
          "RL",
          "RL",
          "RH",
          "RL",
          "RL",
          "RL",
          "RL",
          "RM",
          "FV",
          "RL",
          "RM",
          "RL",
          "RL",
          "RL",
          "RM",
          "RL",
          "C (all)",
          "RL",
          "RL",
          "RL",
          "RL",
          "RL",
          "RL",
          "RL",
          "RL",
          "RL",
          "RL",
          "RL",
          "RL",
          "RL",
          "RL",
          "RL",
          "RL",
          "RL",
          "RL",
          "RL",
          "RL",
          "FV",
          "RM",
          "RL",
          "RL",
          "RL",
          "RM",
          "RM",
          "RL",
          "RL",
          "RL",
          "RL",
          "RM",
          "RL",
          "RL",
          "RL",
          "RM",
          "RL",
          "RL",
          "RM",
          "RL",
          "RL",
          "RM",
          "RL",
          "RM",
          "RL",
          "FV",
          "RL",
          "RL",
          "RL",
          "RL",
          "RL",
          "RL",
          "RL",
          "RL",
          "RL",
          "RL",
          "RM",
          "RL",
          "RL",
          "RL",
          "RL",
          "RL",
          "RL",
          "RL",
          "RL",
          "FV",
          "RL",
          "RL",
          "RL",
          "RL",
          "RL",
          "RL",
          "RM",
          "RL",
          "RL",
          "RL",
          "RL",
          "RH",
          "RM",
          "RM",
          "RL",
          "RL",
          "RL",
          "FV",
          "RL",
          "RL",
          "FV",
          "RL",
          "RL",
          "RL",
          "RL",
          "RM",
          "FV",
          "RL",
          "RL",
          "RM",
          "RL",
          "RM",
          "RL",
          "RL",
          "RL",
          "RL",
          "RL",
          "RL",
          "RL",
          "RL",
          "RL",
          "RL",
          "RL",
          "RL",
          "RL",
          "RL",
          "RL",
          "RH",
          "RL",
          "RL",
          "RL",
          "RL",
          "RM",
          "RL",
          "RL",
          "RL",
          "RL",
          "RH",
          "RL",
          "RL",
          "RL",
          "RL",
          "FV",
          "FV",
          "RL",
          "RL",
          "RM",
          "RL",
          "RL",
          "RL",
          "RM",
          "RL",
          "RM",
          "RL",
          "RL",
          "FV",
          "RL",
          "RL",
          "RL",
          "RM",
          "RL",
          "RM",
          "RL",
          "RL",
          "RL",
          "RL",
          "RL",
          "C (all)",
          "RL",
          "RL",
          "RL",
          "RL",
          "RM",
          "RL",
          "RL",
          "RL",
          "RL",
          "RM",
          "RL",
          "RL",
          "RL",
          "RL",
          "RL",
          "RL",
          "RL",
          "RM",
          "RL",
          "RL",
          "RL",
          "RL",
          "RL",
          "RM",
          "RL",
          "RL",
          "RL",
          "RL",
          "RM",
          "RL",
          "RL",
          "RL",
          "RL",
          "RL",
          "RL",
          "RM",
          "RL",
          "RL",
          "RM",
          "RL",
          "RL",
          "RL",
          "RL",
          "FV",
          "RL",
          "RL",
          "FV",
          "RL",
          "RL",
          "RM",
          "FV",
          "RL",
          "RL",
          "RL",
          "RL",
          "RL",
          "RL",
          "RL",
          "RL",
          "RL",
          "RL",
          "RL",
          "RL",
          "RM",
          "RL",
          "RL",
          "RH",
          "RL",
          "RL",
          "RL",
          "RL",
          "RL",
          "RM",
          "RL",
          "RM",
          "RL",
          "RM",
          "RL",
          "RL",
          "RL",
          "RL",
          "RL",
          "RL",
          "RL",
          "RL",
          "RL",
          "RL",
          "RL",
          "RL",
          "RM",
          "RL",
          "RL",
          "RL",
          "RL",
          "RL",
          "RL",
          "RL",
          "RM",
          "RL",
          "RM",
          "C (all)",
          "RL",
          "RL",
          "RL",
          "RL",
          "RL",
          "RL",
          "RL",
          "RL",
          "RM",
          "RL",
          "RL",
          "FV",
          "RL",
          "RM",
          "RL",
          "RL",
          "FV",
          "RL",
          "FV",
          "RL",
          "RL",
          "RL",
          "RL",
          "RM",
          "RM",
          "RL",
          "RL",
          "RH",
          "RM",
          "RL",
          "RL",
          "RM",
          "RL",
          "RL",
          "RL",
          "RL",
          "RL",
          "RM",
          "RL",
          "RL",
          "RL",
          "RL",
          "RL",
          "RL",
          "RL",
          "RL",
          "RL",
          "RL",
          "RL",
          "RL",
          "RL",
          "FV",
          "RL",
          "RL",
          "RL",
          "RL",
          "RL",
          "RL",
          "RL",
          "RL",
          "RL",
          "RM",
          "FV",
          "RL",
          "RL",
          "RL",
          "RL",
          "RL",
          "RL",
          "RL",
          "RL",
          "RL",
          "FV",
          "RL",
          "RL",
          "RL",
          "RL",
          "RL",
          "RL",
          "RL",
          "RL",
          "RL",
          "RL",
          "RM",
          "RL",
          "RL",
          "RL",
          "RL",
          "RL",
          "RL",
          "RL",
          "RL",
          "RL",
          "RL",
          "RL",
          "RL",
          "RL",
          "RL",
          "RL",
          "RM",
          "RH",
          "FV",
          "RM",
          "C (all)",
          "RL",
          "RL",
          "RL",
          "RL",
          "RL",
          "RL",
          "RL",
          "RL",
          "RL",
          "RL",
          "RL",
          "RL",
          "RL",
          "RL",
          "RL",
          "RL",
          "RL",
          "RL",
          "RL",
          "RL",
          "RL",
          "RL",
          "RL",
          "RL",
          "RL",
          "RL",
          "RL",
          "RL",
          "RM",
          "RL",
          "RL",
          "RL",
          "RL",
          "RL",
          "RH",
          "RL",
          "RL",
          "RL",
          "RH",
          "RM",
          "RL",
          "RL",
          "FV",
          "RL",
          "RL",
          "RL",
          "RL",
          "RL",
          "RL",
          "RL",
          "RL",
          "RM",
          "RL",
          "RL",
          "RL",
          "RL",
          "FV",
          "RL",
          "FV",
          "RL",
          "FV",
          "RL",
          "RL",
          "RL",
          "RL",
          "RL",
          "RL",
          "RL",
          "RL",
          "RM",
          "RL",
          "RL",
          "FV",
          "RL",
          "RM",
          "RL",
          "RL",
          "RL",
          "RL",
          "RL",
          "RL",
          "RM",
          "RL",
          "RL",
          "RL",
          "RL",
          "RL",
          "RL",
          "RL",
          "RL",
          "RM",
          "RL",
          "RL",
          "RL",
          "RL",
          "RL",
          "RM",
          "RL",
          "RL",
          "RL",
          "RL",
          "RL",
          "RL",
          "RL",
          "RL",
          "RM",
          "RL",
          "RL",
          "RL",
          "RL",
          "RL",
          "RL",
          "RM",
          "RH",
          "RL",
          "RL",
          "RL",
          "RL",
          "RL",
          "RL",
          "RL",
          "RM",
          "RM",
          "RL",
          "RL",
          "RL",
          "RL",
          "RL",
          "RL",
          "RL",
          "RL",
          "RL",
          "RL",
          "RL",
          "RL",
          "RL",
          "RL",
          "RL",
          "RL",
          "RL",
          "RL",
          "RL",
          "RL",
          "RL",
          "C (all)",
          "RM",
          "RM",
          "RL",
          "RL",
          "RL",
          "RL",
          "RM",
          "RL",
          "RL",
          "RL",
          "RL",
          "RL",
          "RL",
          "RL",
          "RL",
          "RL",
          "RM",
          "RL",
          "RL",
          "RL",
          "RL",
          "RL",
          "RL",
          "RL",
          "RM",
          "FV",
          "RM",
          "FV",
          "RL",
          "FV",
          "RL",
          "RL",
          "RL",
          "RL",
          "RM",
          "RL",
          "RM",
          "RL",
          "RL",
          "RL",
          "RL",
          "RL",
          "RM",
          "RL",
          "RL",
          "RL",
          "RL",
          "RL",
          "RL",
          "RL",
          "RL",
          "RL",
          "RL",
          "RL",
          "RL",
          "RL",
          "RL",
          "RL",
          "RM",
          "RL",
          "RL",
          "RL",
          "RL",
          "RL",
          "RL",
          "RL",
          "RL",
          "RM",
          "RL",
          "RL",
          "RM",
          "RL",
          "RL",
          "RM",
          "RL",
          "RL",
          "RL",
          "RL",
          "RL",
          "RL",
          "RL",
          "RL",
          "RL",
          "RM",
          "RL",
          "RL",
          "RM",
          "RM",
          "RL",
          "RL",
          "RL",
          "RM",
          "RL",
          "RL",
          "RL",
          "RL",
          "RL",
          "RL",
          "RL",
          "RL",
          "RL",
          "RL",
          "RL",
          "RL",
          "RL",
          "RL",
          "RL",
          "RL",
          "RL",
          "RL",
          "FV",
          "RL",
          "RL",
          "RL",
          "RL",
          "RM",
          "RL",
          "RL",
          "RL",
          "RM",
          "RL",
          "RL",
          "RL",
          "RL",
          "RL",
          "RL",
          "RL",
          "RL",
          "RL",
          "FV",
          "RM",
          "RM",
          "RL",
          "RL",
          "RL",
          "RM",
          "RL",
          "RL",
          "RL",
          "RL",
          "RM",
          "RL",
          "RL",
          "RL",
          "RH",
          "RL",
          "RL",
          "RL",
          "RL",
          "RL",
          "RL",
          "RL",
          "RL",
          "RL",
          "RM",
          "FV",
          "RM",
          "RM",
          "RL",
          "RL",
          "RL",
          "RL",
          "RL",
          "RL",
          "RL",
          "RL",
          "RL",
          "RL",
          "RL",
          "RL",
          "RL",
          "RL",
          "RH",
          "RL",
          "RL",
          "RL",
          "RL",
          "RL",
          "RL",
          "RL",
          "RL",
          "RL",
          "RL",
          "RL",
          "FV",
          "RL",
          "RM",
          "RL",
          "RL",
          "RL",
          "RL",
          "RL",
          "RL",
          "RM",
          "RL",
          "RL",
          "RL",
          "RL",
          "RL",
          "RL",
          "RL",
          "RL",
          "RH",
          "FV",
          "RM",
          "RL",
          "RL",
          "RL",
          "RL",
          "RL",
          "RL",
          "RL",
          "RL",
          "RL",
          "RL",
          "RL",
          "RL",
          "C (all)",
          "RL",
          "RL",
          "RL",
          "RL",
          "RL",
          "RM",
          "RL",
          "RL",
          "RL",
          "RL",
          "RL",
          "RM",
          "RM",
          "RL",
          "RL",
          "RL",
          "RL",
          "RM",
          "RL",
          "RL",
          "RL",
          "RL",
          "RL",
          "RL",
          "RM",
          "RL",
          "RL",
          "RL",
          "RM",
          "RL",
          "RL",
          "RL",
          "RL",
          "RL",
          "RL",
          "RL",
          "RL",
          "FV",
          "RL",
          "RL",
          "RL",
          "RL",
          "RL",
          "RL",
          "RL",
          "RM",
          "RH",
          "RL",
          "RM",
          "RL",
          "RL",
          "RL",
          "RL",
          "RM",
          "RM",
          "RL",
          "RL",
          "RM",
          "RL",
          "RL",
          "RL",
          "RL",
          "RL",
          "RL",
          "RL",
          "RM",
          "RL",
          "RL",
          "RL",
          "RM",
          "RL",
          "RL",
          "RM",
          "RL",
          "RL",
          "RL",
          "RL",
          "RL",
          "FV",
          "RL",
          "RL",
          "RL",
          "RL",
          "RL",
          "FV",
          "FV",
          "RL",
          "RM",
          "RM",
          "RL",
          "RL",
          "RL",
          "RL",
          "RL",
          "FV",
          "RL",
          "RL",
          "RL",
          "RM",
          "RL",
          "RL",
          "RL",
          "RM",
          "RL",
          "RL",
          "RM",
          "RL",
          "RM",
          "RL",
          "RM",
          "RL",
          "RL",
          "RL",
          "RM",
          "RL",
          "RL",
          "RL",
          "RM",
          "RL",
          "RL",
          "RM",
          "RL",
          "RL",
          "RL",
          "RL",
          "RM",
          "RL",
          "RL",
          "RM",
          "RL",
          "RL",
          "RL",
          "RL",
          "RL",
          "RL",
          "RL",
          "RM",
          "RL",
          "RL",
          "RL",
          "RL",
          "RL",
          "RM",
          "RL",
          "RL",
          "RL",
          "RL",
          "RL",
          "RM",
          "RL",
          "RL",
          "RL",
          "RL",
          "RL",
          "RL",
          "RL",
          "RL",
          "RL",
          "RM",
          "RL",
          "RL",
          "RM",
          "FV",
          "RL",
          "RL",
          "RL",
          "RL",
          "RL",
          "RL",
          "RM",
          "RL",
          "RL",
          "RM",
          "RL",
          "FV",
          "RL",
          "RL",
          "RL",
          "RL",
          "RL"
         ],
         "xaxis": "x",
         "y": {
          "bdata": "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",
          "dtype": "i4"
         },
         "yaxis": "y"
        }
       ],
       "layout": {
        "legend": {
         "tracegroupgap": 0
        },
        "template": {
         "data": {
          "bar": [
           {
            "error_x": {
             "color": "#2a3f5f"
            },
            "error_y": {
             "color": "#2a3f5f"
            },
            "marker": {
             "line": {
              "color": "#E5ECF6",
              "width": 0.5
             },
             "pattern": {
              "fillmode": "overlay",
              "size": 10,
              "solidity": 0.2
             }
            },
            "type": "bar"
           }
          ],
          "barpolar": [
           {
            "marker": {
             "line": {
              "color": "#E5ECF6",
              "width": 0.5
             },
             "pattern": {
              "fillmode": "overlay",
              "size": 10,
              "solidity": 0.2
             }
            },
            "type": "barpolar"
           }
          ],
          "carpet": [
           {
            "aaxis": {
             "endlinecolor": "#2a3f5f",
             "gridcolor": "white",
             "linecolor": "white",
             "minorgridcolor": "white",
             "startlinecolor": "#2a3f5f"
            },
            "baxis": {
             "endlinecolor": "#2a3f5f",
             "gridcolor": "white",
             "linecolor": "white",
             "minorgridcolor": "white",
             "startlinecolor": "#2a3f5f"
            },
            "type": "carpet"
           }
          ],
          "choropleth": [
           {
            "colorbar": {
             "outlinewidth": 0,
             "ticks": ""
            },
            "type": "choropleth"
           }
          ],
          "contour": [
           {
            "colorbar": {
             "outlinewidth": 0,
             "ticks": ""
            },
            "colorscale": [
             [
              0,
              "#0d0887"
             ],
             [
              0.1111111111111111,
              "#46039f"
             ],
             [
              0.2222222222222222,
              "#7201a8"
             ],
             [
              0.3333333333333333,
              "#9c179e"
             ],
             [
              0.4444444444444444,
              "#bd3786"
             ],
             [
              0.5555555555555556,
              "#d8576b"
             ],
             [
              0.6666666666666666,
              "#ed7953"
             ],
             [
              0.7777777777777778,
              "#fb9f3a"
             ],
             [
              0.8888888888888888,
              "#fdca26"
             ],
             [
              1,
              "#f0f921"
             ]
            ],
            "type": "contour"
           }
          ],
          "contourcarpet": [
           {
            "colorbar": {
             "outlinewidth": 0,
             "ticks": ""
            },
            "type": "contourcarpet"
           }
          ],
          "heatmap": [
           {
            "colorbar": {
             "outlinewidth": 0,
             "ticks": ""
            },
            "colorscale": [
             [
              0,
              "#0d0887"
             ],
             [
              0.1111111111111111,
              "#46039f"
             ],
             [
              0.2222222222222222,
              "#7201a8"
             ],
             [
              0.3333333333333333,
              "#9c179e"
             ],
             [
              0.4444444444444444,
              "#bd3786"
             ],
             [
              0.5555555555555556,
              "#d8576b"
             ],
             [
              0.6666666666666666,
              "#ed7953"
             ],
             [
              0.7777777777777778,
              "#fb9f3a"
             ],
             [
              0.8888888888888888,
              "#fdca26"
             ],
             [
              1,
              "#f0f921"
             ]
            ],
            "type": "heatmap"
           }
          ],
          "histogram": [
           {
            "marker": {
             "pattern": {
              "fillmode": "overlay",
              "size": 10,
              "solidity": 0.2
             }
            },
            "type": "histogram"
           }
          ],
          "histogram2d": [
           {
            "colorbar": {
             "outlinewidth": 0,
             "ticks": ""
            },
            "colorscale": [
             [
              0,
              "#0d0887"
             ],
             [
              0.1111111111111111,
              "#46039f"
             ],
             [
              0.2222222222222222,
              "#7201a8"
             ],
             [
              0.3333333333333333,
              "#9c179e"
             ],
             [
              0.4444444444444444,
              "#bd3786"
             ],
             [
              0.5555555555555556,
              "#d8576b"
             ],
             [
              0.6666666666666666,
              "#ed7953"
             ],
             [
              0.7777777777777778,
              "#fb9f3a"
             ],
             [
              0.8888888888888888,
              "#fdca26"
             ],
             [
              1,
              "#f0f921"
             ]
            ],
            "type": "histogram2d"
           }
          ],
          "histogram2dcontour": [
           {
            "colorbar": {
             "outlinewidth": 0,
             "ticks": ""
            },
            "colorscale": [
             [
              0,
              "#0d0887"
             ],
             [
              0.1111111111111111,
              "#46039f"
             ],
             [
              0.2222222222222222,
              "#7201a8"
             ],
             [
              0.3333333333333333,
              "#9c179e"
             ],
             [
              0.4444444444444444,
              "#bd3786"
             ],
             [
              0.5555555555555556,
              "#d8576b"
             ],
             [
              0.6666666666666666,
              "#ed7953"
             ],
             [
              0.7777777777777778,
              "#fb9f3a"
             ],
             [
              0.8888888888888888,
              "#fdca26"
             ],
             [
              1,
              "#f0f921"
             ]
            ],
            "type": "histogram2dcontour"
           }
          ],
          "mesh3d": [
           {
            "colorbar": {
             "outlinewidth": 0,
             "ticks": ""
            },
            "type": "mesh3d"
           }
          ],
          "parcoords": [
           {
            "line": {
             "colorbar": {
              "outlinewidth": 0,
              "ticks": ""
             }
            },
            "type": "parcoords"
           }
          ],
          "pie": [
           {
            "automargin": true,
            "type": "pie"
           }
          ],
          "scatter": [
           {
            "fillpattern": {
             "fillmode": "overlay",
             "size": 10,
             "solidity": 0.2
            },
            "type": "scatter"
           }
          ],
          "scatter3d": [
           {
            "line": {
             "colorbar": {
              "outlinewidth": 0,
              "ticks": ""
             }
            },
            "marker": {
             "colorbar": {
              "outlinewidth": 0,
              "ticks": ""
             }
            },
            "type": "scatter3d"
           }
          ],
          "scattercarpet": [
           {
            "marker": {
             "colorbar": {
              "outlinewidth": 0,
              "ticks": ""
             }
            },
            "type": "scattercarpet"
           }
          ],
          "scattergeo": [
           {
            "marker": {
             "colorbar": {
              "outlinewidth": 0,
              "ticks": ""
             }
            },
            "type": "scattergeo"
           }
          ],
          "scattergl": [
           {
            "marker": {
             "colorbar": {
              "outlinewidth": 0,
              "ticks": ""
             }
            },
            "type": "scattergl"
           }
          ],
          "scattermap": [
           {
            "marker": {
             "colorbar": {
              "outlinewidth": 0,
              "ticks": ""
             }
            },
            "type": "scattermap"
           }
          ],
          "scattermapbox": [
           {
            "marker": {
             "colorbar": {
              "outlinewidth": 0,
              "ticks": ""
             }
            },
            "type": "scattermapbox"
           }
          ],
          "scatterpolar": [
           {
            "marker": {
             "colorbar": {
              "outlinewidth": 0,
              "ticks": ""
             }
            },
            "type": "scatterpolar"
           }
          ],
          "scatterpolargl": [
           {
            "marker": {
             "colorbar": {
              "outlinewidth": 0,
              "ticks": ""
             }
            },
            "type": "scatterpolargl"
           }
          ],
          "scatterternary": [
           {
            "marker": {
             "colorbar": {
              "outlinewidth": 0,
              "ticks": ""
             }
            },
            "type": "scatterternary"
           }
          ],
          "surface": [
           {
            "colorbar": {
             "outlinewidth": 0,
             "ticks": ""
            },
            "colorscale": [
             [
              0,
              "#0d0887"
             ],
             [
              0.1111111111111111,
              "#46039f"
             ],
             [
              0.2222222222222222,
              "#7201a8"
             ],
             [
              0.3333333333333333,
              "#9c179e"
             ],
             [
              0.4444444444444444,
              "#bd3786"
             ],
             [
              0.5555555555555556,
              "#d8576b"
             ],
             [
              0.6666666666666666,
              "#ed7953"
             ],
             [
              0.7777777777777778,
              "#fb9f3a"
             ],
             [
              0.8888888888888888,
              "#fdca26"
             ],
             [
              1,
              "#f0f921"
             ]
            ],
            "type": "surface"
           }
          ],
          "table": [
           {
            "cells": {
             "fill": {
              "color": "#EBF0F8"
             },
             "line": {
              "color": "white"
             }
            },
            "header": {
             "fill": {
              "color": "#C8D4E3"
             },
             "line": {
              "color": "white"
             }
            },
            "type": "table"
           }
          ]
         },
         "layout": {
          "annotationdefaults": {
           "arrowcolor": "#2a3f5f",
           "arrowhead": 0,
           "arrowwidth": 1
          },
          "autotypenumbers": "strict",
          "coloraxis": {
           "colorbar": {
            "outlinewidth": 0,
            "ticks": ""
           }
          },
          "colorscale": {
           "diverging": [
            [
             0,
             "#8e0152"
            ],
            [
             0.1,
             "#c51b7d"
            ],
            [
             0.2,
             "#de77ae"
            ],
            [
             0.3,
             "#f1b6da"
            ],
            [
             0.4,
             "#fde0ef"
            ],
            [
             0.5,
             "#f7f7f7"
            ],
            [
             0.6,
             "#e6f5d0"
            ],
            [
             0.7,
             "#b8e186"
            ],
            [
             0.8,
             "#7fbc41"
            ],
            [
             0.9,
             "#4d9221"
            ],
            [
             1,
             "#276419"
            ]
           ],
           "sequential": [
            [
             0,
             "#0d0887"
            ],
            [
             0.1111111111111111,
             "#46039f"
            ],
            [
             0.2222222222222222,
             "#7201a8"
            ],
            [
             0.3333333333333333,
             "#9c179e"
            ],
            [
             0.4444444444444444,
             "#bd3786"
            ],
            [
             0.5555555555555556,
             "#d8576b"
            ],
            [
             0.6666666666666666,
             "#ed7953"
            ],
            [
             0.7777777777777778,
             "#fb9f3a"
            ],
            [
             0.8888888888888888,
             "#fdca26"
            ],
            [
             1,
             "#f0f921"
            ]
           ],
           "sequentialminus": [
            [
             0,
             "#0d0887"
            ],
            [
             0.1111111111111111,
             "#46039f"
            ],
            [
             0.2222222222222222,
             "#7201a8"
            ],
            [
             0.3333333333333333,
             "#9c179e"
            ],
            [
             0.4444444444444444,
             "#bd3786"
            ],
            [
             0.5555555555555556,
             "#d8576b"
            ],
            [
             0.6666666666666666,
             "#ed7953"
            ],
            [
             0.7777777777777778,
             "#fb9f3a"
            ],
            [
             0.8888888888888888,
             "#fdca26"
            ],
            [
             1,
             "#f0f921"
            ]
           ]
          },
          "colorway": [
           "#636efa",
           "#EF553B",
           "#00cc96",
           "#ab63fa",
           "#FFA15A",
           "#19d3f3",
           "#FF6692",
           "#B6E880",
           "#FF97FF",
           "#FECB52"
          ],
          "font": {
           "color": "#2a3f5f"
          },
          "geo": {
           "bgcolor": "white",
           "lakecolor": "white",
           "landcolor": "#E5ECF6",
           "showlakes": true,
           "showland": true,
           "subunitcolor": "white"
          },
          "hoverlabel": {
           "align": "left"
          },
          "hovermode": "closest",
          "mapbox": {
           "style": "light"
          },
          "paper_bgcolor": "white",
          "plot_bgcolor": "#E5ECF6",
          "polar": {
           "angularaxis": {
            "gridcolor": "white",
            "linecolor": "white",
            "ticks": ""
           },
           "bgcolor": "#E5ECF6",
           "radialaxis": {
            "gridcolor": "white",
            "linecolor": "white",
            "ticks": ""
           }
          },
          "scene": {
           "xaxis": {
            "backgroundcolor": "#E5ECF6",
            "gridcolor": "white",
            "gridwidth": 2,
            "linecolor": "white",
            "showbackground": true,
            "ticks": "",
            "zerolinecolor": "white"
           },
           "yaxis": {
            "backgroundcolor": "#E5ECF6",
            "gridcolor": "white",
            "gridwidth": 2,
            "linecolor": "white",
            "showbackground": true,
            "ticks": "",
            "zerolinecolor": "white"
           },
           "zaxis": {
            "backgroundcolor": "#E5ECF6",
            "gridcolor": "white",
            "gridwidth": 2,
            "linecolor": "white",
            "showbackground": true,
            "ticks": "",
            "zerolinecolor": "white"
           }
          },
          "shapedefaults": {
           "line": {
            "color": "#2a3f5f"
           }
          },
          "ternary": {
           "aaxis": {
            "gridcolor": "white",
            "linecolor": "white",
            "ticks": ""
           },
           "baxis": {
            "gridcolor": "white",
            "linecolor": "white",
            "ticks": ""
           },
           "bgcolor": "#E5ECF6",
           "caxis": {
            "gridcolor": "white",
            "linecolor": "white",
            "ticks": ""
           }
          },
          "title": {
           "x": 0.05
          },
          "xaxis": {
           "automargin": true,
           "gridcolor": "white",
           "linecolor": "white",
           "ticks": "",
           "title": {
            "standoff": 15
           },
           "zerolinecolor": "white",
           "zerolinewidth": 2
          },
          "yaxis": {
           "automargin": true,
           "gridcolor": "white",
           "linecolor": "white",
           "ticks": "",
           "title": {
            "standoff": 15
           },
           "zerolinecolor": "white",
           "zerolinewidth": 2
          }
         }
        },
        "title": {
         "text": "MSZoning"
        },
        "xaxis": {
         "anchor": "y",
         "domain": [
          0,
          1
         ],
         "title": {
          "text": "MSZoning"
         }
        },
        "yaxis": {
         "anchor": "x",
         "domain": [
          0,
          1
         ],
         "title": {
          "text": "SalePrice"
         }
        }
       }
      }
     },
     "metadata": {},
     "output_type": "display_data"
    },
    {
     "data": {
      "application/vnd.plotly.v1+json": {
       "config": {
        "plotlyServerURL": "https://plot.ly"
       },
       "data": [
        {
         "hovertemplate": "x=%{x}<br>SalePrice=%{y}<extra></extra>",
         "legendgroup": "",
         "marker": {
          "color": "#636efa",
          "symbol": "circle"
         },
         "mode": "markers",
         "name": "",
         "showlegend": false,
         "type": "scattergl",
         "x": {
          "bdata": "AAAAAABAUEAAAAAAAABUQAAAAAAAAFFAAAAAAAAATkAAAAAAAABVQAAAAAAAQFVAAAAAAADAUkAAAAAAAAD4fwAAAAAAgElAAAAAAAAASUAAAAAAAIBRQAAAAAAAQFVAAAAAAAAA+H8AAAAAAMBWQAAAAAAAAPh/AAAAAACASUAAAAAAAAD4fwAAAAAAAFJAAAAAAACAUEAAAAAAAIBRQAAAAAAAQFlAAAAAAACATEAAAAAAAMBSQAAAAAAAAEZAAAAAAAAA+H8AAAAAAIBbQAAAAAAAAE5AAAAAAACAWEAAAAAAAIBHQAAAAAAAAE5AAAAAAAAASUAAAAAAAAD4fwAAAAAAQFVAAAAAAACAUUAAAAAAAABOQAAAAAAAAFtAAAAAAAAAXEAAAAAAAIBSQAAAAAAAAFFAAAAAAABAUEAAAAAAAABVQAAAAAAAwFxAAAAAAAAA+H8AAAAAAAD4fwAAAAAAgFFAAAAAAACATkAAAAAAAABIQAAAAAAAAFVAAAAAAACAQEAAAAAAAIBQQAAAAAAAAPh/AAAAAAAASkAAAAAAAIBbQAAAAAAAAFFAAAAAAAAATkAAAAAAAABZQAAAAAAAADhAAAAAAABAVkAAAAAAAIBQQAAAAAAAAE5AAAAAAACAT0AAAAAAAABOQAAAAAAAAEZAAAAAAAAASUAAAAAAAAD4fwAAAAAAAFNAAAAAAAAA+H8AAAAAAABSQAAAAAAAgEdAAAAAAABAVEAAAAAAAMBXQAAAAAAAQFFAAAAAAACAUkAAAAAAAEBVQAAAAAAAAE5AAAAAAAAANUAAAAAAAAD4fwAAAAAAAElAAAAAAAAAUkAAAAAAAABOQAAAAAAAAFlAAAAAAAAAQEAAAAAAAIBTQAAAAAAAAFRAAAAAAAAA+H8AAAAAAEBeQAAAAAAAgF5AAAAAAAAAREAAAAAAAEBaQAAAAAAAAE5AAAAAAAAATkAAAAAAAEBVQAAAAAAAAFRAAAAAAAAATkAAAAAAAEBRQAAAAAAAAPh/AAAAAACAU0AAAAAAAEBSQAAAAAAAQFVAAAAAAABAU0AAAAAAAAD4fwAAAAAAQFNAAAAAAAAAUEAAAAAAAIBXQAAAAAAAAPh/AAAAAADAUkAAAAAAAABOQAAAAAAAAElAAAAAAABAVUAAAAAAAEBaQAAAAAAAwFJAAAAAAAAA+H8AAAAAAEBTQAAAAAAAAPh/AAAAAACATkAAAAAAAABBQAAAAAAAAPh/AAAAAACAUkAAAAAAAIBWQAAAAAAAQFBAAAAAAAAA+H8AAAAAAABJQAAAAAAAwFJAAAAAAACAS0AAAAAAAABIQAAAAAAAAE5AAAAAAAAA+H8AAAAAAIBLQAAAAAAAQFFAAAAAAABAUUAAAAAAAABWQAAAAAAAAPh/AAAAAADAUkAAAAAAAAD4fwAAAAAAgFNAAAAAAAAAVEAAAAAAAAD4fwAAAAAAgFRAAAAAAABAUkAAAAAAAEBQQAAAAAAAgFFAAAAAAACAU0AAAAAAAMBRQAAAAAAAgFNAAAAAAACAUUAAAAAAAAA4QAAAAAAAgElAAAAAAAAA+H8AAAAAAIBPQAAAAAAAAPh/AAAAAAAAXkAAAAAAAMBaQAAAAAAAAPh/AAAAAAAA+H8AAAAAAABVQAAAAAAAAE5AAAAAAAAATkAAAAAAAABXQAAAAAAAAFlAAAAAAADAYEAAAAAAAAD4fwAAAAAAgFtAAAAAAADAV0AAAAAAAIBLQAAAAAAAAERAAAAAAAAAT0AAAAAAAAD4fwAAAAAAgFVAAAAAAAAAT0AAAAAAAAD4fwAAAAAAAPh/AAAAAACgYUAAAAAAAABGQAAAAAAAAFRAAAAAAACAR0AAAAAAAABVQAAAAAAAQFhAAAAAAAAA+H8AAAAAAIBPQAAAAAAAAE5AAAAAAAAA+H8AAAAAAABLQAAAAAAAAE5AAAAAAACAT0AAAAAAAABXQAAAAAAAgFZAAAAAAAAA+H8AAAAAAABOQAAAAAAAAFBAAAAAAACAREAAAAAAAIBRQAAAAAAAAPh/AAAAAAAAUUAAAAAAAAA4QAAAAAAAAE5AAAAAAAAAOEAAAAAAAMBTQAAAAAAAwGVAAAAAAAAAV0AAAAAAAABTQAAAAAAAAFRAAAAAAADAUkAAAAAAAABJQAAAAAAAAPh/AAAAAAAASUAAAAAAAMBYQAAAAAAAAERAAAAAAAAA+H8AAAAAAAD4fwAAAAAAwFJAAAAAAADAUEAAAAAAAMBUQAAAAAAAAFJAAAAAAACARUAAAAAAAAD4fwAAAAAAAFJAAAAAAABAUEAAAAAAAIBMQAAAAAAAAPh/AAAAAACARUAAAAAAAEBSQAAAAAAAAPh/AAAAAABAVUAAAAAAAIBRQAAAAAAAwFlAAAAAAAAANUAAAAAAAIBUQAAAAAAAADVAAAAAAACAUUAAAAAAAIBFQAAAAAAAQFJAAAAAAADAZUAAAAAAAAA1QAAAAAAAwFJAAAAAAAAA+H8AAAAAAAA1QAAAAAAAQFBAAAAAAAAA+H8AAAAAAEBXQAAAAAAAAEpAAAAAAADAUkAAAAAAAABEQAAAAAAAgE9AAAAAAADAUkAAAAAAAAD4fwAAAAAAAFRAAAAAAABAUUAAAAAAAMBSQAAAAAAAAFJAAAAAAAAA+H8AAAAAAIBLQAAAAAAAAEZAAAAAAABAUEAAAAAAAEBVQAAAAAAAgFFAAAAAAACAUEAAAAAAAABQQAAAAAAAAFFAAAAAAAAAVEAAAAAAAIBRQAAAAAAAAF5AAAAAAABAUUAAAAAAAABWQAAAAAAAAElAAAAAAAAAPkAAAAAAAIBTQAAAAAAAgFFAAAAAAAAATkAAAAAAAMBRQAAAAAAAAPh/AAAAAAAAVUAAAAAAAEBSQAAAAAAAAFdAAAAAAAAAVEAAAAAAAABTQAAAAAAAgEtAAAAAAAAgYEAAAAAAAIBhQAAAAAAAwFpAAAAAAADAVEAAAAAAAIBUQAAAAAAAAE5AAAAAAAAAQUAAAAAAAIBSQAAAAAAAAElAAAAAAACAQUAAAAAAAEBTQAAAAAAAAPh/AAAAAAAA+H8AAAAAAABOQAAAAAAAAF5AAAAAAACAS0AAAAAAAABOQAAAAAAAAPh/AAAAAAAAVEAAAAAAAIBCQAAAAAAAwFJAAAAAAACAUEAAAAAAAIBWQAAAAAAAAFRAAAAAAACAVkAAAAAAAIBQQAAAAAAAgF1AAAAAAACAUUAAAAAAAMBVQAAAAAAAAFRAAAAAAAAAXUAAAAAAAAD4fwAAAAAAAPh/AAAAAACAVkAAAAAAAAD4fwAAAAAAAElAAAAAAABAUEAAAAAAAMBiQAAAAAAAAE5AAAAAAADAUUAAAAAAAIBXQAAAAAAAwFJAAAAAAACAVkAAAAAAAAD4fwAAAAAAwFtAAAAAAADAWEAAAAAAAIBVQAAAAAAAgEhAAAAAAAAAWEAAAAAAAABJQAAAAAAAAEBAAAAAAAAAVEAAAAAAAAD4fwAAAAAAAE5AAAAAAAAA+H8AAAAAAIBRQAAAAAAAQFVAAAAAAACATUAAAAAAAIBNQAAAAAAAAPh/AAAAAACAVUAAAAAAAIBRQAAAAAAAwFZAAAAAAACAUEAAAAAAAEBVQAAAAAAAAE5AAAAAAAAA+H8AAAAAAIBPQAAAAAAAAEJAAAAAAABAUEAAAAAAAAD4fwAAAAAAAPh/AAAAAAAAQkAAAAAAAABMQAAAAAAAAFFAAAAAAAAA+H8AAAAAAABOQAAAAAAAAE5AAAAAAAAATkAAAAAAAEBaQAAAAAAAAPh/AAAAAAAARkAAAAAAAABXQAAAAAAAgFNAAAAAAAAA+H8AAAAAAAD4fwAAAAAAAFBAAAAAAAAANUAAAAAAAAD4fwAAAAAAgE1AAAAAAAAA+H8AAAAAAEBZQAAAAAAAgFNAAAAAAAAA+H8AAAAAAAD4fwAAAAAAAFRAAAAAAAAASUAAAAAAAMBTQAAAAAAAQFBAAAAAAAAA+H8AAAAAAIBMQAAAAAAAgFlAAAAAAAAAVkAAAAAAAABOQAAAAAAAAElAAAAAAAAATkAAAAAAAMBTQAAAAAAAAE5AAAAAAAAA+H8AAAAAAIBFQAAAAAAAAE1AAAAAAAAAUkAAAAAAAEBXQAAAAAAAAFhAAAAAAAAASUAAAAAAAMBRQAAAAAAAAPh/AAAAAAAA+H8AAAAAAABOQAAAAAAAAFFAAAAAAAAATkAAAAAAAEBRQAAAAAAAAE5AAAAAAABAUEAAAAAAAABDQAAAAAAAQFBAAAAAAAAATkAAAAAAAEBXQAAAAAAAAPh/AAAAAAAA+H8AAAAAAIBJQAAAAAAAgE9AAAAAAABAW0AAAAAAAEBVQAAAAAAAAFFAAAAAAAAAWUAAAAAAAAD4fwAAAAAAAExAAAAAAACATUAAAAAAAEBSQAAAAAAAgFJAAAAAAACAVUAAAAAAAABOQAAAAAAAQFBAAAAAAACAU0AAAAAAAAD4fwAAAAAAAFlAAAAAAAAAVEAAAAAAAABSQAAAAAAAAE5AAAAAAAAA+H8AAAAAAEBTQAAAAAAAAFBAAAAAAABAYEAAAAAAAAA1QAAAAAAAAE5AAAAAAAAAOEAAAAAAAABZQAAAAAAAADVAAAAAAACARUAAAAAAAABEQAAAAAAAAElAAAAAAAAAREAAAAAAAMBQQAAAAAAAQFpAAAAAAAAAV0AAAAAAAABKQAAAAAAAgEpAAAAAAACAUUAAAAAAAEBSQAAAAAAAIGFAAAAAAAAA+H8AAAAAAABJQAAAAAAAAElAAAAAAACAUUAAAAAAAABPQAAAAAAAAPh/AAAAAADAUkAAAAAAAIBPQAAAAAAAAFRAAAAAAAAAQUAAAAAAAAD4fwAAAAAAAPh/AAAAAAAA+H8AAAAAAMBSQAAAAAAAAE5AAAAAAAAATkAAAAAAAIBSQAAAAAAAAE5AAAAAAAAA+H8AAAAAAEBVQAAAAAAAwFNAAAAAAACAWEAAAAAAAABTQAAAAAAAAPh/AAAAAAAAV0AAAAAAAIBBQAAAAAAAgFtAAAAAAACAREAAAAAAAABUQAAAAAAAwFJAAAAAAABAWkAAAAAAAMBTQAAAAAAAAElAAAAAAACAWEAAAAAAAABSQAAAAAAAAElAAAAAAAAAQEAAAAAAAAD4fwAAAAAAAFRAAAAAAADAU0AAAAAAAIBRQAAAAAAAAE5AAAAAAAAANUAAAAAAAAD4fwAAAAAAwFNAAAAAAABAWkAAAAAAAIBRQAAAAAAAAElAAAAAAAAATkAAAAAAAAD4fwAAAAAAAE5AAAAAAABAUEAAAAAAAIBRQAAAAAAAADVAAAAAAADAUkAAAAAAAIBRQAAAAAAAAFlAAAAAAAAAOEAAAAAAAABOQAAAAAAAAFRAAAAAAADAUkAAAAAAAABOQAAAAAAAAFRAAAAAAADAUkAAAAAAAABEQAAAAAAAgFFAAAAAAADAUUAAAAAAAIBLQAAAAAAAgFdAAAAAAAAA+H8AAAAAAMBTQAAAAAAAAPh/AAAAAACASkAAAAAAAABOQAAAAAAAgFZAAAAAAAAASUAAAAAAAEBgQAAAAAAAwFdAAAAAAAAAT0AAAAAAAIBRQAAAAAAAwFBAAAAAAAAATUAAAAAAAAD4fwAAAAAAQFVAAAAAAAAATkAAAAAAAABOQAAAAAAAAElAAAAAAACAUkAAAAAAAIBRQAAAAAAAgExAAAAAAAAA+H8AAAAAAAD4fwAAAAAAAPh/AAAAAABAVUAAAAAAAAD4fwAAAAAAgFNAAAAAAAAAQUAAAAAAAABNQAAAAAAAAPh/AAAAAACAUUAAAAAAAABLQAAAAAAAgEhAAAAAAADAUkAAAAAAAIBKQAAAAAAAAElAAAAAAADAVUAAAAAAAMBQQAAAAAAAQFVAAAAAAAAATUAAAAAAAEBRQAAAAAAAAE5AAAAAAACATEAAAAAAAAD4fwAAAAAAAPh/AAAAAABAU0AAAAAAAIBPQAAAAAAAgFBAAAAAAAAA+H8AAAAAAIBQQAAAAAAAQFNAAAAAAACAUUAAAAAAAMBTQAAAAAAAAPh/AAAAAACAUkAAAAAAAABOQAAAAAAAwFRAAAAAAAAAU0AAAAAAAIBRQAAAAAAAAFRAAAAAAAAASkAAAAAAAABYQAAAAAAAAEFAAAAAAABAVEAAAAAAAAD4fwAAAAAAgFhAAAAAAABAVEAAAAAAAMBSQAAAAAAAgElAAAAAAAAAVkAAAAAAAIBLQAAAAAAAgFJAAAAAAABAUEAAAAAAAABJQAAAAAAAAFBAAAAAAABAWEAAAAAAAABOQAAAAAAAAPh/AAAAAAAAVkAAAAAAAEBRQAAAAAAAAE5AAAAAAACASkAAAAAAAABUQAAAAAAAADhAAAAAAACAUkAAAAAAAABJQAAAAAAAAFRAAAAAAAAAPkAAAAAAAABWQAAAAAAAQFVAAAAAAACAVEAAAAAAAIBTQAAAAAAAgFNAAAAAAACATkAAAAAAAAD4fwAAAAAAAPh/AAAAAAAA+H8AAAAAAIBRQAAAAAAAADVAAAAAAAAAVEAAAAAAAAD4fwAAAAAAgE1AAAAAAACAVkAAAAAAAEBVQAAAAAAAgEZAAAAAAACAVkAAAAAAAMBRQAAAAAAAAPh/AAAAAAAAVEAAAAAAAMBVQAAAAAAAAPh/AAAAAAAAVEAAAAAAAIBRQAAAAAAAgFRAAAAAAAAASUAAAAAAAABBQAAAAAAAQFVAAAAAAAAAVEAAAAAAAABQQAAAAAAAAE5AAAAAAACASUAAAAAAAABJQAAAAAAAwFBAAAAAAACASkAAAAAAAABPQAAAAAAAAPh/AAAAAADAUkAAAAAAAABUQAAAAAAAQFVAAAAAAAAA+H8AAAAAAABOQAAAAAAAQFVAAAAAAACAUUAAAAAAAAA1QAAAAAAAQFBAAAAAAAAATkAAAAAAAIBRQAAAAAAAAE5AAAAAAADAVkAAAAAAAAA1QAAAAAAAAFJAAAAAAAAATkAAAAAAAIBTQAAAAAAAwFJAAAAAAAAA+H8AAAAAAABKQAAAAAAAAF5AAAAAAACAVkAAAAAAAIBIQAAAAAAAgFpAAAAAAAAA+H8AAAAAAEBQQAAAAAAAAPh/AAAAAAAAVEAAAAAAAABQQAAAAAAAAEtAAAAAAAAA+H8AAAAAAIBbQAAAAAAAAFRAAAAAAAAAOEAAAAAAAABOQAAAAAAAAEpAAAAAAAAAVEAAAAAAAAD4fwAAAAAAAElAAAAAAACAS0AAAAAAAAD4fwAAAAAAgFZAAAAAAAAATUAAAAAAAAD4fwAAAAAAAFVAAAAAAAAA+H8AAAAAAABOQAAAAAAAgE5AAAAAAAAA+H8AAAAAAABaQAAAAAAAAEVAAAAAAAAATkAAAAAAAIBJQAAAAAAAAEtAAAAAAAAASUAAAAAAAIBMQAAAAAAAQFBAAAAAAACATUAAAAAAAEBVQAAAAAAAAFRAAAAAAACAVEAAAAAAAABTQAAAAAAAgFFAAAAAAACAUUAAAAAAAAD4fwAAAAAAAEhAAAAAAABAUEAAAAAAAAD4fwAAAAAAAExAAAAAAACAUEAAAAAAAABEQAAAAAAAAE5AAAAAAAAA+H8AAAAAAIBTQAAAAAAAAE5AAAAAAAAAVEAAAAAAAABYQAAAAAAAQFFAAAAAAAAA+H8AAAAAAAD4fwAAAAAAgFFAAAAAAAAATkAAAAAAAIBVQAAAAAAAAE5AAAAAAAAA+H8AAAAAAABQQAAAAAAAQFVAAAAAAAAASkAAAAAAAIBDQAAAAAAAQFJAAAAAAADAUkAAAAAAAABUQAAAAAAAAPh/AAAAAAAATkAAAAAAAABOQAAAAAAAAFJAAAAAAAAATkAAAAAAAEBQQAAAAAAAAE5AAAAAAABAUEAAAAAAAEBQQAAAAAAAgFFAAAAAAACAREAAAAAAAAD4fwAAAAAAAPh/AAAAAABAUEAAAAAAAIBNQAAAAAAAAElAAAAAAACAS0AAAAAAAAD4fwAAAAAAwFNAAAAAAAAAVEAAAAAAAIBOQAAAAAAAAEFAAAAAAAAAUUAAAAAAAAD4fwAAAAAAADhAAAAAAABAUEAAAAAAAIBRQAAAAAAAAE5AAAAAAAAAUkAAAAAAAIBUQAAAAAAAAD5AAAAAAADAUkAAAAAAAABUQAAAAAAAwFJAAAAAAACAUUAAAAAAAIBHQAAAAAAAAPh/AAAAAADAUEAAAAAAAIBXQAAAAAAAgFFAAAAAAACAW0AAAAAAAABAQAAAAAAAgFVAAAAAAAAAWUAAAAAAAABOQAAAAAAAgFNAAAAAAACAT0AAAAAAAEBQQAAAAAAAwFBAAAAAAAAA+H8AAAAAAIBBQAAAAAAAAPh/AAAAAAAATkAAAAAAAABTQAAAAAAAAElAAAAAAAAA+H8AAAAAAIBFQAAAAAAAAPh/AAAAAAAAV0AAAAAAAABTQAAAAAAAAPh/AAAAAACAUUAAAAAAAMBRQAAAAAAAgExAAAAAAAAAWkAAAAAAAABOQAAAAAAAwFNAAAAAAAAAREAAAAAAAIBPQAAAAAAAwFpAAAAAAADAUkAAAAAAAMBWQAAAAAAAwFJAAAAAAAAAYkAAAAAAAEBVQAAAAAAAgFZAAAAAAACAU0AAAAAAAAD4fwAAAAAAgFBAAAAAAADAUkAAAAAAAIBGQAAAAAAAAEhAAAAAAAAA+H8AAAAAAAD4fwAAAAAAAFRAAAAAAAAARkAAAAAAAABSQAAAAAAAAE5AAAAAAAAA+H8AAAAAAABOQAAAAAAAQFRAAAAAAACAXEAAAAAAAABJQAAAAAAAQFBAAAAAAAAA+H8AAAAAAAA4QAAAAAAAAFRAAAAAAAAAPkAAAAAAAABGQAAAAAAAAFlAAAAAAADAUkAAAAAAAABOQAAAAAAAgFZAAAAAAAAANUAAAAAAAMBSQAAAAAAAgFFAAAAAAAAA+H8AAAAAAABOQAAAAAAAgFRAAAAAAAAAVEAAAAAAAABZQAAAAAAAAPh/AAAAAADAUkAAAAAAAABCQAAAAAAAwFJAAAAAAAAAVEAAAAAAAABCQAAAAAAAAPh/AAAAAACASkAAAAAAAAD4fwAAAAAAgFlAAAAAAAAA+H8AAAAAAAD4fwAAAAAAQFBAAAAAAAAAVEAAAAAAAAD4fwAAAAAAgEtAAAAAAADAUkAAAAAAAEBUQAAAAAAAgFFAAAAAAAAAUkAAAAAAAAD4fwAAAAAAwFBAAAAAAABAVUAAAAAAAAD4fwAAAAAAAFRAAAAAAAAATkAAAAAAAIBRQAAAAAAAgFJAAAAAAAAATkAAAAAAAABKQAAAAAAAwFJAAAAAAACAV0AAAAAAAIBSQAAAAAAAAFZAAAAAAAAA+H8AAAAAAABOQAAAAAAAAEZAAAAAAAAA+H8AAAAAAABOQAAAAAAAQFBAAAAAAAAASUAAAAAAAIBRQAAAAAAAgE1AAAAAAADAV0AAAAAAAABgQAAAAAAAAE5AAAAAAACAUUAAAAAAAIBRQAAAAAAAAPh/AAAAAAAAUEAAAAAAAMBRQAAAAAAAAElAAAAAAAAAUEAAAAAAAABZQAAAAAAAQFBAAAAAAAAA+H8AAAAAAABQQAAAAAAAgE9AAAAAAAAASUAAAAAAAAD4fwAAAAAAAFRAAAAAAAAAXUAAAAAAAIBVQAAAAAAAAPh/AAAAAACgYkAAAAAAAABUQAAAAAAAAPh/AAAAAACASUAAAAAAAIBUQAAAAAAAAD5AAAAAAAAANUAAAAAAAABJQAAAAAAAAPh/AAAAAADAWUAAAAAAAMBVQAAAAAAAgFFAAAAAAADAUEAAAAAAAEBQQAAAAAAAAElAAAAAAADAU0AAAAAAAAD4fwAAAAAAQFdAAAAAAAAA+H8AAAAAAAD4fwAAAAAAAPh/AAAAAABAUkAAAAAAAIBRQAAAAAAAAFVAAAAAAACAT0AAAAAAAJBzQAAAAAAAAEpAAAAAAADAUEAAAAAAAMBSQAAAAAAAQFJAAAAAAAAA+H8AAAAAAIBLQAAAAAAAAPh/AAAAAAAARUAAAAAAAABZQAAAAAAAAPh/AAAAAACAWEAAAAAAAIBRQAAAAAAAQFVAAAAAAABAUEAAAAAAAIBTQAAAAAAAAE5AAAAAAAAATkAAAAAAAABOQAAAAAAAAPh/AAAAAACAQUAAAAAAAIBUQAAAAAAAADhAAAAAAACAUUAAAAAAAEBQQAAAAAAAADhAAAAAAAAASUAAAAAAAAD4fwAAAAAAADhAAAAAAACAXkAAAAAAAABUQAAAAAAAQFBAAAAAAABAYEAAAAAAAAD4fwAAAAAAAElAAAAAAADAUkAAAAAAAABOQAAAAAAAAEJAAAAAAACAS0AAAAAAAMBXQAAAAAAAAE5AAAAAAAAA+H8AAAAAAIBJQAAAAAAAgEFAAAAAAAAAUUAAAAAAAABUQAAAAAAAAPh/AAAAAACAWEAAAAAAAIBFQAAAAAAAAPh/AAAAAADAUkAAAAAAAABRQAAAAAAAgE1AAAAAAADAVEAAAAAAAAD4fwAAAAAAQFBAAAAAAACAVEAAAAAAAEBeQAAAAAAAAFRAAAAAAAAAUUAAAAAAAABYQAAAAAAAgElAAAAAAAAA+H8AAAAAAAD4fwAAAAAAAE5AAAAAAAAAUEAAAAAAAIBSQAAAAAAAAE5AAAAAAADAUkAAAAAAAAD4fwAAAAAAgEVAAAAAAABAUEAAAAAAAAD4fwAAAAAAADVAAAAAAACARUAAAAAAAABOQAAAAAAAwFxAAAAAAADAUkAAAAAAAIBLQAAAAAAAAE5AAAAAAAAATkAAAAAAAIBRQAAAAAAAQFJAAAAAAAAA+H8AAAAAAAD4fwAAAAAAgEVAAAAAAAAATkAAAAAAAABQQAAAAAAAAEpAAAAAAACARUAAAAAAAAD4fwAAAAAAgFFAAAAAAABAUkAAAAAAAMBRQAAAAAAAwFNAAAAAAAAANUAAAAAAAAD4fwAAAAAAgFlAAAAAAAAA+H8AAAAAAAD4fwAAAAAAAElAAAAAAAAA+H8AAAAAAEBWQAAAAAAAAPh/AAAAAAAANUAAAAAAAAA1QAAAAAAAAFZAAAAAAAAA+H8AAAAAAABBQAAAAAAAgFVAAAAAAAAAVEAAAAAAAAD4fwAAAAAAQFVAAAAAAACATEAAAAAAAABZQAAAAAAAAE5AAAAAAABAUkAAAAAAAMBZQAAAAAAAAFlAAAAAAAAAUUAAAAAAAIBWQAAAAAAAAFpAAAAAAACARUAAAAAAAAD4fwAAAAAAAFhAAAAAAAAA+H8AAAAAAIBEQAAAAAAAAF5AAAAAAABAVUAAAAAAAABJQAAAAAAAAPh/AAAAAAAAVEAAAAAAAIBNQAAAAAAAAFRAAAAAAAAARUAAAAAAAABOQAAAAAAAAFJAAAAAAACAU0AAAAAAAABJQAAAAAAAwFJAAAAAAACAUkAAAAAAAMBSQAAAAAAAAE5AAAAAAAAA+H8AAAAAAIBCQAAAAAAAQFBAAAAAAAAAVEAAAAAAAMBSQAAAAAAAgFFAAAAAAAAAVEAAAAAAAAD4fwAAAAAAQFJAAAAAAAAA+H8AAAAAAEBVQAAAAAAAADhAAAAAAACAQkAAAAAAAABOQAAAAAAAADhAAAAAAAAATkAAAAAAAMBRQAAAAAAAgFJAAAAAAACAU0AAAAAAAABOQAAAAAAAAPh/AAAAAAAASUAAAAAAAIBUQAAAAAAAAE5AAAAAAACATkAAAAAAAIBRQAAAAAAAwFNAAAAAAAAAOEAAAAAAAIBYQAAAAAAAgFxAAAAAAAAAZUAAAAAAAAD4fwAAAAAAwFpAAAAAAAAA+H8AAAAAAABUQAAAAAAAQFJAAAAAAACAUEAAAAAAAIBWQAAAAAAAQFdAAAAAAAAA+H8AAAAAAIBMQAAAAAAAQFVAAAAAAACAUUAAAAAAAIBNQAAAAAAAAFVAAAAAAAAA+H8AAAAAAABJQAAAAAAAAPh/AAAAAAAATkAAAAAAAIBKQAAAAAAAwGZAAAAAAACATUAAAAAAAABOQAAAAAAAQFBAAAAAAACAT0AAAAAAAIBWQAAAAAAAAFRAAAAAAACATEAAAAAAAABOQAAAAAAAAFRAAAAAAAAAS0AAAAAAAAD4fwAAAAAAgFhAAAAAAAAATkAAAAAAAAD4fwAAAAAAQFNAAAAAAAAA+H8AAAAAAABOQAAAAAAAAEpAAAAAAAAA+H8AAAAAAMBSQAAAAAAAAPh/AAAAAAAASUAAAAAAAIBMQAAAAAAAwGBAAAAAAACAVkAAAAAAAAD4fwAAAAAAAPh/AAAAAACAVkAAAAAAAEBVQAAAAAAAAEFAAAAAAAAAV0AAAAAAAABTQAAAAAAAADhAAAAAAAAA+H8AAAAAAEBbQAAAAAAAAE5AAAAAAAAA+H8AAAAAAMBTQAAAAAAAAFBAAAAAAAAATUAAAAAAAABeQAAAAAAAgF1AAAAAAAAAU0AAAAAAAABTQAAAAAAAgEFAAAAAAABAYUAAAAAAAABUQAAAAAAAQFVAAAAAAACAQkAAAAAAAAD4fwAAAAAAAEtAAAAAAABAU0AAAAAAAAD4fwAAAAAAAFBAAAAAAAAAZEAAAAAAAABOQAAAAAAAAElAAAAAAAAATkAAAAAAAMBaQAAAAAAAQFZAAAAAAAAAUUAAAAAAAABOQAAAAAAAAPh/AAAAAAAAOEAAAAAAAABOQAAAAAAAAPh/AAAAAAAAVEAAAAAAAIBJQAAAAAAAAE1AAAAAAABAUEAAAAAAAIBRQAAAAAAAwFJAAAAAAADAUUAAAAAAAABUQAAAAAAAAElAAAAAAADAUkAAAAAAAIBTQAAAAAAAgFZAAAAAAAAA+H8AAAAAAIBRQAAAAAAAgFFAAAAAAABAVUAAAAAAAIBRQAAAAAAAAGNAAAAAAAAASUAAAAAAAAD4fwAAAAAAQFFAAAAAAADAWEAAAAAAAABRQAAAAAAAAFJAAAAAAAAASkAAAAAAAAA1QAAAAAAAgFBAAAAAAACAS0AAAAAAAIBTQAAAAAAAQFZAAAAAAAAATkAAAAAAAEBQQAAAAAAAgFVAAAAAAAAAUkAAAAAAAEBQQAAAAAAAgFFAAAAAAAAA+H8AAAAAAIBRQAAAAAAAgFFAAAAAAAAA+H8AAAAAAIBLQAAAAAAAAFhAAAAAAAAAQkAAAAAAAIBEQAAAAAAAgE9AAAAAAAAAUEAAAAAAAEBQQAAAAAAAwFRAAAAAAABAVUAAAAAAAMBaQAAAAAAAAPh/AAAAAACAU0AAAAAAAEBQQAAAAAAAAPh/AAAAAAAATkAAAAAAAABOQAAAAAAAQFdAAAAAAAAA+H8AAAAAAABPQAAAAAAAAPh/AAAAAAAATkAAAAAAAABKQAAAAAAAwFZAAAAAAAAATEAAAAAAAIBNQAAAAAAAQFBAAAAAAAAA+H8AAAAAAABUQAAAAAAAAPh/AAAAAAAATkAAAAAAAABBQAAAAAAAgEFAAAAAAAAATkAAAAAAAEBWQAAAAAAAAPh/AAAAAACAU0AAAAAAAAD4fwAAAAAAAPh/AAAAAAAA+H8AAAAAAABfQAAAAAAAgEpAAAAAAADAV0AAAAAAAAD4fwAAAAAAAPh/AAAAAADAUkAAAAAAAABOQAAAAAAAwFBAAAAAAAAASUAAAAAAAIBOQAAAAAAAgFdAAAAAAAAASUAAAAAAAABJQAAAAAAAAPh/AAAAAAAA+H8AAAAAAABEQAAAAAAAgFVAAAAAAAAA+H8AAAAAAAA1QAAAAAAAAE5AAAAAAACAU0AAAAAAAABOQAAAAAAAgFFAAAAAAAAAVEAAAAAAAIBBQAAAAAAAkHNAAAAAAADAUkAAAAAAAAD4fwAAAAAAAPh/AAAAAAAAV0AAAAAAAEBSQAAAAAAAAEBAAAAAAAAAW0AAAAAAAABIQAAAAAAAAE5AAAAAAAAAWUAAAAAAAAD4fwAAAAAAAFlAAAAAAAAAUUAAAAAAAAD4fwAAAAAAAFtAAAAAAAAATkAAAAAAAEBVQAAAAAAAgE5AAAAAAACAR0AAAAAAAAD4fwAAAAAAwFJAAAAAAACAUUAAAAAAAAD4fwAAAAAAwFpAAAAAAAAASUAAAAAAAMBSQAAAAAAAAERAAAAAAACAUUAAAAAAAABOQAAAAAAAAE5AAAAAAACAT0AAAAAAAEBVQAAAAAAAgEtAAAAAAADAUEAAAAAAAABOQAAAAAAAADhAAAAAAAAAVEAAAAAAAMBVQAAAAAAAIGNAAAAAAADAV0AAAAAAAABeQAAAAAAAgFFAAAAAAACAUEAAAAAAAAD4fwAAAAAAgExAAAAAAABAVUAAAAAAAABJQAAAAAAAAPh/AAAAAABAV0AAAAAAAAD4fwAAAAAAAElAAAAAAADAVkAAAAAAAIBRQAAAAAAAAElAAAAAAAAATEAAAAAAAAD4fwAAAAAAgFlAAAAAAAAA+H8AAAAAAAD4fwAAAAAAAPh/AAAAAAAgYEAAAAAAAIBJQAAAAAAAAF9AAAAAAAAA+H8AAAAAAEBSQAAAAAAAAD5AAAAAAAAA+H8AAAAAAABRQAAAAAAAgERAAAAAAAAA+H8AAAAAAABIQAAAAAAAgFZAAAAAAAAAVEAAAAAAAMBSQAAAAAAAAPh/AAAAAABAVUAAAAAAAEBWQAAAAAAAAEpAAAAAAAAATkAAAAAAAAA1QAAAAAAAQFJAAAAAAACARkAAAAAAAAD4fwAAAAAAAE5AAAAAAAAA+H8AAAAAAABOQAAAAAAAAERAAAAAAAAAVEAAAAAAAABOQAAAAAAAAEVAAAAAAAAATkAAAAAAAIBRQAAAAAAAQFBAAAAAAAAAUUAAAAAAAABOQAAAAAAAgEpAAAAAAAAAVkAAAAAAAAD4fwAAAAAAgElAAAAAAAAATkAAAAAAAIBJQAAAAAAAAElAAAAAAAAAT0AAAAAAAABQQAAAAAAAgEhAAAAAAAAATkAAAAAAAABGQAAAAAAAgFFAAAAAAAAA+H8AAAAAAABOQAAAAAAAAEdAAAAAAADAU0AAAAAAAABUQAAAAAAAAE5AAAAAAAAAVkAAAAAAAABQQAAAAAAAgElAAAAAAAAATkAAAAAAAAD4fwAAAAAAwFFAAAAAAAAA+H8AAAAAAIBWQAAAAAAAgEpAAAAAAACAQkAAAAAAAAD4fwAAAAAAAPh/AAAAAAAAVEAAAAAAAEBUQAAAAAAAAE5AAAAAAAAATkAAAAAAAAD4fwAAAAAAAE5AAAAAAAAA+H8AAAAAAABOQAAAAAAAQFdAAAAAAAAAVEAAAAAAAABUQAAAAAAAAE5AAAAAAAAAWEAAAAAAAIBWQAAAAAAAAFRAAAAAAADAU0AAAAAAAAD4fwAAAAAAQFVAAAAAAAAA+H8AAAAAAIBPQAAAAAAAgFFAAAAAAAAA+H8AAAAAAABUQAAAAAAAgFFAAAAAAAAANUAAAAAAAABOQAAAAAAAgFNAAAAAAACAQUAAAAAAAIBWQAAAAAAAAE9AAAAAAAAAT0AAAAAAAEBVQAAAAAAAgFBAAAAAAAAAUUAAAAAAAMBSQA==",
          "dtype": "f8"
         },
         "xaxis": "x",
         "y": {
          "bdata": "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",
          "dtype": "i4"
         },
         "yaxis": "y"
        }
       ],
       "layout": {
        "legend": {
         "tracegroupgap": 0
        },
        "template": {
         "data": {
          "bar": [
           {
            "error_x": {
             "color": "#2a3f5f"
            },
            "error_y": {
             "color": "#2a3f5f"
            },
            "marker": {
             "line": {
              "color": "#E5ECF6",
              "width": 0.5
             },
             "pattern": {
              "fillmode": "overlay",
              "size": 10,
              "solidity": 0.2
             }
            },
            "type": "bar"
           }
          ],
          "barpolar": [
           {
            "marker": {
             "line": {
              "color": "#E5ECF6",
              "width": 0.5
             },
             "pattern": {
              "fillmode": "overlay",
              "size": 10,
              "solidity": 0.2
             }
            },
            "type": "barpolar"
           }
          ],
          "carpet": [
           {
            "aaxis": {
             "endlinecolor": "#2a3f5f",
             "gridcolor": "white",
             "linecolor": "white",
             "minorgridcolor": "white",
             "startlinecolor": "#2a3f5f"
            },
            "baxis": {
             "endlinecolor": "#2a3f5f",
             "gridcolor": "white",
             "linecolor": "white",
             "minorgridcolor": "white",
             "startlinecolor": "#2a3f5f"
            },
            "type": "carpet"
           }
          ],
          "choropleth": [
           {
            "colorbar": {
             "outlinewidth": 0,
             "ticks": ""
            },
            "type": "choropleth"
           }
          ],
          "contour": [
           {
            "colorbar": {
             "outlinewidth": 0,
             "ticks": ""
            },
            "colorscale": [
             [
              0,
              "#0d0887"
             ],
             [
              0.1111111111111111,
              "#46039f"
             ],
             [
              0.2222222222222222,
              "#7201a8"
             ],
             [
              0.3333333333333333,
              "#9c179e"
             ],
             [
              0.4444444444444444,
              "#bd3786"
             ],
             [
              0.5555555555555556,
              "#d8576b"
             ],
             [
              0.6666666666666666,
              "#ed7953"
             ],
             [
              0.7777777777777778,
              "#fb9f3a"
             ],
             [
              0.8888888888888888,
              "#fdca26"
             ],
             [
              1,
              "#f0f921"
             ]
            ],
            "type": "contour"
           }
          ],
          "contourcarpet": [
           {
            "colorbar": {
             "outlinewidth": 0,
             "ticks": ""
            },
            "type": "contourcarpet"
           }
          ],
          "heatmap": [
           {
            "colorbar": {
             "outlinewidth": 0,
             "ticks": ""
            },
            "colorscale": [
             [
              0,
              "#0d0887"
             ],
             [
              0.1111111111111111,
              "#46039f"
             ],
             [
              0.2222222222222222,
              "#7201a8"
             ],
             [
              0.3333333333333333,
              "#9c179e"
             ],
             [
              0.4444444444444444,
              "#bd3786"
             ],
             [
              0.5555555555555556,
              "#d8576b"
             ],
             [
              0.6666666666666666,
              "#ed7953"
             ],
             [
              0.7777777777777778,
              "#fb9f3a"
             ],
             [
              0.8888888888888888,
              "#fdca26"
             ],
             [
              1,
              "#f0f921"
             ]
            ],
            "type": "heatmap"
           }
          ],
          "histogram": [
           {
            "marker": {
             "pattern": {
              "fillmode": "overlay",
              "size": 10,
              "solidity": 0.2
             }
            },
            "type": "histogram"
           }
          ],
          "histogram2d": [
           {
            "colorbar": {
             "outlinewidth": 0,
             "ticks": ""
            },
            "colorscale": [
             [
              0,
              "#0d0887"
             ],
             [
              0.1111111111111111,
              "#46039f"
             ],
             [
              0.2222222222222222,
              "#7201a8"
             ],
             [
              0.3333333333333333,
              "#9c179e"
             ],
             [
              0.4444444444444444,
              "#bd3786"
             ],
             [
              0.5555555555555556,
              "#d8576b"
             ],
             [
              0.6666666666666666,
              "#ed7953"
             ],
             [
              0.7777777777777778,
              "#fb9f3a"
             ],
             [
              0.8888888888888888,
              "#fdca26"
             ],
             [
              1,
              "#f0f921"
             ]
            ],
            "type": "histogram2d"
           }
          ],
          "histogram2dcontour": [
           {
            "colorbar": {
             "outlinewidth": 0,
             "ticks": ""
            },
            "colorscale": [
             [
              0,
              "#0d0887"
             ],
             [
              0.1111111111111111,
              "#46039f"
             ],
             [
              0.2222222222222222,
              "#7201a8"
             ],
             [
              0.3333333333333333,
              "#9c179e"
             ],
             [
              0.4444444444444444,
              "#bd3786"
             ],
             [
              0.5555555555555556,
              "#d8576b"
             ],
             [
              0.6666666666666666,
              "#ed7953"
             ],
             [
              0.7777777777777778,
              "#fb9f3a"
             ],
             [
              0.8888888888888888,
              "#fdca26"
             ],
             [
              1,
              "#f0f921"
             ]
            ],
            "type": "histogram2dcontour"
           }
          ],
          "mesh3d": [
           {
            "colorbar": {
             "outlinewidth": 0,
             "ticks": ""
            },
            "type": "mesh3d"
           }
          ],
          "parcoords": [
           {
            "line": {
             "colorbar": {
              "outlinewidth": 0,
              "ticks": ""
             }
            },
            "type": "parcoords"
           }
          ],
          "pie": [
           {
            "automargin": true,
            "type": "pie"
           }
          ],
          "scatter": [
           {
            "fillpattern": {
             "fillmode": "overlay",
             "size": 10,
             "solidity": 0.2
            },
            "type": "scatter"
           }
          ],
          "scatter3d": [
           {
            "line": {
             "colorbar": {
              "outlinewidth": 0,
              "ticks": ""
             }
            },
            "marker": {
             "colorbar": {
              "outlinewidth": 0,
              "ticks": ""
             }
            },
            "type": "scatter3d"
           }
          ],
          "scattercarpet": [
           {
            "marker": {
             "colorbar": {
              "outlinewidth": 0,
              "ticks": ""
             }
            },
            "type": "scattercarpet"
           }
          ],
          "scattergeo": [
           {
            "marker": {
             "colorbar": {
              "outlinewidth": 0,
              "ticks": ""
             }
            },
            "type": "scattergeo"
           }
          ],
          "scattergl": [
           {
            "marker": {
             "colorbar": {
              "outlinewidth": 0,
              "ticks": ""
             }
            },
            "type": "scattergl"
           }
          ],
          "scattermap": [
           {
            "marker": {
             "colorbar": {
              "outlinewidth": 0,
              "ticks": ""
             }
            },
            "type": "scattermap"
           }
          ],
          "scattermapbox": [
           {
            "marker": {
             "colorbar": {
              "outlinewidth": 0,
              "ticks": ""
             }
            },
            "type": "scattermapbox"
           }
          ],
          "scatterpolar": [
           {
            "marker": {
             "colorbar": {
              "outlinewidth": 0,
              "ticks": ""
             }
            },
            "type": "scatterpolar"
           }
          ],
          "scatterpolargl": [
           {
            "marker": {
             "colorbar": {
              "outlinewidth": 0,
              "ticks": ""
             }
            },
            "type": "scatterpolargl"
           }
          ],
          "scatterternary": [
           {
            "marker": {
             "colorbar": {
              "outlinewidth": 0,
              "ticks": ""
             }
            },
            "type": "scatterternary"
           }
          ],
          "surface": [
           {
            "colorbar": {
             "outlinewidth": 0,
             "ticks": ""
            },
            "colorscale": [
             [
              0,
              "#0d0887"
             ],
             [
              0.1111111111111111,
              "#46039f"
             ],
             [
              0.2222222222222222,
              "#7201a8"
             ],
             [
              0.3333333333333333,
              "#9c179e"
             ],
             [
              0.4444444444444444,
              "#bd3786"
             ],
             [
              0.5555555555555556,
              "#d8576b"
             ],
             [
              0.6666666666666666,
              "#ed7953"
             ],
             [
              0.7777777777777778,
              "#fb9f3a"
             ],
             [
              0.8888888888888888,
              "#fdca26"
             ],
             [
              1,
              "#f0f921"
             ]
            ],
            "type": "surface"
           }
          ],
          "table": [
           {
            "cells": {
             "fill": {
              "color": "#EBF0F8"
             },
             "line": {
              "color": "white"
             }
            },
            "header": {
             "fill": {
              "color": "#C8D4E3"
             },
             "line": {
              "color": "white"
             }
            },
            "type": "table"
           }
          ]
         },
         "layout": {
          "annotationdefaults": {
           "arrowcolor": "#2a3f5f",
           "arrowhead": 0,
           "arrowwidth": 1
          },
          "autotypenumbers": "strict",
          "coloraxis": {
           "colorbar": {
            "outlinewidth": 0,
            "ticks": ""
           }
          },
          "colorscale": {
           "diverging": [
            [
             0,
             "#8e0152"
            ],
            [
             0.1,
             "#c51b7d"
            ],
            [
             0.2,
             "#de77ae"
            ],
            [
             0.3,
             "#f1b6da"
            ],
            [
             0.4,
             "#fde0ef"
            ],
            [
             0.5,
             "#f7f7f7"
            ],
            [
             0.6,
             "#e6f5d0"
            ],
            [
             0.7,
             "#b8e186"
            ],
            [
             0.8,
             "#7fbc41"
            ],
            [
             0.9,
             "#4d9221"
            ],
            [
             1,
             "#276419"
            ]
           ],
           "sequential": [
            [
             0,
             "#0d0887"
            ],
            [
             0.1111111111111111,
             "#46039f"
            ],
            [
             0.2222222222222222,
             "#7201a8"
            ],
            [
             0.3333333333333333,
             "#9c179e"
            ],
            [
             0.4444444444444444,
             "#bd3786"
            ],
            [
             0.5555555555555556,
             "#d8576b"
            ],
            [
             0.6666666666666666,
             "#ed7953"
            ],
            [
             0.7777777777777778,
             "#fb9f3a"
            ],
            [
             0.8888888888888888,
             "#fdca26"
            ],
            [
             1,
             "#f0f921"
            ]
           ],
           "sequentialminus": [
            [
             0,
             "#0d0887"
            ],
            [
             0.1111111111111111,
             "#46039f"
            ],
            [
             0.2222222222222222,
             "#7201a8"
            ],
            [
             0.3333333333333333,
             "#9c179e"
            ],
            [
             0.4444444444444444,
             "#bd3786"
            ],
            [
             0.5555555555555556,
             "#d8576b"
            ],
            [
             0.6666666666666666,
             "#ed7953"
            ],
            [
             0.7777777777777778,
             "#fb9f3a"
            ],
            [
             0.8888888888888888,
             "#fdca26"
            ],
            [
             1,
             "#f0f921"
            ]
           ]
          },
          "colorway": [
           "#636efa",
           "#EF553B",
           "#00cc96",
           "#ab63fa",
           "#FFA15A",
           "#19d3f3",
           "#FF6692",
           "#B6E880",
           "#FF97FF",
           "#FECB52"
          ],
          "font": {
           "color": "#2a3f5f"
          },
          "geo": {
           "bgcolor": "white",
           "lakecolor": "white",
           "landcolor": "#E5ECF6",
           "showlakes": true,
           "showland": true,
           "subunitcolor": "white"
          },
          "hoverlabel": {
           "align": "left"
          },
          "hovermode": "closest",
          "mapbox": {
           "style": "light"
          },
          "paper_bgcolor": "white",
          "plot_bgcolor": "#E5ECF6",
          "polar": {
           "angularaxis": {
            "gridcolor": "white",
            "linecolor": "white",
            "ticks": ""
           },
           "bgcolor": "#E5ECF6",
           "radialaxis": {
            "gridcolor": "white",
            "linecolor": "white",
            "ticks": ""
           }
          },
          "scene": {
           "xaxis": {
            "backgroundcolor": "#E5ECF6",
            "gridcolor": "white",
            "gridwidth": 2,
            "linecolor": "white",
            "showbackground": true,
            "ticks": "",
            "zerolinecolor": "white"
           },
           "yaxis": {
            "backgroundcolor": "#E5ECF6",
            "gridcolor": "white",
            "gridwidth": 2,
            "linecolor": "white",
            "showbackground": true,
            "ticks": "",
            "zerolinecolor": "white"
           },
           "zaxis": {
            "backgroundcolor": "#E5ECF6",
            "gridcolor": "white",
            "gridwidth": 2,
            "linecolor": "white",
            "showbackground": true,
            "ticks": "",
            "zerolinecolor": "white"
           }
          },
          "shapedefaults": {
           "line": {
            "color": "#2a3f5f"
           }
          },
          "ternary": {
           "aaxis": {
            "gridcolor": "white",
            "linecolor": "white",
            "ticks": ""
           },
           "baxis": {
            "gridcolor": "white",
            "linecolor": "white",
            "ticks": ""
           },
           "bgcolor": "#E5ECF6",
           "caxis": {
            "gridcolor": "white",
            "linecolor": "white",
            "ticks": ""
           }
          },
          "title": {
           "x": 0.05
          },
          "xaxis": {
           "automargin": true,
           "gridcolor": "white",
           "linecolor": "white",
           "ticks": "",
           "title": {
            "standoff": 15
           },
           "zerolinecolor": "white",
           "zerolinewidth": 2
          },
          "yaxis": {
           "automargin": true,
           "gridcolor": "white",
           "linecolor": "white",
           "ticks": "",
           "title": {
            "standoff": 15
           },
           "zerolinecolor": "white",
           "zerolinewidth": 2
          }
         }
        },
        "title": {
         "text": "LotFrontage"
        },
        "xaxis": {
         "anchor": "y",
         "domain": [
          0,
          1
         ],
         "title": {
          "text": "x"
         }
        },
        "yaxis": {
         "anchor": "x",
         "domain": [
          0,
          1
         ],
         "title": {
          "text": "SalePrice"
         }
        }
       }
      }
     },
     "metadata": {},
     "output_type": "display_data"
    },
    {
     "data": {
      "application/vnd.plotly.v1+json": {
       "config": {
        "plotlyServerURL": "https://plot.ly"
       },
       "data": [
        {
         "hovertemplate": "LotArea=%{x}<br>SalePrice=%{y}<extra></extra>",
         "legendgroup": "",
         "marker": {
          "color": "#636efa",
          "symbol": "circle"
         },
         "mode": "markers",
         "name": "",
         "showlegend": false,
         "type": "scattergl",
         "x": {
          "bdata": "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",
          "dtype": "i4"
         },
         "xaxis": "x",
         "y": {
          "bdata": "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",
          "dtype": "i4"
         },
         "yaxis": "y"
        }
       ],
       "layout": {
        "legend": {
         "tracegroupgap": 0
        },
        "template": {
         "data": {
          "bar": [
           {
            "error_x": {
             "color": "#2a3f5f"
            },
            "error_y": {
             "color": "#2a3f5f"
            },
            "marker": {
             "line": {
              "color": "#E5ECF6",
              "width": 0.5
             },
             "pattern": {
              "fillmode": "overlay",
              "size": 10,
              "solidity": 0.2
             }
            },
            "type": "bar"
           }
          ],
          "barpolar": [
           {
            "marker": {
             "line": {
              "color": "#E5ECF6",
              "width": 0.5
             },
             "pattern": {
              "fillmode": "overlay",
              "size": 10,
              "solidity": 0.2
             }
            },
            "type": "barpolar"
           }
          ],
          "carpet": [
           {
            "aaxis": {
             "endlinecolor": "#2a3f5f",
             "gridcolor": "white",
             "linecolor": "white",
             "minorgridcolor": "white",
             "startlinecolor": "#2a3f5f"
            },
            "baxis": {
             "endlinecolor": "#2a3f5f",
             "gridcolor": "white",
             "linecolor": "white",
             "minorgridcolor": "white",
             "startlinecolor": "#2a3f5f"
            },
            "type": "carpet"
           }
          ],
          "choropleth": [
           {
            "colorbar": {
             "outlinewidth": 0,
             "ticks": ""
            },
            "type": "choropleth"
           }
          ],
          "contour": [
           {
            "colorbar": {
             "outlinewidth": 0,
             "ticks": ""
            },
            "colorscale": [
             [
              0,
              "#0d0887"
             ],
             [
              0.1111111111111111,
              "#46039f"
             ],
             [
              0.2222222222222222,
              "#7201a8"
             ],
             [
              0.3333333333333333,
              "#9c179e"
             ],
             [
              0.4444444444444444,
              "#bd3786"
             ],
             [
              0.5555555555555556,
              "#d8576b"
             ],
             [
              0.6666666666666666,
              "#ed7953"
             ],
             [
              0.7777777777777778,
              "#fb9f3a"
             ],
             [
              0.8888888888888888,
              "#fdca26"
             ],
             [
              1,
              "#f0f921"
             ]
            ],
            "type": "contour"
           }
          ],
          "contourcarpet": [
           {
            "colorbar": {
             "outlinewidth": 0,
             "ticks": ""
            },
            "type": "contourcarpet"
           }
          ],
          "heatmap": [
           {
            "colorbar": {
             "outlinewidth": 0,
             "ticks": ""
            },
            "colorscale": [
             [
              0,
              "#0d0887"
             ],
             [
              0.1111111111111111,
              "#46039f"
             ],
             [
              0.2222222222222222,
              "#7201a8"
             ],
             [
              0.3333333333333333,
              "#9c179e"
             ],
             [
              0.4444444444444444,
              "#bd3786"
             ],
             [
              0.5555555555555556,
              "#d8576b"
             ],
             [
              0.6666666666666666,
              "#ed7953"
             ],
             [
              0.7777777777777778,
              "#fb9f3a"
             ],
             [
              0.8888888888888888,
              "#fdca26"
             ],
             [
              1,
              "#f0f921"
             ]
            ],
            "type": "heatmap"
           }
          ],
          "histogram": [
           {
            "marker": {
             "pattern": {
              "fillmode": "overlay",
              "size": 10,
              "solidity": 0.2
             }
            },
            "type": "histogram"
           }
          ],
          "histogram2d": [
           {
            "colorbar": {
             "outlinewidth": 0,
             "ticks": ""
            },
            "colorscale": [
             [
              0,
              "#0d0887"
             ],
             [
              0.1111111111111111,
              "#46039f"
             ],
             [
              0.2222222222222222,
              "#7201a8"
             ],
             [
              0.3333333333333333,
              "#9c179e"
             ],
             [
              0.4444444444444444,
              "#bd3786"
             ],
             [
              0.5555555555555556,
              "#d8576b"
             ],
             [
              0.6666666666666666,
              "#ed7953"
             ],
             [
              0.7777777777777778,
              "#fb9f3a"
             ],
             [
              0.8888888888888888,
              "#fdca26"
             ],
             [
              1,
              "#f0f921"
             ]
            ],
            "type": "histogram2d"
           }
          ],
          "histogram2dcontour": [
           {
            "colorbar": {
             "outlinewidth": 0,
             "ticks": ""
            },
            "colorscale": [
             [
              0,
              "#0d0887"
             ],
             [
              0.1111111111111111,
              "#46039f"
             ],
             [
              0.2222222222222222,
              "#7201a8"
             ],
             [
              0.3333333333333333,
              "#9c179e"
             ],
             [
              0.4444444444444444,
              "#bd3786"
             ],
             [
              0.5555555555555556,
              "#d8576b"
             ],
             [
              0.6666666666666666,
              "#ed7953"
             ],
             [
              0.7777777777777778,
              "#fb9f3a"
             ],
             [
              0.8888888888888888,
              "#fdca26"
             ],
             [
              1,
              "#f0f921"
             ]
            ],
            "type": "histogram2dcontour"
           }
          ],
          "mesh3d": [
           {
            "colorbar": {
             "outlinewidth": 0,
             "ticks": ""
            },
            "type": "mesh3d"
           }
          ],
          "parcoords": [
           {
            "line": {
             "colorbar": {
              "outlinewidth": 0,
              "ticks": ""
             }
            },
            "type": "parcoords"
           }
          ],
          "pie": [
           {
            "automargin": true,
            "type": "pie"
           }
          ],
          "scatter": [
           {
            "fillpattern": {
             "fillmode": "overlay",
             "size": 10,
             "solidity": 0.2
            },
            "type": "scatter"
           }
          ],
          "scatter3d": [
           {
            "line": {
             "colorbar": {
              "outlinewidth": 0,
              "ticks": ""
             }
            },
            "marker": {
             "colorbar": {
              "outlinewidth": 0,
              "ticks": ""
             }
            },
            "type": "scatter3d"
           }
          ],
          "scattercarpet": [
           {
            "marker": {
             "colorbar": {
              "outlinewidth": 0,
              "ticks": ""
             }
            },
            "type": "scattercarpet"
           }
          ],
          "scattergeo": [
           {
            "marker": {
             "colorbar": {
              "outlinewidth": 0,
              "ticks": ""
             }
            },
            "type": "scattergeo"
           }
          ],
          "scattergl": [
           {
            "marker": {
             "colorbar": {
              "outlinewidth": 0,
              "ticks": ""
             }
            },
            "type": "scattergl"
           }
          ],
          "scattermap": [
           {
            "marker": {
             "colorbar": {
              "outlinewidth": 0,
              "ticks": ""
             }
            },
            "type": "scattermap"
           }
          ],
          "scattermapbox": [
           {
            "marker": {
             "colorbar": {
              "outlinewidth": 0,
              "ticks": ""
             }
            },
            "type": "scattermapbox"
           }
          ],
          "scatterpolar": [
           {
            "marker": {
             "colorbar": {
              "outlinewidth": 0,
              "ticks": ""
             }
            },
            "type": "scatterpolar"
           }
          ],
          "scatterpolargl": [
           {
            "marker": {
             "colorbar": {
              "outlinewidth": 0,
              "ticks": ""
             }
            },
            "type": "scatterpolargl"
           }
          ],
          "scatterternary": [
           {
            "marker": {
             "colorbar": {
              "outlinewidth": 0,
              "ticks": ""
             }
            },
            "type": "scatterternary"
           }
          ],
          "surface": [
           {
            "colorbar": {
             "outlinewidth": 0,
             "ticks": ""
            },
            "colorscale": [
             [
              0,
              "#0d0887"
             ],
             [
              0.1111111111111111,
              "#46039f"
             ],
             [
              0.2222222222222222,
              "#7201a8"
             ],
             [
              0.3333333333333333,
              "#9c179e"
             ],
             [
              0.4444444444444444,
              "#bd3786"
             ],
             [
              0.5555555555555556,
              "#d8576b"
             ],
             [
              0.6666666666666666,
              "#ed7953"
             ],
             [
              0.7777777777777778,
              "#fb9f3a"
             ],
             [
              0.8888888888888888,
              "#fdca26"
             ],
             [
              1,
              "#f0f921"
             ]
            ],
            "type": "surface"
           }
          ],
          "table": [
           {
            "cells": {
             "fill": {
              "color": "#EBF0F8"
             },
             "line": {
              "color": "white"
             }
            },
            "header": {
             "fill": {
              "color": "#C8D4E3"
             },
             "line": {
              "color": "white"
             }
            },
            "type": "table"
           }
          ]
         },
         "layout": {
          "annotationdefaults": {
           "arrowcolor": "#2a3f5f",
           "arrowhead": 0,
           "arrowwidth": 1
          },
          "autotypenumbers": "strict",
          "coloraxis": {
           "colorbar": {
            "outlinewidth": 0,
            "ticks": ""
           }
          },
          "colorscale": {
           "diverging": [
            [
             0,
             "#8e0152"
            ],
            [
             0.1,
             "#c51b7d"
            ],
            [
             0.2,
             "#de77ae"
            ],
            [
             0.3,
             "#f1b6da"
            ],
            [
             0.4,
             "#fde0ef"
            ],
            [
             0.5,
             "#f7f7f7"
            ],
            [
             0.6,
             "#e6f5d0"
            ],
            [
             0.7,
             "#b8e186"
            ],
            [
             0.8,
             "#7fbc41"
            ],
            [
             0.9,
             "#4d9221"
            ],
            [
             1,
             "#276419"
            ]
           ],
           "sequential": [
            [
             0,
             "#0d0887"
            ],
            [
             0.1111111111111111,
             "#46039f"
            ],
            [
             0.2222222222222222,
             "#7201a8"
            ],
            [
             0.3333333333333333,
             "#9c179e"
            ],
            [
             0.4444444444444444,
             "#bd3786"
            ],
            [
             0.5555555555555556,
             "#d8576b"
            ],
            [
             0.6666666666666666,
             "#ed7953"
            ],
            [
             0.7777777777777778,
             "#fb9f3a"
            ],
            [
             0.8888888888888888,
             "#fdca26"
            ],
            [
             1,
             "#f0f921"
            ]
           ],
           "sequentialminus": [
            [
             0,
             "#0d0887"
            ],
            [
             0.1111111111111111,
             "#46039f"
            ],
            [
             0.2222222222222222,
             "#7201a8"
            ],
            [
             0.3333333333333333,
             "#9c179e"
            ],
            [
             0.4444444444444444,
             "#bd3786"
            ],
            [
             0.5555555555555556,
             "#d8576b"
            ],
            [
             0.6666666666666666,
             "#ed7953"
            ],
            [
             0.7777777777777778,
             "#fb9f3a"
            ],
            [
             0.8888888888888888,
             "#fdca26"
            ],
            [
             1,
             "#f0f921"
            ]
           ]
          },
          "colorway": [
           "#636efa",
           "#EF553B",
           "#00cc96",
           "#ab63fa",
           "#FFA15A",
           "#19d3f3",
           "#FF6692",
           "#B6E880",
           "#FF97FF",
           "#FECB52"
          ],
          "font": {
           "color": "#2a3f5f"
          },
          "geo": {
           "bgcolor": "white",
           "lakecolor": "white",
           "landcolor": "#E5ECF6",
           "showlakes": true,
           "showland": true,
           "subunitcolor": "white"
          },
          "hoverlabel": {
           "align": "left"
          },
          "hovermode": "closest",
          "mapbox": {
           "style": "light"
          },
          "paper_bgcolor": "white",
          "plot_bgcolor": "#E5ECF6",
          "polar": {
           "angularaxis": {
            "gridcolor": "white",
            "linecolor": "white",
            "ticks": ""
           },
           "bgcolor": "#E5ECF6",
           "radialaxis": {
            "gridcolor": "white",
            "linecolor": "white",
            "ticks": ""
           }
          },
          "scene": {
           "xaxis": {
            "backgroundcolor": "#E5ECF6",
            "gridcolor": "white",
            "gridwidth": 2,
            "linecolor": "white",
            "showbackground": true,
            "ticks": "",
            "zerolinecolor": "white"
           },
           "yaxis": {
            "backgroundcolor": "#E5ECF6",
            "gridcolor": "white",
            "gridwidth": 2,
            "linecolor": "white",
            "showbackground": true,
            "ticks": "",
            "zerolinecolor": "white"
           },
           "zaxis": {
            "backgroundcolor": "#E5ECF6",
            "gridcolor": "white",
            "gridwidth": 2,
            "linecolor": "white",
            "showbackground": true,
            "ticks": "",
            "zerolinecolor": "white"
           }
          },
          "shapedefaults": {
           "line": {
            "color": "#2a3f5f"
           }
          },
          "ternary": {
           "aaxis": {
            "gridcolor": "white",
            "linecolor": "white",
            "ticks": ""
           },
           "baxis": {
            "gridcolor": "white",
            "linecolor": "white",
            "ticks": ""
           },
           "bgcolor": "#E5ECF6",
           "caxis": {
            "gridcolor": "white",
            "linecolor": "white",
            "ticks": ""
           }
          },
          "title": {
           "x": 0.05
          },
          "xaxis": {
           "automargin": true,
           "gridcolor": "white",
           "linecolor": "white",
           "ticks": "",
           "title": {
            "standoff": 15
           },
           "zerolinecolor": "white",
           "zerolinewidth": 2
          },
          "yaxis": {
           "automargin": true,
           "gridcolor": "white",
           "linecolor": "white",
           "ticks": "",
           "title": {
            "standoff": 15
           },
           "zerolinecolor": "white",
           "zerolinewidth": 2
          }
         }
        },
        "title": {
         "text": "LotArea"
        },
        "xaxis": {
         "anchor": "y",
         "domain": [
          0,
          1
         ],
         "title": {
          "text": "LotArea"
         }
        },
        "yaxis": {
         "anchor": "x",
         "domain": [
          0,
          1
         ],
         "title": {
          "text": "SalePrice"
         }
        }
       }
      }
     },
     "metadata": {},
     "output_type": "display_data"
    },
    {
     "data": {
      "application/vnd.plotly.v1+json": {
       "config": {
        "plotlyServerURL": "https://plot.ly"
       },
       "data": [
        {
         "hovertemplate": "Street=%{x}<br>SalePrice=%{y}<extra></extra>",
         "legendgroup": "",
         "marker": {
          "color": "#636efa",
          "symbol": "circle"
         },
         "mode": "markers",
         "name": "",
         "showlegend": false,
         "type": "scattergl",
         "x": [
          "Pave",
          "Pave",
          "Pave",
          "Pave",
          "Pave",
          "Pave",
          "Pave",
          "Pave",
          "Pave",
          "Pave",
          "Pave",
          "Pave",
          "Pave",
          "Pave",
          "Pave",
          "Pave",
          "Pave",
          "Pave",
          "Pave",
          "Pave",
          "Pave",
          "Pave",
          "Pave",
          "Pave",
          "Pave",
          "Pave",
          "Pave",
          "Pave",
          "Pave",
          "Pave",
          "Pave",
          "Pave",
          "Pave",
          "Pave",
          "Pave",
          "Pave",
          "Pave",
          "Pave",
          "Pave",
          "Pave",
          "Pave",
          "Pave",
          "Pave",
          "Pave",
          "Pave",
          "Pave",
          "Pave",
          "Pave",
          "Pave",
          "Pave",
          "Pave",
          "Pave",
          "Grvl",
          "Pave",
          "Pave",
          "Pave",
          "Pave",
          "Pave",
          "Pave",
          "Pave",
          "Pave",
          "Pave",
          "Pave",
          "Pave",
          "Pave",
          "Pave",
          "Pave",
          "Pave",
          "Pave",
          "Pave",
          "Pave",
          "Pave",
          "Pave",
          "Pave",
          "Pave",
          "Pave",
          "Pave",
          "Pave",
          "Pave",
          "Pave",
          "Pave",
          "Pave",
          "Pave",
          "Pave",
          "Pave",
          "Pave",
          "Pave",
          "Pave",
          "Pave",
          "Pave",
          "Pave",
          "Pave",
          "Pave",
          "Pave",
          "Pave",
          "Pave",
          "Pave",
          "Pave",
          "Pave",
          "Pave",
          "Pave",
          "Pave",
          "Pave",
          "Pave",
          "Pave",
          "Pave",
          "Pave",
          "Pave",
          "Pave",
          "Pave",
          "Pave",
          "Pave",
          "Pave",
          "Pave",
          "Pave",
          "Pave",
          "Pave",
          "Pave",
          "Pave",
          "Pave",
          "Pave",
          "Pave",
          "Pave",
          "Pave",
          "Pave",
          "Pave",
          "Pave",
          "Pave",
          "Pave",
          "Pave",
          "Pave",
          "Pave",
          "Pave",
          "Pave",
          "Pave",
          "Pave",
          "Pave",
          "Pave",
          "Pave",
          "Pave",
          "Pave",
          "Pave",
          "Pave",
          "Pave",
          "Pave",
          "Pave",
          "Pave",
          "Pave",
          "Pave",
          "Pave",
          "Pave",
          "Pave",
          "Pave",
          "Pave",
          "Pave",
          "Pave",
          "Pave",
          "Pave",
          "Pave",
          "Pave",
          "Pave",
          "Pave",
          "Pave",
          "Pave",
          "Pave",
          "Pave",
          "Pave",
          "Pave",
          "Pave",
          "Pave",
          "Pave",
          "Pave",
          "Pave",
          "Pave",
          "Pave",
          "Pave",
          "Pave",
          "Pave",
          "Pave",
          "Pave",
          "Pave",
          "Pave",
          "Pave",
          "Pave",
          "Pave",
          "Pave",
          "Pave",
          "Pave",
          "Pave",
          "Pave",
          "Pave",
          "Pave",
          "Pave",
          "Pave",
          "Pave",
          "Pave",
          "Pave",
          "Pave",
          "Pave",
          "Pave",
          "Pave",
          "Pave",
          "Pave",
          "Pave",
          "Pave",
          "Pave",
          "Pave",
          "Pave",
          "Pave",
          "Pave",
          "Pave",
          "Pave",
          "Pave",
          "Pave",
          "Pave",
          "Pave",
          "Pave",
          "Pave",
          "Pave",
          "Pave",
          "Pave",
          "Pave",
          "Pave",
          "Pave",
          "Pave",
          "Pave",
          "Pave",
          "Pave",
          "Pave",
          "Pave",
          "Pave",
          "Pave",
          "Pave",
          "Pave",
          "Pave",
          "Pave",
          "Pave",
          "Pave",
          "Pave",
          "Pave",
          "Pave",
          "Pave",
          "Pave",
          "Pave",
          "Pave",
          "Pave",
          "Pave",
          "Pave",
          "Pave",
          "Pave",
          "Pave",
          "Pave",
          "Pave",
          "Pave",
          "Pave",
          "Pave",
          "Pave",
          "Pave",
          "Pave",
          "Pave",
          "Pave",
          "Pave",
          "Pave",
          "Pave",
          "Pave",
          "Pave",
          "Pave",
          "Pave",
          "Pave",
          "Pave",
          "Pave",
          "Pave",
          "Pave",
          "Pave",
          "Pave",
          "Pave",
          "Pave",
          "Pave",
          "Pave",
          "Pave",
          "Pave",
          "Pave",
          "Pave",
          "Pave",
          "Pave",
          "Pave",
          "Pave",
          "Pave",
          "Pave",
          "Pave",
          "Pave",
          "Pave",
          "Pave",
          "Pave",
          "Pave",
          "Pave",
          "Pave",
          "Pave",
          "Pave",
          "Pave",
          "Pave",
          "Pave",
          "Pave",
          "Pave",
          "Pave",
          "Pave",
          "Pave",
          "Pave",
          "Pave",
          "Pave",
          "Pave",
          "Pave",
          "Pave",
          "Pave",
          "Pave",
          "Pave",
          "Pave",
          "Pave",
          "Pave",
          "Pave",
          "Pave",
          "Pave",
          "Pave",
          "Pave",
          "Pave",
          "Pave",
          "Pave",
          "Pave",
          "Pave",
          "Pave",
          "Pave",
          "Pave",
          "Pave",
          "Pave",
          "Pave",
          "Grvl",
          "Pave",
          "Pave",
          "Pave",
          "Pave",
          "Pave",
          "Pave",
          "Pave",
          "Pave",
          "Pave",
          "Pave",
          "Pave",
          "Pave",
          "Pave",
          "Pave",
          "Pave",
          "Pave",
          "Pave",
          "Pave",
          "Pave",
          "Pave",
          "Pave",
          "Pave",
          "Pave",
          "Pave",
          "Pave",
          "Pave",
          "Pave",
          "Pave",
          "Pave",
          "Pave",
          "Pave",
          "Pave",
          "Pave",
          "Pave",
          "Pave",
          "Pave",
          "Pave",
          "Pave",
          "Pave",
          "Pave",
          "Pave",
          "Pave",
          "Pave",
          "Pave",
          "Pave",
          "Pave",
          "Pave",
          "Pave",
          "Pave",
          "Pave",
          "Pave",
          "Pave",
          "Pave",
          "Pave",
          "Pave",
          "Pave",
          "Pave",
          "Pave",
          "Pave",
          "Pave",
          "Pave",
          "Pave",
          "Pave",
          "Pave",
          "Pave",
          "Pave",
          "Pave",
          "Pave",
          "Pave",
          "Pave",
          "Pave",
          "Pave",
          "Pave",
          "Pave",
          "Pave",
          "Pave",
          "Pave",
          "Pave",
          "Pave",
          "Pave",
          "Pave",
          "Pave",
          "Pave",
          "Pave",
          "Pave",
          "Pave",
          "Pave",
          "Pave",
          "Pave",
          "Pave",
          "Pave",
          "Pave",
          "Pave",
          "Pave",
          "Pave",
          "Pave",
          "Pave",
          "Pave",
          "Pave",
          "Pave",
          "Pave",
          "Pave",
          "Pave",
          "Pave",
          "Pave",
          "Pave",
          "Pave",
          "Pave",
          "Pave",
          "Pave",
          "Pave",
          "Pave",
          "Pave",
          "Pave",
          "Pave",
          "Pave",
          "Pave",
          "Pave",
          "Pave",
          "Pave",
          "Pave",
          "Pave",
          "Pave",
          "Pave",
          "Pave",
          "Pave",
          "Pave",
          "Pave",
          "Pave",
          "Pave",
          "Pave",
          "Pave",
          "Pave",
          "Pave",
          "Pave",
          "Pave",
          "Pave",
          "Pave",
          "Pave",
          "Pave",
          "Pave",
          "Pave",
          "Pave",
          "Pave",
          "Pave",
          "Pave",
          "Pave",
          "Pave",
          "Pave",
          "Pave",
          "Pave",
          "Pave",
          "Pave",
          "Pave",
          "Pave",
          "Pave",
          "Pave",
          "Pave",
          "Pave",
          "Pave",
          "Pave",
          "Pave",
          "Pave",
          "Pave",
          "Pave",
          "Pave",
          "Pave",
          "Pave",
          "Pave",
          "Pave",
          "Pave",
          "Pave",
          "Pave",
          "Pave",
          "Pave",
          "Pave",
          "Pave",
          "Pave",
          "Pave",
          "Pave",
          "Pave",
          "Pave",
          "Pave",
          "Pave",
          "Pave",
          "Pave",
          "Pave",
          "Pave",
          "Pave",
          "Pave",
          "Pave",
          "Pave",
          "Pave",
          "Pave",
          "Pave",
          "Pave",
          "Pave",
          "Pave",
          "Pave",
          "Pave",
          "Pave",
          "Pave",
          "Pave",
          "Pave",
          "Pave",
          "Pave",
          "Pave",
          "Pave",
          "Pave",
          "Pave",
          "Pave",
          "Pave",
          "Pave",
          "Pave",
          "Pave",
          "Pave",
          "Pave",
          "Pave",
          "Pave",
          "Pave",
          "Pave",
          "Pave",
          "Pave",
          "Pave",
          "Pave",
          "Pave",
          "Pave",
          "Pave",
          "Pave",
          "Pave",
          "Pave",
          "Pave",
          "Pave",
          "Pave",
          "Pave",
          "Pave",
          "Pave",
          "Pave",
          "Pave",
          "Pave",
          "Pave",
          "Pave",
          "Pave",
          "Pave",
          "Pave",
          "Pave",
          "Grvl",
          "Pave",
          "Pave",
          "Pave",
          "Pave",
          "Pave",
          "Pave",
          "Pave",
          "Pave",
          "Pave",
          "Pave",
          "Pave",
          "Pave",
          "Pave",
          "Pave",
          "Pave",
          "Pave",
          "Pave",
          "Pave",
          "Pave",
          "Pave",
          "Pave",
          "Pave",
          "Pave",
          "Pave",
          "Pave",
          "Pave",
          "Pave",
          "Pave",
          "Pave",
          "Pave",
          "Pave",
          "Pave",
          "Pave",
          "Pave",
          "Pave",
          "Pave",
          "Pave",
          "Pave",
          "Pave",
          "Pave",
          "Pave",
          "Pave",
          "Pave",
          "Pave",
          "Pave",
          "Pave",
          "Pave",
          "Pave",
          "Pave",
          "Pave",
          "Pave",
          "Pave",
          "Pave",
          "Pave",
          "Pave",
          "Pave",
          "Pave",
          "Pave",
          "Pave",
          "Pave",
          "Pave",
          "Pave",
          "Pave",
          "Pave",
          "Pave",
          "Pave",
          "Pave",
          "Pave",
          "Pave",
          "Pave",
          "Pave",
          "Pave",
          "Pave",
          "Pave",
          "Pave",
          "Pave",
          "Pave",
          "Pave",
          "Pave",
          "Pave",
          "Pave",
          "Pave",
          "Pave",
          "Pave",
          "Pave",
          "Pave",
          "Pave",
          "Pave",
          "Pave",
          "Pave",
          "Pave",
          "Pave",
          "Pave",
          "Pave",
          "Pave",
          "Pave",
          "Pave",
          "Pave",
          "Pave",
          "Pave",
          "Pave",
          "Pave",
          "Pave",
          "Pave",
          "Pave",
          "Pave",
          "Pave",
          "Pave",
          "Pave",
          "Pave",
          "Pave",
          "Pave",
          "Pave",
          "Pave",
          "Pave",
          "Pave",
          "Pave",
          "Pave",
          "Pave",
          "Pave",
          "Pave",
          "Pave",
          "Pave",
          "Pave",
          "Pave",
          "Pave",
          "Pave",
          "Pave",
          "Pave",
          "Pave",
          "Pave",
          "Pave",
          "Pave",
          "Pave",
          "Pave",
          "Pave",
          "Pave",
          "Pave",
          "Pave",
          "Pave",
          "Pave",
          "Pave",
          "Pave",
          "Pave",
          "Pave",
          "Pave",
          "Pave",
          "Pave",
          "Pave",
          "Pave",
          "Pave",
          "Pave",
          "Pave",
          "Pave",
          "Pave",
          "Pave",
          "Pave",
          "Pave",
          "Pave",
          "Pave",
          "Pave",
          "Pave",
          "Pave",
          "Pave",
          "Pave",
          "Pave",
          "Pave",
          "Pave",
          "Pave",
          "Pave",
          "Pave",
          "Pave",
          "Pave",
          "Pave",
          "Pave",
          "Pave",
          "Pave",
          "Pave",
          "Pave",
          "Pave",
          "Pave",
          "Pave",
          "Pave",
          "Pave",
          "Pave",
          "Pave",
          "Pave",
          "Pave",
          "Pave",
          "Pave",
          "Pave",
          "Pave",
          "Pave",
          "Pave",
          "Pave",
          "Pave",
          "Pave",
          "Pave",
          "Pave",
          "Pave",
          "Pave",
          "Pave",
          "Pave",
          "Pave",
          "Pave",
          "Pave",
          "Pave",
          "Pave",
          "Pave",
          "Pave",
          "Pave",
          "Pave",
          "Pave",
          "Pave",
          "Pave",
          "Pave",
          "Pave",
          "Pave",
          "Pave",
          "Pave",
          "Pave",
          "Pave",
          "Pave",
          "Pave",
          "Pave",
          "Pave",
          "Pave",
          "Pave",
          "Pave",
          "Grvl",
          "Pave",
          "Pave",
          "Pave",
          "Pave",
          "Pave",
          "Pave",
          "Pave",
          "Pave",
          "Pave",
          "Pave",
          "Pave",
          "Pave",
          "Pave",
          "Pave",
          "Pave",
          "Pave",
          "Pave",
          "Pave",
          "Pave",
          "Pave",
          "Pave",
          "Pave",
          "Pave",
          "Pave",
          "Pave",
          "Pave",
          "Pave",
          "Pave",
          "Pave",
          "Pave",
          "Pave",
          "Pave",
          "Pave",
          "Pave",
          "Pave",
          "Pave",
          "Pave",
          "Pave",
          "Pave",
          "Pave",
          "Pave",
          "Pave",
          "Pave",
          "Pave",
          "Pave",
          "Pave",
          "Pave",
          "Pave",
          "Pave",
          "Pave",
          "Pave",
          "Pave",
          "Pave",
          "Pave",
          "Pave",
          "Pave",
          "Pave",
          "Pave",
          "Pave",
          "Pave",
          "Pave",
          "Pave",
          "Pave",
          "Pave",
          "Pave",
          "Pave",
          "Pave",
          "Pave",
          "Pave",
          "Pave",
          "Pave",
          "Pave",
          "Pave",
          "Pave",
          "Pave",
          "Pave",
          "Pave",
          "Pave",
          "Pave",
          "Pave",
          "Pave",
          "Pave",
          "Pave",
          "Pave",
          "Pave",
          "Pave",
          "Pave",
          "Pave",
          "Pave",
          "Pave",
          "Pave",
          "Pave",
          "Pave",
          "Pave",
          "Pave",
          "Pave",
          "Pave",
          "Pave",
          "Pave",
          "Pave",
          "Pave",
          "Pave",
          "Pave",
          "Pave",
          "Pave",
          "Pave",
          "Pave",
          "Pave",
          "Pave",
          "Pave",
          "Pave",
          "Pave",
          "Pave",
          "Pave",
          "Pave",
          "Pave",
          "Pave",
          "Pave",
          "Pave",
          "Pave",
          "Pave",
          "Pave",
          "Pave",
          "Pave",
          "Pave",
          "Pave",
          "Pave",
          "Pave",
          "Pave",
          "Pave",
          "Pave",
          "Pave",
          "Pave",
          "Pave",
          "Pave",
          "Pave",
          "Pave",
          "Pave",
          "Pave",
          "Pave",
          "Pave",
          "Pave",
          "Pave",
          "Pave",
          "Pave",
          "Pave",
          "Pave",
          "Pave",
          "Pave",
          "Pave",
          "Pave",
          "Pave",
          "Pave",
          "Pave",
          "Pave",
          "Pave",
          "Pave",
          "Pave",
          "Pave",
          "Pave",
          "Pave",
          "Pave",
          "Pave",
          "Pave",
          "Pave",
          "Pave",
          "Pave",
          "Pave",
          "Pave",
          "Pave",
          "Pave",
          "Pave",
          "Pave",
          "Pave",
          "Pave",
          "Pave",
          "Pave",
          "Pave",
          "Pave",
          "Pave",
          "Pave",
          "Pave",
          "Pave",
          "Pave",
          "Pave",
          "Pave",
          "Pave",
          "Pave",
          "Pave",
          "Pave",
          "Pave",
          "Pave",
          "Pave",
          "Pave",
          "Pave",
          "Pave",
          "Pave",
          "Pave",
          "Pave",
          "Pave",
          "Pave",
          "Pave",
          "Pave",
          "Pave",
          "Pave",
          "Pave",
          "Pave",
          "Pave",
          "Pave",
          "Pave",
          "Pave",
          "Pave",
          "Pave",
          "Pave",
          "Pave",
          "Pave",
          "Pave",
          "Pave",
          "Pave",
          "Pave",
          "Pave",
          "Pave",
          "Pave",
          "Pave",
          "Pave",
          "Pave",
          "Pave",
          "Pave",
          "Pave",
          "Pave",
          "Pave",
          "Pave",
          "Pave",
          "Pave",
          "Pave",
          "Pave",
          "Pave",
          "Pave",
          "Pave",
          "Pave",
          "Pave",
          "Pave",
          "Pave",
          "Pave",
          "Pave",
          "Pave",
          "Pave",
          "Pave",
          "Grvl",
          "Pave",
          "Pave",
          "Pave",
          "Pave",
          "Pave",
          "Pave",
          "Pave",
          "Pave",
          "Pave",
          "Pave",
          "Pave",
          "Pave",
          "Pave",
          "Pave",
          "Pave",
          "Pave",
          "Pave",
          "Pave",
          "Pave",
          "Pave",
          "Pave",
          "Pave",
          "Pave",
          "Pave",
          "Pave",
          "Pave",
          "Pave",
          "Pave",
          "Pave",
          "Pave",
          "Pave",
          "Pave",
          "Pave",
          "Pave",
          "Pave",
          "Pave",
          "Pave",
          "Pave",
          "Pave",
          "Pave",
          "Pave",
          "Pave",
          "Pave",
          "Pave",
          "Pave",
          "Pave",
          "Pave",
          "Pave",
          "Pave",
          "Pave",
          "Pave",
          "Pave",
          "Pave",
          "Pave",
          "Pave",
          "Pave",
          "Pave",
          "Pave",
          "Pave",
          "Pave",
          "Pave",
          "Pave",
          "Pave",
          "Pave",
          "Pave",
          "Pave",
          "Pave",
          "Pave",
          "Pave",
          "Pave",
          "Pave",
          "Pave",
          "Pave",
          "Pave",
          "Pave",
          "Pave",
          "Pave",
          "Pave",
          "Pave",
          "Pave",
          "Pave",
          "Pave",
          "Pave",
          "Pave",
          "Pave",
          "Pave",
          "Pave",
          "Pave",
          "Pave",
          "Pave",
          "Pave",
          "Pave",
          "Pave",
          "Pave",
          "Pave",
          "Pave",
          "Pave",
          "Pave",
          "Pave",
          "Pave",
          "Pave",
          "Pave",
          "Pave",
          "Pave",
          "Pave",
          "Pave",
          "Pave",
          "Pave",
          "Pave",
          "Pave",
          "Pave",
          "Pave",
          "Pave",
          "Pave",
          "Pave",
          "Pave",
          "Pave",
          "Pave",
          "Pave",
          "Pave",
          "Pave",
          "Pave",
          "Grvl",
          "Pave",
          "Pave",
          "Pave",
          "Pave",
          "Pave",
          "Pave",
          "Pave",
          "Pave",
          "Pave",
          "Pave",
          "Pave",
          "Pave",
          "Pave",
          "Pave",
          "Pave",
          "Pave",
          "Pave",
          "Pave",
          "Pave",
          "Pave",
          "Pave",
          "Pave",
          "Pave",
          "Pave",
          "Pave",
          "Pave",
          "Pave",
          "Pave",
          "Pave",
          "Pave",
          "Pave",
          "Pave",
          "Pave",
          "Pave",
          "Pave",
          "Pave",
          "Pave",
          "Pave",
          "Pave",
          "Pave",
          "Pave",
          "Pave",
          "Pave",
          "Pave",
          "Pave",
          "Pave",
          "Pave",
          "Pave",
          "Pave",
          "Pave",
          "Pave",
          "Pave",
          "Pave",
          "Pave",
          "Pave",
          "Pave",
          "Pave",
          "Pave",
          "Pave",
          "Pave",
          "Pave",
          "Pave",
          "Pave",
          "Pave",
          "Pave",
          "Pave",
          "Pave",
          "Pave",
          "Pave",
          "Pave",
          "Pave",
          "Pave",
          "Pave",
          "Pave",
          "Pave",
          "Pave",
          "Pave",
          "Pave",
          "Pave",
          "Pave",
          "Pave",
          "Pave",
          "Pave",
          "Pave",
          "Pave",
          "Pave",
          "Pave",
          "Pave",
          "Pave",
          "Pave",
          "Pave",
          "Pave",
          "Pave",
          "Pave",
          "Pave",
          "Pave",
          "Pave",
          "Pave",
          "Pave",
          "Pave",
          "Pave",
          "Pave",
          "Pave",
          "Pave",
          "Pave",
          "Pave",
          "Pave",
          "Pave",
          "Pave",
          "Pave",
          "Pave",
          "Pave",
          "Pave",
          "Pave",
          "Pave",
          "Pave",
          "Pave",
          "Pave",
          "Pave",
          "Pave",
          "Pave",
          "Pave",
          "Pave",
          "Pave",
          "Pave",
          "Pave",
          "Pave",
          "Pave",
          "Pave",
          "Pave",
          "Pave",
          "Pave",
          "Pave",
          "Pave",
          "Pave",
          "Pave",
          "Pave",
          "Pave",
          "Pave",
          "Pave",
          "Pave",
          "Pave",
          "Pave",
          "Pave",
          "Pave",
          "Pave",
          "Pave",
          "Pave",
          "Pave",
          "Pave",
          "Pave",
          "Pave",
          "Pave",
          "Pave",
          "Pave",
          "Pave",
          "Pave",
          "Pave",
          "Pave",
          "Pave",
          "Pave",
          "Pave",
          "Pave",
          "Pave",
          "Pave",
          "Pave",
          "Pave",
          "Pave",
          "Pave",
          "Pave",
          "Pave",
          "Pave",
          "Pave",
          "Pave",
          "Pave",
          "Pave",
          "Pave",
          "Pave",
          "Pave",
          "Pave",
          "Pave",
          "Pave",
          "Pave",
          "Pave",
          "Pave",
          "Pave",
          "Pave",
          "Pave",
          "Pave",
          "Pave",
          "Pave",
          "Pave",
          "Pave",
          "Pave",
          "Pave",
          "Pave",
          "Pave",
          "Pave",
          "Pave",
          "Pave",
          "Pave",
          "Pave",
          "Pave",
          "Pave",
          "Pave",
          "Pave",
          "Pave",
          "Pave",
          "Pave",
          "Pave",
          "Pave",
          "Pave",
          "Pave",
          "Pave",
          "Pave",
          "Pave",
          "Pave",
          "Pave",
          "Pave",
          "Pave",
          "Pave",
          "Pave",
          "Pave",
          "Pave",
          "Pave",
          "Pave",
          "Pave",
          "Pave",
          "Pave",
          "Pave",
          "Pave",
          "Pave",
          "Pave",
          "Pave",
          "Pave",
          "Pave",
          "Pave",
          "Pave",
          "Pave",
          "Pave",
          "Pave",
          "Pave",
          "Pave",
          "Pave",
          "Pave",
          "Pave",
          "Pave",
          "Pave",
          "Pave",
          "Pave",
          "Pave",
          "Pave",
          "Pave",
          "Pave",
          "Pave",
          "Pave",
          "Pave",
          "Pave",
          "Pave",
          "Pave",
          "Pave",
          "Pave",
          "Pave",
          "Pave",
          "Pave",
          "Pave",
          "Pave",
          "Pave",
          "Pave",
          "Pave",
          "Pave",
          "Pave",
          "Pave",
          "Pave",
          "Pave"
         ],
         "xaxis": "x",
         "y": {
          "bdata": "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",
          "dtype": "i4"
         },
         "yaxis": "y"
        }
       ],
       "layout": {
        "legend": {
         "tracegroupgap": 0
        },
        "template": {
         "data": {
          "bar": [
           {
            "error_x": {
             "color": "#2a3f5f"
            },
            "error_y": {
             "color": "#2a3f5f"
            },
            "marker": {
             "line": {
              "color": "#E5ECF6",
              "width": 0.5
             },
             "pattern": {
              "fillmode": "overlay",
              "size": 10,
              "solidity": 0.2
             }
            },
            "type": "bar"
           }
          ],
          "barpolar": [
           {
            "marker": {
             "line": {
              "color": "#E5ECF6",
              "width": 0.5
             },
             "pattern": {
              "fillmode": "overlay",
              "size": 10,
              "solidity": 0.2
             }
            },
            "type": "barpolar"
           }
          ],
          "carpet": [
           {
            "aaxis": {
             "endlinecolor": "#2a3f5f",
             "gridcolor": "white",
             "linecolor": "white",
             "minorgridcolor": "white",
             "startlinecolor": "#2a3f5f"
            },
            "baxis": {
             "endlinecolor": "#2a3f5f",
             "gridcolor": "white",
             "linecolor": "white",
             "minorgridcolor": "white",
             "startlinecolor": "#2a3f5f"
            },
            "type": "carpet"
           }
          ],
          "choropleth": [
           {
            "colorbar": {
             "outlinewidth": 0,
             "ticks": ""
            },
            "type": "choropleth"
           }
          ],
          "contour": [
           {
            "colorbar": {
             "outlinewidth": 0,
             "ticks": ""
            },
            "colorscale": [
             [
              0,
              "#0d0887"
             ],
             [
              0.1111111111111111,
              "#46039f"
             ],
             [
              0.2222222222222222,
              "#7201a8"
             ],
             [
              0.3333333333333333,
              "#9c179e"
             ],
             [
              0.4444444444444444,
              "#bd3786"
             ],
             [
              0.5555555555555556,
              "#d8576b"
             ],
             [
              0.6666666666666666,
              "#ed7953"
             ],
             [
              0.7777777777777778,
              "#fb9f3a"
             ],
             [
              0.8888888888888888,
              "#fdca26"
             ],
             [
              1,
              "#f0f921"
             ]
            ],
            "type": "contour"
           }
          ],
          "contourcarpet": [
           {
            "colorbar": {
             "outlinewidth": 0,
             "ticks": ""
            },
            "type": "contourcarpet"
           }
          ],
          "heatmap": [
           {
            "colorbar": {
             "outlinewidth": 0,
             "ticks": ""
            },
            "colorscale": [
             [
              0,
              "#0d0887"
             ],
             [
              0.1111111111111111,
              "#46039f"
             ],
             [
              0.2222222222222222,
              "#7201a8"
             ],
             [
              0.3333333333333333,
              "#9c179e"
             ],
             [
              0.4444444444444444,
              "#bd3786"
             ],
             [
              0.5555555555555556,
              "#d8576b"
             ],
             [
              0.6666666666666666,
              "#ed7953"
             ],
             [
              0.7777777777777778,
              "#fb9f3a"
             ],
             [
              0.8888888888888888,
              "#fdca26"
             ],
             [
              1,
              "#f0f921"
             ]
            ],
            "type": "heatmap"
           }
          ],
          "histogram": [
           {
            "marker": {
             "pattern": {
              "fillmode": "overlay",
              "size": 10,
              "solidity": 0.2
             }
            },
            "type": "histogram"
           }
          ],
          "histogram2d": [
           {
            "colorbar": {
             "outlinewidth": 0,
             "ticks": ""
            },
            "colorscale": [
             [
              0,
              "#0d0887"
             ],
             [
              0.1111111111111111,
              "#46039f"
             ],
             [
              0.2222222222222222,
              "#7201a8"
             ],
             [
              0.3333333333333333,
              "#9c179e"
             ],
             [
              0.4444444444444444,
              "#bd3786"
             ],
             [
              0.5555555555555556,
              "#d8576b"
             ],
             [
              0.6666666666666666,
              "#ed7953"
             ],
             [
              0.7777777777777778,
              "#fb9f3a"
             ],
             [
              0.8888888888888888,
              "#fdca26"
             ],
             [
              1,
              "#f0f921"
             ]
            ],
            "type": "histogram2d"
           }
          ],
          "histogram2dcontour": [
           {
            "colorbar": {
             "outlinewidth": 0,
             "ticks": ""
            },
            "colorscale": [
             [
              0,
              "#0d0887"
             ],
             [
              0.1111111111111111,
              "#46039f"
             ],
             [
              0.2222222222222222,
              "#7201a8"
             ],
             [
              0.3333333333333333,
              "#9c179e"
             ],
             [
              0.4444444444444444,
              "#bd3786"
             ],
             [
              0.5555555555555556,
              "#d8576b"
             ],
             [
              0.6666666666666666,
              "#ed7953"
             ],
             [
              0.7777777777777778,
              "#fb9f3a"
             ],
             [
              0.8888888888888888,
              "#fdca26"
             ],
             [
              1,
              "#f0f921"
             ]
            ],
            "type": "histogram2dcontour"
           }
          ],
          "mesh3d": [
           {
            "colorbar": {
             "outlinewidth": 0,
             "ticks": ""
            },
            "type": "mesh3d"
           }
          ],
          "parcoords": [
           {
            "line": {
             "colorbar": {
              "outlinewidth": 0,
              "ticks": ""
             }
            },
            "type": "parcoords"
           }
          ],
          "pie": [
           {
            "automargin": true,
            "type": "pie"
           }
          ],
          "scatter": [
           {
            "fillpattern": {
             "fillmode": "overlay",
             "size": 10,
             "solidity": 0.2
            },
            "type": "scatter"
           }
          ],
          "scatter3d": [
           {
            "line": {
             "colorbar": {
              "outlinewidth": 0,
              "ticks": ""
             }
            },
            "marker": {
             "colorbar": {
              "outlinewidth": 0,
              "ticks": ""
             }
            },
            "type": "scatter3d"
           }
          ],
          "scattercarpet": [
           {
            "marker": {
             "colorbar": {
              "outlinewidth": 0,
              "ticks": ""
             }
            },
            "type": "scattercarpet"
           }
          ],
          "scattergeo": [
           {
            "marker": {
             "colorbar": {
              "outlinewidth": 0,
              "ticks": ""
             }
            },
            "type": "scattergeo"
           }
          ],
          "scattergl": [
           {
            "marker": {
             "colorbar": {
              "outlinewidth": 0,
              "ticks": ""
             }
            },
            "type": "scattergl"
           }
          ],
          "scattermap": [
           {
            "marker": {
             "colorbar": {
              "outlinewidth": 0,
              "ticks": ""
             }
            },
            "type": "scattermap"
           }
          ],
          "scattermapbox": [
           {
            "marker": {
             "colorbar": {
              "outlinewidth": 0,
              "ticks": ""
             }
            },
            "type": "scattermapbox"
           }
          ],
          "scatterpolar": [
           {
            "marker": {
             "colorbar": {
              "outlinewidth": 0,
              "ticks": ""
             }
            },
            "type": "scatterpolar"
           }
          ],
          "scatterpolargl": [
           {
            "marker": {
             "colorbar": {
              "outlinewidth": 0,
              "ticks": ""
             }
            },
            "type": "scatterpolargl"
           }
          ],
          "scatterternary": [
           {
            "marker": {
             "colorbar": {
              "outlinewidth": 0,
              "ticks": ""
             }
            },
            "type": "scatterternary"
           }
          ],
          "surface": [
           {
            "colorbar": {
             "outlinewidth": 0,
             "ticks": ""
            },
            "colorscale": [
             [
              0,
              "#0d0887"
             ],
             [
              0.1111111111111111,
              "#46039f"
             ],
             [
              0.2222222222222222,
              "#7201a8"
             ],
             [
              0.3333333333333333,
              "#9c179e"
             ],
             [
              0.4444444444444444,
              "#bd3786"
             ],
             [
              0.5555555555555556,
              "#d8576b"
             ],
             [
              0.6666666666666666,
              "#ed7953"
             ],
             [
              0.7777777777777778,
              "#fb9f3a"
             ],
             [
              0.8888888888888888,
              "#fdca26"
             ],
             [
              1,
              "#f0f921"
             ]
            ],
            "type": "surface"
           }
          ],
          "table": [
           {
            "cells": {
             "fill": {
              "color": "#EBF0F8"
             },
             "line": {
              "color": "white"
             }
            },
            "header": {
             "fill": {
              "color": "#C8D4E3"
             },
             "line": {
              "color": "white"
             }
            },
            "type": "table"
           }
          ]
         },
         "layout": {
          "annotationdefaults": {
           "arrowcolor": "#2a3f5f",
           "arrowhead": 0,
           "arrowwidth": 1
          },
          "autotypenumbers": "strict",
          "coloraxis": {
           "colorbar": {
            "outlinewidth": 0,
            "ticks": ""
           }
          },
          "colorscale": {
           "diverging": [
            [
             0,
             "#8e0152"
            ],
            [
             0.1,
             "#c51b7d"
            ],
            [
             0.2,
             "#de77ae"
            ],
            [
             0.3,
             "#f1b6da"
            ],
            [
             0.4,
             "#fde0ef"
            ],
            [
             0.5,
             "#f7f7f7"
            ],
            [
             0.6,
             "#e6f5d0"
            ],
            [
             0.7,
             "#b8e186"
            ],
            [
             0.8,
             "#7fbc41"
            ],
            [
             0.9,
             "#4d9221"
            ],
            [
             1,
             "#276419"
            ]
           ],
           "sequential": [
            [
             0,
             "#0d0887"
            ],
            [
             0.1111111111111111,
             "#46039f"
            ],
            [
             0.2222222222222222,
             "#7201a8"
            ],
            [
             0.3333333333333333,
             "#9c179e"
            ],
            [
             0.4444444444444444,
             "#bd3786"
            ],
            [
             0.5555555555555556,
             "#d8576b"
            ],
            [
             0.6666666666666666,
             "#ed7953"
            ],
            [
             0.7777777777777778,
             "#fb9f3a"
            ],
            [
             0.8888888888888888,
             "#fdca26"
            ],
            [
             1,
             "#f0f921"
            ]
           ],
           "sequentialminus": [
            [
             0,
             "#0d0887"
            ],
            [
             0.1111111111111111,
             "#46039f"
            ],
            [
             0.2222222222222222,
             "#7201a8"
            ],
            [
             0.3333333333333333,
             "#9c179e"
            ],
            [
             0.4444444444444444,
             "#bd3786"
            ],
            [
             0.5555555555555556,
             "#d8576b"
            ],
            [
             0.6666666666666666,
             "#ed7953"
            ],
            [
             0.7777777777777778,
             "#fb9f3a"
            ],
            [
             0.8888888888888888,
             "#fdca26"
            ],
            [
             1,
             "#f0f921"
            ]
           ]
          },
          "colorway": [
           "#636efa",
           "#EF553B",
           "#00cc96",
           "#ab63fa",
           "#FFA15A",
           "#19d3f3",
           "#FF6692",
           "#B6E880",
           "#FF97FF",
           "#FECB52"
          ],
          "font": {
           "color": "#2a3f5f"
          },
          "geo": {
           "bgcolor": "white",
           "lakecolor": "white",
           "landcolor": "#E5ECF6",
           "showlakes": true,
           "showland": true,
           "subunitcolor": "white"
          },
          "hoverlabel": {
           "align": "left"
          },
          "hovermode": "closest",
          "mapbox": {
           "style": "light"
          },
          "paper_bgcolor": "white",
          "plot_bgcolor": "#E5ECF6",
          "polar": {
           "angularaxis": {
            "gridcolor": "white",
            "linecolor": "white",
            "ticks": ""
           },
           "bgcolor": "#E5ECF6",
           "radialaxis": {
            "gridcolor": "white",
            "linecolor": "white",
            "ticks": ""
           }
          },
          "scene": {
           "xaxis": {
            "backgroundcolor": "#E5ECF6",
            "gridcolor": "white",
            "gridwidth": 2,
            "linecolor": "white",
            "showbackground": true,
            "ticks": "",
            "zerolinecolor": "white"
           },
           "yaxis": {
            "backgroundcolor": "#E5ECF6",
            "gridcolor": "white",
            "gridwidth": 2,
            "linecolor": "white",
            "showbackground": true,
            "ticks": "",
            "zerolinecolor": "white"
           },
           "zaxis": {
            "backgroundcolor": "#E5ECF6",
            "gridcolor": "white",
            "gridwidth": 2,
            "linecolor": "white",
            "showbackground": true,
            "ticks": "",
            "zerolinecolor": "white"
           }
          },
          "shapedefaults": {
           "line": {
            "color": "#2a3f5f"
           }
          },
          "ternary": {
           "aaxis": {
            "gridcolor": "white",
            "linecolor": "white",
            "ticks": ""
           },
           "baxis": {
            "gridcolor": "white",
            "linecolor": "white",
            "ticks": ""
           },
           "bgcolor": "#E5ECF6",
           "caxis": {
            "gridcolor": "white",
            "linecolor": "white",
            "ticks": ""
           }
          },
          "title": {
           "x": 0.05
          },
          "xaxis": {
           "automargin": true,
           "gridcolor": "white",
           "linecolor": "white",
           "ticks": "",
           "title": {
            "standoff": 15
           },
           "zerolinecolor": "white",
           "zerolinewidth": 2
          },
          "yaxis": {
           "automargin": true,
           "gridcolor": "white",
           "linecolor": "white",
           "ticks": "",
           "title": {
            "standoff": 15
           },
           "zerolinecolor": "white",
           "zerolinewidth": 2
          }
         }
        },
        "title": {
         "text": "Street"
        },
        "xaxis": {
         "anchor": "y",
         "domain": [
          0,
          1
         ],
         "title": {
          "text": "Street"
         }
        },
        "yaxis": {
         "anchor": "x",
         "domain": [
          0,
          1
         ],
         "title": {
          "text": "SalePrice"
         }
        }
       }
      }
     },
     "metadata": {},
     "output_type": "display_data"
    }
   ],
   "source": [
    "plot_hist_for_all_features(df_train,train_columns[:5],target_column)"
   ]
  },
  {
   "cell_type": "code",
   "execution_count": 152,
   "metadata": {},
   "outputs": [],
   "source": [
    "import optuna\n",
    "from xgboost import XGBRegressor\n",
    "from lightgbm import LGBMRegressor\n",
    "from sklearn.ensemble import RandomForestRegressor\n",
    "from sklearn.svm import SVR\n",
    "from sklearn.linear_model import LinearRegression\n",
    "from sklearn.tree import DecisionTreeRegressor\n",
    "from sklearn.neighbors import KNeighborsRegressor\n",
    "from sklearn.model_selection import cross_val_score\n",
    "\n",
    "\n",
    "def xgb_objective(trial):\n",
    "    params = {\n",
    "        'n_estimators': trial.suggest_int('n_estimators', 100, 500),\n",
    "        'max_depth': trial.suggest_int('max_depth', 3, 10),\n",
    "        'learning_rate': trial.suggest_float('learning_rate', 0.01, 0.3),\n",
    "        'min_child_weight': trial.suggest_int('min_child_weight', 1, 10),\n",
    "        'subsample': trial.suggest_float('subsample', 0.5, 1.0),\n",
    "        'colsample_bytree': trial.suggest_float('colsample_bytree', 0.5, 1.0),\n",
    "        'gamma': trial.suggest_float('gamma', 0, 10),\n",
    "        'reg_alpha': trial.suggest_float('reg_alpha', 0, 10),\n",
    "        'reg_lambda': trial.suggest_float('reg_lambda', 0, 10),\n",
    "        'objective': 'reg:squarederror',\n",
    "        'eval_metric': 'rmse',\n",
    "        'seed': 42\n",
    "    }\n",
    "\n",
    "    model = XGBRegressor(**params)\n",
    "    cv_scores = cross_val_score(model, X_train, y_train, cv=5, scoring='neg_mean_squared_error')\n",
    "    return -cv_scores.mean()\n",
    "\n",
    "\n",
    "def lgbm_objective(trial):\n",
    "    params = {\n",
    "        \"n_estimators\": trial.suggest_int(\"n_estimators\", 100, 500),\n",
    "        \"learning_rate\": trial.suggest_float(\"learning_rate\", 0.01, 0.3),\n",
    "        \"num_leaves\": trial.suggest_int(\"num_leaves\", 20, 3000, step=20),\n",
    "        \"max_depth\": trial.suggest_int(\"max_depth\", 3, 12),\n",
    "        \"verbosity\": -1,\n",
    "        \"silent\": True\n",
    "    }\n",
    "\n",
    "    model = LGBMRegressor(**params)\n",
    "    cv_scores = cross_val_score(model, X_train, y_train, cv=5, scoring='neg_mean_squared_error')\n",
    "    return -cv_scores.mean()\n",
    "\n",
    "\n",
    "\n"
   ]
  },
  {
   "cell_type": "code",
   "execution_count": 153,
   "metadata": {},
   "outputs": [
    {
     "data": {
      "text/html": [
       "<div>\n",
       "<style scoped>\n",
       "    .dataframe tbody tr th:only-of-type {\n",
       "        vertical-align: middle;\n",
       "    }\n",
       "\n",
       "    .dataframe tbody tr th {\n",
       "        vertical-align: top;\n",
       "    }\n",
       "\n",
       "    .dataframe thead th {\n",
       "        text-align: right;\n",
       "    }\n",
       "</style>\n",
       "<table border=\"1\" class=\"dataframe\">\n",
       "  <thead>\n",
       "    <tr style=\"text-align: right;\">\n",
       "      <th></th>\n",
       "      <th>MSSubClass</th>\n",
       "      <th>MSZoning</th>\n",
       "      <th>LotFrontage</th>\n",
       "      <th>LotArea</th>\n",
       "      <th>Street</th>\n",
       "      <th>Alley</th>\n",
       "      <th>LotShape</th>\n",
       "      <th>LandContour</th>\n",
       "      <th>Utilities</th>\n",
       "      <th>LotConfig</th>\n",
       "      <th>LandSlope</th>\n",
       "      <th>Neighborhood</th>\n",
       "      <th>Condition1</th>\n",
       "      <th>Condition2</th>\n",
       "      <th>BldgType</th>\n",
       "      <th>HouseStyle</th>\n",
       "      <th>OverallQual</th>\n",
       "      <th>OverallCond</th>\n",
       "      <th>YearBuilt</th>\n",
       "      <th>YearRemodAdd</th>\n",
       "      <th>RoofStyle</th>\n",
       "      <th>RoofMatl</th>\n",
       "      <th>Exterior1st</th>\n",
       "      <th>Exterior2nd</th>\n",
       "      <th>MasVnrType</th>\n",
       "      <th>MasVnrArea</th>\n",
       "      <th>ExterQual</th>\n",
       "      <th>ExterCond</th>\n",
       "      <th>Foundation</th>\n",
       "      <th>BsmtQual</th>\n",
       "      <th>BsmtCond</th>\n",
       "      <th>BsmtExposure</th>\n",
       "      <th>BsmtFinType1</th>\n",
       "      <th>BsmtFinSF1</th>\n",
       "      <th>BsmtFinType2</th>\n",
       "      <th>BsmtFinSF2</th>\n",
       "      <th>BsmtUnfSF</th>\n",
       "      <th>TotalBsmtSF</th>\n",
       "      <th>Heating</th>\n",
       "      <th>HeatingQC</th>\n",
       "      <th>CentralAir</th>\n",
       "      <th>Electrical</th>\n",
       "      <th>1stFlrSF</th>\n",
       "      <th>2ndFlrSF</th>\n",
       "      <th>LowQualFinSF</th>\n",
       "      <th>GrLivArea</th>\n",
       "      <th>BsmtFullBath</th>\n",
       "      <th>BsmtHalfBath</th>\n",
       "      <th>FullBath</th>\n",
       "      <th>HalfBath</th>\n",
       "      <th>BedroomAbvGr</th>\n",
       "      <th>KitchenAbvGr</th>\n",
       "      <th>KitchenQual</th>\n",
       "      <th>TotRmsAbvGrd</th>\n",
       "      <th>Functional</th>\n",
       "      <th>Fireplaces</th>\n",
       "      <th>FireplaceQu</th>\n",
       "      <th>GarageType</th>\n",
       "      <th>GarageYrBlt</th>\n",
       "      <th>GarageFinish</th>\n",
       "      <th>GarageCars</th>\n",
       "      <th>GarageArea</th>\n",
       "      <th>GarageQual</th>\n",
       "      <th>GarageCond</th>\n",
       "      <th>PavedDrive</th>\n",
       "      <th>WoodDeckSF</th>\n",
       "      <th>OpenPorchSF</th>\n",
       "      <th>EnclosedPorch</th>\n",
       "      <th>3SsnPorch</th>\n",
       "      <th>ScreenPorch</th>\n",
       "      <th>PoolArea</th>\n",
       "      <th>PoolQC</th>\n",
       "      <th>Fence</th>\n",
       "      <th>MiscFeature</th>\n",
       "      <th>MiscVal</th>\n",
       "      <th>MoSold</th>\n",
       "      <th>YrSold</th>\n",
       "      <th>SaleType</th>\n",
       "      <th>SaleCondition</th>\n",
       "    </tr>\n",
       "  </thead>\n",
       "  <tbody>\n",
       "    <tr>\n",
       "      <th>0</th>\n",
       "      <td>0.067331</td>\n",
       "      <td>-0.046038</td>\n",
       "      <td>-0.184481</td>\n",
       "      <td>-0.217879</td>\n",
       "      <td>0.064249</td>\n",
       "      <td>0.257283</td>\n",
       "      <td>0.746669</td>\n",
       "      <td>0.316671</td>\n",
       "      <td>-0.030863</td>\n",
       "      <td>0.588555</td>\n",
       "      <td>-0.21626</td>\n",
       "      <td>-1.248476</td>\n",
       "      <td>-0.046258</td>\n",
       "      <td>-0.009816</td>\n",
       "      <td>-0.419174</td>\n",
       "      <td>1.031721</td>\n",
       "      <td>0.646183</td>\n",
       "      <td>-0.507284</td>\n",
       "      <td>1.046258</td>\n",
       "      <td>0.896833</td>\n",
       "      <td>-0.482926</td>\n",
       "      <td>-0.116923</td>\n",
       "      <td>0.742177</td>\n",
       "      <td>0.749790</td>\n",
       "      <td>-1.389009</td>\n",
       "      <td>0.523129</td>\n",
       "      <td>-0.755793</td>\n",
       "      <td>0.376461</td>\n",
       "      <td>0.834618</td>\n",
       "      <td>-0.312279</td>\n",
       "      <td>0.234254</td>\n",
       "      <td>0.584281</td>\n",
       "      <td>-0.454809</td>\n",
       "      <td>0.580807</td>\n",
       "      <td>0.281997</td>\n",
       "      <td>-0.293080</td>\n",
       "      <td>-0.934702</td>\n",
       "      <td>-0.444252</td>\n",
       "      <td>-0.103206</td>\n",
       "      <td>-0.880324</td>\n",
       "      <td>0.26829</td>\n",
       "      <td>0.300211</td>\n",
       "      <td>-0.773861</td>\n",
       "      <td>1.207379</td>\n",
       "      <td>-0.101197</td>\n",
       "      <td>0.413547</td>\n",
       "      <td>1.086650</td>\n",
       "      <td>-0.249810</td>\n",
       "      <td>0.781366</td>\n",
       "      <td>1.232599</td>\n",
       "      <td>0.169927</td>\n",
       "      <td>-0.207698</td>\n",
       "      <td>-0.416171</td>\n",
       "      <td>0.986849</td>\n",
       "      <td>0.255925</td>\n",
       "      <td>-0.924311</td>\n",
       "      <td>0.839596</td>\n",
       "      <td>-0.767783</td>\n",
       "      <td>0.973286</td>\n",
       "      <td>-0.316551</td>\n",
       "      <td>0.306475</td>\n",
       "      <td>0.348840</td>\n",
       "      <td>0.137641</td>\n",
       "      <td>0.071758</td>\n",
       "      <td>0.31503</td>\n",
       "      <td>-0.740760</td>\n",
       "      <td>0.200006</td>\n",
       "      <td>-0.359601</td>\n",
       "      <td>-0.103331</td>\n",
       "      <td>-0.285935</td>\n",
       "      <td>-0.06315</td>\n",
       "      <td>0.053507</td>\n",
       "      <td>0.464024</td>\n",
       "      <td>0.188401</td>\n",
       "      <td>-0.089592</td>\n",
       "      <td>-1.552184</td>\n",
       "      <td>0.157646</td>\n",
       "      <td>0.319053</td>\n",
       "      <td>0.204967</td>\n",
       "    </tr>\n",
       "    <tr>\n",
       "      <th>1</th>\n",
       "      <td>-0.873616</td>\n",
       "      <td>-0.046038</td>\n",
       "      <td>0.458190</td>\n",
       "      <td>-0.072044</td>\n",
       "      <td>0.064249</td>\n",
       "      <td>0.257283</td>\n",
       "      <td>0.746669</td>\n",
       "      <td>0.316671</td>\n",
       "      <td>-0.030863</td>\n",
       "      <td>-0.658174</td>\n",
       "      <td>-0.21626</td>\n",
       "      <td>1.941064</td>\n",
       "      <td>-1.190557</td>\n",
       "      <td>-0.009816</td>\n",
       "      <td>-0.419174</td>\n",
       "      <td>-0.536817</td>\n",
       "      <td>-0.063185</td>\n",
       "      <td>2.188279</td>\n",
       "      <td>0.154764</td>\n",
       "      <td>-0.395604</td>\n",
       "      <td>-0.482926</td>\n",
       "      <td>-0.116923</td>\n",
       "      <td>-0.507918</td>\n",
       "      <td>-0.658056</td>\n",
       "      <td>0.769946</td>\n",
       "      <td>-0.569991</td>\n",
       "      <td>0.668455</td>\n",
       "      <td>0.376461</td>\n",
       "      <td>-0.541017</td>\n",
       "      <td>-0.312279</td>\n",
       "      <td>0.234254</td>\n",
       "      <td>-1.153382</td>\n",
       "      <td>-1.528910</td>\n",
       "      <td>1.177910</td>\n",
       "      <td>0.281997</td>\n",
       "      <td>-0.293080</td>\n",
       "      <td>-0.629788</td>\n",
       "      <td>0.477029</td>\n",
       "      <td>-0.103206</td>\n",
       "      <td>-0.880324</td>\n",
       "      <td>0.26829</td>\n",
       "      <td>0.300211</td>\n",
       "      <td>0.261075</td>\n",
       "      <td>-0.785025</td>\n",
       "      <td>-0.101197</td>\n",
       "      <td>-0.471891</td>\n",
       "      <td>-0.819398</td>\n",
       "      <td>3.821109</td>\n",
       "      <td>0.781366</td>\n",
       "      <td>-0.756321</td>\n",
       "      <td>0.169927</td>\n",
       "      <td>-0.207698</td>\n",
       "      <td>0.781859</td>\n",
       "      <td>-0.287758</td>\n",
       "      <td>0.255925</td>\n",
       "      <td>0.623632</td>\n",
       "      <td>0.124457</td>\n",
       "      <td>-0.767783</td>\n",
       "      <td>-0.082653</td>\n",
       "      <td>-0.316551</td>\n",
       "      <td>0.306475</td>\n",
       "      <td>-0.059782</td>\n",
       "      <td>0.137641</td>\n",
       "      <td>0.071758</td>\n",
       "      <td>0.31503</td>\n",
       "      <td>1.614879</td>\n",
       "      <td>-0.702843</td>\n",
       "      <td>-0.359601</td>\n",
       "      <td>-0.103331</td>\n",
       "      <td>-0.285935</td>\n",
       "      <td>-0.06315</td>\n",
       "      <td>0.053507</td>\n",
       "      <td>0.464024</td>\n",
       "      <td>0.188401</td>\n",
       "      <td>-0.089592</td>\n",
       "      <td>-0.446925</td>\n",
       "      <td>-0.602962</td>\n",
       "      <td>0.319053</td>\n",
       "      <td>0.204967</td>\n",
       "    </tr>\n",
       "    <tr>\n",
       "      <th>2</th>\n",
       "      <td>0.067331</td>\n",
       "      <td>-0.046038</td>\n",
       "      <td>-0.055946</td>\n",
       "      <td>0.137197</td>\n",
       "      <td>0.064249</td>\n",
       "      <td>0.257283</td>\n",
       "      <td>-1.381776</td>\n",
       "      <td>0.316671</td>\n",
       "      <td>-0.030863</td>\n",
       "      <td>0.588555</td>\n",
       "      <td>-0.21626</td>\n",
       "      <td>-1.248476</td>\n",
       "      <td>-0.046258</td>\n",
       "      <td>-0.009816</td>\n",
       "      <td>-0.419174</td>\n",
       "      <td>1.031721</td>\n",
       "      <td>0.646183</td>\n",
       "      <td>-0.507284</td>\n",
       "      <td>0.980221</td>\n",
       "      <td>0.848965</td>\n",
       "      <td>-0.482926</td>\n",
       "      <td>-0.116923</td>\n",
       "      <td>0.742177</td>\n",
       "      <td>0.749790</td>\n",
       "      <td>-1.389009</td>\n",
       "      <td>0.333506</td>\n",
       "      <td>-0.755793</td>\n",
       "      <td>0.376461</td>\n",
       "      <td>0.834618</td>\n",
       "      <td>-0.312279</td>\n",
       "      <td>0.234254</td>\n",
       "      <td>-0.284550</td>\n",
       "      <td>-0.454809</td>\n",
       "      <td>0.097856</td>\n",
       "      <td>0.281997</td>\n",
       "      <td>-0.293080</td>\n",
       "      <td>-0.288467</td>\n",
       "      <td>-0.299025</td>\n",
       "      <td>-0.103206</td>\n",
       "      <td>-0.880324</td>\n",
       "      <td>0.26829</td>\n",
       "      <td>0.300211</td>\n",
       "      <td>-0.610718</td>\n",
       "      <td>1.235375</td>\n",
       "      <td>-0.101197</td>\n",
       "      <td>0.563755</td>\n",
       "      <td>1.086650</td>\n",
       "      <td>-0.249810</td>\n",
       "      <td>0.781366</td>\n",
       "      <td>1.232599</td>\n",
       "      <td>0.169927</td>\n",
       "      <td>-0.207698</td>\n",
       "      <td>-0.416171</td>\n",
       "      <td>-0.287758</td>\n",
       "      <td>0.255925</td>\n",
       "      <td>0.623632</td>\n",
       "      <td>0.124457</td>\n",
       "      <td>-0.767783</td>\n",
       "      <td>0.895069</td>\n",
       "      <td>-0.316551</td>\n",
       "      <td>0.306475</td>\n",
       "      <td>0.627446</td>\n",
       "      <td>0.137641</td>\n",
       "      <td>0.071758</td>\n",
       "      <td>0.31503</td>\n",
       "      <td>-0.740760</td>\n",
       "      <td>-0.081209</td>\n",
       "      <td>-0.359601</td>\n",
       "      <td>-0.103331</td>\n",
       "      <td>-0.285935</td>\n",
       "      <td>-0.06315</td>\n",
       "      <td>0.053507</td>\n",
       "      <td>0.464024</td>\n",
       "      <td>0.188401</td>\n",
       "      <td>-0.089592</td>\n",
       "      <td>1.026753</td>\n",
       "      <td>0.157646</td>\n",
       "      <td>0.319053</td>\n",
       "      <td>0.204967</td>\n",
       "    </tr>\n",
       "    <tr>\n",
       "      <th>3</th>\n",
       "      <td>0.302568</td>\n",
       "      <td>-0.046038</td>\n",
       "      <td>-0.398704</td>\n",
       "      <td>-0.078385</td>\n",
       "      <td>0.064249</td>\n",
       "      <td>0.257283</td>\n",
       "      <td>-1.381776</td>\n",
       "      <td>0.316671</td>\n",
       "      <td>-0.030863</td>\n",
       "      <td>-1.904903</td>\n",
       "      <td>-0.21626</td>\n",
       "      <td>-1.080605</td>\n",
       "      <td>-0.046258</td>\n",
       "      <td>-0.009816</td>\n",
       "      <td>-0.419174</td>\n",
       "      <td>1.031721</td>\n",
       "      <td>0.646183</td>\n",
       "      <td>-0.507284</td>\n",
       "      <td>-1.859351</td>\n",
       "      <td>-0.682812</td>\n",
       "      <td>-0.482926</td>\n",
       "      <td>-0.116923</td>\n",
       "      <td>1.054701</td>\n",
       "      <td>1.312929</td>\n",
       "      <td>0.769946</td>\n",
       "      <td>-0.569991</td>\n",
       "      <td>0.668455</td>\n",
       "      <td>0.376461</td>\n",
       "      <td>-1.916652</td>\n",
       "      <td>0.771599</td>\n",
       "      <td>-2.620806</td>\n",
       "      <td>0.584281</td>\n",
       "      <td>-1.528910</td>\n",
       "      <td>-0.494856</td>\n",
       "      <td>0.281997</td>\n",
       "      <td>-0.293080</td>\n",
       "      <td>-0.047266</td>\n",
       "      <td>-0.671168</td>\n",
       "      <td>-0.103206</td>\n",
       "      <td>0.267617</td>\n",
       "      <td>0.26829</td>\n",
       "      <td>0.300211</td>\n",
       "      <td>-0.506205</td>\n",
       "      <td>0.978742</td>\n",
       "      <td>-0.101197</td>\n",
       "      <td>0.427382</td>\n",
       "      <td>1.086650</td>\n",
       "      <td>-0.249810</td>\n",
       "      <td>-1.027363</td>\n",
       "      <td>-0.756321</td>\n",
       "      <td>0.169927</td>\n",
       "      <td>-0.207698</td>\n",
       "      <td>-0.416171</td>\n",
       "      <td>0.349546</td>\n",
       "      <td>0.255925</td>\n",
       "      <td>0.623632</td>\n",
       "      <td>-1.305821</td>\n",
       "      <td>1.302093</td>\n",
       "      <td>0.777742</td>\n",
       "      <td>0.798060</td>\n",
       "      <td>1.619684</td>\n",
       "      <td>0.785323</td>\n",
       "      <td>0.137641</td>\n",
       "      <td>0.071758</td>\n",
       "      <td>0.31503</td>\n",
       "      <td>-0.740760</td>\n",
       "      <td>-0.184815</td>\n",
       "      <td>3.874967</td>\n",
       "      <td>-0.103331</td>\n",
       "      <td>-0.285935</td>\n",
       "      <td>-0.06315</td>\n",
       "      <td>0.053507</td>\n",
       "      <td>0.464024</td>\n",
       "      <td>0.188401</td>\n",
       "      <td>-0.089592</td>\n",
       "      <td>-1.552184</td>\n",
       "      <td>-1.363569</td>\n",
       "      <td>0.319053</td>\n",
       "      <td>-3.505415</td>\n",
       "    </tr>\n",
       "    <tr>\n",
       "      <th>4</th>\n",
       "      <td>0.067331</td>\n",
       "      <td>-0.046038</td>\n",
       "      <td>0.629569</td>\n",
       "      <td>0.518903</td>\n",
       "      <td>0.064249</td>\n",
       "      <td>0.257283</td>\n",
       "      <td>-1.381776</td>\n",
       "      <td>0.316671</td>\n",
       "      <td>-0.030863</td>\n",
       "      <td>-0.658174</td>\n",
       "      <td>-0.21626</td>\n",
       "      <td>0.430229</td>\n",
       "      <td>-0.046258</td>\n",
       "      <td>-0.009816</td>\n",
       "      <td>-0.419174</td>\n",
       "      <td>1.031721</td>\n",
       "      <td>1.355551</td>\n",
       "      <td>-0.507284</td>\n",
       "      <td>0.947203</td>\n",
       "      <td>0.753229</td>\n",
       "      <td>-0.482926</td>\n",
       "      <td>-0.116923</td>\n",
       "      <td>0.742177</td>\n",
       "      <td>0.749790</td>\n",
       "      <td>-1.389009</td>\n",
       "      <td>1.382009</td>\n",
       "      <td>-0.755793</td>\n",
       "      <td>0.376461</td>\n",
       "      <td>0.834618</td>\n",
       "      <td>-0.312279</td>\n",
       "      <td>0.234254</td>\n",
       "      <td>-2.022213</td>\n",
       "      <td>-0.454809</td>\n",
       "      <td>0.468851</td>\n",
       "      <td>0.281997</td>\n",
       "      <td>-0.293080</td>\n",
       "      <td>-0.161040</td>\n",
       "      <td>0.211537</td>\n",
       "      <td>-0.103206</td>\n",
       "      <td>-0.880324</td>\n",
       "      <td>0.26829</td>\n",
       "      <td>0.300211</td>\n",
       "      <td>-0.037170</td>\n",
       "      <td>1.671651</td>\n",
       "      <td>-0.101197</td>\n",
       "      <td>1.378042</td>\n",
       "      <td>1.086650</td>\n",
       "      <td>-0.249810</td>\n",
       "      <td>0.781366</td>\n",
       "      <td>1.232599</td>\n",
       "      <td>1.385655</td>\n",
       "      <td>-0.207698</td>\n",
       "      <td>-0.416171</td>\n",
       "      <td>1.624153</td>\n",
       "      <td>0.255925</td>\n",
       "      <td>0.623632</td>\n",
       "      <td>0.124457</td>\n",
       "      <td>-0.767783</td>\n",
       "      <td>0.855960</td>\n",
       "      <td>-0.316551</td>\n",
       "      <td>1.619684</td>\n",
       "      <td>1.686149</td>\n",
       "      <td>0.137641</td>\n",
       "      <td>0.071758</td>\n",
       "      <td>0.31503</td>\n",
       "      <td>0.776967</td>\n",
       "      <td>0.540424</td>\n",
       "      <td>-0.359601</td>\n",
       "      <td>-0.103331</td>\n",
       "      <td>-0.285935</td>\n",
       "      <td>-0.06315</td>\n",
       "      <td>0.053507</td>\n",
       "      <td>0.464024</td>\n",
       "      <td>0.188401</td>\n",
       "      <td>-0.089592</td>\n",
       "      <td>2.132012</td>\n",
       "      <td>0.157646</td>\n",
       "      <td>0.319053</td>\n",
       "      <td>0.204967</td>\n",
       "    </tr>\n",
       "    <tr>\n",
       "      <th>...</th>\n",
       "      <td>...</td>\n",
       "      <td>...</td>\n",
       "      <td>...</td>\n",
       "      <td>...</td>\n",
       "      <td>...</td>\n",
       "      <td>...</td>\n",
       "      <td>...</td>\n",
       "      <td>...</td>\n",
       "      <td>...</td>\n",
       "      <td>...</td>\n",
       "      <td>...</td>\n",
       "      <td>...</td>\n",
       "      <td>...</td>\n",
       "      <td>...</td>\n",
       "      <td>...</td>\n",
       "      <td>...</td>\n",
       "      <td>...</td>\n",
       "      <td>...</td>\n",
       "      <td>...</td>\n",
       "      <td>...</td>\n",
       "      <td>...</td>\n",
       "      <td>...</td>\n",
       "      <td>...</td>\n",
       "      <td>...</td>\n",
       "      <td>...</td>\n",
       "      <td>...</td>\n",
       "      <td>...</td>\n",
       "      <td>...</td>\n",
       "      <td>...</td>\n",
       "      <td>...</td>\n",
       "      <td>...</td>\n",
       "      <td>...</td>\n",
       "      <td>...</td>\n",
       "      <td>...</td>\n",
       "      <td>...</td>\n",
       "      <td>...</td>\n",
       "      <td>...</td>\n",
       "      <td>...</td>\n",
       "      <td>...</td>\n",
       "      <td>...</td>\n",
       "      <td>...</td>\n",
       "      <td>...</td>\n",
       "      <td>...</td>\n",
       "      <td>...</td>\n",
       "      <td>...</td>\n",
       "      <td>...</td>\n",
       "      <td>...</td>\n",
       "      <td>...</td>\n",
       "      <td>...</td>\n",
       "      <td>...</td>\n",
       "      <td>...</td>\n",
       "      <td>...</td>\n",
       "      <td>...</td>\n",
       "      <td>...</td>\n",
       "      <td>...</td>\n",
       "      <td>...</td>\n",
       "      <td>...</td>\n",
       "      <td>...</td>\n",
       "      <td>...</td>\n",
       "      <td>...</td>\n",
       "      <td>...</td>\n",
       "      <td>...</td>\n",
       "      <td>...</td>\n",
       "      <td>...</td>\n",
       "      <td>...</td>\n",
       "      <td>...</td>\n",
       "      <td>...</td>\n",
       "      <td>...</td>\n",
       "      <td>...</td>\n",
       "      <td>...</td>\n",
       "      <td>...</td>\n",
       "      <td>...</td>\n",
       "      <td>...</td>\n",
       "      <td>...</td>\n",
       "      <td>...</td>\n",
       "      <td>...</td>\n",
       "      <td>...</td>\n",
       "      <td>...</td>\n",
       "      <td>...</td>\n",
       "    </tr>\n",
       "    <tr>\n",
       "      <th>1455</th>\n",
       "      <td>0.067331</td>\n",
       "      <td>-0.046038</td>\n",
       "      <td>-0.313015</td>\n",
       "      <td>-0.285470</td>\n",
       "      <td>0.064249</td>\n",
       "      <td>0.257283</td>\n",
       "      <td>0.746669</td>\n",
       "      <td>0.316671</td>\n",
       "      <td>-0.030863</td>\n",
       "      <td>0.588555</td>\n",
       "      <td>-0.21626</td>\n",
       "      <td>-0.744864</td>\n",
       "      <td>-0.046258</td>\n",
       "      <td>-0.009816</td>\n",
       "      <td>-0.419174</td>\n",
       "      <td>1.031721</td>\n",
       "      <td>-0.063185</td>\n",
       "      <td>-0.507284</td>\n",
       "      <td>0.914184</td>\n",
       "      <td>0.753229</td>\n",
       "      <td>-0.482926</td>\n",
       "      <td>-0.116923</td>\n",
       "      <td>0.742177</td>\n",
       "      <td>0.749790</td>\n",
       "      <td>0.769946</td>\n",
       "      <td>-0.569991</td>\n",
       "      <td>0.668455</td>\n",
       "      <td>0.376461</td>\n",
       "      <td>0.834618</td>\n",
       "      <td>-0.312279</td>\n",
       "      <td>0.234254</td>\n",
       "      <td>0.584281</td>\n",
       "      <td>1.156342</td>\n",
       "      <td>-0.969026</td>\n",
       "      <td>0.281997</td>\n",
       "      <td>-0.293080</td>\n",
       "      <td>0.892505</td>\n",
       "      <td>-0.224143</td>\n",
       "      <td>-0.103206</td>\n",
       "      <td>-0.880324</td>\n",
       "      <td>0.26829</td>\n",
       "      <td>0.300211</td>\n",
       "      <td>-0.526598</td>\n",
       "      <td>0.834095</td>\n",
       "      <td>-0.101197</td>\n",
       "      <td>0.289033</td>\n",
       "      <td>-0.819398</td>\n",
       "      <td>-0.249810</td>\n",
       "      <td>0.781366</td>\n",
       "      <td>1.232599</td>\n",
       "      <td>0.169927</td>\n",
       "      <td>-0.207698</td>\n",
       "      <td>0.781859</td>\n",
       "      <td>0.349546</td>\n",
       "      <td>0.255925</td>\n",
       "      <td>0.623632</td>\n",
       "      <td>0.124457</td>\n",
       "      <td>-0.767783</td>\n",
       "      <td>0.816851</td>\n",
       "      <td>-0.316551</td>\n",
       "      <td>0.306475</td>\n",
       "      <td>-0.059782</td>\n",
       "      <td>0.137641</td>\n",
       "      <td>0.071758</td>\n",
       "      <td>0.31503</td>\n",
       "      <td>-0.740760</td>\n",
       "      <td>-0.110811</td>\n",
       "      <td>-0.359601</td>\n",
       "      <td>-0.103331</td>\n",
       "      <td>-0.285935</td>\n",
       "      <td>-0.06315</td>\n",
       "      <td>0.053507</td>\n",
       "      <td>0.464024</td>\n",
       "      <td>0.188401</td>\n",
       "      <td>-0.089592</td>\n",
       "      <td>0.658334</td>\n",
       "      <td>-0.602962</td>\n",
       "      <td>0.319053</td>\n",
       "      <td>0.204967</td>\n",
       "    </tr>\n",
       "    <tr>\n",
       "      <th>1456</th>\n",
       "      <td>-0.873616</td>\n",
       "      <td>-0.046038</td>\n",
       "      <td>0.672414</td>\n",
       "      <td>0.381311</td>\n",
       "      <td>0.064249</td>\n",
       "      <td>0.257283</td>\n",
       "      <td>0.746669</td>\n",
       "      <td>0.316671</td>\n",
       "      <td>-0.030863</td>\n",
       "      <td>0.588555</td>\n",
       "      <td>-0.21626</td>\n",
       "      <td>0.262359</td>\n",
       "      <td>-0.046258</td>\n",
       "      <td>-0.009816</td>\n",
       "      <td>-0.419174</td>\n",
       "      <td>-0.536817</td>\n",
       "      <td>-0.063185</td>\n",
       "      <td>0.391237</td>\n",
       "      <td>0.220801</td>\n",
       "      <td>0.178812</td>\n",
       "      <td>-0.482926</td>\n",
       "      <td>-0.116923</td>\n",
       "      <td>-0.195394</td>\n",
       "      <td>-0.094917</td>\n",
       "      <td>-0.309531</td>\n",
       "      <td>0.093689</td>\n",
       "      <td>0.668455</td>\n",
       "      <td>0.376461</td>\n",
       "      <td>-0.541017</td>\n",
       "      <td>-0.312279</td>\n",
       "      <td>0.234254</td>\n",
       "      <td>0.584281</td>\n",
       "      <td>-1.528910</td>\n",
       "      <td>0.765207</td>\n",
       "      <td>-0.706177</td>\n",
       "      <td>0.670410</td>\n",
       "      <td>0.064232</td>\n",
       "      <td>1.112396</td>\n",
       "      <td>-0.103206</td>\n",
       "      <td>1.415558</td>\n",
       "      <td>0.26829</td>\n",
       "      <td>0.300211</td>\n",
       "      <td>2.328397</td>\n",
       "      <td>-0.785025</td>\n",
       "      <td>-0.101197</td>\n",
       "      <td>1.130989</td>\n",
       "      <td>1.086650</td>\n",
       "      <td>-0.249810</td>\n",
       "      <td>0.781366</td>\n",
       "      <td>-0.756321</td>\n",
       "      <td>0.169927</td>\n",
       "      <td>-0.207698</td>\n",
       "      <td>0.781859</td>\n",
       "      <td>0.349546</td>\n",
       "      <td>-4.019009</td>\n",
       "      <td>2.171575</td>\n",
       "      <td>0.124457</td>\n",
       "      <td>-0.767783</td>\n",
       "      <td>-0.004435</td>\n",
       "      <td>0.798060</td>\n",
       "      <td>0.306475</td>\n",
       "      <td>0.125955</td>\n",
       "      <td>0.137641</td>\n",
       "      <td>0.071758</td>\n",
       "      <td>0.31503</td>\n",
       "      <td>2.018026</td>\n",
       "      <td>-0.702843</td>\n",
       "      <td>-0.359601</td>\n",
       "      <td>-0.103331</td>\n",
       "      <td>-0.285935</td>\n",
       "      <td>-0.06315</td>\n",
       "      <td>0.053507</td>\n",
       "      <td>-1.368839</td>\n",
       "      <td>0.188401</td>\n",
       "      <td>-0.089592</td>\n",
       "      <td>-1.552184</td>\n",
       "      <td>1.678860</td>\n",
       "      <td>0.319053</td>\n",
       "      <td>0.204967</td>\n",
       "    </tr>\n",
       "    <tr>\n",
       "      <th>1457</th>\n",
       "      <td>0.302568</td>\n",
       "      <td>-0.046038</td>\n",
       "      <td>-0.141636</td>\n",
       "      <td>-0.142806</td>\n",
       "      <td>0.064249</td>\n",
       "      <td>0.257283</td>\n",
       "      <td>0.746669</td>\n",
       "      <td>0.316671</td>\n",
       "      <td>-0.030863</td>\n",
       "      <td>0.588555</td>\n",
       "      <td>-0.21626</td>\n",
       "      <td>-1.080605</td>\n",
       "      <td>-0.046258</td>\n",
       "      <td>-0.009816</td>\n",
       "      <td>-0.419174</td>\n",
       "      <td>1.031721</td>\n",
       "      <td>0.646183</td>\n",
       "      <td>3.086800</td>\n",
       "      <td>-1.000876</td>\n",
       "      <td>1.040437</td>\n",
       "      <td>-0.482926</td>\n",
       "      <td>-0.116923</td>\n",
       "      <td>-1.445490</td>\n",
       "      <td>-1.502764</td>\n",
       "      <td>0.769946</td>\n",
       "      <td>-0.569991</td>\n",
       "      <td>-3.604290</td>\n",
       "      <td>-2.209160</td>\n",
       "      <td>3.585888</td>\n",
       "      <td>0.771599</td>\n",
       "      <td>-2.620806</td>\n",
       "      <td>0.584281</td>\n",
       "      <td>-0.454809</td>\n",
       "      <td>-0.365338</td>\n",
       "      <td>0.281997</td>\n",
       "      <td>-0.293080</td>\n",
       "      <td>0.719569</td>\n",
       "      <td>0.227421</td>\n",
       "      <td>-0.103206</td>\n",
       "      <td>-0.880324</td>\n",
       "      <td>0.26829</td>\n",
       "      <td>0.300211</td>\n",
       "      <td>0.072441</td>\n",
       "      <td>1.902620</td>\n",
       "      <td>-0.101197</td>\n",
       "      <td>1.658694</td>\n",
       "      <td>-0.819398</td>\n",
       "      <td>-0.249810</td>\n",
       "      <td>0.781366</td>\n",
       "      <td>-0.756321</td>\n",
       "      <td>1.385655</td>\n",
       "      <td>-0.207698</td>\n",
       "      <td>-0.416171</td>\n",
       "      <td>1.624153</td>\n",
       "      <td>0.255925</td>\n",
       "      <td>2.171575</td>\n",
       "      <td>-1.305821</td>\n",
       "      <td>-0.767783</td>\n",
       "      <td>-1.451463</td>\n",
       "      <td>-0.316551</td>\n",
       "      <td>-1.006733</td>\n",
       "      <td>-1.025616</td>\n",
       "      <td>0.137641</td>\n",
       "      <td>0.071758</td>\n",
       "      <td>0.31503</td>\n",
       "      <td>-0.740760</td>\n",
       "      <td>0.185205</td>\n",
       "      <td>-0.359601</td>\n",
       "      <td>-0.103331</td>\n",
       "      <td>-0.285935</td>\n",
       "      <td>-0.06315</td>\n",
       "      <td>0.053507</td>\n",
       "      <td>-3.201703</td>\n",
       "      <td>-4.743824</td>\n",
       "      <td>4.317209</td>\n",
       "      <td>-0.446925</td>\n",
       "      <td>1.678860</td>\n",
       "      <td>0.319053</td>\n",
       "      <td>0.204967</td>\n",
       "    </tr>\n",
       "    <tr>\n",
       "      <th>1458</th>\n",
       "      <td>-0.873616</td>\n",
       "      <td>-0.046038</td>\n",
       "      <td>-0.055946</td>\n",
       "      <td>-0.057207</td>\n",
       "      <td>0.064249</td>\n",
       "      <td>0.257283</td>\n",
       "      <td>0.746669</td>\n",
       "      <td>0.316671</td>\n",
       "      <td>-0.030863</td>\n",
       "      <td>0.588555</td>\n",
       "      <td>-0.21626</td>\n",
       "      <td>-0.073382</td>\n",
       "      <td>-0.046258</td>\n",
       "      <td>-0.009816</td>\n",
       "      <td>-0.419174</td>\n",
       "      <td>-0.536817</td>\n",
       "      <td>-0.772552</td>\n",
       "      <td>0.391237</td>\n",
       "      <td>-0.703711</td>\n",
       "      <td>0.561757</td>\n",
       "      <td>1.953824</td>\n",
       "      <td>-0.116923</td>\n",
       "      <td>-0.507918</td>\n",
       "      <td>-0.658056</td>\n",
       "      <td>0.769946</td>\n",
       "      <td>-0.569991</td>\n",
       "      <td>0.668455</td>\n",
       "      <td>0.376461</td>\n",
       "      <td>-0.541017</td>\n",
       "      <td>0.771599</td>\n",
       "      <td>0.234254</td>\n",
       "      <td>-0.284550</td>\n",
       "      <td>-0.454809</td>\n",
       "      <td>-0.861460</td>\n",
       "      <td>-0.706177</td>\n",
       "      <td>5.789321</td>\n",
       "      <td>-1.276024</td>\n",
       "      <td>0.059503</td>\n",
       "      <td>-0.103206</td>\n",
       "      <td>0.267617</td>\n",
       "      <td>0.26829</td>\n",
       "      <td>-3.518162</td>\n",
       "      <td>-0.207960</td>\n",
       "      <td>-0.785025</td>\n",
       "      <td>-0.101197</td>\n",
       "      <td>-0.835553</td>\n",
       "      <td>1.086650</td>\n",
       "      <td>-0.249810</td>\n",
       "      <td>-1.027363</td>\n",
       "      <td>-0.756321</td>\n",
       "      <td>-1.045801</td>\n",
       "      <td>-0.207698</td>\n",
       "      <td>-0.416171</td>\n",
       "      <td>-0.925062</td>\n",
       "      <td>0.255925</td>\n",
       "      <td>-0.924311</td>\n",
       "      <td>0.839596</td>\n",
       "      <td>-0.767783</td>\n",
       "      <td>-1.099483</td>\n",
       "      <td>0.798060</td>\n",
       "      <td>-1.006733</td>\n",
       "      <td>-1.081337</td>\n",
       "      <td>0.137641</td>\n",
       "      <td>0.071758</td>\n",
       "      <td>0.31503</td>\n",
       "      <td>2.152408</td>\n",
       "      <td>-0.702843</td>\n",
       "      <td>1.384045</td>\n",
       "      <td>-0.103331</td>\n",
       "      <td>-0.285935</td>\n",
       "      <td>-0.06315</td>\n",
       "      <td>0.053507</td>\n",
       "      <td>0.464024</td>\n",
       "      <td>0.188401</td>\n",
       "      <td>-0.089592</td>\n",
       "      <td>-0.815344</td>\n",
       "      <td>1.678860</td>\n",
       "      <td>0.319053</td>\n",
       "      <td>0.204967</td>\n",
       "    </tr>\n",
       "    <tr>\n",
       "      <th>1459</th>\n",
       "      <td>-0.873616</td>\n",
       "      <td>-0.046038</td>\n",
       "      <td>0.243967</td>\n",
       "      <td>-0.029308</td>\n",
       "      <td>0.064249</td>\n",
       "      <td>0.257283</td>\n",
       "      <td>0.746669</td>\n",
       "      <td>0.316671</td>\n",
       "      <td>-0.030863</td>\n",
       "      <td>0.588555</td>\n",
       "      <td>-0.21626</td>\n",
       "      <td>-0.912735</td>\n",
       "      <td>-0.046258</td>\n",
       "      <td>-0.009816</td>\n",
       "      <td>-0.419174</td>\n",
       "      <td>-0.536817</td>\n",
       "      <td>-0.772552</td>\n",
       "      <td>0.391237</td>\n",
       "      <td>-0.208437</td>\n",
       "      <td>-0.922153</td>\n",
       "      <td>-0.482926</td>\n",
       "      <td>-0.116923</td>\n",
       "      <td>-1.132966</td>\n",
       "      <td>-1.221195</td>\n",
       "      <td>0.769946</td>\n",
       "      <td>-0.569991</td>\n",
       "      <td>-0.755793</td>\n",
       "      <td>0.376461</td>\n",
       "      <td>-0.541017</td>\n",
       "      <td>0.771599</td>\n",
       "      <td>0.234254</td>\n",
       "      <td>0.584281</td>\n",
       "      <td>-0.991860</td>\n",
       "      <td>0.853016</td>\n",
       "      <td>-1.694351</td>\n",
       "      <td>1.421105</td>\n",
       "      <td>-0.966559</td>\n",
       "      <td>0.463414</td>\n",
       "      <td>-0.103206</td>\n",
       "      <td>0.267617</td>\n",
       "      <td>0.26829</td>\n",
       "      <td>0.300211</td>\n",
       "      <td>0.245780</td>\n",
       "      <td>-0.785025</td>\n",
       "      <td>-0.101197</td>\n",
       "      <td>-0.483749</td>\n",
       "      <td>1.086650</td>\n",
       "      <td>-0.249810</td>\n",
       "      <td>-1.027363</td>\n",
       "      <td>1.232599</td>\n",
       "      <td>0.169927</td>\n",
       "      <td>-0.207698</td>\n",
       "      <td>0.781859</td>\n",
       "      <td>-0.287758</td>\n",
       "      <td>0.255925</td>\n",
       "      <td>-0.924311</td>\n",
       "      <td>0.839596</td>\n",
       "      <td>-0.767783</td>\n",
       "      <td>-0.512850</td>\n",
       "      <td>-1.431163</td>\n",
       "      <td>-1.006733</td>\n",
       "      <td>-0.914174</td>\n",
       "      <td>0.137641</td>\n",
       "      <td>0.071758</td>\n",
       "      <td>0.31503</td>\n",
       "      <td>5.077195</td>\n",
       "      <td>0.303612</td>\n",
       "      <td>-0.359601</td>\n",
       "      <td>-0.103331</td>\n",
       "      <td>-0.285935</td>\n",
       "      <td>-0.06315</td>\n",
       "      <td>0.053507</td>\n",
       "      <td>0.464024</td>\n",
       "      <td>0.188401</td>\n",
       "      <td>-0.089592</td>\n",
       "      <td>-0.078505</td>\n",
       "      <td>0.157646</td>\n",
       "      <td>0.319053</td>\n",
       "      <td>0.204967</td>\n",
       "    </tr>\n",
       "  </tbody>\n",
       "</table>\n",
       "<p>1452 rows × 79 columns</p>\n",
       "</div>"
      ],
      "text/plain": [
       "      MSSubClass  MSZoning  LotFrontage  ...    YrSold  SaleType  SaleCondition\n",
       "0       0.067331 -0.046038    -0.184481  ...  0.157646  0.319053       0.204967\n",
       "1      -0.873616 -0.046038     0.458190  ... -0.602962  0.319053       0.204967\n",
       "2       0.067331 -0.046038    -0.055946  ...  0.157646  0.319053       0.204967\n",
       "3       0.302568 -0.046038    -0.398704  ... -1.363569  0.319053      -3.505415\n",
       "4       0.067331 -0.046038     0.629569  ...  0.157646  0.319053       0.204967\n",
       "...          ...       ...          ...  ...       ...       ...            ...\n",
       "1455    0.067331 -0.046038    -0.313015  ... -0.602962  0.319053       0.204967\n",
       "1456   -0.873616 -0.046038     0.672414  ...  1.678860  0.319053       0.204967\n",
       "1457    0.302568 -0.046038    -0.141636  ...  1.678860  0.319053       0.204967\n",
       "1458   -0.873616 -0.046038    -0.055946  ...  1.678860  0.319053       0.204967\n",
       "1459   -0.873616 -0.046038     0.243967  ...  0.157646  0.319053       0.204967\n",
       "\n",
       "[1452 rows x 79 columns]"
      ]
     },
     "execution_count": 153,
     "metadata": {},
     "output_type": "execute_result"
    }
   ],
   "source": [
    "X_train"
   ]
  },
  {
   "cell_type": "code",
   "execution_count": 154,
   "metadata": {},
   "outputs": [
    {
     "name": "stderr",
     "output_type": "stream",
     "text": [
      "[I 2025-04-01 22:47:25,490] A new study created in memory with name: no-name-aacaf009-0b3a-42e5-a286-d1acb5e228c2\n",
      "[I 2025-04-01 22:47:26,636] Trial 0 finished with value: 0.1809583362864599 and parameters: {'n_estimators': 470, 'max_depth': 5, 'learning_rate': 0.21180828470598295, 'min_child_weight': 2, 'subsample': 0.8230689398065243, 'colsample_bytree': 0.5322323225134027, 'gamma': 6.354882742613521, 'reg_alpha': 6.821523967614976, 'reg_lambda': 7.763977731933234}. Best is trial 0 with value: 0.1809583362864599.\n",
      "[I 2025-04-01 22:47:27,244] Trial 1 finished with value: 0.19067842436977647 and parameters: {'n_estimators': 182, 'max_depth': 4, 'learning_rate': 0.06581458090946252, 'min_child_weight': 3, 'subsample': 0.8010133160186571, 'colsample_bytree': 0.5123274875931199, 'gamma': 9.279744455727018, 'reg_alpha': 6.48294441399532, 'reg_lambda': 9.9029686161403}. Best is trial 0 with value: 0.1809583362864599.\n",
      "[I 2025-04-01 22:47:29,150] Trial 2 finished with value: 0.1855868247417896 and parameters: {'n_estimators': 481, 'max_depth': 8, 'learning_rate': 0.013722574178591802, 'min_child_weight': 4, 'subsample': 0.7347557430018524, 'colsample_bytree': 0.779836980684943, 'gamma': 7.667530414580365, 'reg_alpha': 5.904571323237976, 'reg_lambda': 6.155838098003831}. Best is trial 0 with value: 0.1809583362864599.\n",
      "[I 2025-04-01 22:47:30,144] Trial 3 finished with value: 0.18737081290460325 and parameters: {'n_estimators': 406, 'max_depth': 5, 'learning_rate': 0.15996956367837553, 'min_child_weight': 1, 'subsample': 0.7721571428097722, 'colsample_bytree': 0.9858728690891143, 'gamma': 8.127403982880882, 'reg_alpha': 8.19901812351117, 'reg_lambda': 7.866493913409958}. Best is trial 0 with value: 0.1809583362864599.\n",
      "[I 2025-04-01 22:47:31,151] Trial 4 finished with value: 0.1464134084921799 and parameters: {'n_estimators': 362, 'max_depth': 8, 'learning_rate': 0.10671431769591723, 'min_child_weight': 8, 'subsample': 0.8335219115714008, 'colsample_bytree': 0.8248402324084371, 'gamma': 2.5304279355622947, 'reg_alpha': 5.147518020671297, 'reg_lambda': 1.5266048884163752}. Best is trial 4 with value: 0.1464134084921799.\n",
      "[I 2025-04-01 22:47:31,836] Trial 5 finished with value: 0.17054309007007123 and parameters: {'n_estimators': 247, 'max_depth': 7, 'learning_rate': 0.1188523112459605, 'min_child_weight': 10, 'subsample': 0.8040902008561528, 'colsample_bytree': 0.9699773242132447, 'gamma': 6.897080956379568, 'reg_alpha': 5.710633699049161, 'reg_lambda': 0.5650674224230046}. Best is trial 4 with value: 0.1464134084921799.\n",
      "[I 2025-04-01 22:47:33,074] Trial 6 finished with value: 0.13661840032544112 and parameters: {'n_estimators': 370, 'max_depth': 6, 'learning_rate': 0.06484439131870638, 'min_child_weight': 8, 'subsample': 0.8395597323153248, 'colsample_bytree': 0.5481857781204946, 'gamma': 1.762080872709677, 'reg_alpha': 2.0982048569669853, 'reg_lambda': 8.550054085532432}. Best is trial 6 with value: 0.13661840032544112.\n",
      "[I 2025-04-01 22:47:33,740] Trial 7 finished with value: 0.17149763698387194 and parameters: {'n_estimators': 257, 'max_depth': 7, 'learning_rate': 0.26552638839066955, 'min_child_weight': 4, 'subsample': 0.7740837643813074, 'colsample_bytree': 0.7442138345985452, 'gamma': 5.988965153724916, 'reg_alpha': 0.2476867787452608, 'reg_lambda': 5.317015941358486}. Best is trial 6 with value: 0.13661840032544112.\n",
      "[I 2025-04-01 22:47:34,427] Trial 8 finished with value: 0.13738882807138583 and parameters: {'n_estimators': 173, 'max_depth': 5, 'learning_rate': 0.10903737672901112, 'min_child_weight': 3, 'subsample': 0.8347588657817789, 'colsample_bytree': 0.925378329584714, 'gamma': 1.040767792557321, 'reg_alpha': 2.696622221796332, 'reg_lambda': 4.046050640017552}. Best is trial 6 with value: 0.13661840032544112.\n",
      "[I 2025-04-01 22:47:35,555] Trial 9 finished with value: 0.2144321321673733 and parameters: {'n_estimators': 468, 'max_depth': 3, 'learning_rate': 0.24542822777091988, 'min_child_weight': 10, 'subsample': 0.5228768040607967, 'colsample_bytree': 0.6400671864025487, 'gamma': 9.88811181988608, 'reg_alpha': 8.697862200270603, 'reg_lambda': 8.477959845105298}. Best is trial 6 with value: 0.13661840032544112.\n",
      "[I 2025-04-01 22:47:37,513] Trial 10 finished with value: 0.15794537709600853 and parameters: {'n_estimators': 343, 'max_depth': 10, 'learning_rate': 0.013674965621836462, 'min_child_weight': 7, 'subsample': 0.9934972780855704, 'colsample_bytree': 0.6440777149623128, 'gamma': 3.9102558178743814, 'reg_alpha': 3.09736449044495, 'reg_lambda': 2.7361221383249585}. Best is trial 6 with value: 0.13661840032544112.\n",
      "[I 2025-04-01 22:47:38,415] Trial 11 finished with value: 0.13312189335818775 and parameters: {'n_estimators': 116, 'max_depth': 5, 'learning_rate': 0.07812550207685526, 'min_child_weight': 6, 'subsample': 0.9466609132809345, 'colsample_bytree': 0.8878683086039936, 'gamma': 0.12031948575752383, 'reg_alpha': 2.5368464344677637, 'reg_lambda': 3.647294515176674}. Best is trial 11 with value: 0.13312189335818775.\n",
      "[I 2025-04-01 22:47:39,644] Trial 12 finished with value: 0.13058727932788483 and parameters: {'n_estimators': 129, 'max_depth': 6, 'learning_rate': 0.06779877112909803, 'min_child_weight': 7, 'subsample': 0.9643088365476894, 'colsample_bytree': 0.8740099127766763, 'gamma': 0.05582683522785992, 'reg_alpha': 2.480863533257631, 'reg_lambda': 3.6620083189009227}. Best is trial 12 with value: 0.13058727932788483.\n",
      "[I 2025-04-01 22:47:40,248] Trial 13 finished with value: 0.13817375609068377 and parameters: {'n_estimators': 100, 'max_depth': 3, 'learning_rate': 0.06369901249821612, 'min_child_weight': 6, 'subsample': 0.9972969292992704, 'colsample_bytree': 0.8741726514513619, 'gamma': 0.3327092145516376, 'reg_alpha': 3.865626928745857, 'reg_lambda': 3.5092996696689505}. Best is trial 12 with value: 0.13058727932788483.\n",
      "[I 2025-04-01 22:47:40,652] Trial 14 finished with value: 0.14477986968103784 and parameters: {'n_estimators': 102, 'max_depth': 6, 'learning_rate': 0.16793412659031248, 'min_child_weight': 6, 'subsample': 0.9196767332132986, 'colsample_bytree': 0.8919362820837701, 'gamma': 3.2333427374273755, 'reg_alpha': 1.0161276121516942, 'reg_lambda': 2.189962565250878}. Best is trial 12 with value: 0.13058727932788483.\n",
      "[I 2025-04-01 22:47:42,498] Trial 15 finished with value: 0.12871591438771912 and parameters: {'n_estimators': 163, 'max_depth': 10, 'learning_rate': 0.051185211880939156, 'min_child_weight': 8, 'subsample': 0.6765954176057564, 'colsample_bytree': 0.829542956602061, 'gamma': 0.056030297185727745, 'reg_alpha': 3.809547779492661, 'reg_lambda': 4.693393573295356}. Best is trial 15 with value: 0.12871591438771912.\n",
      "[I 2025-04-01 22:47:43,276] Trial 16 finished with value: 0.16428646916011594 and parameters: {'n_estimators': 172, 'max_depth': 10, 'learning_rate': 0.041658751874644726, 'min_child_weight': 8, 'subsample': 0.6800567986229278, 'colsample_bytree': 0.7256145511637315, 'gamma': 4.48417665633545, 'reg_alpha': 4.184733556521788, 'reg_lambda': 6.190883827435778}. Best is trial 15 with value: 0.12871591438771912.\n",
      "[I 2025-04-01 22:47:44,003] Trial 17 finished with value: 0.1363297253636901 and parameters: {'n_estimators': 225, 'max_depth': 9, 'learning_rate': 0.13686406514224586, 'min_child_weight': 9, 'subsample': 0.622429003729891, 'colsample_bytree': 0.8301952982564663, 'gamma': 2.043787235647948, 'reg_alpha': 1.3129977166096674, 'reg_lambda': 5.052407605241123}. Best is trial 15 with value: 0.12871591438771912.\n",
      "[I 2025-04-01 22:47:44,481] Trial 18 finished with value: 0.15088140368618308 and parameters: {'n_estimators': 156, 'max_depth': 8, 'learning_rate': 0.29608896609001223, 'min_child_weight': 7, 'subsample': 0.6098311168188397, 'colsample_bytree': 0.680358791298552, 'gamma': 1.7052942502473714, 'reg_alpha': 4.1963014967214, 'reg_lambda': 0.09796347599290867}. Best is trial 15 with value: 0.12871591438771912.\n",
      "[I 2025-04-01 22:47:45,622] Trial 19 finished with value: 0.16291423097845126 and parameters: {'n_estimators': 297, 'max_depth': 9, 'learning_rate': 0.03789050231531432, 'min_child_weight': 5, 'subsample': 0.6943951818691111, 'colsample_bytree': 0.8102275492456723, 'gamma': 3.139344950420899, 'reg_alpha': 7.457584675617857, 'reg_lambda': 6.078158973299422}. Best is trial 15 with value: 0.12871591438771912.\n",
      "[I 2025-04-01 22:47:46,280] Trial 20 finished with value: 0.13937419000865886 and parameters: {'n_estimators': 202, 'max_depth': 9, 'learning_rate': 0.2060525477110015, 'min_child_weight': 9, 'subsample': 0.887466786393897, 'colsample_bytree': 0.928349296954467, 'gamma': 0.9582996861878481, 'reg_alpha': 3.7231022817783406, 'reg_lambda': 4.249166532635734}. Best is trial 15 with value: 0.12871591438771912.\n",
      "[I 2025-04-01 22:47:47,238] Trial 21 finished with value: 0.12454796866290097 and parameters: {'n_estimators': 132, 'max_depth': 4, 'learning_rate': 0.08897410473943455, 'min_child_weight': 7, 'subsample': 0.9237956924006595, 'colsample_bytree': 0.8663418204121064, 'gamma': 0.026643030283959063, 'reg_alpha': 2.0771053642200457, 'reg_lambda': 3.2020864210155993}. Best is trial 21 with value: 0.12454796866290097.\n",
      "[I 2025-04-01 22:47:47,995] Trial 22 finished with value: 0.14609130602508658 and parameters: {'n_estimators': 140, 'max_depth': 4, 'learning_rate': 0.090921985311492, 'min_child_weight': 7, 'subsample': 0.8888513022806623, 'colsample_bytree': 0.8556421508146773, 'gamma': 0.1720836455170836, 'reg_alpha': 9.755333052020084, 'reg_lambda': 2.6266467468264363}. Best is trial 21 with value: 0.12454796866290097.\n",
      "[I 2025-04-01 22:47:48,872] Trial 23 finished with value: 0.13674213827423026 and parameters: {'n_estimators': 136, 'max_depth': 4, 'learning_rate': 0.03880049284716043, 'min_child_weight': 9, 'subsample': 0.9525513309617053, 'colsample_bytree': 0.7826129934047026, 'gamma': 1.1057057282687441, 'reg_alpha': 1.6117821077080678, 'reg_lambda': 1.583440001513936}. Best is trial 21 with value: 0.12454796866290097.\n",
      "[I 2025-04-01 22:47:50,936] Trial 24 finished with value: 0.13143039157122774 and parameters: {'n_estimators': 212, 'max_depth': 6, 'learning_rate': 0.1329633372760792, 'min_child_weight': 7, 'subsample': 0.6004269307819712, 'colsample_bytree': 0.9371635531365479, 'gamma': 0.01694616229113344, 'reg_alpha': 0.5870887745351467, 'reg_lambda': 4.399443903941344}. Best is trial 21 with value: 0.12454796866290097.\n",
      "[I 2025-04-01 22:47:51,934] Trial 25 finished with value: 0.13571498902208304 and parameters: {'n_estimators': 282, 'max_depth': 7, 'learning_rate': 0.08937178241672637, 'min_child_weight': 5, 'subsample': 0.6857202746860274, 'colsample_bytree': 0.8513416738590921, 'gamma': 1.1234285254534127, 'reg_alpha': 3.023653604675197, 'reg_lambda': 3.174308554018553}. Best is trial 21 with value: 0.12454796866290097.\n",
      "[I 2025-04-01 22:47:52,615] Trial 26 finished with value: 0.1542641309680019 and parameters: {'n_estimators': 151, 'max_depth': 3, 'learning_rate': 0.04850469110179005, 'min_child_weight': 8, 'subsample': 0.8913224477106598, 'colsample_bytree': 0.7849749256517198, 'gamma': 2.7872226041723915, 'reg_alpha': 4.692025643300371, 'reg_lambda': 5.490008964300262}. Best is trial 21 with value: 0.12454796866290097.\n",
      "[I 2025-04-01 22:47:53,040] Trial 27 finished with value: 0.15917566751788523 and parameters: {'n_estimators': 130, 'max_depth': 4, 'learning_rate': 0.18564165387570472, 'min_child_weight': 7, 'subsample': 0.5537281018105364, 'colsample_bytree': 0.6994538180847336, 'gamma': 5.015752049747673, 'reg_alpha': 1.9391607316821369, 'reg_lambda': 4.635057831934772}. Best is trial 21 with value: 0.12454796866290097.\n",
      "[I 2025-04-01 22:47:53,863] Trial 28 finished with value: 0.13290374274804567 and parameters: {'n_estimators': 199, 'max_depth': 6, 'learning_rate': 0.09747770268184333, 'min_child_weight': 9, 'subsample': 0.7190529869827266, 'colsample_bytree': 0.9453166763135247, 'gamma': 0.7640995223590501, 'reg_alpha': 3.092966908511516, 'reg_lambda': 1.783041001714948}. Best is trial 21 with value: 0.12454796866290097.\n",
      "[I 2025-04-01 22:47:54,626] Trial 29 finished with value: 0.14135047411740656 and parameters: {'n_estimators': 240, 'max_depth': 5, 'learning_rate': 0.1356024099541282, 'min_child_weight': 5, 'subsample': 0.6508002737836861, 'colsample_bytree': 0.8975539320883856, 'gamma': 2.0845934203273537, 'reg_alpha': 2.285851195971862, 'reg_lambda': 7.0475609169253675}. Best is trial 21 with value: 0.12454796866290097.\n",
      "[I 2025-04-01 22:47:55,631] Trial 30 finished with value: 0.16020748156740186 and parameters: {'n_estimators': 178, 'max_depth': 7, 'learning_rate': 0.02782697431738499, 'min_child_weight': 6, 'subsample': 0.9647858392426221, 'colsample_bytree': 0.8013756526137242, 'gamma': 3.7635821045725844, 'reg_alpha': 4.999936497840867, 'reg_lambda': 3.0311894357898237}. Best is trial 21 with value: 0.12454796866290097.\n",
      "[I 2025-04-01 22:47:56,634] Trial 31 finished with value: 0.13478617610666133 and parameters: {'n_estimators': 208, 'max_depth': 6, 'learning_rate': 0.13435526524603236, 'min_child_weight': 7, 'subsample': 0.580069840459391, 'colsample_bytree': 0.9519566311555587, 'gamma': 0.4246561456339516, 'reg_alpha': 0.41572238734549405, 'reg_lambda': 4.597227669400347}. Best is trial 21 with value: 0.12454796866290097.\n",
      "[I 2025-04-01 22:47:58,098] Trial 32 finished with value: 0.11811112182679291 and parameters: {'n_estimators': 159, 'max_depth': 6, 'learning_rate': 0.07405923289435414, 'min_child_weight': 8, 'subsample': 0.6330660608466465, 'colsample_bytree': 0.9130130244378137, 'gamma': 0.0855901417123143, 'reg_alpha': 1.0571732605196185, 'reg_lambda': 3.93058137060822}. Best is trial 32 with value: 0.11811112182679291.\n",
      "[I 2025-04-01 22:47:58,822] Trial 33 finished with value: 0.13462518312568267 and parameters: {'n_estimators': 122, 'max_depth': 5, 'learning_rate': 0.06003786370922783, 'min_child_weight': 8, 'subsample': 0.6399906003316738, 'colsample_bytree': 0.859576212354922, 'gamma': 1.4330261458085394, 'reg_alpha': 1.1991541758363813, 'reg_lambda': 3.7267879897629874}. Best is trial 32 with value: 0.11811112182679291.\n",
      "[I 2025-04-01 22:47:59,556] Trial 34 finished with value: 0.13653239375261345 and parameters: {'n_estimators': 153, 'max_depth': 4, 'learning_rate': 0.07563860576395276, 'min_child_weight': 8, 'subsample': 0.7334883355168843, 'colsample_bytree': 0.993391066273176, 'gamma': 0.7087983964244957, 'reg_alpha': 3.4423369361807072, 'reg_lambda': 1.1034183751953952}. Best is trial 32 with value: 0.11811112182679291.\n",
      "[I 2025-04-01 22:48:01,770] Trial 35 finished with value: 0.1273980964059595 and parameters: {'n_estimators': 169, 'max_depth': 8, 'learning_rate': 0.02264940293236671, 'min_child_weight': 9, 'subsample': 0.6694091066910988, 'colsample_bytree': 0.8334048119529549, 'gamma': 0.009168927686119065, 'reg_alpha': 0.781602462229972, 'reg_lambda': 2.3251250246238797}. Best is trial 32 with value: 0.11811112182679291.\n",
      "[I 2025-04-01 22:48:02,637] Trial 36 finished with value: 0.17357848923915617 and parameters: {'n_estimators': 186, 'max_depth': 8, 'learning_rate': 0.025842568618207648, 'min_child_weight': 10, 'subsample': 0.6545451512531223, 'colsample_bytree': 0.833690272324707, 'gamma': 8.331742630697729, 'reg_alpha': 0.01784424579538957, 'reg_lambda': 2.2451493174238344}. Best is trial 32 with value: 0.11811112182679291.\n",
      "[I 2025-04-01 22:48:03,929] Trial 37 finished with value: 0.15677392288484776 and parameters: {'n_estimators': 164, 'max_depth': 10, 'learning_rate': 0.017304334038272154, 'min_child_weight': 9, 'subsample': 0.7080226792940932, 'colsample_bytree': 0.9093448935750102, 'gamma': 2.441705350897724, 'reg_alpha': 0.9105817053419638, 'reg_lambda': 0.8568988087220821}. Best is trial 32 with value: 0.11811112182679291.\n",
      "[I 2025-04-01 22:48:05,070] Trial 38 finished with value: 0.14002783473172467 and parameters: {'n_estimators': 258, 'max_depth': 9, 'learning_rate': 0.05188660897154258, 'min_child_weight': 1, 'subsample': 0.7497098681359539, 'colsample_bytree': 0.7625481371670336, 'gamma': 1.4763085617270504, 'reg_alpha': 1.749065694307502, 'reg_lambda': 5.796202953633559}. Best is trial 32 with value: 0.11811112182679291.\n",
      "[I 2025-04-01 22:48:05,741] Trial 39 finished with value: 0.15925957996595977 and parameters: {'n_estimators': 223, 'max_depth': 8, 'learning_rate': 0.11805885680950416, 'min_child_weight': 10, 'subsample': 0.6668023798036767, 'colsample_bytree': 0.8164546636076548, 'gamma': 6.304252632050067, 'reg_alpha': 0.7125210555233663, 'reg_lambda': 9.809075772721938}. Best is trial 32 with value: 0.11811112182679291.\n",
      "[I 2025-04-01 22:48:07,209] Trial 40 finished with value: 0.14211491731986087 and parameters: {'n_estimators': 436, 'max_depth': 8, 'learning_rate': 0.08377864454990636, 'min_child_weight': 8, 'subsample': 0.7668264305900246, 'colsample_bytree': 0.7488161455589881, 'gamma': 0.6249630343894408, 'reg_alpha': 6.488268396417123, 'reg_lambda': 6.848516885102154}. Best is trial 32 with value: 0.11811112182679291.\n",
      "[I 2025-04-01 22:48:08,573] Trial 41 finished with value: 0.12429767754334946 and parameters: {'n_estimators': 122, 'max_depth': 7, 'learning_rate': 0.07232705924710106, 'min_child_weight': 9, 'subsample': 0.5676653549900464, 'colsample_bytree': 0.8646587497659717, 'gamma': 0.03711260098822798, 'reg_alpha': 2.355518174150264, 'reg_lambda': 3.2632371009590977}. Best is trial 32 with value: 0.11811112182679291.\n",
      "[I 2025-04-01 22:48:09,227] Trial 42 finished with value: 0.12780238258959883 and parameters: {'n_estimators': 112, 'max_depth': 7, 'learning_rate': 0.10475078020740784, 'min_child_weight': 9, 'subsample': 0.5142772594851367, 'colsample_bytree': 0.846281031814726, 'gamma': 0.6509609935243805, 'reg_alpha': 1.5488793310391327, 'reg_lambda': 2.2034682442311917}. Best is trial 32 with value: 0.11811112182679291.\n",
      "[I 2025-04-01 22:48:09,776] Trial 43 finished with value: 0.13528676646059803 and parameters: {'n_estimators': 110, 'max_depth': 7, 'learning_rate': 0.10540558308476755, 'min_child_weight': 9, 'subsample': 0.5149727474544166, 'colsample_bytree': 0.9146125913557376, 'gamma': 1.3141613866612256, 'reg_alpha': 1.3846446325000592, 'reg_lambda': 2.116439501850133}. Best is trial 32 with value: 0.11811112182679291.\n",
      "[I 2025-04-01 22:48:10,407] Trial 44 finished with value: 0.13102674104610296 and parameters: {'n_estimators': 140, 'max_depth': 7, 'learning_rate': 0.15033089278828599, 'min_child_weight': 10, 'subsample': 0.5424908886700449, 'colsample_bytree': 0.9557543019679079, 'gamma': 0.6903338021437476, 'reg_alpha': 1.9355028525341846, 'reg_lambda': 2.994235871996082}. Best is trial 32 with value: 0.11811112182679291.\n",
      "[I 2025-04-01 22:48:11,120] Trial 45 finished with value: 0.1341463660099402 and parameters: {'n_estimators': 188, 'max_depth': 8, 'learning_rate': 0.10154555546201371, 'min_child_weight': 9, 'subsample': 0.5711861375693609, 'colsample_bytree': 0.8697228992724733, 'gamma': 2.1760105574919097, 'reg_alpha': 0.011816857220021015, 'reg_lambda': 2.5703442213626126}. Best is trial 32 with value: 0.11811112182679291.\n",
      "[I 2025-04-01 22:48:12,280] Trial 46 finished with value: 0.12351841123050336 and parameters: {'n_estimators': 324, 'max_depth': 7, 'learning_rate': 0.11908293536117796, 'min_child_weight': 10, 'subsample': 0.5388232732607072, 'colsample_bytree': 0.5399292261696322, 'gamma': 0.4836375322401776, 'reg_alpha': 2.2769434103965347, 'reg_lambda': 1.2348755911044793}. Best is trial 32 with value: 0.11811112182679291.\n",
      "[I 2025-04-01 22:48:13,263] Trial 47 finished with value: 0.15521555225686937 and parameters: {'n_estimators': 367, 'max_depth': 7, 'learning_rate': 0.1179455721967981, 'min_child_weight': 10, 'subsample': 0.5879065383206972, 'colsample_bytree': 0.5686438225720073, 'gamma': 5.351003845919671, 'reg_alpha': 2.571909353194453, 'reg_lambda': 1.2385522207811308}. Best is trial 32 with value: 0.11811112182679291.\n",
      "[I 2025-04-01 22:48:14,157] Trial 48 finished with value: 0.16860026723011692 and parameters: {'n_estimators': 319, 'max_depth': 6, 'learning_rate': 0.0774486834858228, 'min_child_weight': 10, 'subsample': 0.5482248182740017, 'colsample_bytree': 0.521530428018615, 'gamma': 7.430770405296563, 'reg_alpha': 2.167218396173604, 'reg_lambda': 0.3225251275826686}. Best is trial 32 with value: 0.11811112182679291.\n",
      "[I 2025-04-01 22:48:15,468] Trial 49 finished with value: 0.13477048038453793 and parameters: {'n_estimators': 338, 'max_depth': 8, 'learning_rate': 0.07124554390620517, 'min_child_weight': 8, 'subsample': 0.6225083350160672, 'colsample_bytree': 0.5608672687680931, 'gamma': 0.47883329960441046, 'reg_alpha': 5.552098070530794, 'reg_lambda': 3.8077431930522456}. Best is trial 32 with value: 0.11811112182679291.\n"
     ]
    }
   ],
   "source": [
    "# Creazione degli studi Optuna\n",
    "study_xgb = optuna.create_study(direction='minimize')\n",
    "study_xgb.optimize(xgb_objective, n_trials=50)"
   ]
  },
  {
   "cell_type": "code",
   "execution_count": 155,
   "metadata": {},
   "outputs": [
    {
     "name": "stderr",
     "output_type": "stream",
     "text": [
      "[I 2025-04-01 22:48:15,472] A new study created in memory with name: no-name-ef7e3d97-0610-4105-9477-dd859300bc67\n",
      "[I 2025-04-01 22:48:18,853] Trial 0 finished with value: 0.13554082667198025 and parameters: {'n_estimators': 295, 'learning_rate': 0.16459427330299722, 'num_leaves': 1520, 'max_depth': 5}. Best is trial 0 with value: 0.13554082667198025.\n",
      "[I 2025-04-01 22:48:22,891] Trial 1 finished with value: 0.1271290880450533 and parameters: {'n_estimators': 434, 'learning_rate': 0.09637741176365949, 'num_leaves': 2080, 'max_depth': 4}. Best is trial 1 with value: 0.1271290880450533.\n",
      "[I 2025-04-01 22:48:29,085] Trial 2 finished with value: 0.1405317166007958 and parameters: {'n_estimators': 499, 'learning_rate': 0.08035213546775877, 'num_leaves': 360, 'max_depth': 7}. Best is trial 1 with value: 0.1271290880450533.\n",
      "[I 2025-04-01 22:48:32,437] Trial 3 finished with value: 0.1360214254839313 and parameters: {'n_estimators': 252, 'learning_rate': 0.12805014685161892, 'num_leaves': 1460, 'max_depth': 6}. Best is trial 1 with value: 0.1271290880450533.\n",
      "[I 2025-04-01 22:48:41,747] Trial 4 finished with value: 0.12217118570575329 and parameters: {'n_estimators': 280, 'learning_rate': 0.028416182076374915, 'num_leaves': 2620, 'max_depth': 11}. Best is trial 4 with value: 0.12217118570575329.\n",
      "[I 2025-04-01 22:48:43,496] Trial 5 finished with value: 0.12124501927969131 and parameters: {'n_estimators': 164, 'learning_rate': 0.062019433554014056, 'num_leaves': 1960, 'max_depth': 4}. Best is trial 5 with value: 0.12124501927969131.\n",
      "[I 2025-04-01 22:48:54,062] Trial 6 finished with value: 0.15087764689368544 and parameters: {'n_estimators': 399, 'learning_rate': 0.20805547714665537, 'num_leaves': 2760, 'max_depth': 12}. Best is trial 5 with value: 0.12124501927969131.\n",
      "[I 2025-04-01 22:49:05,249] Trial 7 finished with value: 0.135411667512754 and parameters: {'n_estimators': 400, 'learning_rate': 0.05067260281609751, 'num_leaves': 1400, 'max_depth': 12}. Best is trial 5 with value: 0.12124501927969131.\n",
      "[I 2025-04-01 22:49:08,504] Trial 8 finished with value: 0.1303859490713915 and parameters: {'n_estimators': 436, 'learning_rate': 0.21064472470732384, 'num_leaves': 2460, 'max_depth': 3}. Best is trial 5 with value: 0.12124501927969131.\n",
      "[I 2025-04-01 22:49:12,420] Trial 9 finished with value: 0.1395741998211478 and parameters: {'n_estimators': 247, 'learning_rate': 0.11766102105163798, 'num_leaves': 1800, 'max_depth': 7}. Best is trial 5 with value: 0.12124501927969131.\n",
      "[I 2025-04-01 22:49:13,254] Trial 10 finished with value: 0.13446800103440548 and parameters: {'n_estimators': 130, 'learning_rate': 0.27432882508824746, 'num_leaves': 800, 'max_depth': 3}. Best is trial 5 with value: 0.12124501927969131.\n",
      "[I 2025-04-01 22:49:19,680] Trial 11 finished with value: 0.14468548392299108 and parameters: {'n_estimators': 136, 'learning_rate': 0.016918218629006748, 'num_leaves': 3000, 'max_depth': 10}. Best is trial 5 with value: 0.12124501927969131.\n",
      "[I 2025-04-01 22:49:26,720] Trial 12 finished with value: 0.12039650718472632 and parameters: {'n_estimators': 220, 'learning_rate': 0.027999077640137815, 'num_leaves': 2280, 'max_depth': 9}. Best is trial 12 with value: 0.12039650718472632.\n",
      "[I 2025-04-01 22:49:30,792] Trial 13 finished with value: 0.12839379310631657 and parameters: {'n_estimators': 187, 'learning_rate': 0.06782176141548946, 'num_leaves': 2160, 'max_depth': 8}. Best is trial 12 with value: 0.12039650718472632.\n",
      "[I 2025-04-01 22:49:39,062] Trial 14 finished with value: 0.13498026426642337 and parameters: {'n_estimators': 189, 'learning_rate': 0.01423889251285885, 'num_leaves': 2140, 'max_depth': 9}. Best is trial 12 with value: 0.12039650718472632.\n",
      "[I 2025-04-01 22:49:43,771] Trial 15 finished with value: 0.1241868232188188 and parameters: {'n_estimators': 176, 'learning_rate': 0.05262974810406519, 'num_leaves': 1040, 'max_depth': 9}. Best is trial 12 with value: 0.12039650718472632.\n",
      "[I 2025-04-01 22:49:45,109] Trial 16 finished with value: 0.13196447237516443 and parameters: {'n_estimators': 104, 'learning_rate': 0.16041927151438762, 'num_leaves': 1780, 'max_depth': 5}. Best is trial 12 with value: 0.12039650718472632.\n",
      "[I 2025-04-01 22:49:50,985] Trial 17 finished with value: 0.14275280473633928 and parameters: {'n_estimators': 326, 'learning_rate': 0.10593324318270786, 'num_leaves': 2440, 'max_depth': 8}. Best is trial 12 with value: 0.12039650718472632.\n",
      "[I 2025-04-01 22:49:53,732] Trial 18 finished with value: 0.14433709058467897 and parameters: {'n_estimators': 229, 'learning_rate': 0.2953416782225684, 'num_leaves': 1020, 'max_depth': 6}. Best is trial 12 with value: 0.12039650718472632.\n",
      "[I 2025-04-01 22:50:01,167] Trial 19 finished with value: 0.1311696576575845 and parameters: {'n_estimators': 332, 'learning_rate': 0.049839355980860686, 'num_leaves': 1900, 'max_depth': 9}. Best is trial 12 with value: 0.12039650718472632.\n",
      "[I 2025-04-01 22:50:05,897] Trial 20 finished with value: 0.14751131152373748 and parameters: {'n_estimators': 207, 'learning_rate': 0.19883084430336745, 'num_leaves': 2320, 'max_depth': 10}. Best is trial 12 with value: 0.12039650718472632.\n",
      "[I 2025-04-01 22:50:15,118] Trial 21 finished with value: 0.12335262741452444 and parameters: {'n_estimators': 284, 'learning_rate': 0.030346023053463594, 'num_leaves': 2820, 'max_depth': 11}. Best is trial 12 with value: 0.12039650718472632.\n",
      "[I 2025-04-01 22:50:20,849] Trial 22 finished with value: 0.1203296335548882 and parameters: {'n_estimators': 157, 'learning_rate': 0.03968366238918349, 'num_leaves': 2560, 'max_depth': 11}. Best is trial 22 with value: 0.1203296335548882.\n",
      "[I 2025-04-01 22:50:25,107] Trial 23 finished with value: 0.13016466388103987 and parameters: {'n_estimators': 158, 'learning_rate': 0.07989649515307537, 'num_leaves': 2560, 'max_depth': 10}. Best is trial 22 with value: 0.1203296335548882.\n",
      "[I 2025-04-01 22:50:28,130] Trial 24 finished with value: 0.13269200254711938 and parameters: {'n_estimators': 107, 'learning_rate': 0.1383143979102029, 'num_leaves': 2260, 'max_depth': 11}. Best is trial 22 with value: 0.1203296335548882.\n",
      "[I 2025-04-01 22:50:33,548] Trial 25 finished with value: 0.12250601305394519 and parameters: {'n_estimators': 222, 'learning_rate': 0.039794323867328715, 'num_leaves': 1980, 'max_depth': 8}. Best is trial 22 with value: 0.1203296335548882.\n",
      "[I 2025-04-01 22:50:38,224] Trial 26 finished with value: 0.12666350832980186 and parameters: {'n_estimators': 171, 'learning_rate': 0.07193743272607847, 'num_leaves': 1700, 'max_depth': 10}. Best is trial 22 with value: 0.1203296335548882.\n",
      "[I 2025-04-01 22:50:39,749] Trial 27 finished with value: 0.12440998407390984 and parameters: {'n_estimators': 144, 'learning_rate': 0.09791723887029104, 'num_leaves': 3000, 'max_depth': 4}. Best is trial 22 with value: 0.1203296335548882.\n",
      "[I 2025-04-01 22:50:49,608] Trial 28 finished with value: 0.14207339585552586 and parameters: {'n_estimators': 203, 'learning_rate': 0.011760067911047278, 'num_leaves': 2680, 'max_depth': 12}. Best is trial 22 with value: 0.1203296335548882.\n",
      "[I 2025-04-01 22:50:53,445] Trial 29 finished with value: 0.12703589048313046 and parameters: {'n_estimators': 257, 'learning_rate': 0.06029817204717195, 'num_leaves': 1580, 'max_depth': 6}. Best is trial 22 with value: 0.1203296335548882.\n",
      "[I 2025-04-01 22:50:59,796] Trial 30 finished with value: 0.14805866790131716 and parameters: {'n_estimators': 313, 'learning_rate': 0.1842693723758843, 'num_leaves': 1220, 'max_depth': 9}. Best is trial 22 with value: 0.1203296335548882.\n",
      "[I 2025-04-01 22:51:07,748] Trial 31 finished with value: 0.1213350948879599 and parameters: {'n_estimators': 234, 'learning_rate': 0.03197022164206892, 'num_leaves': 2380, 'max_depth': 11}. Best is trial 22 with value: 0.1203296335548882.\n",
      "[I 2025-04-01 22:51:15,139] Trial 32 finished with value: 0.12128901565953479 and parameters: {'n_estimators': 218, 'learning_rate': 0.03491356566556239, 'num_leaves': 2320, 'max_depth': 11}. Best is trial 22 with value: 0.1203296335548882.\n",
      "[I 2025-04-01 22:51:19,591] Trial 33 finished with value: 0.12980196515926856 and parameters: {'n_estimators': 154, 'learning_rate': 0.08836332479513068, 'num_leaves': 2080, 'max_depth': 11}. Best is trial 22 with value: 0.1203296335548882.\n",
      "[I 2025-04-01 22:51:21,799] Trial 34 finished with value: 0.12121924888696316 and parameters: {'n_estimators': 123, 'learning_rate': 0.036347951299475184, 'num_leaves': 2000, 'max_depth': 5}. Best is trial 22 with value: 0.1203296335548882.\n",
      "[I 2025-04-01 22:51:23,215] Trial 35 finished with value: 0.12215750801433227 and parameters: {'n_estimators': 119, 'learning_rate': 0.069500610310819, 'num_leaves': 1960, 'max_depth': 4}. Best is trial 22 with value: 0.1203296335548882.\n",
      "[I 2025-04-01 22:51:24,791] Trial 36 finished with value: 0.13940418134755755 and parameters: {'n_estimators': 159, 'learning_rate': 0.23475428633910264, 'num_leaves': 380, 'max_depth': 5}. Best is trial 22 with value: 0.1203296335548882.\n",
      "[I 2025-04-01 22:51:25,804] Trial 37 finished with value: 0.12818250592727115 and parameters: {'n_estimators': 100, 'learning_rate': 0.14350987792896006, 'num_leaves': 20, 'max_depth': 5}. Best is trial 22 with value: 0.1203296335548882.\n",
      "[I 2025-04-01 22:51:26,916] Trial 38 finished with value: 0.12317145089395731 and parameters: {'n_estimators': 136, 'learning_rate': 0.11396286607065446, 'num_leaves': 2580, 'max_depth': 3}. Best is trial 22 with value: 0.1203296335548882.\n",
      "[I 2025-04-01 22:51:29,611] Trial 39 finished with value: 0.12192881535200858 and parameters: {'n_estimators': 264, 'learning_rate': 0.04488489400124653, 'num_leaves': 1600, 'max_depth': 4}. Best is trial 22 with value: 0.1203296335548882.\n",
      "[I 2025-04-01 22:51:39,074] Trial 40 finished with value: 0.12458087173049974 and parameters: {'n_estimators': 496, 'learning_rate': 0.02304571682863339, 'num_leaves': 1440, 'max_depth': 7}. Best is trial 22 with value: 0.1203296335548882.\n",
      "[I 2025-04-01 22:51:46,727] Trial 41 finished with value: 0.12299060176053016 and parameters: {'n_estimators': 213, 'learning_rate': 0.036160857907932144, 'num_leaves': 2220, 'max_depth': 12}. Best is trial 22 with value: 0.1203296335548882.\n",
      "[I 2025-04-01 22:51:49,950] Trial 42 finished with value: 0.12414280832941185 and parameters: {'n_estimators': 195, 'learning_rate': 0.057090184385461235, 'num_leaves': 2440, 'max_depth': 6}. Best is trial 22 with value: 0.1203296335548882.\n",
      "[I 2025-04-01 22:51:58,073] Trial 43 finished with value: 0.17618596972861245 and parameters: {'n_estimators': 169, 'learning_rate': 0.010126981675090498, 'num_leaves': 2060, 'max_depth': 10}. Best is trial 22 with value: 0.1203296335548882.\n",
      "[I 2025-04-01 22:51:59,511] Trial 44 finished with value: 0.12301606349601876 and parameters: {'n_estimators': 132, 'learning_rate': 0.08844640396552636, 'num_leaves': 1860, 'max_depth': 4}. Best is trial 22 with value: 0.1203296335548882.\n",
      "[I 2025-04-01 22:52:11,628] Trial 45 finished with value: 0.12373101429058293 and parameters: {'n_estimators': 356, 'learning_rate': 0.02514456079587983, 'num_leaves': 2260, 'max_depth': 12}. Best is trial 22 with value: 0.1203296335548882.\n",
      "[I 2025-04-01 22:52:13,148] Trial 46 finished with value: 0.12424369394749246 and parameters: {'n_estimators': 179, 'learning_rate': 0.04145598317972383, 'num_leaves': 2660, 'max_depth': 3}. Best is trial 22 with value: 0.1203296335548882.\n",
      "[I 2025-04-01 22:52:16,002] Trial 47 finished with value: 0.12040720887278886 and parameters: {'n_estimators': 120, 'learning_rate': 0.06019511690530646, 'num_leaves': 2840, 'max_depth': 7}. Best is trial 22 with value: 0.1203296335548882.\n",
      "[I 2025-04-01 22:52:18,810] Trial 48 finished with value: 0.12162888553858328 and parameters: {'n_estimators': 119, 'learning_rate': 0.06198694801886509, 'num_leaves': 2820, 'max_depth': 7}. Best is trial 22 with value: 0.1203296335548882.\n",
      "[I 2025-04-01 22:52:20,783] Trial 49 finished with value: 0.1227060116052833 and parameters: {'n_estimators': 146, 'learning_rate': 0.07973955815260447, 'num_leaves': 2920, 'max_depth': 5}. Best is trial 22 with value: 0.1203296335548882.\n"
     ]
    }
   ],
   "source": [
    "study_lgbm = optuna.create_study(direction='minimize')\n",
    "study_lgbm.optimize(lgbm_objective, n_trials=50)"
   ]
  },
  {
   "cell_type": "code",
   "execution_count": 156,
   "metadata": {},
   "outputs": [
    {
     "name": "stdout",
     "output_type": "stream",
     "text": [
      "Migliori parametri XGBoost: {'n_estimators': 159, 'max_depth': 6, 'learning_rate': 0.07405923289435414, 'min_child_weight': 8, 'subsample': 0.6330660608466465, 'colsample_bytree': 0.9130130244378137, 'gamma': 0.0855901417123143, 'reg_alpha': 1.0571732605196185, 'reg_lambda': 3.93058137060822}\n",
      "Miglior valore XGBoost: 0.11811112182679291\n",
      "Migliori parametri LightGBM: {'n_estimators': 157, 'learning_rate': 0.03968366238918349, 'num_leaves': 2560, 'max_depth': 11}\n",
      "Miglior valore LightGBM: 0.1203296335548882\n"
     ]
    }
   ],
   "source": [
    "# Stampa dei migliori parametri per ogni modello\n",
    "print(\"Migliori parametri XGBoost:\", study_xgb.best_params)\n",
    "print(\"Miglior valore XGBoost:\", study_xgb.best_value)\n",
    "\n",
    "print(\"Migliori parametri LightGBM:\", study_lgbm.best_params)\n",
    "print(\"Miglior valore LightGBM:\", study_lgbm.best_value)\n",
    "\n"
   ]
  },
  {
   "cell_type": "code",
   "execution_count": 157,
   "metadata": {},
   "outputs": [
    {
     "data": {
      "text/html": [
       "<style>#sk-container-id-15 {\n",
       "  /* Definition of color scheme common for light and dark mode */\n",
       "  --sklearn-color-text: #000;\n",
       "  --sklearn-color-text-muted: #666;\n",
       "  --sklearn-color-line: gray;\n",
       "  /* Definition of color scheme for unfitted estimators */\n",
       "  --sklearn-color-unfitted-level-0: #fff5e6;\n",
       "  --sklearn-color-unfitted-level-1: #f6e4d2;\n",
       "  --sklearn-color-unfitted-level-2: #ffe0b3;\n",
       "  --sklearn-color-unfitted-level-3: chocolate;\n",
       "  /* Definition of color scheme for fitted estimators */\n",
       "  --sklearn-color-fitted-level-0: #f0f8ff;\n",
       "  --sklearn-color-fitted-level-1: #d4ebff;\n",
       "  --sklearn-color-fitted-level-2: #b3dbfd;\n",
       "  --sklearn-color-fitted-level-3: cornflowerblue;\n",
       "\n",
       "  /* Specific color for light theme */\n",
       "  --sklearn-color-text-on-default-background: var(--sg-text-color, var(--theme-code-foreground, var(--jp-content-font-color1, black)));\n",
       "  --sklearn-color-background: var(--sg-background-color, var(--theme-background, var(--jp-layout-color0, white)));\n",
       "  --sklearn-color-border-box: var(--sg-text-color, var(--theme-code-foreground, var(--jp-content-font-color1, black)));\n",
       "  --sklearn-color-icon: #696969;\n",
       "\n",
       "  @media (prefers-color-scheme: dark) {\n",
       "    /* Redefinition of color scheme for dark theme */\n",
       "    --sklearn-color-text-on-default-background: var(--sg-text-color, var(--theme-code-foreground, var(--jp-content-font-color1, white)));\n",
       "    --sklearn-color-background: var(--sg-background-color, var(--theme-background, var(--jp-layout-color0, #111)));\n",
       "    --sklearn-color-border-box: var(--sg-text-color, var(--theme-code-foreground, var(--jp-content-font-color1, white)));\n",
       "    --sklearn-color-icon: #878787;\n",
       "  }\n",
       "}\n",
       "\n",
       "#sk-container-id-15 {\n",
       "  color: var(--sklearn-color-text);\n",
       "}\n",
       "\n",
       "#sk-container-id-15 pre {\n",
       "  padding: 0;\n",
       "}\n",
       "\n",
       "#sk-container-id-15 input.sk-hidden--visually {\n",
       "  border: 0;\n",
       "  clip: rect(1px 1px 1px 1px);\n",
       "  clip: rect(1px, 1px, 1px, 1px);\n",
       "  height: 1px;\n",
       "  margin: -1px;\n",
       "  overflow: hidden;\n",
       "  padding: 0;\n",
       "  position: absolute;\n",
       "  width: 1px;\n",
       "}\n",
       "\n",
       "#sk-container-id-15 div.sk-dashed-wrapped {\n",
       "  border: 1px dashed var(--sklearn-color-line);\n",
       "  margin: 0 0.4em 0.5em 0.4em;\n",
       "  box-sizing: border-box;\n",
       "  padding-bottom: 0.4em;\n",
       "  background-color: var(--sklearn-color-background);\n",
       "}\n",
       "\n",
       "#sk-container-id-15 div.sk-container {\n",
       "  /* jupyter's `normalize.less` sets `[hidden] { display: none; }`\n",
       "     but bootstrap.min.css set `[hidden] { display: none !important; }`\n",
       "     so we also need the `!important` here to be able to override the\n",
       "     default hidden behavior on the sphinx rendered scikit-learn.org.\n",
       "     See: https://github.com/scikit-learn/scikit-learn/issues/21755 */\n",
       "  display: inline-block !important;\n",
       "  position: relative;\n",
       "}\n",
       "\n",
       "#sk-container-id-15 div.sk-text-repr-fallback {\n",
       "  display: none;\n",
       "}\n",
       "\n",
       "div.sk-parallel-item,\n",
       "div.sk-serial,\n",
       "div.sk-item {\n",
       "  /* draw centered vertical line to link estimators */\n",
       "  background-image: linear-gradient(var(--sklearn-color-text-on-default-background), var(--sklearn-color-text-on-default-background));\n",
       "  background-size: 2px 100%;\n",
       "  background-repeat: no-repeat;\n",
       "  background-position: center center;\n",
       "}\n",
       "\n",
       "/* Parallel-specific style estimator block */\n",
       "\n",
       "#sk-container-id-15 div.sk-parallel-item::after {\n",
       "  content: \"\";\n",
       "  width: 100%;\n",
       "  border-bottom: 2px solid var(--sklearn-color-text-on-default-background);\n",
       "  flex-grow: 1;\n",
       "}\n",
       "\n",
       "#sk-container-id-15 div.sk-parallel {\n",
       "  display: flex;\n",
       "  align-items: stretch;\n",
       "  justify-content: center;\n",
       "  background-color: var(--sklearn-color-background);\n",
       "  position: relative;\n",
       "}\n",
       "\n",
       "#sk-container-id-15 div.sk-parallel-item {\n",
       "  display: flex;\n",
       "  flex-direction: column;\n",
       "}\n",
       "\n",
       "#sk-container-id-15 div.sk-parallel-item:first-child::after {\n",
       "  align-self: flex-end;\n",
       "  width: 50%;\n",
       "}\n",
       "\n",
       "#sk-container-id-15 div.sk-parallel-item:last-child::after {\n",
       "  align-self: flex-start;\n",
       "  width: 50%;\n",
       "}\n",
       "\n",
       "#sk-container-id-15 div.sk-parallel-item:only-child::after {\n",
       "  width: 0;\n",
       "}\n",
       "\n",
       "/* Serial-specific style estimator block */\n",
       "\n",
       "#sk-container-id-15 div.sk-serial {\n",
       "  display: flex;\n",
       "  flex-direction: column;\n",
       "  align-items: center;\n",
       "  background-color: var(--sklearn-color-background);\n",
       "  padding-right: 1em;\n",
       "  padding-left: 1em;\n",
       "}\n",
       "\n",
       "\n",
       "/* Toggleable style: style used for estimator/Pipeline/ColumnTransformer box that is\n",
       "clickable and can be expanded/collapsed.\n",
       "- Pipeline and ColumnTransformer use this feature and define the default style\n",
       "- Estimators will overwrite some part of the style using the `sk-estimator` class\n",
       "*/\n",
       "\n",
       "/* Pipeline and ColumnTransformer style (default) */\n",
       "\n",
       "#sk-container-id-15 div.sk-toggleable {\n",
       "  /* Default theme specific background. It is overwritten whether we have a\n",
       "  specific estimator or a Pipeline/ColumnTransformer */\n",
       "  background-color: var(--sklearn-color-background);\n",
       "}\n",
       "\n",
       "/* Toggleable label */\n",
       "#sk-container-id-15 label.sk-toggleable__label {\n",
       "  cursor: pointer;\n",
       "  display: flex;\n",
       "  width: 100%;\n",
       "  margin-bottom: 0;\n",
       "  padding: 0.5em;\n",
       "  box-sizing: border-box;\n",
       "  text-align: center;\n",
       "  align-items: start;\n",
       "  justify-content: space-between;\n",
       "  gap: 0.5em;\n",
       "}\n",
       "\n",
       "#sk-container-id-15 label.sk-toggleable__label .caption {\n",
       "  font-size: 0.6rem;\n",
       "  font-weight: lighter;\n",
       "  color: var(--sklearn-color-text-muted);\n",
       "}\n",
       "\n",
       "#sk-container-id-15 label.sk-toggleable__label-arrow:before {\n",
       "  /* Arrow on the left of the label */\n",
       "  content: \"▸\";\n",
       "  float: left;\n",
       "  margin-right: 0.25em;\n",
       "  color: var(--sklearn-color-icon);\n",
       "}\n",
       "\n",
       "#sk-container-id-15 label.sk-toggleable__label-arrow:hover:before {\n",
       "  color: var(--sklearn-color-text);\n",
       "}\n",
       "\n",
       "/* Toggleable content - dropdown */\n",
       "\n",
       "#sk-container-id-15 div.sk-toggleable__content {\n",
       "  max-height: 0;\n",
       "  max-width: 0;\n",
       "  overflow: hidden;\n",
       "  text-align: left;\n",
       "  /* unfitted */\n",
       "  background-color: var(--sklearn-color-unfitted-level-0);\n",
       "}\n",
       "\n",
       "#sk-container-id-15 div.sk-toggleable__content.fitted {\n",
       "  /* fitted */\n",
       "  background-color: var(--sklearn-color-fitted-level-0);\n",
       "}\n",
       "\n",
       "#sk-container-id-15 div.sk-toggleable__content pre {\n",
       "  margin: 0.2em;\n",
       "  border-radius: 0.25em;\n",
       "  color: var(--sklearn-color-text);\n",
       "  /* unfitted */\n",
       "  background-color: var(--sklearn-color-unfitted-level-0);\n",
       "}\n",
       "\n",
       "#sk-container-id-15 div.sk-toggleable__content.fitted pre {\n",
       "  /* unfitted */\n",
       "  background-color: var(--sklearn-color-fitted-level-0);\n",
       "}\n",
       "\n",
       "#sk-container-id-15 input.sk-toggleable__control:checked~div.sk-toggleable__content {\n",
       "  /* Expand drop-down */\n",
       "  max-height: 200px;\n",
       "  max-width: 100%;\n",
       "  overflow: auto;\n",
       "}\n",
       "\n",
       "#sk-container-id-15 input.sk-toggleable__control:checked~label.sk-toggleable__label-arrow:before {\n",
       "  content: \"▾\";\n",
       "}\n",
       "\n",
       "/* Pipeline/ColumnTransformer-specific style */\n",
       "\n",
       "#sk-container-id-15 div.sk-label input.sk-toggleable__control:checked~label.sk-toggleable__label {\n",
       "  color: var(--sklearn-color-text);\n",
       "  background-color: var(--sklearn-color-unfitted-level-2);\n",
       "}\n",
       "\n",
       "#sk-container-id-15 div.sk-label.fitted input.sk-toggleable__control:checked~label.sk-toggleable__label {\n",
       "  background-color: var(--sklearn-color-fitted-level-2);\n",
       "}\n",
       "\n",
       "/* Estimator-specific style */\n",
       "\n",
       "/* Colorize estimator box */\n",
       "#sk-container-id-15 div.sk-estimator input.sk-toggleable__control:checked~label.sk-toggleable__label {\n",
       "  /* unfitted */\n",
       "  background-color: var(--sklearn-color-unfitted-level-2);\n",
       "}\n",
       "\n",
       "#sk-container-id-15 div.sk-estimator.fitted input.sk-toggleable__control:checked~label.sk-toggleable__label {\n",
       "  /* fitted */\n",
       "  background-color: var(--sklearn-color-fitted-level-2);\n",
       "}\n",
       "\n",
       "#sk-container-id-15 div.sk-label label.sk-toggleable__label,\n",
       "#sk-container-id-15 div.sk-label label {\n",
       "  /* The background is the default theme color */\n",
       "  color: var(--sklearn-color-text-on-default-background);\n",
       "}\n",
       "\n",
       "/* On hover, darken the color of the background */\n",
       "#sk-container-id-15 div.sk-label:hover label.sk-toggleable__label {\n",
       "  color: var(--sklearn-color-text);\n",
       "  background-color: var(--sklearn-color-unfitted-level-2);\n",
       "}\n",
       "\n",
       "/* Label box, darken color on hover, fitted */\n",
       "#sk-container-id-15 div.sk-label.fitted:hover label.sk-toggleable__label.fitted {\n",
       "  color: var(--sklearn-color-text);\n",
       "  background-color: var(--sklearn-color-fitted-level-2);\n",
       "}\n",
       "\n",
       "/* Estimator label */\n",
       "\n",
       "#sk-container-id-15 div.sk-label label {\n",
       "  font-family: monospace;\n",
       "  font-weight: bold;\n",
       "  display: inline-block;\n",
       "  line-height: 1.2em;\n",
       "}\n",
       "\n",
       "#sk-container-id-15 div.sk-label-container {\n",
       "  text-align: center;\n",
       "}\n",
       "\n",
       "/* Estimator-specific */\n",
       "#sk-container-id-15 div.sk-estimator {\n",
       "  font-family: monospace;\n",
       "  border: 1px dotted var(--sklearn-color-border-box);\n",
       "  border-radius: 0.25em;\n",
       "  box-sizing: border-box;\n",
       "  margin-bottom: 0.5em;\n",
       "  /* unfitted */\n",
       "  background-color: var(--sklearn-color-unfitted-level-0);\n",
       "}\n",
       "\n",
       "#sk-container-id-15 div.sk-estimator.fitted {\n",
       "  /* fitted */\n",
       "  background-color: var(--sklearn-color-fitted-level-0);\n",
       "}\n",
       "\n",
       "/* on hover */\n",
       "#sk-container-id-15 div.sk-estimator:hover {\n",
       "  /* unfitted */\n",
       "  background-color: var(--sklearn-color-unfitted-level-2);\n",
       "}\n",
       "\n",
       "#sk-container-id-15 div.sk-estimator.fitted:hover {\n",
       "  /* fitted */\n",
       "  background-color: var(--sklearn-color-fitted-level-2);\n",
       "}\n",
       "\n",
       "/* Specification for estimator info (e.g. \"i\" and \"?\") */\n",
       "\n",
       "/* Common style for \"i\" and \"?\" */\n",
       "\n",
       ".sk-estimator-doc-link,\n",
       "a:link.sk-estimator-doc-link,\n",
       "a:visited.sk-estimator-doc-link {\n",
       "  float: right;\n",
       "  font-size: smaller;\n",
       "  line-height: 1em;\n",
       "  font-family: monospace;\n",
       "  background-color: var(--sklearn-color-background);\n",
       "  border-radius: 1em;\n",
       "  height: 1em;\n",
       "  width: 1em;\n",
       "  text-decoration: none !important;\n",
       "  margin-left: 0.5em;\n",
       "  text-align: center;\n",
       "  /* unfitted */\n",
       "  border: var(--sklearn-color-unfitted-level-1) 1pt solid;\n",
       "  color: var(--sklearn-color-unfitted-level-1);\n",
       "}\n",
       "\n",
       ".sk-estimator-doc-link.fitted,\n",
       "a:link.sk-estimator-doc-link.fitted,\n",
       "a:visited.sk-estimator-doc-link.fitted {\n",
       "  /* fitted */\n",
       "  border: var(--sklearn-color-fitted-level-1) 1pt solid;\n",
       "  color: var(--sklearn-color-fitted-level-1);\n",
       "}\n",
       "\n",
       "/* On hover */\n",
       "div.sk-estimator:hover .sk-estimator-doc-link:hover,\n",
       ".sk-estimator-doc-link:hover,\n",
       "div.sk-label-container:hover .sk-estimator-doc-link:hover,\n",
       ".sk-estimator-doc-link:hover {\n",
       "  /* unfitted */\n",
       "  background-color: var(--sklearn-color-unfitted-level-3);\n",
       "  color: var(--sklearn-color-background);\n",
       "  text-decoration: none;\n",
       "}\n",
       "\n",
       "div.sk-estimator.fitted:hover .sk-estimator-doc-link.fitted:hover,\n",
       ".sk-estimator-doc-link.fitted:hover,\n",
       "div.sk-label-container:hover .sk-estimator-doc-link.fitted:hover,\n",
       ".sk-estimator-doc-link.fitted:hover {\n",
       "  /* fitted */\n",
       "  background-color: var(--sklearn-color-fitted-level-3);\n",
       "  color: var(--sklearn-color-background);\n",
       "  text-decoration: none;\n",
       "}\n",
       "\n",
       "/* Span, style for the box shown on hovering the info icon */\n",
       ".sk-estimator-doc-link span {\n",
       "  display: none;\n",
       "  z-index: 9999;\n",
       "  position: relative;\n",
       "  font-weight: normal;\n",
       "  right: .2ex;\n",
       "  padding: .5ex;\n",
       "  margin: .5ex;\n",
       "  width: min-content;\n",
       "  min-width: 20ex;\n",
       "  max-width: 50ex;\n",
       "  color: var(--sklearn-color-text);\n",
       "  box-shadow: 2pt 2pt 4pt #999;\n",
       "  /* unfitted */\n",
       "  background: var(--sklearn-color-unfitted-level-0);\n",
       "  border: .5pt solid var(--sklearn-color-unfitted-level-3);\n",
       "}\n",
       "\n",
       ".sk-estimator-doc-link.fitted span {\n",
       "  /* fitted */\n",
       "  background: var(--sklearn-color-fitted-level-0);\n",
       "  border: var(--sklearn-color-fitted-level-3);\n",
       "}\n",
       "\n",
       ".sk-estimator-doc-link:hover span {\n",
       "  display: block;\n",
       "}\n",
       "\n",
       "/* \"?\"-specific style due to the `<a>` HTML tag */\n",
       "\n",
       "#sk-container-id-15 a.estimator_doc_link {\n",
       "  float: right;\n",
       "  font-size: 1rem;\n",
       "  line-height: 1em;\n",
       "  font-family: monospace;\n",
       "  background-color: var(--sklearn-color-background);\n",
       "  border-radius: 1rem;\n",
       "  height: 1rem;\n",
       "  width: 1rem;\n",
       "  text-decoration: none;\n",
       "  /* unfitted */\n",
       "  color: var(--sklearn-color-unfitted-level-1);\n",
       "  border: var(--sklearn-color-unfitted-level-1) 1pt solid;\n",
       "}\n",
       "\n",
       "#sk-container-id-15 a.estimator_doc_link.fitted {\n",
       "  /* fitted */\n",
       "  border: var(--sklearn-color-fitted-level-1) 1pt solid;\n",
       "  color: var(--sklearn-color-fitted-level-1);\n",
       "}\n",
       "\n",
       "/* On hover */\n",
       "#sk-container-id-15 a.estimator_doc_link:hover {\n",
       "  /* unfitted */\n",
       "  background-color: var(--sklearn-color-unfitted-level-3);\n",
       "  color: var(--sklearn-color-background);\n",
       "  text-decoration: none;\n",
       "}\n",
       "\n",
       "#sk-container-id-15 a.estimator_doc_link.fitted:hover {\n",
       "  /* fitted */\n",
       "  background-color: var(--sklearn-color-fitted-level-3);\n",
       "}\n",
       "</style><div id=\"sk-container-id-15\" class=\"sk-top-container\"><div class=\"sk-text-repr-fallback\"><pre>LGBMRegressor(learning_rate=0.03968366238918349, max_depth=11, n_estimators=157,\n",
       "              num_leaves=2560)</pre><b>In a Jupyter environment, please rerun this cell to show the HTML representation or trust the notebook. <br />On GitHub, the HTML representation is unable to render, please try loading this page with nbviewer.org.</b></div><div class=\"sk-container\" hidden><div class=\"sk-item\"><div class=\"sk-estimator fitted sk-toggleable\"><input class=\"sk-toggleable__control sk-hidden--visually\" id=\"sk-estimator-id-42\" type=\"checkbox\" checked><label for=\"sk-estimator-id-42\" class=\"sk-toggleable__label fitted sk-toggleable__label-arrow\"><div><div>LGBMRegressor</div></div><div><span class=\"sk-estimator-doc-link fitted\">i<span>Fitted</span></span></div></label><div class=\"sk-toggleable__content fitted\"><pre>LGBMRegressor(learning_rate=0.03968366238918349, max_depth=11, n_estimators=157,\n",
       "              num_leaves=2560)</pre></div> </div></div></div></div>"
      ],
      "text/plain": [
       "LGBMRegressor(learning_rate=0.03968366238918349, max_depth=11, n_estimators=157,\n",
       "              num_leaves=2560)"
      ]
     },
     "execution_count": 157,
     "metadata": {},
     "output_type": "execute_result"
    }
   ],
   "source": [
    "## Lets train the models\n",
    "\n",
    "xgb_model=XGBRegressor(**study_xgb.best_params)\n",
    "lgbm_model=LGBMRegressor(**study_lgbm.best_params)\n",
    "\n",
    "\n",
    "xgb_model.fit(X_train,y_train)\n",
    "lgbm_model.fit(X_train,y_train)\n",
    "\n",
    "\n"
   ]
  },
  {
   "cell_type": "code",
   "execution_count": 158,
   "metadata": {},
   "outputs": [
    {
     "name": "stderr",
     "output_type": "stream",
     "text": [
      "/Users/carlo/Library/Caches/pypoetry/virtualenvs/3-_house_price_predictor-gE_A7rtz-py3.12/lib/python3.12/site-packages/sklearn/ensemble/_stacking.py:1060: DataConversionWarning:\n",
      "\n",
      "A column-vector y was passed when a 1d array was expected. Please change the shape of y to (n_samples, ), for example using ravel().\n",
      "\n"
     ]
    },
    {
     "data": {
      "text/html": [
       "<style>#sk-container-id-16 {\n",
       "  /* Definition of color scheme common for light and dark mode */\n",
       "  --sklearn-color-text: #000;\n",
       "  --sklearn-color-text-muted: #666;\n",
       "  --sklearn-color-line: gray;\n",
       "  /* Definition of color scheme for unfitted estimators */\n",
       "  --sklearn-color-unfitted-level-0: #fff5e6;\n",
       "  --sklearn-color-unfitted-level-1: #f6e4d2;\n",
       "  --sklearn-color-unfitted-level-2: #ffe0b3;\n",
       "  --sklearn-color-unfitted-level-3: chocolate;\n",
       "  /* Definition of color scheme for fitted estimators */\n",
       "  --sklearn-color-fitted-level-0: #f0f8ff;\n",
       "  --sklearn-color-fitted-level-1: #d4ebff;\n",
       "  --sklearn-color-fitted-level-2: #b3dbfd;\n",
       "  --sklearn-color-fitted-level-3: cornflowerblue;\n",
       "\n",
       "  /* Specific color for light theme */\n",
       "  --sklearn-color-text-on-default-background: var(--sg-text-color, var(--theme-code-foreground, var(--jp-content-font-color1, black)));\n",
       "  --sklearn-color-background: var(--sg-background-color, var(--theme-background, var(--jp-layout-color0, white)));\n",
       "  --sklearn-color-border-box: var(--sg-text-color, var(--theme-code-foreground, var(--jp-content-font-color1, black)));\n",
       "  --sklearn-color-icon: #696969;\n",
       "\n",
       "  @media (prefers-color-scheme: dark) {\n",
       "    /* Redefinition of color scheme for dark theme */\n",
       "    --sklearn-color-text-on-default-background: var(--sg-text-color, var(--theme-code-foreground, var(--jp-content-font-color1, white)));\n",
       "    --sklearn-color-background: var(--sg-background-color, var(--theme-background, var(--jp-layout-color0, #111)));\n",
       "    --sklearn-color-border-box: var(--sg-text-color, var(--theme-code-foreground, var(--jp-content-font-color1, white)));\n",
       "    --sklearn-color-icon: #878787;\n",
       "  }\n",
       "}\n",
       "\n",
       "#sk-container-id-16 {\n",
       "  color: var(--sklearn-color-text);\n",
       "}\n",
       "\n",
       "#sk-container-id-16 pre {\n",
       "  padding: 0;\n",
       "}\n",
       "\n",
       "#sk-container-id-16 input.sk-hidden--visually {\n",
       "  border: 0;\n",
       "  clip: rect(1px 1px 1px 1px);\n",
       "  clip: rect(1px, 1px, 1px, 1px);\n",
       "  height: 1px;\n",
       "  margin: -1px;\n",
       "  overflow: hidden;\n",
       "  padding: 0;\n",
       "  position: absolute;\n",
       "  width: 1px;\n",
       "}\n",
       "\n",
       "#sk-container-id-16 div.sk-dashed-wrapped {\n",
       "  border: 1px dashed var(--sklearn-color-line);\n",
       "  margin: 0 0.4em 0.5em 0.4em;\n",
       "  box-sizing: border-box;\n",
       "  padding-bottom: 0.4em;\n",
       "  background-color: var(--sklearn-color-background);\n",
       "}\n",
       "\n",
       "#sk-container-id-16 div.sk-container {\n",
       "  /* jupyter's `normalize.less` sets `[hidden] { display: none; }`\n",
       "     but bootstrap.min.css set `[hidden] { display: none !important; }`\n",
       "     so we also need the `!important` here to be able to override the\n",
       "     default hidden behavior on the sphinx rendered scikit-learn.org.\n",
       "     See: https://github.com/scikit-learn/scikit-learn/issues/21755 */\n",
       "  display: inline-block !important;\n",
       "  position: relative;\n",
       "}\n",
       "\n",
       "#sk-container-id-16 div.sk-text-repr-fallback {\n",
       "  display: none;\n",
       "}\n",
       "\n",
       "div.sk-parallel-item,\n",
       "div.sk-serial,\n",
       "div.sk-item {\n",
       "  /* draw centered vertical line to link estimators */\n",
       "  background-image: linear-gradient(var(--sklearn-color-text-on-default-background), var(--sklearn-color-text-on-default-background));\n",
       "  background-size: 2px 100%;\n",
       "  background-repeat: no-repeat;\n",
       "  background-position: center center;\n",
       "}\n",
       "\n",
       "/* Parallel-specific style estimator block */\n",
       "\n",
       "#sk-container-id-16 div.sk-parallel-item::after {\n",
       "  content: \"\";\n",
       "  width: 100%;\n",
       "  border-bottom: 2px solid var(--sklearn-color-text-on-default-background);\n",
       "  flex-grow: 1;\n",
       "}\n",
       "\n",
       "#sk-container-id-16 div.sk-parallel {\n",
       "  display: flex;\n",
       "  align-items: stretch;\n",
       "  justify-content: center;\n",
       "  background-color: var(--sklearn-color-background);\n",
       "  position: relative;\n",
       "}\n",
       "\n",
       "#sk-container-id-16 div.sk-parallel-item {\n",
       "  display: flex;\n",
       "  flex-direction: column;\n",
       "}\n",
       "\n",
       "#sk-container-id-16 div.sk-parallel-item:first-child::after {\n",
       "  align-self: flex-end;\n",
       "  width: 50%;\n",
       "}\n",
       "\n",
       "#sk-container-id-16 div.sk-parallel-item:last-child::after {\n",
       "  align-self: flex-start;\n",
       "  width: 50%;\n",
       "}\n",
       "\n",
       "#sk-container-id-16 div.sk-parallel-item:only-child::after {\n",
       "  width: 0;\n",
       "}\n",
       "\n",
       "/* Serial-specific style estimator block */\n",
       "\n",
       "#sk-container-id-16 div.sk-serial {\n",
       "  display: flex;\n",
       "  flex-direction: column;\n",
       "  align-items: center;\n",
       "  background-color: var(--sklearn-color-background);\n",
       "  padding-right: 1em;\n",
       "  padding-left: 1em;\n",
       "}\n",
       "\n",
       "\n",
       "/* Toggleable style: style used for estimator/Pipeline/ColumnTransformer box that is\n",
       "clickable and can be expanded/collapsed.\n",
       "- Pipeline and ColumnTransformer use this feature and define the default style\n",
       "- Estimators will overwrite some part of the style using the `sk-estimator` class\n",
       "*/\n",
       "\n",
       "/* Pipeline and ColumnTransformer style (default) */\n",
       "\n",
       "#sk-container-id-16 div.sk-toggleable {\n",
       "  /* Default theme specific background. It is overwritten whether we have a\n",
       "  specific estimator or a Pipeline/ColumnTransformer */\n",
       "  background-color: var(--sklearn-color-background);\n",
       "}\n",
       "\n",
       "/* Toggleable label */\n",
       "#sk-container-id-16 label.sk-toggleable__label {\n",
       "  cursor: pointer;\n",
       "  display: flex;\n",
       "  width: 100%;\n",
       "  margin-bottom: 0;\n",
       "  padding: 0.5em;\n",
       "  box-sizing: border-box;\n",
       "  text-align: center;\n",
       "  align-items: start;\n",
       "  justify-content: space-between;\n",
       "  gap: 0.5em;\n",
       "}\n",
       "\n",
       "#sk-container-id-16 label.sk-toggleable__label .caption {\n",
       "  font-size: 0.6rem;\n",
       "  font-weight: lighter;\n",
       "  color: var(--sklearn-color-text-muted);\n",
       "}\n",
       "\n",
       "#sk-container-id-16 label.sk-toggleable__label-arrow:before {\n",
       "  /* Arrow on the left of the label */\n",
       "  content: \"▸\";\n",
       "  float: left;\n",
       "  margin-right: 0.25em;\n",
       "  color: var(--sklearn-color-icon);\n",
       "}\n",
       "\n",
       "#sk-container-id-16 label.sk-toggleable__label-arrow:hover:before {\n",
       "  color: var(--sklearn-color-text);\n",
       "}\n",
       "\n",
       "/* Toggleable content - dropdown */\n",
       "\n",
       "#sk-container-id-16 div.sk-toggleable__content {\n",
       "  max-height: 0;\n",
       "  max-width: 0;\n",
       "  overflow: hidden;\n",
       "  text-align: left;\n",
       "  /* unfitted */\n",
       "  background-color: var(--sklearn-color-unfitted-level-0);\n",
       "}\n",
       "\n",
       "#sk-container-id-16 div.sk-toggleable__content.fitted {\n",
       "  /* fitted */\n",
       "  background-color: var(--sklearn-color-fitted-level-0);\n",
       "}\n",
       "\n",
       "#sk-container-id-16 div.sk-toggleable__content pre {\n",
       "  margin: 0.2em;\n",
       "  border-radius: 0.25em;\n",
       "  color: var(--sklearn-color-text);\n",
       "  /* unfitted */\n",
       "  background-color: var(--sklearn-color-unfitted-level-0);\n",
       "}\n",
       "\n",
       "#sk-container-id-16 div.sk-toggleable__content.fitted pre {\n",
       "  /* unfitted */\n",
       "  background-color: var(--sklearn-color-fitted-level-0);\n",
       "}\n",
       "\n",
       "#sk-container-id-16 input.sk-toggleable__control:checked~div.sk-toggleable__content {\n",
       "  /* Expand drop-down */\n",
       "  max-height: 200px;\n",
       "  max-width: 100%;\n",
       "  overflow: auto;\n",
       "}\n",
       "\n",
       "#sk-container-id-16 input.sk-toggleable__control:checked~label.sk-toggleable__label-arrow:before {\n",
       "  content: \"▾\";\n",
       "}\n",
       "\n",
       "/* Pipeline/ColumnTransformer-specific style */\n",
       "\n",
       "#sk-container-id-16 div.sk-label input.sk-toggleable__control:checked~label.sk-toggleable__label {\n",
       "  color: var(--sklearn-color-text);\n",
       "  background-color: var(--sklearn-color-unfitted-level-2);\n",
       "}\n",
       "\n",
       "#sk-container-id-16 div.sk-label.fitted input.sk-toggleable__control:checked~label.sk-toggleable__label {\n",
       "  background-color: var(--sklearn-color-fitted-level-2);\n",
       "}\n",
       "\n",
       "/* Estimator-specific style */\n",
       "\n",
       "/* Colorize estimator box */\n",
       "#sk-container-id-16 div.sk-estimator input.sk-toggleable__control:checked~label.sk-toggleable__label {\n",
       "  /* unfitted */\n",
       "  background-color: var(--sklearn-color-unfitted-level-2);\n",
       "}\n",
       "\n",
       "#sk-container-id-16 div.sk-estimator.fitted input.sk-toggleable__control:checked~label.sk-toggleable__label {\n",
       "  /* fitted */\n",
       "  background-color: var(--sklearn-color-fitted-level-2);\n",
       "}\n",
       "\n",
       "#sk-container-id-16 div.sk-label label.sk-toggleable__label,\n",
       "#sk-container-id-16 div.sk-label label {\n",
       "  /* The background is the default theme color */\n",
       "  color: var(--sklearn-color-text-on-default-background);\n",
       "}\n",
       "\n",
       "/* On hover, darken the color of the background */\n",
       "#sk-container-id-16 div.sk-label:hover label.sk-toggleable__label {\n",
       "  color: var(--sklearn-color-text);\n",
       "  background-color: var(--sklearn-color-unfitted-level-2);\n",
       "}\n",
       "\n",
       "/* Label box, darken color on hover, fitted */\n",
       "#sk-container-id-16 div.sk-label.fitted:hover label.sk-toggleable__label.fitted {\n",
       "  color: var(--sklearn-color-text);\n",
       "  background-color: var(--sklearn-color-fitted-level-2);\n",
       "}\n",
       "\n",
       "/* Estimator label */\n",
       "\n",
       "#sk-container-id-16 div.sk-label label {\n",
       "  font-family: monospace;\n",
       "  font-weight: bold;\n",
       "  display: inline-block;\n",
       "  line-height: 1.2em;\n",
       "}\n",
       "\n",
       "#sk-container-id-16 div.sk-label-container {\n",
       "  text-align: center;\n",
       "}\n",
       "\n",
       "/* Estimator-specific */\n",
       "#sk-container-id-16 div.sk-estimator {\n",
       "  font-family: monospace;\n",
       "  border: 1px dotted var(--sklearn-color-border-box);\n",
       "  border-radius: 0.25em;\n",
       "  box-sizing: border-box;\n",
       "  margin-bottom: 0.5em;\n",
       "  /* unfitted */\n",
       "  background-color: var(--sklearn-color-unfitted-level-0);\n",
       "}\n",
       "\n",
       "#sk-container-id-16 div.sk-estimator.fitted {\n",
       "  /* fitted */\n",
       "  background-color: var(--sklearn-color-fitted-level-0);\n",
       "}\n",
       "\n",
       "/* on hover */\n",
       "#sk-container-id-16 div.sk-estimator:hover {\n",
       "  /* unfitted */\n",
       "  background-color: var(--sklearn-color-unfitted-level-2);\n",
       "}\n",
       "\n",
       "#sk-container-id-16 div.sk-estimator.fitted:hover {\n",
       "  /* fitted */\n",
       "  background-color: var(--sklearn-color-fitted-level-2);\n",
       "}\n",
       "\n",
       "/* Specification for estimator info (e.g. \"i\" and \"?\") */\n",
       "\n",
       "/* Common style for \"i\" and \"?\" */\n",
       "\n",
       ".sk-estimator-doc-link,\n",
       "a:link.sk-estimator-doc-link,\n",
       "a:visited.sk-estimator-doc-link {\n",
       "  float: right;\n",
       "  font-size: smaller;\n",
       "  line-height: 1em;\n",
       "  font-family: monospace;\n",
       "  background-color: var(--sklearn-color-background);\n",
       "  border-radius: 1em;\n",
       "  height: 1em;\n",
       "  width: 1em;\n",
       "  text-decoration: none !important;\n",
       "  margin-left: 0.5em;\n",
       "  text-align: center;\n",
       "  /* unfitted */\n",
       "  border: var(--sklearn-color-unfitted-level-1) 1pt solid;\n",
       "  color: var(--sklearn-color-unfitted-level-1);\n",
       "}\n",
       "\n",
       ".sk-estimator-doc-link.fitted,\n",
       "a:link.sk-estimator-doc-link.fitted,\n",
       "a:visited.sk-estimator-doc-link.fitted {\n",
       "  /* fitted */\n",
       "  border: var(--sklearn-color-fitted-level-1) 1pt solid;\n",
       "  color: var(--sklearn-color-fitted-level-1);\n",
       "}\n",
       "\n",
       "/* On hover */\n",
       "div.sk-estimator:hover .sk-estimator-doc-link:hover,\n",
       ".sk-estimator-doc-link:hover,\n",
       "div.sk-label-container:hover .sk-estimator-doc-link:hover,\n",
       ".sk-estimator-doc-link:hover {\n",
       "  /* unfitted */\n",
       "  background-color: var(--sklearn-color-unfitted-level-3);\n",
       "  color: var(--sklearn-color-background);\n",
       "  text-decoration: none;\n",
       "}\n",
       "\n",
       "div.sk-estimator.fitted:hover .sk-estimator-doc-link.fitted:hover,\n",
       ".sk-estimator-doc-link.fitted:hover,\n",
       "div.sk-label-container:hover .sk-estimator-doc-link.fitted:hover,\n",
       ".sk-estimator-doc-link.fitted:hover {\n",
       "  /* fitted */\n",
       "  background-color: var(--sklearn-color-fitted-level-3);\n",
       "  color: var(--sklearn-color-background);\n",
       "  text-decoration: none;\n",
       "}\n",
       "\n",
       "/* Span, style for the box shown on hovering the info icon */\n",
       ".sk-estimator-doc-link span {\n",
       "  display: none;\n",
       "  z-index: 9999;\n",
       "  position: relative;\n",
       "  font-weight: normal;\n",
       "  right: .2ex;\n",
       "  padding: .5ex;\n",
       "  margin: .5ex;\n",
       "  width: min-content;\n",
       "  min-width: 20ex;\n",
       "  max-width: 50ex;\n",
       "  color: var(--sklearn-color-text);\n",
       "  box-shadow: 2pt 2pt 4pt #999;\n",
       "  /* unfitted */\n",
       "  background: var(--sklearn-color-unfitted-level-0);\n",
       "  border: .5pt solid var(--sklearn-color-unfitted-level-3);\n",
       "}\n",
       "\n",
       ".sk-estimator-doc-link.fitted span {\n",
       "  /* fitted */\n",
       "  background: var(--sklearn-color-fitted-level-0);\n",
       "  border: var(--sklearn-color-fitted-level-3);\n",
       "}\n",
       "\n",
       ".sk-estimator-doc-link:hover span {\n",
       "  display: block;\n",
       "}\n",
       "\n",
       "/* \"?\"-specific style due to the `<a>` HTML tag */\n",
       "\n",
       "#sk-container-id-16 a.estimator_doc_link {\n",
       "  float: right;\n",
       "  font-size: 1rem;\n",
       "  line-height: 1em;\n",
       "  font-family: monospace;\n",
       "  background-color: var(--sklearn-color-background);\n",
       "  border-radius: 1rem;\n",
       "  height: 1rem;\n",
       "  width: 1rem;\n",
       "  text-decoration: none;\n",
       "  /* unfitted */\n",
       "  color: var(--sklearn-color-unfitted-level-1);\n",
       "  border: var(--sklearn-color-unfitted-level-1) 1pt solid;\n",
       "}\n",
       "\n",
       "#sk-container-id-16 a.estimator_doc_link.fitted {\n",
       "  /* fitted */\n",
       "  border: var(--sklearn-color-fitted-level-1) 1pt solid;\n",
       "  color: var(--sklearn-color-fitted-level-1);\n",
       "}\n",
       "\n",
       "/* On hover */\n",
       "#sk-container-id-16 a.estimator_doc_link:hover {\n",
       "  /* unfitted */\n",
       "  background-color: var(--sklearn-color-unfitted-level-3);\n",
       "  color: var(--sklearn-color-background);\n",
       "  text-decoration: none;\n",
       "}\n",
       "\n",
       "#sk-container-id-16 a.estimator_doc_link.fitted:hover {\n",
       "  /* fitted */\n",
       "  background-color: var(--sklearn-color-fitted-level-3);\n",
       "}\n",
       "</style><div id=\"sk-container-id-16\" class=\"sk-top-container\"><div class=\"sk-text-repr-fallback\"><pre>StackingRegressor(estimators=[(&#x27;xgb&#x27;,\n",
       "                               XGBRegressor(base_score=None, booster=None,\n",
       "                                            callbacks=None,\n",
       "                                            colsample_bylevel=None,\n",
       "                                            colsample_bynode=None,\n",
       "                                            colsample_bytree=0.9130130244378137,\n",
       "                                            device=None,\n",
       "                                            early_stopping_rounds=None,\n",
       "                                            enable_categorical=False,\n",
       "                                            eval_metric=None,\n",
       "                                            feature_types=None,\n",
       "                                            feature_weights=None,\n",
       "                                            gamma=0.0855901417123143,\n",
       "                                            grow_policy=None,\n",
       "                                            importance_t...\n",
       "                                            max_cat_threshold=None,\n",
       "                                            max_cat_to_onehot=None,\n",
       "                                            max_delta_step=None, max_depth=6,\n",
       "                                            max_leaves=None, min_child_weight=8,\n",
       "                                            missing=nan,\n",
       "                                            monotone_constraints=None,\n",
       "                                            multi_strategy=None,\n",
       "                                            n_estimators=159, n_jobs=None,\n",
       "                                            num_parallel_tree=None, ...)),\n",
       "                              (&#x27;lgbm&#x27;,\n",
       "                               LGBMRegressor(learning_rate=0.03968366238918349,\n",
       "                                             max_depth=11, n_estimators=157,\n",
       "                                             num_leaves=2560))],\n",
       "                  final_estimator=LinearRegression())</pre><b>In a Jupyter environment, please rerun this cell to show the HTML representation or trust the notebook. <br />On GitHub, the HTML representation is unable to render, please try loading this page with nbviewer.org.</b></div><div class=\"sk-container\" hidden><div class=\"sk-item sk-dashed-wrapped\"><div class=\"sk-label-container\"><div class=\"sk-label fitted sk-toggleable\"><input class=\"sk-toggleable__control sk-hidden--visually\" id=\"sk-estimator-id-43\" type=\"checkbox\" ><label for=\"sk-estimator-id-43\" class=\"sk-toggleable__label fitted sk-toggleable__label-arrow\"><div><div>StackingRegressor</div></div><div><a class=\"sk-estimator-doc-link fitted\" rel=\"noreferrer\" target=\"_blank\" href=\"https://scikit-learn.org/1.6/modules/generated/sklearn.ensemble.StackingRegressor.html\">?<span>Documentation for StackingRegressor</span></a><span class=\"sk-estimator-doc-link fitted\">i<span>Fitted</span></span></div></label><div class=\"sk-toggleable__content fitted\"><pre>StackingRegressor(estimators=[(&#x27;xgb&#x27;,\n",
       "                               XGBRegressor(base_score=None, booster=None,\n",
       "                                            callbacks=None,\n",
       "                                            colsample_bylevel=None,\n",
       "                                            colsample_bynode=None,\n",
       "                                            colsample_bytree=0.9130130244378137,\n",
       "                                            device=None,\n",
       "                                            early_stopping_rounds=None,\n",
       "                                            enable_categorical=False,\n",
       "                                            eval_metric=None,\n",
       "                                            feature_types=None,\n",
       "                                            feature_weights=None,\n",
       "                                            gamma=0.0855901417123143,\n",
       "                                            grow_policy=None,\n",
       "                                            importance_t...\n",
       "                                            max_cat_threshold=None,\n",
       "                                            max_cat_to_onehot=None,\n",
       "                                            max_delta_step=None, max_depth=6,\n",
       "                                            max_leaves=None, min_child_weight=8,\n",
       "                                            missing=nan,\n",
       "                                            monotone_constraints=None,\n",
       "                                            multi_strategy=None,\n",
       "                                            n_estimators=159, n_jobs=None,\n",
       "                                            num_parallel_tree=None, ...)),\n",
       "                              (&#x27;lgbm&#x27;,\n",
       "                               LGBMRegressor(learning_rate=0.03968366238918349,\n",
       "                                             max_depth=11, n_estimators=157,\n",
       "                                             num_leaves=2560))],\n",
       "                  final_estimator=LinearRegression())</pre></div> </div></div><div class=\"sk-serial\"><div class=\"sk-item\"><div class=\"sk-parallel\"><div class=\"sk-parallel-item\"><div class=\"sk-item\"><div class=\"sk-label-container\"><div class=\"sk-label fitted sk-toggleable\"><label>xgb</label></div></div><div class=\"sk-serial\"><div class=\"sk-item\"><div class=\"sk-estimator fitted sk-toggleable\"><input class=\"sk-toggleable__control sk-hidden--visually\" id=\"sk-estimator-id-44\" type=\"checkbox\" ><label for=\"sk-estimator-id-44\" class=\"sk-toggleable__label fitted sk-toggleable__label-arrow\"><div><div>XGBRegressor</div></div><div><a class=\"sk-estimator-doc-link fitted\" rel=\"noreferrer\" target=\"_blank\" href=\"https://xgboost.readthedocs.io/en/release_3.0.0/python/python_api.html#xgboost.XGBRegressor\">?<span>Documentation for XGBRegressor</span></a></div></label><div class=\"sk-toggleable__content fitted\"><pre>XGBRegressor(base_score=None, booster=None, callbacks=None,\n",
       "             colsample_bylevel=None, colsample_bynode=None,\n",
       "             colsample_bytree=0.9130130244378137, device=None,\n",
       "             early_stopping_rounds=None, enable_categorical=False,\n",
       "             eval_metric=None, feature_types=None, feature_weights=None,\n",
       "             gamma=0.0855901417123143, grow_policy=None, importance_type=None,\n",
       "             interaction_constraints=None, learning_rate=0.07405923289435414,\n",
       "             max_bin=None, max_cat_threshold=None, max_cat_to_onehot=None,\n",
       "             max_delta_step=None, max_depth=6, max_leaves=None,\n",
       "             min_child_weight=8, missing=nan, monotone_constraints=None,\n",
       "             multi_strategy=None, n_estimators=159, n_jobs=None,\n",
       "             num_parallel_tree=None, ...)</pre></div> </div></div></div></div></div><div class=\"sk-parallel-item\"><div class=\"sk-item\"><div class=\"sk-label-container\"><div class=\"sk-label fitted sk-toggleable\"><label>lgbm</label></div></div><div class=\"sk-serial\"><div class=\"sk-item\"><div class=\"sk-estimator fitted sk-toggleable\"><input class=\"sk-toggleable__control sk-hidden--visually\" id=\"sk-estimator-id-45\" type=\"checkbox\" ><label for=\"sk-estimator-id-45\" class=\"sk-toggleable__label fitted sk-toggleable__label-arrow\"><div><div>LGBMRegressor</div></div></label><div class=\"sk-toggleable__content fitted\"><pre>LGBMRegressor(learning_rate=0.03968366238918349, max_depth=11, n_estimators=157,\n",
       "              num_leaves=2560)</pre></div> </div></div></div></div></div></div></div><div class=\"sk-item\"><div class=\"sk-parallel\"><div class=\"sk-parallel-item\"><div class=\"sk-item\"><div class=\"sk-label-container\"><div class=\"sk-label fitted sk-toggleable\"><label>final_estimator</label></div></div><div class=\"sk-serial\"><div class=\"sk-item\"><div class=\"sk-estimator fitted sk-toggleable\"><input class=\"sk-toggleable__control sk-hidden--visually\" id=\"sk-estimator-id-46\" type=\"checkbox\" ><label for=\"sk-estimator-id-46\" class=\"sk-toggleable__label fitted sk-toggleable__label-arrow\"><div><div>LinearRegression</div></div><div><a class=\"sk-estimator-doc-link fitted\" rel=\"noreferrer\" target=\"_blank\" href=\"https://scikit-learn.org/1.6/modules/generated/sklearn.linear_model.LinearRegression.html\">?<span>Documentation for LinearRegression</span></a></div></label><div class=\"sk-toggleable__content fitted\"><pre>LinearRegression()</pre></div> </div></div></div></div></div></div></div></div></div></div></div>"
      ],
      "text/plain": [
       "StackingRegressor(estimators=[('xgb',\n",
       "                               XGBRegressor(base_score=None, booster=None,\n",
       "                                            callbacks=None,\n",
       "                                            colsample_bylevel=None,\n",
       "                                            colsample_bynode=None,\n",
       "                                            colsample_bytree=0.9130130244378137,\n",
       "                                            device=None,\n",
       "                                            early_stopping_rounds=None,\n",
       "                                            enable_categorical=False,\n",
       "                                            eval_metric=None,\n",
       "                                            feature_types=None,\n",
       "                                            feature_weights=None,\n",
       "                                            gamma=0.0855901417123143,\n",
       "                                            grow_policy=None,\n",
       "                                            importance_t...\n",
       "                                            max_cat_threshold=None,\n",
       "                                            max_cat_to_onehot=None,\n",
       "                                            max_delta_step=None, max_depth=6,\n",
       "                                            max_leaves=None, min_child_weight=8,\n",
       "                                            missing=nan,\n",
       "                                            monotone_constraints=None,\n",
       "                                            multi_strategy=None,\n",
       "                                            n_estimators=159, n_jobs=None,\n",
       "                                            num_parallel_tree=None, ...)),\n",
       "                              ('lgbm',\n",
       "                               LGBMRegressor(learning_rate=0.03968366238918349,\n",
       "                                             max_depth=11, n_estimators=157,\n",
       "                                             num_leaves=2560))],\n",
       "                  final_estimator=LinearRegression())"
      ]
     },
     "execution_count": 158,
     "metadata": {},
     "output_type": "execute_result"
    }
   ],
   "source": [
    "from sklearn.ensemble import StackingRegressor\n",
    "\n",
    "estimators=[('xgb',xgb_model),('lgbm',lgbm_model)]\n",
    "\n",
    "stacking_model=StackingRegressor(estimators=estimators,final_estimator=LinearRegression())\n",
    "\n",
    "stacking_model.fit(X_train,y_train)"
   ]
  },
  {
   "cell_type": "code",
   "execution_count": 159,
   "metadata": {},
   "outputs": [],
   "source": [
    "X_test=df.loc[df[target_column]==-1,train_columns]"
   ]
  },
  {
   "cell_type": "code",
   "execution_count": 163,
   "metadata": {},
   "outputs": [
    {
     "data": {
      "text/html": [
       "<div>\n",
       "<style scoped>\n",
       "    .dataframe tbody tr th:only-of-type {\n",
       "        vertical-align: middle;\n",
       "    }\n",
       "\n",
       "    .dataframe tbody tr th {\n",
       "        vertical-align: top;\n",
       "    }\n",
       "\n",
       "    .dataframe thead th {\n",
       "        text-align: right;\n",
       "    }\n",
       "</style>\n",
       "<table border=\"1\" class=\"dataframe\">\n",
       "  <thead>\n",
       "    <tr style=\"text-align: right;\">\n",
       "      <th></th>\n",
       "      <th>MSSubClass</th>\n",
       "      <th>MSZoning</th>\n",
       "      <th>LotFrontage</th>\n",
       "      <th>LotArea</th>\n",
       "      <th>Street</th>\n",
       "      <th>Alley</th>\n",
       "      <th>LotShape</th>\n",
       "      <th>LandContour</th>\n",
       "      <th>Utilities</th>\n",
       "      <th>LotConfig</th>\n",
       "      <th>LandSlope</th>\n",
       "      <th>Neighborhood</th>\n",
       "      <th>Condition1</th>\n",
       "      <th>Condition2</th>\n",
       "      <th>BldgType</th>\n",
       "      <th>HouseStyle</th>\n",
       "      <th>OverallQual</th>\n",
       "      <th>OverallCond</th>\n",
       "      <th>YearBuilt</th>\n",
       "      <th>YearRemodAdd</th>\n",
       "      <th>RoofStyle</th>\n",
       "      <th>RoofMatl</th>\n",
       "      <th>Exterior1st</th>\n",
       "      <th>Exterior2nd</th>\n",
       "      <th>MasVnrType</th>\n",
       "      <th>MasVnrArea</th>\n",
       "      <th>ExterQual</th>\n",
       "      <th>ExterCond</th>\n",
       "      <th>Foundation</th>\n",
       "      <th>BsmtQual</th>\n",
       "      <th>BsmtCond</th>\n",
       "      <th>BsmtExposure</th>\n",
       "      <th>BsmtFinType1</th>\n",
       "      <th>BsmtFinSF1</th>\n",
       "      <th>BsmtFinType2</th>\n",
       "      <th>BsmtFinSF2</th>\n",
       "      <th>BsmtUnfSF</th>\n",
       "      <th>TotalBsmtSF</th>\n",
       "      <th>Heating</th>\n",
       "      <th>HeatingQC</th>\n",
       "      <th>CentralAir</th>\n",
       "      <th>Electrical</th>\n",
       "      <th>1stFlrSF</th>\n",
       "      <th>2ndFlrSF</th>\n",
       "      <th>LowQualFinSF</th>\n",
       "      <th>GrLivArea</th>\n",
       "      <th>BsmtFullBath</th>\n",
       "      <th>BsmtHalfBath</th>\n",
       "      <th>FullBath</th>\n",
       "      <th>HalfBath</th>\n",
       "      <th>BedroomAbvGr</th>\n",
       "      <th>KitchenAbvGr</th>\n",
       "      <th>KitchenQual</th>\n",
       "      <th>TotRmsAbvGrd</th>\n",
       "      <th>Functional</th>\n",
       "      <th>Fireplaces</th>\n",
       "      <th>FireplaceQu</th>\n",
       "      <th>GarageType</th>\n",
       "      <th>GarageYrBlt</th>\n",
       "      <th>GarageFinish</th>\n",
       "      <th>GarageCars</th>\n",
       "      <th>GarageArea</th>\n",
       "      <th>GarageQual</th>\n",
       "      <th>GarageCond</th>\n",
       "      <th>PavedDrive</th>\n",
       "      <th>WoodDeckSF</th>\n",
       "      <th>OpenPorchSF</th>\n",
       "      <th>EnclosedPorch</th>\n",
       "      <th>3SsnPorch</th>\n",
       "      <th>ScreenPorch</th>\n",
       "      <th>PoolArea</th>\n",
       "      <th>PoolQC</th>\n",
       "      <th>Fence</th>\n",
       "      <th>MiscFeature</th>\n",
       "      <th>MiscVal</th>\n",
       "      <th>MoSold</th>\n",
       "      <th>YrSold</th>\n",
       "      <th>SaleType</th>\n",
       "      <th>SaleCondition</th>\n",
       "    </tr>\n",
       "  </thead>\n",
       "  <tbody>\n",
       "    <tr>\n",
       "      <th>0</th>\n",
       "      <td>-0.873616</td>\n",
       "      <td>RH</td>\n",
       "      <td>0.458190</td>\n",
       "      <td>0.184371</td>\n",
       "      <td>1</td>\n",
       "      <td>2</td>\n",
       "      <td>3</td>\n",
       "      <td>3</td>\n",
       "      <td>0</td>\n",
       "      <td>4</td>\n",
       "      <td>0</td>\n",
       "      <td>12</td>\n",
       "      <td>1</td>\n",
       "      <td>2</td>\n",
       "      <td>0</td>\n",
       "      <td>2</td>\n",
       "      <td>-0.772552</td>\n",
       "      <td>0.391237</td>\n",
       "      <td>-0.340510</td>\n",
       "      <td>-1.113625</td>\n",
       "      <td>1</td>\n",
       "      <td>1</td>\n",
       "      <td>12</td>\n",
       "      <td>13</td>\n",
       "      <td>3</td>\n",
       "      <td>-0.569991</td>\n",
       "      <td>3</td>\n",
       "      <td>4</td>\n",
       "      <td>1</td>\n",
       "      <td>3</td>\n",
       "      <td>3</td>\n",
       "      <td>3</td>\n",
       "      <td>4</td>\n",
       "      <td>0.058342</td>\n",
       "      <td>3</td>\n",
       "      <td>0.558102</td>\n",
       "      <td>-0.661645</td>\n",
       "      <td>-0.385253</td>\n",
       "      <td>1</td>\n",
       "      <td>4</td>\n",
       "      <td>1</td>\n",
       "      <td>4</td>\n",
       "      <td>-0.671897</td>\n",
       "      <td>-0.785025</td>\n",
       "      <td>-0.101197</td>\n",
       "      <td>-1.195262</td>\n",
       "      <td>-0.819398</td>\n",
       "      <td>-0.249810</td>\n",
       "      <td>-1.027363</td>\n",
       "      <td>-0.756321</td>\n",
       "      <td>-1.045801</td>\n",
       "      <td>-0.207698</td>\n",
       "      <td>3</td>\n",
       "      <td>-0.925062</td>\n",
       "      <td>6</td>\n",
       "      <td>-0.924311</td>\n",
       "      <td>5</td>\n",
       "      <td>1</td>\n",
       "      <td>-0.669286</td>\n",
       "      <td>2</td>\n",
       "      <td>-1.006733</td>\n",
       "      <td>1.193945</td>\n",
       "      <td>4</td>\n",
       "      <td>4</td>\n",
       "      <td>2</td>\n",
       "      <td>0.365916</td>\n",
       "      <td>-0.702843</td>\n",
       "      <td>-0.359601</td>\n",
       "      <td>-0.103331</td>\n",
       "      <td>1.850256</td>\n",
       "      <td>-0.06315</td>\n",
       "      <td>3</td>\n",
       "      <td>2</td>\n",
       "      <td>4</td>\n",
       "      <td>-0.089592</td>\n",
       "      <td>-0.078505</td>\n",
       "      <td>1.678860</td>\n",
       "      <td>8</td>\n",
       "      <td>4</td>\n",
       "    </tr>\n",
       "    <tr>\n",
       "      <th>1</th>\n",
       "      <td>-0.873616</td>\n",
       "      <td>RL</td>\n",
       "      <td>0.501035</td>\n",
       "      <td>0.519791</td>\n",
       "      <td>1</td>\n",
       "      <td>2</td>\n",
       "      <td>0</td>\n",
       "      <td>3</td>\n",
       "      <td>0</td>\n",
       "      <td>0</td>\n",
       "      <td>0</td>\n",
       "      <td>12</td>\n",
       "      <td>2</td>\n",
       "      <td>2</td>\n",
       "      <td>0</td>\n",
       "      <td>2</td>\n",
       "      <td>-0.063185</td>\n",
       "      <td>0.391237</td>\n",
       "      <td>-0.439565</td>\n",
       "      <td>-1.257229</td>\n",
       "      <td>3</td>\n",
       "      <td>1</td>\n",
       "      <td>13</td>\n",
       "      <td>14</td>\n",
       "      <td>1</td>\n",
       "      <td>0.032340</td>\n",
       "      <td>3</td>\n",
       "      <td>4</td>\n",
       "      <td>1</td>\n",
       "      <td>3</td>\n",
       "      <td>3</td>\n",
       "      <td>3</td>\n",
       "      <td>0</td>\n",
       "      <td>1.057173</td>\n",
       "      <td>5</td>\n",
       "      <td>-0.293080</td>\n",
       "      <td>-0.352180</td>\n",
       "      <td>0.629063</td>\n",
       "      <td>1</td>\n",
       "      <td>4</td>\n",
       "      <td>1</td>\n",
       "      <td>4</td>\n",
       "      <td>0.431865</td>\n",
       "      <td>-0.785025</td>\n",
       "      <td>-0.101197</td>\n",
       "      <td>-0.339470</td>\n",
       "      <td>-0.819398</td>\n",
       "      <td>-0.249810</td>\n",
       "      <td>-1.027363</td>\n",
       "      <td>1.232599</td>\n",
       "      <td>0.169927</td>\n",
       "      <td>-0.207698</td>\n",
       "      <td>2</td>\n",
       "      <td>-0.287758</td>\n",
       "      <td>6</td>\n",
       "      <td>-0.924311</td>\n",
       "      <td>5</td>\n",
       "      <td>1</td>\n",
       "      <td>-0.786612</td>\n",
       "      <td>2</td>\n",
       "      <td>-1.006733</td>\n",
       "      <td>-0.747010</td>\n",
       "      <td>4</td>\n",
       "      <td>4</td>\n",
       "      <td>2</td>\n",
       "      <td>2.365838</td>\n",
       "      <td>-0.170014</td>\n",
       "      <td>-0.359601</td>\n",
       "      <td>-0.103331</td>\n",
       "      <td>-0.285935</td>\n",
       "      <td>-0.06315</td>\n",
       "      <td>3</td>\n",
       "      <td>4</td>\n",
       "      <td>0</td>\n",
       "      <td>21.944410</td>\n",
       "      <td>-0.078505</td>\n",
       "      <td>1.678860</td>\n",
       "      <td>8</td>\n",
       "      <td>4</td>\n",
       "    </tr>\n",
       "    <tr>\n",
       "      <th>2</th>\n",
       "      <td>0.067331</td>\n",
       "      <td>RL</td>\n",
       "      <td>0.201122</td>\n",
       "      <td>0.464374</td>\n",
       "      <td>1</td>\n",
       "      <td>2</td>\n",
       "      <td>0</td>\n",
       "      <td>3</td>\n",
       "      <td>0</td>\n",
       "      <td>4</td>\n",
       "      <td>0</td>\n",
       "      <td>8</td>\n",
       "      <td>2</td>\n",
       "      <td>2</td>\n",
       "      <td>0</td>\n",
       "      <td>5</td>\n",
       "      <td>-0.772552</td>\n",
       "      <td>-0.507284</td>\n",
       "      <td>0.848148</td>\n",
       "      <td>0.657493</td>\n",
       "      <td>1</td>\n",
       "      <td>1</td>\n",
       "      <td>12</td>\n",
       "      <td>13</td>\n",
       "      <td>3</td>\n",
       "      <td>-0.569991</td>\n",
       "      <td>3</td>\n",
       "      <td>4</td>\n",
       "      <td>2</td>\n",
       "      <td>2</td>\n",
       "      <td>3</td>\n",
       "      <td>3</td>\n",
       "      <td>2</td>\n",
       "      <td>0.767402</td>\n",
       "      <td>5</td>\n",
       "      <td>-0.293080</td>\n",
       "      <td>-0.964284</td>\n",
       "      <td>-0.280872</td>\n",
       "      <td>1</td>\n",
       "      <td>2</td>\n",
       "      <td>1</td>\n",
       "      <td>4</td>\n",
       "      <td>-0.590326</td>\n",
       "      <td>0.850426</td>\n",
       "      <td>-0.101197</td>\n",
       "      <td>0.253457</td>\n",
       "      <td>-0.819398</td>\n",
       "      <td>-0.249810</td>\n",
       "      <td>0.781366</td>\n",
       "      <td>1.232599</td>\n",
       "      <td>0.169927</td>\n",
       "      <td>-0.207698</td>\n",
       "      <td>3</td>\n",
       "      <td>-0.287758</td>\n",
       "      <td>6</td>\n",
       "      <td>0.623632</td>\n",
       "      <td>4</td>\n",
       "      <td>1</td>\n",
       "      <td>0.738633</td>\n",
       "      <td>0</td>\n",
       "      <td>0.306475</td>\n",
       "      <td>0.042373</td>\n",
       "      <td>4</td>\n",
       "      <td>4</td>\n",
       "      <td>2</td>\n",
       "      <td>0.935064</td>\n",
       "      <td>-0.199616</td>\n",
       "      <td>-0.359601</td>\n",
       "      <td>-0.103331</td>\n",
       "      <td>-0.285935</td>\n",
       "      <td>-0.06315</td>\n",
       "      <td>3</td>\n",
       "      <td>2</td>\n",
       "      <td>4</td>\n",
       "      <td>-0.089592</td>\n",
       "      <td>-1.183764</td>\n",
       "      <td>1.678860</td>\n",
       "      <td>8</td>\n",
       "      <td>4</td>\n",
       "    </tr>\n",
       "    <tr>\n",
       "      <th>3</th>\n",
       "      <td>0.067331</td>\n",
       "      <td>RL</td>\n",
       "      <td>0.372501</td>\n",
       "      <td>-0.024109</td>\n",
       "      <td>1</td>\n",
       "      <td>2</td>\n",
       "      <td>0</td>\n",
       "      <td>3</td>\n",
       "      <td>0</td>\n",
       "      <td>4</td>\n",
       "      <td>0</td>\n",
       "      <td>8</td>\n",
       "      <td>2</td>\n",
       "      <td>2</td>\n",
       "      <td>0</td>\n",
       "      <td>5</td>\n",
       "      <td>-0.063185</td>\n",
       "      <td>0.391237</td>\n",
       "      <td>0.881166</td>\n",
       "      <td>0.657493</td>\n",
       "      <td>1</td>\n",
       "      <td>1</td>\n",
       "      <td>12</td>\n",
       "      <td>13</td>\n",
       "      <td>1</td>\n",
       "      <td>-0.458448</td>\n",
       "      <td>3</td>\n",
       "      <td>4</td>\n",
       "      <td>2</td>\n",
       "      <td>3</td>\n",
       "      <td>3</td>\n",
       "      <td>3</td>\n",
       "      <td>2</td>\n",
       "      <td>0.352503</td>\n",
       "      <td>5</td>\n",
       "      <td>-0.293080</td>\n",
       "      <td>-0.538769</td>\n",
       "      <td>-0.285410</td>\n",
       "      <td>1</td>\n",
       "      <td>0</td>\n",
       "      <td>1</td>\n",
       "      <td>4</td>\n",
       "      <td>-0.595424</td>\n",
       "      <td>0.796766</td>\n",
       "      <td>-0.101197</td>\n",
       "      <td>0.204046</td>\n",
       "      <td>-0.819398</td>\n",
       "      <td>-0.249810</td>\n",
       "      <td>0.781366</td>\n",
       "      <td>1.232599</td>\n",
       "      <td>0.169927</td>\n",
       "      <td>-0.207698</td>\n",
       "      <td>2</td>\n",
       "      <td>0.349546</td>\n",
       "      <td>6</td>\n",
       "      <td>0.623632</td>\n",
       "      <td>2</td>\n",
       "      <td>1</td>\n",
       "      <td>0.777742</td>\n",
       "      <td>0</td>\n",
       "      <td>0.306475</td>\n",
       "      <td>-0.013348</td>\n",
       "      <td>4</td>\n",
       "      <td>4</td>\n",
       "      <td>2</td>\n",
       "      <td>2.104979</td>\n",
       "      <td>-0.170014</td>\n",
       "      <td>-0.359601</td>\n",
       "      <td>-0.103331</td>\n",
       "      <td>-0.285935</td>\n",
       "      <td>-0.06315</td>\n",
       "      <td>3</td>\n",
       "      <td>4</td>\n",
       "      <td>4</td>\n",
       "      <td>-0.089592</td>\n",
       "      <td>-0.078505</td>\n",
       "      <td>1.678860</td>\n",
       "      <td>8</td>\n",
       "      <td>4</td>\n",
       "    </tr>\n",
       "    <tr>\n",
       "      <th>4</th>\n",
       "      <td>1.478753</td>\n",
       "      <td>RL</td>\n",
       "      <td>-1.127064</td>\n",
       "      <td>-0.654748</td>\n",
       "      <td>1</td>\n",
       "      <td>2</td>\n",
       "      <td>0</td>\n",
       "      <td>1</td>\n",
       "      <td>0</td>\n",
       "      <td>4</td>\n",
       "      <td>0</td>\n",
       "      <td>22</td>\n",
       "      <td>2</td>\n",
       "      <td>2</td>\n",
       "      <td>4</td>\n",
       "      <td>2</td>\n",
       "      <td>1.355551</td>\n",
       "      <td>-0.507284</td>\n",
       "      <td>0.683057</td>\n",
       "      <td>0.370284</td>\n",
       "      <td>1</td>\n",
       "      <td>1</td>\n",
       "      <td>6</td>\n",
       "      <td>6</td>\n",
       "      <td>3</td>\n",
       "      <td>-0.569991</td>\n",
       "      <td>2</td>\n",
       "      <td>4</td>\n",
       "      <td>2</td>\n",
       "      <td>2</td>\n",
       "      <td>3</td>\n",
       "      <td>3</td>\n",
       "      <td>0</td>\n",
       "      <td>-0.391680</td>\n",
       "      <td>5</td>\n",
       "      <td>-0.293080</td>\n",
       "      <td>1.038136</td>\n",
       "      <td>0.517874</td>\n",
       "      <td>1</td>\n",
       "      <td>0</td>\n",
       "      <td>1</td>\n",
       "      <td>4</td>\n",
       "      <td>0.306959</td>\n",
       "      <td>-0.785025</td>\n",
       "      <td>-0.101197</td>\n",
       "      <td>-0.436315</td>\n",
       "      <td>-0.819398</td>\n",
       "      <td>-0.249810</td>\n",
       "      <td>0.781366</td>\n",
       "      <td>-0.756321</td>\n",
       "      <td>-1.045801</td>\n",
       "      <td>-0.207698</td>\n",
       "      <td>2</td>\n",
       "      <td>-0.925062</td>\n",
       "      <td>6</td>\n",
       "      <td>-0.924311</td>\n",
       "      <td>5</td>\n",
       "      <td>1</td>\n",
       "      <td>0.543089</td>\n",
       "      <td>1</td>\n",
       "      <td>0.306475</td>\n",
       "      <td>0.153816</td>\n",
       "      <td>4</td>\n",
       "      <td>4</td>\n",
       "      <td>2</td>\n",
       "      <td>-0.740760</td>\n",
       "      <td>0.510823</td>\n",
       "      <td>-0.359601</td>\n",
       "      <td>-0.103331</td>\n",
       "      <td>2.277494</td>\n",
       "      <td>-0.06315</td>\n",
       "      <td>3</td>\n",
       "      <td>4</td>\n",
       "      <td>4</td>\n",
       "      <td>-0.089592</td>\n",
       "      <td>-1.920603</td>\n",
       "      <td>1.678860</td>\n",
       "      <td>8</td>\n",
       "      <td>4</td>\n",
       "    </tr>\n",
       "    <tr>\n",
       "      <th>...</th>\n",
       "      <td>...</td>\n",
       "      <td>...</td>\n",
       "      <td>...</td>\n",
       "      <td>...</td>\n",
       "      <td>...</td>\n",
       "      <td>...</td>\n",
       "      <td>...</td>\n",
       "      <td>...</td>\n",
       "      <td>...</td>\n",
       "      <td>...</td>\n",
       "      <td>...</td>\n",
       "      <td>...</td>\n",
       "      <td>...</td>\n",
       "      <td>...</td>\n",
       "      <td>...</td>\n",
       "      <td>...</td>\n",
       "      <td>...</td>\n",
       "      <td>...</td>\n",
       "      <td>...</td>\n",
       "      <td>...</td>\n",
       "      <td>...</td>\n",
       "      <td>...</td>\n",
       "      <td>...</td>\n",
       "      <td>...</td>\n",
       "      <td>...</td>\n",
       "      <td>...</td>\n",
       "      <td>...</td>\n",
       "      <td>...</td>\n",
       "      <td>...</td>\n",
       "      <td>...</td>\n",
       "      <td>...</td>\n",
       "      <td>...</td>\n",
       "      <td>...</td>\n",
       "      <td>...</td>\n",
       "      <td>...</td>\n",
       "      <td>...</td>\n",
       "      <td>...</td>\n",
       "      <td>...</td>\n",
       "      <td>...</td>\n",
       "      <td>...</td>\n",
       "      <td>...</td>\n",
       "      <td>...</td>\n",
       "      <td>...</td>\n",
       "      <td>...</td>\n",
       "      <td>...</td>\n",
       "      <td>...</td>\n",
       "      <td>...</td>\n",
       "      <td>...</td>\n",
       "      <td>...</td>\n",
       "      <td>...</td>\n",
       "      <td>...</td>\n",
       "      <td>...</td>\n",
       "      <td>...</td>\n",
       "      <td>...</td>\n",
       "      <td>...</td>\n",
       "      <td>...</td>\n",
       "      <td>...</td>\n",
       "      <td>...</td>\n",
       "      <td>...</td>\n",
       "      <td>...</td>\n",
       "      <td>...</td>\n",
       "      <td>...</td>\n",
       "      <td>...</td>\n",
       "      <td>...</td>\n",
       "      <td>...</td>\n",
       "      <td>...</td>\n",
       "      <td>...</td>\n",
       "      <td>...</td>\n",
       "      <td>...</td>\n",
       "      <td>...</td>\n",
       "      <td>...</td>\n",
       "      <td>...</td>\n",
       "      <td>...</td>\n",
       "      <td>...</td>\n",
       "      <td>...</td>\n",
       "      <td>...</td>\n",
       "      <td>...</td>\n",
       "      <td>...</td>\n",
       "      <td>...</td>\n",
       "    </tr>\n",
       "    <tr>\n",
       "      <th>1454</th>\n",
       "      <td>2.419700</td>\n",
       "      <td>RM</td>\n",
       "      <td>-2.069648</td>\n",
       "      <td>-1.043937</td>\n",
       "      <td>1</td>\n",
       "      <td>2</td>\n",
       "      <td>3</td>\n",
       "      <td>3</td>\n",
       "      <td>0</td>\n",
       "      <td>4</td>\n",
       "      <td>0</td>\n",
       "      <td>10</td>\n",
       "      <td>2</td>\n",
       "      <td>2</td>\n",
       "      <td>3</td>\n",
       "      <td>5</td>\n",
       "      <td>-1.481920</td>\n",
       "      <td>1.289758</td>\n",
       "      <td>-0.043346</td>\n",
       "      <td>-0.682812</td>\n",
       "      <td>1</td>\n",
       "      <td>1</td>\n",
       "      <td>5</td>\n",
       "      <td>5</td>\n",
       "      <td>3</td>\n",
       "      <td>-0.569991</td>\n",
       "      <td>3</td>\n",
       "      <td>4</td>\n",
       "      <td>1</td>\n",
       "      <td>3</td>\n",
       "      <td>3</td>\n",
       "      <td>3</td>\n",
       "      <td>5</td>\n",
       "      <td>-0.969026</td>\n",
       "      <td>5</td>\n",
       "      <td>-0.293080</td>\n",
       "      <td>-0.033614</td>\n",
       "      <td>-1.147693</td>\n",
       "      <td>1</td>\n",
       "      <td>2</td>\n",
       "      <td>1</td>\n",
       "      <td>4</td>\n",
       "      <td>-1.564083</td>\n",
       "      <td>0.488807</td>\n",
       "      <td>-0.101197</td>\n",
       "      <td>-0.807883</td>\n",
       "      <td>-0.819398</td>\n",
       "      <td>-0.249810</td>\n",
       "      <td>-1.027363</td>\n",
       "      <td>1.232599</td>\n",
       "      <td>0.169927</td>\n",
       "      <td>-0.207698</td>\n",
       "      <td>3</td>\n",
       "      <td>-0.925062</td>\n",
       "      <td>6</td>\n",
       "      <td>-0.924311</td>\n",
       "      <td>5</td>\n",
       "      <td>6</td>\n",
       "      <td>NaN</td>\n",
       "      <td>3</td>\n",
       "      <td>-2.319941</td>\n",
       "      <td>-2.195761</td>\n",
       "      <td>5</td>\n",
       "      <td>5</td>\n",
       "      <td>2</td>\n",
       "      <td>-0.740760</td>\n",
       "      <td>-0.702843</td>\n",
       "      <td>-0.359601</td>\n",
       "      <td>-0.103331</td>\n",
       "      <td>-0.285935</td>\n",
       "      <td>-0.06315</td>\n",
       "      <td>3</td>\n",
       "      <td>4</td>\n",
       "      <td>4</td>\n",
       "      <td>-0.089592</td>\n",
       "      <td>-0.078505</td>\n",
       "      <td>-1.363569</td>\n",
       "      <td>8</td>\n",
       "      <td>4</td>\n",
       "    </tr>\n",
       "    <tr>\n",
       "      <th>1455</th>\n",
       "      <td>2.419700</td>\n",
       "      <td>RM</td>\n",
       "      <td>-2.069648</td>\n",
       "      <td>-1.049263</td>\n",
       "      <td>1</td>\n",
       "      <td>2</td>\n",
       "      <td>3</td>\n",
       "      <td>3</td>\n",
       "      <td>0</td>\n",
       "      <td>4</td>\n",
       "      <td>0</td>\n",
       "      <td>10</td>\n",
       "      <td>2</td>\n",
       "      <td>2</td>\n",
       "      <td>4</td>\n",
       "      <td>5</td>\n",
       "      <td>-1.481920</td>\n",
       "      <td>-0.507284</td>\n",
       "      <td>-0.043346</td>\n",
       "      <td>-0.682812</td>\n",
       "      <td>1</td>\n",
       "      <td>1</td>\n",
       "      <td>5</td>\n",
       "      <td>5</td>\n",
       "      <td>3</td>\n",
       "      <td>-0.569991</td>\n",
       "      <td>3</td>\n",
       "      <td>4</td>\n",
       "      <td>1</td>\n",
       "      <td>3</td>\n",
       "      <td>3</td>\n",
       "      <td>3</td>\n",
       "      <td>4</td>\n",
       "      <td>-0.415828</td>\n",
       "      <td>5</td>\n",
       "      <td>-0.293080</td>\n",
       "      <td>-0.607034</td>\n",
       "      <td>-1.147693</td>\n",
       "      <td>1</td>\n",
       "      <td>4</td>\n",
       "      <td>1</td>\n",
       "      <td>4</td>\n",
       "      <td>-1.564083</td>\n",
       "      <td>0.488807</td>\n",
       "      <td>-0.101197</td>\n",
       "      <td>-0.807883</td>\n",
       "      <td>-0.819398</td>\n",
       "      <td>-0.249810</td>\n",
       "      <td>-1.027363</td>\n",
       "      <td>1.232599</td>\n",
       "      <td>0.169927</td>\n",
       "      <td>-0.207698</td>\n",
       "      <td>3</td>\n",
       "      <td>-0.287758</td>\n",
       "      <td>6</td>\n",
       "      <td>-0.924311</td>\n",
       "      <td>5</td>\n",
       "      <td>4</td>\n",
       "      <td>-0.317306</td>\n",
       "      <td>2</td>\n",
       "      <td>-1.006733</td>\n",
       "      <td>-0.867740</td>\n",
       "      <td>4</td>\n",
       "      <td>4</td>\n",
       "      <td>2</td>\n",
       "      <td>-0.740760</td>\n",
       "      <td>-0.347624</td>\n",
       "      <td>-0.359601</td>\n",
       "      <td>-0.103331</td>\n",
       "      <td>-0.285935</td>\n",
       "      <td>-0.06315</td>\n",
       "      <td>3</td>\n",
       "      <td>4</td>\n",
       "      <td>4</td>\n",
       "      <td>-0.089592</td>\n",
       "      <td>-0.815344</td>\n",
       "      <td>-1.363569</td>\n",
       "      <td>8</td>\n",
       "      <td>0</td>\n",
       "    </tr>\n",
       "    <tr>\n",
       "      <th>1456</th>\n",
       "      <td>-0.873616</td>\n",
       "      <td>RL</td>\n",
       "      <td>3.885767</td>\n",
       "      <td>1.246808</td>\n",
       "      <td>1</td>\n",
       "      <td>2</td>\n",
       "      <td>3</td>\n",
       "      <td>3</td>\n",
       "      <td>0</td>\n",
       "      <td>4</td>\n",
       "      <td>0</td>\n",
       "      <td>11</td>\n",
       "      <td>2</td>\n",
       "      <td>2</td>\n",
       "      <td>0</td>\n",
       "      <td>2</td>\n",
       "      <td>-0.772552</td>\n",
       "      <td>1.289758</td>\n",
       "      <td>-0.373528</td>\n",
       "      <td>0.561757</td>\n",
       "      <td>1</td>\n",
       "      <td>1</td>\n",
       "      <td>12</td>\n",
       "      <td>13</td>\n",
       "      <td>3</td>\n",
       "      <td>-0.569991</td>\n",
       "      <td>3</td>\n",
       "      <td>4</td>\n",
       "      <td>1</td>\n",
       "      <td>3</td>\n",
       "      <td>3</td>\n",
       "      <td>3</td>\n",
       "      <td>0</td>\n",
       "      <td>1.717937</td>\n",
       "      <td>5</td>\n",
       "      <td>-0.293080</td>\n",
       "      <td>-1.276024</td>\n",
       "      <td>0.390801</td>\n",
       "      <td>1</td>\n",
       "      <td>0</td>\n",
       "      <td>1</td>\n",
       "      <td>4</td>\n",
       "      <td>0.164209</td>\n",
       "      <td>-0.785025</td>\n",
       "      <td>-0.101197</td>\n",
       "      <td>-0.546995</td>\n",
       "      <td>1.086650</td>\n",
       "      <td>-0.249810</td>\n",
       "      <td>-1.027363</td>\n",
       "      <td>-0.756321</td>\n",
       "      <td>1.385655</td>\n",
       "      <td>-0.207698</td>\n",
       "      <td>3</td>\n",
       "      <td>0.349546</td>\n",
       "      <td>6</td>\n",
       "      <td>0.623632</td>\n",
       "      <td>4</td>\n",
       "      <td>5</td>\n",
       "      <td>-0.708395</td>\n",
       "      <td>2</td>\n",
       "      <td>0.306475</td>\n",
       "      <td>0.478856</td>\n",
       "      <td>4</td>\n",
       "      <td>4</td>\n",
       "      <td>2</td>\n",
       "      <td>3.006130</td>\n",
       "      <td>-0.702843</td>\n",
       "      <td>-0.359601</td>\n",
       "      <td>-0.103331</td>\n",
       "      <td>-0.285935</td>\n",
       "      <td>-0.06315</td>\n",
       "      <td>3</td>\n",
       "      <td>4</td>\n",
       "      <td>4</td>\n",
       "      <td>-0.089592</td>\n",
       "      <td>1.026753</td>\n",
       "      <td>-1.363569</td>\n",
       "      <td>8</td>\n",
       "      <td>0</td>\n",
       "    </tr>\n",
       "    <tr>\n",
       "      <th>1457</th>\n",
       "      <td>0.655424</td>\n",
       "      <td>RL</td>\n",
       "      <td>-0.313015</td>\n",
       "      <td>0.034605</td>\n",
       "      <td>1</td>\n",
       "      <td>2</td>\n",
       "      <td>3</td>\n",
       "      <td>3</td>\n",
       "      <td>0</td>\n",
       "      <td>4</td>\n",
       "      <td>0</td>\n",
       "      <td>11</td>\n",
       "      <td>2</td>\n",
       "      <td>2</td>\n",
       "      <td>0</td>\n",
       "      <td>6</td>\n",
       "      <td>-0.772552</td>\n",
       "      <td>-0.507284</td>\n",
       "      <td>0.683057</td>\n",
       "      <td>0.370284</td>\n",
       "      <td>1</td>\n",
       "      <td>1</td>\n",
       "      <td>6</td>\n",
       "      <td>15</td>\n",
       "      <td>3</td>\n",
       "      <td>-0.569991</td>\n",
       "      <td>3</td>\n",
       "      <td>4</td>\n",
       "      <td>2</td>\n",
       "      <td>2</td>\n",
       "      <td>3</td>\n",
       "      <td>0</td>\n",
       "      <td>2</td>\n",
       "      <td>-0.229233</td>\n",
       "      <td>5</td>\n",
       "      <td>-0.293080</td>\n",
       "      <td>0.032375</td>\n",
       "      <td>-0.317178</td>\n",
       "      <td>1</td>\n",
       "      <td>4</td>\n",
       "      <td>1</td>\n",
       "      <td>4</td>\n",
       "      <td>-0.483263</td>\n",
       "      <td>-0.785025</td>\n",
       "      <td>-0.101197</td>\n",
       "      <td>-1.049006</td>\n",
       "      <td>-0.819398</td>\n",
       "      <td>3.821109</td>\n",
       "      <td>-1.027363</td>\n",
       "      <td>-0.756321</td>\n",
       "      <td>0.169927</td>\n",
       "      <td>-0.207698</td>\n",
       "      <td>3</td>\n",
       "      <td>-0.287758</td>\n",
       "      <td>6</td>\n",
       "      <td>-0.924311</td>\n",
       "      <td>5</td>\n",
       "      <td>6</td>\n",
       "      <td>NaN</td>\n",
       "      <td>3</td>\n",
       "      <td>-2.319941</td>\n",
       "      <td>-2.195761</td>\n",
       "      <td>5</td>\n",
       "      <td>5</td>\n",
       "      <td>2</td>\n",
       "      <td>-0.108374</td>\n",
       "      <td>-0.229217</td>\n",
       "      <td>-0.359601</td>\n",
       "      <td>-0.103331</td>\n",
       "      <td>-0.285935</td>\n",
       "      <td>-0.06315</td>\n",
       "      <td>3</td>\n",
       "      <td>2</td>\n",
       "      <td>2</td>\n",
       "      <td>1.144312</td>\n",
       "      <td>0.289914</td>\n",
       "      <td>-1.363569</td>\n",
       "      <td>8</td>\n",
       "      <td>4</td>\n",
       "    </tr>\n",
       "    <tr>\n",
       "      <th>1458</th>\n",
       "      <td>0.067331</td>\n",
       "      <td>RL</td>\n",
       "      <td>0.201122</td>\n",
       "      <td>-0.068620</td>\n",
       "      <td>1</td>\n",
       "      <td>2</td>\n",
       "      <td>3</td>\n",
       "      <td>3</td>\n",
       "      <td>0</td>\n",
       "      <td>4</td>\n",
       "      <td>1</td>\n",
       "      <td>11</td>\n",
       "      <td>2</td>\n",
       "      <td>2</td>\n",
       "      <td>0</td>\n",
       "      <td>5</td>\n",
       "      <td>0.646183</td>\n",
       "      <td>-0.507284</td>\n",
       "      <td>0.716075</td>\n",
       "      <td>0.466021</td>\n",
       "      <td>1</td>\n",
       "      <td>1</td>\n",
       "      <td>6</td>\n",
       "      <td>6</td>\n",
       "      <td>1</td>\n",
       "      <td>-0.045740</td>\n",
       "      <td>3</td>\n",
       "      <td>4</td>\n",
       "      <td>2</td>\n",
       "      <td>2</td>\n",
       "      <td>3</td>\n",
       "      <td>0</td>\n",
       "      <td>3</td>\n",
       "      <td>0.694959</td>\n",
       "      <td>5</td>\n",
       "      <td>-0.293080</td>\n",
       "      <td>-0.734460</td>\n",
       "      <td>-0.126569</td>\n",
       "      <td>1</td>\n",
       "      <td>0</td>\n",
       "      <td>1</td>\n",
       "      <td>4</td>\n",
       "      <td>-0.416987</td>\n",
       "      <td>1.557332</td>\n",
       "      <td>-0.101197</td>\n",
       "      <td>0.986710</td>\n",
       "      <td>-0.819398</td>\n",
       "      <td>-0.249810</td>\n",
       "      <td>0.781366</td>\n",
       "      <td>1.232599</td>\n",
       "      <td>0.169927</td>\n",
       "      <td>-0.207698</td>\n",
       "      <td>3</td>\n",
       "      <td>1.624153</td>\n",
       "      <td>6</td>\n",
       "      <td>0.623632</td>\n",
       "      <td>4</td>\n",
       "      <td>1</td>\n",
       "      <td>0.582198</td>\n",
       "      <td>0</td>\n",
       "      <td>1.619684</td>\n",
       "      <td>0.822470</td>\n",
       "      <td>4</td>\n",
       "      <td>4</td>\n",
       "      <td>2</td>\n",
       "      <td>0.761158</td>\n",
       "      <td>0.007596</td>\n",
       "      <td>-0.359601</td>\n",
       "      <td>-0.103331</td>\n",
       "      <td>-0.285935</td>\n",
       "      <td>-0.06315</td>\n",
       "      <td>3</td>\n",
       "      <td>4</td>\n",
       "      <td>4</td>\n",
       "      <td>-0.089592</td>\n",
       "      <td>1.763592</td>\n",
       "      <td>-1.363569</td>\n",
       "      <td>8</td>\n",
       "      <td>4</td>\n",
       "    </tr>\n",
       "  </tbody>\n",
       "</table>\n",
       "<p>1459 rows × 79 columns</p>\n",
       "</div>"
      ],
      "text/plain": [
       "      MSSubClass MSZoning  LotFrontage  ...    YrSold  SaleType  SaleCondition\n",
       "0      -0.873616       RH     0.458190  ...  1.678860         8              4\n",
       "1      -0.873616       RL     0.501035  ...  1.678860         8              4\n",
       "2       0.067331       RL     0.201122  ...  1.678860         8              4\n",
       "3       0.067331       RL     0.372501  ...  1.678860         8              4\n",
       "4       1.478753       RL    -1.127064  ...  1.678860         8              4\n",
       "...          ...      ...          ...  ...       ...       ...            ...\n",
       "1454    2.419700       RM    -2.069648  ... -1.363569         8              4\n",
       "1455    2.419700       RM    -2.069648  ... -1.363569         8              0\n",
       "1456   -0.873616       RL     3.885767  ... -1.363569         8              0\n",
       "1457    0.655424       RL    -0.313015  ... -1.363569         8              4\n",
       "1458    0.067331       RL     0.201122  ... -1.363569         8              4\n",
       "\n",
       "[1459 rows x 79 columns]"
      ]
     },
     "execution_count": 163,
     "metadata": {},
     "output_type": "execute_result"
    }
   ],
   "source": [
    "X_test"
   ]
  },
  {
   "cell_type": "code",
   "execution_count": 166,
   "metadata": {},
   "outputs": [
    {
     "data": {
      "text/html": [
       "<div>\n",
       "<style scoped>\n",
       "    .dataframe tbody tr th:only-of-type {\n",
       "        vertical-align: middle;\n",
       "    }\n",
       "\n",
       "    .dataframe tbody tr th {\n",
       "        vertical-align: top;\n",
       "    }\n",
       "\n",
       "    .dataframe thead th {\n",
       "        text-align: right;\n",
       "    }\n",
       "</style>\n",
       "<table border=\"1\" class=\"dataframe\">\n",
       "  <thead>\n",
       "    <tr style=\"text-align: right;\">\n",
       "      <th></th>\n",
       "      <th>MSSubClass</th>\n",
       "      <th>MSZoning</th>\n",
       "      <th>LotFrontage</th>\n",
       "      <th>LotArea</th>\n",
       "      <th>Street</th>\n",
       "      <th>Alley</th>\n",
       "      <th>LotShape</th>\n",
       "      <th>LandContour</th>\n",
       "      <th>Utilities</th>\n",
       "      <th>LotConfig</th>\n",
       "      <th>LandSlope</th>\n",
       "      <th>Neighborhood</th>\n",
       "      <th>Condition1</th>\n",
       "      <th>Condition2</th>\n",
       "      <th>BldgType</th>\n",
       "      <th>HouseStyle</th>\n",
       "      <th>OverallQual</th>\n",
       "      <th>OverallCond</th>\n",
       "      <th>YearBuilt</th>\n",
       "      <th>YearRemodAdd</th>\n",
       "      <th>RoofStyle</th>\n",
       "      <th>RoofMatl</th>\n",
       "      <th>Exterior1st</th>\n",
       "      <th>Exterior2nd</th>\n",
       "      <th>MasVnrType</th>\n",
       "      <th>MasVnrArea</th>\n",
       "      <th>ExterQual</th>\n",
       "      <th>ExterCond</th>\n",
       "      <th>Foundation</th>\n",
       "      <th>BsmtQual</th>\n",
       "      <th>BsmtCond</th>\n",
       "      <th>BsmtExposure</th>\n",
       "      <th>BsmtFinType1</th>\n",
       "      <th>BsmtFinSF1</th>\n",
       "      <th>BsmtFinType2</th>\n",
       "      <th>BsmtFinSF2</th>\n",
       "      <th>BsmtUnfSF</th>\n",
       "      <th>TotalBsmtSF</th>\n",
       "      <th>Heating</th>\n",
       "      <th>HeatingQC</th>\n",
       "      <th>CentralAir</th>\n",
       "      <th>Electrical</th>\n",
       "      <th>1stFlrSF</th>\n",
       "      <th>2ndFlrSF</th>\n",
       "      <th>LowQualFinSF</th>\n",
       "      <th>GrLivArea</th>\n",
       "      <th>BsmtFullBath</th>\n",
       "      <th>BsmtHalfBath</th>\n",
       "      <th>FullBath</th>\n",
       "      <th>HalfBath</th>\n",
       "      <th>BedroomAbvGr</th>\n",
       "      <th>KitchenAbvGr</th>\n",
       "      <th>KitchenQual</th>\n",
       "      <th>TotRmsAbvGrd</th>\n",
       "      <th>Functional</th>\n",
       "      <th>Fireplaces</th>\n",
       "      <th>FireplaceQu</th>\n",
       "      <th>GarageType</th>\n",
       "      <th>GarageYrBlt</th>\n",
       "      <th>GarageFinish</th>\n",
       "      <th>GarageCars</th>\n",
       "      <th>GarageArea</th>\n",
       "      <th>GarageQual</th>\n",
       "      <th>GarageCond</th>\n",
       "      <th>PavedDrive</th>\n",
       "      <th>WoodDeckSF</th>\n",
       "      <th>OpenPorchSF</th>\n",
       "      <th>EnclosedPorch</th>\n",
       "      <th>3SsnPorch</th>\n",
       "      <th>ScreenPorch</th>\n",
       "      <th>PoolArea</th>\n",
       "      <th>PoolQC</th>\n",
       "      <th>Fence</th>\n",
       "      <th>MiscFeature</th>\n",
       "      <th>MiscVal</th>\n",
       "      <th>MoSold</th>\n",
       "      <th>YrSold</th>\n",
       "      <th>SaleType</th>\n",
       "      <th>SaleCondition</th>\n",
       "    </tr>\n",
       "  </thead>\n",
       "  <tbody>\n",
       "    <tr>\n",
       "      <th>0</th>\n",
       "      <td>0.067331</td>\n",
       "      <td>-0.046038</td>\n",
       "      <td>-0.184481</td>\n",
       "      <td>-0.217879</td>\n",
       "      <td>0.064249</td>\n",
       "      <td>0.257283</td>\n",
       "      <td>0.746669</td>\n",
       "      <td>0.316671</td>\n",
       "      <td>-0.030863</td>\n",
       "      <td>0.588555</td>\n",
       "      <td>-0.21626</td>\n",
       "      <td>-1.248476</td>\n",
       "      <td>-0.046258</td>\n",
       "      <td>-0.009816</td>\n",
       "      <td>-0.419174</td>\n",
       "      <td>1.031721</td>\n",
       "      <td>0.646183</td>\n",
       "      <td>-0.507284</td>\n",
       "      <td>1.046258</td>\n",
       "      <td>0.896833</td>\n",
       "      <td>-0.482926</td>\n",
       "      <td>-0.116923</td>\n",
       "      <td>0.742177</td>\n",
       "      <td>0.749790</td>\n",
       "      <td>-1.389009</td>\n",
       "      <td>0.523129</td>\n",
       "      <td>-0.755793</td>\n",
       "      <td>0.376461</td>\n",
       "      <td>0.834618</td>\n",
       "      <td>-0.312279</td>\n",
       "      <td>0.234254</td>\n",
       "      <td>0.584281</td>\n",
       "      <td>-0.454809</td>\n",
       "      <td>0.580807</td>\n",
       "      <td>0.281997</td>\n",
       "      <td>-0.293080</td>\n",
       "      <td>-0.934702</td>\n",
       "      <td>-0.444252</td>\n",
       "      <td>-0.103206</td>\n",
       "      <td>-0.880324</td>\n",
       "      <td>0.26829</td>\n",
       "      <td>0.300211</td>\n",
       "      <td>-0.773861</td>\n",
       "      <td>1.207379</td>\n",
       "      <td>-0.101197</td>\n",
       "      <td>0.413547</td>\n",
       "      <td>1.086650</td>\n",
       "      <td>-0.249810</td>\n",
       "      <td>0.781366</td>\n",
       "      <td>1.232599</td>\n",
       "      <td>0.169927</td>\n",
       "      <td>-0.207698</td>\n",
       "      <td>-0.416171</td>\n",
       "      <td>0.986849</td>\n",
       "      <td>0.255925</td>\n",
       "      <td>-0.924311</td>\n",
       "      <td>0.839596</td>\n",
       "      <td>-0.767783</td>\n",
       "      <td>0.973286</td>\n",
       "      <td>-0.316551</td>\n",
       "      <td>0.306475</td>\n",
       "      <td>0.348840</td>\n",
       "      <td>0.137641</td>\n",
       "      <td>0.071758</td>\n",
       "      <td>0.31503</td>\n",
       "      <td>-0.740760</td>\n",
       "      <td>0.200006</td>\n",
       "      <td>-0.359601</td>\n",
       "      <td>-0.103331</td>\n",
       "      <td>-0.285935</td>\n",
       "      <td>-0.06315</td>\n",
       "      <td>0.053507</td>\n",
       "      <td>0.464024</td>\n",
       "      <td>0.188401</td>\n",
       "      <td>-0.089592</td>\n",
       "      <td>-1.552184</td>\n",
       "      <td>0.157646</td>\n",
       "      <td>0.319053</td>\n",
       "      <td>0.204967</td>\n",
       "    </tr>\n",
       "    <tr>\n",
       "      <th>1</th>\n",
       "      <td>-0.873616</td>\n",
       "      <td>-0.046038</td>\n",
       "      <td>0.458190</td>\n",
       "      <td>-0.072044</td>\n",
       "      <td>0.064249</td>\n",
       "      <td>0.257283</td>\n",
       "      <td>0.746669</td>\n",
       "      <td>0.316671</td>\n",
       "      <td>-0.030863</td>\n",
       "      <td>-0.658174</td>\n",
       "      <td>-0.21626</td>\n",
       "      <td>1.941064</td>\n",
       "      <td>-1.190557</td>\n",
       "      <td>-0.009816</td>\n",
       "      <td>-0.419174</td>\n",
       "      <td>-0.536817</td>\n",
       "      <td>-0.063185</td>\n",
       "      <td>2.188279</td>\n",
       "      <td>0.154764</td>\n",
       "      <td>-0.395604</td>\n",
       "      <td>-0.482926</td>\n",
       "      <td>-0.116923</td>\n",
       "      <td>-0.507918</td>\n",
       "      <td>-0.658056</td>\n",
       "      <td>0.769946</td>\n",
       "      <td>-0.569991</td>\n",
       "      <td>0.668455</td>\n",
       "      <td>0.376461</td>\n",
       "      <td>-0.541017</td>\n",
       "      <td>-0.312279</td>\n",
       "      <td>0.234254</td>\n",
       "      <td>-1.153382</td>\n",
       "      <td>-1.528910</td>\n",
       "      <td>1.177910</td>\n",
       "      <td>0.281997</td>\n",
       "      <td>-0.293080</td>\n",
       "      <td>-0.629788</td>\n",
       "      <td>0.477029</td>\n",
       "      <td>-0.103206</td>\n",
       "      <td>-0.880324</td>\n",
       "      <td>0.26829</td>\n",
       "      <td>0.300211</td>\n",
       "      <td>0.261075</td>\n",
       "      <td>-0.785025</td>\n",
       "      <td>-0.101197</td>\n",
       "      <td>-0.471891</td>\n",
       "      <td>-0.819398</td>\n",
       "      <td>3.821109</td>\n",
       "      <td>0.781366</td>\n",
       "      <td>-0.756321</td>\n",
       "      <td>0.169927</td>\n",
       "      <td>-0.207698</td>\n",
       "      <td>0.781859</td>\n",
       "      <td>-0.287758</td>\n",
       "      <td>0.255925</td>\n",
       "      <td>0.623632</td>\n",
       "      <td>0.124457</td>\n",
       "      <td>-0.767783</td>\n",
       "      <td>-0.082653</td>\n",
       "      <td>-0.316551</td>\n",
       "      <td>0.306475</td>\n",
       "      <td>-0.059782</td>\n",
       "      <td>0.137641</td>\n",
       "      <td>0.071758</td>\n",
       "      <td>0.31503</td>\n",
       "      <td>1.614879</td>\n",
       "      <td>-0.702843</td>\n",
       "      <td>-0.359601</td>\n",
       "      <td>-0.103331</td>\n",
       "      <td>-0.285935</td>\n",
       "      <td>-0.06315</td>\n",
       "      <td>0.053507</td>\n",
       "      <td>0.464024</td>\n",
       "      <td>0.188401</td>\n",
       "      <td>-0.089592</td>\n",
       "      <td>-0.446925</td>\n",
       "      <td>-0.602962</td>\n",
       "      <td>0.319053</td>\n",
       "      <td>0.204967</td>\n",
       "    </tr>\n",
       "    <tr>\n",
       "      <th>2</th>\n",
       "      <td>0.067331</td>\n",
       "      <td>-0.046038</td>\n",
       "      <td>-0.055946</td>\n",
       "      <td>0.137197</td>\n",
       "      <td>0.064249</td>\n",
       "      <td>0.257283</td>\n",
       "      <td>-1.381776</td>\n",
       "      <td>0.316671</td>\n",
       "      <td>-0.030863</td>\n",
       "      <td>0.588555</td>\n",
       "      <td>-0.21626</td>\n",
       "      <td>-1.248476</td>\n",
       "      <td>-0.046258</td>\n",
       "      <td>-0.009816</td>\n",
       "      <td>-0.419174</td>\n",
       "      <td>1.031721</td>\n",
       "      <td>0.646183</td>\n",
       "      <td>-0.507284</td>\n",
       "      <td>0.980221</td>\n",
       "      <td>0.848965</td>\n",
       "      <td>-0.482926</td>\n",
       "      <td>-0.116923</td>\n",
       "      <td>0.742177</td>\n",
       "      <td>0.749790</td>\n",
       "      <td>-1.389009</td>\n",
       "      <td>0.333506</td>\n",
       "      <td>-0.755793</td>\n",
       "      <td>0.376461</td>\n",
       "      <td>0.834618</td>\n",
       "      <td>-0.312279</td>\n",
       "      <td>0.234254</td>\n",
       "      <td>-0.284550</td>\n",
       "      <td>-0.454809</td>\n",
       "      <td>0.097856</td>\n",
       "      <td>0.281997</td>\n",
       "      <td>-0.293080</td>\n",
       "      <td>-0.288467</td>\n",
       "      <td>-0.299025</td>\n",
       "      <td>-0.103206</td>\n",
       "      <td>-0.880324</td>\n",
       "      <td>0.26829</td>\n",
       "      <td>0.300211</td>\n",
       "      <td>-0.610718</td>\n",
       "      <td>1.235375</td>\n",
       "      <td>-0.101197</td>\n",
       "      <td>0.563755</td>\n",
       "      <td>1.086650</td>\n",
       "      <td>-0.249810</td>\n",
       "      <td>0.781366</td>\n",
       "      <td>1.232599</td>\n",
       "      <td>0.169927</td>\n",
       "      <td>-0.207698</td>\n",
       "      <td>-0.416171</td>\n",
       "      <td>-0.287758</td>\n",
       "      <td>0.255925</td>\n",
       "      <td>0.623632</td>\n",
       "      <td>0.124457</td>\n",
       "      <td>-0.767783</td>\n",
       "      <td>0.895069</td>\n",
       "      <td>-0.316551</td>\n",
       "      <td>0.306475</td>\n",
       "      <td>0.627446</td>\n",
       "      <td>0.137641</td>\n",
       "      <td>0.071758</td>\n",
       "      <td>0.31503</td>\n",
       "      <td>-0.740760</td>\n",
       "      <td>-0.081209</td>\n",
       "      <td>-0.359601</td>\n",
       "      <td>-0.103331</td>\n",
       "      <td>-0.285935</td>\n",
       "      <td>-0.06315</td>\n",
       "      <td>0.053507</td>\n",
       "      <td>0.464024</td>\n",
       "      <td>0.188401</td>\n",
       "      <td>-0.089592</td>\n",
       "      <td>1.026753</td>\n",
       "      <td>0.157646</td>\n",
       "      <td>0.319053</td>\n",
       "      <td>0.204967</td>\n",
       "    </tr>\n",
       "    <tr>\n",
       "      <th>3</th>\n",
       "      <td>0.302568</td>\n",
       "      <td>-0.046038</td>\n",
       "      <td>-0.398704</td>\n",
       "      <td>-0.078385</td>\n",
       "      <td>0.064249</td>\n",
       "      <td>0.257283</td>\n",
       "      <td>-1.381776</td>\n",
       "      <td>0.316671</td>\n",
       "      <td>-0.030863</td>\n",
       "      <td>-1.904903</td>\n",
       "      <td>-0.21626</td>\n",
       "      <td>-1.080605</td>\n",
       "      <td>-0.046258</td>\n",
       "      <td>-0.009816</td>\n",
       "      <td>-0.419174</td>\n",
       "      <td>1.031721</td>\n",
       "      <td>0.646183</td>\n",
       "      <td>-0.507284</td>\n",
       "      <td>-1.859351</td>\n",
       "      <td>-0.682812</td>\n",
       "      <td>-0.482926</td>\n",
       "      <td>-0.116923</td>\n",
       "      <td>1.054701</td>\n",
       "      <td>1.312929</td>\n",
       "      <td>0.769946</td>\n",
       "      <td>-0.569991</td>\n",
       "      <td>0.668455</td>\n",
       "      <td>0.376461</td>\n",
       "      <td>-1.916652</td>\n",
       "      <td>0.771599</td>\n",
       "      <td>-2.620806</td>\n",
       "      <td>0.584281</td>\n",
       "      <td>-1.528910</td>\n",
       "      <td>-0.494856</td>\n",
       "      <td>0.281997</td>\n",
       "      <td>-0.293080</td>\n",
       "      <td>-0.047266</td>\n",
       "      <td>-0.671168</td>\n",
       "      <td>-0.103206</td>\n",
       "      <td>0.267617</td>\n",
       "      <td>0.26829</td>\n",
       "      <td>0.300211</td>\n",
       "      <td>-0.506205</td>\n",
       "      <td>0.978742</td>\n",
       "      <td>-0.101197</td>\n",
       "      <td>0.427382</td>\n",
       "      <td>1.086650</td>\n",
       "      <td>-0.249810</td>\n",
       "      <td>-1.027363</td>\n",
       "      <td>-0.756321</td>\n",
       "      <td>0.169927</td>\n",
       "      <td>-0.207698</td>\n",
       "      <td>-0.416171</td>\n",
       "      <td>0.349546</td>\n",
       "      <td>0.255925</td>\n",
       "      <td>0.623632</td>\n",
       "      <td>-1.305821</td>\n",
       "      <td>1.302093</td>\n",
       "      <td>0.777742</td>\n",
       "      <td>0.798060</td>\n",
       "      <td>1.619684</td>\n",
       "      <td>0.785323</td>\n",
       "      <td>0.137641</td>\n",
       "      <td>0.071758</td>\n",
       "      <td>0.31503</td>\n",
       "      <td>-0.740760</td>\n",
       "      <td>-0.184815</td>\n",
       "      <td>3.874967</td>\n",
       "      <td>-0.103331</td>\n",
       "      <td>-0.285935</td>\n",
       "      <td>-0.06315</td>\n",
       "      <td>0.053507</td>\n",
       "      <td>0.464024</td>\n",
       "      <td>0.188401</td>\n",
       "      <td>-0.089592</td>\n",
       "      <td>-1.552184</td>\n",
       "      <td>-1.363569</td>\n",
       "      <td>0.319053</td>\n",
       "      <td>-3.505415</td>\n",
       "    </tr>\n",
       "    <tr>\n",
       "      <th>4</th>\n",
       "      <td>0.067331</td>\n",
       "      <td>-0.046038</td>\n",
       "      <td>0.629569</td>\n",
       "      <td>0.518903</td>\n",
       "      <td>0.064249</td>\n",
       "      <td>0.257283</td>\n",
       "      <td>-1.381776</td>\n",
       "      <td>0.316671</td>\n",
       "      <td>-0.030863</td>\n",
       "      <td>-0.658174</td>\n",
       "      <td>-0.21626</td>\n",
       "      <td>0.430229</td>\n",
       "      <td>-0.046258</td>\n",
       "      <td>-0.009816</td>\n",
       "      <td>-0.419174</td>\n",
       "      <td>1.031721</td>\n",
       "      <td>1.355551</td>\n",
       "      <td>-0.507284</td>\n",
       "      <td>0.947203</td>\n",
       "      <td>0.753229</td>\n",
       "      <td>-0.482926</td>\n",
       "      <td>-0.116923</td>\n",
       "      <td>0.742177</td>\n",
       "      <td>0.749790</td>\n",
       "      <td>-1.389009</td>\n",
       "      <td>1.382009</td>\n",
       "      <td>-0.755793</td>\n",
       "      <td>0.376461</td>\n",
       "      <td>0.834618</td>\n",
       "      <td>-0.312279</td>\n",
       "      <td>0.234254</td>\n",
       "      <td>-2.022213</td>\n",
       "      <td>-0.454809</td>\n",
       "      <td>0.468851</td>\n",
       "      <td>0.281997</td>\n",
       "      <td>-0.293080</td>\n",
       "      <td>-0.161040</td>\n",
       "      <td>0.211537</td>\n",
       "      <td>-0.103206</td>\n",
       "      <td>-0.880324</td>\n",
       "      <td>0.26829</td>\n",
       "      <td>0.300211</td>\n",
       "      <td>-0.037170</td>\n",
       "      <td>1.671651</td>\n",
       "      <td>-0.101197</td>\n",
       "      <td>1.378042</td>\n",
       "      <td>1.086650</td>\n",
       "      <td>-0.249810</td>\n",
       "      <td>0.781366</td>\n",
       "      <td>1.232599</td>\n",
       "      <td>1.385655</td>\n",
       "      <td>-0.207698</td>\n",
       "      <td>-0.416171</td>\n",
       "      <td>1.624153</td>\n",
       "      <td>0.255925</td>\n",
       "      <td>0.623632</td>\n",
       "      <td>0.124457</td>\n",
       "      <td>-0.767783</td>\n",
       "      <td>0.855960</td>\n",
       "      <td>-0.316551</td>\n",
       "      <td>1.619684</td>\n",
       "      <td>1.686149</td>\n",
       "      <td>0.137641</td>\n",
       "      <td>0.071758</td>\n",
       "      <td>0.31503</td>\n",
       "      <td>0.776967</td>\n",
       "      <td>0.540424</td>\n",
       "      <td>-0.359601</td>\n",
       "      <td>-0.103331</td>\n",
       "      <td>-0.285935</td>\n",
       "      <td>-0.06315</td>\n",
       "      <td>0.053507</td>\n",
       "      <td>0.464024</td>\n",
       "      <td>0.188401</td>\n",
       "      <td>-0.089592</td>\n",
       "      <td>2.132012</td>\n",
       "      <td>0.157646</td>\n",
       "      <td>0.319053</td>\n",
       "      <td>0.204967</td>\n",
       "    </tr>\n",
       "    <tr>\n",
       "      <th>...</th>\n",
       "      <td>...</td>\n",
       "      <td>...</td>\n",
       "      <td>...</td>\n",
       "      <td>...</td>\n",
       "      <td>...</td>\n",
       "      <td>...</td>\n",
       "      <td>...</td>\n",
       "      <td>...</td>\n",
       "      <td>...</td>\n",
       "      <td>...</td>\n",
       "      <td>...</td>\n",
       "      <td>...</td>\n",
       "      <td>...</td>\n",
       "      <td>...</td>\n",
       "      <td>...</td>\n",
       "      <td>...</td>\n",
       "      <td>...</td>\n",
       "      <td>...</td>\n",
       "      <td>...</td>\n",
       "      <td>...</td>\n",
       "      <td>...</td>\n",
       "      <td>...</td>\n",
       "      <td>...</td>\n",
       "      <td>...</td>\n",
       "      <td>...</td>\n",
       "      <td>...</td>\n",
       "      <td>...</td>\n",
       "      <td>...</td>\n",
       "      <td>...</td>\n",
       "      <td>...</td>\n",
       "      <td>...</td>\n",
       "      <td>...</td>\n",
       "      <td>...</td>\n",
       "      <td>...</td>\n",
       "      <td>...</td>\n",
       "      <td>...</td>\n",
       "      <td>...</td>\n",
       "      <td>...</td>\n",
       "      <td>...</td>\n",
       "      <td>...</td>\n",
       "      <td>...</td>\n",
       "      <td>...</td>\n",
       "      <td>...</td>\n",
       "      <td>...</td>\n",
       "      <td>...</td>\n",
       "      <td>...</td>\n",
       "      <td>...</td>\n",
       "      <td>...</td>\n",
       "      <td>...</td>\n",
       "      <td>...</td>\n",
       "      <td>...</td>\n",
       "      <td>...</td>\n",
       "      <td>...</td>\n",
       "      <td>...</td>\n",
       "      <td>...</td>\n",
       "      <td>...</td>\n",
       "      <td>...</td>\n",
       "      <td>...</td>\n",
       "      <td>...</td>\n",
       "      <td>...</td>\n",
       "      <td>...</td>\n",
       "      <td>...</td>\n",
       "      <td>...</td>\n",
       "      <td>...</td>\n",
       "      <td>...</td>\n",
       "      <td>...</td>\n",
       "      <td>...</td>\n",
       "      <td>...</td>\n",
       "      <td>...</td>\n",
       "      <td>...</td>\n",
       "      <td>...</td>\n",
       "      <td>...</td>\n",
       "      <td>...</td>\n",
       "      <td>...</td>\n",
       "      <td>...</td>\n",
       "      <td>...</td>\n",
       "      <td>...</td>\n",
       "      <td>...</td>\n",
       "      <td>...</td>\n",
       "    </tr>\n",
       "    <tr>\n",
       "      <th>1455</th>\n",
       "      <td>0.067331</td>\n",
       "      <td>-0.046038</td>\n",
       "      <td>-0.313015</td>\n",
       "      <td>-0.285470</td>\n",
       "      <td>0.064249</td>\n",
       "      <td>0.257283</td>\n",
       "      <td>0.746669</td>\n",
       "      <td>0.316671</td>\n",
       "      <td>-0.030863</td>\n",
       "      <td>0.588555</td>\n",
       "      <td>-0.21626</td>\n",
       "      <td>-0.744864</td>\n",
       "      <td>-0.046258</td>\n",
       "      <td>-0.009816</td>\n",
       "      <td>-0.419174</td>\n",
       "      <td>1.031721</td>\n",
       "      <td>-0.063185</td>\n",
       "      <td>-0.507284</td>\n",
       "      <td>0.914184</td>\n",
       "      <td>0.753229</td>\n",
       "      <td>-0.482926</td>\n",
       "      <td>-0.116923</td>\n",
       "      <td>0.742177</td>\n",
       "      <td>0.749790</td>\n",
       "      <td>0.769946</td>\n",
       "      <td>-0.569991</td>\n",
       "      <td>0.668455</td>\n",
       "      <td>0.376461</td>\n",
       "      <td>0.834618</td>\n",
       "      <td>-0.312279</td>\n",
       "      <td>0.234254</td>\n",
       "      <td>0.584281</td>\n",
       "      <td>1.156342</td>\n",
       "      <td>-0.969026</td>\n",
       "      <td>0.281997</td>\n",
       "      <td>-0.293080</td>\n",
       "      <td>0.892505</td>\n",
       "      <td>-0.224143</td>\n",
       "      <td>-0.103206</td>\n",
       "      <td>-0.880324</td>\n",
       "      <td>0.26829</td>\n",
       "      <td>0.300211</td>\n",
       "      <td>-0.526598</td>\n",
       "      <td>0.834095</td>\n",
       "      <td>-0.101197</td>\n",
       "      <td>0.289033</td>\n",
       "      <td>-0.819398</td>\n",
       "      <td>-0.249810</td>\n",
       "      <td>0.781366</td>\n",
       "      <td>1.232599</td>\n",
       "      <td>0.169927</td>\n",
       "      <td>-0.207698</td>\n",
       "      <td>0.781859</td>\n",
       "      <td>0.349546</td>\n",
       "      <td>0.255925</td>\n",
       "      <td>0.623632</td>\n",
       "      <td>0.124457</td>\n",
       "      <td>-0.767783</td>\n",
       "      <td>0.816851</td>\n",
       "      <td>-0.316551</td>\n",
       "      <td>0.306475</td>\n",
       "      <td>-0.059782</td>\n",
       "      <td>0.137641</td>\n",
       "      <td>0.071758</td>\n",
       "      <td>0.31503</td>\n",
       "      <td>-0.740760</td>\n",
       "      <td>-0.110811</td>\n",
       "      <td>-0.359601</td>\n",
       "      <td>-0.103331</td>\n",
       "      <td>-0.285935</td>\n",
       "      <td>-0.06315</td>\n",
       "      <td>0.053507</td>\n",
       "      <td>0.464024</td>\n",
       "      <td>0.188401</td>\n",
       "      <td>-0.089592</td>\n",
       "      <td>0.658334</td>\n",
       "      <td>-0.602962</td>\n",
       "      <td>0.319053</td>\n",
       "      <td>0.204967</td>\n",
       "    </tr>\n",
       "    <tr>\n",
       "      <th>1456</th>\n",
       "      <td>-0.873616</td>\n",
       "      <td>-0.046038</td>\n",
       "      <td>0.672414</td>\n",
       "      <td>0.381311</td>\n",
       "      <td>0.064249</td>\n",
       "      <td>0.257283</td>\n",
       "      <td>0.746669</td>\n",
       "      <td>0.316671</td>\n",
       "      <td>-0.030863</td>\n",
       "      <td>0.588555</td>\n",
       "      <td>-0.21626</td>\n",
       "      <td>0.262359</td>\n",
       "      <td>-0.046258</td>\n",
       "      <td>-0.009816</td>\n",
       "      <td>-0.419174</td>\n",
       "      <td>-0.536817</td>\n",
       "      <td>-0.063185</td>\n",
       "      <td>0.391237</td>\n",
       "      <td>0.220801</td>\n",
       "      <td>0.178812</td>\n",
       "      <td>-0.482926</td>\n",
       "      <td>-0.116923</td>\n",
       "      <td>-0.195394</td>\n",
       "      <td>-0.094917</td>\n",
       "      <td>-0.309531</td>\n",
       "      <td>0.093689</td>\n",
       "      <td>0.668455</td>\n",
       "      <td>0.376461</td>\n",
       "      <td>-0.541017</td>\n",
       "      <td>-0.312279</td>\n",
       "      <td>0.234254</td>\n",
       "      <td>0.584281</td>\n",
       "      <td>-1.528910</td>\n",
       "      <td>0.765207</td>\n",
       "      <td>-0.706177</td>\n",
       "      <td>0.670410</td>\n",
       "      <td>0.064232</td>\n",
       "      <td>1.112396</td>\n",
       "      <td>-0.103206</td>\n",
       "      <td>1.415558</td>\n",
       "      <td>0.26829</td>\n",
       "      <td>0.300211</td>\n",
       "      <td>2.328397</td>\n",
       "      <td>-0.785025</td>\n",
       "      <td>-0.101197</td>\n",
       "      <td>1.130989</td>\n",
       "      <td>1.086650</td>\n",
       "      <td>-0.249810</td>\n",
       "      <td>0.781366</td>\n",
       "      <td>-0.756321</td>\n",
       "      <td>0.169927</td>\n",
       "      <td>-0.207698</td>\n",
       "      <td>0.781859</td>\n",
       "      <td>0.349546</td>\n",
       "      <td>-4.019009</td>\n",
       "      <td>2.171575</td>\n",
       "      <td>0.124457</td>\n",
       "      <td>-0.767783</td>\n",
       "      <td>-0.004435</td>\n",
       "      <td>0.798060</td>\n",
       "      <td>0.306475</td>\n",
       "      <td>0.125955</td>\n",
       "      <td>0.137641</td>\n",
       "      <td>0.071758</td>\n",
       "      <td>0.31503</td>\n",
       "      <td>2.018026</td>\n",
       "      <td>-0.702843</td>\n",
       "      <td>-0.359601</td>\n",
       "      <td>-0.103331</td>\n",
       "      <td>-0.285935</td>\n",
       "      <td>-0.06315</td>\n",
       "      <td>0.053507</td>\n",
       "      <td>-1.368839</td>\n",
       "      <td>0.188401</td>\n",
       "      <td>-0.089592</td>\n",
       "      <td>-1.552184</td>\n",
       "      <td>1.678860</td>\n",
       "      <td>0.319053</td>\n",
       "      <td>0.204967</td>\n",
       "    </tr>\n",
       "    <tr>\n",
       "      <th>1457</th>\n",
       "      <td>0.302568</td>\n",
       "      <td>-0.046038</td>\n",
       "      <td>-0.141636</td>\n",
       "      <td>-0.142806</td>\n",
       "      <td>0.064249</td>\n",
       "      <td>0.257283</td>\n",
       "      <td>0.746669</td>\n",
       "      <td>0.316671</td>\n",
       "      <td>-0.030863</td>\n",
       "      <td>0.588555</td>\n",
       "      <td>-0.21626</td>\n",
       "      <td>-1.080605</td>\n",
       "      <td>-0.046258</td>\n",
       "      <td>-0.009816</td>\n",
       "      <td>-0.419174</td>\n",
       "      <td>1.031721</td>\n",
       "      <td>0.646183</td>\n",
       "      <td>3.086800</td>\n",
       "      <td>-1.000876</td>\n",
       "      <td>1.040437</td>\n",
       "      <td>-0.482926</td>\n",
       "      <td>-0.116923</td>\n",
       "      <td>-1.445490</td>\n",
       "      <td>-1.502764</td>\n",
       "      <td>0.769946</td>\n",
       "      <td>-0.569991</td>\n",
       "      <td>-3.604290</td>\n",
       "      <td>-2.209160</td>\n",
       "      <td>3.585888</td>\n",
       "      <td>0.771599</td>\n",
       "      <td>-2.620806</td>\n",
       "      <td>0.584281</td>\n",
       "      <td>-0.454809</td>\n",
       "      <td>-0.365338</td>\n",
       "      <td>0.281997</td>\n",
       "      <td>-0.293080</td>\n",
       "      <td>0.719569</td>\n",
       "      <td>0.227421</td>\n",
       "      <td>-0.103206</td>\n",
       "      <td>-0.880324</td>\n",
       "      <td>0.26829</td>\n",
       "      <td>0.300211</td>\n",
       "      <td>0.072441</td>\n",
       "      <td>1.902620</td>\n",
       "      <td>-0.101197</td>\n",
       "      <td>1.658694</td>\n",
       "      <td>-0.819398</td>\n",
       "      <td>-0.249810</td>\n",
       "      <td>0.781366</td>\n",
       "      <td>-0.756321</td>\n",
       "      <td>1.385655</td>\n",
       "      <td>-0.207698</td>\n",
       "      <td>-0.416171</td>\n",
       "      <td>1.624153</td>\n",
       "      <td>0.255925</td>\n",
       "      <td>2.171575</td>\n",
       "      <td>-1.305821</td>\n",
       "      <td>-0.767783</td>\n",
       "      <td>-1.451463</td>\n",
       "      <td>-0.316551</td>\n",
       "      <td>-1.006733</td>\n",
       "      <td>-1.025616</td>\n",
       "      <td>0.137641</td>\n",
       "      <td>0.071758</td>\n",
       "      <td>0.31503</td>\n",
       "      <td>-0.740760</td>\n",
       "      <td>0.185205</td>\n",
       "      <td>-0.359601</td>\n",
       "      <td>-0.103331</td>\n",
       "      <td>-0.285935</td>\n",
       "      <td>-0.06315</td>\n",
       "      <td>0.053507</td>\n",
       "      <td>-3.201703</td>\n",
       "      <td>-4.743824</td>\n",
       "      <td>4.317209</td>\n",
       "      <td>-0.446925</td>\n",
       "      <td>1.678860</td>\n",
       "      <td>0.319053</td>\n",
       "      <td>0.204967</td>\n",
       "    </tr>\n",
       "    <tr>\n",
       "      <th>1458</th>\n",
       "      <td>-0.873616</td>\n",
       "      <td>-0.046038</td>\n",
       "      <td>-0.055946</td>\n",
       "      <td>-0.057207</td>\n",
       "      <td>0.064249</td>\n",
       "      <td>0.257283</td>\n",
       "      <td>0.746669</td>\n",
       "      <td>0.316671</td>\n",
       "      <td>-0.030863</td>\n",
       "      <td>0.588555</td>\n",
       "      <td>-0.21626</td>\n",
       "      <td>-0.073382</td>\n",
       "      <td>-0.046258</td>\n",
       "      <td>-0.009816</td>\n",
       "      <td>-0.419174</td>\n",
       "      <td>-0.536817</td>\n",
       "      <td>-0.772552</td>\n",
       "      <td>0.391237</td>\n",
       "      <td>-0.703711</td>\n",
       "      <td>0.561757</td>\n",
       "      <td>1.953824</td>\n",
       "      <td>-0.116923</td>\n",
       "      <td>-0.507918</td>\n",
       "      <td>-0.658056</td>\n",
       "      <td>0.769946</td>\n",
       "      <td>-0.569991</td>\n",
       "      <td>0.668455</td>\n",
       "      <td>0.376461</td>\n",
       "      <td>-0.541017</td>\n",
       "      <td>0.771599</td>\n",
       "      <td>0.234254</td>\n",
       "      <td>-0.284550</td>\n",
       "      <td>-0.454809</td>\n",
       "      <td>-0.861460</td>\n",
       "      <td>-0.706177</td>\n",
       "      <td>5.789321</td>\n",
       "      <td>-1.276024</td>\n",
       "      <td>0.059503</td>\n",
       "      <td>-0.103206</td>\n",
       "      <td>0.267617</td>\n",
       "      <td>0.26829</td>\n",
       "      <td>-3.518162</td>\n",
       "      <td>-0.207960</td>\n",
       "      <td>-0.785025</td>\n",
       "      <td>-0.101197</td>\n",
       "      <td>-0.835553</td>\n",
       "      <td>1.086650</td>\n",
       "      <td>-0.249810</td>\n",
       "      <td>-1.027363</td>\n",
       "      <td>-0.756321</td>\n",
       "      <td>-1.045801</td>\n",
       "      <td>-0.207698</td>\n",
       "      <td>-0.416171</td>\n",
       "      <td>-0.925062</td>\n",
       "      <td>0.255925</td>\n",
       "      <td>-0.924311</td>\n",
       "      <td>0.839596</td>\n",
       "      <td>-0.767783</td>\n",
       "      <td>-1.099483</td>\n",
       "      <td>0.798060</td>\n",
       "      <td>-1.006733</td>\n",
       "      <td>-1.081337</td>\n",
       "      <td>0.137641</td>\n",
       "      <td>0.071758</td>\n",
       "      <td>0.31503</td>\n",
       "      <td>2.152408</td>\n",
       "      <td>-0.702843</td>\n",
       "      <td>1.384045</td>\n",
       "      <td>-0.103331</td>\n",
       "      <td>-0.285935</td>\n",
       "      <td>-0.06315</td>\n",
       "      <td>0.053507</td>\n",
       "      <td>0.464024</td>\n",
       "      <td>0.188401</td>\n",
       "      <td>-0.089592</td>\n",
       "      <td>-0.815344</td>\n",
       "      <td>1.678860</td>\n",
       "      <td>0.319053</td>\n",
       "      <td>0.204967</td>\n",
       "    </tr>\n",
       "    <tr>\n",
       "      <th>1459</th>\n",
       "      <td>-0.873616</td>\n",
       "      <td>-0.046038</td>\n",
       "      <td>0.243967</td>\n",
       "      <td>-0.029308</td>\n",
       "      <td>0.064249</td>\n",
       "      <td>0.257283</td>\n",
       "      <td>0.746669</td>\n",
       "      <td>0.316671</td>\n",
       "      <td>-0.030863</td>\n",
       "      <td>0.588555</td>\n",
       "      <td>-0.21626</td>\n",
       "      <td>-0.912735</td>\n",
       "      <td>-0.046258</td>\n",
       "      <td>-0.009816</td>\n",
       "      <td>-0.419174</td>\n",
       "      <td>-0.536817</td>\n",
       "      <td>-0.772552</td>\n",
       "      <td>0.391237</td>\n",
       "      <td>-0.208437</td>\n",
       "      <td>-0.922153</td>\n",
       "      <td>-0.482926</td>\n",
       "      <td>-0.116923</td>\n",
       "      <td>-1.132966</td>\n",
       "      <td>-1.221195</td>\n",
       "      <td>0.769946</td>\n",
       "      <td>-0.569991</td>\n",
       "      <td>-0.755793</td>\n",
       "      <td>0.376461</td>\n",
       "      <td>-0.541017</td>\n",
       "      <td>0.771599</td>\n",
       "      <td>0.234254</td>\n",
       "      <td>0.584281</td>\n",
       "      <td>-0.991860</td>\n",
       "      <td>0.853016</td>\n",
       "      <td>-1.694351</td>\n",
       "      <td>1.421105</td>\n",
       "      <td>-0.966559</td>\n",
       "      <td>0.463414</td>\n",
       "      <td>-0.103206</td>\n",
       "      <td>0.267617</td>\n",
       "      <td>0.26829</td>\n",
       "      <td>0.300211</td>\n",
       "      <td>0.245780</td>\n",
       "      <td>-0.785025</td>\n",
       "      <td>-0.101197</td>\n",
       "      <td>-0.483749</td>\n",
       "      <td>1.086650</td>\n",
       "      <td>-0.249810</td>\n",
       "      <td>-1.027363</td>\n",
       "      <td>1.232599</td>\n",
       "      <td>0.169927</td>\n",
       "      <td>-0.207698</td>\n",
       "      <td>0.781859</td>\n",
       "      <td>-0.287758</td>\n",
       "      <td>0.255925</td>\n",
       "      <td>-0.924311</td>\n",
       "      <td>0.839596</td>\n",
       "      <td>-0.767783</td>\n",
       "      <td>-0.512850</td>\n",
       "      <td>-1.431163</td>\n",
       "      <td>-1.006733</td>\n",
       "      <td>-0.914174</td>\n",
       "      <td>0.137641</td>\n",
       "      <td>0.071758</td>\n",
       "      <td>0.31503</td>\n",
       "      <td>5.077195</td>\n",
       "      <td>0.303612</td>\n",
       "      <td>-0.359601</td>\n",
       "      <td>-0.103331</td>\n",
       "      <td>-0.285935</td>\n",
       "      <td>-0.06315</td>\n",
       "      <td>0.053507</td>\n",
       "      <td>0.464024</td>\n",
       "      <td>0.188401</td>\n",
       "      <td>-0.089592</td>\n",
       "      <td>-0.078505</td>\n",
       "      <td>0.157646</td>\n",
       "      <td>0.319053</td>\n",
       "      <td>0.204967</td>\n",
       "    </tr>\n",
       "  </tbody>\n",
       "</table>\n",
       "<p>1452 rows × 79 columns</p>\n",
       "</div>"
      ],
      "text/plain": [
       "      MSSubClass  MSZoning  LotFrontage  ...    YrSold  SaleType  SaleCondition\n",
       "0       0.067331 -0.046038    -0.184481  ...  0.157646  0.319053       0.204967\n",
       "1      -0.873616 -0.046038     0.458190  ... -0.602962  0.319053       0.204967\n",
       "2       0.067331 -0.046038    -0.055946  ...  0.157646  0.319053       0.204967\n",
       "3       0.302568 -0.046038    -0.398704  ... -1.363569  0.319053      -3.505415\n",
       "4       0.067331 -0.046038     0.629569  ...  0.157646  0.319053       0.204967\n",
       "...          ...       ...          ...  ...       ...       ...            ...\n",
       "1455    0.067331 -0.046038    -0.313015  ... -0.602962  0.319053       0.204967\n",
       "1456   -0.873616 -0.046038     0.672414  ...  1.678860  0.319053       0.204967\n",
       "1457    0.302568 -0.046038    -0.141636  ...  1.678860  0.319053       0.204967\n",
       "1458   -0.873616 -0.046038    -0.055946  ...  1.678860  0.319053       0.204967\n",
       "1459   -0.873616 -0.046038     0.243967  ...  0.157646  0.319053       0.204967\n",
       "\n",
       "[1452 rows x 79 columns]"
      ]
     },
     "execution_count": 166,
     "metadata": {},
     "output_type": "execute_result"
    }
   ],
   "source": [
    "X_train"
   ]
  },
  {
   "cell_type": "code",
   "execution_count": 167,
   "metadata": {},
   "outputs": [],
   "source": [
    "X_test=df.loc[df[target_column]==-1,train_columns]\n",
    "\n",
    "\n",
    "\n",
    "\n"
   ]
  },
  {
   "cell_type": "code",
   "execution_count": 168,
   "metadata": {},
   "outputs": [],
   "source": [
    "test_index=pd.read_csv('test.csv')['Id']"
   ]
  },
  {
   "cell_type": "code",
   "execution_count": 169,
   "metadata": {},
   "outputs": [
    {
     "data": {
      "text/html": [
       "<div>\n",
       "<style scoped>\n",
       "    .dataframe tbody tr th:only-of-type {\n",
       "        vertical-align: middle;\n",
       "    }\n",
       "\n",
       "    .dataframe tbody tr th {\n",
       "        vertical-align: top;\n",
       "    }\n",
       "\n",
       "    .dataframe thead th {\n",
       "        text-align: right;\n",
       "    }\n",
       "</style>\n",
       "<table border=\"1\" class=\"dataframe\">\n",
       "  <thead>\n",
       "    <tr style=\"text-align: right;\">\n",
       "      <th></th>\n",
       "      <th>MSSubClass</th>\n",
       "      <th>MSZoning</th>\n",
       "      <th>LotFrontage</th>\n",
       "      <th>LotArea</th>\n",
       "      <th>Street</th>\n",
       "      <th>Alley</th>\n",
       "      <th>LotShape</th>\n",
       "      <th>LandContour</th>\n",
       "      <th>Utilities</th>\n",
       "      <th>LotConfig</th>\n",
       "      <th>LandSlope</th>\n",
       "      <th>Neighborhood</th>\n",
       "      <th>Condition1</th>\n",
       "      <th>Condition2</th>\n",
       "      <th>BldgType</th>\n",
       "      <th>HouseStyle</th>\n",
       "      <th>OverallQual</th>\n",
       "      <th>OverallCond</th>\n",
       "      <th>YearBuilt</th>\n",
       "      <th>YearRemodAdd</th>\n",
       "      <th>RoofStyle</th>\n",
       "      <th>RoofMatl</th>\n",
       "      <th>Exterior1st</th>\n",
       "      <th>Exterior2nd</th>\n",
       "      <th>MasVnrType</th>\n",
       "      <th>MasVnrArea</th>\n",
       "      <th>ExterQual</th>\n",
       "      <th>ExterCond</th>\n",
       "      <th>Foundation</th>\n",
       "      <th>BsmtQual</th>\n",
       "      <th>BsmtCond</th>\n",
       "      <th>BsmtExposure</th>\n",
       "      <th>BsmtFinType1</th>\n",
       "      <th>BsmtFinSF1</th>\n",
       "      <th>BsmtFinType2</th>\n",
       "      <th>BsmtFinSF2</th>\n",
       "      <th>BsmtUnfSF</th>\n",
       "      <th>TotalBsmtSF</th>\n",
       "      <th>Heating</th>\n",
       "      <th>HeatingQC</th>\n",
       "      <th>CentralAir</th>\n",
       "      <th>Electrical</th>\n",
       "      <th>1stFlrSF</th>\n",
       "      <th>2ndFlrSF</th>\n",
       "      <th>LowQualFinSF</th>\n",
       "      <th>GrLivArea</th>\n",
       "      <th>BsmtFullBath</th>\n",
       "      <th>BsmtHalfBath</th>\n",
       "      <th>FullBath</th>\n",
       "      <th>HalfBath</th>\n",
       "      <th>BedroomAbvGr</th>\n",
       "      <th>KitchenAbvGr</th>\n",
       "      <th>KitchenQual</th>\n",
       "      <th>TotRmsAbvGrd</th>\n",
       "      <th>Functional</th>\n",
       "      <th>Fireplaces</th>\n",
       "      <th>FireplaceQu</th>\n",
       "      <th>GarageType</th>\n",
       "      <th>GarageYrBlt</th>\n",
       "      <th>GarageFinish</th>\n",
       "      <th>GarageCars</th>\n",
       "      <th>GarageArea</th>\n",
       "      <th>GarageQual</th>\n",
       "      <th>GarageCond</th>\n",
       "      <th>PavedDrive</th>\n",
       "      <th>WoodDeckSF</th>\n",
       "      <th>OpenPorchSF</th>\n",
       "      <th>EnclosedPorch</th>\n",
       "      <th>3SsnPorch</th>\n",
       "      <th>ScreenPorch</th>\n",
       "      <th>PoolArea</th>\n",
       "      <th>PoolQC</th>\n",
       "      <th>Fence</th>\n",
       "      <th>MiscFeature</th>\n",
       "      <th>MiscVal</th>\n",
       "      <th>MoSold</th>\n",
       "      <th>YrSold</th>\n",
       "      <th>SaleType</th>\n",
       "      <th>SaleCondition</th>\n",
       "    </tr>\n",
       "  </thead>\n",
       "  <tbody>\n",
       "    <tr>\n",
       "      <th>0</th>\n",
       "      <td>-0.873616</td>\n",
       "      <td>-1.555991</td>\n",
       "      <td>0.458190</td>\n",
       "      <td>0.184371</td>\n",
       "      <td>0.064249</td>\n",
       "      <td>0.257283</td>\n",
       "      <td>0.746669</td>\n",
       "      <td>0.316671</td>\n",
       "      <td>-0.030863</td>\n",
       "      <td>0.588555</td>\n",
       "      <td>-0.21626</td>\n",
       "      <td>-0.073382</td>\n",
       "      <td>-1.190557</td>\n",
       "      <td>-0.009816</td>\n",
       "      <td>-0.419174</td>\n",
       "      <td>-0.536817</td>\n",
       "      <td>-0.772552</td>\n",
       "      <td>0.391237</td>\n",
       "      <td>-0.340510</td>\n",
       "      <td>-1.113625</td>\n",
       "      <td>-0.482926</td>\n",
       "      <td>-0.116923</td>\n",
       "      <td>0.742177</td>\n",
       "      <td>0.749790</td>\n",
       "      <td>0.769946</td>\n",
       "      <td>-0.569991</td>\n",
       "      <td>0.668455</td>\n",
       "      <td>0.376461</td>\n",
       "      <td>-0.541017</td>\n",
       "      <td>0.771599</td>\n",
       "      <td>0.234254</td>\n",
       "      <td>0.584281</td>\n",
       "      <td>0.619291</td>\n",
       "      <td>0.058342</td>\n",
       "      <td>-1.694351</td>\n",
       "      <td>0.558102</td>\n",
       "      <td>-0.661645</td>\n",
       "      <td>-0.385253</td>\n",
       "      <td>-0.103206</td>\n",
       "      <td>1.415558</td>\n",
       "      <td>0.26829</td>\n",
       "      <td>0.300211</td>\n",
       "      <td>-0.671897</td>\n",
       "      <td>-0.785025</td>\n",
       "      <td>-0.101197</td>\n",
       "      <td>-1.195262</td>\n",
       "      <td>-0.819398</td>\n",
       "      <td>-0.249810</td>\n",
       "      <td>-1.027363</td>\n",
       "      <td>-0.756321</td>\n",
       "      <td>-1.045801</td>\n",
       "      <td>-0.207698</td>\n",
       "      <td>0.781859</td>\n",
       "      <td>-0.925062</td>\n",
       "      <td>0.255925</td>\n",
       "      <td>-0.924311</td>\n",
       "      <td>0.839596</td>\n",
       "      <td>-0.767783</td>\n",
       "      <td>-0.669286</td>\n",
       "      <td>0.798060</td>\n",
       "      <td>-1.006733</td>\n",
       "      <td>1.193945</td>\n",
       "      <td>0.137641</td>\n",
       "      <td>0.071758</td>\n",
       "      <td>0.31503</td>\n",
       "      <td>0.365916</td>\n",
       "      <td>-0.702843</td>\n",
       "      <td>-0.359601</td>\n",
       "      <td>-0.103331</td>\n",
       "      <td>1.850256</td>\n",
       "      <td>-0.06315</td>\n",
       "      <td>0.053507</td>\n",
       "      <td>-1.368839</td>\n",
       "      <td>0.188401</td>\n",
       "      <td>-0.089592</td>\n",
       "      <td>-0.078505</td>\n",
       "      <td>1.678860</td>\n",
       "      <td>0.319053</td>\n",
       "      <td>0.204967</td>\n",
       "    </tr>\n",
       "    <tr>\n",
       "      <th>1</th>\n",
       "      <td>-0.873616</td>\n",
       "      <td>-0.046038</td>\n",
       "      <td>0.501035</td>\n",
       "      <td>0.519791</td>\n",
       "      <td>0.064249</td>\n",
       "      <td>0.257283</td>\n",
       "      <td>-1.381776</td>\n",
       "      <td>0.316671</td>\n",
       "      <td>-0.030863</td>\n",
       "      <td>-1.904903</td>\n",
       "      <td>-0.21626</td>\n",
       "      <td>-0.073382</td>\n",
       "      <td>-0.046258</td>\n",
       "      <td>-0.009816</td>\n",
       "      <td>-0.419174</td>\n",
       "      <td>-0.536817</td>\n",
       "      <td>-0.063185</td>\n",
       "      <td>0.391237</td>\n",
       "      <td>-0.439565</td>\n",
       "      <td>-1.257229</td>\n",
       "      <td>1.953824</td>\n",
       "      <td>-0.116923</td>\n",
       "      <td>1.054701</td>\n",
       "      <td>1.031360</td>\n",
       "      <td>-1.389009</td>\n",
       "      <td>0.032340</td>\n",
       "      <td>0.668455</td>\n",
       "      <td>0.376461</td>\n",
       "      <td>-0.541017</td>\n",
       "      <td>0.771599</td>\n",
       "      <td>0.234254</td>\n",
       "      <td>0.584281</td>\n",
       "      <td>-1.528910</td>\n",
       "      <td>1.057173</td>\n",
       "      <td>0.281997</td>\n",
       "      <td>-0.293080</td>\n",
       "      <td>-0.352180</td>\n",
       "      <td>0.629063</td>\n",
       "      <td>-0.103206</td>\n",
       "      <td>1.415558</td>\n",
       "      <td>0.26829</td>\n",
       "      <td>0.300211</td>\n",
       "      <td>0.431865</td>\n",
       "      <td>-0.785025</td>\n",
       "      <td>-0.101197</td>\n",
       "      <td>-0.339470</td>\n",
       "      <td>-0.819398</td>\n",
       "      <td>-0.249810</td>\n",
       "      <td>-1.027363</td>\n",
       "      <td>1.232599</td>\n",
       "      <td>0.169927</td>\n",
       "      <td>-0.207698</td>\n",
       "      <td>-0.416171</td>\n",
       "      <td>-0.287758</td>\n",
       "      <td>0.255925</td>\n",
       "      <td>-0.924311</td>\n",
       "      <td>0.839596</td>\n",
       "      <td>-0.767783</td>\n",
       "      <td>-0.786612</td>\n",
       "      <td>0.798060</td>\n",
       "      <td>-1.006733</td>\n",
       "      <td>-0.747010</td>\n",
       "      <td>0.137641</td>\n",
       "      <td>0.071758</td>\n",
       "      <td>0.31503</td>\n",
       "      <td>2.365838</td>\n",
       "      <td>-0.170014</td>\n",
       "      <td>-0.359601</td>\n",
       "      <td>-0.103331</td>\n",
       "      <td>-0.285935</td>\n",
       "      <td>-0.06315</td>\n",
       "      <td>0.053507</td>\n",
       "      <td>0.464024</td>\n",
       "      <td>-9.676048</td>\n",
       "      <td>21.944410</td>\n",
       "      <td>-0.078505</td>\n",
       "      <td>1.678860</td>\n",
       "      <td>0.319053</td>\n",
       "      <td>0.204967</td>\n",
       "    </tr>\n",
       "    <tr>\n",
       "      <th>2</th>\n",
       "      <td>0.067331</td>\n",
       "      <td>-0.046038</td>\n",
       "      <td>0.201122</td>\n",
       "      <td>0.464374</td>\n",
       "      <td>0.064249</td>\n",
       "      <td>0.257283</td>\n",
       "      <td>-1.381776</td>\n",
       "      <td>0.316671</td>\n",
       "      <td>-0.030863</td>\n",
       "      <td>0.588555</td>\n",
       "      <td>-0.21626</td>\n",
       "      <td>-0.744864</td>\n",
       "      <td>-0.046258</td>\n",
       "      <td>-0.009816</td>\n",
       "      <td>-0.419174</td>\n",
       "      <td>1.031721</td>\n",
       "      <td>-0.772552</td>\n",
       "      <td>-0.507284</td>\n",
       "      <td>0.848148</td>\n",
       "      <td>0.657493</td>\n",
       "      <td>-0.482926</td>\n",
       "      <td>-0.116923</td>\n",
       "      <td>0.742177</td>\n",
       "      <td>0.749790</td>\n",
       "      <td>0.769946</td>\n",
       "      <td>-0.569991</td>\n",
       "      <td>0.668455</td>\n",
       "      <td>0.376461</td>\n",
       "      <td>0.834618</td>\n",
       "      <td>-0.312279</td>\n",
       "      <td>0.234254</td>\n",
       "      <td>0.584281</td>\n",
       "      <td>-0.454809</td>\n",
       "      <td>0.767402</td>\n",
       "      <td>0.281997</td>\n",
       "      <td>-0.293080</td>\n",
       "      <td>-0.964284</td>\n",
       "      <td>-0.280872</td>\n",
       "      <td>-0.103206</td>\n",
       "      <td>0.267617</td>\n",
       "      <td>0.26829</td>\n",
       "      <td>0.300211</td>\n",
       "      <td>-0.590326</td>\n",
       "      <td>0.850426</td>\n",
       "      <td>-0.101197</td>\n",
       "      <td>0.253457</td>\n",
       "      <td>-0.819398</td>\n",
       "      <td>-0.249810</td>\n",
       "      <td>0.781366</td>\n",
       "      <td>1.232599</td>\n",
       "      <td>0.169927</td>\n",
       "      <td>-0.207698</td>\n",
       "      <td>0.781859</td>\n",
       "      <td>-0.287758</td>\n",
       "      <td>0.255925</td>\n",
       "      <td>0.623632</td>\n",
       "      <td>0.124457</td>\n",
       "      <td>-0.767783</td>\n",
       "      <td>0.738633</td>\n",
       "      <td>-1.431163</td>\n",
       "      <td>0.306475</td>\n",
       "      <td>0.042373</td>\n",
       "      <td>0.137641</td>\n",
       "      <td>0.071758</td>\n",
       "      <td>0.31503</td>\n",
       "      <td>0.935064</td>\n",
       "      <td>-0.199616</td>\n",
       "      <td>-0.359601</td>\n",
       "      <td>-0.103331</td>\n",
       "      <td>-0.285935</td>\n",
       "      <td>-0.06315</td>\n",
       "      <td>0.053507</td>\n",
       "      <td>-1.368839</td>\n",
       "      <td>0.188401</td>\n",
       "      <td>-0.089592</td>\n",
       "      <td>-1.183764</td>\n",
       "      <td>1.678860</td>\n",
       "      <td>0.319053</td>\n",
       "      <td>0.204967</td>\n",
       "    </tr>\n",
       "    <tr>\n",
       "      <th>3</th>\n",
       "      <td>0.067331</td>\n",
       "      <td>-0.046038</td>\n",
       "      <td>0.372501</td>\n",
       "      <td>-0.024109</td>\n",
       "      <td>0.064249</td>\n",
       "      <td>0.257283</td>\n",
       "      <td>-1.381776</td>\n",
       "      <td>0.316671</td>\n",
       "      <td>-0.030863</td>\n",
       "      <td>0.588555</td>\n",
       "      <td>-0.21626</td>\n",
       "      <td>-0.744864</td>\n",
       "      <td>-0.046258</td>\n",
       "      <td>-0.009816</td>\n",
       "      <td>-0.419174</td>\n",
       "      <td>1.031721</td>\n",
       "      <td>-0.063185</td>\n",
       "      <td>0.391237</td>\n",
       "      <td>0.881166</td>\n",
       "      <td>0.657493</td>\n",
       "      <td>-0.482926</td>\n",
       "      <td>-0.116923</td>\n",
       "      <td>0.742177</td>\n",
       "      <td>0.749790</td>\n",
       "      <td>-1.389009</td>\n",
       "      <td>-0.458448</td>\n",
       "      <td>0.668455</td>\n",
       "      <td>0.376461</td>\n",
       "      <td>0.834618</td>\n",
       "      <td>0.771599</td>\n",
       "      <td>0.234254</td>\n",
       "      <td>0.584281</td>\n",
       "      <td>-0.454809</td>\n",
       "      <td>0.352503</td>\n",
       "      <td>0.281997</td>\n",
       "      <td>-0.293080</td>\n",
       "      <td>-0.538769</td>\n",
       "      <td>-0.285410</td>\n",
       "      <td>-0.103206</td>\n",
       "      <td>-0.880324</td>\n",
       "      <td>0.26829</td>\n",
       "      <td>0.300211</td>\n",
       "      <td>-0.595424</td>\n",
       "      <td>0.796766</td>\n",
       "      <td>-0.101197</td>\n",
       "      <td>0.204046</td>\n",
       "      <td>-0.819398</td>\n",
       "      <td>-0.249810</td>\n",
       "      <td>0.781366</td>\n",
       "      <td>1.232599</td>\n",
       "      <td>0.169927</td>\n",
       "      <td>-0.207698</td>\n",
       "      <td>-0.416171</td>\n",
       "      <td>0.349546</td>\n",
       "      <td>0.255925</td>\n",
       "      <td>0.623632</td>\n",
       "      <td>-1.305821</td>\n",
       "      <td>-0.767783</td>\n",
       "      <td>0.777742</td>\n",
       "      <td>-1.431163</td>\n",
       "      <td>0.306475</td>\n",
       "      <td>-0.013348</td>\n",
       "      <td>0.137641</td>\n",
       "      <td>0.071758</td>\n",
       "      <td>0.31503</td>\n",
       "      <td>2.104979</td>\n",
       "      <td>-0.170014</td>\n",
       "      <td>-0.359601</td>\n",
       "      <td>-0.103331</td>\n",
       "      <td>-0.285935</td>\n",
       "      <td>-0.06315</td>\n",
       "      <td>0.053507</td>\n",
       "      <td>0.464024</td>\n",
       "      <td>0.188401</td>\n",
       "      <td>-0.089592</td>\n",
       "      <td>-0.078505</td>\n",
       "      <td>1.678860</td>\n",
       "      <td>0.319053</td>\n",
       "      <td>0.204967</td>\n",
       "    </tr>\n",
       "    <tr>\n",
       "      <th>4</th>\n",
       "      <td>1.478753</td>\n",
       "      <td>-0.046038</td>\n",
       "      <td>-1.127064</td>\n",
       "      <td>-0.654748</td>\n",
       "      <td>0.064249</td>\n",
       "      <td>0.257283</td>\n",
       "      <td>-1.381776</td>\n",
       "      <td>-2.523149</td>\n",
       "      <td>-0.030863</td>\n",
       "      <td>0.588555</td>\n",
       "      <td>-0.21626</td>\n",
       "      <td>1.605323</td>\n",
       "      <td>-0.046258</td>\n",
       "      <td>-0.009816</td>\n",
       "      <td>2.896733</td>\n",
       "      <td>-0.536817</td>\n",
       "      <td>1.355551</td>\n",
       "      <td>-0.507284</td>\n",
       "      <td>0.683057</td>\n",
       "      <td>0.370284</td>\n",
       "      <td>-0.482926</td>\n",
       "      <td>-0.116923</td>\n",
       "      <td>-1.132966</td>\n",
       "      <td>-1.221195</td>\n",
       "      <td>0.769946</td>\n",
       "      <td>-0.569991</td>\n",
       "      <td>-0.755793</td>\n",
       "      <td>0.376461</td>\n",
       "      <td>0.834618</td>\n",
       "      <td>-0.312279</td>\n",
       "      <td>0.234254</td>\n",
       "      <td>0.584281</td>\n",
       "      <td>-1.528910</td>\n",
       "      <td>-0.391680</td>\n",
       "      <td>0.281997</td>\n",
       "      <td>-0.293080</td>\n",
       "      <td>1.038136</td>\n",
       "      <td>0.517874</td>\n",
       "      <td>-0.103206</td>\n",
       "      <td>-0.880324</td>\n",
       "      <td>0.26829</td>\n",
       "      <td>0.300211</td>\n",
       "      <td>0.306959</td>\n",
       "      <td>-0.785025</td>\n",
       "      <td>-0.101197</td>\n",
       "      <td>-0.436315</td>\n",
       "      <td>-0.819398</td>\n",
       "      <td>-0.249810</td>\n",
       "      <td>0.781366</td>\n",
       "      <td>-0.756321</td>\n",
       "      <td>-1.045801</td>\n",
       "      <td>-0.207698</td>\n",
       "      <td>-0.416171</td>\n",
       "      <td>-0.925062</td>\n",
       "      <td>0.255925</td>\n",
       "      <td>-0.924311</td>\n",
       "      <td>0.839596</td>\n",
       "      <td>-0.767783</td>\n",
       "      <td>0.543089</td>\n",
       "      <td>-0.316551</td>\n",
       "      <td>0.306475</td>\n",
       "      <td>0.153816</td>\n",
       "      <td>0.137641</td>\n",
       "      <td>0.071758</td>\n",
       "      <td>0.31503</td>\n",
       "      <td>-0.740760</td>\n",
       "      <td>0.510823</td>\n",
       "      <td>-0.359601</td>\n",
       "      <td>-0.103331</td>\n",
       "      <td>2.277494</td>\n",
       "      <td>-0.06315</td>\n",
       "      <td>0.053507</td>\n",
       "      <td>0.464024</td>\n",
       "      <td>0.188401</td>\n",
       "      <td>-0.089592</td>\n",
       "      <td>-1.920603</td>\n",
       "      <td>1.678860</td>\n",
       "      <td>0.319053</td>\n",
       "      <td>0.204967</td>\n",
       "    </tr>\n",
       "    <tr>\n",
       "      <th>...</th>\n",
       "      <td>...</td>\n",
       "      <td>...</td>\n",
       "      <td>...</td>\n",
       "      <td>...</td>\n",
       "      <td>...</td>\n",
       "      <td>...</td>\n",
       "      <td>...</td>\n",
       "      <td>...</td>\n",
       "      <td>...</td>\n",
       "      <td>...</td>\n",
       "      <td>...</td>\n",
       "      <td>...</td>\n",
       "      <td>...</td>\n",
       "      <td>...</td>\n",
       "      <td>...</td>\n",
       "      <td>...</td>\n",
       "      <td>...</td>\n",
       "      <td>...</td>\n",
       "      <td>...</td>\n",
       "      <td>...</td>\n",
       "      <td>...</td>\n",
       "      <td>...</td>\n",
       "      <td>...</td>\n",
       "      <td>...</td>\n",
       "      <td>...</td>\n",
       "      <td>...</td>\n",
       "      <td>...</td>\n",
       "      <td>...</td>\n",
       "      <td>...</td>\n",
       "      <td>...</td>\n",
       "      <td>...</td>\n",
       "      <td>...</td>\n",
       "      <td>...</td>\n",
       "      <td>...</td>\n",
       "      <td>...</td>\n",
       "      <td>...</td>\n",
       "      <td>...</td>\n",
       "      <td>...</td>\n",
       "      <td>...</td>\n",
       "      <td>...</td>\n",
       "      <td>...</td>\n",
       "      <td>...</td>\n",
       "      <td>...</td>\n",
       "      <td>...</td>\n",
       "      <td>...</td>\n",
       "      <td>...</td>\n",
       "      <td>...</td>\n",
       "      <td>...</td>\n",
       "      <td>...</td>\n",
       "      <td>...</td>\n",
       "      <td>...</td>\n",
       "      <td>...</td>\n",
       "      <td>...</td>\n",
       "      <td>...</td>\n",
       "      <td>...</td>\n",
       "      <td>...</td>\n",
       "      <td>...</td>\n",
       "      <td>...</td>\n",
       "      <td>...</td>\n",
       "      <td>...</td>\n",
       "      <td>...</td>\n",
       "      <td>...</td>\n",
       "      <td>...</td>\n",
       "      <td>...</td>\n",
       "      <td>...</td>\n",
       "      <td>...</td>\n",
       "      <td>...</td>\n",
       "      <td>...</td>\n",
       "      <td>...</td>\n",
       "      <td>...</td>\n",
       "      <td>...</td>\n",
       "      <td>...</td>\n",
       "      <td>...</td>\n",
       "      <td>...</td>\n",
       "      <td>...</td>\n",
       "      <td>...</td>\n",
       "      <td>...</td>\n",
       "      <td>...</td>\n",
       "      <td>...</td>\n",
       "    </tr>\n",
       "    <tr>\n",
       "      <th>1454</th>\n",
       "      <td>2.419700</td>\n",
       "      <td>1.463915</td>\n",
       "      <td>-2.069648</td>\n",
       "      <td>-1.043937</td>\n",
       "      <td>0.064249</td>\n",
       "      <td>0.257283</td>\n",
       "      <td>0.746669</td>\n",
       "      <td>0.316671</td>\n",
       "      <td>-0.030863</td>\n",
       "      <td>0.588555</td>\n",
       "      <td>-0.21626</td>\n",
       "      <td>-0.409123</td>\n",
       "      <td>-0.046258</td>\n",
       "      <td>-0.009816</td>\n",
       "      <td>2.067756</td>\n",
       "      <td>1.031721</td>\n",
       "      <td>-1.481920</td>\n",
       "      <td>1.289758</td>\n",
       "      <td>-0.043346</td>\n",
       "      <td>-0.682812</td>\n",
       "      <td>-0.482926</td>\n",
       "      <td>-0.116923</td>\n",
       "      <td>-1.445490</td>\n",
       "      <td>-1.502764</td>\n",
       "      <td>0.769946</td>\n",
       "      <td>-0.569991</td>\n",
       "      <td>0.668455</td>\n",
       "      <td>0.376461</td>\n",
       "      <td>-0.541017</td>\n",
       "      <td>0.771599</td>\n",
       "      <td>0.234254</td>\n",
       "      <td>0.584281</td>\n",
       "      <td>1.156342</td>\n",
       "      <td>-0.969026</td>\n",
       "      <td>0.281997</td>\n",
       "      <td>-0.293080</td>\n",
       "      <td>-0.033614</td>\n",
       "      <td>-1.147693</td>\n",
       "      <td>-0.103206</td>\n",
       "      <td>0.267617</td>\n",
       "      <td>0.26829</td>\n",
       "      <td>0.300211</td>\n",
       "      <td>-1.564083</td>\n",
       "      <td>0.488807</td>\n",
       "      <td>-0.101197</td>\n",
       "      <td>-0.807883</td>\n",
       "      <td>-0.819398</td>\n",
       "      <td>-0.249810</td>\n",
       "      <td>-1.027363</td>\n",
       "      <td>1.232599</td>\n",
       "      <td>0.169927</td>\n",
       "      <td>-0.207698</td>\n",
       "      <td>0.781859</td>\n",
       "      <td>-0.925062</td>\n",
       "      <td>0.255925</td>\n",
       "      <td>-0.924311</td>\n",
       "      <td>0.839596</td>\n",
       "      <td>1.819562</td>\n",
       "      <td>NaN</td>\n",
       "      <td>1.912672</td>\n",
       "      <td>-2.319941</td>\n",
       "      <td>-2.195761</td>\n",
       "      <td>1.582873</td>\n",
       "      <td>1.831939</td>\n",
       "      <td>0.31503</td>\n",
       "      <td>-0.740760</td>\n",
       "      <td>-0.702843</td>\n",
       "      <td>-0.359601</td>\n",
       "      <td>-0.103331</td>\n",
       "      <td>-0.285935</td>\n",
       "      <td>-0.06315</td>\n",
       "      <td>0.053507</td>\n",
       "      <td>0.464024</td>\n",
       "      <td>0.188401</td>\n",
       "      <td>-0.089592</td>\n",
       "      <td>-0.078505</td>\n",
       "      <td>-1.363569</td>\n",
       "      <td>0.319053</td>\n",
       "      <td>0.204967</td>\n",
       "    </tr>\n",
       "    <tr>\n",
       "      <th>1455</th>\n",
       "      <td>2.419700</td>\n",
       "      <td>1.463915</td>\n",
       "      <td>-2.069648</td>\n",
       "      <td>-1.049263</td>\n",
       "      <td>0.064249</td>\n",
       "      <td>0.257283</td>\n",
       "      <td>0.746669</td>\n",
       "      <td>0.316671</td>\n",
       "      <td>-0.030863</td>\n",
       "      <td>0.588555</td>\n",
       "      <td>-0.21626</td>\n",
       "      <td>-0.409123</td>\n",
       "      <td>-0.046258</td>\n",
       "      <td>-0.009816</td>\n",
       "      <td>2.896733</td>\n",
       "      <td>1.031721</td>\n",
       "      <td>-1.481920</td>\n",
       "      <td>-0.507284</td>\n",
       "      <td>-0.043346</td>\n",
       "      <td>-0.682812</td>\n",
       "      <td>-0.482926</td>\n",
       "      <td>-0.116923</td>\n",
       "      <td>-1.445490</td>\n",
       "      <td>-1.502764</td>\n",
       "      <td>0.769946</td>\n",
       "      <td>-0.569991</td>\n",
       "      <td>0.668455</td>\n",
       "      <td>0.376461</td>\n",
       "      <td>-0.541017</td>\n",
       "      <td>0.771599</td>\n",
       "      <td>0.234254</td>\n",
       "      <td>0.584281</td>\n",
       "      <td>0.619291</td>\n",
       "      <td>-0.415828</td>\n",
       "      <td>0.281997</td>\n",
       "      <td>-0.293080</td>\n",
       "      <td>-0.607034</td>\n",
       "      <td>-1.147693</td>\n",
       "      <td>-0.103206</td>\n",
       "      <td>1.415558</td>\n",
       "      <td>0.26829</td>\n",
       "      <td>0.300211</td>\n",
       "      <td>-1.564083</td>\n",
       "      <td>0.488807</td>\n",
       "      <td>-0.101197</td>\n",
       "      <td>-0.807883</td>\n",
       "      <td>-0.819398</td>\n",
       "      <td>-0.249810</td>\n",
       "      <td>-1.027363</td>\n",
       "      <td>1.232599</td>\n",
       "      <td>0.169927</td>\n",
       "      <td>-0.207698</td>\n",
       "      <td>0.781859</td>\n",
       "      <td>-0.287758</td>\n",
       "      <td>0.255925</td>\n",
       "      <td>-0.924311</td>\n",
       "      <td>0.839596</td>\n",
       "      <td>0.784624</td>\n",
       "      <td>-0.317306</td>\n",
       "      <td>0.798060</td>\n",
       "      <td>-1.006733</td>\n",
       "      <td>-0.867740</td>\n",
       "      <td>0.137641</td>\n",
       "      <td>0.071758</td>\n",
       "      <td>0.31503</td>\n",
       "      <td>-0.740760</td>\n",
       "      <td>-0.347624</td>\n",
       "      <td>-0.359601</td>\n",
       "      <td>-0.103331</td>\n",
       "      <td>-0.285935</td>\n",
       "      <td>-0.06315</td>\n",
       "      <td>0.053507</td>\n",
       "      <td>0.464024</td>\n",
       "      <td>0.188401</td>\n",
       "      <td>-0.089592</td>\n",
       "      <td>-0.815344</td>\n",
       "      <td>-1.363569</td>\n",
       "      <td>0.319053</td>\n",
       "      <td>-3.505415</td>\n",
       "    </tr>\n",
       "    <tr>\n",
       "      <th>1456</th>\n",
       "      <td>-0.873616</td>\n",
       "      <td>-0.046038</td>\n",
       "      <td>3.885767</td>\n",
       "      <td>1.246808</td>\n",
       "      <td>0.064249</td>\n",
       "      <td>0.257283</td>\n",
       "      <td>0.746669</td>\n",
       "      <td>0.316671</td>\n",
       "      <td>-0.030863</td>\n",
       "      <td>0.588555</td>\n",
       "      <td>-0.21626</td>\n",
       "      <td>-0.241253</td>\n",
       "      <td>-0.046258</td>\n",
       "      <td>-0.009816</td>\n",
       "      <td>-0.419174</td>\n",
       "      <td>-0.536817</td>\n",
       "      <td>-0.772552</td>\n",
       "      <td>1.289758</td>\n",
       "      <td>-0.373528</td>\n",
       "      <td>0.561757</td>\n",
       "      <td>-0.482926</td>\n",
       "      <td>-0.116923</td>\n",
       "      <td>0.742177</td>\n",
       "      <td>0.749790</td>\n",
       "      <td>0.769946</td>\n",
       "      <td>-0.569991</td>\n",
       "      <td>0.668455</td>\n",
       "      <td>0.376461</td>\n",
       "      <td>-0.541017</td>\n",
       "      <td>0.771599</td>\n",
       "      <td>0.234254</td>\n",
       "      <td>0.584281</td>\n",
       "      <td>-1.528910</td>\n",
       "      <td>1.717937</td>\n",
       "      <td>0.281997</td>\n",
       "      <td>-0.293080</td>\n",
       "      <td>-1.276024</td>\n",
       "      <td>0.390801</td>\n",
       "      <td>-0.103206</td>\n",
       "      <td>-0.880324</td>\n",
       "      <td>0.26829</td>\n",
       "      <td>0.300211</td>\n",
       "      <td>0.164209</td>\n",
       "      <td>-0.785025</td>\n",
       "      <td>-0.101197</td>\n",
       "      <td>-0.546995</td>\n",
       "      <td>1.086650</td>\n",
       "      <td>-0.249810</td>\n",
       "      <td>-1.027363</td>\n",
       "      <td>-0.756321</td>\n",
       "      <td>1.385655</td>\n",
       "      <td>-0.207698</td>\n",
       "      <td>0.781859</td>\n",
       "      <td>0.349546</td>\n",
       "      <td>0.255925</td>\n",
       "      <td>0.623632</td>\n",
       "      <td>0.124457</td>\n",
       "      <td>1.302093</td>\n",
       "      <td>-0.708395</td>\n",
       "      <td>0.798060</td>\n",
       "      <td>0.306475</td>\n",
       "      <td>0.478856</td>\n",
       "      <td>0.137641</td>\n",
       "      <td>0.071758</td>\n",
       "      <td>0.31503</td>\n",
       "      <td>3.006130</td>\n",
       "      <td>-0.702843</td>\n",
       "      <td>-0.359601</td>\n",
       "      <td>-0.103331</td>\n",
       "      <td>-0.285935</td>\n",
       "      <td>-0.06315</td>\n",
       "      <td>0.053507</td>\n",
       "      <td>0.464024</td>\n",
       "      <td>0.188401</td>\n",
       "      <td>-0.089592</td>\n",
       "      <td>1.026753</td>\n",
       "      <td>-1.363569</td>\n",
       "      <td>0.319053</td>\n",
       "      <td>-3.505415</td>\n",
       "    </tr>\n",
       "    <tr>\n",
       "      <th>1457</th>\n",
       "      <td>0.655424</td>\n",
       "      <td>-0.046038</td>\n",
       "      <td>-0.313015</td>\n",
       "      <td>0.034605</td>\n",
       "      <td>0.064249</td>\n",
       "      <td>0.257283</td>\n",
       "      <td>0.746669</td>\n",
       "      <td>0.316671</td>\n",
       "      <td>-0.030863</td>\n",
       "      <td>0.588555</td>\n",
       "      <td>-0.21626</td>\n",
       "      <td>-0.241253</td>\n",
       "      <td>-0.046258</td>\n",
       "      <td>-0.009816</td>\n",
       "      <td>-0.419174</td>\n",
       "      <td>1.554567</td>\n",
       "      <td>-0.772552</td>\n",
       "      <td>-0.507284</td>\n",
       "      <td>0.683057</td>\n",
       "      <td>0.370284</td>\n",
       "      <td>-0.482926</td>\n",
       "      <td>-0.116923</td>\n",
       "      <td>-1.132966</td>\n",
       "      <td>1.312929</td>\n",
       "      <td>0.769946</td>\n",
       "      <td>-0.569991</td>\n",
       "      <td>0.668455</td>\n",
       "      <td>0.376461</td>\n",
       "      <td>0.834618</td>\n",
       "      <td>-0.312279</td>\n",
       "      <td>0.234254</td>\n",
       "      <td>-2.022213</td>\n",
       "      <td>-0.454809</td>\n",
       "      <td>-0.229233</td>\n",
       "      <td>0.281997</td>\n",
       "      <td>-0.293080</td>\n",
       "      <td>0.032375</td>\n",
       "      <td>-0.317178</td>\n",
       "      <td>-0.103206</td>\n",
       "      <td>1.415558</td>\n",
       "      <td>0.26829</td>\n",
       "      <td>0.300211</td>\n",
       "      <td>-0.483263</td>\n",
       "      <td>-0.785025</td>\n",
       "      <td>-0.101197</td>\n",
       "      <td>-1.049006</td>\n",
       "      <td>-0.819398</td>\n",
       "      <td>3.821109</td>\n",
       "      <td>-1.027363</td>\n",
       "      <td>-0.756321</td>\n",
       "      <td>0.169927</td>\n",
       "      <td>-0.207698</td>\n",
       "      <td>0.781859</td>\n",
       "      <td>-0.287758</td>\n",
       "      <td>0.255925</td>\n",
       "      <td>-0.924311</td>\n",
       "      <td>0.839596</td>\n",
       "      <td>1.819562</td>\n",
       "      <td>NaN</td>\n",
       "      <td>1.912672</td>\n",
       "      <td>-2.319941</td>\n",
       "      <td>-2.195761</td>\n",
       "      <td>1.582873</td>\n",
       "      <td>1.831939</td>\n",
       "      <td>0.31503</td>\n",
       "      <td>-0.108374</td>\n",
       "      <td>-0.229217</td>\n",
       "      <td>-0.359601</td>\n",
       "      <td>-0.103331</td>\n",
       "      <td>-0.285935</td>\n",
       "      <td>-0.06315</td>\n",
       "      <td>0.053507</td>\n",
       "      <td>-1.368839</td>\n",
       "      <td>-4.743824</td>\n",
       "      <td>1.144312</td>\n",
       "      <td>0.289914</td>\n",
       "      <td>-1.363569</td>\n",
       "      <td>0.319053</td>\n",
       "      <td>0.204967</td>\n",
       "    </tr>\n",
       "    <tr>\n",
       "      <th>1458</th>\n",
       "      <td>0.067331</td>\n",
       "      <td>-0.046038</td>\n",
       "      <td>0.201122</td>\n",
       "      <td>-0.068620</td>\n",
       "      <td>0.064249</td>\n",
       "      <td>0.257283</td>\n",
       "      <td>0.746669</td>\n",
       "      <td>0.316671</td>\n",
       "      <td>-0.030863</td>\n",
       "      <td>0.588555</td>\n",
       "      <td>3.80453</td>\n",
       "      <td>-0.241253</td>\n",
       "      <td>-0.046258</td>\n",
       "      <td>-0.009816</td>\n",
       "      <td>-0.419174</td>\n",
       "      <td>1.031721</td>\n",
       "      <td>0.646183</td>\n",
       "      <td>-0.507284</td>\n",
       "      <td>0.716075</td>\n",
       "      <td>0.466021</td>\n",
       "      <td>-0.482926</td>\n",
       "      <td>-0.116923</td>\n",
       "      <td>-1.132966</td>\n",
       "      <td>-1.221195</td>\n",
       "      <td>-1.389009</td>\n",
       "      <td>-0.045740</td>\n",
       "      <td>0.668455</td>\n",
       "      <td>0.376461</td>\n",
       "      <td>0.834618</td>\n",
       "      <td>-0.312279</td>\n",
       "      <td>0.234254</td>\n",
       "      <td>-2.022213</td>\n",
       "      <td>0.082241</td>\n",
       "      <td>0.694959</td>\n",
       "      <td>0.281997</td>\n",
       "      <td>-0.293080</td>\n",
       "      <td>-0.734460</td>\n",
       "      <td>-0.126569</td>\n",
       "      <td>-0.103206</td>\n",
       "      <td>-0.880324</td>\n",
       "      <td>0.26829</td>\n",
       "      <td>0.300211</td>\n",
       "      <td>-0.416987</td>\n",
       "      <td>1.557332</td>\n",
       "      <td>-0.101197</td>\n",
       "      <td>0.986710</td>\n",
       "      <td>-0.819398</td>\n",
       "      <td>-0.249810</td>\n",
       "      <td>0.781366</td>\n",
       "      <td>1.232599</td>\n",
       "      <td>0.169927</td>\n",
       "      <td>-0.207698</td>\n",
       "      <td>0.781859</td>\n",
       "      <td>1.624153</td>\n",
       "      <td>0.255925</td>\n",
       "      <td>0.623632</td>\n",
       "      <td>0.124457</td>\n",
       "      <td>-0.767783</td>\n",
       "      <td>0.582198</td>\n",
       "      <td>-1.431163</td>\n",
       "      <td>1.619684</td>\n",
       "      <td>0.822470</td>\n",
       "      <td>0.137641</td>\n",
       "      <td>0.071758</td>\n",
       "      <td>0.31503</td>\n",
       "      <td>0.761158</td>\n",
       "      <td>0.007596</td>\n",
       "      <td>-0.359601</td>\n",
       "      <td>-0.103331</td>\n",
       "      <td>-0.285935</td>\n",
       "      <td>-0.06315</td>\n",
       "      <td>0.053507</td>\n",
       "      <td>0.464024</td>\n",
       "      <td>0.188401</td>\n",
       "      <td>-0.089592</td>\n",
       "      <td>1.763592</td>\n",
       "      <td>-1.363569</td>\n",
       "      <td>0.319053</td>\n",
       "      <td>0.204967</td>\n",
       "    </tr>\n",
       "  </tbody>\n",
       "</table>\n",
       "<p>1459 rows × 79 columns</p>\n",
       "</div>"
      ],
      "text/plain": [
       "      MSSubClass  MSZoning  LotFrontage  ...    YrSold  SaleType  SaleCondition\n",
       "0      -0.873616 -1.555991     0.458190  ...  1.678860  0.319053       0.204967\n",
       "1      -0.873616 -0.046038     0.501035  ...  1.678860  0.319053       0.204967\n",
       "2       0.067331 -0.046038     0.201122  ...  1.678860  0.319053       0.204967\n",
       "3       0.067331 -0.046038     0.372501  ...  1.678860  0.319053       0.204967\n",
       "4       1.478753 -0.046038    -1.127064  ...  1.678860  0.319053       0.204967\n",
       "...          ...       ...          ...  ...       ...       ...            ...\n",
       "1454    2.419700  1.463915    -2.069648  ... -1.363569  0.319053       0.204967\n",
       "1455    2.419700  1.463915    -2.069648  ... -1.363569  0.319053      -3.505415\n",
       "1456   -0.873616 -0.046038     3.885767  ... -1.363569  0.319053      -3.505415\n",
       "1457    0.655424 -0.046038    -0.313015  ... -1.363569  0.319053       0.204967\n",
       "1458    0.067331 -0.046038     0.201122  ... -1.363569  0.319053       0.204967\n",
       "\n",
       "[1459 rows x 79 columns]"
      ]
     },
     "execution_count": 169,
     "metadata": {},
     "output_type": "execute_result"
    }
   ],
   "source": [
    "X_test\n"
   ]
  },
  {
   "cell_type": "code",
   "execution_count": 170,
   "metadata": {},
   "outputs": [],
   "source": [
    "predictions=xgb_model.predict(X_test)\n",
    "\n",
    "predictions=target_scaler.inverse_transform(pd.DataFrame(predictions))\n",
    "\n",
    "pd.DataFrame(predictions,index=test_index,columns=['SalePrice']).to_csv('submission7.csv')"
   ]
  }
 ],
 "metadata": {
  "kernelspec": {
   "display_name": "3-_house_price_predictor-gE_A7rtz-py3.12",
   "language": "python",
   "name": "python3"
  },
  "language_info": {
   "codemirror_mode": {
    "name": "ipython",
    "version": 3
   },
   "file_extension": ".py",
   "mimetype": "text/x-python",
   "name": "python",
   "nbconvert_exporter": "python",
   "pygments_lexer": "ipython3",
   "version": "3.12.9"
  }
 },
 "nbformat": 4,
 "nbformat_minor": 2
}
