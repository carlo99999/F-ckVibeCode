{
 "cells": [
  {
   "cell_type": "code",
   "execution_count": 3,
   "metadata": {},
   "outputs": [],
   "source": [
    "import polars as pl\n",
    "import torch\n",
    "import torch.nn as nn\n",
    "import xgboost as xgb\n",
    "import lightgbm as lgb\n"
   ]
  },
  {
   "cell_type": "code",
   "execution_count": 4,
   "metadata": {},
   "outputs": [
    {
     "data": {
      "text/html": [
       "<div><style>\n",
       ".dataframe > thead > tr,\n",
       ".dataframe > tbody > tr {\n",
       "  text-align: right;\n",
       "  white-space: pre-wrap;\n",
       "}\n",
       "</style>\n",
       "<small>shape: (9, 13)</small><table border=\"1\" class=\"dataframe\"><thead><tr><th>statistic</th><th>PassengerId</th><th>Survived</th><th>Pclass</th><th>Name</th><th>Sex</th><th>Age</th><th>SibSp</th><th>Parch</th><th>Ticket</th><th>Fare</th><th>Cabin</th><th>Embarked</th></tr><tr><td>str</td><td>f64</td><td>f64</td><td>f64</td><td>str</td><td>str</td><td>f64</td><td>f64</td><td>f64</td><td>str</td><td>f64</td><td>str</td><td>str</td></tr></thead><tbody><tr><td>&quot;count&quot;</td><td>891.0</td><td>891.0</td><td>891.0</td><td>&quot;891&quot;</td><td>&quot;891&quot;</td><td>714.0</td><td>891.0</td><td>891.0</td><td>&quot;891&quot;</td><td>891.0</td><td>&quot;204&quot;</td><td>&quot;889&quot;</td></tr><tr><td>&quot;null_count&quot;</td><td>0.0</td><td>0.0</td><td>0.0</td><td>&quot;0&quot;</td><td>&quot;0&quot;</td><td>177.0</td><td>0.0</td><td>0.0</td><td>&quot;0&quot;</td><td>0.0</td><td>&quot;687&quot;</td><td>&quot;2&quot;</td></tr><tr><td>&quot;mean&quot;</td><td>446.0</td><td>0.383838</td><td>2.308642</td><td>null</td><td>null</td><td>29.699118</td><td>0.523008</td><td>0.381594</td><td>null</td><td>32.204208</td><td>null</td><td>null</td></tr><tr><td>&quot;std&quot;</td><td>257.353842</td><td>0.486592</td><td>0.836071</td><td>null</td><td>null</td><td>14.526497</td><td>1.102743</td><td>0.806057</td><td>null</td><td>49.693429</td><td>null</td><td>null</td></tr><tr><td>&quot;min&quot;</td><td>1.0</td><td>0.0</td><td>1.0</td><td>&quot;Abbing, Mr. Anthony&quot;</td><td>&quot;female&quot;</td><td>0.42</td><td>0.0</td><td>0.0</td><td>&quot;110152&quot;</td><td>0.0</td><td>&quot;A10&quot;</td><td>&quot;C&quot;</td></tr><tr><td>&quot;25%&quot;</td><td>224.0</td><td>0.0</td><td>2.0</td><td>null</td><td>null</td><td>20.0</td><td>0.0</td><td>0.0</td><td>null</td><td>7.925</td><td>null</td><td>null</td></tr><tr><td>&quot;50%&quot;</td><td>446.0</td><td>0.0</td><td>3.0</td><td>null</td><td>null</td><td>28.0</td><td>0.0</td><td>0.0</td><td>null</td><td>14.4542</td><td>null</td><td>null</td></tr><tr><td>&quot;75%&quot;</td><td>669.0</td><td>1.0</td><td>3.0</td><td>null</td><td>null</td><td>38.0</td><td>1.0</td><td>0.0</td><td>null</td><td>31.0</td><td>null</td><td>null</td></tr><tr><td>&quot;max&quot;</td><td>891.0</td><td>1.0</td><td>3.0</td><td>&quot;van Melkebeke, Mr. Philemon&quot;</td><td>&quot;male&quot;</td><td>80.0</td><td>8.0</td><td>6.0</td><td>&quot;WE/P 5735&quot;</td><td>512.3292</td><td>&quot;T&quot;</td><td>&quot;S&quot;</td></tr></tbody></table></div>"
      ],
      "text/plain": [
       "shape: (9, 13)\n",
       "┌────────────┬─────────────┬──────────┬──────────┬───┬───────────┬───────────┬───────┬──────────┐\n",
       "│ statistic  ┆ PassengerId ┆ Survived ┆ Pclass   ┆ … ┆ Ticket    ┆ Fare      ┆ Cabin ┆ Embarked │\n",
       "│ ---        ┆ ---         ┆ ---      ┆ ---      ┆   ┆ ---       ┆ ---       ┆ ---   ┆ ---      │\n",
       "│ str        ┆ f64         ┆ f64      ┆ f64      ┆   ┆ str       ┆ f64       ┆ str   ┆ str      │\n",
       "╞════════════╪═════════════╪══════════╪══════════╪═══╪═══════════╪═══════════╪═══════╪══════════╡\n",
       "│ count      ┆ 891.0       ┆ 891.0    ┆ 891.0    ┆ … ┆ 891       ┆ 891.0     ┆ 204   ┆ 889      │\n",
       "│ null_count ┆ 0.0         ┆ 0.0      ┆ 0.0      ┆ … ┆ 0         ┆ 0.0       ┆ 687   ┆ 2        │\n",
       "│ mean       ┆ 446.0       ┆ 0.383838 ┆ 2.308642 ┆ … ┆ null      ┆ 32.204208 ┆ null  ┆ null     │\n",
       "│ std        ┆ 257.353842  ┆ 0.486592 ┆ 0.836071 ┆ … ┆ null      ┆ 49.693429 ┆ null  ┆ null     │\n",
       "│ min        ┆ 1.0         ┆ 0.0      ┆ 1.0      ┆ … ┆ 110152    ┆ 0.0       ┆ A10   ┆ C        │\n",
       "│ 25%        ┆ 224.0       ┆ 0.0      ┆ 2.0      ┆ … ┆ null      ┆ 7.925     ┆ null  ┆ null     │\n",
       "│ 50%        ┆ 446.0       ┆ 0.0      ┆ 3.0      ┆ … ┆ null      ┆ 14.4542   ┆ null  ┆ null     │\n",
       "│ 75%        ┆ 669.0       ┆ 1.0      ┆ 3.0      ┆ … ┆ null      ┆ 31.0      ┆ null  ┆ null     │\n",
       "│ max        ┆ 891.0       ┆ 1.0      ┆ 3.0      ┆ … ┆ WE/P 5735 ┆ 512.3292  ┆ T     ┆ S        │\n",
       "└────────────┴─────────────┴──────────┴──────────┴───┴───────────┴───────────┴───────┴──────────┘"
      ]
     },
     "execution_count": 4,
     "metadata": {},
     "output_type": "execute_result"
    }
   ],
   "source": [
    "df=pl.read_csv('train.csv')\n",
    "\n",
    "df.head()\n",
    "\n",
    "df.describe()\n",
    "\n"
   ]
  },
  {
   "cell_type": "code",
   "execution_count": 5,
   "metadata": {},
   "outputs": [
    {
     "name": "stdout",
     "output_type": "stream",
     "text": [
      "String\n",
      "String\n",
      "String\n",
      "String\n",
      "String\n"
     ]
    }
   ],
   "source": [
    "X=df.drop(['Survived','PassengerId'])\n",
    "y=df['Survived']\n",
    "\n",
    "## Convert every non numeric column to categorical\n",
    "for col in X.columns:\n",
    "    if X[col].dtype == pl.String:\n",
    "        print(X[col].dtype)\n",
    "        X = X.with_columns(pl.col(col).cast(pl.Categorical))\n",
    "\n",
    "\n"
   ]
  },
  {
   "cell_type": "code",
   "execution_count": 6,
   "metadata": {},
   "outputs": [],
   "source": [
    "X=X.drop(\"Name\")\n",
    "\n",
    "\n"
   ]
  },
  {
   "cell_type": "code",
   "execution_count": 7,
   "metadata": {},
   "outputs": [],
   "source": [
    "X_xgb=X.to_pandas()\n",
    "y_xgb=y.to_pandas()\n"
   ]
  },
  {
   "cell_type": "code",
   "execution_count": 8,
   "metadata": {},
   "outputs": [
    {
     "name": "stdout",
     "output_type": "stream",
     "text": [
      "int64\n",
      "category\n",
      "float64\n",
      "int64\n",
      "int64\n",
      "category\n",
      "float64\n",
      "category\n",
      "category\n"
     ]
    }
   ],
   "source": [
    "for col in X_xgb.columns:\n",
    "    print(X_xgb[col].dtype)\n"
   ]
  },
  {
   "cell_type": "code",
   "execution_count": 9,
   "metadata": {},
   "outputs": [],
   "source": [
    "X_xgb.drop(columns=['Cabin',\"Fare\",\"Ticket\",\"Age\",\"Embarked\"],inplace=True,errors='ignore')"
   ]
  },
  {
   "cell_type": "code",
   "execution_count": 10,
   "metadata": {},
   "outputs": [],
   "source": [
    "X_xgb['Sex']=X_xgb[\"Sex\"].map({\"male\":0,\"female\":1})"
   ]
  },
  {
   "cell_type": "code",
   "execution_count": 11,
   "metadata": {},
   "outputs": [
    {
     "data": {
      "text/plain": [
       "1.605263157894737"
      ]
     },
     "execution_count": 11,
     "metadata": {},
     "output_type": "execute_result"
    }
   ],
   "source": [
    "pos_weight=len(y_xgb[y_xgb==0])/len(y_xgb[y_xgb==1])\n",
    "pos_weight"
   ]
  },
  {
   "cell_type": "code",
   "execution_count": 12,
   "metadata": {},
   "outputs": [
    {
     "name": "stderr",
     "output_type": "stream",
     "text": [
      "[I 2025-04-01 01:30:52,525] A new study created in memory with name: no-name-87c4b650-2664-43f4-a4b2-9872468ba18b\n",
      "[I 2025-04-01 01:30:52,588] Trial 0 finished with value: 0.7575983930701149 and parameters: {'eta': 0.05720986168795844, 'max_depth': 7, 'min_child_weight': 5, 'subsample': 0.377705655315485, 'colsample_bytree': 0.5226263546996813, 'gamma': 0.413952639005518, 'reg_alpha': 0.014846336063203024, 'reg_lambda': 0.004954532265527469, 'scale_pos_weight': 2.12583188232944}. Best is trial 0 with value: 0.7575983930701149.\n",
      "[I 2025-04-01 01:30:52,654] Trial 1 finished with value: 0.7497395016006527 and parameters: {'eta': 0.008785498262617882, 'max_depth': 7, 'min_child_weight': 10, 'subsample': 0.7495038627365594, 'colsample_bytree': 0.885083329018041, 'gamma': 0.14597638988031175, 'reg_alpha': 5.966094580064943, 'reg_lambda': 0.0029325215001713804, 'scale_pos_weight': 2.2250322728396403}. Best is trial 0 with value: 0.7575983930701149.\n",
      "[I 2025-04-01 01:30:52,701] Trial 2 finished with value: 0.38383654510074694 and parameters: {'eta': 0.0016923428926194598, 'max_depth': 1, 'min_child_weight': 5, 'subsample': 0.7240236213095305, 'colsample_bytree': 0.8494716554277708, 'gamma': 0.2257444429441635, 'reg_alpha': 0.00018066292153409632, 'reg_lambda': 0.00022658776679745012, 'scale_pos_weight': 8.663514165809909}. Best is trial 0 with value: 0.7575983930701149.\n",
      "[I 2025-04-01 01:30:52,759] Trial 3 finished with value: 0.7508693741761345 and parameters: {'eta': 0.09955174646701632, 'max_depth': 3, 'min_child_weight': 4, 'subsample': 0.957234558698651, 'colsample_bytree': 0.7613343080213533, 'gamma': 0.15338514725993843, 'reg_alpha': 0.009478005373690524, 'reg_lambda': 0.17750384534686034, 'scale_pos_weight': 3.3089661582387326}. Best is trial 0 with value: 0.7575983930701149.\n",
      "[I 2025-04-01 01:30:52,810] Trial 4 finished with value: 0.6970058376749734 and parameters: {'eta': 0.001981119582046274, 'max_depth': 8, 'min_child_weight': 7, 'subsample': 0.9521843054477075, 'colsample_bytree': 0.3305538179496475, 'gamma': 0.16172177573110244, 'reg_alpha': 0.0001856487399089905, 'reg_lambda': 0.00028304886750544486, 'scale_pos_weight': 1.4425740671680267}. Best is trial 0 with value: 0.7575983930701149.\n",
      "[I 2025-04-01 01:30:52,853] Trial 5 finished with value: 0.38383654510074694 and parameters: {'eta': 0.016476653337801222, 'max_depth': 1, 'min_child_weight': 8, 'subsample': 0.8868112355699445, 'colsample_bytree': 0.20329084019076601, 'gamma': 0.12139881199227834, 'reg_alpha': 6.102740176197156, 'reg_lambda': 33.42973406412857, 'scale_pos_weight': 7.774351887709589}. Best is trial 0 with value: 0.7575983930701149.\n",
      "[I 2025-04-01 01:30:52,921] Trial 6 finished with value: 0.38383654510074694 and parameters: {'eta': 0.006956182735325346, 'max_depth': 3, 'min_child_weight': 6, 'subsample': 0.5769173912463789, 'colsample_bytree': 0.8320822184964437, 'gamma': 0.8058813307824405, 'reg_alpha': 0.00013929360421826437, 'reg_lambda': 12.046348042228145, 'scale_pos_weight': 9.384108826285882}. Best is trial 0 with value: 0.7575983930701149.\n",
      "[I 2025-04-01 01:30:52,991] Trial 7 finished with value: 0.7665808800451949 and parameters: {'eta': 0.2625779657017965, 'max_depth': 7, 'min_child_weight': 2, 'subsample': 0.8818417332738147, 'colsample_bytree': 0.6081834175726804, 'gamma': 0.12937846854292248, 'reg_alpha': 0.0030496082043809784, 'reg_lambda': 0.37736740173048294, 'scale_pos_weight': 2.4058177241483576}. Best is trial 7 with value: 0.7665808800451949.\n",
      "[I 2025-04-01 01:30:53,040] Trial 8 finished with value: 0.46672525265206205 and parameters: {'eta': 0.22417268195059906, 'max_depth': 6, 'min_child_weight': 9, 'subsample': 0.6866955604506947, 'colsample_bytree': 0.8327661631812647, 'gamma': 0.3039864963456968, 'reg_alpha': 56.06636848337514, 'reg_lambda': 0.0001236683227315037, 'scale_pos_weight': 3.6778572487267494}. Best is trial 7 with value: 0.7665808800451949.\n",
      "[I 2025-04-01 01:30:53,104] Trial 9 finished with value: 0.7306572092147386 and parameters: {'eta': 0.013184146910671626, 'max_depth': 8, 'min_child_weight': 8, 'subsample': 0.9128134691874005, 'colsample_bytree': 0.21635018236733555, 'gamma': 0.3470199403603791, 'reg_alpha': 0.008196305496918964, 'reg_lambda': 0.9805150532031607, 'scale_pos_weight': 1.8512795067696715}. Best is trial 7 with value: 0.7665808800451949.\n",
      "[I 2025-04-01 01:30:53,176] Trial 10 finished with value: 0.748609629025171 and parameters: {'eta': 0.2636005743003698, 'max_depth': 10, 'min_child_weight': 1, 'subsample': 0.22262378743830846, 'colsample_bytree': 0.59828730122463, 'gamma': 0.6300764861566638, 'reg_alpha': 0.19356862246561746, 'reg_lambda': 1.666350131889681, 'scale_pos_weight': 5.045629320113267}. Best is trial 7 with value: 0.7665808800451949.\n",
      "[I 2025-04-01 01:30:53,247] Trial 11 finished with value: 0.7912748728893352 and parameters: {'eta': 0.05742272984144529, 'max_depth': 5, 'min_child_weight': 2, 'subsample': 0.3767786119588209, 'colsample_bytree': 0.5179700570949536, 'gamma': 0.49100458253060725, 'reg_alpha': 0.009585235976427402, 'reg_lambda': 0.005742556260609064, 'scale_pos_weight': 1.2134036119529887}. Best is trial 11 with value: 0.7912748728893352.\n",
      "[I 2025-04-01 01:30:53,313] Trial 12 finished with value: 0.7756135835791852 and parameters: {'eta': 0.057682409925536006, 'max_depth': 5, 'min_child_weight': 1, 'subsample': 0.4506452273423147, 'colsample_bytree': 0.4418978787402522, 'gamma': 0.5191095233161575, 'reg_alpha': 0.0021359680337226703, 'reg_lambda': 0.012481844924085083, 'scale_pos_weight': 1.0512099575137388}. Best is trial 11 with value: 0.7912748728893352.\n",
      "[I 2025-04-01 01:30:53,377] Trial 13 finished with value: 0.7778231121712385 and parameters: {'eta': 0.04453442664993296, 'max_depth': 4, 'min_child_weight': 3, 'subsample': 0.4473787193075097, 'colsample_bytree': 0.4154580906950265, 'gamma': 0.4979657892359288, 'reg_alpha': 0.10829399576327287, 'reg_lambda': 0.017943729106669266, 'scale_pos_weight': 1.002379670097598}. Best is trial 11 with value: 0.7912748728893352.\n",
      "[I 2025-04-01 01:30:53,445] Trial 14 finished with value: 0.7766995166656204 and parameters: {'eta': 0.03604429647725532, 'max_depth': 4, 'min_child_weight': 3, 'subsample': 0.3512605473850124, 'colsample_bytree': 0.39184703004710975, 'gamma': 0.9271704255330628, 'reg_alpha': 0.1375549870937183, 'reg_lambda': 0.036579629291926805, 'scale_pos_weight': 1.0079324710641084}. Best is trial 11 with value: 0.7912748728893352.\n",
      "[I 2025-04-01 01:30:53,523] Trial 15 finished with value: 0.7923984683949532 and parameters: {'eta': 0.02919371695068646, 'max_depth': 4, 'min_child_weight': 3, 'subsample': 0.52223430680386, 'colsample_bytree': 0.6939284708208011, 'gamma': 0.5758200127712858, 'reg_alpha': 0.731677710945459, 'reg_lambda': 0.0016114306850596612, 'scale_pos_weight': 1.3452401436007453}. Best is trial 15 with value: 0.7923984683949532.\n",
      "[I 2025-04-01 01:30:53,643] Trial 16 finished with value: 0.7890339589479631 and parameters: {'eta': 0.004526294893040867, 'max_depth': 3, 'min_child_weight': 3, 'subsample': 0.5542643059438711, 'colsample_bytree': 0.6949766538905452, 'gamma': 0.6825875666830369, 'reg_alpha': 1.1277913100741122, 'reg_lambda': 0.0013848306658350979, 'scale_pos_weight': 1.564740591668144}. Best is trial 15 with value: 0.7923984683949532.\n",
      "[I 2025-04-01 01:30:53,716] Trial 17 finished with value: 0.7923984683949532 and parameters: {'eta': 0.02491699217460261, 'max_depth': 5, 'min_child_weight': 2, 'subsample': 0.2856434883957402, 'colsample_bytree': 0.6674974860497749, 'gamma': 0.24658796673120922, 'reg_alpha': 0.8153915185640529, 'reg_lambda': 0.0008767315376297093, 'scale_pos_weight': 1.3584928206155682}. Best is trial 15 with value: 0.7923984683949532.\n",
      "[I 2025-04-01 01:30:53,783] Trial 18 finished with value: 0.7834285355596007 and parameters: {'eta': 0.027033935928269952, 'max_depth': 2, 'min_child_weight': 2, 'subsample': 0.24391354110110366, 'colsample_bytree': 0.9671164696029757, 'gamma': 0.23648250555367725, 'reg_alpha': 1.525413053908097, 'reg_lambda': 0.0010567451210766697, 'scale_pos_weight': 1.4817353286732267}. Best is trial 15 with value: 0.7923984683949532.\n",
      "[I 2025-04-01 01:30:53,855] Trial 19 finished with value: 0.7564747975644968 and parameters: {'eta': 0.10415244362219449, 'max_depth': 4, 'min_child_weight': 4, 'subsample': 0.5008897652133858, 'colsample_bytree': 0.7060023103240383, 'gamma': 0.21294621509562378, 'reg_alpha': 0.6616482648100747, 'reg_lambda': 0.0011872264372473603, 'scale_pos_weight': 2.7091056262736424}. Best is trial 15 with value: 0.7923984683949532.\n",
      "[I 2025-04-01 01:30:53,917] Trial 20 finished with value: 0.38383654510074694 and parameters: {'eta': 0.02295680331070671, 'max_depth': 6, 'min_child_weight': 4, 'subsample': 0.6426497039864331, 'colsample_bytree': 0.6145765725763227, 'gamma': 0.3243953086118333, 'reg_alpha': 83.47644898355274, 'reg_lambda': 0.04473641916653186, 'scale_pos_weight': 4.6982748226016104}. Best is trial 15 with value: 0.7923984683949532.\n",
      "[I 2025-04-01 01:30:53,986] Trial 21 finished with value: 0.7912748728893352 and parameters: {'eta': 0.10584173727983683, 'max_depth': 5, 'min_child_weight': 2, 'subsample': 0.3057065041220223, 'colsample_bytree': 0.5236600041260742, 'gamma': 0.4558746407676748, 'reg_alpha': 0.032468025107029334, 'reg_lambda': 0.006458370411974901, 'scale_pos_weight': 1.25107662936909}. Best is trial 15 with value: 0.7923984683949532.\n",
      "[I 2025-04-01 01:30:54,058] Trial 22 finished with value: 0.7497395016006527 and parameters: {'eta': 0.012442204360830673, 'max_depth': 5, 'min_child_weight': 1, 'subsample': 0.39528851013433297, 'colsample_bytree': 0.7100776281391675, 'gamma': 0.6131525284442388, 'reg_alpha': 5.501328123292269, 'reg_lambda': 0.000504702433624696, 'scale_pos_weight': 1.7696033722409377}. Best is trial 15 with value: 0.7923984683949532.\n",
      "[I 2025-04-01 01:30:54,148] Trial 23 finished with value: 0.7935220639005712 and parameters: {'eta': 0.027645601478317194, 'max_depth': 4, 'min_child_weight': 2, 'subsample': 0.3116762186114827, 'colsample_bytree': 0.5371478900067266, 'gamma': 0.3959637481231888, 'reg_alpha': 0.3407141978789409, 'reg_lambda': 0.002560458664937054, 'scale_pos_weight': 1.2642702988289336}. Best is trial 23 with value: 0.7935220639005712.\n",
      "[I 2025-04-01 01:30:54,219] Trial 24 finished with value: 0.7867993220764548 and parameters: {'eta': 0.003601926858395594, 'max_depth': 2, 'min_child_weight': 3, 'subsample': 0.3105799697257184, 'colsample_bytree': 0.6536387180847283, 'gamma': 0.2738362695488259, 'reg_alpha': 0.40546173912428723, 'reg_lambda': 0.0010122372238929181, 'scale_pos_weight': 1.3156863779896222}. Best is trial 23 with value: 0.7935220639005712.\n",
      "[I 2025-04-01 01:30:54,289] Trial 25 finished with value: 0.7609754566568326 and parameters: {'eta': 0.02529841350481001, 'max_depth': 4, 'min_child_weight': 1, 'subsample': 0.2657272162569515, 'colsample_bytree': 0.7493462914981858, 'gamma': 0.393201102252954, 'reg_alpha': 3.0246238101856324, 'reg_lambda': 0.00012197477090305581, 'scale_pos_weight': 1.762374830375722}. Best is trial 23 with value: 0.7935220639005712.\n",
      "[I 2025-04-01 01:30:54,354] Trial 26 finished with value: 0.7722553512020589 and parameters: {'eta': 0.02052415705777365, 'max_depth': 2, 'min_child_weight': 4, 'subsample': 0.2037415809594914, 'colsample_bytree': 0.5639626130821858, 'gamma': 0.10053902516365831, 'reg_alpha': 0.0410597375694615, 'reg_lambda': 0.0025528813689297304, 'scale_pos_weight': 1.1836102117970448}. Best is trial 23 with value: 0.7935220639005712.\n",
      "[I 2025-04-01 01:30:54,411] Trial 27 finished with value: 0.6655388864478062 and parameters: {'eta': 0.008193041094606503, 'max_depth': 3, 'min_child_weight': 2, 'subsample': 0.5162385741021381, 'colsample_bytree': 0.46435436396291707, 'gamma': 0.19736623634950312, 'reg_alpha': 16.79785884896207, 'reg_lambda': 0.037655068118852615, 'scale_pos_weight': 1.918457012152197}. Best is trial 23 with value: 0.7935220639005712.\n",
      "[I 2025-04-01 01:30:54,475] Trial 28 finished with value: 0.7553637561986065 and parameters: {'eta': 0.03353722967985714, 'max_depth': 6, 'min_child_weight': 6, 'subsample': 0.4434347075544896, 'colsample_bytree': 0.3169381497385335, 'gamma': 0.3737906369453021, 'reg_alpha': 0.34644757735248666, 'reg_lambda': 0.0006460869918179503, 'scale_pos_weight': 1.588595098589641}. Best is trial 23 with value: 0.7935220639005712.\n",
      "[I 2025-04-01 01:30:54,551] Trial 29 finished with value: 0.7542276065532609 and parameters: {'eta': 0.0731140069468915, 'max_depth': 10, 'min_child_weight': 5, 'subsample': 0.788738710901663, 'colsample_bytree': 0.5252616186617697, 'gamma': 0.2820518644396468, 'reg_alpha': 0.0565597905411645, 'reg_lambda': 0.0030334733653233957, 'scale_pos_weight': 2.712027862389727}. Best is trial 23 with value: 0.7935220639005712.\n",
      "[I 2025-04-01 01:30:54,618] Trial 30 finished with value: 0.7452451195781808 and parameters: {'eta': 0.013222639885308675, 'max_depth': 4, 'min_child_weight': 3, 'subsample': 0.3078738179453532, 'colsample_bytree': 0.7773099958367724, 'gamma': 0.43833242584454063, 'reg_alpha': 22.12710544443513, 'reg_lambda': 0.010648397938558025, 'scale_pos_weight': 2.1327815553624943}. Best is trial 23 with value: 0.7935220639005712.\n",
      "[I 2025-04-01 01:30:54,682] Trial 31 finished with value: 0.7688782876153412 and parameters: {'eta': 0.05306139183853756, 'max_depth': 5, 'min_child_weight': 2, 'subsample': 0.37631240874779465, 'colsample_bytree': 0.4714552513527499, 'gamma': 0.567622293167556, 'reg_alpha': 1.7201254412659541, 'reg_lambda': 0.005396252081799707, 'scale_pos_weight': 1.2634063053708138}. Best is trial 23 with value: 0.7935220639005712.\n",
      "[I 2025-04-01 01:30:54,751] Trial 32 finished with value: 0.7923984683949532 and parameters: {'eta': 0.16777130560920867, 'max_depth': 6, 'min_child_weight': 2, 'subsample': 0.41245787773027265, 'colsample_bytree': 0.6537463750382169, 'gamma': 0.7324706684076475, 'reg_alpha': 0.31456162568401563, 'reg_lambda': 0.0032763397689161582, 'scale_pos_weight': 1.1595873588635934}. Best is trial 23 with value: 0.7935220639005712.\n",
      "[I 2025-04-01 01:30:54,823] Trial 33 finished with value: 0.7890402360178268 and parameters: {'eta': 0.12519437050271837, 'max_depth': 7, 'min_child_weight': 1, 'subsample': 0.5034084981314388, 'colsample_bytree': 0.6512621757718002, 'gamma': 0.7226654664175058, 'reg_alpha': 0.3604986851210718, 'reg_lambda': 0.0022871382164339213, 'scale_pos_weight': 1.3822115885146695}. Best is trial 23 with value: 0.7935220639005712.\n",
      "[I 2025-04-01 01:30:54,888] Trial 34 finished with value: 0.773316176009039 and parameters: {'eta': 0.15480069394868073, 'max_depth': 6, 'min_child_weight': 5, 'subsample': 0.27718366732922806, 'colsample_bytree': 0.6564164093186506, 'gamma': 0.9087210675816395, 'reg_alpha': 0.942498191673159, 'reg_lambda': 0.00035686683922418814, 'scale_pos_weight': 1.1341868013778227}. Best is trial 23 with value: 0.7935220639005712.\n",
      "[I 2025-04-01 01:30:54,969] Trial 35 finished with value: 0.7879040863724813 and parameters: {'eta': 0.07714651947482416, 'max_depth': 8, 'min_child_weight': 3, 'subsample': 0.41529460199674095, 'colsample_bytree': 0.9008979486452852, 'gamma': 0.7694414661086336, 'reg_alpha': 0.2277279687355258, 'reg_lambda': 0.0909387456362585, 'scale_pos_weight': 1.612564796452644}. Best is trial 23 with value: 0.7935220639005712.\n",
      "[I 2025-04-01 01:30:55,040] Trial 36 finished with value: 0.7845332998556274 and parameters: {'eta': 0.005754642527970181, 'max_depth': 7, 'min_child_weight': 2, 'subsample': 0.3431534379104926, 'colsample_bytree': 0.5584739858409995, 'gamma': 0.5584126983541634, 'reg_alpha': 3.364194941548258, 'reg_lambda': 0.0002714375492173171, 'scale_pos_weight': 1.391338746885988}. Best is trial 23 with value: 0.7935220639005712.\n",
      "[I 2025-04-01 01:30:55,116] Trial 37 finished with value: 0.7856820036407005 and parameters: {'eta': 0.03518644290691724, 'max_depth': 3, 'min_child_weight': 4, 'subsample': 0.6307726992250068, 'colsample_bytree': 0.756621293111967, 'gamma': 0.25593636184650875, 'reg_alpha': 0.07702611449760127, 'reg_lambda': 0.021307786488782565, 'scale_pos_weight': 1.1199825702947503}. Best is trial 23 with value: 0.7935220639005712.\n",
      "[I 2025-04-01 01:30:55,192] Trial 38 finished with value: 0.7508693741761346 and parameters: {'eta': 0.017410866923133452, 'max_depth': 6, 'min_child_weight': 10, 'subsample': 0.5453922399416247, 'colsample_bytree': 0.7969086720666763, 'gamma': 0.18199421560735446, 'reg_alpha': 10.345840459858403, 'reg_lambda': 0.0024717836104934747, 'scale_pos_weight': 1.978963091125839}. Best is trial 23 with value: 0.7935220639005712.\n",
      "[I 2025-04-01 01:30:55,273] Trial 39 finished with value: 0.38383654510074694 and parameters: {'eta': 0.0011077825462692073, 'max_depth': 4, 'min_child_weight': 1, 'subsample': 0.4680770928205408, 'colsample_bytree': 0.6833308885587788, 'gamma': 0.8390407253434958, 'reg_alpha': 0.024667119192909388, 'reg_lambda': 0.0006419769903372264, 'scale_pos_weight': 7.528876923416223}. Best is trial 23 with value: 0.7935220639005712.\n",
      "[I 2025-04-01 01:30:55,345] Trial 40 finished with value: 0.7530977339777791 and parameters: {'eta': 0.1743541767830371, 'max_depth': 5, 'min_child_weight': 2, 'subsample': 0.3477098287431378, 'colsample_bytree': 0.8955655945355041, 'gamma': 0.4018436130888226, 'reg_alpha': 2.2720320577486177, 'reg_lambda': 0.00017753567076793107, 'scale_pos_weight': 3.6780863039343488}. Best is trial 23 with value: 0.7935220639005712.\n",
      "[I 2025-04-01 01:30:55,418] Trial 41 finished with value: 0.7901512773837173 and parameters: {'eta': 0.07579317934484826, 'max_depth': 5, 'min_child_weight': 2, 'subsample': 0.40894748406415715, 'colsample_bytree': 0.5814090943347192, 'gamma': 0.4757026446523046, 'reg_alpha': 0.0006897543570981027, 'reg_lambda': 0.006032494286061184, 'scale_pos_weight': 1.1901619623134734}. Best is trial 23 with value: 0.7935220639005712.\n",
      "[I 2025-04-01 01:30:55,491] Trial 42 finished with value: 0.7912748728893353 and parameters: {'eta': 0.04969679434092601, 'max_depth': 6, 'min_child_weight': 3, 'subsample': 0.3668630188491986, 'colsample_bytree': 0.5001947268044893, 'gamma': 0.3561312227801214, 'reg_alpha': 0.801785865744646, 'reg_lambda': 0.007956447307922842, 'scale_pos_weight': 1.3567072246866116}. Best is trial 23 with value: 0.7935220639005712.\n",
      "[I 2025-04-01 01:30:55,563] Trial 43 finished with value: 0.7250643399661039 and parameters: {'eta': 0.010220048849363304, 'max_depth': 7, 'min_child_weight': 3, 'subsample': 0.2852080623774516, 'colsample_bytree': 0.6276729251366214, 'gamma': 0.3457893814162048, 'reg_alpha': 0.6193264127244109, 'reg_lambda': 0.003338819483498883, 'scale_pos_weight': 2.3778658563536093}. Best is trial 23 with value: 0.7935220639005712.\n",
      "[I 2025-04-01 01:30:55,625] Trial 44 finished with value: 0.780051471972883 and parameters: {'eta': 0.0442015309092676, 'max_depth': 9, 'min_child_weight': 4, 'subsample': 0.3349768077803872, 'colsample_bytree': 0.48845339507449503, 'gamma': 0.30860732920699824, 'reg_alpha': 0.1867689399440448, 'reg_lambda': 0.16602938002285547, 'scale_pos_weight': 1.453605672447674}. Best is trial 23 with value: 0.7935220639005712.\n",
      "[I 2025-04-01 01:30:55,685] Trial 45 finished with value: 0.7576046701399786 and parameters: {'eta': 0.01679873680275834, 'max_depth': 6, 'min_child_weight': 5, 'subsample': 0.2407188048339549, 'colsample_bytree': 0.3678842493674162, 'gamma': 0.9909877782721379, 'reg_alpha': 0.7499325642272997, 'reg_lambda': 0.0016440084493782234, 'scale_pos_weight': 1.6398693175396006}. Best is trial 23 with value: 0.7935220639005712.\n",
      "[I 2025-04-01 01:30:55,747] Trial 46 finished with value: 0.7867993220764548 and parameters: {'eta': 0.029331413343958133, 'max_depth': 8, 'min_child_weight': 7, 'subsample': 0.46702804130475817, 'colsample_bytree': 0.563633958846106, 'gamma': 0.667733017410657, 'reg_alpha': 5.313104516228017, 'reg_lambda': 86.04656438521887, 'scale_pos_weight': 1.0974796495021255}. Best is trial 23 with value: 0.7935220639005712.\n",
      "[I 2025-04-01 01:30:55,814] Trial 47 finished with value: 0.7912748728893353 and parameters: {'eta': 0.04190225684926172, 'max_depth': 3, 'min_child_weight': 3, 'subsample': 0.38798624255717834, 'colsample_bytree': 0.5097503599130372, 'gamma': 0.5810848835795132, 'reg_alpha': 0.09923090652252926, 'reg_lambda': 0.010330799819749773, 'scale_pos_weight': 1.2907834055755776}. Best is trial 23 with value: 0.7935220639005712.\n",
      "[I 2025-04-01 01:30:55,890] Trial 48 finished with value: 0.7901575544535809 and parameters: {'eta': 0.020169238904499894, 'max_depth': 4, 'min_child_weight': 1, 'subsample': 0.5977679640101976, 'colsample_bytree': 0.7278361851476798, 'gamma': 0.4260947789089423, 'reg_alpha': 0.32377706358313585, 'reg_lambda': 0.0005021223589173743, 'scale_pos_weight': 1.4550055298437503}. Best is trial 23 with value: 0.7935220639005712.\n",
      "[I 2025-04-01 01:30:55,966] Trial 49 finished with value: 0.7755508128805475 and parameters: {'eta': 0.060211773914571706, 'max_depth': 7, 'min_child_weight': 3, 'subsample': 0.9965624464274963, 'colsample_bytree': 0.8191867005802131, 'gamma': 0.36131197534924847, 'reg_alpha': 1.6159005361604029, 'reg_lambda': 3.8319278304616438, 'scale_pos_weight': 1.7404737927932592}. Best is trial 23 with value: 0.7935220639005712.\n",
      "[I 2025-04-01 01:30:56,036] Trial 50 finished with value: 0.7699579436319126 and parameters: {'eta': 0.20865991765028508, 'max_depth': 6, 'min_child_weight': 2, 'subsample': 0.41730241806539736, 'colsample_bytree': 0.6253337602316853, 'gamma': 0.23465031307519524, 'reg_alpha': 0.5087215237869201, 'reg_lambda': 0.01867355167674987, 'scale_pos_weight': 2.027150387100189}. Best is trial 23 with value: 0.7935220639005712.\n",
      "[I 2025-04-01 01:30:56,097] Trial 51 finished with value: 0.7812315611072752 and parameters: {'eta': 0.03910095279014451, 'max_depth': 3, 'min_child_weight': 3, 'subsample': 0.38200973404242033, 'colsample_bytree': 0.497255129423604, 'gamma': 0.541322588764301, 'reg_alpha': 0.13486515259802587, 'reg_lambda': 0.009856597508454593, 'scale_pos_weight': 1.327016498088718}. Best is trial 23 with value: 0.7935220639005712.\n",
      "[I 2025-04-01 01:30:56,166] Trial 52 finished with value: 0.7789718159563115 and parameters: {'eta': 0.02566688177565992, 'max_depth': 4, 'min_child_weight': 4, 'subsample': 0.36596472198813257, 'colsample_bytree': 0.5375145375398559, 'gamma': 0.5974878598698138, 'reg_alpha': 0.016496468024010686, 'reg_lambda': 0.003820216670312458, 'scale_pos_weight': 1.0920623987893732}. Best is trial 23 with value: 0.7935220639005712.\n",
      "[I 2025-04-01 01:30:56,221] Trial 53 finished with value: 0.7789404306069926 and parameters: {'eta': 0.046132018659360584, 'max_depth': 1, 'min_child_weight': 2, 'subsample': 0.3234297841509625, 'colsample_bytree': 0.42859117744660113, 'gamma': 0.6756322052279289, 'reg_alpha': 0.10271276405394572, 'reg_lambda': 0.007790620545715076, 'scale_pos_weight': 1.0143455627250608}. Best is trial 23 with value: 0.7935220639005712.\n",
      "[I 2025-04-01 01:30:56,296] Trial 54 finished with value: 0.7890276818780994 and parameters: {'eta': 0.0326408770575419, 'max_depth': 5, 'min_child_weight': 3, 'subsample': 0.42793311316204646, 'colsample_bytree': 0.66829229563979, 'gamma': 0.7535015162513662, 'reg_alpha': 0.9983091225165488, 'reg_lambda': 0.08364952612688431, 'scale_pos_weight': 1.310472500952122}. Best is trial 23 with value: 0.7935220639005712.\n",
      "[I 2025-04-01 01:30:56,361] Trial 55 finished with value: 0.7789215993974012 and parameters: {'eta': 0.08498700270617333, 'max_depth': 3, 'min_child_weight': 9, 'subsample': 0.4854755033741079, 'colsample_bytree': 0.593684140210657, 'gamma': 0.5076920670387375, 'reg_alpha': 0.23329035097694126, 'reg_lambda': 0.0017052707081128726, 'scale_pos_weight': 1.501389820779027}. Best is trial 23 with value: 0.7935220639005712.\n",
      "[I 2025-04-01 01:30:56,421] Trial 56 finished with value: 0.7755759211600025 and parameters: {'eta': 0.014036347494801269, 'max_depth': 2, 'min_child_weight': 3, 'subsample': 0.5511584192878256, 'colsample_bytree': 0.3881386492182111, 'gamma': 0.2886543406638626, 'reg_alpha': 0.07216246670295007, 'reg_lambda': 0.0007904388305260241, 'scale_pos_weight': 1.219077857624438}. Best is trial 23 with value: 0.7935220639005712.\n",
      "[I 2025-04-01 01:30:56,480] Trial 57 finished with value: 0.7722051346431485 and parameters: {'eta': 0.29296739028645097, 'max_depth': 5, 'min_child_weight': 1, 'subsample': 0.2486831258502933, 'colsample_bytree': 0.453183817641477, 'gamma': 0.3299939745773766, 'reg_alpha': 0.15732728279318714, 'reg_lambda': 0.015625376739266564, 'scale_pos_weight': 1.710795560097407}. Best is trial 23 with value: 0.7935220639005712.\n",
      "[I 2025-04-01 01:30:56,540] Trial 58 finished with value: 0.7744397715146569 and parameters: {'eta': 0.06389542724478449, 'max_depth': 4, 'min_child_weight': 4, 'subsample': 0.2933289729642107, 'colsample_bytree': 0.7336966592930967, 'gamma': 0.8411313317792886, 'reg_alpha': 3.278314253308123, 'reg_lambda': 0.05314919243766419, 'scale_pos_weight': 1.379504185524347}. Best is trial 23 with value: 0.7935220639005712.\n",
      "[I 2025-04-01 01:30:56,601] Trial 59 finished with value: 0.790157554453581 and parameters: {'eta': 0.13354125592210034, 'max_depth': 6, 'min_child_weight': 2, 'subsample': 0.751432184564329, 'colsample_bytree': 0.32547196006672546, 'gamma': 0.2644804116926845, 'reg_alpha': 0.0070610694862822945, 'reg_lambda': 0.026663967512115368, 'scale_pos_weight': 1.1743058008611011}. Best is trial 23 with value: 0.7935220639005712.\n",
      "[I 2025-04-01 01:30:56,663] Trial 60 finished with value: 0.7351578683070742 and parameters: {'eta': 0.020074918742236516, 'max_depth': 3, 'min_child_weight': 3, 'subsample': 0.3813660652270677, 'colsample_bytree': 0.27339372660404265, 'gamma': 0.6289616875023496, 'reg_alpha': 1.1728192919775566, 'reg_lambda': 0.004248272312172709, 'scale_pos_weight': 1.8718710577825282}. Best is trial 23 with value: 0.7935220639005712.\n",
      "[I 2025-04-01 01:30:56,732] Trial 61 finished with value: 0.7912811499591991 and parameters: {'eta': 0.051137966700134964, 'max_depth': 5, 'min_child_weight': 2, 'subsample': 0.20417088721810767, 'colsample_bytree': 0.5068650265453275, 'gamma': 0.47334548721148556, 'reg_alpha': 0.0026220362435570316, 'reg_lambda': 0.001165629990140995, 'scale_pos_weight': 1.2266799839783953}. Best is trial 23 with value: 0.7935220639005712.\n",
      "[I 2025-04-01 01:30:56,793] Trial 62 finished with value: 0.7756073065093215 and parameters: {'eta': 0.048815427807847166, 'max_depth': 5, 'min_child_weight': 2, 'subsample': 0.2642318034966136, 'colsample_bytree': 0.49988216593141926, 'gamma': 0.45286845853222335, 'reg_alpha': 0.0004928313427746653, 'reg_lambda': 0.0012121852044685085, 'scale_pos_weight': 1.2530407276895892}. Best is trial 23 with value: 0.7935220639005712.\n",
      "[I 2025-04-01 01:30:56,865] Trial 63 finished with value: 0.7845960705542654 and parameters: {'eta': 0.039917272419032354, 'max_depth': 4, 'min_child_weight': 1, 'subsample': 0.22787866953893499, 'colsample_bytree': 0.5339415629794053, 'gamma': 0.3789648823973844, 'reg_alpha': 0.003162344738290011, 'reg_lambda': 0.0003551884977144397, 'scale_pos_weight': 1.0017031920111692}. Best is trial 23 with value: 0.7935220639005712.\n",
      "[I 2025-04-01 01:30:56,937] Trial 64 finished with value: 0.7811687904086373 and parameters: {'eta': 0.030586167340011662, 'max_depth': 5, 'min_child_weight': 3, 'subsample': 0.21696285118848258, 'colsample_bytree': 0.6351867949345685, 'gamma': 0.4180707810004663, 'reg_alpha': 0.4955273562423782, 'reg_lambda': 0.0014462708836865293, 'scale_pos_weight': 1.5303248157976899}. Best is trial 23 with value: 0.7935220639005712.\n",
      "[I 2025-04-01 01:30:57,012] Trial 65 finished with value: 0.4073943882995418 and parameters: {'eta': 0.023387278789726726, 'max_depth': 6, 'min_child_weight': 2, 'subsample': 0.31381398440310915, 'colsample_bytree': 0.5927381427908756, 'gamma': 0.48726147353890387, 'reg_alpha': 0.0005879883572720711, 'reg_lambda': 0.36186545648216895, 'scale_pos_weight': 6.404772962269848}. Best is trial 23 with value: 0.7935220639005712.\n",
      "[I 2025-04-01 01:30:57,073] Trial 66 finished with value: 0.7844956374364447 and parameters: {'eta': 0.09719757142248235, 'max_depth': 4, 'min_child_weight': 6, 'subsample': 0.20875636191824642, 'colsample_bytree': 0.685097928939077, 'gamma': 0.5788875942866489, 'reg_alpha': 0.00020682374311853762, 'reg_lambda': 0.002076115989193452, 'scale_pos_weight': 1.085378716645684}. Best is trial 23 with value: 0.7935220639005712.\n",
      "[I 2025-04-01 01:30:57,143] Trial 67 finished with value: 0.7901512773837173 and parameters: {'eta': 0.06058747694399179, 'max_depth': 3, 'min_child_weight': 2, 'subsample': 0.5250671202776825, 'colsample_bytree': 0.5506965778559257, 'gamma': 0.7156410632565025, 'reg_alpha': 0.0011600421923815757, 'reg_lambda': 0.00016420478301819828, 'scale_pos_weight': 1.3041415744541784}. Best is trial 23 with value: 0.7935220639005712.\n",
      "[I 2025-04-01 01:30:57,205] Trial 68 finished with value: 0.7733538384282217 and parameters: {'eta': 0.010969318563991136, 'max_depth': 5, 'min_child_weight': 1, 'subsample': 0.2583132615440221, 'colsample_bytree': 0.47770182207463685, 'gamma': 0.5387100046403765, 'reg_alpha': 0.26254477290231193, 'reg_lambda': 0.0010130761505225277, 'scale_pos_weight': 1.3934856649476957}. Best is trial 23 with value: 0.7935220639005712.\n",
      "[I 2025-04-01 01:30:57,269] Trial 69 finished with value: 0.7733663925679493 and parameters: {'eta': 0.028743495829632072, 'max_depth': 4, 'min_child_weight': 3, 'subsample': 0.3598955955175666, 'colsample_bytree': 0.4335133842521158, 'gamma': 0.15712245785995352, 'reg_alpha': 0.0474124057689758, 'reg_lambda': 0.007935017674333536, 'scale_pos_weight': 1.1576207351982977}. Best is trial 23 with value: 0.7935220639005712.\n",
      "[I 2025-04-01 01:30:57,333] Trial 70 finished with value: 0.790157554453581 and parameters: {'eta': 0.03808855656334565, 'max_depth': 2, 'min_child_weight': 4, 'subsample': 0.3932391134062823, 'colsample_bytree': 0.7167137702326524, 'gamma': 0.46864668161191203, 'reg_alpha': 0.005015216428036598, 'reg_lambda': 0.012643006858922168, 'scale_pos_weight': 1.6133945599624848}. Best is trial 23 with value: 0.7935220639005712.\n",
      "[I 2025-04-01 01:30:57,421] Trial 71 finished with value: 0.7935220639005711 and parameters: {'eta': 0.0494206981675039, 'max_depth': 6, 'min_child_weight': 2, 'subsample': 0.3242185163755593, 'colsample_bytree': 0.5205720382406496, 'gamma': 0.2125656028697955, 'reg_alpha': 0.019916283916727198, 'reg_lambda': 0.004533782413578878, 'scale_pos_weight': 1.2304752393573783}. Best is trial 23 with value: 0.7935220639005712.\n",
      "[I 2025-04-01 01:30:57,512] Trial 72 finished with value: 0.7935220639005711 and parameters: {'eta': 0.05102894922501318, 'max_depth': 6, 'min_child_weight': 2, 'subsample': 0.2835292392811378, 'colsample_bytree': 0.5031939226493461, 'gamma': 0.20333060991764687, 'reg_alpha': 0.029278134470979794, 'reg_lambda': 0.004593264334278076, 'scale_pos_weight': 1.2486601298148714}. Best is trial 23 with value: 0.7935220639005712.\n",
      "[I 2025-04-01 01:30:57,579] Trial 73 finished with value: 0.7845332998556274 and parameters: {'eta': 0.09525888881069386, 'max_depth': 6, 'min_child_weight': 2, 'subsample': 0.28763829351435466, 'colsample_bytree': 0.40233113291949085, 'gamma': 0.18720585263415018, 'reg_alpha': 0.016044719858730218, 'reg_lambda': 0.004516983733187062, 'scale_pos_weight': 1.0691735811124288}. Best is trial 23 with value: 0.7935220639005712.\n",
      "[I 2025-04-01 01:30:57,662] Trial 74 finished with value: 0.7946519364760529 and parameters: {'eta': 0.06663598985901652, 'max_depth': 7, 'min_child_weight': 1, 'subsample': 0.3225774479046436, 'colsample_bytree': 0.5789172859341221, 'gamma': 0.21952208123128855, 'reg_alpha': 0.026506606194901004, 'reg_lambda': 0.0004443312370255742, 'scale_pos_weight': 1.1952448698292364}. Best is trial 74 with value: 0.7946519364760529.\n",
      "[I 2025-04-01 01:30:57,748] Trial 75 finished with value: 0.791281149959199 and parameters: {'eta': 0.06878812446289412, 'max_depth': 7, 'min_child_weight': 1, 'subsample': 0.33603637824457017, 'colsample_bytree': 0.6058089918143548, 'gamma': 0.21403816533723868, 'reg_alpha': 0.025884016467353277, 'reg_lambda': 0.0005560951050985059, 'scale_pos_weight': 1.5038328094240605}. Best is trial 74 with value: 0.7946519364760529.\n",
      "[I 2025-04-01 01:30:57,827] Trial 76 finished with value: 0.7935157868307073 and parameters: {'eta': 0.12263822892392294, 'max_depth': 7, 'min_child_weight': 1, 'subsample': 0.2008356852023633, 'colsample_bytree': 0.5801896579810002, 'gamma': 0.2009771068286319, 'reg_alpha': 0.01159040896952526, 'reg_lambda': 0.0001065431530190972, 'scale_pos_weight': 1.2401059755780106}. Best is trial 74 with value: 0.7946519364760529.\n",
      "[I 2025-04-01 01:30:57,919] Trial 77 finished with value: 0.7553574791287427 and parameters: {'eta': 0.2012094115860544, 'max_depth': 8, 'min_child_weight': 1, 'subsample': 0.23229689471849865, 'colsample_bytree': 0.5737514347337291, 'gamma': 0.13144977639296132, 'reg_alpha': 0.022284322004549866, 'reg_lambda': 0.00019293087522214125, 'scale_pos_weight': 3.2733494185390395}. Best is trial 74 with value: 0.7946519364760529.\n",
      "[I 2025-04-01 01:30:58,006] Trial 78 finished with value: 0.792404745464817 and parameters: {'eta': 0.12295937351760004, 'max_depth': 7, 'min_child_weight': 1, 'subsample': 0.2731049858170113, 'colsample_bytree': 0.6446368741452907, 'gamma': 0.16564060037198314, 'reg_alpha': 0.008868841349930759, 'reg_lambda': 0.0002782409738897173, 'scale_pos_weight': 1.154577714270043}. Best is trial 74 with value: 0.7946519364760529.\n",
      "[I 2025-04-01 01:30:58,090] Trial 79 finished with value: 0.7946456594061891 and parameters: {'eta': 0.15052087442947942, 'max_depth': 7, 'min_child_weight': 1, 'subsample': 0.26773327009788894, 'colsample_bytree': 0.6404407290200025, 'gamma': 0.16827170053637627, 'reg_alpha': 0.010597454701093127, 'reg_lambda': 0.00010725752125160741, 'scale_pos_weight': 1.0557631618572016}. Best is trial 74 with value: 0.7946519364760529.\n",
      "[I 2025-04-01 01:30:58,172] Trial 80 finished with value: 0.7957692549118072 and parameters: {'eta': 0.12093446266690298, 'max_depth': 8, 'min_child_weight': 1, 'subsample': 0.27119398849917425, 'colsample_bytree': 0.6407168364698107, 'gamma': 0.14778732752647192, 'reg_alpha': 0.009928400431611785, 'reg_lambda': 0.00011683345551533674, 'scale_pos_weight': 1.0529453486928702}. Best is trial 80 with value: 0.7957692549118072.\n",
      "[I 2025-04-01 01:30:58,251] Trial 81 finished with value: 0.7901701085933086 and parameters: {'eta': 0.1262139525214394, 'max_depth': 8, 'min_child_weight': 1, 'subsample': 0.27136910996653457, 'colsample_bytree': 0.6189963808459342, 'gamma': 0.1699020048323041, 'reg_alpha': 0.010612666261923604, 'reg_lambda': 0.00012181227394412645, 'scale_pos_weight': 1.048556256527503}. Best is trial 80 with value: 0.7957692549118072.\n",
      "[I 2025-04-01 01:30:58,336] Trial 82 finished with value: 0.7979913376435881 and parameters: {'eta': 0.10893310298442184, 'max_depth': 7, 'min_child_weight': 1, 'subsample': 0.2469486020155906, 'colsample_bytree': 0.5444390666828385, 'gamma': 0.137107549736696, 'reg_alpha': 0.0065789347897020145, 'reg_lambda': 0.00010573557164664219, 'scale_pos_weight': 1.1506228669083927}. Best is trial 82 with value: 0.7979913376435881.\n",
      "[I 2025-04-01 01:30:58,419] Trial 83 finished with value: 0.7946519364760529 and parameters: {'eta': 0.1118890471654726, 'max_depth': 7, 'min_child_weight': 1, 'subsample': 0.2997449037322517, 'colsample_bytree': 0.5491288395591049, 'gamma': 0.1433380112786521, 'reg_alpha': 0.005866725422965479, 'reg_lambda': 0.00011603117694394684, 'scale_pos_weight': 1.1390954547891892}. Best is trial 82 with value: 0.7979913376435881.\n",
      "[I 2025-04-01 01:30:58,502] Trial 84 finished with value: 0.7968928504174252 and parameters: {'eta': 0.0907354754237883, 'max_depth': 9, 'min_child_weight': 1, 'subsample': 0.3002002851693762, 'colsample_bytree': 0.5408905947715656, 'gamma': 0.14769801896885035, 'reg_alpha': 0.004298234212636545, 'reg_lambda': 0.00010047209360840019, 'scale_pos_weight': 1.0527540713392378}. Best is trial 82 with value: 0.7979913376435881.\n",
      "[I 2025-04-01 01:30:58,587] Trial 85 finished with value: 0.7935220639005712 and parameters: {'eta': 0.08325147196302855, 'max_depth': 9, 'min_child_weight': 1, 'subsample': 0.30419668600737976, 'colsample_bytree': 0.544009121153105, 'gamma': 0.1475534216198755, 'reg_alpha': 0.004912729221074703, 'reg_lambda': 0.00016472030343433176, 'scale_pos_weight': 1.0494781930737012}. Best is trial 82 with value: 0.7979913376435881.\n",
      "[I 2025-04-01 01:30:58,672] Trial 86 finished with value: 0.7957692549118072 and parameters: {'eta': 0.08931141705247292, 'max_depth': 9, 'min_child_weight': 1, 'subsample': 0.3050604174914928, 'colsample_bytree': 0.5436151328555915, 'gamma': 0.14565961246214612, 'reg_alpha': 0.005314003952819583, 'reg_lambda': 0.00015952644376400395, 'scale_pos_weight': 1.0495056743112654}. Best is trial 82 with value: 0.7979913376435881.\n",
      "[I 2025-04-01 01:30:58,755] Trial 87 finished with value: 0.7924110225346808 and parameters: {'eta': 0.150200944565151, 'max_depth': 9, 'min_child_weight': 1, 'subsample': 0.319124766979512, 'colsample_bytree': 0.5424366305463789, 'gamma': 0.14359855794610793, 'reg_alpha': 0.005256943358006092, 'reg_lambda': 0.00015464667900569895, 'scale_pos_weight': 1.0343943102179476}. Best is trial 82 with value: 0.7979913376435881.\n",
      "[I 2025-04-01 01:30:58,839] Trial 88 finished with value: 0.7957692549118072 and parameters: {'eta': 0.08696402790032216, 'max_depth': 9, 'min_child_weight': 1, 'subsample': 0.2996517756490857, 'colsample_bytree': 0.5516262825810023, 'gamma': 0.11145679712294956, 'reg_alpha': 0.001818762487637751, 'reg_lambda': 0.00022378644278209646, 'scale_pos_weight': 1.0917819513782356}. Best is trial 82 with value: 0.7979913376435881.\n",
      "[I 2025-04-01 01:30:58,925] Trial 89 finished with value: 0.7912748728893353 and parameters: {'eta': 0.18378276062086846, 'max_depth': 9, 'min_child_weight': 1, 'subsample': 0.25330666765414456, 'colsample_bytree': 0.5646986247123977, 'gamma': 0.11691137687054814, 'reg_alpha': 0.0014270810147143148, 'reg_lambda': 0.0004176576159208476, 'scale_pos_weight': 1.098016633573518}. Best is trial 82 with value: 0.7979913376435881.\n",
      "[I 2025-04-01 01:30:59,010] Trial 90 finished with value: 0.7946519364760529 and parameters: {'eta': 0.10291313821185408, 'max_depth': 10, 'min_child_weight': 1, 'subsample': 0.2963964731024425, 'colsample_bytree': 0.6031248996408004, 'gamma': 0.1095725173391354, 'reg_alpha': 0.003637456353009263, 'reg_lambda': 0.00021468239234460613, 'scale_pos_weight': 1.1426392923694288}. Best is trial 82 with value: 0.7979913376435881.\n",
      "[I 2025-04-01 01:30:59,094] Trial 91 finished with value: 0.792404745464817 and parameters: {'eta': 0.10784718185769414, 'max_depth': 10, 'min_child_weight': 1, 'subsample': 0.29710730463747664, 'colsample_bytree': 0.5985777847566974, 'gamma': 0.10989662166653118, 'reg_alpha': 0.003342056652660589, 'reg_lambda': 0.0002253924694280312, 'scale_pos_weight': 1.1288196739118228}. Best is trial 82 with value: 0.7979913376435881.\n",
      "[I 2025-04-01 01:30:59,178] Trial 92 finished with value: 0.7957818090515347 and parameters: {'eta': 0.14452700264347346, 'max_depth': 10, 'min_child_weight': 1, 'subsample': 0.34575307436148295, 'colsample_bytree': 0.6088764433686683, 'gamma': 0.13719504272620056, 'reg_alpha': 0.0016087892824281215, 'reg_lambda': 0.00010442120857391356, 'scale_pos_weight': 1.1299682011238474}. Best is trial 82 with value: 0.7979913376435881.\n",
      "[I 2025-04-01 01:30:59,256] Trial 93 finished with value: 0.7980164459230431 and parameters: {'eta': 0.10866901047711257, 'max_depth': 10, 'min_child_weight': 1, 'subsample': 0.34738448222253393, 'colsample_bytree': 0.6071823347132915, 'gamma': 0.13309947342999776, 'reg_alpha': 0.0014610622367579587, 'reg_lambda': 0.0001121274215517775, 'scale_pos_weight': 1.1267376212354947}. Best is trial 93 with value: 0.7980164459230431.\n",
      "[I 2025-04-01 01:30:59,335] Trial 94 finished with value: 0.8002510827945514 and parameters: {'eta': 0.24715477742304046, 'max_depth': 10, 'min_child_weight': 1, 'subsample': 0.35675278435372115, 'colsample_bytree': 0.606919399878638, 'gamma': 0.13193866337413052, 'reg_alpha': 0.0018585361411687198, 'reg_lambda': 0.0002531352332479293, 'scale_pos_weight': 1.1316844428856405}. Best is trial 94 with value: 0.8002510827945514.\n",
      "[I 2025-04-01 01:30:59,415] Trial 95 finished with value: 0.7991337643587973 and parameters: {'eta': 0.2564447188673159, 'max_depth': 9, 'min_child_weight': 1, 'subsample': 0.34550975711904225, 'colsample_bytree': 0.5796954298319311, 'gamma': 0.1337121870744017, 'reg_alpha': 0.0017022918158782446, 'reg_lambda': 0.00028403533987949854, 'scale_pos_weight': 1.183729218606426}. Best is trial 94 with value: 0.8002510827945514.\n",
      "[I 2025-04-01 01:30:59,491] Trial 96 finished with value: 0.7946393823363254 and parameters: {'eta': 0.2238065710951344, 'max_depth': 9, 'min_child_weight': 1, 'subsample': 0.33459050627672293, 'colsample_bytree': 0.5848071540184465, 'gamma': 0.13429464408043004, 'reg_alpha': 0.0016897830876650558, 'reg_lambda': 0.0003248673634186759, 'scale_pos_weight': 1.0194625281487104}. Best is trial 94 with value: 0.8002510827945514.\n",
      "[I 2025-04-01 01:30:59,569] Trial 97 finished with value: 0.7991337643587973 and parameters: {'eta': 0.24733925434390722, 'max_depth': 10, 'min_child_weight': 1, 'subsample': 0.35558623858007643, 'colsample_bytree': 0.6196499316841372, 'gamma': 0.12274716493010107, 'reg_alpha': 0.0008614015154905113, 'reg_lambda': 0.0002565777205973924, 'scale_pos_weight': 1.1838683174839326}. Best is trial 94 with value: 0.8002510827945514.\n",
      "[I 2025-04-01 01:30:59,647] Trial 98 finished with value: 0.7968865733475613 and parameters: {'eta': 0.256522547668413, 'max_depth': 10, 'min_child_weight': 1, 'subsample': 0.3561324343938633, 'colsample_bytree': 0.6671821628758376, 'gamma': 0.12260027029769875, 'reg_alpha': 0.0010992818935655077, 'reg_lambda': 0.00026173245125546765, 'scale_pos_weight': 1.0081443111688648}. Best is trial 94 with value: 0.8002510827945514.\n",
      "[I 2025-04-01 01:30:59,729] Trial 99 finished with value: 0.7620864980227229 and parameters: {'eta': 0.23667814695183134, 'max_depth': 10, 'min_child_weight': 1, 'subsample': 0.3538149398839104, 'colsample_bytree': 0.673580931559197, 'gamma': 0.12456469656261607, 'reg_alpha': 0.0008569191718294162, 'reg_lambda': 0.00014213790592625532, 'scale_pos_weight': 2.9070841996721755}. Best is trial 94 with value: 0.8002510827945514.\n"
     ]
    }
   ],
   "source": [
    "import optuna\n",
    "from sklearn.model_selection import cross_val_score\n",
    "\n",
    "\n",
    "def objective(trial: optuna.Trial):\n",
    "    params = {\n",
    "        'objective': 'binary:logistic',\n",
    "        'eta': trial.suggest_float('eta', 0.001, 0.3,log=True),\n",
    "        'max_depth': trial.suggest_int('max_depth', 1, 10),\n",
    "        'min_child_weight': trial.suggest_int('min_child_weight', 1, 10),\n",
    "        'subsample': trial.suggest_float('subsample', 0.2, 1.0),\n",
    "        'colsample_bytree': trial.suggest_float('colsample_bytree', 0.2, 1.0),\n",
    "        'gamma': trial.suggest_float('gamma', 0.1, 1,log=True),\n",
    "        'reg_alpha': trial.suggest_float('reg_alpha', 1e-4, 100,log=True),\n",
    "        'reg_lambda': trial.suggest_float('reg_lambda', 1e-4, 100,log=True),\n",
    "        'scale_pos_weight': trial.suggest_float('scale_pos_weight', 1, 10,log=True),\n",
    "        'enable_categorical': True\n",
    "    }   \n",
    "\n",
    "    model = xgb.XGBClassifier(**params)\n",
    "    cv_scores = cross_val_score(model, X_xgb, y_xgb, cv=5, scoring='accuracy')\n",
    "    return cv_scores.mean()\n",
    "\n",
    "xgb_study = optuna.create_study(direction='maximize')\n",
    "xgb_study.optimize(objective, n_trials=100)"
   ]
  },
  {
   "cell_type": "code",
   "execution_count": 13,
   "metadata": {},
   "outputs": [
    {
     "name": "stderr",
     "output_type": "stream",
     "text": [
      "[I 2025-04-01 01:30:59,805] A new study created in memory with name: no-name-625d3913-5fc9-4cef-a465-af97b878d495\n",
      "[I 2025-04-01 01:31:00,834] Trial 0 finished with value: 0.7912748728893353 and parameters: {'n_estimators': 386, 'max_depth': 4, 'min_samples_split': 4, 'min_samples_leaf': 6}. Best is trial 0 with value: 0.7912748728893353.\n",
      "[I 2025-04-01 01:31:01,361] Trial 1 finished with value: 0.7924047454648171 and parameters: {'n_estimators': 193, 'max_depth': 6, 'min_samples_split': 4, 'min_samples_leaf': 1}. Best is trial 1 with value: 0.7924047454648171.\n",
      "[I 2025-04-01 01:31:03,007] Trial 2 finished with value: 0.7867804908668633 and parameters: {'n_estimators': 611, 'max_depth': 10, 'min_samples_split': 6, 'min_samples_leaf': 6}. Best is trial 1 with value: 0.7924047454648171.\n",
      "[I 2025-04-01 01:31:03,286] Trial 3 finished with value: 0.7879103634423451 and parameters: {'n_estimators': 101, 'max_depth': 10, 'min_samples_split': 8, 'min_samples_leaf': 1}. Best is trial 1 with value: 0.7924047454648171.\n",
      "[I 2025-04-01 01:31:04,162] Trial 4 finished with value: 0.7946519364760529 and parameters: {'n_estimators': 326, 'max_depth': 10, 'min_samples_split': 5, 'min_samples_leaf': 2}. Best is trial 4 with value: 0.7946519364760529.\n",
      "[I 2025-04-01 01:31:04,446] Trial 5 finished with value: 0.8013621241604418 and parameters: {'n_estimators': 109, 'max_depth': 3, 'min_samples_split': 4, 'min_samples_leaf': 1}. Best is trial 5 with value: 0.8013621241604418.\n",
      "[I 2025-04-01 01:31:05,935] Trial 6 finished with value: 0.7890276818780994 and parameters: {'n_estimators': 570, 'max_depth': 7, 'min_samples_split': 9, 'min_samples_leaf': 7}. Best is trial 5 with value: 0.8013621241604418.\n",
      "[I 2025-04-01 01:31:08,104] Trial 7 finished with value: 0.8013558470905782 and parameters: {'n_estimators': 851, 'max_depth': 3, 'min_samples_split': 5, 'min_samples_leaf': 4}. Best is trial 5 with value: 0.8013621241604418.\n",
      "[I 2025-04-01 01:31:10,698] Trial 8 finished with value: 0.7867804908668633 and parameters: {'n_estimators': 943, 'max_depth': 6, 'min_samples_split': 9, 'min_samples_leaf': 6}. Best is trial 5 with value: 0.8013621241604418.\n",
      "[I 2025-04-01 01:31:12,879] Trial 9 finished with value: 0.7890276818780994 and parameters: {'n_estimators': 810, 'max_depth': 8, 'min_samples_split': 9, 'min_samples_leaf': 9}. Best is trial 5 with value: 0.8013621241604418.\n"
     ]
    }
   ],
   "source": [
    "from sklearn.ensemble import RandomForestClassifier\n",
    "\n",
    "def objective(trial):\n",
    "    params = {\n",
    "        'n_estimators': trial.suggest_int('n_estimators', 10, 1000),\n",
    "        'max_depth': trial.suggest_int('max_depth', 3, 10),\n",
    "        'min_samples_split': trial.suggest_int('min_samples_split', 2, 10),\n",
    "        'min_samples_leaf': trial.suggest_int('min_samples_leaf', 1, 10),\n",
    "    }\n",
    "    model = RandomForestClassifier(**params)\n",
    "    cv_scores = cross_val_score(model, X_xgb, y_xgb, cv=5, scoring='accuracy')\n",
    "    return cv_scores.mean()\n",
    "\n",
    "study = optuna.create_study(direction='maximize')\n",
    "study.optimize(objective, n_trials=10)\n"
   ]
  },
  {
   "cell_type": "code",
   "execution_count": 14,
   "metadata": {},
   "outputs": [
    {
     "name": "stdout",
     "output_type": "stream",
     "text": [
      "Random Forest Best Parameters: {'n_estimators': 109, 'max_depth': 3, 'min_samples_split': 4, 'min_samples_leaf': 1}\n",
      "Random Forest Best Score: 0.8013621241604418\n",
      "XGB Best Parameters: {'eta': 0.24715477742304046, 'max_depth': 10, 'min_child_weight': 1, 'subsample': 0.35675278435372115, 'colsample_bytree': 0.606919399878638, 'gamma': 0.13193866337413052, 'reg_alpha': 0.0018585361411687198, 'reg_lambda': 0.0002531352332479293, 'scale_pos_weight': 1.1316844428856405}\n",
      "XGB Best Score: 0.8002510827945514\n"
     ]
    }
   ],
   "source": [
    "random_forest_best_params = study.best_params\n",
    "random_forest_best_score = study.best_value\n",
    "xgb_best_params = xgb_study.best_params\n",
    "xgb_best_score = xgb_study.best_value\n",
    "\n",
    "print(f\"Random Forest Best Parameters: {random_forest_best_params}\")\n",
    "print(f\"Random Forest Best Score: {random_forest_best_score}\")\n",
    "\n",
    "print(f\"XGB Best Parameters: {xgb_best_params}\")\n",
    "print(f\"XGB Best Score: {xgb_best_score}\")\n",
    "\n",
    "\n",
    "\n"
   ]
  },
  {
   "cell_type": "code",
   "execution_count": 15,
   "metadata": {},
   "outputs": [],
   "source": [
    "from optuna.importance import get_param_importances\n",
    "from plotly.subplots import make_subplots\n",
    "import plotly.graph_objects as go\n",
    "\n",
    "def plot_param_importances(study):\n",
    "    importances = get_param_importances(study)\n",
    "    fig = make_subplots(rows=1, cols=1)\n",
    "    fig.add_trace(go.Bar(x=list(importances.keys()), y=list(importances.values())))\n",
    "    fig.update_layout(title='Parameter Importances', xaxis_title='Parameters', yaxis_title='Importance')\n",
    "    fig.show()\n",
    "    "
   ]
  },
  {
   "cell_type": "code",
   "execution_count": 16,
   "metadata": {},
   "outputs": [],
   "source": [
    "import os \n",
    "import pickle\n",
    "\n",
    "os.makedirs('studies', exist_ok=True)\n",
    "\n",
    "with open('studies/xgb_study.pkl', 'wb') as f:\n",
    "    pickle.dump(xgb_study, f)\n",
    "\n",
    "with open('studies/study.pkl', 'wb') as f:\n",
    "    pickle.dump(study, f)"
   ]
  },
  {
   "cell_type": "code",
   "execution_count": 17,
   "metadata": {},
   "outputs": [],
   "source": [
    "import pickle\n",
    "\n",
    "with open('studies/xgb_study.pkl', 'rb') as f:\n",
    "    xgb_study = pickle.load(f)\n",
    "\n",
    "with open('studies/study.pkl', 'rb') as f:\n",
    "    study = pickle.load(f)"
   ]
  },
  {
   "cell_type": "code",
   "execution_count": 18,
   "metadata": {},
   "outputs": [
    {
     "data": {
      "application/vnd.plotly.v1+json": {
       "config": {
        "plotlyServerURL": "https://plot.ly"
       },
       "data": [
        {
         "type": "bar",
         "x": [
          "scale_pos_weight",
          "reg_alpha",
          "max_depth",
          "eta",
          "gamma",
          "subsample",
          "min_child_weight",
          "colsample_bytree",
          "reg_lambda"
         ],
         "y": [
          0.724461405392236,
          0.10543192038545046,
          0.054630647038122614,
          0.04901423807794039,
          0.030276572943281267,
          0.015199715157553119,
          0.014425745252816365,
          0.006555024181847546,
          0.000004731570752028285
         ]
        }
       ],
       "layout": {
        "template": {
         "data": {
          "bar": [
           {
            "error_x": {
             "color": "#2a3f5f"
            },
            "error_y": {
             "color": "#2a3f5f"
            },
            "marker": {
             "line": {
              "color": "#E5ECF6",
              "width": 0.5
             },
             "pattern": {
              "fillmode": "overlay",
              "size": 10,
              "solidity": 0.2
             }
            },
            "type": "bar"
           }
          ],
          "barpolar": [
           {
            "marker": {
             "line": {
              "color": "#E5ECF6",
              "width": 0.5
             },
             "pattern": {
              "fillmode": "overlay",
              "size": 10,
              "solidity": 0.2
             }
            },
            "type": "barpolar"
           }
          ],
          "carpet": [
           {
            "aaxis": {
             "endlinecolor": "#2a3f5f",
             "gridcolor": "white",
             "linecolor": "white",
             "minorgridcolor": "white",
             "startlinecolor": "#2a3f5f"
            },
            "baxis": {
             "endlinecolor": "#2a3f5f",
             "gridcolor": "white",
             "linecolor": "white",
             "minorgridcolor": "white",
             "startlinecolor": "#2a3f5f"
            },
            "type": "carpet"
           }
          ],
          "choropleth": [
           {
            "colorbar": {
             "outlinewidth": 0,
             "ticks": ""
            },
            "type": "choropleth"
           }
          ],
          "contour": [
           {
            "colorbar": {
             "outlinewidth": 0,
             "ticks": ""
            },
            "colorscale": [
             [
              0,
              "#0d0887"
             ],
             [
              0.1111111111111111,
              "#46039f"
             ],
             [
              0.2222222222222222,
              "#7201a8"
             ],
             [
              0.3333333333333333,
              "#9c179e"
             ],
             [
              0.4444444444444444,
              "#bd3786"
             ],
             [
              0.5555555555555556,
              "#d8576b"
             ],
             [
              0.6666666666666666,
              "#ed7953"
             ],
             [
              0.7777777777777778,
              "#fb9f3a"
             ],
             [
              0.8888888888888888,
              "#fdca26"
             ],
             [
              1,
              "#f0f921"
             ]
            ],
            "type": "contour"
           }
          ],
          "contourcarpet": [
           {
            "colorbar": {
             "outlinewidth": 0,
             "ticks": ""
            },
            "type": "contourcarpet"
           }
          ],
          "heatmap": [
           {
            "colorbar": {
             "outlinewidth": 0,
             "ticks": ""
            },
            "colorscale": [
             [
              0,
              "#0d0887"
             ],
             [
              0.1111111111111111,
              "#46039f"
             ],
             [
              0.2222222222222222,
              "#7201a8"
             ],
             [
              0.3333333333333333,
              "#9c179e"
             ],
             [
              0.4444444444444444,
              "#bd3786"
             ],
             [
              0.5555555555555556,
              "#d8576b"
             ],
             [
              0.6666666666666666,
              "#ed7953"
             ],
             [
              0.7777777777777778,
              "#fb9f3a"
             ],
             [
              0.8888888888888888,
              "#fdca26"
             ],
             [
              1,
              "#f0f921"
             ]
            ],
            "type": "heatmap"
           }
          ],
          "histogram": [
           {
            "marker": {
             "pattern": {
              "fillmode": "overlay",
              "size": 10,
              "solidity": 0.2
             }
            },
            "type": "histogram"
           }
          ],
          "histogram2d": [
           {
            "colorbar": {
             "outlinewidth": 0,
             "ticks": ""
            },
            "colorscale": [
             [
              0,
              "#0d0887"
             ],
             [
              0.1111111111111111,
              "#46039f"
             ],
             [
              0.2222222222222222,
              "#7201a8"
             ],
             [
              0.3333333333333333,
              "#9c179e"
             ],
             [
              0.4444444444444444,
              "#bd3786"
             ],
             [
              0.5555555555555556,
              "#d8576b"
             ],
             [
              0.6666666666666666,
              "#ed7953"
             ],
             [
              0.7777777777777778,
              "#fb9f3a"
             ],
             [
              0.8888888888888888,
              "#fdca26"
             ],
             [
              1,
              "#f0f921"
             ]
            ],
            "type": "histogram2d"
           }
          ],
          "histogram2dcontour": [
           {
            "colorbar": {
             "outlinewidth": 0,
             "ticks": ""
            },
            "colorscale": [
             [
              0,
              "#0d0887"
             ],
             [
              0.1111111111111111,
              "#46039f"
             ],
             [
              0.2222222222222222,
              "#7201a8"
             ],
             [
              0.3333333333333333,
              "#9c179e"
             ],
             [
              0.4444444444444444,
              "#bd3786"
             ],
             [
              0.5555555555555556,
              "#d8576b"
             ],
             [
              0.6666666666666666,
              "#ed7953"
             ],
             [
              0.7777777777777778,
              "#fb9f3a"
             ],
             [
              0.8888888888888888,
              "#fdca26"
             ],
             [
              1,
              "#f0f921"
             ]
            ],
            "type": "histogram2dcontour"
           }
          ],
          "mesh3d": [
           {
            "colorbar": {
             "outlinewidth": 0,
             "ticks": ""
            },
            "type": "mesh3d"
           }
          ],
          "parcoords": [
           {
            "line": {
             "colorbar": {
              "outlinewidth": 0,
              "ticks": ""
             }
            },
            "type": "parcoords"
           }
          ],
          "pie": [
           {
            "automargin": true,
            "type": "pie"
           }
          ],
          "scatter": [
           {
            "fillpattern": {
             "fillmode": "overlay",
             "size": 10,
             "solidity": 0.2
            },
            "type": "scatter"
           }
          ],
          "scatter3d": [
           {
            "line": {
             "colorbar": {
              "outlinewidth": 0,
              "ticks": ""
             }
            },
            "marker": {
             "colorbar": {
              "outlinewidth": 0,
              "ticks": ""
             }
            },
            "type": "scatter3d"
           }
          ],
          "scattercarpet": [
           {
            "marker": {
             "colorbar": {
              "outlinewidth": 0,
              "ticks": ""
             }
            },
            "type": "scattercarpet"
           }
          ],
          "scattergeo": [
           {
            "marker": {
             "colorbar": {
              "outlinewidth": 0,
              "ticks": ""
             }
            },
            "type": "scattergeo"
           }
          ],
          "scattergl": [
           {
            "marker": {
             "colorbar": {
              "outlinewidth": 0,
              "ticks": ""
             }
            },
            "type": "scattergl"
           }
          ],
          "scattermap": [
           {
            "marker": {
             "colorbar": {
              "outlinewidth": 0,
              "ticks": ""
             }
            },
            "type": "scattermap"
           }
          ],
          "scattermapbox": [
           {
            "marker": {
             "colorbar": {
              "outlinewidth": 0,
              "ticks": ""
             }
            },
            "type": "scattermapbox"
           }
          ],
          "scatterpolar": [
           {
            "marker": {
             "colorbar": {
              "outlinewidth": 0,
              "ticks": ""
             }
            },
            "type": "scatterpolar"
           }
          ],
          "scatterpolargl": [
           {
            "marker": {
             "colorbar": {
              "outlinewidth": 0,
              "ticks": ""
             }
            },
            "type": "scatterpolargl"
           }
          ],
          "scatterternary": [
           {
            "marker": {
             "colorbar": {
              "outlinewidth": 0,
              "ticks": ""
             }
            },
            "type": "scatterternary"
           }
          ],
          "surface": [
           {
            "colorbar": {
             "outlinewidth": 0,
             "ticks": ""
            },
            "colorscale": [
             [
              0,
              "#0d0887"
             ],
             [
              0.1111111111111111,
              "#46039f"
             ],
             [
              0.2222222222222222,
              "#7201a8"
             ],
             [
              0.3333333333333333,
              "#9c179e"
             ],
             [
              0.4444444444444444,
              "#bd3786"
             ],
             [
              0.5555555555555556,
              "#d8576b"
             ],
             [
              0.6666666666666666,
              "#ed7953"
             ],
             [
              0.7777777777777778,
              "#fb9f3a"
             ],
             [
              0.8888888888888888,
              "#fdca26"
             ],
             [
              1,
              "#f0f921"
             ]
            ],
            "type": "surface"
           }
          ],
          "table": [
           {
            "cells": {
             "fill": {
              "color": "#EBF0F8"
             },
             "line": {
              "color": "white"
             }
            },
            "header": {
             "fill": {
              "color": "#C8D4E3"
             },
             "line": {
              "color": "white"
             }
            },
            "type": "table"
           }
          ]
         },
         "layout": {
          "annotationdefaults": {
           "arrowcolor": "#2a3f5f",
           "arrowhead": 0,
           "arrowwidth": 1
          },
          "autotypenumbers": "strict",
          "coloraxis": {
           "colorbar": {
            "outlinewidth": 0,
            "ticks": ""
           }
          },
          "colorscale": {
           "diverging": [
            [
             0,
             "#8e0152"
            ],
            [
             0.1,
             "#c51b7d"
            ],
            [
             0.2,
             "#de77ae"
            ],
            [
             0.3,
             "#f1b6da"
            ],
            [
             0.4,
             "#fde0ef"
            ],
            [
             0.5,
             "#f7f7f7"
            ],
            [
             0.6,
             "#e6f5d0"
            ],
            [
             0.7,
             "#b8e186"
            ],
            [
             0.8,
             "#7fbc41"
            ],
            [
             0.9,
             "#4d9221"
            ],
            [
             1,
             "#276419"
            ]
           ],
           "sequential": [
            [
             0,
             "#0d0887"
            ],
            [
             0.1111111111111111,
             "#46039f"
            ],
            [
             0.2222222222222222,
             "#7201a8"
            ],
            [
             0.3333333333333333,
             "#9c179e"
            ],
            [
             0.4444444444444444,
             "#bd3786"
            ],
            [
             0.5555555555555556,
             "#d8576b"
            ],
            [
             0.6666666666666666,
             "#ed7953"
            ],
            [
             0.7777777777777778,
             "#fb9f3a"
            ],
            [
             0.8888888888888888,
             "#fdca26"
            ],
            [
             1,
             "#f0f921"
            ]
           ],
           "sequentialminus": [
            [
             0,
             "#0d0887"
            ],
            [
             0.1111111111111111,
             "#46039f"
            ],
            [
             0.2222222222222222,
             "#7201a8"
            ],
            [
             0.3333333333333333,
             "#9c179e"
            ],
            [
             0.4444444444444444,
             "#bd3786"
            ],
            [
             0.5555555555555556,
             "#d8576b"
            ],
            [
             0.6666666666666666,
             "#ed7953"
            ],
            [
             0.7777777777777778,
             "#fb9f3a"
            ],
            [
             0.8888888888888888,
             "#fdca26"
            ],
            [
             1,
             "#f0f921"
            ]
           ]
          },
          "colorway": [
           "#636efa",
           "#EF553B",
           "#00cc96",
           "#ab63fa",
           "#FFA15A",
           "#19d3f3",
           "#FF6692",
           "#B6E880",
           "#FF97FF",
           "#FECB52"
          ],
          "font": {
           "color": "#2a3f5f"
          },
          "geo": {
           "bgcolor": "white",
           "lakecolor": "white",
           "landcolor": "#E5ECF6",
           "showlakes": true,
           "showland": true,
           "subunitcolor": "white"
          },
          "hoverlabel": {
           "align": "left"
          },
          "hovermode": "closest",
          "mapbox": {
           "style": "light"
          },
          "paper_bgcolor": "white",
          "plot_bgcolor": "#E5ECF6",
          "polar": {
           "angularaxis": {
            "gridcolor": "white",
            "linecolor": "white",
            "ticks": ""
           },
           "bgcolor": "#E5ECF6",
           "radialaxis": {
            "gridcolor": "white",
            "linecolor": "white",
            "ticks": ""
           }
          },
          "scene": {
           "xaxis": {
            "backgroundcolor": "#E5ECF6",
            "gridcolor": "white",
            "gridwidth": 2,
            "linecolor": "white",
            "showbackground": true,
            "ticks": "",
            "zerolinecolor": "white"
           },
           "yaxis": {
            "backgroundcolor": "#E5ECF6",
            "gridcolor": "white",
            "gridwidth": 2,
            "linecolor": "white",
            "showbackground": true,
            "ticks": "",
            "zerolinecolor": "white"
           },
           "zaxis": {
            "backgroundcolor": "#E5ECF6",
            "gridcolor": "white",
            "gridwidth": 2,
            "linecolor": "white",
            "showbackground": true,
            "ticks": "",
            "zerolinecolor": "white"
           }
          },
          "shapedefaults": {
           "line": {
            "color": "#2a3f5f"
           }
          },
          "ternary": {
           "aaxis": {
            "gridcolor": "white",
            "linecolor": "white",
            "ticks": ""
           },
           "baxis": {
            "gridcolor": "white",
            "linecolor": "white",
            "ticks": ""
           },
           "bgcolor": "#E5ECF6",
           "caxis": {
            "gridcolor": "white",
            "linecolor": "white",
            "ticks": ""
           }
          },
          "title": {
           "x": 0.05
          },
          "xaxis": {
           "automargin": true,
           "gridcolor": "white",
           "linecolor": "white",
           "ticks": "",
           "title": {
            "standoff": 15
           },
           "zerolinecolor": "white",
           "zerolinewidth": 2
          },
          "yaxis": {
           "automargin": true,
           "gridcolor": "white",
           "linecolor": "white",
           "ticks": "",
           "title": {
            "standoff": 15
           },
           "zerolinecolor": "white",
           "zerolinewidth": 2
          }
         }
        },
        "title": {
         "text": "Parameter Importances"
        },
        "xaxis": {
         "anchor": "y",
         "domain": [
          0,
          1
         ],
         "title": {
          "text": "Parameters"
         }
        },
        "yaxis": {
         "anchor": "x",
         "domain": [
          0,
          1
         ],
         "title": {
          "text": "Importance"
         }
        }
       }
      }
     },
     "metadata": {},
     "output_type": "display_data"
    },
    {
     "data": {
      "application/vnd.plotly.v1+json": {
       "config": {
        "plotlyServerURL": "https://plot.ly"
       },
       "data": [
        {
         "type": "bar",
         "x": [
          "max_depth",
          "min_samples_split",
          "n_estimators",
          "min_samples_leaf"
         ],
         "y": [
          0.47071588637473405,
          0.3118030825870783,
          0.14877188160445953,
          0.06870914943372823
         ]
        }
       ],
       "layout": {
        "template": {
         "data": {
          "bar": [
           {
            "error_x": {
             "color": "#2a3f5f"
            },
            "error_y": {
             "color": "#2a3f5f"
            },
            "marker": {
             "line": {
              "color": "#E5ECF6",
              "width": 0.5
             },
             "pattern": {
              "fillmode": "overlay",
              "size": 10,
              "solidity": 0.2
             }
            },
            "type": "bar"
           }
          ],
          "barpolar": [
           {
            "marker": {
             "line": {
              "color": "#E5ECF6",
              "width": 0.5
             },
             "pattern": {
              "fillmode": "overlay",
              "size": 10,
              "solidity": 0.2
             }
            },
            "type": "barpolar"
           }
          ],
          "carpet": [
           {
            "aaxis": {
             "endlinecolor": "#2a3f5f",
             "gridcolor": "white",
             "linecolor": "white",
             "minorgridcolor": "white",
             "startlinecolor": "#2a3f5f"
            },
            "baxis": {
             "endlinecolor": "#2a3f5f",
             "gridcolor": "white",
             "linecolor": "white",
             "minorgridcolor": "white",
             "startlinecolor": "#2a3f5f"
            },
            "type": "carpet"
           }
          ],
          "choropleth": [
           {
            "colorbar": {
             "outlinewidth": 0,
             "ticks": ""
            },
            "type": "choropleth"
           }
          ],
          "contour": [
           {
            "colorbar": {
             "outlinewidth": 0,
             "ticks": ""
            },
            "colorscale": [
             [
              0,
              "#0d0887"
             ],
             [
              0.1111111111111111,
              "#46039f"
             ],
             [
              0.2222222222222222,
              "#7201a8"
             ],
             [
              0.3333333333333333,
              "#9c179e"
             ],
             [
              0.4444444444444444,
              "#bd3786"
             ],
             [
              0.5555555555555556,
              "#d8576b"
             ],
             [
              0.6666666666666666,
              "#ed7953"
             ],
             [
              0.7777777777777778,
              "#fb9f3a"
             ],
             [
              0.8888888888888888,
              "#fdca26"
             ],
             [
              1,
              "#f0f921"
             ]
            ],
            "type": "contour"
           }
          ],
          "contourcarpet": [
           {
            "colorbar": {
             "outlinewidth": 0,
             "ticks": ""
            },
            "type": "contourcarpet"
           }
          ],
          "heatmap": [
           {
            "colorbar": {
             "outlinewidth": 0,
             "ticks": ""
            },
            "colorscale": [
             [
              0,
              "#0d0887"
             ],
             [
              0.1111111111111111,
              "#46039f"
             ],
             [
              0.2222222222222222,
              "#7201a8"
             ],
             [
              0.3333333333333333,
              "#9c179e"
             ],
             [
              0.4444444444444444,
              "#bd3786"
             ],
             [
              0.5555555555555556,
              "#d8576b"
             ],
             [
              0.6666666666666666,
              "#ed7953"
             ],
             [
              0.7777777777777778,
              "#fb9f3a"
             ],
             [
              0.8888888888888888,
              "#fdca26"
             ],
             [
              1,
              "#f0f921"
             ]
            ],
            "type": "heatmap"
           }
          ],
          "histogram": [
           {
            "marker": {
             "pattern": {
              "fillmode": "overlay",
              "size": 10,
              "solidity": 0.2
             }
            },
            "type": "histogram"
           }
          ],
          "histogram2d": [
           {
            "colorbar": {
             "outlinewidth": 0,
             "ticks": ""
            },
            "colorscale": [
             [
              0,
              "#0d0887"
             ],
             [
              0.1111111111111111,
              "#46039f"
             ],
             [
              0.2222222222222222,
              "#7201a8"
             ],
             [
              0.3333333333333333,
              "#9c179e"
             ],
             [
              0.4444444444444444,
              "#bd3786"
             ],
             [
              0.5555555555555556,
              "#d8576b"
             ],
             [
              0.6666666666666666,
              "#ed7953"
             ],
             [
              0.7777777777777778,
              "#fb9f3a"
             ],
             [
              0.8888888888888888,
              "#fdca26"
             ],
             [
              1,
              "#f0f921"
             ]
            ],
            "type": "histogram2d"
           }
          ],
          "histogram2dcontour": [
           {
            "colorbar": {
             "outlinewidth": 0,
             "ticks": ""
            },
            "colorscale": [
             [
              0,
              "#0d0887"
             ],
             [
              0.1111111111111111,
              "#46039f"
             ],
             [
              0.2222222222222222,
              "#7201a8"
             ],
             [
              0.3333333333333333,
              "#9c179e"
             ],
             [
              0.4444444444444444,
              "#bd3786"
             ],
             [
              0.5555555555555556,
              "#d8576b"
             ],
             [
              0.6666666666666666,
              "#ed7953"
             ],
             [
              0.7777777777777778,
              "#fb9f3a"
             ],
             [
              0.8888888888888888,
              "#fdca26"
             ],
             [
              1,
              "#f0f921"
             ]
            ],
            "type": "histogram2dcontour"
           }
          ],
          "mesh3d": [
           {
            "colorbar": {
             "outlinewidth": 0,
             "ticks": ""
            },
            "type": "mesh3d"
           }
          ],
          "parcoords": [
           {
            "line": {
             "colorbar": {
              "outlinewidth": 0,
              "ticks": ""
             }
            },
            "type": "parcoords"
           }
          ],
          "pie": [
           {
            "automargin": true,
            "type": "pie"
           }
          ],
          "scatter": [
           {
            "fillpattern": {
             "fillmode": "overlay",
             "size": 10,
             "solidity": 0.2
            },
            "type": "scatter"
           }
          ],
          "scatter3d": [
           {
            "line": {
             "colorbar": {
              "outlinewidth": 0,
              "ticks": ""
             }
            },
            "marker": {
             "colorbar": {
              "outlinewidth": 0,
              "ticks": ""
             }
            },
            "type": "scatter3d"
           }
          ],
          "scattercarpet": [
           {
            "marker": {
             "colorbar": {
              "outlinewidth": 0,
              "ticks": ""
             }
            },
            "type": "scattercarpet"
           }
          ],
          "scattergeo": [
           {
            "marker": {
             "colorbar": {
              "outlinewidth": 0,
              "ticks": ""
             }
            },
            "type": "scattergeo"
           }
          ],
          "scattergl": [
           {
            "marker": {
             "colorbar": {
              "outlinewidth": 0,
              "ticks": ""
             }
            },
            "type": "scattergl"
           }
          ],
          "scattermap": [
           {
            "marker": {
             "colorbar": {
              "outlinewidth": 0,
              "ticks": ""
             }
            },
            "type": "scattermap"
           }
          ],
          "scattermapbox": [
           {
            "marker": {
             "colorbar": {
              "outlinewidth": 0,
              "ticks": ""
             }
            },
            "type": "scattermapbox"
           }
          ],
          "scatterpolar": [
           {
            "marker": {
             "colorbar": {
              "outlinewidth": 0,
              "ticks": ""
             }
            },
            "type": "scatterpolar"
           }
          ],
          "scatterpolargl": [
           {
            "marker": {
             "colorbar": {
              "outlinewidth": 0,
              "ticks": ""
             }
            },
            "type": "scatterpolargl"
           }
          ],
          "scatterternary": [
           {
            "marker": {
             "colorbar": {
              "outlinewidth": 0,
              "ticks": ""
             }
            },
            "type": "scatterternary"
           }
          ],
          "surface": [
           {
            "colorbar": {
             "outlinewidth": 0,
             "ticks": ""
            },
            "colorscale": [
             [
              0,
              "#0d0887"
             ],
             [
              0.1111111111111111,
              "#46039f"
             ],
             [
              0.2222222222222222,
              "#7201a8"
             ],
             [
              0.3333333333333333,
              "#9c179e"
             ],
             [
              0.4444444444444444,
              "#bd3786"
             ],
             [
              0.5555555555555556,
              "#d8576b"
             ],
             [
              0.6666666666666666,
              "#ed7953"
             ],
             [
              0.7777777777777778,
              "#fb9f3a"
             ],
             [
              0.8888888888888888,
              "#fdca26"
             ],
             [
              1,
              "#f0f921"
             ]
            ],
            "type": "surface"
           }
          ],
          "table": [
           {
            "cells": {
             "fill": {
              "color": "#EBF0F8"
             },
             "line": {
              "color": "white"
             }
            },
            "header": {
             "fill": {
              "color": "#C8D4E3"
             },
             "line": {
              "color": "white"
             }
            },
            "type": "table"
           }
          ]
         },
         "layout": {
          "annotationdefaults": {
           "arrowcolor": "#2a3f5f",
           "arrowhead": 0,
           "arrowwidth": 1
          },
          "autotypenumbers": "strict",
          "coloraxis": {
           "colorbar": {
            "outlinewidth": 0,
            "ticks": ""
           }
          },
          "colorscale": {
           "diverging": [
            [
             0,
             "#8e0152"
            ],
            [
             0.1,
             "#c51b7d"
            ],
            [
             0.2,
             "#de77ae"
            ],
            [
             0.3,
             "#f1b6da"
            ],
            [
             0.4,
             "#fde0ef"
            ],
            [
             0.5,
             "#f7f7f7"
            ],
            [
             0.6,
             "#e6f5d0"
            ],
            [
             0.7,
             "#b8e186"
            ],
            [
             0.8,
             "#7fbc41"
            ],
            [
             0.9,
             "#4d9221"
            ],
            [
             1,
             "#276419"
            ]
           ],
           "sequential": [
            [
             0,
             "#0d0887"
            ],
            [
             0.1111111111111111,
             "#46039f"
            ],
            [
             0.2222222222222222,
             "#7201a8"
            ],
            [
             0.3333333333333333,
             "#9c179e"
            ],
            [
             0.4444444444444444,
             "#bd3786"
            ],
            [
             0.5555555555555556,
             "#d8576b"
            ],
            [
             0.6666666666666666,
             "#ed7953"
            ],
            [
             0.7777777777777778,
             "#fb9f3a"
            ],
            [
             0.8888888888888888,
             "#fdca26"
            ],
            [
             1,
             "#f0f921"
            ]
           ],
           "sequentialminus": [
            [
             0,
             "#0d0887"
            ],
            [
             0.1111111111111111,
             "#46039f"
            ],
            [
             0.2222222222222222,
             "#7201a8"
            ],
            [
             0.3333333333333333,
             "#9c179e"
            ],
            [
             0.4444444444444444,
             "#bd3786"
            ],
            [
             0.5555555555555556,
             "#d8576b"
            ],
            [
             0.6666666666666666,
             "#ed7953"
            ],
            [
             0.7777777777777778,
             "#fb9f3a"
            ],
            [
             0.8888888888888888,
             "#fdca26"
            ],
            [
             1,
             "#f0f921"
            ]
           ]
          },
          "colorway": [
           "#636efa",
           "#EF553B",
           "#00cc96",
           "#ab63fa",
           "#FFA15A",
           "#19d3f3",
           "#FF6692",
           "#B6E880",
           "#FF97FF",
           "#FECB52"
          ],
          "font": {
           "color": "#2a3f5f"
          },
          "geo": {
           "bgcolor": "white",
           "lakecolor": "white",
           "landcolor": "#E5ECF6",
           "showlakes": true,
           "showland": true,
           "subunitcolor": "white"
          },
          "hoverlabel": {
           "align": "left"
          },
          "hovermode": "closest",
          "mapbox": {
           "style": "light"
          },
          "paper_bgcolor": "white",
          "plot_bgcolor": "#E5ECF6",
          "polar": {
           "angularaxis": {
            "gridcolor": "white",
            "linecolor": "white",
            "ticks": ""
           },
           "bgcolor": "#E5ECF6",
           "radialaxis": {
            "gridcolor": "white",
            "linecolor": "white",
            "ticks": ""
           }
          },
          "scene": {
           "xaxis": {
            "backgroundcolor": "#E5ECF6",
            "gridcolor": "white",
            "gridwidth": 2,
            "linecolor": "white",
            "showbackground": true,
            "ticks": "",
            "zerolinecolor": "white"
           },
           "yaxis": {
            "backgroundcolor": "#E5ECF6",
            "gridcolor": "white",
            "gridwidth": 2,
            "linecolor": "white",
            "showbackground": true,
            "ticks": "",
            "zerolinecolor": "white"
           },
           "zaxis": {
            "backgroundcolor": "#E5ECF6",
            "gridcolor": "white",
            "gridwidth": 2,
            "linecolor": "white",
            "showbackground": true,
            "ticks": "",
            "zerolinecolor": "white"
           }
          },
          "shapedefaults": {
           "line": {
            "color": "#2a3f5f"
           }
          },
          "ternary": {
           "aaxis": {
            "gridcolor": "white",
            "linecolor": "white",
            "ticks": ""
           },
           "baxis": {
            "gridcolor": "white",
            "linecolor": "white",
            "ticks": ""
           },
           "bgcolor": "#E5ECF6",
           "caxis": {
            "gridcolor": "white",
            "linecolor": "white",
            "ticks": ""
           }
          },
          "title": {
           "x": 0.05
          },
          "xaxis": {
           "automargin": true,
           "gridcolor": "white",
           "linecolor": "white",
           "ticks": "",
           "title": {
            "standoff": 15
           },
           "zerolinecolor": "white",
           "zerolinewidth": 2
          },
          "yaxis": {
           "automargin": true,
           "gridcolor": "white",
           "linecolor": "white",
           "ticks": "",
           "title": {
            "standoff": 15
           },
           "zerolinecolor": "white",
           "zerolinewidth": 2
          }
         }
        },
        "title": {
         "text": "Parameter Importances"
        },
        "xaxis": {
         "anchor": "y",
         "domain": [
          0,
          1
         ],
         "title": {
          "text": "Parameters"
         }
        },
        "yaxis": {
         "anchor": "x",
         "domain": [
          0,
          1
         ],
         "title": {
          "text": "Importance"
         }
        }
       }
      }
     },
     "metadata": {},
     "output_type": "display_data"
    }
   ],
   "source": [
    "plot_param_importances(xgb_study)\n",
    "plot_param_importances(study)"
   ]
  },
  {
   "cell_type": "code",
   "execution_count": 19,
   "metadata": {},
   "outputs": [
    {
     "data": {
      "text/html": [
       "<style>#sk-container-id-1 {\n",
       "  /* Definition of color scheme common for light and dark mode */\n",
       "  --sklearn-color-text: #000;\n",
       "  --sklearn-color-text-muted: #666;\n",
       "  --sklearn-color-line: gray;\n",
       "  /* Definition of color scheme for unfitted estimators */\n",
       "  --sklearn-color-unfitted-level-0: #fff5e6;\n",
       "  --sklearn-color-unfitted-level-1: #f6e4d2;\n",
       "  --sklearn-color-unfitted-level-2: #ffe0b3;\n",
       "  --sklearn-color-unfitted-level-3: chocolate;\n",
       "  /* Definition of color scheme for fitted estimators */\n",
       "  --sklearn-color-fitted-level-0: #f0f8ff;\n",
       "  --sklearn-color-fitted-level-1: #d4ebff;\n",
       "  --sklearn-color-fitted-level-2: #b3dbfd;\n",
       "  --sklearn-color-fitted-level-3: cornflowerblue;\n",
       "\n",
       "  /* Specific color for light theme */\n",
       "  --sklearn-color-text-on-default-background: var(--sg-text-color, var(--theme-code-foreground, var(--jp-content-font-color1, black)));\n",
       "  --sklearn-color-background: var(--sg-background-color, var(--theme-background, var(--jp-layout-color0, white)));\n",
       "  --sklearn-color-border-box: var(--sg-text-color, var(--theme-code-foreground, var(--jp-content-font-color1, black)));\n",
       "  --sklearn-color-icon: #696969;\n",
       "\n",
       "  @media (prefers-color-scheme: dark) {\n",
       "    /* Redefinition of color scheme for dark theme */\n",
       "    --sklearn-color-text-on-default-background: var(--sg-text-color, var(--theme-code-foreground, var(--jp-content-font-color1, white)));\n",
       "    --sklearn-color-background: var(--sg-background-color, var(--theme-background, var(--jp-layout-color0, #111)));\n",
       "    --sklearn-color-border-box: var(--sg-text-color, var(--theme-code-foreground, var(--jp-content-font-color1, white)));\n",
       "    --sklearn-color-icon: #878787;\n",
       "  }\n",
       "}\n",
       "\n",
       "#sk-container-id-1 {\n",
       "  color: var(--sklearn-color-text);\n",
       "}\n",
       "\n",
       "#sk-container-id-1 pre {\n",
       "  padding: 0;\n",
       "}\n",
       "\n",
       "#sk-container-id-1 input.sk-hidden--visually {\n",
       "  border: 0;\n",
       "  clip: rect(1px 1px 1px 1px);\n",
       "  clip: rect(1px, 1px, 1px, 1px);\n",
       "  height: 1px;\n",
       "  margin: -1px;\n",
       "  overflow: hidden;\n",
       "  padding: 0;\n",
       "  position: absolute;\n",
       "  width: 1px;\n",
       "}\n",
       "\n",
       "#sk-container-id-1 div.sk-dashed-wrapped {\n",
       "  border: 1px dashed var(--sklearn-color-line);\n",
       "  margin: 0 0.4em 0.5em 0.4em;\n",
       "  box-sizing: border-box;\n",
       "  padding-bottom: 0.4em;\n",
       "  background-color: var(--sklearn-color-background);\n",
       "}\n",
       "\n",
       "#sk-container-id-1 div.sk-container {\n",
       "  /* jupyter's `normalize.less` sets `[hidden] { display: none; }`\n",
       "     but bootstrap.min.css set `[hidden] { display: none !important; }`\n",
       "     so we also need the `!important` here to be able to override the\n",
       "     default hidden behavior on the sphinx rendered scikit-learn.org.\n",
       "     See: https://github.com/scikit-learn/scikit-learn/issues/21755 */\n",
       "  display: inline-block !important;\n",
       "  position: relative;\n",
       "}\n",
       "\n",
       "#sk-container-id-1 div.sk-text-repr-fallback {\n",
       "  display: none;\n",
       "}\n",
       "\n",
       "div.sk-parallel-item,\n",
       "div.sk-serial,\n",
       "div.sk-item {\n",
       "  /* draw centered vertical line to link estimators */\n",
       "  background-image: linear-gradient(var(--sklearn-color-text-on-default-background), var(--sklearn-color-text-on-default-background));\n",
       "  background-size: 2px 100%;\n",
       "  background-repeat: no-repeat;\n",
       "  background-position: center center;\n",
       "}\n",
       "\n",
       "/* Parallel-specific style estimator block */\n",
       "\n",
       "#sk-container-id-1 div.sk-parallel-item::after {\n",
       "  content: \"\";\n",
       "  width: 100%;\n",
       "  border-bottom: 2px solid var(--sklearn-color-text-on-default-background);\n",
       "  flex-grow: 1;\n",
       "}\n",
       "\n",
       "#sk-container-id-1 div.sk-parallel {\n",
       "  display: flex;\n",
       "  align-items: stretch;\n",
       "  justify-content: center;\n",
       "  background-color: var(--sklearn-color-background);\n",
       "  position: relative;\n",
       "}\n",
       "\n",
       "#sk-container-id-1 div.sk-parallel-item {\n",
       "  display: flex;\n",
       "  flex-direction: column;\n",
       "}\n",
       "\n",
       "#sk-container-id-1 div.sk-parallel-item:first-child::after {\n",
       "  align-self: flex-end;\n",
       "  width: 50%;\n",
       "}\n",
       "\n",
       "#sk-container-id-1 div.sk-parallel-item:last-child::after {\n",
       "  align-self: flex-start;\n",
       "  width: 50%;\n",
       "}\n",
       "\n",
       "#sk-container-id-1 div.sk-parallel-item:only-child::after {\n",
       "  width: 0;\n",
       "}\n",
       "\n",
       "/* Serial-specific style estimator block */\n",
       "\n",
       "#sk-container-id-1 div.sk-serial {\n",
       "  display: flex;\n",
       "  flex-direction: column;\n",
       "  align-items: center;\n",
       "  background-color: var(--sklearn-color-background);\n",
       "  padding-right: 1em;\n",
       "  padding-left: 1em;\n",
       "}\n",
       "\n",
       "\n",
       "/* Toggleable style: style used for estimator/Pipeline/ColumnTransformer box that is\n",
       "clickable and can be expanded/collapsed.\n",
       "- Pipeline and ColumnTransformer use this feature and define the default style\n",
       "- Estimators will overwrite some part of the style using the `sk-estimator` class\n",
       "*/\n",
       "\n",
       "/* Pipeline and ColumnTransformer style (default) */\n",
       "\n",
       "#sk-container-id-1 div.sk-toggleable {\n",
       "  /* Default theme specific background. It is overwritten whether we have a\n",
       "  specific estimator or a Pipeline/ColumnTransformer */\n",
       "  background-color: var(--sklearn-color-background);\n",
       "}\n",
       "\n",
       "/* Toggleable label */\n",
       "#sk-container-id-1 label.sk-toggleable__label {\n",
       "  cursor: pointer;\n",
       "  display: flex;\n",
       "  width: 100%;\n",
       "  margin-bottom: 0;\n",
       "  padding: 0.5em;\n",
       "  box-sizing: border-box;\n",
       "  text-align: center;\n",
       "  align-items: start;\n",
       "  justify-content: space-between;\n",
       "  gap: 0.5em;\n",
       "}\n",
       "\n",
       "#sk-container-id-1 label.sk-toggleable__label .caption {\n",
       "  font-size: 0.6rem;\n",
       "  font-weight: lighter;\n",
       "  color: var(--sklearn-color-text-muted);\n",
       "}\n",
       "\n",
       "#sk-container-id-1 label.sk-toggleable__label-arrow:before {\n",
       "  /* Arrow on the left of the label */\n",
       "  content: \"▸\";\n",
       "  float: left;\n",
       "  margin-right: 0.25em;\n",
       "  color: var(--sklearn-color-icon);\n",
       "}\n",
       "\n",
       "#sk-container-id-1 label.sk-toggleable__label-arrow:hover:before {\n",
       "  color: var(--sklearn-color-text);\n",
       "}\n",
       "\n",
       "/* Toggleable content - dropdown */\n",
       "\n",
       "#sk-container-id-1 div.sk-toggleable__content {\n",
       "  max-height: 0;\n",
       "  max-width: 0;\n",
       "  overflow: hidden;\n",
       "  text-align: left;\n",
       "  /* unfitted */\n",
       "  background-color: var(--sklearn-color-unfitted-level-0);\n",
       "}\n",
       "\n",
       "#sk-container-id-1 div.sk-toggleable__content.fitted {\n",
       "  /* fitted */\n",
       "  background-color: var(--sklearn-color-fitted-level-0);\n",
       "}\n",
       "\n",
       "#sk-container-id-1 div.sk-toggleable__content pre {\n",
       "  margin: 0.2em;\n",
       "  border-radius: 0.25em;\n",
       "  color: var(--sklearn-color-text);\n",
       "  /* unfitted */\n",
       "  background-color: var(--sklearn-color-unfitted-level-0);\n",
       "}\n",
       "\n",
       "#sk-container-id-1 div.sk-toggleable__content.fitted pre {\n",
       "  /* unfitted */\n",
       "  background-color: var(--sklearn-color-fitted-level-0);\n",
       "}\n",
       "\n",
       "#sk-container-id-1 input.sk-toggleable__control:checked~div.sk-toggleable__content {\n",
       "  /* Expand drop-down */\n",
       "  max-height: 200px;\n",
       "  max-width: 100%;\n",
       "  overflow: auto;\n",
       "}\n",
       "\n",
       "#sk-container-id-1 input.sk-toggleable__control:checked~label.sk-toggleable__label-arrow:before {\n",
       "  content: \"▾\";\n",
       "}\n",
       "\n",
       "/* Pipeline/ColumnTransformer-specific style */\n",
       "\n",
       "#sk-container-id-1 div.sk-label input.sk-toggleable__control:checked~label.sk-toggleable__label {\n",
       "  color: var(--sklearn-color-text);\n",
       "  background-color: var(--sklearn-color-unfitted-level-2);\n",
       "}\n",
       "\n",
       "#sk-container-id-1 div.sk-label.fitted input.sk-toggleable__control:checked~label.sk-toggleable__label {\n",
       "  background-color: var(--sklearn-color-fitted-level-2);\n",
       "}\n",
       "\n",
       "/* Estimator-specific style */\n",
       "\n",
       "/* Colorize estimator box */\n",
       "#sk-container-id-1 div.sk-estimator input.sk-toggleable__control:checked~label.sk-toggleable__label {\n",
       "  /* unfitted */\n",
       "  background-color: var(--sklearn-color-unfitted-level-2);\n",
       "}\n",
       "\n",
       "#sk-container-id-1 div.sk-estimator.fitted input.sk-toggleable__control:checked~label.sk-toggleable__label {\n",
       "  /* fitted */\n",
       "  background-color: var(--sklearn-color-fitted-level-2);\n",
       "}\n",
       "\n",
       "#sk-container-id-1 div.sk-label label.sk-toggleable__label,\n",
       "#sk-container-id-1 div.sk-label label {\n",
       "  /* The background is the default theme color */\n",
       "  color: var(--sklearn-color-text-on-default-background);\n",
       "}\n",
       "\n",
       "/* On hover, darken the color of the background */\n",
       "#sk-container-id-1 div.sk-label:hover label.sk-toggleable__label {\n",
       "  color: var(--sklearn-color-text);\n",
       "  background-color: var(--sklearn-color-unfitted-level-2);\n",
       "}\n",
       "\n",
       "/* Label box, darken color on hover, fitted */\n",
       "#sk-container-id-1 div.sk-label.fitted:hover label.sk-toggleable__label.fitted {\n",
       "  color: var(--sklearn-color-text);\n",
       "  background-color: var(--sklearn-color-fitted-level-2);\n",
       "}\n",
       "\n",
       "/* Estimator label */\n",
       "\n",
       "#sk-container-id-1 div.sk-label label {\n",
       "  font-family: monospace;\n",
       "  font-weight: bold;\n",
       "  display: inline-block;\n",
       "  line-height: 1.2em;\n",
       "}\n",
       "\n",
       "#sk-container-id-1 div.sk-label-container {\n",
       "  text-align: center;\n",
       "}\n",
       "\n",
       "/* Estimator-specific */\n",
       "#sk-container-id-1 div.sk-estimator {\n",
       "  font-family: monospace;\n",
       "  border: 1px dotted var(--sklearn-color-border-box);\n",
       "  border-radius: 0.25em;\n",
       "  box-sizing: border-box;\n",
       "  margin-bottom: 0.5em;\n",
       "  /* unfitted */\n",
       "  background-color: var(--sklearn-color-unfitted-level-0);\n",
       "}\n",
       "\n",
       "#sk-container-id-1 div.sk-estimator.fitted {\n",
       "  /* fitted */\n",
       "  background-color: var(--sklearn-color-fitted-level-0);\n",
       "}\n",
       "\n",
       "/* on hover */\n",
       "#sk-container-id-1 div.sk-estimator:hover {\n",
       "  /* unfitted */\n",
       "  background-color: var(--sklearn-color-unfitted-level-2);\n",
       "}\n",
       "\n",
       "#sk-container-id-1 div.sk-estimator.fitted:hover {\n",
       "  /* fitted */\n",
       "  background-color: var(--sklearn-color-fitted-level-2);\n",
       "}\n",
       "\n",
       "/* Specification for estimator info (e.g. \"i\" and \"?\") */\n",
       "\n",
       "/* Common style for \"i\" and \"?\" */\n",
       "\n",
       ".sk-estimator-doc-link,\n",
       "a:link.sk-estimator-doc-link,\n",
       "a:visited.sk-estimator-doc-link {\n",
       "  float: right;\n",
       "  font-size: smaller;\n",
       "  line-height: 1em;\n",
       "  font-family: monospace;\n",
       "  background-color: var(--sklearn-color-background);\n",
       "  border-radius: 1em;\n",
       "  height: 1em;\n",
       "  width: 1em;\n",
       "  text-decoration: none !important;\n",
       "  margin-left: 0.5em;\n",
       "  text-align: center;\n",
       "  /* unfitted */\n",
       "  border: var(--sklearn-color-unfitted-level-1) 1pt solid;\n",
       "  color: var(--sklearn-color-unfitted-level-1);\n",
       "}\n",
       "\n",
       ".sk-estimator-doc-link.fitted,\n",
       "a:link.sk-estimator-doc-link.fitted,\n",
       "a:visited.sk-estimator-doc-link.fitted {\n",
       "  /* fitted */\n",
       "  border: var(--sklearn-color-fitted-level-1) 1pt solid;\n",
       "  color: var(--sklearn-color-fitted-level-1);\n",
       "}\n",
       "\n",
       "/* On hover */\n",
       "div.sk-estimator:hover .sk-estimator-doc-link:hover,\n",
       ".sk-estimator-doc-link:hover,\n",
       "div.sk-label-container:hover .sk-estimator-doc-link:hover,\n",
       ".sk-estimator-doc-link:hover {\n",
       "  /* unfitted */\n",
       "  background-color: var(--sklearn-color-unfitted-level-3);\n",
       "  color: var(--sklearn-color-background);\n",
       "  text-decoration: none;\n",
       "}\n",
       "\n",
       "div.sk-estimator.fitted:hover .sk-estimator-doc-link.fitted:hover,\n",
       ".sk-estimator-doc-link.fitted:hover,\n",
       "div.sk-label-container:hover .sk-estimator-doc-link.fitted:hover,\n",
       ".sk-estimator-doc-link.fitted:hover {\n",
       "  /* fitted */\n",
       "  background-color: var(--sklearn-color-fitted-level-3);\n",
       "  color: var(--sklearn-color-background);\n",
       "  text-decoration: none;\n",
       "}\n",
       "\n",
       "/* Span, style for the box shown on hovering the info icon */\n",
       ".sk-estimator-doc-link span {\n",
       "  display: none;\n",
       "  z-index: 9999;\n",
       "  position: relative;\n",
       "  font-weight: normal;\n",
       "  right: .2ex;\n",
       "  padding: .5ex;\n",
       "  margin: .5ex;\n",
       "  width: min-content;\n",
       "  min-width: 20ex;\n",
       "  max-width: 50ex;\n",
       "  color: var(--sklearn-color-text);\n",
       "  box-shadow: 2pt 2pt 4pt #999;\n",
       "  /* unfitted */\n",
       "  background: var(--sklearn-color-unfitted-level-0);\n",
       "  border: .5pt solid var(--sklearn-color-unfitted-level-3);\n",
       "}\n",
       "\n",
       ".sk-estimator-doc-link.fitted span {\n",
       "  /* fitted */\n",
       "  background: var(--sklearn-color-fitted-level-0);\n",
       "  border: var(--sklearn-color-fitted-level-3);\n",
       "}\n",
       "\n",
       ".sk-estimator-doc-link:hover span {\n",
       "  display: block;\n",
       "}\n",
       "\n",
       "/* \"?\"-specific style due to the `<a>` HTML tag */\n",
       "\n",
       "#sk-container-id-1 a.estimator_doc_link {\n",
       "  float: right;\n",
       "  font-size: 1rem;\n",
       "  line-height: 1em;\n",
       "  font-family: monospace;\n",
       "  background-color: var(--sklearn-color-background);\n",
       "  border-radius: 1rem;\n",
       "  height: 1rem;\n",
       "  width: 1rem;\n",
       "  text-decoration: none;\n",
       "  /* unfitted */\n",
       "  color: var(--sklearn-color-unfitted-level-1);\n",
       "  border: var(--sklearn-color-unfitted-level-1) 1pt solid;\n",
       "}\n",
       "\n",
       "#sk-container-id-1 a.estimator_doc_link.fitted {\n",
       "  /* fitted */\n",
       "  border: var(--sklearn-color-fitted-level-1) 1pt solid;\n",
       "  color: var(--sklearn-color-fitted-level-1);\n",
       "}\n",
       "\n",
       "/* On hover */\n",
       "#sk-container-id-1 a.estimator_doc_link:hover {\n",
       "  /* unfitted */\n",
       "  background-color: var(--sklearn-color-unfitted-level-3);\n",
       "  color: var(--sklearn-color-background);\n",
       "  text-decoration: none;\n",
       "}\n",
       "\n",
       "#sk-container-id-1 a.estimator_doc_link.fitted:hover {\n",
       "  /* fitted */\n",
       "  background-color: var(--sklearn-color-fitted-level-3);\n",
       "}\n",
       "</style><div id=\"sk-container-id-1\" class=\"sk-top-container\"><div class=\"sk-text-repr-fallback\"><pre>RandomForestClassifier(max_depth=3, min_samples_split=4, n_estimators=109)</pre><b>In a Jupyter environment, please rerun this cell to show the HTML representation or trust the notebook. <br />On GitHub, the HTML representation is unable to render, please try loading this page with nbviewer.org.</b></div><div class=\"sk-container\" hidden><div class=\"sk-item\"><div class=\"sk-estimator fitted sk-toggleable\"><input class=\"sk-toggleable__control sk-hidden--visually\" id=\"sk-estimator-id-1\" type=\"checkbox\" checked><label for=\"sk-estimator-id-1\" class=\"sk-toggleable__label fitted sk-toggleable__label-arrow\"><div><div>RandomForestClassifier</div></div><div><a class=\"sk-estimator-doc-link fitted\" rel=\"noreferrer\" target=\"_blank\" href=\"https://scikit-learn.org/1.6/modules/generated/sklearn.ensemble.RandomForestClassifier.html\">?<span>Documentation for RandomForestClassifier</span></a><span class=\"sk-estimator-doc-link fitted\">i<span>Fitted</span></span></div></label><div class=\"sk-toggleable__content fitted\"><pre>RandomForestClassifier(max_depth=3, min_samples_split=4, n_estimators=109)</pre></div> </div></div></div></div>"
      ],
      "text/plain": [
       "RandomForestClassifier(max_depth=3, min_samples_split=4, n_estimators=109)"
      ]
     },
     "execution_count": 19,
     "metadata": {},
     "output_type": "execute_result"
    }
   ],
   "source": [
    "xgb_model = xgb.XGBClassifier(**xgb_best_params,enable_categorical=True)\n",
    "rf_model = RandomForestClassifier(**random_forest_best_params)\n",
    "\n",
    "xgb_model.fit(X_xgb, y_xgb)\n",
    "rf_model.fit(X_xgb, y_xgb)"
   ]
  },
  {
   "cell_type": "code",
   "execution_count": null,
   "metadata": {},
   "outputs": [
    {
     "data": {
      "text/html": [
       "<style>#sk-container-id-2 {\n",
       "  /* Definition of color scheme common for light and dark mode */\n",
       "  --sklearn-color-text: #000;\n",
       "  --sklearn-color-text-muted: #666;\n",
       "  --sklearn-color-line: gray;\n",
       "  /* Definition of color scheme for unfitted estimators */\n",
       "  --sklearn-color-unfitted-level-0: #fff5e6;\n",
       "  --sklearn-color-unfitted-level-1: #f6e4d2;\n",
       "  --sklearn-color-unfitted-level-2: #ffe0b3;\n",
       "  --sklearn-color-unfitted-level-3: chocolate;\n",
       "  /* Definition of color scheme for fitted estimators */\n",
       "  --sklearn-color-fitted-level-0: #f0f8ff;\n",
       "  --sklearn-color-fitted-level-1: #d4ebff;\n",
       "  --sklearn-color-fitted-level-2: #b3dbfd;\n",
       "  --sklearn-color-fitted-level-3: cornflowerblue;\n",
       "\n",
       "  /* Specific color for light theme */\n",
       "  --sklearn-color-text-on-default-background: var(--sg-text-color, var(--theme-code-foreground, var(--jp-content-font-color1, black)));\n",
       "  --sklearn-color-background: var(--sg-background-color, var(--theme-background, var(--jp-layout-color0, white)));\n",
       "  --sklearn-color-border-box: var(--sg-text-color, var(--theme-code-foreground, var(--jp-content-font-color1, black)));\n",
       "  --sklearn-color-icon: #696969;\n",
       "\n",
       "  @media (prefers-color-scheme: dark) {\n",
       "    /* Redefinition of color scheme for dark theme */\n",
       "    --sklearn-color-text-on-default-background: var(--sg-text-color, var(--theme-code-foreground, var(--jp-content-font-color1, white)));\n",
       "    --sklearn-color-background: var(--sg-background-color, var(--theme-background, var(--jp-layout-color0, #111)));\n",
       "    --sklearn-color-border-box: var(--sg-text-color, var(--theme-code-foreground, var(--jp-content-font-color1, white)));\n",
       "    --sklearn-color-icon: #878787;\n",
       "  }\n",
       "}\n",
       "\n",
       "#sk-container-id-2 {\n",
       "  color: var(--sklearn-color-text);\n",
       "}\n",
       "\n",
       "#sk-container-id-2 pre {\n",
       "  padding: 0;\n",
       "}\n",
       "\n",
       "#sk-container-id-2 input.sk-hidden--visually {\n",
       "  border: 0;\n",
       "  clip: rect(1px 1px 1px 1px);\n",
       "  clip: rect(1px, 1px, 1px, 1px);\n",
       "  height: 1px;\n",
       "  margin: -1px;\n",
       "  overflow: hidden;\n",
       "  padding: 0;\n",
       "  position: absolute;\n",
       "  width: 1px;\n",
       "}\n",
       "\n",
       "#sk-container-id-2 div.sk-dashed-wrapped {\n",
       "  border: 1px dashed var(--sklearn-color-line);\n",
       "  margin: 0 0.4em 0.5em 0.4em;\n",
       "  box-sizing: border-box;\n",
       "  padding-bottom: 0.4em;\n",
       "  background-color: var(--sklearn-color-background);\n",
       "}\n",
       "\n",
       "#sk-container-id-2 div.sk-container {\n",
       "  /* jupyter's `normalize.less` sets `[hidden] { display: none; }`\n",
       "     but bootstrap.min.css set `[hidden] { display: none !important; }`\n",
       "     so we also need the `!important` here to be able to override the\n",
       "     default hidden behavior on the sphinx rendered scikit-learn.org.\n",
       "     See: https://github.com/scikit-learn/scikit-learn/issues/21755 */\n",
       "  display: inline-block !important;\n",
       "  position: relative;\n",
       "}\n",
       "\n",
       "#sk-container-id-2 div.sk-text-repr-fallback {\n",
       "  display: none;\n",
       "}\n",
       "\n",
       "div.sk-parallel-item,\n",
       "div.sk-serial,\n",
       "div.sk-item {\n",
       "  /* draw centered vertical line to link estimators */\n",
       "  background-image: linear-gradient(var(--sklearn-color-text-on-default-background), var(--sklearn-color-text-on-default-background));\n",
       "  background-size: 2px 100%;\n",
       "  background-repeat: no-repeat;\n",
       "  background-position: center center;\n",
       "}\n",
       "\n",
       "/* Parallel-specific style estimator block */\n",
       "\n",
       "#sk-container-id-2 div.sk-parallel-item::after {\n",
       "  content: \"\";\n",
       "  width: 100%;\n",
       "  border-bottom: 2px solid var(--sklearn-color-text-on-default-background);\n",
       "  flex-grow: 1;\n",
       "}\n",
       "\n",
       "#sk-container-id-2 div.sk-parallel {\n",
       "  display: flex;\n",
       "  align-items: stretch;\n",
       "  justify-content: center;\n",
       "  background-color: var(--sklearn-color-background);\n",
       "  position: relative;\n",
       "}\n",
       "\n",
       "#sk-container-id-2 div.sk-parallel-item {\n",
       "  display: flex;\n",
       "  flex-direction: column;\n",
       "}\n",
       "\n",
       "#sk-container-id-2 div.sk-parallel-item:first-child::after {\n",
       "  align-self: flex-end;\n",
       "  width: 50%;\n",
       "}\n",
       "\n",
       "#sk-container-id-2 div.sk-parallel-item:last-child::after {\n",
       "  align-self: flex-start;\n",
       "  width: 50%;\n",
       "}\n",
       "\n",
       "#sk-container-id-2 div.sk-parallel-item:only-child::after {\n",
       "  width: 0;\n",
       "}\n",
       "\n",
       "/* Serial-specific style estimator block */\n",
       "\n",
       "#sk-container-id-2 div.sk-serial {\n",
       "  display: flex;\n",
       "  flex-direction: column;\n",
       "  align-items: center;\n",
       "  background-color: var(--sklearn-color-background);\n",
       "  padding-right: 1em;\n",
       "  padding-left: 1em;\n",
       "}\n",
       "\n",
       "\n",
       "/* Toggleable style: style used for estimator/Pipeline/ColumnTransformer box that is\n",
       "clickable and can be expanded/collapsed.\n",
       "- Pipeline and ColumnTransformer use this feature and define the default style\n",
       "- Estimators will overwrite some part of the style using the `sk-estimator` class\n",
       "*/\n",
       "\n",
       "/* Pipeline and ColumnTransformer style (default) */\n",
       "\n",
       "#sk-container-id-2 div.sk-toggleable {\n",
       "  /* Default theme specific background. It is overwritten whether we have a\n",
       "  specific estimator or a Pipeline/ColumnTransformer */\n",
       "  background-color: var(--sklearn-color-background);\n",
       "}\n",
       "\n",
       "/* Toggleable label */\n",
       "#sk-container-id-2 label.sk-toggleable__label {\n",
       "  cursor: pointer;\n",
       "  display: flex;\n",
       "  width: 100%;\n",
       "  margin-bottom: 0;\n",
       "  padding: 0.5em;\n",
       "  box-sizing: border-box;\n",
       "  text-align: center;\n",
       "  align-items: start;\n",
       "  justify-content: space-between;\n",
       "  gap: 0.5em;\n",
       "}\n",
       "\n",
       "#sk-container-id-2 label.sk-toggleable__label .caption {\n",
       "  font-size: 0.6rem;\n",
       "  font-weight: lighter;\n",
       "  color: var(--sklearn-color-text-muted);\n",
       "}\n",
       "\n",
       "#sk-container-id-2 label.sk-toggleable__label-arrow:before {\n",
       "  /* Arrow on the left of the label */\n",
       "  content: \"▸\";\n",
       "  float: left;\n",
       "  margin-right: 0.25em;\n",
       "  color: var(--sklearn-color-icon);\n",
       "}\n",
       "\n",
       "#sk-container-id-2 label.sk-toggleable__label-arrow:hover:before {\n",
       "  color: var(--sklearn-color-text);\n",
       "}\n",
       "\n",
       "/* Toggleable content - dropdown */\n",
       "\n",
       "#sk-container-id-2 div.sk-toggleable__content {\n",
       "  max-height: 0;\n",
       "  max-width: 0;\n",
       "  overflow: hidden;\n",
       "  text-align: left;\n",
       "  /* unfitted */\n",
       "  background-color: var(--sklearn-color-unfitted-level-0);\n",
       "}\n",
       "\n",
       "#sk-container-id-2 div.sk-toggleable__content.fitted {\n",
       "  /* fitted */\n",
       "  background-color: var(--sklearn-color-fitted-level-0);\n",
       "}\n",
       "\n",
       "#sk-container-id-2 div.sk-toggleable__content pre {\n",
       "  margin: 0.2em;\n",
       "  border-radius: 0.25em;\n",
       "  color: var(--sklearn-color-text);\n",
       "  /* unfitted */\n",
       "  background-color: var(--sklearn-color-unfitted-level-0);\n",
       "}\n",
       "\n",
       "#sk-container-id-2 div.sk-toggleable__content.fitted pre {\n",
       "  /* unfitted */\n",
       "  background-color: var(--sklearn-color-fitted-level-0);\n",
       "}\n",
       "\n",
       "#sk-container-id-2 input.sk-toggleable__control:checked~div.sk-toggleable__content {\n",
       "  /* Expand drop-down */\n",
       "  max-height: 200px;\n",
       "  max-width: 100%;\n",
       "  overflow: auto;\n",
       "}\n",
       "\n",
       "#sk-container-id-2 input.sk-toggleable__control:checked~label.sk-toggleable__label-arrow:before {\n",
       "  content: \"▾\";\n",
       "}\n",
       "\n",
       "/* Pipeline/ColumnTransformer-specific style */\n",
       "\n",
       "#sk-container-id-2 div.sk-label input.sk-toggleable__control:checked~label.sk-toggleable__label {\n",
       "  color: var(--sklearn-color-text);\n",
       "  background-color: var(--sklearn-color-unfitted-level-2);\n",
       "}\n",
       "\n",
       "#sk-container-id-2 div.sk-label.fitted input.sk-toggleable__control:checked~label.sk-toggleable__label {\n",
       "  background-color: var(--sklearn-color-fitted-level-2);\n",
       "}\n",
       "\n",
       "/* Estimator-specific style */\n",
       "\n",
       "/* Colorize estimator box */\n",
       "#sk-container-id-2 div.sk-estimator input.sk-toggleable__control:checked~label.sk-toggleable__label {\n",
       "  /* unfitted */\n",
       "  background-color: var(--sklearn-color-unfitted-level-2);\n",
       "}\n",
       "\n",
       "#sk-container-id-2 div.sk-estimator.fitted input.sk-toggleable__control:checked~label.sk-toggleable__label {\n",
       "  /* fitted */\n",
       "  background-color: var(--sklearn-color-fitted-level-2);\n",
       "}\n",
       "\n",
       "#sk-container-id-2 div.sk-label label.sk-toggleable__label,\n",
       "#sk-container-id-2 div.sk-label label {\n",
       "  /* The background is the default theme color */\n",
       "  color: var(--sklearn-color-text-on-default-background);\n",
       "}\n",
       "\n",
       "/* On hover, darken the color of the background */\n",
       "#sk-container-id-2 div.sk-label:hover label.sk-toggleable__label {\n",
       "  color: var(--sklearn-color-text);\n",
       "  background-color: var(--sklearn-color-unfitted-level-2);\n",
       "}\n",
       "\n",
       "/* Label box, darken color on hover, fitted */\n",
       "#sk-container-id-2 div.sk-label.fitted:hover label.sk-toggleable__label.fitted {\n",
       "  color: var(--sklearn-color-text);\n",
       "  background-color: var(--sklearn-color-fitted-level-2);\n",
       "}\n",
       "\n",
       "/* Estimator label */\n",
       "\n",
       "#sk-container-id-2 div.sk-label label {\n",
       "  font-family: monospace;\n",
       "  font-weight: bold;\n",
       "  display: inline-block;\n",
       "  line-height: 1.2em;\n",
       "}\n",
       "\n",
       "#sk-container-id-2 div.sk-label-container {\n",
       "  text-align: center;\n",
       "}\n",
       "\n",
       "/* Estimator-specific */\n",
       "#sk-container-id-2 div.sk-estimator {\n",
       "  font-family: monospace;\n",
       "  border: 1px dotted var(--sklearn-color-border-box);\n",
       "  border-radius: 0.25em;\n",
       "  box-sizing: border-box;\n",
       "  margin-bottom: 0.5em;\n",
       "  /* unfitted */\n",
       "  background-color: var(--sklearn-color-unfitted-level-0);\n",
       "}\n",
       "\n",
       "#sk-container-id-2 div.sk-estimator.fitted {\n",
       "  /* fitted */\n",
       "  background-color: var(--sklearn-color-fitted-level-0);\n",
       "}\n",
       "\n",
       "/* on hover */\n",
       "#sk-container-id-2 div.sk-estimator:hover {\n",
       "  /* unfitted */\n",
       "  background-color: var(--sklearn-color-unfitted-level-2);\n",
       "}\n",
       "\n",
       "#sk-container-id-2 div.sk-estimator.fitted:hover {\n",
       "  /* fitted */\n",
       "  background-color: var(--sklearn-color-fitted-level-2);\n",
       "}\n",
       "\n",
       "/* Specification for estimator info (e.g. \"i\" and \"?\") */\n",
       "\n",
       "/* Common style for \"i\" and \"?\" */\n",
       "\n",
       ".sk-estimator-doc-link,\n",
       "a:link.sk-estimator-doc-link,\n",
       "a:visited.sk-estimator-doc-link {\n",
       "  float: right;\n",
       "  font-size: smaller;\n",
       "  line-height: 1em;\n",
       "  font-family: monospace;\n",
       "  background-color: var(--sklearn-color-background);\n",
       "  border-radius: 1em;\n",
       "  height: 1em;\n",
       "  width: 1em;\n",
       "  text-decoration: none !important;\n",
       "  margin-left: 0.5em;\n",
       "  text-align: center;\n",
       "  /* unfitted */\n",
       "  border: var(--sklearn-color-unfitted-level-1) 1pt solid;\n",
       "  color: var(--sklearn-color-unfitted-level-1);\n",
       "}\n",
       "\n",
       ".sk-estimator-doc-link.fitted,\n",
       "a:link.sk-estimator-doc-link.fitted,\n",
       "a:visited.sk-estimator-doc-link.fitted {\n",
       "  /* fitted */\n",
       "  border: var(--sklearn-color-fitted-level-1) 1pt solid;\n",
       "  color: var(--sklearn-color-fitted-level-1);\n",
       "}\n",
       "\n",
       "/* On hover */\n",
       "div.sk-estimator:hover .sk-estimator-doc-link:hover,\n",
       ".sk-estimator-doc-link:hover,\n",
       "div.sk-label-container:hover .sk-estimator-doc-link:hover,\n",
       ".sk-estimator-doc-link:hover {\n",
       "  /* unfitted */\n",
       "  background-color: var(--sklearn-color-unfitted-level-3);\n",
       "  color: var(--sklearn-color-background);\n",
       "  text-decoration: none;\n",
       "}\n",
       "\n",
       "div.sk-estimator.fitted:hover .sk-estimator-doc-link.fitted:hover,\n",
       ".sk-estimator-doc-link.fitted:hover,\n",
       "div.sk-label-container:hover .sk-estimator-doc-link.fitted:hover,\n",
       ".sk-estimator-doc-link.fitted:hover {\n",
       "  /* fitted */\n",
       "  background-color: var(--sklearn-color-fitted-level-3);\n",
       "  color: var(--sklearn-color-background);\n",
       "  text-decoration: none;\n",
       "}\n",
       "\n",
       "/* Span, style for the box shown on hovering the info icon */\n",
       ".sk-estimator-doc-link span {\n",
       "  display: none;\n",
       "  z-index: 9999;\n",
       "  position: relative;\n",
       "  font-weight: normal;\n",
       "  right: .2ex;\n",
       "  padding: .5ex;\n",
       "  margin: .5ex;\n",
       "  width: min-content;\n",
       "  min-width: 20ex;\n",
       "  max-width: 50ex;\n",
       "  color: var(--sklearn-color-text);\n",
       "  box-shadow: 2pt 2pt 4pt #999;\n",
       "  /* unfitted */\n",
       "  background: var(--sklearn-color-unfitted-level-0);\n",
       "  border: .5pt solid var(--sklearn-color-unfitted-level-3);\n",
       "}\n",
       "\n",
       ".sk-estimator-doc-link.fitted span {\n",
       "  /* fitted */\n",
       "  background: var(--sklearn-color-fitted-level-0);\n",
       "  border: var(--sklearn-color-fitted-level-3);\n",
       "}\n",
       "\n",
       ".sk-estimator-doc-link:hover span {\n",
       "  display: block;\n",
       "}\n",
       "\n",
       "/* \"?\"-specific style due to the `<a>` HTML tag */\n",
       "\n",
       "#sk-container-id-2 a.estimator_doc_link {\n",
       "  float: right;\n",
       "  font-size: 1rem;\n",
       "  line-height: 1em;\n",
       "  font-family: monospace;\n",
       "  background-color: var(--sklearn-color-background);\n",
       "  border-radius: 1rem;\n",
       "  height: 1rem;\n",
       "  width: 1rem;\n",
       "  text-decoration: none;\n",
       "  /* unfitted */\n",
       "  color: var(--sklearn-color-unfitted-level-1);\n",
       "  border: var(--sklearn-color-unfitted-level-1) 1pt solid;\n",
       "}\n",
       "\n",
       "#sk-container-id-2 a.estimator_doc_link.fitted {\n",
       "  /* fitted */\n",
       "  border: var(--sklearn-color-fitted-level-1) 1pt solid;\n",
       "  color: var(--sklearn-color-fitted-level-1);\n",
       "}\n",
       "\n",
       "/* On hover */\n",
       "#sk-container-id-2 a.estimator_doc_link:hover {\n",
       "  /* unfitted */\n",
       "  background-color: var(--sklearn-color-unfitted-level-3);\n",
       "  color: var(--sklearn-color-background);\n",
       "  text-decoration: none;\n",
       "}\n",
       "\n",
       "#sk-container-id-2 a.estimator_doc_link.fitted:hover {\n",
       "  /* fitted */\n",
       "  background-color: var(--sklearn-color-fitted-level-3);\n",
       "}\n",
       "</style><div id=\"sk-container-id-2\" class=\"sk-top-container\"><div class=\"sk-text-repr-fallback\"><pre>StackingClassifier(estimators=[(&#x27;rf&#x27;,\n",
       "                                RandomForestClassifier(max_depth=3,\n",
       "                                                       min_samples_split=4,\n",
       "                                                       n_estimators=109)),\n",
       "                               (&#x27;xgb&#x27;,\n",
       "                                XGBClassifier(base_score=None, booster=None,\n",
       "                                              callbacks=None,\n",
       "                                              colsample_bylevel=None,\n",
       "                                              colsample_bynode=None,\n",
       "                                              colsample_bytree=0.606919399878638,\n",
       "                                              device=None,\n",
       "                                              early_stopping_rounds=None,\n",
       "                                              enable_categorical=True,\n",
       "                                              eta=0.24715477742304046,\n",
       "                                              eval_me...\n",
       "                                              gamma=0.13193866337413052,\n",
       "                                              grow_policy=None,\n",
       "                                              importance_type=None,\n",
       "                                              interaction_constraints=None,\n",
       "                                              learning_rate=None, max_bin=None,\n",
       "                                              max_cat_threshold=None,\n",
       "                                              max_cat_to_onehot=None,\n",
       "                                              max_delta_step=None, max_depth=10,\n",
       "                                              max_leaves=None,\n",
       "                                              min_child_weight=1, missing=nan,\n",
       "                                              monotone_constraints=None,\n",
       "                                              multi_strategy=None,\n",
       "                                              n_estimators=None, n_jobs=None, ...))],\n",
       "                   final_estimator=LogisticRegression())</pre><b>In a Jupyter environment, please rerun this cell to show the HTML representation or trust the notebook. <br />On GitHub, the HTML representation is unable to render, please try loading this page with nbviewer.org.</b></div><div class=\"sk-container\" hidden><div class=\"sk-item sk-dashed-wrapped\"><div class=\"sk-label-container\"><div class=\"sk-label fitted sk-toggleable\"><input class=\"sk-toggleable__control sk-hidden--visually\" id=\"sk-estimator-id-2\" type=\"checkbox\" ><label for=\"sk-estimator-id-2\" class=\"sk-toggleable__label fitted sk-toggleable__label-arrow\"><div><div>StackingClassifier</div></div><div><a class=\"sk-estimator-doc-link fitted\" rel=\"noreferrer\" target=\"_blank\" href=\"https://scikit-learn.org/1.6/modules/generated/sklearn.ensemble.StackingClassifier.html\">?<span>Documentation for StackingClassifier</span></a><span class=\"sk-estimator-doc-link fitted\">i<span>Fitted</span></span></div></label><div class=\"sk-toggleable__content fitted\"><pre>StackingClassifier(estimators=[(&#x27;rf&#x27;,\n",
       "                                RandomForestClassifier(max_depth=3,\n",
       "                                                       min_samples_split=4,\n",
       "                                                       n_estimators=109)),\n",
       "                               (&#x27;xgb&#x27;,\n",
       "                                XGBClassifier(base_score=None, booster=None,\n",
       "                                              callbacks=None,\n",
       "                                              colsample_bylevel=None,\n",
       "                                              colsample_bynode=None,\n",
       "                                              colsample_bytree=0.606919399878638,\n",
       "                                              device=None,\n",
       "                                              early_stopping_rounds=None,\n",
       "                                              enable_categorical=True,\n",
       "                                              eta=0.24715477742304046,\n",
       "                                              eval_me...\n",
       "                                              gamma=0.13193866337413052,\n",
       "                                              grow_policy=None,\n",
       "                                              importance_type=None,\n",
       "                                              interaction_constraints=None,\n",
       "                                              learning_rate=None, max_bin=None,\n",
       "                                              max_cat_threshold=None,\n",
       "                                              max_cat_to_onehot=None,\n",
       "                                              max_delta_step=None, max_depth=10,\n",
       "                                              max_leaves=None,\n",
       "                                              min_child_weight=1, missing=nan,\n",
       "                                              monotone_constraints=None,\n",
       "                                              multi_strategy=None,\n",
       "                                              n_estimators=None, n_jobs=None, ...))],\n",
       "                   final_estimator=LogisticRegression())</pre></div> </div></div><div class=\"sk-serial\"><div class=\"sk-item\"><div class=\"sk-parallel\"><div class=\"sk-parallel-item\"><div class=\"sk-item\"><div class=\"sk-label-container\"><div class=\"sk-label fitted sk-toggleable\"><label>rf</label></div></div><div class=\"sk-serial\"><div class=\"sk-item\"><div class=\"sk-estimator fitted sk-toggleable\"><input class=\"sk-toggleable__control sk-hidden--visually\" id=\"sk-estimator-id-3\" type=\"checkbox\" ><label for=\"sk-estimator-id-3\" class=\"sk-toggleable__label fitted sk-toggleable__label-arrow\"><div><div>RandomForestClassifier</div></div><div><a class=\"sk-estimator-doc-link fitted\" rel=\"noreferrer\" target=\"_blank\" href=\"https://scikit-learn.org/1.6/modules/generated/sklearn.ensemble.RandomForestClassifier.html\">?<span>Documentation for RandomForestClassifier</span></a></div></label><div class=\"sk-toggleable__content fitted\"><pre>RandomForestClassifier(max_depth=3, min_samples_split=4, n_estimators=109)</pre></div> </div></div></div></div></div><div class=\"sk-parallel-item\"><div class=\"sk-item\"><div class=\"sk-label-container\"><div class=\"sk-label fitted sk-toggleable\"><label>xgb</label></div></div><div class=\"sk-serial\"><div class=\"sk-item\"><div class=\"sk-estimator fitted sk-toggleable\"><input class=\"sk-toggleable__control sk-hidden--visually\" id=\"sk-estimator-id-4\" type=\"checkbox\" ><label for=\"sk-estimator-id-4\" class=\"sk-toggleable__label fitted sk-toggleable__label-arrow\"><div><div>XGBClassifier</div></div><div><a class=\"sk-estimator-doc-link fitted\" rel=\"noreferrer\" target=\"_blank\" href=\"https://xgboost.readthedocs.io/en/release_3.0.0/python/python_api.html#xgboost.XGBClassifier\">?<span>Documentation for XGBClassifier</span></a></div></label><div class=\"sk-toggleable__content fitted\"><pre>XGBClassifier(base_score=None, booster=None, callbacks=None,\n",
       "              colsample_bylevel=None, colsample_bynode=None,\n",
       "              colsample_bytree=0.606919399878638, device=None,\n",
       "              early_stopping_rounds=None, enable_categorical=True,\n",
       "              eta=0.24715477742304046, eval_metric=None, feature_types=None,\n",
       "              feature_weights=None, gamma=0.13193866337413052, grow_policy=None,\n",
       "              importance_type=None, interaction_constraints=None,\n",
       "              learning_rate=None, max_bin=None, max_cat_threshold=None,\n",
       "              max_cat_to_onehot=None, max_delta_step=None, max_depth=10,\n",
       "              max_leaves=None, min_child_weight=1, missing=nan,\n",
       "              monotone_constraints=None, multi_strategy=None, n_estimators=None,\n",
       "              n_jobs=None, ...)</pre></div> </div></div></div></div></div></div></div><div class=\"sk-item\"><div class=\"sk-parallel\"><div class=\"sk-parallel-item\"><div class=\"sk-item\"><div class=\"sk-label-container\"><div class=\"sk-label fitted sk-toggleable\"><label>final_estimator</label></div></div><div class=\"sk-serial\"><div class=\"sk-item\"><div class=\"sk-estimator fitted sk-toggleable\"><input class=\"sk-toggleable__control sk-hidden--visually\" id=\"sk-estimator-id-5\" type=\"checkbox\" ><label for=\"sk-estimator-id-5\" class=\"sk-toggleable__label fitted sk-toggleable__label-arrow\"><div><div>LogisticRegression</div></div><div><a class=\"sk-estimator-doc-link fitted\" rel=\"noreferrer\" target=\"_blank\" href=\"https://scikit-learn.org/1.6/modules/generated/sklearn.linear_model.LogisticRegression.html\">?<span>Documentation for LogisticRegression</span></a></div></label><div class=\"sk-toggleable__content fitted\"><pre>LogisticRegression()</pre></div> </div></div></div></div></div></div></div></div></div></div></div>"
      ],
      "text/plain": [
       "StackingClassifier(estimators=[('rf',\n",
       "                                RandomForestClassifier(max_depth=3,\n",
       "                                                       min_samples_split=4,\n",
       "                                                       n_estimators=109)),\n",
       "                               ('xgb',\n",
       "                                XGBClassifier(base_score=None, booster=None,\n",
       "                                              callbacks=None,\n",
       "                                              colsample_bylevel=None,\n",
       "                                              colsample_bynode=None,\n",
       "                                              colsample_bytree=0.606919399878638,\n",
       "                                              device=None,\n",
       "                                              early_stopping_rounds=None,\n",
       "                                              enable_categorical=True,\n",
       "                                              eta=0.24715477742304046,\n",
       "                                              eval_me...\n",
       "                                              gamma=0.13193866337413052,\n",
       "                                              grow_policy=None,\n",
       "                                              importance_type=None,\n",
       "                                              interaction_constraints=None,\n",
       "                                              learning_rate=None, max_bin=None,\n",
       "                                              max_cat_threshold=None,\n",
       "                                              max_cat_to_onehot=None,\n",
       "                                              max_delta_step=None, max_depth=10,\n",
       "                                              max_leaves=None,\n",
       "                                              min_child_weight=1, missing=nan,\n",
       "                                              monotone_constraints=None,\n",
       "                                              multi_strategy=None,\n",
       "                                              n_estimators=None, n_jobs=None, ...))],\n",
       "                   final_estimator=LogisticRegression())"
      ]
     },
     "execution_count": 20,
     "metadata": {},
     "output_type": "execute_result"
    }
   ],
   "source": [
    "\n",
    "\n",
    "\n",
    "\n"
   ]
  },
  {
   "cell_type": "code",
   "execution_count": 66,
   "metadata": {},
   "outputs": [
    {
     "name": "stderr",
     "output_type": "stream",
     "text": [
      "[I 2025-04-01 12:36:48,781] A new study created in memory with name: no-name-60944164-9a07-4de1-af63-e08ae5c619e0\n",
      "[I 2025-04-01 12:37:08,967] Trial 0 finished with value: 0.7890402360178269 and parameters: {'num_layers': 2, 'num_epochs': 233}. Best is trial 0 with value: 0.7890402360178269.\n",
      "[I 2025-04-01 12:37:20,509] Trial 1 finished with value: 0.7070491494570333 and parameters: {'num_layers': 1, 'num_epochs': 175}. Best is trial 0 with value: 0.7890402360178269.\n",
      "[I 2025-04-01 12:37:41,736] Trial 2 finished with value: 0.7968614650681063 and parameters: {'num_layers': 2, 'num_epochs': 250}. Best is trial 2 with value: 0.7968614650681063.\n",
      "[I 2025-04-01 12:38:02,122] Trial 3 finished with value: 0.7957692549118072 and parameters: {'num_layers': 2, 'num_epochs': 239}. Best is trial 2 with value: 0.7968614650681063.\n",
      "[I 2025-04-01 12:38:15,869] Trial 4 finished with value: 0.7687715774276568 and parameters: {'num_layers': 3, 'num_epochs': 115}. Best is trial 2 with value: 0.7968614650681063.\n",
      "[I 2025-04-01 12:38:36,601] Trial 5 finished with value: 0.7923670830456342 and parameters: {'num_layers': 2, 'num_epochs': 243}. Best is trial 2 with value: 0.7968614650681063.\n",
      "[I 2025-04-01 12:38:50,816] Trial 6 finished with value: 0.776655577176574 and parameters: {'num_layers': 3, 'num_epochs': 119}. Best is trial 2 with value: 0.7968614650681063.\n",
      "[I 2025-04-01 12:39:02,772] Trial 7 finished with value: 0.7721674722239659 and parameters: {'num_layers': 3, 'num_epochs': 100}. Best is trial 2 with value: 0.7968614650681063.\n",
      "[I 2025-04-01 12:39:14,944] Trial 8 finished with value: 0.7081790220325151 and parameters: {'num_layers': 1, 'num_epochs': 190}. Best is trial 2 with value: 0.7968614650681063.\n",
      "[I 2025-04-01 12:39:24,482] Trial 9 finished with value: 0.7631849852488859 and parameters: {'num_layers': 2, 'num_epochs': 114}. Best is trial 2 with value: 0.7968614650681063.\n",
      "[I 2025-04-01 12:39:42,609] Trial 10 finished with value: 0.7642897495449125 and parameters: {'num_layers': 1, 'num_epochs': 284}. Best is trial 2 with value: 0.7968614650681063.\n",
      "[I 2025-04-01 12:40:06,898] Trial 11 finished with value: 0.7991086560793421 and parameters: {'num_layers': 2, 'num_epochs': 292}. Best is trial 11 with value: 0.7991086560793421.\n",
      "[I 2025-04-01 12:40:31,638] Trial 12 finished with value: 0.7912685958194714 and parameters: {'num_layers': 2, 'num_epochs': 296}. Best is trial 11 with value: 0.7991086560793421.\n",
      "[I 2025-04-01 12:40:53,827] Trial 13 finished with value: 0.7935095097608437 and parameters: {'num_layers': 2, 'num_epochs': 266}. Best is trial 11 with value: 0.7991086560793421.\n",
      "[I 2025-04-01 12:41:10,762] Trial 14 finished with value: 0.7766618542464379 and parameters: {'num_layers': 1, 'num_epochs': 265}. Best is trial 11 with value: 0.7991086560793421.\n",
      "[I 2025-04-01 12:41:36,947] Trial 15 finished with value: 0.7923670830456343 and parameters: {'num_layers': 3, 'num_epochs': 218}. Best is trial 11 with value: 0.7991086560793421.\n",
      "[I 2025-04-01 12:41:59,095] Trial 16 finished with value: 0.7957378695624882 and parameters: {'num_layers': 2, 'num_epochs': 265}. Best is trial 11 with value: 0.7991086560793421.\n",
      "[I 2025-04-01 12:42:17,943] Trial 17 finished with value: 0.7677044755508129 and parameters: {'num_layers': 1, 'num_epochs': 296}. Best is trial 11 with value: 0.7991086560793421.\n",
      "[I 2025-04-01 12:42:37,655] Trial 18 finished with value: 0.7935032326909799 and parameters: {'num_layers': 3, 'num_epochs': 164}. Best is trial 11 with value: 0.7991086560793421.\n",
      "[I 2025-04-01 12:42:54,951] Trial 19 finished with value: 0.7789153223275376 and parameters: {'num_layers': 2, 'num_epochs': 207}. Best is trial 11 with value: 0.7991086560793421.\n",
      "[I 2025-04-01 12:43:16,559] Trial 20 finished with value: 0.7968677421379701 and parameters: {'num_layers': 2, 'num_epochs': 255}. Best is trial 11 with value: 0.7991086560793421.\n",
      "[I 2025-04-01 12:43:39,305] Trial 21 finished with value: 0.8002322515849603 and parameters: {'num_layers': 2, 'num_epochs': 274}. Best is trial 21 with value: 0.8002322515849603.\n",
      "[I 2025-04-01 12:44:02,448] Trial 22 finished with value: 0.8013621241604418 and parameters: {'num_layers': 2, 'num_epochs': 279}. Best is trial 22 with value: 0.8013621241604418.\n",
      "[I 2025-04-01 12:44:25,815] Trial 23 finished with value: 0.8002385286548239 and parameters: {'num_layers': 2, 'num_epochs': 281}. Best is trial 22 with value: 0.8013621241604418.\n",
      "[I 2025-04-01 12:44:48,762] Trial 24 finished with value: 0.7979913376435881 and parameters: {'num_layers': 2, 'num_epochs': 275}. Best is trial 22 with value: 0.8013621241604418.\n",
      "[I 2025-04-01 12:45:03,088] Trial 25 finished with value: 0.7530851798380516 and parameters: {'num_layers': 1, 'num_epochs': 223}. Best is trial 22 with value: 0.8013621241604418.\n",
      "[I 2025-04-01 12:45:37,039] Trial 26 finished with value: 0.8002510827945516 and parameters: {'num_layers': 3, 'num_epochs': 281}. Best is trial 22 with value: 0.8013621241604418.\n",
      "[I 2025-04-01 12:46:11,721] Trial 27 finished with value: 0.7957504237022158 and parameters: {'num_layers': 3, 'num_epochs': 280}. Best is trial 22 with value: 0.8013621241604418.\n",
      "[I 2025-04-01 12:46:47,830] Trial 28 finished with value: 0.8024794425961961 and parameters: {'num_layers': 3, 'num_epochs': 300}. Best is trial 28 with value: 0.8024794425961961.\n",
      "[I 2025-04-01 12:47:23,562] Trial 29 finished with value: 0.799114933149206 and parameters: {'num_layers': 3, 'num_epochs': 300}. Best is trial 28 with value: 0.8024794425961961.\n",
      "[I 2025-04-01 12:47:54,428] Trial 30 finished with value: 0.7923921913250895 and parameters: {'num_layers': 3, 'num_epochs': 255}. Best is trial 28 with value: 0.8024794425961961.\n",
      "[I 2025-04-01 12:48:28,649] Trial 31 finished with value: 0.7980101688531793 and parameters: {'num_layers': 3, 'num_epochs': 285}. Best is trial 28 with value: 0.8024794425961961.\n",
      "[I 2025-04-01 12:48:56,356] Trial 32 finished with value: 0.7935032326909799 and parameters: {'num_layers': 3, 'num_epochs': 230}. Best is trial 28 with value: 0.8024794425961961.\n",
      "[I 2025-04-01 12:49:09,606] Trial 33 finished with value: 0.7856506182913815 and parameters: {'num_layers': 2, 'num_epochs': 148}. Best is trial 28 with value: 0.8024794425961961.\n",
      "[I 2025-04-01 12:49:39,847] Trial 34 finished with value: 0.795744146632352 and parameters: {'num_layers': 3, 'num_epochs': 251}. Best is trial 28 with value: 0.8024794425961961.\n",
      "[I 2025-04-01 12:50:12,263] Trial 35 finished with value: 0.7968614650681063 and parameters: {'num_layers': 3, 'num_epochs': 270}. Best is trial 28 with value: 0.8024794425961961.\n",
      "[I 2025-04-01 12:50:36,237] Trial 36 finished with value: 0.7946393823363255 and parameters: {'num_layers': 2, 'num_epochs': 288}. Best is trial 28 with value: 0.8024794425961961.\n",
      "[I 2025-04-01 12:51:04,812] Trial 37 finished with value: 0.7968677421379701 and parameters: {'num_layers': 3, 'num_epochs': 238}. Best is trial 28 with value: 0.8024794425961961.\n",
      "[I 2025-04-01 12:51:26,267] Trial 38 finished with value: 0.7923733601154982 and parameters: {'num_layers': 2, 'num_epochs': 258}. Best is trial 28 with value: 0.8024794425961961.\n",
      "[I 2025-04-01 12:51:46,516] Trial 39 finished with value: 0.7968802962776976 and parameters: {'num_layers': 2, 'num_epochs': 243}. Best is trial 28 with value: 0.8024794425961961.\n",
      "[I 2025-04-01 12:52:22,571] Trial 40 finished with value: 0.799083547799887 and parameters: {'num_layers': 3, 'num_epochs': 300}. Best is trial 28 with value: 0.8024794425961961.\n",
      "[I 2025-04-01 12:52:45,711] Trial 41 finished with value: 0.79686774213797 and parameters: {'num_layers': 2, 'num_epochs': 278}. Best is trial 28 with value: 0.8024794425961961.\n",
      "[I 2025-04-01 12:53:08,626] Trial 42 finished with value: 0.7957567007720796 and parameters: {'num_layers': 2, 'num_epochs': 275}. Best is trial 28 with value: 0.8024794425961961.\n",
      "[I 2025-04-01 12:53:32,468] Trial 43 finished with value: 0.7834222584897369 and parameters: {'num_layers': 2, 'num_epochs': 287}. Best is trial 28 with value: 0.8024794425961961.\n",
      "[I 2025-04-01 12:53:54,994] Trial 44 finished with value: 0.7935095097608437 and parameters: {'num_layers': 2, 'num_epochs': 271}. Best is trial 28 with value: 0.8024794425961961.\n",
      "[I 2025-04-01 12:54:19,078] Trial 45 finished with value: 0.7946456594061891 and parameters: {'num_layers': 2, 'num_epochs': 289}. Best is trial 28 with value: 0.8024794425961961.\n",
      "[I 2025-04-01 12:54:34,954] Trial 46 finished with value: 0.7834159814198731 and parameters: {'num_layers': 2, 'num_epochs': 191}. Best is trial 28 with value: 0.8024794425961961.\n",
      "[I 2025-04-01 12:54:51,505] Trial 47 finished with value: 0.7788964911179461 and parameters: {'num_layers': 1, 'num_epochs': 261}. Best is trial 28 with value: 0.8024794425961961.\n",
      "[I 2025-04-01 12:55:12,122] Trial 48 finished with value: 0.7957504237022157 and parameters: {'num_layers': 2, 'num_epochs': 246}. Best is trial 28 with value: 0.8024794425961961.\n",
      "[I 2025-04-01 12:55:35,601] Trial 49 finished with value: 0.7923733601154981 and parameters: {'num_layers': 2, 'num_epochs': 281}. Best is trial 28 with value: 0.8024794425961961.\n",
      "[I 2025-04-01 12:56:12,563] Trial 50 finished with value: 0.7934969556211161 and parameters: {'num_layers': 3, 'num_epochs': 293}. Best is trial 28 with value: 0.8024794425961961.\n",
      "[I 2025-04-01 12:56:50,291] Trial 51 finished with value: 0.8002196974452327 and parameters: {'num_layers': 3, 'num_epochs': 299}. Best is trial 28 with value: 0.8024794425961961.\n",
      "[I 2025-04-01 12:57:27,149] Trial 52 finished with value: 0.7946393823363255 and parameters: {'num_layers': 3, 'num_epochs': 293}. Best is trial 28 with value: 0.8024794425961961.\n",
      "[I 2025-04-01 12:58:01,138] Trial 53 finished with value: 0.7968740192078337 and parameters: {'num_layers': 3, 'num_epochs': 270}. Best is trial 28 with value: 0.8024794425961961.\n",
      "[I 2025-04-01 12:58:36,927] Trial 54 finished with value: 0.79686774213797 and parameters: {'num_layers': 3, 'num_epochs': 282}. Best is trial 28 with value: 0.8024794425961961.\n",
      "[I 2025-04-01 12:59:14,829] Trial 55 finished with value: 0.7991212102190698 and parameters: {'num_layers': 3, 'num_epochs': 300}. Best is trial 28 with value: 0.8024794425961961.\n",
      "[I 2025-04-01 12:59:36,853] Trial 56 finished with value: 0.8002385286548239 and parameters: {'num_layers': 2, 'num_epochs': 261}. Best is trial 28 with value: 0.8024794425961961.\n",
      "[I 2025-04-01 12:59:58,947] Trial 57 finished with value: 0.7923859142552258 and parameters: {'num_layers': 2, 'num_epochs': 261}. Best is trial 28 with value: 0.8024794425961961.\n",
      "[I 2025-04-01 13:00:24,385] Trial 58 finished with value: 0.7946142740568702 and parameters: {'num_layers': 2, 'num_epochs': 275}. Best is trial 28 with value: 0.8024794425961961.\n",
      "[I 2025-04-01 13:00:48,625] Trial 59 finished with value: 0.8002259745150964 and parameters: {'num_layers': 2, 'num_epochs': 264}. Best is trial 28 with value: 0.8024794425961961.\n",
      "[I 2025-04-01 13:01:11,662] Trial 60 finished with value: 0.7901261691042621 and parameters: {'num_layers': 2, 'num_epochs': 250}. Best is trial 28 with value: 0.8024794425961961.\n",
      "[I 2025-04-01 13:01:36,149] Trial 61 finished with value: 0.7946331052664617 and parameters: {'num_layers': 2, 'num_epochs': 266}. Best is trial 28 with value: 0.8024794425961961.\n",
      "[I 2025-04-01 13:02:02,430] Trial 62 finished with value: 0.7935157868307074 and parameters: {'num_layers': 2, 'num_epochs': 285}. Best is trial 28 with value: 0.8024794425961961.\n",
      "[I 2025-04-01 13:02:15,510] Trial 63 finished with value: 0.7789215993974012 and parameters: {'num_layers': 2, 'num_epochs': 143}. Best is trial 28 with value: 0.8024794425961961.\n",
      "[I 2025-04-01 13:02:35,579] Trial 64 finished with value: 0.7968802962776975 and parameters: {'num_layers': 2, 'num_epochs': 229}. Best is trial 28 with value: 0.8024794425961961.\n",
      "[I 2025-04-01 13:02:58,393] Trial 65 finished with value: 0.795744146632352 and parameters: {'num_layers': 2, 'num_epochs': 272}. Best is trial 28 with value: 0.8024794425961961.\n",
      "[I 2025-04-01 13:03:17,762] Trial 66 finished with value: 0.7946331052664617 and parameters: {'num_layers': 2, 'num_epochs': 214}. Best is trial 28 with value: 0.8024794425961961.\n",
      "[I 2025-04-01 13:03:35,144] Trial 67 finished with value: 0.7642897495449124 and parameters: {'num_layers': 1, 'num_epochs': 263}. Best is trial 28 with value: 0.8024794425961961.\n",
      "[I 2025-04-01 13:04:00,405] Trial 68 finished with value: 0.7991212102190697 and parameters: {'num_layers': 2, 'num_epochs': 291}. Best is trial 28 with value: 0.8024794425961961.\n",
      "[I 2025-04-01 13:04:23,187] Trial 69 finished with value: 0.8013621241604418 and parameters: {'num_layers': 2, 'num_epochs': 278}. Best is trial 28 with value: 0.8024794425961961.\n",
      "[I 2025-04-01 13:04:46,191] Trial 70 finished with value: 0.7968677421379701 and parameters: {'num_layers': 2, 'num_epochs': 280}. Best is trial 28 with value: 0.8024794425961961.\n",
      "[I 2025-04-01 13:05:07,446] Trial 71 finished with value: 0.7879229175820728 and parameters: {'num_layers': 2, 'num_epochs': 254}. Best is trial 28 with value: 0.8024794425961961.\n",
      "[I 2025-04-01 13:05:29,655] Trial 72 finished with value: 0.7923859142552256 and parameters: {'num_layers': 2, 'num_epochs': 268}. Best is trial 28 with value: 0.8024794425961961.\n",
      "[I 2025-04-01 13:05:53,523] Trial 73 finished with value: 0.7890214048082356 and parameters: {'num_layers': 2, 'num_epochs': 277}. Best is trial 28 with value: 0.8024794425961961.\n",
      "[I 2025-04-01 13:06:13,333] Trial 74 finished with value: 0.7979913376435881 and parameters: {'num_layers': 2, 'num_epochs': 238}. Best is trial 28 with value: 0.8024794425961961.\n",
      "[I 2025-04-01 13:06:37,702] Trial 75 finished with value: 0.7923921913250894 and parameters: {'num_layers': 2, 'num_epochs': 293}. Best is trial 28 with value: 0.8024794425961961.\n",
      "[I 2025-04-01 13:07:01,318] Trial 76 finished with value: 0.8002385286548239 and parameters: {'num_layers': 2, 'num_epochs': 286}. Best is trial 28 with value: 0.8024794425961961.\n",
      "[I 2025-04-01 13:07:25,252] Trial 77 finished with value: 0.7912623187496077 and parameters: {'num_layers': 2, 'num_epochs': 286}. Best is trial 28 with value: 0.8024794425961961.\n",
      "[I 2025-04-01 13:07:48,350] Trial 78 finished with value: 0.8013558470905782 and parameters: {'num_layers': 2, 'num_epochs': 279}. Best is trial 28 with value: 0.8024794425961961.\n",
      "[I 2025-04-01 13:08:12,862] Trial 79 finished with value: 0.7991086560793421 and parameters: {'num_layers': 2, 'num_epochs': 295}. Best is trial 28 with value: 0.8024794425961961.\n",
      "[I 2025-04-01 13:08:36,499] Trial 80 finished with value: 0.7957378695624884 and parameters: {'num_layers': 2, 'num_epochs': 282}. Best is trial 28 with value: 0.8024794425961961.\n",
      "[I 2025-04-01 13:08:59,526] Trial 81 finished with value: 0.7957504237022158 and parameters: {'num_layers': 2, 'num_epochs': 276}. Best is trial 28 with value: 0.8024794425961961.\n",
      "[I 2025-04-01 13:09:23,341] Trial 82 finished with value: 0.7968802962776975 and parameters: {'num_layers': 2, 'num_epochs': 286}. Best is trial 28 with value: 0.8024794425961961.\n",
      "[I 2025-04-01 13:09:45,879] Trial 83 finished with value: 0.7856506182913816 and parameters: {'num_layers': 2, 'num_epochs': 273}. Best is trial 28 with value: 0.8024794425961961.\n",
      "[I 2025-04-01 13:10:10,067] Trial 84 finished with value: 0.7923859142552256 and parameters: {'num_layers': 2, 'num_epochs': 290}. Best is trial 28 with value: 0.8024794425961961.\n",
      "[I 2025-04-01 13:10:31,526] Trial 85 finished with value: 0.8002322515849603 and parameters: {'num_layers': 2, 'num_epochs': 258}. Best is trial 28 with value: 0.8024794425961961.\n",
      "[I 2025-04-01 13:10:46,655] Trial 86 finished with value: 0.7867742137969996 and parameters: {'num_layers': 2, 'num_epochs': 176}. Best is trial 28 with value: 0.8024794425961961.\n",
      "[I 2025-04-01 13:11:11,380] Trial 87 finished with value: 0.7912623187496076 and parameters: {'num_layers': 2, 'num_epochs': 282}. Best is trial 28 with value: 0.8024794425961961.\n",
      "[I 2025-04-01 13:11:35,009] Trial 88 finished with value: 0.7935220639005712 and parameters: {'num_layers': 2, 'num_epochs': 269}. Best is trial 28 with value: 0.8024794425961961.\n",
      "[I 2025-04-01 13:12:00,809] Trial 89 finished with value: 0.7856443412215178 and parameters: {'num_layers': 2, 'num_epochs': 295}. Best is trial 28 with value: 0.8024794425961961.\n",
      "[I 2025-04-01 13:12:25,292] Trial 90 finished with value: 0.7968802962776976 and parameters: {'num_layers': 2, 'num_epochs': 278}. Best is trial 28 with value: 0.8024794425961961.\n",
      "[I 2025-04-01 13:12:47,851] Trial 91 finished with value: 0.8002385286548239 and parameters: {'num_layers': 2, 'num_epochs': 258}. Best is trial 28 with value: 0.8024794425961961.\n",
      "[I 2025-04-01 13:13:10,447] Trial 92 finished with value: 0.7968740192078339 and parameters: {'num_layers': 2, 'num_epochs': 259}. Best is trial 28 with value: 0.8024794425961961.\n",
      "[I 2025-04-01 13:13:35,645] Trial 93 finished with value: 0.7968614650681063 and parameters: {'num_layers': 2, 'num_epochs': 288}. Best is trial 28 with value: 0.8024794425961961.\n",
      "[I 2025-04-01 13:13:57,219] Trial 94 finished with value: 0.7946331052664617 and parameters: {'num_layers': 2, 'num_epochs': 245}. Best is trial 28 with value: 0.8024794425961961.\n",
      "[I 2025-04-01 13:14:20,519] Trial 95 finished with value: 0.7923796371853619 and parameters: {'num_layers': 2, 'num_epochs': 266}. Best is trial 28 with value: 0.8024794425961961.\n",
      "[I 2025-04-01 13:14:44,370] Trial 96 finished with value: 0.799114933149206 and parameters: {'num_layers': 2, 'num_epochs': 273}. Best is trial 28 with value: 0.8024794425961961.\n",
      "[I 2025-04-01 13:15:19,534] Trial 97 finished with value: 0.7991023790094784 and parameters: {'num_layers': 3, 'num_epochs': 279}. Best is trial 28 with value: 0.8024794425961961.\n",
      "[I 2025-04-01 13:15:36,433] Trial 98 finished with value: 0.7430795304751742 and parameters: {'num_layers': 1, 'num_epochs': 255}. Best is trial 28 with value: 0.8024794425961961.\n",
      "[I 2025-04-01 13:16:02,801] Trial 99 finished with value: 0.7923859142552258 and parameters: {'num_layers': 2, 'num_epochs': 284}. Best is trial 28 with value: 0.8024794425961961.\n"
     ]
    }
   ],
   "source": [
    "import optuna\n",
    "import numpy as np\n",
    "from sklearn.model_selection import StratifiedKFold\n",
    "from models import MLP,TorchToEstimator\n",
    "import torch.optim as optim\n",
    "\n",
    "def accuracy_score(y_true,y_pred):\n",
    "    return np.sum(y_true==y_pred)/len(y_true)\n",
    "\n",
    "\n",
    "def objective(trial: optuna.Trial):\n",
    "    params = {\n",
    "        'input_size':X_xgb.shape[1],\n",
    "        'hidden_size':32   ,\n",
    "        'output_size':1,\n",
    "        'num_layers':trial.suggest_int('num_layers', 1, 3),\n",
    "        'criterion':nn.BCELoss(),\n",
    "        'optimizer':optim.Adam,\n",
    "        'num_epochs':trial.suggest_int('num_epochs', 100, 300)\n",
    "    }\n",
    "    skf=StratifiedKFold(n_splits=5,shuffle=True,random_state=42)\n",
    "    scores=[]\n",
    "    for train_index, test_index in skf.split(X_xgb,y_xgb):\n",
    "        X_train, X_test = X_xgb.iloc[train_index], X_xgb.iloc[test_index]\n",
    "        y_train, y_test = y_xgb.iloc[train_index], y_xgb.iloc[test_index]\n",
    "        estimator = TorchToEstimator(**params)\n",
    "        estimator.fit(X_train,y_train)\n",
    "        predictions = estimator.predict(X_test)\n",
    "        scores.append(accuracy_score(y_test,predictions))\n",
    "    scores=np.array(scores)\n",
    "    return scores.mean()\n",
    "\n",
    "\n",
    "nn_study = optuna.create_study(direction='maximize')\n",
    "nn_study.optimize(objective, n_trials=100)\n",
    "\n",
    "\n",
    "\n",
    "\n"
   ]
  },
  {
   "cell_type": "code",
   "execution_count": 78,
   "metadata": {},
   "outputs": [
    {
     "data": {
      "text/plain": [
       "{'num_layers': 3, 'num_epochs': 300}"
      ]
     },
     "execution_count": 78,
     "metadata": {},
     "output_type": "execute_result"
    }
   ],
   "source": [
    "nn_study.best_params"
   ]
  },
  {
   "cell_type": "code",
   "execution_count": 79,
   "metadata": {},
   "outputs": [
    {
     "data": {
      "text/html": [
       "<style>#sk-container-id-4 {\n",
       "  /* Definition of color scheme common for light and dark mode */\n",
       "  --sklearn-color-text: #000;\n",
       "  --sklearn-color-text-muted: #666;\n",
       "  --sklearn-color-line: gray;\n",
       "  /* Definition of color scheme for unfitted estimators */\n",
       "  --sklearn-color-unfitted-level-0: #fff5e6;\n",
       "  --sklearn-color-unfitted-level-1: #f6e4d2;\n",
       "  --sklearn-color-unfitted-level-2: #ffe0b3;\n",
       "  --sklearn-color-unfitted-level-3: chocolate;\n",
       "  /* Definition of color scheme for fitted estimators */\n",
       "  --sklearn-color-fitted-level-0: #f0f8ff;\n",
       "  --sklearn-color-fitted-level-1: #d4ebff;\n",
       "  --sklearn-color-fitted-level-2: #b3dbfd;\n",
       "  --sklearn-color-fitted-level-3: cornflowerblue;\n",
       "\n",
       "  /* Specific color for light theme */\n",
       "  --sklearn-color-text-on-default-background: var(--sg-text-color, var(--theme-code-foreground, var(--jp-content-font-color1, black)));\n",
       "  --sklearn-color-background: var(--sg-background-color, var(--theme-background, var(--jp-layout-color0, white)));\n",
       "  --sklearn-color-border-box: var(--sg-text-color, var(--theme-code-foreground, var(--jp-content-font-color1, black)));\n",
       "  --sklearn-color-icon: #696969;\n",
       "\n",
       "  @media (prefers-color-scheme: dark) {\n",
       "    /* Redefinition of color scheme for dark theme */\n",
       "    --sklearn-color-text-on-default-background: var(--sg-text-color, var(--theme-code-foreground, var(--jp-content-font-color1, white)));\n",
       "    --sklearn-color-background: var(--sg-background-color, var(--theme-background, var(--jp-layout-color0, #111)));\n",
       "    --sklearn-color-border-box: var(--sg-text-color, var(--theme-code-foreground, var(--jp-content-font-color1, white)));\n",
       "    --sklearn-color-icon: #878787;\n",
       "  }\n",
       "}\n",
       "\n",
       "#sk-container-id-4 {\n",
       "  color: var(--sklearn-color-text);\n",
       "}\n",
       "\n",
       "#sk-container-id-4 pre {\n",
       "  padding: 0;\n",
       "}\n",
       "\n",
       "#sk-container-id-4 input.sk-hidden--visually {\n",
       "  border: 0;\n",
       "  clip: rect(1px 1px 1px 1px);\n",
       "  clip: rect(1px, 1px, 1px, 1px);\n",
       "  height: 1px;\n",
       "  margin: -1px;\n",
       "  overflow: hidden;\n",
       "  padding: 0;\n",
       "  position: absolute;\n",
       "  width: 1px;\n",
       "}\n",
       "\n",
       "#sk-container-id-4 div.sk-dashed-wrapped {\n",
       "  border: 1px dashed var(--sklearn-color-line);\n",
       "  margin: 0 0.4em 0.5em 0.4em;\n",
       "  box-sizing: border-box;\n",
       "  padding-bottom: 0.4em;\n",
       "  background-color: var(--sklearn-color-background);\n",
       "}\n",
       "\n",
       "#sk-container-id-4 div.sk-container {\n",
       "  /* jupyter's `normalize.less` sets `[hidden] { display: none; }`\n",
       "     but bootstrap.min.css set `[hidden] { display: none !important; }`\n",
       "     so we also need the `!important` here to be able to override the\n",
       "     default hidden behavior on the sphinx rendered scikit-learn.org.\n",
       "     See: https://github.com/scikit-learn/scikit-learn/issues/21755 */\n",
       "  display: inline-block !important;\n",
       "  position: relative;\n",
       "}\n",
       "\n",
       "#sk-container-id-4 div.sk-text-repr-fallback {\n",
       "  display: none;\n",
       "}\n",
       "\n",
       "div.sk-parallel-item,\n",
       "div.sk-serial,\n",
       "div.sk-item {\n",
       "  /* draw centered vertical line to link estimators */\n",
       "  background-image: linear-gradient(var(--sklearn-color-text-on-default-background), var(--sklearn-color-text-on-default-background));\n",
       "  background-size: 2px 100%;\n",
       "  background-repeat: no-repeat;\n",
       "  background-position: center center;\n",
       "}\n",
       "\n",
       "/* Parallel-specific style estimator block */\n",
       "\n",
       "#sk-container-id-4 div.sk-parallel-item::after {\n",
       "  content: \"\";\n",
       "  width: 100%;\n",
       "  border-bottom: 2px solid var(--sklearn-color-text-on-default-background);\n",
       "  flex-grow: 1;\n",
       "}\n",
       "\n",
       "#sk-container-id-4 div.sk-parallel {\n",
       "  display: flex;\n",
       "  align-items: stretch;\n",
       "  justify-content: center;\n",
       "  background-color: var(--sklearn-color-background);\n",
       "  position: relative;\n",
       "}\n",
       "\n",
       "#sk-container-id-4 div.sk-parallel-item {\n",
       "  display: flex;\n",
       "  flex-direction: column;\n",
       "}\n",
       "\n",
       "#sk-container-id-4 div.sk-parallel-item:first-child::after {\n",
       "  align-self: flex-end;\n",
       "  width: 50%;\n",
       "}\n",
       "\n",
       "#sk-container-id-4 div.sk-parallel-item:last-child::after {\n",
       "  align-self: flex-start;\n",
       "  width: 50%;\n",
       "}\n",
       "\n",
       "#sk-container-id-4 div.sk-parallel-item:only-child::after {\n",
       "  width: 0;\n",
       "}\n",
       "\n",
       "/* Serial-specific style estimator block */\n",
       "\n",
       "#sk-container-id-4 div.sk-serial {\n",
       "  display: flex;\n",
       "  flex-direction: column;\n",
       "  align-items: center;\n",
       "  background-color: var(--sklearn-color-background);\n",
       "  padding-right: 1em;\n",
       "  padding-left: 1em;\n",
       "}\n",
       "\n",
       "\n",
       "/* Toggleable style: style used for estimator/Pipeline/ColumnTransformer box that is\n",
       "clickable and can be expanded/collapsed.\n",
       "- Pipeline and ColumnTransformer use this feature and define the default style\n",
       "- Estimators will overwrite some part of the style using the `sk-estimator` class\n",
       "*/\n",
       "\n",
       "/* Pipeline and ColumnTransformer style (default) */\n",
       "\n",
       "#sk-container-id-4 div.sk-toggleable {\n",
       "  /* Default theme specific background. It is overwritten whether we have a\n",
       "  specific estimator or a Pipeline/ColumnTransformer */\n",
       "  background-color: var(--sklearn-color-background);\n",
       "}\n",
       "\n",
       "/* Toggleable label */\n",
       "#sk-container-id-4 label.sk-toggleable__label {\n",
       "  cursor: pointer;\n",
       "  display: flex;\n",
       "  width: 100%;\n",
       "  margin-bottom: 0;\n",
       "  padding: 0.5em;\n",
       "  box-sizing: border-box;\n",
       "  text-align: center;\n",
       "  align-items: start;\n",
       "  justify-content: space-between;\n",
       "  gap: 0.5em;\n",
       "}\n",
       "\n",
       "#sk-container-id-4 label.sk-toggleable__label .caption {\n",
       "  font-size: 0.6rem;\n",
       "  font-weight: lighter;\n",
       "  color: var(--sklearn-color-text-muted);\n",
       "}\n",
       "\n",
       "#sk-container-id-4 label.sk-toggleable__label-arrow:before {\n",
       "  /* Arrow on the left of the label */\n",
       "  content: \"▸\";\n",
       "  float: left;\n",
       "  margin-right: 0.25em;\n",
       "  color: var(--sklearn-color-icon);\n",
       "}\n",
       "\n",
       "#sk-container-id-4 label.sk-toggleable__label-arrow:hover:before {\n",
       "  color: var(--sklearn-color-text);\n",
       "}\n",
       "\n",
       "/* Toggleable content - dropdown */\n",
       "\n",
       "#sk-container-id-4 div.sk-toggleable__content {\n",
       "  max-height: 0;\n",
       "  max-width: 0;\n",
       "  overflow: hidden;\n",
       "  text-align: left;\n",
       "  /* unfitted */\n",
       "  background-color: var(--sklearn-color-unfitted-level-0);\n",
       "}\n",
       "\n",
       "#sk-container-id-4 div.sk-toggleable__content.fitted {\n",
       "  /* fitted */\n",
       "  background-color: var(--sklearn-color-fitted-level-0);\n",
       "}\n",
       "\n",
       "#sk-container-id-4 div.sk-toggleable__content pre {\n",
       "  margin: 0.2em;\n",
       "  border-radius: 0.25em;\n",
       "  color: var(--sklearn-color-text);\n",
       "  /* unfitted */\n",
       "  background-color: var(--sklearn-color-unfitted-level-0);\n",
       "}\n",
       "\n",
       "#sk-container-id-4 div.sk-toggleable__content.fitted pre {\n",
       "  /* unfitted */\n",
       "  background-color: var(--sklearn-color-fitted-level-0);\n",
       "}\n",
       "\n",
       "#sk-container-id-4 input.sk-toggleable__control:checked~div.sk-toggleable__content {\n",
       "  /* Expand drop-down */\n",
       "  max-height: 200px;\n",
       "  max-width: 100%;\n",
       "  overflow: auto;\n",
       "}\n",
       "\n",
       "#sk-container-id-4 input.sk-toggleable__control:checked~label.sk-toggleable__label-arrow:before {\n",
       "  content: \"▾\";\n",
       "}\n",
       "\n",
       "/* Pipeline/ColumnTransformer-specific style */\n",
       "\n",
       "#sk-container-id-4 div.sk-label input.sk-toggleable__control:checked~label.sk-toggleable__label {\n",
       "  color: var(--sklearn-color-text);\n",
       "  background-color: var(--sklearn-color-unfitted-level-2);\n",
       "}\n",
       "\n",
       "#sk-container-id-4 div.sk-label.fitted input.sk-toggleable__control:checked~label.sk-toggleable__label {\n",
       "  background-color: var(--sklearn-color-fitted-level-2);\n",
       "}\n",
       "\n",
       "/* Estimator-specific style */\n",
       "\n",
       "/* Colorize estimator box */\n",
       "#sk-container-id-4 div.sk-estimator input.sk-toggleable__control:checked~label.sk-toggleable__label {\n",
       "  /* unfitted */\n",
       "  background-color: var(--sklearn-color-unfitted-level-2);\n",
       "}\n",
       "\n",
       "#sk-container-id-4 div.sk-estimator.fitted input.sk-toggleable__control:checked~label.sk-toggleable__label {\n",
       "  /* fitted */\n",
       "  background-color: var(--sklearn-color-fitted-level-2);\n",
       "}\n",
       "\n",
       "#sk-container-id-4 div.sk-label label.sk-toggleable__label,\n",
       "#sk-container-id-4 div.sk-label label {\n",
       "  /* The background is the default theme color */\n",
       "  color: var(--sklearn-color-text-on-default-background);\n",
       "}\n",
       "\n",
       "/* On hover, darken the color of the background */\n",
       "#sk-container-id-4 div.sk-label:hover label.sk-toggleable__label {\n",
       "  color: var(--sklearn-color-text);\n",
       "  background-color: var(--sklearn-color-unfitted-level-2);\n",
       "}\n",
       "\n",
       "/* Label box, darken color on hover, fitted */\n",
       "#sk-container-id-4 div.sk-label.fitted:hover label.sk-toggleable__label.fitted {\n",
       "  color: var(--sklearn-color-text);\n",
       "  background-color: var(--sklearn-color-fitted-level-2);\n",
       "}\n",
       "\n",
       "/* Estimator label */\n",
       "\n",
       "#sk-container-id-4 div.sk-label label {\n",
       "  font-family: monospace;\n",
       "  font-weight: bold;\n",
       "  display: inline-block;\n",
       "  line-height: 1.2em;\n",
       "}\n",
       "\n",
       "#sk-container-id-4 div.sk-label-container {\n",
       "  text-align: center;\n",
       "}\n",
       "\n",
       "/* Estimator-specific */\n",
       "#sk-container-id-4 div.sk-estimator {\n",
       "  font-family: monospace;\n",
       "  border: 1px dotted var(--sklearn-color-border-box);\n",
       "  border-radius: 0.25em;\n",
       "  box-sizing: border-box;\n",
       "  margin-bottom: 0.5em;\n",
       "  /* unfitted */\n",
       "  background-color: var(--sklearn-color-unfitted-level-0);\n",
       "}\n",
       "\n",
       "#sk-container-id-4 div.sk-estimator.fitted {\n",
       "  /* fitted */\n",
       "  background-color: var(--sklearn-color-fitted-level-0);\n",
       "}\n",
       "\n",
       "/* on hover */\n",
       "#sk-container-id-4 div.sk-estimator:hover {\n",
       "  /* unfitted */\n",
       "  background-color: var(--sklearn-color-unfitted-level-2);\n",
       "}\n",
       "\n",
       "#sk-container-id-4 div.sk-estimator.fitted:hover {\n",
       "  /* fitted */\n",
       "  background-color: var(--sklearn-color-fitted-level-2);\n",
       "}\n",
       "\n",
       "/* Specification for estimator info (e.g. \"i\" and \"?\") */\n",
       "\n",
       "/* Common style for \"i\" and \"?\" */\n",
       "\n",
       ".sk-estimator-doc-link,\n",
       "a:link.sk-estimator-doc-link,\n",
       "a:visited.sk-estimator-doc-link {\n",
       "  float: right;\n",
       "  font-size: smaller;\n",
       "  line-height: 1em;\n",
       "  font-family: monospace;\n",
       "  background-color: var(--sklearn-color-background);\n",
       "  border-radius: 1em;\n",
       "  height: 1em;\n",
       "  width: 1em;\n",
       "  text-decoration: none !important;\n",
       "  margin-left: 0.5em;\n",
       "  text-align: center;\n",
       "  /* unfitted */\n",
       "  border: var(--sklearn-color-unfitted-level-1) 1pt solid;\n",
       "  color: var(--sklearn-color-unfitted-level-1);\n",
       "}\n",
       "\n",
       ".sk-estimator-doc-link.fitted,\n",
       "a:link.sk-estimator-doc-link.fitted,\n",
       "a:visited.sk-estimator-doc-link.fitted {\n",
       "  /* fitted */\n",
       "  border: var(--sklearn-color-fitted-level-1) 1pt solid;\n",
       "  color: var(--sklearn-color-fitted-level-1);\n",
       "}\n",
       "\n",
       "/* On hover */\n",
       "div.sk-estimator:hover .sk-estimator-doc-link:hover,\n",
       ".sk-estimator-doc-link:hover,\n",
       "div.sk-label-container:hover .sk-estimator-doc-link:hover,\n",
       ".sk-estimator-doc-link:hover {\n",
       "  /* unfitted */\n",
       "  background-color: var(--sklearn-color-unfitted-level-3);\n",
       "  color: var(--sklearn-color-background);\n",
       "  text-decoration: none;\n",
       "}\n",
       "\n",
       "div.sk-estimator.fitted:hover .sk-estimator-doc-link.fitted:hover,\n",
       ".sk-estimator-doc-link.fitted:hover,\n",
       "div.sk-label-container:hover .sk-estimator-doc-link.fitted:hover,\n",
       ".sk-estimator-doc-link.fitted:hover {\n",
       "  /* fitted */\n",
       "  background-color: var(--sklearn-color-fitted-level-3);\n",
       "  color: var(--sklearn-color-background);\n",
       "  text-decoration: none;\n",
       "}\n",
       "\n",
       "/* Span, style for the box shown on hovering the info icon */\n",
       ".sk-estimator-doc-link span {\n",
       "  display: none;\n",
       "  z-index: 9999;\n",
       "  position: relative;\n",
       "  font-weight: normal;\n",
       "  right: .2ex;\n",
       "  padding: .5ex;\n",
       "  margin: .5ex;\n",
       "  width: min-content;\n",
       "  min-width: 20ex;\n",
       "  max-width: 50ex;\n",
       "  color: var(--sklearn-color-text);\n",
       "  box-shadow: 2pt 2pt 4pt #999;\n",
       "  /* unfitted */\n",
       "  background: var(--sklearn-color-unfitted-level-0);\n",
       "  border: .5pt solid var(--sklearn-color-unfitted-level-3);\n",
       "}\n",
       "\n",
       ".sk-estimator-doc-link.fitted span {\n",
       "  /* fitted */\n",
       "  background: var(--sklearn-color-fitted-level-0);\n",
       "  border: var(--sklearn-color-fitted-level-3);\n",
       "}\n",
       "\n",
       ".sk-estimator-doc-link:hover span {\n",
       "  display: block;\n",
       "}\n",
       "\n",
       "/* \"?\"-specific style due to the `<a>` HTML tag */\n",
       "\n",
       "#sk-container-id-4 a.estimator_doc_link {\n",
       "  float: right;\n",
       "  font-size: 1rem;\n",
       "  line-height: 1em;\n",
       "  font-family: monospace;\n",
       "  background-color: var(--sklearn-color-background);\n",
       "  border-radius: 1rem;\n",
       "  height: 1rem;\n",
       "  width: 1rem;\n",
       "  text-decoration: none;\n",
       "  /* unfitted */\n",
       "  color: var(--sklearn-color-unfitted-level-1);\n",
       "  border: var(--sklearn-color-unfitted-level-1) 1pt solid;\n",
       "}\n",
       "\n",
       "#sk-container-id-4 a.estimator_doc_link.fitted {\n",
       "  /* fitted */\n",
       "  border: var(--sklearn-color-fitted-level-1) 1pt solid;\n",
       "  color: var(--sklearn-color-fitted-level-1);\n",
       "}\n",
       "\n",
       "/* On hover */\n",
       "#sk-container-id-4 a.estimator_doc_link:hover {\n",
       "  /* unfitted */\n",
       "  background-color: var(--sklearn-color-unfitted-level-3);\n",
       "  color: var(--sklearn-color-background);\n",
       "  text-decoration: none;\n",
       "}\n",
       "\n",
       "#sk-container-id-4 a.estimator_doc_link.fitted:hover {\n",
       "  /* fitted */\n",
       "  background-color: var(--sklearn-color-fitted-level-3);\n",
       "}\n",
       "</style><div id=\"sk-container-id-4\" class=\"sk-top-container\"><div class=\"sk-text-repr-fallback\"><pre>TorchToEstimator(criterion=BCELoss(), hidden_size=128, input_size=4,\n",
       "                 num_epochs=300, num_layers=3,\n",
       "                 optimizer=&lt;class &#x27;torch.optim.adam.Adam&#x27;&gt;, output_size=1)</pre><b>In a Jupyter environment, please rerun this cell to show the HTML representation or trust the notebook. <br />On GitHub, the HTML representation is unable to render, please try loading this page with nbviewer.org.</b></div><div class=\"sk-container\" hidden><div class=\"sk-item\"><div class=\"sk-estimator  sk-toggleable\"><input class=\"sk-toggleable__control sk-hidden--visually\" id=\"sk-estimator-id-10\" type=\"checkbox\" checked><label for=\"sk-estimator-id-10\" class=\"sk-toggleable__label  sk-toggleable__label-arrow\"><div><div>TorchToEstimator</div></div><div><span class=\"sk-estimator-doc-link \">i<span>Not fitted</span></span></div></label><div class=\"sk-toggleable__content \"><pre>TorchToEstimator(criterion=BCELoss(), hidden_size=128, input_size=4,\n",
       "                 num_epochs=300, num_layers=3,\n",
       "                 optimizer=&lt;class &#x27;torch.optim.adam.Adam&#x27;&gt;, output_size=1)</pre></div> </div></div></div></div>"
      ],
      "text/plain": [
       "TorchToEstimator(criterion=BCELoss(), hidden_size=128, input_size=4,\n",
       "                 num_epochs=300, num_layers=3,\n",
       "                 optimizer=<class 'torch.optim.adam.Adam'>, output_size=1)"
      ]
     },
     "execution_count": 79,
     "metadata": {},
     "output_type": "execute_result"
    }
   ],
   "source": [
    "nn_estimator = TorchToEstimator(**nn_study.best_params,input_size=X_xgb.shape[1],output_size=1,hidden_size=128,criterion=nn.BCELoss(),optimizer=optim.Adam)\n",
    "nn_estimator.fit(X_xgb,y_xgb)\n"
   ]
  },
  {
   "cell_type": "code",
   "execution_count": 29,
   "metadata": {},
   "outputs": [
    {
     "data": {
      "text/html": [
       "<div>\n",
       "<style scoped>\n",
       "    .dataframe tbody tr th:only-of-type {\n",
       "        vertical-align: middle;\n",
       "    }\n",
       "\n",
       "    .dataframe tbody tr th {\n",
       "        vertical-align: top;\n",
       "    }\n",
       "\n",
       "    .dataframe thead th {\n",
       "        text-align: right;\n",
       "    }\n",
       "</style>\n",
       "<table border=\"1\" class=\"dataframe\">\n",
       "  <thead>\n",
       "    <tr style=\"text-align: right;\">\n",
       "      <th></th>\n",
       "      <th>Pclass</th>\n",
       "      <th>Sex</th>\n",
       "      <th>SibSp</th>\n",
       "      <th>Parch</th>\n",
       "    </tr>\n",
       "  </thead>\n",
       "  <tbody>\n",
       "    <tr>\n",
       "      <th>0</th>\n",
       "      <td>3</td>\n",
       "      <td>0</td>\n",
       "      <td>1</td>\n",
       "      <td>0</td>\n",
       "    </tr>\n",
       "    <tr>\n",
       "      <th>1</th>\n",
       "      <td>1</td>\n",
       "      <td>1</td>\n",
       "      <td>1</td>\n",
       "      <td>0</td>\n",
       "    </tr>\n",
       "    <tr>\n",
       "      <th>2</th>\n",
       "      <td>3</td>\n",
       "      <td>1</td>\n",
       "      <td>0</td>\n",
       "      <td>0</td>\n",
       "    </tr>\n",
       "    <tr>\n",
       "      <th>3</th>\n",
       "      <td>1</td>\n",
       "      <td>1</td>\n",
       "      <td>1</td>\n",
       "      <td>0</td>\n",
       "    </tr>\n",
       "    <tr>\n",
       "      <th>4</th>\n",
       "      <td>3</td>\n",
       "      <td>0</td>\n",
       "      <td>0</td>\n",
       "      <td>0</td>\n",
       "    </tr>\n",
       "    <tr>\n",
       "      <th>...</th>\n",
       "      <td>...</td>\n",
       "      <td>...</td>\n",
       "      <td>...</td>\n",
       "      <td>...</td>\n",
       "    </tr>\n",
       "    <tr>\n",
       "      <th>886</th>\n",
       "      <td>2</td>\n",
       "      <td>0</td>\n",
       "      <td>0</td>\n",
       "      <td>0</td>\n",
       "    </tr>\n",
       "    <tr>\n",
       "      <th>887</th>\n",
       "      <td>1</td>\n",
       "      <td>1</td>\n",
       "      <td>0</td>\n",
       "      <td>0</td>\n",
       "    </tr>\n",
       "    <tr>\n",
       "      <th>888</th>\n",
       "      <td>3</td>\n",
       "      <td>1</td>\n",
       "      <td>1</td>\n",
       "      <td>2</td>\n",
       "    </tr>\n",
       "    <tr>\n",
       "      <th>889</th>\n",
       "      <td>1</td>\n",
       "      <td>0</td>\n",
       "      <td>0</td>\n",
       "      <td>0</td>\n",
       "    </tr>\n",
       "    <tr>\n",
       "      <th>890</th>\n",
       "      <td>3</td>\n",
       "      <td>0</td>\n",
       "      <td>0</td>\n",
       "      <td>0</td>\n",
       "    </tr>\n",
       "  </tbody>\n",
       "</table>\n",
       "<p>891 rows × 4 columns</p>\n",
       "</div>"
      ],
      "text/plain": [
       "     Pclass Sex  SibSp  Parch\n",
       "0         3   0      1      0\n",
       "1         1   1      1      0\n",
       "2         3   1      0      0\n",
       "3         1   1      1      0\n",
       "4         3   0      0      0\n",
       "..      ...  ..    ...    ...\n",
       "886       2   0      0      0\n",
       "887       1   1      0      0\n",
       "888       3   1      1      2\n",
       "889       1   0      0      0\n",
       "890       3   0      0      0\n",
       "\n",
       "[891 rows x 4 columns]"
      ]
     },
     "execution_count": 29,
     "metadata": {},
     "output_type": "execute_result"
    }
   ],
   "source": [
    "X_xgb"
   ]
  },
  {
   "cell_type": "code",
   "execution_count": 30,
   "metadata": {},
   "outputs": [
    {
     "data": {
      "text/plain": [
       "0      0\n",
       "1      1\n",
       "2      1\n",
       "3      1\n",
       "4      0\n",
       "      ..\n",
       "886    0\n",
       "887    1\n",
       "888    0\n",
       "889    1\n",
       "890    0\n",
       "Name: Survived, Length: 891, dtype: int64"
      ]
     },
     "execution_count": 30,
     "metadata": {},
     "output_type": "execute_result"
    }
   ],
   "source": [
    "y_xgb\n",
    "\n"
   ]
  },
  {
   "cell_type": "code",
   "execution_count": 57,
   "metadata": {},
   "outputs": [
    {
     "name": "stdout",
     "output_type": "stream",
     "text": [
      "Epoch 0, Loss: 0.7103521823883057\n",
      "Epoch 10, Loss: 0.6329869031906128\n",
      "Epoch 20, Loss: 0.6426867842674255\n",
      "Epoch 30, Loss: 0.5571272969245911\n",
      "Epoch 40, Loss: 0.5354892015457153\n",
      "Epoch 50, Loss: 0.5092641115188599\n",
      "Epoch 60, Loss: 0.5076616406440735\n",
      "Epoch 70, Loss: 0.5113541483879089\n",
      "Epoch 80, Loss: 0.45710891485214233\n",
      "Epoch 90, Loss: 0.43839699029922485\n",
      "Epoch 100, Loss: 0.4029490053653717\n",
      "Epoch 110, Loss: 0.4241405129432678\n",
      "Epoch 120, Loss: 0.5376607775688171\n",
      "Epoch 130, Loss: 0.4078320264816284\n",
      "Epoch 140, Loss: 0.47490188479423523\n",
      "Epoch 150, Loss: 0.5025787353515625\n",
      "Epoch 160, Loss: 0.4565812647342682\n",
      "Epoch 170, Loss: 0.40228137373924255\n",
      "Epoch 180, Loss: 0.4126439392566681\n",
      "Epoch 190, Loss: 0.40713241696357727\n",
      "Epoch 200, Loss: 0.48847582936286926\n",
      "Epoch 210, Loss: 0.43561598658561707\n",
      "Epoch 220, Loss: 0.5080198645591736\n",
      "Epoch 230, Loss: 0.4769303798675537\n",
      "Epoch 240, Loss: 0.4127008616924286\n",
      "Epoch 250, Loss: 0.36652159690856934\n",
      "Epoch 260, Loss: 0.3923131823539734\n",
      "Epoch 270, Loss: 0.39352113008499146\n",
      "Epoch 280, Loss: 0.4343704581260681\n",
      "Epoch 290, Loss: 0.410163015127182\n",
      "Epoch 300, Loss: 0.48785462975502014\n",
      "Epoch 310, Loss: 0.4795762896537781\n",
      "Epoch 320, Loss: 0.417307049036026\n",
      "Epoch 330, Loss: 0.3695279359817505\n",
      "Epoch 340, Loss: 0.4275294542312622\n",
      "Epoch 350, Loss: 0.4107423424720764\n",
      "Epoch 360, Loss: 0.4218505322933197\n",
      "Epoch 370, Loss: 0.559779703617096\n",
      "Epoch 380, Loss: 0.5062700510025024\n",
      "Epoch 390, Loss: 0.40480300784111023\n",
      "Epoch 400, Loss: 0.40406835079193115\n",
      "Epoch 410, Loss: 0.3974492847919464\n",
      "Epoch 420, Loss: 0.4706079065799713\n",
      "Epoch 430, Loss: 0.38372284173965454\n",
      "Epoch 440, Loss: 0.4596248269081116\n",
      "Epoch 450, Loss: 0.42621728777885437\n",
      "Epoch 460, Loss: 0.3816086947917938\n",
      "Epoch 470, Loss: 0.43527477979660034\n",
      "Epoch 480, Loss: 0.43067800998687744\n",
      "Epoch 490, Loss: 0.4167608320713043\n",
      "Epoch 500, Loss: 0.421003520488739\n",
      "Epoch 510, Loss: 0.3954680562019348\n",
      "Epoch 520, Loss: 0.41004499793052673\n",
      "Epoch 530, Loss: 0.4292885363101959\n",
      "Epoch 540, Loss: 0.4233129918575287\n",
      "Epoch 550, Loss: 0.41648709774017334\n",
      "Epoch 560, Loss: 0.5060552954673767\n",
      "Epoch 570, Loss: 0.4717114269733429\n",
      "Epoch 580, Loss: 0.4125381112098694\n",
      "Epoch 590, Loss: 0.3433460593223572\n",
      "Epoch 600, Loss: 0.39400890469551086\n",
      "Epoch 610, Loss: 0.36857789754867554\n",
      "Epoch 620, Loss: 0.5033199191093445\n",
      "Epoch 630, Loss: 0.4800261855125427\n",
      "Epoch 640, Loss: 0.3785257637500763\n",
      "Epoch 650, Loss: 0.4227551221847534\n",
      "Epoch 660, Loss: 0.3916298747062683\n",
      "Epoch 670, Loss: 0.49238768219947815\n",
      "Epoch 680, Loss: 0.40934330224990845\n",
      "Epoch 690, Loss: 0.4773876368999481\n",
      "Epoch 700, Loss: 0.44343888759613037\n",
      "Epoch 710, Loss: 0.42459332942962646\n",
      "Epoch 720, Loss: 0.37559694051742554\n",
      "Epoch 730, Loss: 0.4190451204776764\n",
      "Epoch 740, Loss: 0.5502445697784424\n",
      "Epoch 750, Loss: 0.39005425572395325\n",
      "Epoch 760, Loss: 0.3393440544605255\n",
      "Epoch 770, Loss: 0.38607844710350037\n",
      "Epoch 780, Loss: 0.31569579243659973\n",
      "Epoch 790, Loss: 0.43816840648651123\n",
      "Epoch 800, Loss: 0.5188485980033875\n",
      "Epoch 810, Loss: 0.47366398572921753\n",
      "Epoch 820, Loss: 0.42342332005500793\n",
      "Epoch 830, Loss: 0.37584319710731506\n",
      "Epoch 840, Loss: 0.41959255933761597\n",
      "Epoch 850, Loss: 0.43409469723701477\n",
      "Epoch 860, Loss: 0.4555853307247162\n",
      "Epoch 870, Loss: 0.41407349705696106\n",
      "Epoch 880, Loss: 0.39882007241249084\n",
      "Epoch 890, Loss: 0.3969706594944\n",
      "Epoch 900, Loss: 0.4873802363872528\n",
      "Epoch 910, Loss: 0.43656298518180847\n",
      "Epoch 920, Loss: 0.45182564854621887\n",
      "Epoch 930, Loss: 0.4086846709251404\n",
      "Epoch 940, Loss: 0.46528160572052\n",
      "Epoch 950, Loss: 0.4608458876609802\n",
      "Epoch 960, Loss: 0.47628071904182434\n",
      "Epoch 970, Loss: 0.2744961380958557\n",
      "Epoch 980, Loss: 0.5146229863166809\n",
      "Epoch 990, Loss: 0.3455101251602173\n",
      "Epoch 0, Loss: 0.481492817401886\n",
      "Epoch 10, Loss: 0.4620392918586731\n",
      "Epoch 20, Loss: 0.3650900423526764\n",
      "Epoch 30, Loss: 0.4688369631767273\n",
      "Epoch 40, Loss: 0.3924209177494049\n",
      "Epoch 50, Loss: 0.3767217695713043\n",
      "Epoch 60, Loss: 0.48688098788261414\n",
      "Epoch 70, Loss: 0.38229525089263916\n",
      "Epoch 80, Loss: 0.4039324223995209\n",
      "Epoch 90, Loss: 0.4143696427345276\n",
      "Epoch 100, Loss: 0.3759663999080658\n",
      "Epoch 110, Loss: 0.3488670885562897\n",
      "Epoch 120, Loss: 0.3872230350971222\n",
      "Epoch 130, Loss: 0.3170970380306244\n",
      "Epoch 140, Loss: 0.4187174141407013\n",
      "Epoch 150, Loss: 0.390152245759964\n",
      "Epoch 160, Loss: 0.415728360414505\n",
      "Epoch 170, Loss: 0.4399861991405487\n",
      "Epoch 180, Loss: 0.4671289026737213\n",
      "Epoch 190, Loss: 0.41673460602760315\n",
      "Epoch 200, Loss: 0.3570175766944885\n",
      "Epoch 210, Loss: 0.41582924127578735\n",
      "Epoch 220, Loss: 0.48163682222366333\n",
      "Epoch 230, Loss: 0.4364067614078522\n",
      "Epoch 240, Loss: 0.3314204216003418\n",
      "Epoch 250, Loss: 0.3356372117996216\n",
      "Epoch 260, Loss: 0.48645803332328796\n",
      "Epoch 270, Loss: 0.4641062021255493\n",
      "Epoch 280, Loss: 0.3931477963924408\n",
      "Epoch 290, Loss: 0.3728818893432617\n",
      "Epoch 300, Loss: 0.32607296109199524\n",
      "Epoch 310, Loss: 0.3760683238506317\n",
      "Epoch 320, Loss: 0.4054281413555145\n",
      "Epoch 330, Loss: 0.39454385638237\n",
      "Epoch 340, Loss: 0.4184139668941498\n",
      "Epoch 350, Loss: 0.4455060362815857\n",
      "Epoch 360, Loss: 0.37295234203338623\n",
      "Epoch 370, Loss: 0.4017298221588135\n",
      "Epoch 380, Loss: 0.4350734055042267\n",
      "Epoch 390, Loss: 0.4322282373905182\n",
      "Epoch 400, Loss: 0.4401133954524994\n",
      "Epoch 410, Loss: 0.4312814772129059\n",
      "Epoch 420, Loss: 0.38640499114990234\n",
      "Epoch 430, Loss: 0.447238951921463\n",
      "Epoch 440, Loss: 0.4736737310886383\n",
      "Epoch 450, Loss: 0.3478679955005646\n",
      "Epoch 460, Loss: 0.4705057144165039\n",
      "Epoch 470, Loss: 0.46786561608314514\n",
      "Epoch 480, Loss: 0.3692871034145355\n",
      "Epoch 490, Loss: 0.37013325095176697\n",
      "Epoch 500, Loss: 0.4257540702819824\n",
      "Epoch 510, Loss: 0.4424091577529907\n",
      "Epoch 520, Loss: 0.40632307529449463\n",
      "Epoch 530, Loss: 0.43505486845970154\n",
      "Epoch 540, Loss: 0.3808092772960663\n",
      "Epoch 550, Loss: 0.36161065101623535\n",
      "Epoch 560, Loss: 0.4318469166755676\n",
      "Epoch 570, Loss: 0.4201233983039856\n",
      "Epoch 580, Loss: 0.4221388101577759\n",
      "Epoch 590, Loss: 0.3560329079627991\n",
      "Epoch 600, Loss: 0.43137961626052856\n",
      "Epoch 610, Loss: 0.3993581235408783\n",
      "Epoch 620, Loss: 0.47527015209198\n",
      "Epoch 630, Loss: 0.45395925641059875\n",
      "Epoch 640, Loss: 0.44590163230895996\n",
      "Epoch 650, Loss: 0.38094064593315125\n",
      "Epoch 660, Loss: 0.42279052734375\n",
      "Epoch 670, Loss: 0.42123711109161377\n",
      "Epoch 680, Loss: 0.34963977336883545\n",
      "Epoch 690, Loss: 0.4297872483730316\n",
      "Epoch 700, Loss: 0.3743796646595001\n",
      "Epoch 710, Loss: 0.4443885385990143\n",
      "Epoch 720, Loss: 0.4181008040904999\n",
      "Epoch 730, Loss: 0.441898912191391\n",
      "Epoch 740, Loss: 0.3825989365577698\n",
      "Epoch 750, Loss: 0.37456226348876953\n",
      "Epoch 760, Loss: 0.3822174072265625\n",
      "Epoch 770, Loss: 0.49353456497192383\n",
      "Epoch 780, Loss: 0.44590598344802856\n",
      "Epoch 790, Loss: 0.45094504952430725\n",
      "Epoch 800, Loss: 0.4314008951187134\n",
      "Epoch 810, Loss: 0.4165915846824646\n",
      "Epoch 820, Loss: 0.37174123525619507\n",
      "Epoch 830, Loss: 0.41520678997039795\n",
      "Epoch 840, Loss: 0.44806182384490967\n",
      "Epoch 850, Loss: 0.4446938931941986\n",
      "Epoch 860, Loss: 0.38951241970062256\n",
      "Epoch 870, Loss: 0.4185594916343689\n",
      "Epoch 880, Loss: 0.5823601484298706\n",
      "Epoch 890, Loss: 0.37001246213912964\n",
      "Epoch 900, Loss: 0.35703587532043457\n",
      "Epoch 910, Loss: 0.38060295581817627\n",
      "Epoch 920, Loss: 0.37530410289764404\n",
      "Epoch 930, Loss: 0.4877183437347412\n",
      "Epoch 940, Loss: 0.4362817704677582\n",
      "Epoch 950, Loss: 0.37423065304756165\n",
      "Epoch 960, Loss: 0.42265084385871887\n",
      "Epoch 970, Loss: 0.4094076454639435\n",
      "Epoch 980, Loss: 0.4416174292564392\n",
      "Epoch 990, Loss: 0.4022424519062042\n",
      "Epoch 0, Loss: 0.44732141494750977\n",
      "Epoch 10, Loss: 0.441446453332901\n",
      "Epoch 20, Loss: 0.4080233871936798\n",
      "Epoch 30, Loss: 0.36623525619506836\n",
      "Epoch 40, Loss: 0.3494194447994232\n",
      "Epoch 50, Loss: 0.4255712926387787\n",
      "Epoch 60, Loss: 0.3307114541530609\n",
      "Epoch 70, Loss: 0.3916449248790741\n",
      "Epoch 80, Loss: 0.4313304126262665\n",
      "Epoch 90, Loss: 0.48079365491867065\n",
      "Epoch 100, Loss: 0.43412232398986816\n",
      "Epoch 110, Loss: 0.47342807054519653\n",
      "Epoch 120, Loss: 0.41479212045669556\n",
      "Epoch 130, Loss: 0.47766777873039246\n",
      "Epoch 140, Loss: 0.40303835272789\n",
      "Epoch 150, Loss: 0.5353071093559265\n",
      "Epoch 160, Loss: 0.427832692861557\n",
      "Epoch 170, Loss: 0.2994004189968109\n",
      "Epoch 180, Loss: 0.39149010181427\n",
      "Epoch 190, Loss: 0.45548683404922485\n",
      "Epoch 200, Loss: 0.3770145773887634\n",
      "Epoch 210, Loss: 0.3848317563533783\n",
      "Epoch 220, Loss: 0.48292890191078186\n",
      "Epoch 230, Loss: 0.3760370910167694\n",
      "Epoch 240, Loss: 0.41883528232574463\n",
      "Epoch 250, Loss: 0.37955814599990845\n",
      "Epoch 260, Loss: 0.3850037157535553\n",
      "Epoch 270, Loss: 0.4023974537849426\n",
      "Epoch 280, Loss: 0.41786837577819824\n",
      "Epoch 290, Loss: 0.3910562992095947\n",
      "Epoch 300, Loss: 0.39280030131340027\n",
      "Epoch 310, Loss: 0.35349559783935547\n",
      "Epoch 320, Loss: 0.3828350305557251\n",
      "Epoch 330, Loss: 0.4479517638683319\n",
      "Epoch 340, Loss: 0.4099864065647125\n",
      "Epoch 350, Loss: 0.4945329427719116\n",
      "Epoch 360, Loss: 0.3703099489212036\n",
      "Epoch 370, Loss: 0.35331523418426514\n",
      "Epoch 380, Loss: 0.3574247360229492\n",
      "Epoch 390, Loss: 0.42969852685928345\n",
      "Epoch 400, Loss: 0.3734264075756073\n",
      "Epoch 410, Loss: 0.4681515097618103\n",
      "Epoch 420, Loss: 0.38378089666366577\n",
      "Epoch 430, Loss: 0.3958614766597748\n",
      "Epoch 440, Loss: 0.3950001299381256\n",
      "Epoch 450, Loss: 0.4291839599609375\n",
      "Epoch 460, Loss: 0.34334078431129456\n",
      "Epoch 470, Loss: 0.4403173327445984\n",
      "Epoch 480, Loss: 0.379377543926239\n",
      "Epoch 490, Loss: 0.31194356083869934\n",
      "Epoch 500, Loss: 0.4129810631275177\n",
      "Epoch 510, Loss: 0.4784042537212372\n",
      "Epoch 520, Loss: 0.3401297628879547\n",
      "Epoch 530, Loss: 0.4621473252773285\n",
      "Epoch 540, Loss: 0.41837379336357117\n",
      "Epoch 550, Loss: 0.43360379338264465\n",
      "Epoch 560, Loss: 0.354753702878952\n",
      "Epoch 570, Loss: 0.47243091464042664\n",
      "Epoch 580, Loss: 0.5003324747085571\n",
      "Epoch 590, Loss: 0.3462563157081604\n",
      "Epoch 600, Loss: 0.41328904032707214\n",
      "Epoch 610, Loss: 0.3855344355106354\n",
      "Epoch 620, Loss: 0.35662001371383667\n",
      "Epoch 630, Loss: 0.40597546100616455\n",
      "Epoch 640, Loss: 0.32998913526535034\n",
      "Epoch 650, Loss: 0.4305514693260193\n",
      "Epoch 660, Loss: 0.3574652671813965\n",
      "Epoch 670, Loss: 0.321537584066391\n",
      "Epoch 680, Loss: 0.39697057008743286\n",
      "Epoch 690, Loss: 0.358422189950943\n",
      "Epoch 700, Loss: 0.34918367862701416\n",
      "Epoch 710, Loss: 0.3836353123188019\n",
      "Epoch 720, Loss: 0.4054666757583618\n",
      "Epoch 730, Loss: 0.3916424512863159\n",
      "Epoch 740, Loss: 0.35884642601013184\n",
      "Epoch 750, Loss: 0.38990604877471924\n",
      "Epoch 760, Loss: 0.4277498424053192\n",
      "Epoch 770, Loss: 0.3717888295650482\n",
      "Epoch 780, Loss: 0.4301086664199829\n",
      "Epoch 790, Loss: 0.43015486001968384\n",
      "Epoch 800, Loss: 0.40853795409202576\n",
      "Epoch 810, Loss: 0.39377596974372864\n",
      "Epoch 820, Loss: 0.4294717013835907\n",
      "Epoch 830, Loss: 0.3499508500099182\n",
      "Epoch 840, Loss: 0.4561409056186676\n",
      "Epoch 850, Loss: 0.34906983375549316\n",
      "Epoch 860, Loss: 0.40387290716171265\n",
      "Epoch 870, Loss: 0.3896256685256958\n",
      "Epoch 880, Loss: 0.4569816291332245\n",
      "Epoch 890, Loss: 0.42652627825737\n",
      "Epoch 900, Loss: 0.3789070248603821\n",
      "Epoch 910, Loss: 0.43873465061187744\n",
      "Epoch 920, Loss: 0.45624902844429016\n",
      "Epoch 930, Loss: 0.479857474565506\n",
      "Epoch 940, Loss: 0.3449839949607849\n",
      "Epoch 950, Loss: 0.4327387511730194\n",
      "Epoch 960, Loss: 0.37267670035362244\n",
      "Epoch 970, Loss: 0.41533541679382324\n",
      "Epoch 980, Loss: 0.3759893476963043\n",
      "Epoch 990, Loss: 0.42033112049102783\n",
      "Epoch 0, Loss: 0.3785666823387146\n",
      "Epoch 10, Loss: 0.3651866614818573\n",
      "Epoch 20, Loss: 0.4195197522640228\n",
      "Epoch 30, Loss: 0.33335942029953003\n",
      "Epoch 40, Loss: 0.43666818737983704\n",
      "Epoch 50, Loss: 0.29063308238983154\n",
      "Epoch 60, Loss: 0.4580238461494446\n",
      "Epoch 70, Loss: 0.3773850202560425\n",
      "Epoch 80, Loss: 0.3366972804069519\n",
      "Epoch 90, Loss: 0.5079920291900635\n",
      "Epoch 100, Loss: 0.44948306679725647\n",
      "Epoch 110, Loss: 0.38817882537841797\n",
      "Epoch 120, Loss: 0.40932291746139526\n",
      "Epoch 130, Loss: 0.368411123752594\n",
      "Epoch 140, Loss: 0.2879180312156677\n",
      "Epoch 150, Loss: 0.38192445039749146\n",
      "Epoch 160, Loss: 0.42402204871177673\n",
      "Epoch 170, Loss: 0.4665999412536621\n",
      "Epoch 180, Loss: 0.3653424382209778\n",
      "Epoch 190, Loss: 0.40765380859375\n",
      "Epoch 200, Loss: 0.377257376909256\n",
      "Epoch 210, Loss: 0.3237825334072113\n",
      "Epoch 220, Loss: 0.2824949622154236\n",
      "Epoch 230, Loss: 0.45216861367225647\n",
      "Epoch 240, Loss: 0.28633496165275574\n",
      "Epoch 250, Loss: 0.46090465784072876\n",
      "Epoch 260, Loss: 0.4321727454662323\n",
      "Epoch 270, Loss: 0.428754985332489\n",
      "Epoch 280, Loss: 0.37942323088645935\n",
      "Epoch 290, Loss: 0.38080519437789917\n",
      "Epoch 300, Loss: 0.40561431646347046\n",
      "Epoch 310, Loss: 0.46857407689094543\n",
      "Epoch 320, Loss: 0.47726181149482727\n",
      "Epoch 330, Loss: 0.4215254485607147\n",
      "Epoch 340, Loss: 0.39876118302345276\n",
      "Epoch 350, Loss: 0.40343591570854187\n",
      "Epoch 360, Loss: 0.3968248665332794\n",
      "Epoch 370, Loss: 0.4150921404361725\n",
      "Epoch 380, Loss: 0.35504329204559326\n",
      "Epoch 390, Loss: 0.31728920340538025\n",
      "Epoch 400, Loss: 0.3641480803489685\n",
      "Epoch 410, Loss: 0.34262940287590027\n",
      "Epoch 420, Loss: 0.3416198492050171\n",
      "Epoch 430, Loss: 0.4020233750343323\n",
      "Epoch 440, Loss: 0.4931442439556122\n",
      "Epoch 450, Loss: 0.42940613627433777\n",
      "Epoch 460, Loss: 0.3381746709346771\n",
      "Epoch 470, Loss: 0.4019882082939148\n",
      "Epoch 480, Loss: 0.41610902547836304\n",
      "Epoch 490, Loss: 0.4230019748210907\n",
      "Epoch 500, Loss: 0.42988303303718567\n",
      "Epoch 510, Loss: 0.4364716410636902\n",
      "Epoch 520, Loss: 0.5376391410827637\n",
      "Epoch 530, Loss: 0.33075517416000366\n",
      "Epoch 540, Loss: 0.4234457015991211\n",
      "Epoch 550, Loss: 0.3701832890510559\n",
      "Epoch 560, Loss: 0.42718252539634705\n",
      "Epoch 570, Loss: 0.416944682598114\n",
      "Epoch 580, Loss: 0.42282557487487793\n",
      "Epoch 590, Loss: 0.34746265411376953\n",
      "Epoch 600, Loss: 0.4203278720378876\n",
      "Epoch 610, Loss: 0.48132067918777466\n",
      "Epoch 620, Loss: 0.39593133330345154\n",
      "Epoch 630, Loss: 0.36938825249671936\n",
      "Epoch 640, Loss: 0.4164128005504608\n",
      "Epoch 650, Loss: 0.3255312442779541\n",
      "Epoch 660, Loss: 0.40073704719543457\n",
      "Epoch 670, Loss: 0.32024604082107544\n",
      "Epoch 680, Loss: 0.416077196598053\n",
      "Epoch 690, Loss: 0.45054998993873596\n",
      "Epoch 700, Loss: 0.29327496886253357\n",
      "Epoch 710, Loss: 0.4134073555469513\n",
      "Epoch 720, Loss: 0.3241933286190033\n",
      "Epoch 730, Loss: 0.3880467712879181\n",
      "Epoch 740, Loss: 0.41017404198646545\n",
      "Epoch 750, Loss: 0.363596647977829\n",
      "Epoch 760, Loss: 0.40363338589668274\n",
      "Epoch 770, Loss: 0.44798123836517334\n",
      "Epoch 780, Loss: 0.37786829471588135\n",
      "Epoch 790, Loss: 0.4547625780105591\n",
      "Epoch 800, Loss: 0.294354110956192\n",
      "Epoch 810, Loss: 0.44753047823905945\n",
      "Epoch 820, Loss: 0.4293856620788574\n",
      "Epoch 830, Loss: 0.41619619727134705\n",
      "Epoch 840, Loss: 0.35537242889404297\n",
      "Epoch 850, Loss: 0.4456793963909149\n",
      "Epoch 860, Loss: 0.43762990832328796\n",
      "Epoch 870, Loss: 0.39002346992492676\n",
      "Epoch 880, Loss: 0.5158852338790894\n",
      "Epoch 890, Loss: 0.32152557373046875\n",
      "Epoch 900, Loss: 0.4605669379234314\n",
      "Epoch 910, Loss: 0.4746459424495697\n",
      "Epoch 920, Loss: 0.3653980791568756\n",
      "Epoch 930, Loss: 0.34113433957099915\n",
      "Epoch 940, Loss: 0.41236090660095215\n",
      "Epoch 950, Loss: 0.39890730381011963\n",
      "Epoch 960, Loss: 0.34453892707824707\n",
      "Epoch 970, Loss: 0.3923812508583069\n",
      "Epoch 980, Loss: 0.36456573009490967\n",
      "Epoch 990, Loss: 0.32963016629219055\n",
      "Epoch 0, Loss: 0.4124809801578522\n",
      "Epoch 10, Loss: 0.32464468479156494\n",
      "Epoch 20, Loss: 0.40879660844802856\n",
      "Epoch 30, Loss: 0.41874104738235474\n",
      "Epoch 40, Loss: 0.4569838047027588\n",
      "Epoch 50, Loss: 0.3857886493206024\n",
      "Epoch 60, Loss: 0.46183428168296814\n",
      "Epoch 70, Loss: 0.4805999994277954\n",
      "Epoch 80, Loss: 0.3196226954460144\n",
      "Epoch 90, Loss: 0.4214786887168884\n",
      "Epoch 100, Loss: 0.32157793641090393\n",
      "Epoch 110, Loss: 0.41224461793899536\n",
      "Epoch 120, Loss: 0.34877651929855347\n",
      "Epoch 130, Loss: 0.32315507531166077\n",
      "Epoch 140, Loss: 0.38933631777763367\n",
      "Epoch 150, Loss: 0.378200501203537\n",
      "Epoch 160, Loss: 0.45431575179100037\n",
      "Epoch 170, Loss: 0.3920589089393616\n",
      "Epoch 180, Loss: 0.42433905601501465\n",
      "Epoch 190, Loss: 0.4174651801586151\n",
      "Epoch 200, Loss: 0.45886242389678955\n",
      "Epoch 210, Loss: 0.3567183017730713\n",
      "Epoch 220, Loss: 0.5258388519287109\n",
      "Epoch 230, Loss: 0.3318907618522644\n",
      "Epoch 240, Loss: 0.4437158405780792\n",
      "Epoch 250, Loss: 0.3998406231403351\n",
      "Epoch 260, Loss: 0.3718847334384918\n",
      "Epoch 270, Loss: 0.36650609970092773\n",
      "Epoch 280, Loss: 0.3668023943901062\n",
      "Epoch 290, Loss: 0.35965442657470703\n",
      "Epoch 300, Loss: 0.401130735874176\n",
      "Epoch 310, Loss: 0.36962300539016724\n",
      "Epoch 320, Loss: 0.3681986927986145\n",
      "Epoch 330, Loss: 0.4948016107082367\n",
      "Epoch 340, Loss: 0.4662829041481018\n",
      "Epoch 350, Loss: 0.3423510193824768\n",
      "Epoch 360, Loss: 0.37330931425094604\n",
      "Epoch 370, Loss: 0.274292916059494\n",
      "Epoch 380, Loss: 0.4180404245853424\n",
      "Epoch 390, Loss: 0.4123551845550537\n",
      "Epoch 400, Loss: 0.509283721446991\n",
      "Epoch 410, Loss: 0.33050867915153503\n",
      "Epoch 420, Loss: 0.4240231513977051\n",
      "Epoch 430, Loss: 0.4253062307834625\n",
      "Epoch 440, Loss: 0.34186697006225586\n",
      "Epoch 450, Loss: 0.463054358959198\n",
      "Epoch 460, Loss: 0.4041454493999481\n",
      "Epoch 470, Loss: 0.4235048294067383\n",
      "Epoch 480, Loss: 0.35033971071243286\n",
      "Epoch 490, Loss: 0.33624714612960815\n",
      "Epoch 500, Loss: 0.3487279713153839\n",
      "Epoch 510, Loss: 0.5082364082336426\n",
      "Epoch 520, Loss: 0.37823691964149475\n",
      "Epoch 530, Loss: 0.3310362696647644\n",
      "Epoch 540, Loss: 0.46693798899650574\n",
      "Epoch 550, Loss: 0.36354729533195496\n",
      "Epoch 560, Loss: 0.41621094942092896\n",
      "Epoch 570, Loss: 0.33214041590690613\n",
      "Epoch 580, Loss: 0.35620543360710144\n",
      "Epoch 590, Loss: 0.38044384121894836\n",
      "Epoch 600, Loss: 0.38753002882003784\n",
      "Epoch 610, Loss: 0.44072937965393066\n",
      "Epoch 620, Loss: 0.34701916575431824\n",
      "Epoch 630, Loss: 0.4384368658065796\n",
      "Epoch 640, Loss: 0.3738710880279541\n",
      "Epoch 650, Loss: 0.3654496669769287\n",
      "Epoch 660, Loss: 0.446449339389801\n",
      "Epoch 670, Loss: 0.39169156551361084\n",
      "Epoch 680, Loss: 0.4124871790409088\n",
      "Epoch 690, Loss: 0.4365280270576477\n",
      "Epoch 700, Loss: 0.3884386122226715\n",
      "Epoch 710, Loss: 0.3888716697692871\n",
      "Epoch 720, Loss: 0.2497289925813675\n",
      "Epoch 730, Loss: 0.3654356002807617\n",
      "Epoch 740, Loss: 0.31640881299972534\n",
      "Epoch 750, Loss: 0.3650085926055908\n",
      "Epoch 760, Loss: 0.30863702297210693\n",
      "Epoch 770, Loss: 0.4512026309967041\n",
      "Epoch 780, Loss: 0.3855597674846649\n",
      "Epoch 790, Loss: 0.4014224708080292\n",
      "Epoch 800, Loss: 0.31698718667030334\n",
      "Epoch 810, Loss: 0.3367904722690582\n",
      "Epoch 820, Loss: 0.3091265559196472\n",
      "Epoch 830, Loss: 0.32345908880233765\n",
      "Epoch 840, Loss: 0.35160109400749207\n",
      "Epoch 850, Loss: 0.45461687445640564\n",
      "Epoch 860, Loss: 0.373710036277771\n",
      "Epoch 870, Loss: 0.4340563416481018\n",
      "Epoch 880, Loss: 0.43770405650138855\n",
      "Epoch 890, Loss: 0.4217463731765747\n",
      "Epoch 900, Loss: 0.3510729670524597\n",
      "Epoch 910, Loss: 0.3048858940601349\n",
      "Epoch 920, Loss: 0.3748769760131836\n",
      "Epoch 930, Loss: 0.47782468795776367\n",
      "Epoch 940, Loss: 0.407158762216568\n",
      "Epoch 950, Loss: 0.39342305064201355\n",
      "Epoch 960, Loss: 0.46638768911361694\n",
      "Epoch 970, Loss: 0.3589596450328827\n",
      "Epoch 980, Loss: 0.4085749089717865\n",
      "Epoch 990, Loss: 0.43987831473350525\n"
     ]
    }
   ],
   "source": [
    "model_nn=MLP(X_xgb.shape[1],128,1,5)\n",
    "\n",
    "X=torch.tensor(X_xgb.values,dtype=torch.float32)\n",
    "y=torch.tensor(y_xgb.values,dtype=torch.float32)\n",
    "dataset=torch.utils.data.TensorDataset(X,y)\n",
    "dataloader=torch.utils.data.DataLoader(dataset,batch_size=128,shuffle=True)\n",
    "\n",
    "optimizer=optim.Adam(model_nn.parameters(),lr=0.001)\n",
    "criterion=nn.BCELoss()\n",
    "device=torch.device('cuda' if torch.cuda.is_available() else 'mps' if torch.backends.mps.is_available() else 'cpu')\n",
    "model_nn.to(device)\n",
    "skf=StratifiedKFold(n_splits=5,shuffle=True,random_state=42)\n",
    "scores=[]\n",
    "model=MLP(X_xgb.shape[1],128,1,5)\n",
    "model.to(device)\n",
    "optimizer=optim.Adam(model.parameters(),lr=0.001)\n",
    "criterion=nn.BCELoss()\n",
    "dataset=torch.utils.data.TensorDataset(X,y)\n",
    "dataloader=torch.utils.data.DataLoader(dataset,batch_size=128,shuffle=True)\n",
    "def train_nn(model_nn,dataloader,criterion,optimizer,num_epochs):  \n",
    "    model_nn.to(device)\n",
    "    model_nn.train()\n",
    "    for epoch in range(num_epochs):\n",
    "        for inputs,labels in dataloader:\n",
    "            optimizer.zero_grad()\n",
    "        outputs=model_nn(inputs.to(device))\n",
    "        loss=criterion(outputs.view(-1),labels.view(-1).to(device))\n",
    "        loss.backward()\n",
    "        optimizer.step()\n",
    "        if epoch % 10 == 0:\n",
    "            print(f'Epoch {epoch}, Loss: {loss.item()}')\n",
    "\n",
    "\n",
    "for train_index, test_index in skf.split(torch.tensor(X_xgb.values,dtype=torch.float32),torch.tensor(y_xgb.values,dtype=torch.float32)):\n",
    "    X_train, X_test = X_xgb.iloc[train_index], X_xgb.iloc[test_index]\n",
    "    y_train, y_test = y_xgb.iloc[train_index], y_xgb.iloc[test_index]\n",
    "    train_nn(model,dataloader,criterion,optimizer,1000)\n",
    "    predictions = model(torch.tensor(X_test.values,dtype=torch.float32).to(device))\n",
    "    predictions = predictions.detach().cpu().numpy()\n",
    "    predictions = np.round(predictions)\n",
    "    scores.append(accuracy_score(y_test.values,predictions))\n",
    "\n",
    "\n"
   ]
  },
  {
   "cell_type": "code",
   "execution_count": 58,
   "metadata": {},
   "outputs": [
    {
     "data": {
      "text/plain": [
       "[np.float64(96.94413407821229),\n",
       " np.float64(95.84269662921348),\n",
       " np.float64(97.73033707865169),\n",
       " np.float64(96.31460674157303),\n",
       " np.float64(95.29213483146067)]"
      ]
     },
     "execution_count": 58,
     "metadata": {},
     "output_type": "execute_result"
    }
   ],
   "source": [
    "scores"
   ]
  },
  {
   "cell_type": "code",
   "execution_count": 84,
   "metadata": {},
   "outputs": [
    {
     "data": {
      "text/plain": [
       "array([[3, 0, 1, 0],\n",
       "       [1, 1, 1, 0],\n",
       "       [3, 1, 0, 0],\n",
       "       ...,\n",
       "       [3, 1, 1, 2],\n",
       "       [1, 0, 0, 0],\n",
       "       [3, 0, 0, 0]], shape=(891, 4))"
      ]
     },
     "execution_count": 84,
     "metadata": {},
     "output_type": "execute_result"
    }
   ],
   "source": [
    "X_xgb.values\n"
   ]
  },
  {
   "cell_type": "code",
   "execution_count": 86,
   "metadata": {},
   "outputs": [
    {
     "data": {
      "text/html": [
       "<style>#sk-container-id-5 {\n",
       "  /* Definition of color scheme common for light and dark mode */\n",
       "  --sklearn-color-text: #000;\n",
       "  --sklearn-color-text-muted: #666;\n",
       "  --sklearn-color-line: gray;\n",
       "  /* Definition of color scheme for unfitted estimators */\n",
       "  --sklearn-color-unfitted-level-0: #fff5e6;\n",
       "  --sklearn-color-unfitted-level-1: #f6e4d2;\n",
       "  --sklearn-color-unfitted-level-2: #ffe0b3;\n",
       "  --sklearn-color-unfitted-level-3: chocolate;\n",
       "  /* Definition of color scheme for fitted estimators */\n",
       "  --sklearn-color-fitted-level-0: #f0f8ff;\n",
       "  --sklearn-color-fitted-level-1: #d4ebff;\n",
       "  --sklearn-color-fitted-level-2: #b3dbfd;\n",
       "  --sklearn-color-fitted-level-3: cornflowerblue;\n",
       "\n",
       "  /* Specific color for light theme */\n",
       "  --sklearn-color-text-on-default-background: var(--sg-text-color, var(--theme-code-foreground, var(--jp-content-font-color1, black)));\n",
       "  --sklearn-color-background: var(--sg-background-color, var(--theme-background, var(--jp-layout-color0, white)));\n",
       "  --sklearn-color-border-box: var(--sg-text-color, var(--theme-code-foreground, var(--jp-content-font-color1, black)));\n",
       "  --sklearn-color-icon: #696969;\n",
       "\n",
       "  @media (prefers-color-scheme: dark) {\n",
       "    /* Redefinition of color scheme for dark theme */\n",
       "    --sklearn-color-text-on-default-background: var(--sg-text-color, var(--theme-code-foreground, var(--jp-content-font-color1, white)));\n",
       "    --sklearn-color-background: var(--sg-background-color, var(--theme-background, var(--jp-layout-color0, #111)));\n",
       "    --sklearn-color-border-box: var(--sg-text-color, var(--theme-code-foreground, var(--jp-content-font-color1, white)));\n",
       "    --sklearn-color-icon: #878787;\n",
       "  }\n",
       "}\n",
       "\n",
       "#sk-container-id-5 {\n",
       "  color: var(--sklearn-color-text);\n",
       "}\n",
       "\n",
       "#sk-container-id-5 pre {\n",
       "  padding: 0;\n",
       "}\n",
       "\n",
       "#sk-container-id-5 input.sk-hidden--visually {\n",
       "  border: 0;\n",
       "  clip: rect(1px 1px 1px 1px);\n",
       "  clip: rect(1px, 1px, 1px, 1px);\n",
       "  height: 1px;\n",
       "  margin: -1px;\n",
       "  overflow: hidden;\n",
       "  padding: 0;\n",
       "  position: absolute;\n",
       "  width: 1px;\n",
       "}\n",
       "\n",
       "#sk-container-id-5 div.sk-dashed-wrapped {\n",
       "  border: 1px dashed var(--sklearn-color-line);\n",
       "  margin: 0 0.4em 0.5em 0.4em;\n",
       "  box-sizing: border-box;\n",
       "  padding-bottom: 0.4em;\n",
       "  background-color: var(--sklearn-color-background);\n",
       "}\n",
       "\n",
       "#sk-container-id-5 div.sk-container {\n",
       "  /* jupyter's `normalize.less` sets `[hidden] { display: none; }`\n",
       "     but bootstrap.min.css set `[hidden] { display: none !important; }`\n",
       "     so we also need the `!important` here to be able to override the\n",
       "     default hidden behavior on the sphinx rendered scikit-learn.org.\n",
       "     See: https://github.com/scikit-learn/scikit-learn/issues/21755 */\n",
       "  display: inline-block !important;\n",
       "  position: relative;\n",
       "}\n",
       "\n",
       "#sk-container-id-5 div.sk-text-repr-fallback {\n",
       "  display: none;\n",
       "}\n",
       "\n",
       "div.sk-parallel-item,\n",
       "div.sk-serial,\n",
       "div.sk-item {\n",
       "  /* draw centered vertical line to link estimators */\n",
       "  background-image: linear-gradient(var(--sklearn-color-text-on-default-background), var(--sklearn-color-text-on-default-background));\n",
       "  background-size: 2px 100%;\n",
       "  background-repeat: no-repeat;\n",
       "  background-position: center center;\n",
       "}\n",
       "\n",
       "/* Parallel-specific style estimator block */\n",
       "\n",
       "#sk-container-id-5 div.sk-parallel-item::after {\n",
       "  content: \"\";\n",
       "  width: 100%;\n",
       "  border-bottom: 2px solid var(--sklearn-color-text-on-default-background);\n",
       "  flex-grow: 1;\n",
       "}\n",
       "\n",
       "#sk-container-id-5 div.sk-parallel {\n",
       "  display: flex;\n",
       "  align-items: stretch;\n",
       "  justify-content: center;\n",
       "  background-color: var(--sklearn-color-background);\n",
       "  position: relative;\n",
       "}\n",
       "\n",
       "#sk-container-id-5 div.sk-parallel-item {\n",
       "  display: flex;\n",
       "  flex-direction: column;\n",
       "}\n",
       "\n",
       "#sk-container-id-5 div.sk-parallel-item:first-child::after {\n",
       "  align-self: flex-end;\n",
       "  width: 50%;\n",
       "}\n",
       "\n",
       "#sk-container-id-5 div.sk-parallel-item:last-child::after {\n",
       "  align-self: flex-start;\n",
       "  width: 50%;\n",
       "}\n",
       "\n",
       "#sk-container-id-5 div.sk-parallel-item:only-child::after {\n",
       "  width: 0;\n",
       "}\n",
       "\n",
       "/* Serial-specific style estimator block */\n",
       "\n",
       "#sk-container-id-5 div.sk-serial {\n",
       "  display: flex;\n",
       "  flex-direction: column;\n",
       "  align-items: center;\n",
       "  background-color: var(--sklearn-color-background);\n",
       "  padding-right: 1em;\n",
       "  padding-left: 1em;\n",
       "}\n",
       "\n",
       "\n",
       "/* Toggleable style: style used for estimator/Pipeline/ColumnTransformer box that is\n",
       "clickable and can be expanded/collapsed.\n",
       "- Pipeline and ColumnTransformer use this feature and define the default style\n",
       "- Estimators will overwrite some part of the style using the `sk-estimator` class\n",
       "*/\n",
       "\n",
       "/* Pipeline and ColumnTransformer style (default) */\n",
       "\n",
       "#sk-container-id-5 div.sk-toggleable {\n",
       "  /* Default theme specific background. It is overwritten whether we have a\n",
       "  specific estimator or a Pipeline/ColumnTransformer */\n",
       "  background-color: var(--sklearn-color-background);\n",
       "}\n",
       "\n",
       "/* Toggleable label */\n",
       "#sk-container-id-5 label.sk-toggleable__label {\n",
       "  cursor: pointer;\n",
       "  display: flex;\n",
       "  width: 100%;\n",
       "  margin-bottom: 0;\n",
       "  padding: 0.5em;\n",
       "  box-sizing: border-box;\n",
       "  text-align: center;\n",
       "  align-items: start;\n",
       "  justify-content: space-between;\n",
       "  gap: 0.5em;\n",
       "}\n",
       "\n",
       "#sk-container-id-5 label.sk-toggleable__label .caption {\n",
       "  font-size: 0.6rem;\n",
       "  font-weight: lighter;\n",
       "  color: var(--sklearn-color-text-muted);\n",
       "}\n",
       "\n",
       "#sk-container-id-5 label.sk-toggleable__label-arrow:before {\n",
       "  /* Arrow on the left of the label */\n",
       "  content: \"▸\";\n",
       "  float: left;\n",
       "  margin-right: 0.25em;\n",
       "  color: var(--sklearn-color-icon);\n",
       "}\n",
       "\n",
       "#sk-container-id-5 label.sk-toggleable__label-arrow:hover:before {\n",
       "  color: var(--sklearn-color-text);\n",
       "}\n",
       "\n",
       "/* Toggleable content - dropdown */\n",
       "\n",
       "#sk-container-id-5 div.sk-toggleable__content {\n",
       "  max-height: 0;\n",
       "  max-width: 0;\n",
       "  overflow: hidden;\n",
       "  text-align: left;\n",
       "  /* unfitted */\n",
       "  background-color: var(--sklearn-color-unfitted-level-0);\n",
       "}\n",
       "\n",
       "#sk-container-id-5 div.sk-toggleable__content.fitted {\n",
       "  /* fitted */\n",
       "  background-color: var(--sklearn-color-fitted-level-0);\n",
       "}\n",
       "\n",
       "#sk-container-id-5 div.sk-toggleable__content pre {\n",
       "  margin: 0.2em;\n",
       "  border-radius: 0.25em;\n",
       "  color: var(--sklearn-color-text);\n",
       "  /* unfitted */\n",
       "  background-color: var(--sklearn-color-unfitted-level-0);\n",
       "}\n",
       "\n",
       "#sk-container-id-5 div.sk-toggleable__content.fitted pre {\n",
       "  /* unfitted */\n",
       "  background-color: var(--sklearn-color-fitted-level-0);\n",
       "}\n",
       "\n",
       "#sk-container-id-5 input.sk-toggleable__control:checked~div.sk-toggleable__content {\n",
       "  /* Expand drop-down */\n",
       "  max-height: 200px;\n",
       "  max-width: 100%;\n",
       "  overflow: auto;\n",
       "}\n",
       "\n",
       "#sk-container-id-5 input.sk-toggleable__control:checked~label.sk-toggleable__label-arrow:before {\n",
       "  content: \"▾\";\n",
       "}\n",
       "\n",
       "/* Pipeline/ColumnTransformer-specific style */\n",
       "\n",
       "#sk-container-id-5 div.sk-label input.sk-toggleable__control:checked~label.sk-toggleable__label {\n",
       "  color: var(--sklearn-color-text);\n",
       "  background-color: var(--sklearn-color-unfitted-level-2);\n",
       "}\n",
       "\n",
       "#sk-container-id-5 div.sk-label.fitted input.sk-toggleable__control:checked~label.sk-toggleable__label {\n",
       "  background-color: var(--sklearn-color-fitted-level-2);\n",
       "}\n",
       "\n",
       "/* Estimator-specific style */\n",
       "\n",
       "/* Colorize estimator box */\n",
       "#sk-container-id-5 div.sk-estimator input.sk-toggleable__control:checked~label.sk-toggleable__label {\n",
       "  /* unfitted */\n",
       "  background-color: var(--sklearn-color-unfitted-level-2);\n",
       "}\n",
       "\n",
       "#sk-container-id-5 div.sk-estimator.fitted input.sk-toggleable__control:checked~label.sk-toggleable__label {\n",
       "  /* fitted */\n",
       "  background-color: var(--sklearn-color-fitted-level-2);\n",
       "}\n",
       "\n",
       "#sk-container-id-5 div.sk-label label.sk-toggleable__label,\n",
       "#sk-container-id-5 div.sk-label label {\n",
       "  /* The background is the default theme color */\n",
       "  color: var(--sklearn-color-text-on-default-background);\n",
       "}\n",
       "\n",
       "/* On hover, darken the color of the background */\n",
       "#sk-container-id-5 div.sk-label:hover label.sk-toggleable__label {\n",
       "  color: var(--sklearn-color-text);\n",
       "  background-color: var(--sklearn-color-unfitted-level-2);\n",
       "}\n",
       "\n",
       "/* Label box, darken color on hover, fitted */\n",
       "#sk-container-id-5 div.sk-label.fitted:hover label.sk-toggleable__label.fitted {\n",
       "  color: var(--sklearn-color-text);\n",
       "  background-color: var(--sklearn-color-fitted-level-2);\n",
       "}\n",
       "\n",
       "/* Estimator label */\n",
       "\n",
       "#sk-container-id-5 div.sk-label label {\n",
       "  font-family: monospace;\n",
       "  font-weight: bold;\n",
       "  display: inline-block;\n",
       "  line-height: 1.2em;\n",
       "}\n",
       "\n",
       "#sk-container-id-5 div.sk-label-container {\n",
       "  text-align: center;\n",
       "}\n",
       "\n",
       "/* Estimator-specific */\n",
       "#sk-container-id-5 div.sk-estimator {\n",
       "  font-family: monospace;\n",
       "  border: 1px dotted var(--sklearn-color-border-box);\n",
       "  border-radius: 0.25em;\n",
       "  box-sizing: border-box;\n",
       "  margin-bottom: 0.5em;\n",
       "  /* unfitted */\n",
       "  background-color: var(--sklearn-color-unfitted-level-0);\n",
       "}\n",
       "\n",
       "#sk-container-id-5 div.sk-estimator.fitted {\n",
       "  /* fitted */\n",
       "  background-color: var(--sklearn-color-fitted-level-0);\n",
       "}\n",
       "\n",
       "/* on hover */\n",
       "#sk-container-id-5 div.sk-estimator:hover {\n",
       "  /* unfitted */\n",
       "  background-color: var(--sklearn-color-unfitted-level-2);\n",
       "}\n",
       "\n",
       "#sk-container-id-5 div.sk-estimator.fitted:hover {\n",
       "  /* fitted */\n",
       "  background-color: var(--sklearn-color-fitted-level-2);\n",
       "}\n",
       "\n",
       "/* Specification for estimator info (e.g. \"i\" and \"?\") */\n",
       "\n",
       "/* Common style for \"i\" and \"?\" */\n",
       "\n",
       ".sk-estimator-doc-link,\n",
       "a:link.sk-estimator-doc-link,\n",
       "a:visited.sk-estimator-doc-link {\n",
       "  float: right;\n",
       "  font-size: smaller;\n",
       "  line-height: 1em;\n",
       "  font-family: monospace;\n",
       "  background-color: var(--sklearn-color-background);\n",
       "  border-radius: 1em;\n",
       "  height: 1em;\n",
       "  width: 1em;\n",
       "  text-decoration: none !important;\n",
       "  margin-left: 0.5em;\n",
       "  text-align: center;\n",
       "  /* unfitted */\n",
       "  border: var(--sklearn-color-unfitted-level-1) 1pt solid;\n",
       "  color: var(--sklearn-color-unfitted-level-1);\n",
       "}\n",
       "\n",
       ".sk-estimator-doc-link.fitted,\n",
       "a:link.sk-estimator-doc-link.fitted,\n",
       "a:visited.sk-estimator-doc-link.fitted {\n",
       "  /* fitted */\n",
       "  border: var(--sklearn-color-fitted-level-1) 1pt solid;\n",
       "  color: var(--sklearn-color-fitted-level-1);\n",
       "}\n",
       "\n",
       "/* On hover */\n",
       "div.sk-estimator:hover .sk-estimator-doc-link:hover,\n",
       ".sk-estimator-doc-link:hover,\n",
       "div.sk-label-container:hover .sk-estimator-doc-link:hover,\n",
       ".sk-estimator-doc-link:hover {\n",
       "  /* unfitted */\n",
       "  background-color: var(--sklearn-color-unfitted-level-3);\n",
       "  color: var(--sklearn-color-background);\n",
       "  text-decoration: none;\n",
       "}\n",
       "\n",
       "div.sk-estimator.fitted:hover .sk-estimator-doc-link.fitted:hover,\n",
       ".sk-estimator-doc-link.fitted:hover,\n",
       "div.sk-label-container:hover .sk-estimator-doc-link.fitted:hover,\n",
       ".sk-estimator-doc-link.fitted:hover {\n",
       "  /* fitted */\n",
       "  background-color: var(--sklearn-color-fitted-level-3);\n",
       "  color: var(--sklearn-color-background);\n",
       "  text-decoration: none;\n",
       "}\n",
       "\n",
       "/* Span, style for the box shown on hovering the info icon */\n",
       ".sk-estimator-doc-link span {\n",
       "  display: none;\n",
       "  z-index: 9999;\n",
       "  position: relative;\n",
       "  font-weight: normal;\n",
       "  right: .2ex;\n",
       "  padding: .5ex;\n",
       "  margin: .5ex;\n",
       "  width: min-content;\n",
       "  min-width: 20ex;\n",
       "  max-width: 50ex;\n",
       "  color: var(--sklearn-color-text);\n",
       "  box-shadow: 2pt 2pt 4pt #999;\n",
       "  /* unfitted */\n",
       "  background: var(--sklearn-color-unfitted-level-0);\n",
       "  border: .5pt solid var(--sklearn-color-unfitted-level-3);\n",
       "}\n",
       "\n",
       ".sk-estimator-doc-link.fitted span {\n",
       "  /* fitted */\n",
       "  background: var(--sklearn-color-fitted-level-0);\n",
       "  border: var(--sklearn-color-fitted-level-3);\n",
       "}\n",
       "\n",
       ".sk-estimator-doc-link:hover span {\n",
       "  display: block;\n",
       "}\n",
       "\n",
       "/* \"?\"-specific style due to the `<a>` HTML tag */\n",
       "\n",
       "#sk-container-id-5 a.estimator_doc_link {\n",
       "  float: right;\n",
       "  font-size: 1rem;\n",
       "  line-height: 1em;\n",
       "  font-family: monospace;\n",
       "  background-color: var(--sklearn-color-background);\n",
       "  border-radius: 1rem;\n",
       "  height: 1rem;\n",
       "  width: 1rem;\n",
       "  text-decoration: none;\n",
       "  /* unfitted */\n",
       "  color: var(--sklearn-color-unfitted-level-1);\n",
       "  border: var(--sklearn-color-unfitted-level-1) 1pt solid;\n",
       "}\n",
       "\n",
       "#sk-container-id-5 a.estimator_doc_link.fitted {\n",
       "  /* fitted */\n",
       "  border: var(--sklearn-color-fitted-level-1) 1pt solid;\n",
       "  color: var(--sklearn-color-fitted-level-1);\n",
       "}\n",
       "\n",
       "/* On hover */\n",
       "#sk-container-id-5 a.estimator_doc_link:hover {\n",
       "  /* unfitted */\n",
       "  background-color: var(--sklearn-color-unfitted-level-3);\n",
       "  color: var(--sklearn-color-background);\n",
       "  text-decoration: none;\n",
       "}\n",
       "\n",
       "#sk-container-id-5 a.estimator_doc_link.fitted:hover {\n",
       "  /* fitted */\n",
       "  background-color: var(--sklearn-color-fitted-level-3);\n",
       "}\n",
       "</style><div id=\"sk-container-id-5\" class=\"sk-top-container\"><div class=\"sk-text-repr-fallback\"><pre>StackingClassifier(estimators=[(&#x27;rf&#x27;,\n",
       "                                RandomForestClassifier(max_depth=3,\n",
       "                                                       min_samples_split=4,\n",
       "                                                       n_estimators=109)),\n",
       "                               (&#x27;xgb&#x27;,\n",
       "                                XGBClassifier(base_score=None, booster=None,\n",
       "                                              callbacks=None,\n",
       "                                              colsample_bylevel=None,\n",
       "                                              colsample_bynode=None,\n",
       "                                              colsample_bytree=0.606919399878638,\n",
       "                                              device=None,\n",
       "                                              early_stopping_rounds=None,\n",
       "                                              enable_categorical=True,\n",
       "                                              eta=0.24715477742304046,\n",
       "                                              eval_me...\n",
       "                                              gamma=0.13193866337413052,\n",
       "                                              grow_policy=None,\n",
       "                                              importance_type=None,\n",
       "                                              interaction_constraints=None,\n",
       "                                              learning_rate=None, max_bin=None,\n",
       "                                              max_cat_threshold=None,\n",
       "                                              max_cat_to_onehot=None,\n",
       "                                              max_delta_step=None, max_depth=10,\n",
       "                                              max_leaves=None,\n",
       "                                              min_child_weight=1, missing=nan,\n",
       "                                              monotone_constraints=None,\n",
       "                                              multi_strategy=None,\n",
       "                                              n_estimators=None, n_jobs=None, ...))],\n",
       "                   final_estimator=LogisticRegression())</pre><b>In a Jupyter environment, please rerun this cell to show the HTML representation or trust the notebook. <br />On GitHub, the HTML representation is unable to render, please try loading this page with nbviewer.org.</b></div><div class=\"sk-container\" hidden><div class=\"sk-item sk-dashed-wrapped\"><div class=\"sk-label-container\"><div class=\"sk-label fitted sk-toggleable\"><input class=\"sk-toggleable__control sk-hidden--visually\" id=\"sk-estimator-id-11\" type=\"checkbox\" ><label for=\"sk-estimator-id-11\" class=\"sk-toggleable__label fitted sk-toggleable__label-arrow\"><div><div>StackingClassifier</div></div><div><a class=\"sk-estimator-doc-link fitted\" rel=\"noreferrer\" target=\"_blank\" href=\"https://scikit-learn.org/1.6/modules/generated/sklearn.ensemble.StackingClassifier.html\">?<span>Documentation for StackingClassifier</span></a><span class=\"sk-estimator-doc-link fitted\">i<span>Fitted</span></span></div></label><div class=\"sk-toggleable__content fitted\"><pre>StackingClassifier(estimators=[(&#x27;rf&#x27;,\n",
       "                                RandomForestClassifier(max_depth=3,\n",
       "                                                       min_samples_split=4,\n",
       "                                                       n_estimators=109)),\n",
       "                               (&#x27;xgb&#x27;,\n",
       "                                XGBClassifier(base_score=None, booster=None,\n",
       "                                              callbacks=None,\n",
       "                                              colsample_bylevel=None,\n",
       "                                              colsample_bynode=None,\n",
       "                                              colsample_bytree=0.606919399878638,\n",
       "                                              device=None,\n",
       "                                              early_stopping_rounds=None,\n",
       "                                              enable_categorical=True,\n",
       "                                              eta=0.24715477742304046,\n",
       "                                              eval_me...\n",
       "                                              gamma=0.13193866337413052,\n",
       "                                              grow_policy=None,\n",
       "                                              importance_type=None,\n",
       "                                              interaction_constraints=None,\n",
       "                                              learning_rate=None, max_bin=None,\n",
       "                                              max_cat_threshold=None,\n",
       "                                              max_cat_to_onehot=None,\n",
       "                                              max_delta_step=None, max_depth=10,\n",
       "                                              max_leaves=None,\n",
       "                                              min_child_weight=1, missing=nan,\n",
       "                                              monotone_constraints=None,\n",
       "                                              multi_strategy=None,\n",
       "                                              n_estimators=None, n_jobs=None, ...))],\n",
       "                   final_estimator=LogisticRegression())</pre></div> </div></div><div class=\"sk-serial\"><div class=\"sk-item\"><div class=\"sk-parallel\"><div class=\"sk-parallel-item\"><div class=\"sk-item\"><div class=\"sk-label-container\"><div class=\"sk-label fitted sk-toggleable\"><label>rf</label></div></div><div class=\"sk-serial\"><div class=\"sk-item\"><div class=\"sk-estimator fitted sk-toggleable\"><input class=\"sk-toggleable__control sk-hidden--visually\" id=\"sk-estimator-id-12\" type=\"checkbox\" ><label for=\"sk-estimator-id-12\" class=\"sk-toggleable__label fitted sk-toggleable__label-arrow\"><div><div>RandomForestClassifier</div></div><div><a class=\"sk-estimator-doc-link fitted\" rel=\"noreferrer\" target=\"_blank\" href=\"https://scikit-learn.org/1.6/modules/generated/sklearn.ensemble.RandomForestClassifier.html\">?<span>Documentation for RandomForestClassifier</span></a></div></label><div class=\"sk-toggleable__content fitted\"><pre>RandomForestClassifier(max_depth=3, min_samples_split=4, n_estimators=109)</pre></div> </div></div></div></div></div><div class=\"sk-parallel-item\"><div class=\"sk-item\"><div class=\"sk-label-container\"><div class=\"sk-label fitted sk-toggleable\"><label>xgb</label></div></div><div class=\"sk-serial\"><div class=\"sk-item\"><div class=\"sk-estimator fitted sk-toggleable\"><input class=\"sk-toggleable__control sk-hidden--visually\" id=\"sk-estimator-id-13\" type=\"checkbox\" ><label for=\"sk-estimator-id-13\" class=\"sk-toggleable__label fitted sk-toggleable__label-arrow\"><div><div>XGBClassifier</div></div><div><a class=\"sk-estimator-doc-link fitted\" rel=\"noreferrer\" target=\"_blank\" href=\"https://xgboost.readthedocs.io/en/release_3.0.0/python/python_api.html#xgboost.XGBClassifier\">?<span>Documentation for XGBClassifier</span></a></div></label><div class=\"sk-toggleable__content fitted\"><pre>XGBClassifier(base_score=None, booster=None, callbacks=None,\n",
       "              colsample_bylevel=None, colsample_bynode=None,\n",
       "              colsample_bytree=0.606919399878638, device=None,\n",
       "              early_stopping_rounds=None, enable_categorical=True,\n",
       "              eta=0.24715477742304046, eval_metric=None, feature_types=None,\n",
       "              feature_weights=None, gamma=0.13193866337413052, grow_policy=None,\n",
       "              importance_type=None, interaction_constraints=None,\n",
       "              learning_rate=None, max_bin=None, max_cat_threshold=None,\n",
       "              max_cat_to_onehot=None, max_delta_step=None, max_depth=10,\n",
       "              max_leaves=None, min_child_weight=1, missing=nan,\n",
       "              monotone_constraints=None, multi_strategy=None, n_estimators=None,\n",
       "              n_jobs=None, ...)</pre></div> </div></div></div></div></div></div></div><div class=\"sk-item\"><div class=\"sk-parallel\"><div class=\"sk-parallel-item\"><div class=\"sk-item\"><div class=\"sk-label-container\"><div class=\"sk-label fitted sk-toggleable\"><label>final_estimator</label></div></div><div class=\"sk-serial\"><div class=\"sk-item\"><div class=\"sk-estimator fitted sk-toggleable\"><input class=\"sk-toggleable__control sk-hidden--visually\" id=\"sk-estimator-id-14\" type=\"checkbox\" ><label for=\"sk-estimator-id-14\" class=\"sk-toggleable__label fitted sk-toggleable__label-arrow\"><div><div>LogisticRegression</div></div><div><a class=\"sk-estimator-doc-link fitted\" rel=\"noreferrer\" target=\"_blank\" href=\"https://scikit-learn.org/1.6/modules/generated/sklearn.linear_model.LogisticRegression.html\">?<span>Documentation for LogisticRegression</span></a></div></label><div class=\"sk-toggleable__content fitted\"><pre>LogisticRegression()</pre></div> </div></div></div></div></div></div></div></div></div></div></div>"
      ],
      "text/plain": [
       "StackingClassifier(estimators=[('rf',\n",
       "                                RandomForestClassifier(max_depth=3,\n",
       "                                                       min_samples_split=4,\n",
       "                                                       n_estimators=109)),\n",
       "                               ('xgb',\n",
       "                                XGBClassifier(base_score=None, booster=None,\n",
       "                                              callbacks=None,\n",
       "                                              colsample_bylevel=None,\n",
       "                                              colsample_bynode=None,\n",
       "                                              colsample_bytree=0.606919399878638,\n",
       "                                              device=None,\n",
       "                                              early_stopping_rounds=None,\n",
       "                                              enable_categorical=True,\n",
       "                                              eta=0.24715477742304046,\n",
       "                                              eval_me...\n",
       "                                              gamma=0.13193866337413052,\n",
       "                                              grow_policy=None,\n",
       "                                              importance_type=None,\n",
       "                                              interaction_constraints=None,\n",
       "                                              learning_rate=None, max_bin=None,\n",
       "                                              max_cat_threshold=None,\n",
       "                                              max_cat_to_onehot=None,\n",
       "                                              max_delta_step=None, max_depth=10,\n",
       "                                              max_leaves=None,\n",
       "                                              min_child_weight=1, missing=nan,\n",
       "                                              monotone_constraints=None,\n",
       "                                              multi_strategy=None,\n",
       "                                              n_estimators=None, n_jobs=None, ...))],\n",
       "                   final_estimator=LogisticRegression())"
      ]
     },
     "execution_count": 86,
     "metadata": {},
     "output_type": "execute_result"
    }
   ],
   "source": [
    "from sklearn.ensemble import StackingClassifier\n",
    "from sklearn.linear_model import LogisticRegression\n",
    "\n",
    "estimators = [\n",
    "    ('rf', rf_model),\n",
    "    ('xgb', xgb_model),\n",
    "]\n",
    "\n",
    "stacking_clf = StackingClassifier(\n",
    "    estimators=estimators,\n",
    "    final_estimator=LogisticRegression()\n",
    ")\n",
    "\n",
    "stacking_clf.fit(X_xgb, y_xgb)"
   ]
  },
  {
   "cell_type": "code",
   "execution_count": 69,
   "metadata": {},
   "outputs": [
    {
     "data": {
      "text/html": [
       "<div><style>\n",
       ".dataframe > thead > tr,\n",
       ".dataframe > tbody > tr {\n",
       "  text-align: right;\n",
       "  white-space: pre-wrap;\n",
       "}\n",
       "</style>\n",
       "<small>shape: (5, 4)</small><table border=\"1\" class=\"dataframe\"><thead><tr><th>Pclass</th><th>Sex</th><th>SibSp</th><th>Parch</th></tr><tr><td>i64</td><td>i64</td><td>i64</td><td>i64</td></tr></thead><tbody><tr><td>3</td><td>0</td><td>0</td><td>0</td></tr><tr><td>3</td><td>1</td><td>1</td><td>0</td></tr><tr><td>2</td><td>0</td><td>0</td><td>0</td></tr><tr><td>3</td><td>0</td><td>0</td><td>0</td></tr><tr><td>3</td><td>1</td><td>1</td><td>1</td></tr></tbody></table></div>"
      ],
      "text/plain": [
       "shape: (5, 4)\n",
       "┌────────┬─────┬───────┬───────┐\n",
       "│ Pclass ┆ Sex ┆ SibSp ┆ Parch │\n",
       "│ ---    ┆ --- ┆ ---   ┆ ---   │\n",
       "│ i64    ┆ i64 ┆ i64   ┆ i64   │\n",
       "╞════════╪═════╪═══════╪═══════╡\n",
       "│ 3      ┆ 0   ┆ 0     ┆ 0     │\n",
       "│ 3      ┆ 1   ┆ 1     ┆ 0     │\n",
       "│ 2      ┆ 0   ┆ 0     ┆ 0     │\n",
       "│ 3      ┆ 0   ┆ 0     ┆ 0     │\n",
       "│ 3      ┆ 1   ┆ 1     ┆ 1     │\n",
       "└────────┴─────┴───────┴───────┘"
      ]
     },
     "execution_count": 69,
     "metadata": {},
     "output_type": "execute_result"
    }
   ],
   "source": [
    "test_data = pl.read_csv('test.csv')\n",
    "\n",
    "test_data_xgb = test_data[list(X_xgb.columns)]\n",
    "\n",
    "test_data_xgb = test_data_xgb.with_columns(pl.col('Sex').map_elements(lambda x: 0 if x == 'male' else 1,return_dtype=pl.Int64))\n",
    "\n",
    "test_data_xgb.head()"
   ]
  },
  {
   "cell_type": "code",
   "execution_count": 70,
   "metadata": {},
   "outputs": [],
   "source": [
    "predictions = stacking_clf.predict(test_data_xgb)"
   ]
  },
  {
   "cell_type": "code",
   "execution_count": 89,
   "metadata": {},
   "outputs": [],
   "source": [
    "nn_predictions = nn_estimator.predict(test_data_xgb.to_pandas())"
   ]
  },
  {
   "cell_type": "code",
   "execution_count": 92,
   "metadata": {},
   "outputs": [
    {
     "data": {
      "text/plain": [
       "array([0., 1., 0., 0., 1., 0., 1., 0., 1., 0., 0., 0., 1., 0., 1., 1., 0.,\n",
       "       0., 1., 1., 0., 0., 1., 0., 1., 0., 1., 0., 0., 0., 0., 0., 0., 0.,\n",
       "       0., 0., 1., 1., 0., 0., 0., 0., 0., 1., 1., 0., 0., 0., 1., 1., 0.,\n",
       "       0., 1., 1., 0., 0., 0., 0., 0., 1., 0., 0., 0., 1., 0., 1., 1., 0.,\n",
       "       0., 1., 1., 0., 1., 0., 1., 0., 0., 1., 0., 1., 0., 0., 0., 0., 0.,\n",
       "       0., 1., 1., 1., 0., 1., 0., 1., 0., 0., 0., 1., 0., 1., 0., 1., 0.,\n",
       "       0., 0., 1., 0., 0., 0., 0., 0., 0., 1., 1., 1., 1., 0., 0., 1., 0.,\n",
       "       1., 1., 0., 1., 0., 0., 1., 0., 1., 0., 0., 0., 0., 0., 0., 0., 0.,\n",
       "       0., 0., 1., 0., 0., 1., 0., 0., 0., 0., 0., 0., 0., 0., 1., 0., 0.,\n",
       "       1., 0., 0., 1., 1., 0., 1., 1., 0., 1., 0., 0., 1., 0., 0., 1., 1.,\n",
       "       0., 0., 0., 0., 0., 1., 1., 0., 1., 1., 0., 0., 1., 0., 1., 0., 1.,\n",
       "       0., 0., 0., 0., 0., 0., 0., 0., 0., 0., 1., 0., 1., 1., 0., 0., 1.,\n",
       "       0., 0., 1., 0., 1., 0., 0., 0., 0., 1., 0., 0., 1., 0., 1., 0., 1.,\n",
       "       0., 1., 0., 1., 1., 0., 1., 0., 0., 0., 1., 0., 0., 0., 0., 0., 0.,\n",
       "       1., 1., 1., 1., 0., 0., 0., 0., 1., 0., 1., 1., 1., 0., 0., 0., 0.,\n",
       "       0., 0., 0., 1., 0., 0., 0., 1., 1., 0., 0., 0., 0., 1., 0., 0., 0.,\n",
       "       1., 1., 0., 1., 0., 0., 0., 0., 1., 0., 1., 1., 1., 0., 0., 0., 0.,\n",
       "       0., 0., 1., 0., 0., 0., 0., 1., 0., 0., 0., 0., 0., 0., 0., 1., 1.,\n",
       "       0., 0., 0., 1., 0., 0., 0., 1., 1., 1., 0., 0., 0., 0., 0., 0., 0.,\n",
       "       0., 1., 0., 1., 0., 0., 0., 1., 0., 0., 1., 0., 0., 0., 0., 0., 0.,\n",
       "       0., 0., 0., 1., 0., 1., 0., 1., 0., 1., 1., 0., 0., 0., 0., 0., 1.,\n",
       "       0., 0., 1., 0., 1., 1., 0., 1., 0., 0., 1., 1., 0., 0., 1., 0., 0.,\n",
       "       1., 1., 1., 0., 0., 0., 0., 0., 1., 1., 0., 1., 0., 0., 0., 0., 0.,\n",
       "       1., 0., 0., 0., 1., 0., 1., 0., 0., 1., 0., 1., 0., 0., 0., 0., 0.,\n",
       "       1., 1., 1., 1., 1., 0., 1., 0., 0., 0.])"
      ]
     },
     "execution_count": 92,
     "metadata": {},
     "output_type": "execute_result"
    }
   ],
   "source": [
    "np.round((nn_predictions+predictions)/2)"
   ]
  },
  {
   "cell_type": "code",
   "execution_count": 93,
   "metadata": {},
   "outputs": [],
   "source": [
    "pl.DataFrame({'PassengerId': test_data['PassengerId'], 'Survived': predictions}).write_csv('submission.csv', separator=',')"
   ]
  },
  {
   "cell_type": "code",
   "execution_count": null,
   "metadata": {},
   "outputs": [],
   "source": []
  }
 ],
 "metadata": {
  "kernelspec": {
   "display_name": "2-_titanic_survival_prediction-75wUMd8T-py3.12",
   "language": "python",
   "name": "python3"
  },
  "language_info": {
   "codemirror_mode": {
    "name": "ipython",
    "version": 3
   },
   "file_extension": ".py",
   "mimetype": "text/x-python",
   "name": "python",
   "nbconvert_exporter": "python",
   "pygments_lexer": "ipython3",
   "version": "3.12.5"
  }
 },
 "nbformat": 4,
 "nbformat_minor": 2
}
